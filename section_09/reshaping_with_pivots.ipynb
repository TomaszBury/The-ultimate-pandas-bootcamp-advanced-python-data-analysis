{
 "cells": [
  {
   "cell_type": "code",
   "execution_count": 23,
   "metadata": {},
   "outputs": [],
   "source": [
    "import pandas as pd\n",
    "import numpy as np"
   ]
  },
  {
   "cell_type": "code",
   "execution_count": 24,
   "metadata": {},
   "outputs": [
    {
     "data": {
      "text/plain": [
       "'1.5.1'"
      ]
     },
     "execution_count": 24,
     "metadata": {},
     "output_type": "execute_result"
    }
   ],
   "source": [
    "pd.__version__"
   ]
  },
  {
   "cell_type": "markdown",
   "metadata": {},
   "source": [
    "### New Data: New York City SAT Scores\n",
    "\n",
    "https://andybek.com/pandas-sat"
   ]
  },
  {
   "cell_type": "code",
   "execution_count": 25,
   "metadata": {},
   "outputs": [],
   "source": [
    "sat_url = 'https://andybek.com/pandas-sat'"
   ]
  },
  {
   "cell_type": "code",
   "execution_count": 27,
   "metadata": {},
   "outputs": [
    {
     "data": {
      "text/html": [
       "<div>\n",
       "<style scoped>\n",
       "    .dataframe tbody tr th:only-of-type {\n",
       "        vertical-align: middle;\n",
       "    }\n",
       "\n",
       "    .dataframe tbody tr th {\n",
       "        vertical-align: top;\n",
       "    }\n",
       "\n",
       "    .dataframe thead th {\n",
       "        text-align: right;\n",
       "    }\n",
       "</style>\n",
       "<table border=\"1\" class=\"dataframe\">\n",
       "  <thead>\n",
       "    <tr style=\"text-align: right;\">\n",
       "      <th></th>\n",
       "      <th>School Name</th>\n",
       "      <th>Borough</th>\n",
       "      <th>Student Enrollment</th>\n",
       "      <th>Percent Tested</th>\n",
       "      <th>SAT Section</th>\n",
       "      <th>Score</th>\n",
       "    </tr>\n",
       "  </thead>\n",
       "  <tbody>\n",
       "    <tr>\n",
       "      <th>0</th>\n",
       "      <td>A. Philip Randolph Campus High School</td>\n",
       "      <td>Manhattan</td>\n",
       "      <td>1354</td>\n",
       "      <td>74.00%</td>\n",
       "      <td>Math</td>\n",
       "      <td>459</td>\n",
       "    </tr>\n",
       "    <tr>\n",
       "      <th>1</th>\n",
       "      <td>A. Philip Randolph Campus High School</td>\n",
       "      <td>Manhattan</td>\n",
       "      <td>1354</td>\n",
       "      <td>74.00%</td>\n",
       "      <td>Reading</td>\n",
       "      <td>453</td>\n",
       "    </tr>\n",
       "    <tr>\n",
       "      <th>2</th>\n",
       "      <td>A. Philip Randolph Campus High School</td>\n",
       "      <td>Manhattan</td>\n",
       "      <td>1354</td>\n",
       "      <td>74.00%</td>\n",
       "      <td>Writing</td>\n",
       "      <td>447</td>\n",
       "    </tr>\n",
       "    <tr>\n",
       "      <th>3</th>\n",
       "      <td>Abraham Lincoln High School</td>\n",
       "      <td>Brooklyn</td>\n",
       "      <td>2341</td>\n",
       "      <td>54.90%</td>\n",
       "      <td>Math</td>\n",
       "      <td>441</td>\n",
       "    </tr>\n",
       "    <tr>\n",
       "      <th>4</th>\n",
       "      <td>Abraham Lincoln High School</td>\n",
       "      <td>Brooklyn</td>\n",
       "      <td>2341</td>\n",
       "      <td>54.90%</td>\n",
       "      <td>Reading</td>\n",
       "      <td>422</td>\n",
       "    </tr>\n",
       "  </tbody>\n",
       "</table>\n",
       "</div>"
      ],
      "text/plain": [
       "                             School Name    Borough  Student Enrollment  \\\n",
       "0  A. Philip Randolph Campus High School  Manhattan                1354   \n",
       "1  A. Philip Randolph Campus High School  Manhattan                1354   \n",
       "2  A. Philip Randolph Campus High School  Manhattan                1354   \n",
       "3            Abraham Lincoln High School   Brooklyn                2341   \n",
       "4            Abraham Lincoln High School   Brooklyn                2341   \n",
       "\n",
       "  Percent Tested SAT Section  Score  \n",
       "0         74.00%        Math    459  \n",
       "1         74.00%     Reading    453  \n",
       "2         74.00%     Writing    447  \n",
       "3         54.90%        Math    441  \n",
       "4         54.90%     Reading    422  "
      ]
     },
     "execution_count": 27,
     "metadata": {},
     "output_type": "execute_result"
    }
   ],
   "source": [
    "sat = pd.read_csv(sat_url)\n",
    "sat.head(n=5)"
   ]
  },
  {
   "cell_type": "code",
   "execution_count": 28,
   "metadata": {},
   "outputs": [
    {
     "name": "stdout",
     "output_type": "stream",
     "text": [
      "<class 'pandas.core.frame.DataFrame'>\n",
      "RangeIndex: 1125 entries, 0 to 1124\n",
      "Data columns (total 6 columns):\n",
      " #   Column              Non-Null Count  Dtype \n",
      "---  ------              --------------  ----- \n",
      " 0   School Name         1125 non-null   object\n",
      " 1   Borough             1125 non-null   object\n",
      " 2   Student Enrollment  1125 non-null   int64 \n",
      " 3   Percent Tested      1125 non-null   object\n",
      " 4   SAT Section         1125 non-null   object\n",
      " 5   Score               1125 non-null   int64 \n",
      "dtypes: int64(2), object(4)\n",
      "memory usage: 52.9+ KB\n"
     ]
    }
   ],
   "source": [
    "sat.info()"
   ]
  },
  {
   "cell_type": "code",
   "execution_count": 32,
   "metadata": {},
   "outputs": [],
   "source": [
    "sat['Percent Tested'] = sat['Percent Tested'].replace(regex='%', value='').astype(float)"
   ]
  },
  {
   "cell_type": "code",
   "execution_count": 33,
   "metadata": {},
   "outputs": [
    {
     "name": "stdout",
     "output_type": "stream",
     "text": [
      "<class 'pandas.core.frame.DataFrame'>\n",
      "RangeIndex: 1125 entries, 0 to 1124\n",
      "Data columns (total 6 columns):\n",
      " #   Column              Non-Null Count  Dtype  \n",
      "---  ------              --------------  -----  \n",
      " 0   School Name         1125 non-null   object \n",
      " 1   Borough             1125 non-null   object \n",
      " 2   Student Enrollment  1125 non-null   int64  \n",
      " 3   Percent Tested      1125 non-null   float64\n",
      " 4   SAT Section         1125 non-null   object \n",
      " 5   Score               1125 non-null   int64  \n",
      "dtypes: float64(1), int64(2), object(3)\n",
      "memory usage: 52.9+ KB\n"
     ]
    }
   ],
   "source": [
    "sat.info()"
   ]
  },
  {
   "cell_type": "code",
   "execution_count": 34,
   "metadata": {},
   "outputs": [
    {
     "data": {
      "text/html": [
       "<div>\n",
       "<style scoped>\n",
       "    .dataframe tbody tr th:only-of-type {\n",
       "        vertical-align: middle;\n",
       "    }\n",
       "\n",
       "    .dataframe tbody tr th {\n",
       "        vertical-align: top;\n",
       "    }\n",
       "\n",
       "    .dataframe thead th {\n",
       "        text-align: right;\n",
       "    }\n",
       "</style>\n",
       "<table border=\"1\" class=\"dataframe\">\n",
       "  <thead>\n",
       "    <tr style=\"text-align: right;\">\n",
       "      <th></th>\n",
       "      <th>School Name</th>\n",
       "      <th>Borough</th>\n",
       "      <th>Student Enrollment</th>\n",
       "      <th>Percent Tested</th>\n",
       "      <th>SAT Section</th>\n",
       "      <th>Score</th>\n",
       "    </tr>\n",
       "  </thead>\n",
       "  <tbody>\n",
       "    <tr>\n",
       "      <th>0</th>\n",
       "      <td>A. Philip Randolph Campus High School</td>\n",
       "      <td>Manhattan</td>\n",
       "      <td>1354</td>\n",
       "      <td>74.0</td>\n",
       "      <td>Math</td>\n",
       "      <td>459</td>\n",
       "    </tr>\n",
       "    <tr>\n",
       "      <th>1</th>\n",
       "      <td>A. Philip Randolph Campus High School</td>\n",
       "      <td>Manhattan</td>\n",
       "      <td>1354</td>\n",
       "      <td>74.0</td>\n",
       "      <td>Reading</td>\n",
       "      <td>453</td>\n",
       "    </tr>\n",
       "    <tr>\n",
       "      <th>2</th>\n",
       "      <td>A. Philip Randolph Campus High School</td>\n",
       "      <td>Manhattan</td>\n",
       "      <td>1354</td>\n",
       "      <td>74.0</td>\n",
       "      <td>Writing</td>\n",
       "      <td>447</td>\n",
       "    </tr>\n",
       "    <tr>\n",
       "      <th>3</th>\n",
       "      <td>Abraham Lincoln High School</td>\n",
       "      <td>Brooklyn</td>\n",
       "      <td>2341</td>\n",
       "      <td>54.9</td>\n",
       "      <td>Math</td>\n",
       "      <td>441</td>\n",
       "    </tr>\n",
       "    <tr>\n",
       "      <th>4</th>\n",
       "      <td>Abraham Lincoln High School</td>\n",
       "      <td>Brooklyn</td>\n",
       "      <td>2341</td>\n",
       "      <td>54.9</td>\n",
       "      <td>Reading</td>\n",
       "      <td>422</td>\n",
       "    </tr>\n",
       "  </tbody>\n",
       "</table>\n",
       "</div>"
      ],
      "text/plain": [
       "                             School Name    Borough  Student Enrollment  \\\n",
       "0  A. Philip Randolph Campus High School  Manhattan                1354   \n",
       "1  A. Philip Randolph Campus High School  Manhattan                1354   \n",
       "2  A. Philip Randolph Campus High School  Manhattan                1354   \n",
       "3            Abraham Lincoln High School   Brooklyn                2341   \n",
       "4            Abraham Lincoln High School   Brooklyn                2341   \n",
       "\n",
       "   Percent Tested SAT Section  Score  \n",
       "0            74.0        Math    459  \n",
       "1            74.0     Reading    453  \n",
       "2            74.0     Writing    447  \n",
       "3            54.9        Math    441  \n",
       "4            54.9     Reading    422  "
      ]
     },
     "execution_count": 34,
     "metadata": {},
     "output_type": "execute_result"
    }
   ],
   "source": [
    "sat.head()"
   ]
  },
  {
   "cell_type": "code",
   "execution_count": null,
   "metadata": {},
   "outputs": [],
   "source": []
  }
 ],
 "metadata": {
  "kernelspec": {
   "display_name": "Python 3.11.0 64-bit",
   "language": "python",
   "name": "python3"
  },
  "language_info": {
   "codemirror_mode": {
    "name": "ipython",
    "version": 3
   },
   "file_extension": ".py",
   "mimetype": "text/x-python",
   "name": "python",
   "nbconvert_exporter": "python",
   "pygments_lexer": "ipython3",
   "version": "3.11.0"
  },
  "orig_nbformat": 4,
  "vscode": {
   "interpreter": {
    "hash": "aee8b7b246df8f9039afb4144a1f6fd8d2ca17a180786b69acc140d282b71a49"
   }
  }
 },
 "nbformat": 4,
 "nbformat_minor": 2
}
