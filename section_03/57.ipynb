{
 "cells": [
  {
   "cell_type": "code",
   "execution_count": 1,
   "metadata": {},
   "outputs": [],
   "source": [
    "import pandas as pd"
   ]
  },
  {
   "cell_type": "code",
   "execution_count": 2,
   "metadata": {},
   "outputs": [
    {
     "data": {
      "text/plain": [
       "country\n",
       "Afghanistan      NaN\n",
       "Albania         54.0\n",
       "Algeria         14.0\n",
       "Andorra        312.0\n",
       "Angola          45.0\n",
       "Name: wine_servings, dtype: float64"
      ]
     },
     "execution_count": 2,
     "metadata": {},
     "output_type": "execute_result"
    }
   ],
   "source": [
    "url = 'https://gist.githubusercontent.com/sh7ata/e075ff35b51ebb0d2d577fbe1d19ebc9/raw/b966d02c7c26bcca60703acb1390e938a65a35cb/drinks.csv'\n",
    "alcohol = pd.read_csv(url, usecols=['country', 'wine_servings'], index_col='country').squeeze(\"columns\")\n",
    "alcohol.head()"
   ]
  },
  {
   "cell_type": "code",
   "execution_count": 6,
   "metadata": {},
   "outputs": [
    {
     "data": {
      "text/plain": [
       "country\n",
       "Albania               54.0\n",
       "Algeria               14.0\n",
       "Andorra              312.0\n",
       "Angola                45.0\n",
       "Antigua & Barbuda     45.0\n",
       "Argentina            221.0\n",
       "Armenia               11.0\n",
       "Australia            212.0\n",
       "Austria              191.0\n",
       "Azerbaijan             5.0\n",
       "Name: wine_servings, dtype: float64"
      ]
     },
     "execution_count": 6,
     "metadata": {},
     "output_type": "execute_result"
    }
   ],
   "source": [
    "mini_alc = alcohol[:11].dropna()\n",
    "mini_alc.head(n=10)"
   ]
  },
  {
   "cell_type": "code",
   "execution_count": 7,
   "metadata": {},
   "outputs": [
    {
     "name": "stdout",
     "output_type": "stream",
     "text": [
      "54.0\n",
      "14.0\n",
      "312.0\n",
      "45.0\n",
      "45.0\n",
      "221.0\n",
      "11.0\n",
      "212.0\n",
      "191.0\n",
      "5.0\n"
     ]
    }
   ],
   "source": [
    "for i in mini_alc:\n",
    "    print(i)"
   ]
  },
  {
   "cell_type": "code",
   "execution_count": 8,
   "metadata": {},
   "outputs": [
    {
     "name": "stdout",
     "output_type": "stream",
     "text": [
      "Albania\n",
      "Algeria\n",
      "Andorra\n",
      "Angola\n",
      "Antigua & Barbuda\n",
      "Argentina\n",
      "Armenia\n",
      "Australia\n",
      "Austria\n",
      "Azerbaijan\n"
     ]
    }
   ],
   "source": [
    "for i in mini_alc.index:\n",
    "    print(i)"
   ]
  },
  {
   "cell_type": "code",
   "execution_count": 18,
   "metadata": {},
   "outputs": [
    {
     "name": "stdout",
     "output_type": "stream",
     "text": [
      "Index:,\tValue:\n",
      "Albania 54.0\n",
      "\n",
      "Index:,\tValue:\n",
      "Algeria 14.0\n",
      "\n",
      "Index:,\tValue:\n",
      "Andorra 312.0\n",
      "\n",
      "Index:,\tValue:\n",
      "Angola 45.0\n",
      "\n",
      "Index:,\tValue:\n",
      "Antigua & Barbuda 45.0\n",
      "\n",
      "Index:,\tValue:\n",
      "Argentina 221.0\n",
      "\n",
      "Index:,\tValue:\n",
      "Armenia 11.0\n",
      "\n",
      "Index:,\tValue:\n",
      "Australia 212.0\n",
      "\n",
      "Index:,\tValue:\n",
      "Austria 191.0\n",
      "\n",
      "Index:,\tValue:\n",
      "Azerbaijan 5.0\n",
      "\n"
     ]
    }
   ],
   "source": [
    "for i in mini_alc.index:\n",
    "    print(f'Index:,\\tValue:\\n{i} {mini_alc[i]}\\n')"
   ]
  },
  {
   "cell_type": "code",
   "execution_count": 19,
   "metadata": {},
   "outputs": [
    {
     "name": "stdout",
     "output_type": "stream",
     "text": [
      "('Albania', 54.0)\n",
      "('Algeria', 14.0)\n",
      "('Andorra', 312.0)\n",
      "('Angola', 45.0)\n",
      "('Antigua & Barbuda', 45.0)\n",
      "('Argentina', 221.0)\n",
      "('Armenia', 11.0)\n",
      "('Australia', 212.0)\n",
      "('Austria', 191.0)\n",
      "('Azerbaijan', 5.0)\n"
     ]
    }
   ],
   "source": [
    "for i in mini_alc.items():\n",
    "    print(i)"
   ]
  },
  {
   "cell_type": "code",
   "execution_count": 23,
   "metadata": {},
   "outputs": [
    {
     "name": "stdout",
     "output_type": "stream",
     "text": [
      "54.0\n",
      "14.0\n",
      "312.0\n",
      "45.0\n",
      "45.0\n",
      "221.0\n",
      "11.0\n",
      "212.0\n",
      "191.0\n",
      "5.0\n"
     ]
    }
   ],
   "source": [
    "for i, v in mini_alc.items():\n",
    "    print(v)"
   ]
  },
  {
   "cell_type": "code",
   "execution_count": 24,
   "metadata": {},
   "outputs": [
    {
     "name": "stdout",
     "output_type": "stream",
     "text": [
      "('Albania', 54.0)\n",
      "('Algeria', 14.0)\n",
      "('Andorra', 312.0)\n",
      "('Angola', 45.0)\n",
      "('Antigua & Barbuda', 45.0)\n",
      "('Argentina', 221.0)\n",
      "('Armenia', 11.0)\n",
      "('Australia', 212.0)\n",
      "('Austria', 191.0)\n",
      "('Azerbaijan', 5.0)\n"
     ]
    }
   ],
   "source": [
    "for i in mini_alc.items():\n",
    "    print(i)"
   ]
  },
  {
   "cell_type": "code",
   "execution_count": 25,
   "metadata": {},
   "outputs": [
    {
     "name": "stdout",
     "output_type": "stream",
     "text": [
      "Index:Albania, value:54.0\n",
      "Index:Algeria, value:14.0\n",
      "Index:Andorra, value:312.0\n",
      "Index:Angola, value:45.0\n",
      "Index:Antigua & Barbuda, value:45.0\n",
      "Index:Argentina, value:221.0\n",
      "Index:Armenia, value:11.0\n",
      "Index:Australia, value:212.0\n",
      "Index:Austria, value:191.0\n",
      "Index:Azerbaijan, value:5.0\n"
     ]
    }
   ],
   "source": [
    "for i, v in mini_alc.items():\n",
    "    print(f'Index:{i}, value:{v}')"
   ]
  },
  {
   "cell_type": "code",
   "execution_count": 26,
   "metadata": {},
   "outputs": [
    {
     "name": "stdout",
     "output_type": "stream",
     "text": [
      "Albania 54.0\n",
      "Algeria 14.0\n",
      "Andorra 312.0\n",
      "Angola 45.0\n",
      "Antigua & Barbuda 45.0\n",
      "Argentina 221.0\n",
      "Armenia 11.0\n",
      "Australia 212.0\n",
      "Austria 191.0\n",
      "Azerbaijan 5.0\n"
     ]
    }
   ],
   "source": [
    "for i, v in mini_alc.iteritems():\n",
    "    print(i, v)"
   ]
  },
  {
   "cell_type": "code",
   "execution_count": 27,
   "metadata": {},
   "outputs": [
    {
     "name": "stdout",
     "output_type": "stream",
     "text": [
      "('Albania', 54.0)\n",
      "('Algeria', 14.0)\n",
      "('Andorra', 312.0)\n",
      "('Angola', 45.0)\n",
      "('Antigua & Barbuda', 45.0)\n",
      "('Argentina', 221.0)\n",
      "('Armenia', 11.0)\n",
      "('Australia', 212.0)\n",
      "('Austria', 191.0)\n",
      "('Azerbaijan', 5.0)\n"
     ]
    }
   ],
   "source": [
    "for i in mini_alc.iteritems():\n",
    "    print(i)"
   ]
  },
  {
   "cell_type": "code",
   "execution_count": null,
   "metadata": {},
   "outputs": [],
   "source": []
  }
 ],
 "metadata": {
  "kernelspec": {
   "display_name": "Python 3.10.5 64-bit",
   "language": "python",
   "name": "python3"
  },
  "language_info": {
   "codemirror_mode": {
    "name": "ipython",
    "version": 3
   },
   "file_extension": ".py",
   "mimetype": "text/x-python",
   "name": "python",
   "nbconvert_exporter": "python",
   "pygments_lexer": "ipython3",
   "version": "3.10.5"
  },
  "orig_nbformat": 4,
  "vscode": {
   "interpreter": {
    "hash": "722b6f501d3291d098eeb116c55030d7476387c4156a20534e17b28f07582bab"
   }
  }
 },
 "nbformat": 4,
 "nbformat_minor": 2
}
