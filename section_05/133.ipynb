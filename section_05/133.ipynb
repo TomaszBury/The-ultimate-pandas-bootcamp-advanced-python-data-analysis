{
 "cells": [
  {
   "cell_type": "code",
   "execution_count": 19,
   "metadata": {},
   "outputs": [
    {
     "data": {
      "text/html": [
       "<div>\n",
       "<style scoped>\n",
       "    .dataframe tbody tr th:only-of-type {\n",
       "        vertical-align: middle;\n",
       "    }\n",
       "\n",
       "    .dataframe tbody tr th {\n",
       "        vertical-align: top;\n",
       "    }\n",
       "\n",
       "    .dataframe thead th {\n",
       "        text-align: right;\n",
       "    }\n",
       "</style>\n",
       "<table border=\"1\" class=\"dataframe\">\n",
       "  <thead>\n",
       "    <tr style=\"text-align: right;\">\n",
       "      <th></th>\n",
       "      <th>name</th>\n",
       "      <th>club</th>\n",
       "      <th>age</th>\n",
       "      <th>position</th>\n",
       "      <th>position_cat</th>\n",
       "      <th>market_value</th>\n",
       "      <th>page_views</th>\n",
       "      <th>fpl_value</th>\n",
       "      <th>fpl_sel</th>\n",
       "      <th>fpl_points</th>\n",
       "      <th>region</th>\n",
       "      <th>nationality</th>\n",
       "      <th>new_foreign</th>\n",
       "      <th>age_cat</th>\n",
       "      <th>club_id</th>\n",
       "      <th>big_club</th>\n",
       "      <th>new_signing</th>\n",
       "    </tr>\n",
       "  </thead>\n",
       "  <tbody>\n",
       "    <tr>\n",
       "      <th>0</th>\n",
       "      <td>Alexis Sanchez</td>\n",
       "      <td>Arsenal</td>\n",
       "      <td>28</td>\n",
       "      <td>LW</td>\n",
       "      <td>1</td>\n",
       "      <td>65.0</td>\n",
       "      <td>4329</td>\n",
       "      <td>12.0</td>\n",
       "      <td>17.10%</td>\n",
       "      <td>264</td>\n",
       "      <td>3</td>\n",
       "      <td>Chile</td>\n",
       "      <td>0</td>\n",
       "      <td>4</td>\n",
       "      <td>1</td>\n",
       "      <td>1</td>\n",
       "      <td>0</td>\n",
       "    </tr>\n",
       "    <tr>\n",
       "      <th>1</th>\n",
       "      <td>Mesut Ozil</td>\n",
       "      <td>Arsenal</td>\n",
       "      <td>28</td>\n",
       "      <td>AM</td>\n",
       "      <td>1</td>\n",
       "      <td>50.0</td>\n",
       "      <td>4395</td>\n",
       "      <td>9.5</td>\n",
       "      <td>5.60%</td>\n",
       "      <td>167</td>\n",
       "      <td>2</td>\n",
       "      <td>Germany</td>\n",
       "      <td>0</td>\n",
       "      <td>4</td>\n",
       "      <td>1</td>\n",
       "      <td>1</td>\n",
       "      <td>0</td>\n",
       "    </tr>\n",
       "  </tbody>\n",
       "</table>\n",
       "</div>"
      ],
      "text/plain": [
       "             name     club  age position  position_cat  market_value  \\\n",
       "0  Alexis Sanchez  Arsenal   28       LW             1          65.0   \n",
       "1      Mesut Ozil  Arsenal   28       AM             1          50.0   \n",
       "\n",
       "   page_views  fpl_value fpl_sel  fpl_points  region nationality  new_foreign  \\\n",
       "0        4329       12.0  17.10%         264       3       Chile            0   \n",
       "1        4395        9.5   5.60%         167       2     Germany            0   \n",
       "\n",
       "   age_cat  club_id  big_club  new_signing  \n",
       "0        4        1         1            0  \n",
       "1        4        1         1            0  "
      ]
     },
     "execution_count": 19,
     "metadata": {},
     "output_type": "execute_result"
    }
   ],
   "source": [
    "import pandas as pd\n",
    "import numpy as np\n",
    "data_url = 'https://andybek.com/pandas-soccer'\n",
    "players = pd.read_csv(data_url)\n",
    "players.head(n=2)"
   ]
  },
  {
   "cell_type": "code",
   "execution_count": 2,
   "metadata": {},
   "outputs": [
    {
     "data": {
      "text/html": [
       "<div>\n",
       "<style scoped>\n",
       "    .dataframe tbody tr th:only-of-type {\n",
       "        vertical-align: middle;\n",
       "    }\n",
       "\n",
       "    .dataframe tbody tr th {\n",
       "        vertical-align: top;\n",
       "    }\n",
       "\n",
       "    .dataframe thead th {\n",
       "        text-align: right;\n",
       "    }\n",
       "</style>\n",
       "<table border=\"1\" class=\"dataframe\">\n",
       "  <thead>\n",
       "    <tr style=\"text-align: right;\">\n",
       "      <th></th>\n",
       "      <th>market_value</th>\n",
       "      <th>fpl_value</th>\n",
       "    </tr>\n",
       "  </thead>\n",
       "  <tbody>\n",
       "    <tr>\n",
       "      <th>0</th>\n",
       "      <td>65.0</td>\n",
       "      <td>12.0</td>\n",
       "    </tr>\n",
       "    <tr>\n",
       "      <th>1</th>\n",
       "      <td>50.0</td>\n",
       "      <td>9.5</td>\n",
       "    </tr>\n",
       "    <tr>\n",
       "      <th>2</th>\n",
       "      <td>7.0</td>\n",
       "      <td>5.5</td>\n",
       "    </tr>\n",
       "    <tr>\n",
       "      <th>3</th>\n",
       "      <td>20.0</td>\n",
       "      <td>7.5</td>\n",
       "    </tr>\n",
       "    <tr>\n",
       "      <th>4</th>\n",
       "      <td>22.0</td>\n",
       "      <td>6.0</td>\n",
       "    </tr>\n",
       "    <tr>\n",
       "      <th>...</th>\n",
       "      <td>...</td>\n",
       "      <td>...</td>\n",
       "    </tr>\n",
       "    <tr>\n",
       "      <th>460</th>\n",
       "      <td>5.0</td>\n",
       "      <td>4.5</td>\n",
       "    </tr>\n",
       "    <tr>\n",
       "      <th>461</th>\n",
       "      <td>7.0</td>\n",
       "      <td>4.5</td>\n",
       "    </tr>\n",
       "    <tr>\n",
       "      <th>462</th>\n",
       "      <td>4.5</td>\n",
       "      <td>4.5</td>\n",
       "    </tr>\n",
       "    <tr>\n",
       "      <th>463</th>\n",
       "      <td>1.0</td>\n",
       "      <td>4.5</td>\n",
       "    </tr>\n",
       "    <tr>\n",
       "      <th>464</th>\n",
       "      <td>10.0</td>\n",
       "      <td>5.5</td>\n",
       "    </tr>\n",
       "  </tbody>\n",
       "</table>\n",
       "<p>465 rows × 2 columns</p>\n",
       "</div>"
      ],
      "text/plain": [
       "     market_value  fpl_value\n",
       "0            65.0       12.0\n",
       "1            50.0        9.5\n",
       "2             7.0        5.5\n",
       "3            20.0        7.5\n",
       "4            22.0        6.0\n",
       "..            ...        ...\n",
       "460           5.0        4.5\n",
       "461           7.0        4.5\n",
       "462           4.5        4.5\n",
       "463           1.0        4.5\n",
       "464          10.0        5.5\n",
       "\n",
       "[465 rows x 2 columns]"
      ]
     },
     "execution_count": 2,
     "metadata": {},
     "output_type": "execute_result"
    }
   ],
   "source": [
    "# we need an fx rate\n",
    "fx_rate_9_9_2022 = 1.01255\n",
    "fx_rate_12_4_2020 = 0.91\n",
    "\n",
    "players.loc[:,['market_value', 'fpl_value']]"
   ]
  },
  {
   "cell_type": "code",
   "execution_count": 3,
   "metadata": {},
   "outputs": [
    {
     "data": {
      "text/html": [
       "<div>\n",
       "<style scoped>\n",
       "    .dataframe tbody tr th:only-of-type {\n",
       "        vertical-align: middle;\n",
       "    }\n",
       "\n",
       "    .dataframe tbody tr th {\n",
       "        vertical-align: top;\n",
       "    }\n",
       "\n",
       "    .dataframe thead th {\n",
       "        text-align: right;\n",
       "    }\n",
       "</style>\n",
       "<table border=\"1\" class=\"dataframe\">\n",
       "  <thead>\n",
       "    <tr style=\"text-align: right;\">\n",
       "      <th></th>\n",
       "      <th>market_value</th>\n",
       "      <th>fpl_value</th>\n",
       "    </tr>\n",
       "  </thead>\n",
       "  <tbody>\n",
       "    <tr>\n",
       "      <th>0</th>\n",
       "      <td>59.150</td>\n",
       "      <td>10.920</td>\n",
       "    </tr>\n",
       "    <tr>\n",
       "      <th>1</th>\n",
       "      <td>45.500</td>\n",
       "      <td>8.645</td>\n",
       "    </tr>\n",
       "    <tr>\n",
       "      <th>2</th>\n",
       "      <td>6.370</td>\n",
       "      <td>5.005</td>\n",
       "    </tr>\n",
       "    <tr>\n",
       "      <th>3</th>\n",
       "      <td>18.200</td>\n",
       "      <td>6.825</td>\n",
       "    </tr>\n",
       "    <tr>\n",
       "      <th>4</th>\n",
       "      <td>20.020</td>\n",
       "      <td>5.460</td>\n",
       "    </tr>\n",
       "    <tr>\n",
       "      <th>...</th>\n",
       "      <td>...</td>\n",
       "      <td>...</td>\n",
       "    </tr>\n",
       "    <tr>\n",
       "      <th>460</th>\n",
       "      <td>4.550</td>\n",
       "      <td>4.095</td>\n",
       "    </tr>\n",
       "    <tr>\n",
       "      <th>461</th>\n",
       "      <td>6.370</td>\n",
       "      <td>4.095</td>\n",
       "    </tr>\n",
       "    <tr>\n",
       "      <th>462</th>\n",
       "      <td>4.095</td>\n",
       "      <td>4.095</td>\n",
       "    </tr>\n",
       "    <tr>\n",
       "      <th>463</th>\n",
       "      <td>0.910</td>\n",
       "      <td>4.095</td>\n",
       "    </tr>\n",
       "    <tr>\n",
       "      <th>464</th>\n",
       "      <td>9.100</td>\n",
       "      <td>5.005</td>\n",
       "    </tr>\n",
       "  </tbody>\n",
       "</table>\n",
       "<p>465 rows × 2 columns</p>\n",
       "</div>"
      ],
      "text/plain": [
       "     market_value  fpl_value\n",
       "0          59.150     10.920\n",
       "1          45.500      8.645\n",
       "2           6.370      5.005\n",
       "3          18.200      6.825\n",
       "4          20.020      5.460\n",
       "..            ...        ...\n",
       "460         4.550      4.095\n",
       "461         6.370      4.095\n",
       "462         4.095      4.095\n",
       "463         0.910      4.095\n",
       "464         9.100      5.005\n",
       "\n",
       "[465 rows x 2 columns]"
      ]
     },
     "execution_count": 3,
     "metadata": {},
     "output_type": "execute_result"
    }
   ],
   "source": [
    "players.loc[:,['market_value','fpl_value']].transform(lambda x: x * fx_rate_12_4_2020)"
   ]
  },
  {
   "cell_type": "code",
   "execution_count": 4,
   "metadata": {},
   "outputs": [
    {
     "data": {
      "text/html": [
       "<div>\n",
       "<style scoped>\n",
       "    .dataframe tbody tr th:only-of-type {\n",
       "        vertical-align: middle;\n",
       "    }\n",
       "\n",
       "    .dataframe tbody tr th {\n",
       "        vertical-align: top;\n",
       "    }\n",
       "\n",
       "    .dataframe thead th {\n",
       "        text-align: right;\n",
       "    }\n",
       "</style>\n",
       "<table border=\"1\" class=\"dataframe\">\n",
       "  <thead>\n",
       "    <tr style=\"text-align: right;\">\n",
       "      <th></th>\n",
       "      <th>market_value</th>\n",
       "      <th>fpl_value</th>\n",
       "    </tr>\n",
       "  </thead>\n",
       "  <tbody>\n",
       "    <tr>\n",
       "      <th>0</th>\n",
       "      <td>59.150</td>\n",
       "      <td>10.920</td>\n",
       "    </tr>\n",
       "    <tr>\n",
       "      <th>1</th>\n",
       "      <td>45.500</td>\n",
       "      <td>8.645</td>\n",
       "    </tr>\n",
       "    <tr>\n",
       "      <th>2</th>\n",
       "      <td>6.370</td>\n",
       "      <td>5.005</td>\n",
       "    </tr>\n",
       "    <tr>\n",
       "      <th>3</th>\n",
       "      <td>18.200</td>\n",
       "      <td>6.825</td>\n",
       "    </tr>\n",
       "    <tr>\n",
       "      <th>4</th>\n",
       "      <td>20.020</td>\n",
       "      <td>5.460</td>\n",
       "    </tr>\n",
       "    <tr>\n",
       "      <th>...</th>\n",
       "      <td>...</td>\n",
       "      <td>...</td>\n",
       "    </tr>\n",
       "    <tr>\n",
       "      <th>460</th>\n",
       "      <td>4.550</td>\n",
       "      <td>4.095</td>\n",
       "    </tr>\n",
       "    <tr>\n",
       "      <th>461</th>\n",
       "      <td>6.370</td>\n",
       "      <td>4.095</td>\n",
       "    </tr>\n",
       "    <tr>\n",
       "      <th>462</th>\n",
       "      <td>4.095</td>\n",
       "      <td>4.095</td>\n",
       "    </tr>\n",
       "    <tr>\n",
       "      <th>463</th>\n",
       "      <td>0.910</td>\n",
       "      <td>4.095</td>\n",
       "    </tr>\n",
       "    <tr>\n",
       "      <th>464</th>\n",
       "      <td>9.100</td>\n",
       "      <td>5.005</td>\n",
       "    </tr>\n",
       "  </tbody>\n",
       "</table>\n",
       "<p>465 rows × 2 columns</p>\n",
       "</div>"
      ],
      "text/plain": [
       "     market_value  fpl_value\n",
       "0          59.150     10.920\n",
       "1          45.500      8.645\n",
       "2           6.370      5.005\n",
       "3          18.200      6.825\n",
       "4          20.020      5.460\n",
       "..            ...        ...\n",
       "460         4.550      4.095\n",
       "461         6.370      4.095\n",
       "462         4.095      4.095\n",
       "463         0.910      4.095\n",
       "464         9.100      5.005\n",
       "\n",
       "[465 rows x 2 columns]"
      ]
     },
     "execution_count": 4,
     "metadata": {},
     "output_type": "execute_result"
    }
   ],
   "source": [
    "players.loc[:,['market_value', 'fpl_value']] * fx_rate_12_4_2020"
   ]
  },
  {
   "cell_type": "code",
   "execution_count": 8,
   "metadata": {},
   "outputs": [],
   "source": [
    "# === ASIDE\n",
    "# 1. choice"
   ]
  },
  {
   "cell_type": "code",
   "execution_count": 7,
   "metadata": {},
   "outputs": [
    {
     "data": {
      "text/plain": [
       "'Bud'"
      ]
     },
     "execution_count": 7,
     "metadata": {},
     "output_type": "execute_result"
    }
   ],
   "source": [
    "from random import choice\n",
    "names = ['Bud', 'Brooke', 'Paleo']\n",
    "choice(names)"
   ]
  },
  {
   "cell_type": "code",
   "execution_count": 9,
   "metadata": {},
   "outputs": [],
   "source": [
    "# 2. str methods"
   ]
  },
  {
   "cell_type": "code",
   "execution_count": 10,
   "metadata": {},
   "outputs": [
    {
     "data": {
      "text/plain": [
       "'ANDY'"
      ]
     },
     "execution_count": 10,
     "metadata": {},
     "output_type": "execute_result"
    }
   ],
   "source": [
    "'andy'.upper()"
   ]
  },
  {
   "cell_type": "code",
   "execution_count": 11,
   "metadata": {},
   "outputs": [],
   "source": [
    "ser = pd.Series(names)"
   ]
  },
  {
   "cell_type": "code",
   "execution_count": 12,
   "metadata": {},
   "outputs": [
    {
     "ename": "AttributeError",
     "evalue": "'Series' object has no attribute 'upper'",
     "output_type": "error",
     "traceback": [
      "\u001b[1;31m---------------------------------------------------------------------------\u001b[0m",
      "\u001b[1;31mAttributeError\u001b[0m                            Traceback (most recent call last)",
      "\u001b[1;32mc:\\Users\\Tom\\iCloudDrive\\Nauka\\Python\\Pyton_files\\The-ultimate-pandas-bootcamp-advanced-python-data-analysis\\section_05\\133.ipynb Cell 10\u001b[0m in \u001b[0;36m<module>\u001b[1;34m\u001b[0m\n\u001b[1;32m----> <a href='vscode-notebook-cell:/c%3A/Users/Tom/iCloudDrive/Nauka/Python/Pyton_files/The-ultimate-pandas-bootcamp-advanced-python-data-analysis/section_05/133.ipynb#X13sZmlsZQ%3D%3D?line=0'>1</a>\u001b[0m ser\u001b[39m.\u001b[39;49mupper()\n",
      "File \u001b[1;32mc:\\Users\\Tom\\AppData\\Local\\Programs\\Python\\Python310\\lib\\site-packages\\pandas\\core\\generic.py:5575\u001b[0m, in \u001b[0;36mNDFrame.__getattr__\u001b[1;34m(self, name)\u001b[0m\n\u001b[0;32m   5568\u001b[0m \u001b[39mif\u001b[39;00m (\n\u001b[0;32m   5569\u001b[0m     name \u001b[39mnot\u001b[39;00m \u001b[39min\u001b[39;00m \u001b[39mself\u001b[39m\u001b[39m.\u001b[39m_internal_names_set\n\u001b[0;32m   5570\u001b[0m     \u001b[39mand\u001b[39;00m name \u001b[39mnot\u001b[39;00m \u001b[39min\u001b[39;00m \u001b[39mself\u001b[39m\u001b[39m.\u001b[39m_metadata\n\u001b[0;32m   5571\u001b[0m     \u001b[39mand\u001b[39;00m name \u001b[39mnot\u001b[39;00m \u001b[39min\u001b[39;00m \u001b[39mself\u001b[39m\u001b[39m.\u001b[39m_accessors\n\u001b[0;32m   5572\u001b[0m     \u001b[39mand\u001b[39;00m \u001b[39mself\u001b[39m\u001b[39m.\u001b[39m_info_axis\u001b[39m.\u001b[39m_can_hold_identifiers_and_holds_name(name)\n\u001b[0;32m   5573\u001b[0m ):\n\u001b[0;32m   5574\u001b[0m     \u001b[39mreturn\u001b[39;00m \u001b[39mself\u001b[39m[name]\n\u001b[1;32m-> 5575\u001b[0m \u001b[39mreturn\u001b[39;00m \u001b[39mobject\u001b[39;49m\u001b[39m.\u001b[39;49m\u001b[39m__getattribute__\u001b[39;49m(\u001b[39mself\u001b[39;49m, name)\n",
      "\u001b[1;31mAttributeError\u001b[0m: 'Series' object has no attribute 'upper'"
     ]
    }
   ],
   "source": [
    "ser.upper()"
   ]
  },
  {
   "cell_type": "code",
   "execution_count": 13,
   "metadata": {},
   "outputs": [
    {
     "data": {
      "text/plain": [
       "0       BUD\n",
       "1    BROOKE\n",
       "2     PALEO\n",
       "dtype: object"
      ]
     },
     "execution_count": 13,
     "metadata": {},
     "output_type": "execute_result"
    }
   ],
   "source": [
    "ser.str.upper()"
   ]
  },
  {
   "cell_type": "code",
   "execution_count": 14,
   "metadata": {},
   "outputs": [
    {
     "data": {
      "text/plain": [
       "0       Bud\n",
       "1    Brooke\n",
       "2     Paleo\n",
       "dtype: object"
      ]
     },
     "execution_count": 14,
     "metadata": {},
     "output_type": "execute_result"
    }
   ],
   "source": [
    "ser.str.title()"
   ]
  },
  {
   "cell_type": "code",
   "execution_count": 15,
   "metadata": {},
   "outputs": [
    {
     "data": {
      "text/plain": [
       "0       bUD\n",
       "1    bROOKE\n",
       "2     pALEO\n",
       "dtype: object"
      ]
     },
     "execution_count": 15,
     "metadata": {},
     "output_type": "execute_result"
    }
   ],
   "source": [
    "ser.str.swapcase()"
   ]
  },
  {
   "cell_type": "code",
   "execution_count": 16,
   "metadata": {},
   "outputs": [],
   "source": [
    "# ===END ASIDE"
   ]
  },
  {
   "cell_type": "code",
   "execution_count": 17,
   "metadata": {},
   "outputs": [],
   "source": [
    "# the fuction should:\n",
    "# - apply a random string capitalization method\n",
    "# - to sequence of values, and- return the transformed sequence"
   ]
  },
  {
   "cell_type": "code",
   "execution_count": 27,
   "metadata": {},
   "outputs": [],
   "source": [
    "def random_case(x):\n",
    "    funcs = [x.str.swapcase, x.str.lower, x.str.title, x.str.upper]\n",
    "    return choice(funcs)()"
   ]
  },
  {
   "cell_type": "code",
   "execution_count": 36,
   "metadata": {},
   "outputs": [
    {
     "name": "stdout",
     "output_type": "stream",
     "text": [
      "             name     club position fpl_sel     nationality\n",
      "0  alexis sanchez  arsenal       Lw  17.10%           CHILE\n",
      "1      mesut ozil  arsenal       Am   5.60%         GERMANY\n",
      "2       petr cech  arsenal       Gk   5.90%  CZECH REPUBLIC\n",
      "             name     club position fpl_sel     nationality\n",
      "0  ALEXIS SANCHEZ  arsenal       lw  17.10%           chile\n",
      "1      MESUT OZIL  arsenal       am   5.60%         germany\n",
      "2       PETR CECH  arsenal       gk   5.90%  czech republic\n",
      "             name     club position fpl_sel     nationality\n",
      "0  ALEXIS SANCHEZ  arsenal       lw  17.10%           Chile\n",
      "1      MESUT OZIL  arsenal       am   5.60%         Germany\n",
      "2       PETR CECH  arsenal       gk   5.90%  Czech Republic\n",
      "             name     club position fpl_sel     nationality\n",
      "0  aLEXIS sANCHEZ  aRSENAL       lw  17.10%           Chile\n",
      "1      mESUT oZIL  aRSENAL       am   5.60%         Germany\n",
      "2       pETR cECH  aRSENAL       gk   5.90%  Czech Republic\n"
     ]
    }
   ],
   "source": [
    "for i in range(4):\n",
    "    print(players.select_dtypes(include=object).transform(random_case).head(n=3))"
   ]
  },
  {
   "cell_type": "code",
   "execution_count": null,
   "metadata": {},
   "outputs": [],
   "source": []
  }
 ],
 "metadata": {
  "kernelspec": {
   "display_name": "Python 3.10.5 64-bit",
   "language": "python",
   "name": "python3"
  },
  "language_info": {
   "codemirror_mode": {
    "name": "ipython",
    "version": 3
   },
   "file_extension": ".py",
   "mimetype": "text/x-python",
   "name": "python",
   "nbconvert_exporter": "python",
   "pygments_lexer": "ipython3",
   "version": "3.10.5"
  },
  "orig_nbformat": 4,
  "vscode": {
   "interpreter": {
    "hash": "722b6f501d3291d098eeb116c55030d7476387c4156a20534e17b28f07582bab"
   }
  }
 },
 "nbformat": 4,
 "nbformat_minor": 2
}
