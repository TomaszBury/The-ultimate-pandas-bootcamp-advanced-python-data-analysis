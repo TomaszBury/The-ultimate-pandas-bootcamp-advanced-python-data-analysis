{
 "cells": [
  {
   "cell_type": "markdown",
   "metadata": {},
   "source": [
    "# 254. Section intro"
   ]
  },
  {
   "cell_type": "code",
   "execution_count": null,
   "metadata": {},
   "outputs": [],
   "source": []
  },
  {
   "cell_type": "code",
   "execution_count": 603,
   "metadata": {},
   "outputs": [],
   "source": [
    "import pandas as pd\n",
    "import numpy as np"
   ]
  },
  {
   "cell_type": "code",
   "execution_count": 604,
   "metadata": {},
   "outputs": [
    {
     "data": {
      "text/plain": [
       "'1.5.1'"
      ]
     },
     "execution_count": 604,
     "metadata": {},
     "output_type": "execute_result"
    }
   ],
   "source": [
    "pd.__version__"
   ]
  },
  {
   "cell_type": "markdown",
   "metadata": {},
   "source": [
    "# 255. Our Data: Boston Marathon Runners"
   ]
  },
  {
   "cell_type": "markdown",
   "metadata": {},
   "source": [
    "https://andybek.com/pandas-marathon"
   ]
  },
  {
   "cell_type": "code",
   "execution_count": 605,
   "metadata": {},
   "outputs": [],
   "source": [
    "boston_url = 'https://andybek.com/pandas-marathon'"
   ]
  },
  {
   "cell_type": "code",
   "execution_count": 606,
   "metadata": {},
   "outputs": [],
   "source": [
    "import ssl\n",
    "ssl._create_default_https_context = ssl._create_unverified_context\n",
    "\n",
    "boston = pd.read_csv(boston_url)"
   ]
  },
  {
   "cell_type": "code",
   "execution_count": 607,
   "metadata": {},
   "outputs": [
    {
     "data": {
      "text/html": [
       "<div>\n",
       "<style scoped>\n",
       "    .dataframe tbody tr th:only-of-type {\n",
       "        vertical-align: middle;\n",
       "    }\n",
       "\n",
       "    .dataframe tbody tr th {\n",
       "        vertical-align: top;\n",
       "    }\n",
       "\n",
       "    .dataframe thead th {\n",
       "        text-align: right;\n",
       "    }\n",
       "</style>\n",
       "<table border=\"1\" class=\"dataframe\">\n",
       "  <thead>\n",
       "    <tr style=\"text-align: right;\">\n",
       "      <th></th>\n",
       "      <th>Name</th>\n",
       "      <th>Age</th>\n",
       "      <th>M/F</th>\n",
       "      <th>City</th>\n",
       "      <th>State</th>\n",
       "      <th>Country</th>\n",
       "      <th>Official Time</th>\n",
       "      <th>Overall</th>\n",
       "      <th>Gender</th>\n",
       "      <th>Years Ran</th>\n",
       "    </tr>\n",
       "  </thead>\n",
       "  <tbody>\n",
       "    <tr>\n",
       "      <th>0</th>\n",
       "      <td>Kirui, Geoffrey</td>\n",
       "      <td>24</td>\n",
       "      <td>M</td>\n",
       "      <td>Keringet</td>\n",
       "      <td>NaN</td>\n",
       "      <td>KEN</td>\n",
       "      <td>2:09:37</td>\n",
       "      <td>1</td>\n",
       "      <td>1</td>\n",
       "      <td>NaN</td>\n",
       "    </tr>\n",
       "    <tr>\n",
       "      <th>1</th>\n",
       "      <td>Rupp, Galen</td>\n",
       "      <td>30</td>\n",
       "      <td>M</td>\n",
       "      <td>Portland</td>\n",
       "      <td>OR</td>\n",
       "      <td>USA</td>\n",
       "      <td>2:09:58</td>\n",
       "      <td>2</td>\n",
       "      <td>2</td>\n",
       "      <td>NaN</td>\n",
       "    </tr>\n",
       "    <tr>\n",
       "      <th>2</th>\n",
       "      <td>Osako, Suguru</td>\n",
       "      <td>25</td>\n",
       "      <td>M</td>\n",
       "      <td>Machida-City</td>\n",
       "      <td>NaN</td>\n",
       "      <td>JPN</td>\n",
       "      <td>2:10:28</td>\n",
       "      <td>3</td>\n",
       "      <td>3</td>\n",
       "      <td>NaN</td>\n",
       "    </tr>\n",
       "    <tr>\n",
       "      <th>3</th>\n",
       "      <td>Biwott, Shadrack</td>\n",
       "      <td>32</td>\n",
       "      <td>M</td>\n",
       "      <td>Mammoth Lakes</td>\n",
       "      <td>CA</td>\n",
       "      <td>USA</td>\n",
       "      <td>2:12:08</td>\n",
       "      <td>4</td>\n",
       "      <td>4</td>\n",
       "      <td>NaN</td>\n",
       "    </tr>\n",
       "    <tr>\n",
       "      <th>4</th>\n",
       "      <td>Chebet, Wilson</td>\n",
       "      <td>31</td>\n",
       "      <td>M</td>\n",
       "      <td>Marakwet</td>\n",
       "      <td>NaN</td>\n",
       "      <td>KEN</td>\n",
       "      <td>2:12:35</td>\n",
       "      <td>5</td>\n",
       "      <td>5</td>\n",
       "      <td>2015</td>\n",
       "    </tr>\n",
       "    <tr>\n",
       "      <th>5</th>\n",
       "      <td>Abdirahman, Abdi</td>\n",
       "      <td>40</td>\n",
       "      <td>M</td>\n",
       "      <td>Phoenix</td>\n",
       "      <td>AZ</td>\n",
       "      <td>USA</td>\n",
       "      <td>2:12:45</td>\n",
       "      <td>6</td>\n",
       "      <td>6</td>\n",
       "      <td>NaN</td>\n",
       "    </tr>\n",
       "  </tbody>\n",
       "</table>\n",
       "</div>"
      ],
      "text/plain": [
       "                Name  Age M/F           City State Country Official Time  \\\n",
       "0   Kirui, Geoffrey    24   M       Keringet   NaN     KEN       2:09:37   \n",
       "1     Rupp, Galen      30   M       Portland    OR     USA       2:09:58   \n",
       "2    Osako, Suguru     25   M   Machida-City   NaN     JPN       2:10:28   \n",
       "3   Biwott, Shadrack   32   M  Mammoth Lakes    CA     USA       2:12:08   \n",
       "4     Chebet, Wilson   31   M       Marakwet   NaN     KEN       2:12:35   \n",
       "5   Abdirahman, Abdi   40   M        Phoenix    AZ     USA       2:12:45   \n",
       "\n",
       "   Overall  Gender Years Ran  \n",
       "0        1       1       NaN  \n",
       "1        2       2       NaN  \n",
       "2        3       3       NaN  \n",
       "3        4       4       NaN  \n",
       "4        5       5      2015  \n",
       "5        6       6       NaN  "
      ]
     },
     "execution_count": 607,
     "metadata": {},
     "output_type": "execute_result"
    }
   ],
   "source": [
    "boston.head(n=6)"
   ]
  },
  {
   "cell_type": "code",
   "execution_count": 608,
   "metadata": {},
   "outputs": [
    {
     "name": "stdout",
     "output_type": "stream",
     "text": [
      "<class 'pandas.core.frame.DataFrame'>\n",
      "RangeIndex: 1000 entries, 0 to 999\n",
      "Data columns (total 10 columns):\n",
      " #   Column         Non-Null Count  Dtype \n",
      "---  ------         --------------  ----- \n",
      " 0   Name           1000 non-null   object\n",
      " 1   Age            1000 non-null   int64 \n",
      " 2   M/F            1000 non-null   object\n",
      " 3   City           1000 non-null   object\n",
      " 4   State          807 non-null    object\n",
      " 5   Country        1000 non-null   object\n",
      " 6   Official Time  1000 non-null   object\n",
      " 7   Overall        1000 non-null   int64 \n",
      " 8   Gender         1000 non-null   int64 \n",
      " 9   Years Ran      315 non-null    object\n",
      "dtypes: int64(3), object(7)\n",
      "memory usage: 78.2+ KB\n"
     ]
    }
   ],
   "source": [
    "boston.info()"
   ]
  },
  {
   "cell_type": "markdown",
   "metadata": {},
   "source": [
    "# String Methods in Python\n",
    "\n",
    "* len\n",
    "* center\n",
    "* startswith, ends with\n",
    "* the 'in' operator\n",
    "* list comprehensions"
   ]
  },
  {
   "cell_type": "code",
   "execution_count": 609,
   "metadata": {},
   "outputs": [],
   "source": [
    "s = 'Welcome to the text manipulation section'"
   ]
  },
  {
   "cell_type": "code",
   "execution_count": 610,
   "metadata": {},
   "outputs": [
    {
     "data": {
      "text/plain": [
       "40"
      ]
     },
     "execution_count": 610,
     "metadata": {},
     "output_type": "execute_result"
    }
   ],
   "source": [
    "len(s)"
   ]
  },
  {
   "cell_type": "code",
   "execution_count": 611,
   "metadata": {},
   "outputs": [
    {
     "data": {
      "text/plain": [
       "'******************************Welcome to the text manipulation section******************************'"
      ]
     },
     "execution_count": 611,
     "metadata": {},
     "output_type": "execute_result"
    }
   ],
   "source": [
    "s.center(100, '*')"
   ]
  },
  {
   "cell_type": "code",
   "execution_count": 612,
   "metadata": {},
   "outputs": [
    {
     "data": {
      "text/plain": [
       "'Welcome to the text manipulation section'"
      ]
     },
     "execution_count": 612,
     "metadata": {},
     "output_type": "execute_result"
    }
   ],
   "source": [
    "s.center(30, '*')"
   ]
  },
  {
   "cell_type": "code",
   "execution_count": 613,
   "metadata": {},
   "outputs": [
    {
     "data": {
      "text/plain": [
       "'***Welcome to the text manipulation section**'"
      ]
     },
     "execution_count": 613,
     "metadata": {},
     "output_type": "execute_result"
    }
   ],
   "source": [
    "s.center(len(s) + 5, '*')"
   ]
  },
  {
   "cell_type": "code",
   "execution_count": 614,
   "metadata": {},
   "outputs": [],
   "source": [
    "def even_len(word):\n",
    "    lenght = 0\n",
    "    if len(word) >=2:\n",
    "        lenght = len(word) * 2\n",
    "    else:\n",
    "        lenght = 7\n",
    "    word = \"_\" + word + \"_\"\n",
    "    print(word.center(lenght, '*'))"
   ]
  },
  {
   "cell_type": "code",
   "execution_count": 615,
   "metadata": {},
   "outputs": [
    {
     "name": "stdout",
     "output_type": "stream",
     "text": [
      "**_h_**\n"
     ]
    }
   ],
   "source": [
    "even_len('h')"
   ]
  },
  {
   "cell_type": "code",
   "execution_count": 616,
   "metadata": {},
   "outputs": [
    {
     "name": "stdout",
     "output_type": "stream",
     "text": [
      "***_ertetert_***\n"
     ]
    }
   ],
   "source": [
    "even_len('ertetert')"
   ]
  },
  {
   "cell_type": "code",
   "execution_count": 617,
   "metadata": {},
   "outputs": [
    {
     "data": {
      "text/plain": [
       "True"
      ]
     },
     "execution_count": 617,
     "metadata": {},
     "output_type": "execute_result"
    }
   ],
   "source": [
    "s.endswith('tion')"
   ]
  },
  {
   "cell_type": "code",
   "execution_count": 618,
   "metadata": {},
   "outputs": [
    {
     "data": {
      "text/plain": [
       "True"
      ]
     },
     "execution_count": 618,
     "metadata": {},
     "output_type": "execute_result"
    }
   ],
   "source": [
    "s.startswith('W')"
   ]
  },
  {
   "cell_type": "markdown",
   "metadata": {},
   "source": [
    "# How about includes?"
   ]
  },
  {
   "cell_type": "code",
   "execution_count": 619,
   "metadata": {},
   "outputs": [
    {
     "data": {
      "text/plain": [
       "True"
      ]
     },
     "execution_count": 619,
     "metadata": {},
     "output_type": "execute_result"
    }
   ],
   "source": [
    "'text' in s"
   ]
  },
  {
   "cell_type": "code",
   "execution_count": 620,
   "metadata": {},
   "outputs": [
    {
     "data": {
      "text/plain": [
       "False"
      ]
     },
     "execution_count": 620,
     "metadata": {},
     "output_type": "execute_result"
    }
   ],
   "source": [
    "'texted' in s"
   ]
  },
  {
   "cell_type": "markdown",
   "metadata": {},
   "source": [
    "Text transorm within list comprehensions"
   ]
  },
  {
   "cell_type": "code",
   "execution_count": 621,
   "metadata": {},
   "outputs": [],
   "source": [
    "names = ['Alanah', 'Albion', 'Andrew', 'Brian']"
   ]
  },
  {
   "cell_type": "code",
   "execution_count": 622,
   "metadata": {},
   "outputs": [
    {
     "data": {
      "text/plain": [
       "[6, 6, 6, 5]"
      ]
     },
     "execution_count": 622,
     "metadata": {},
     "output_type": "execute_result"
    }
   ],
   "source": [
    "[len(name) for name in names]"
   ]
  },
  {
   "cell_type": "code",
   "execution_count": 623,
   "metadata": {},
   "outputs": [
    {
     "data": {
      "text/plain": [
       "[True, True, True, False]"
      ]
     },
     "execution_count": 623,
     "metadata": {},
     "output_type": "execute_result"
    }
   ],
   "source": [
    "[name.startswith('A') for name in names]"
   ]
  },
  {
   "cell_type": "markdown",
   "metadata": {},
   "source": [
    "1. When you add anything unexpected `np.NaN`\n",
    "```python\n",
    "names = ['Alanah', 'Albion', 'Andrew', np.NaN, 'Brian']\n",
    "```\n",
    " \n",
    "2. and use it:\n",
    "\n",
    "```python\n",
    "[len(name) for name in names]\n",
    "```\n",
    "3. You will get:\n",
    "```python\n",
    "---------------------------------------------------------------------------\n",
    "TypeError                                 Traceback (most recent call last)\n",
    "Cell In [82], line 2\n",
    "      1 names = ['Alanah', 'Albion', 'Andrew', np.NaN, 'Brian']\n",
    "----> 2 [len(name) for name in names]\n",
    "\n",
    "Cell In [82], line 2, in <listcomp>(.0)\n",
    "      1 names = ['Alanah', 'Albion', 'Andrew', np.NaN, 'Brian']\n",
    "----> 2 [len(name) for name in names]\n",
    "\n",
    "TypeError: object of type 'float' has no len()\n",
    "```"
   ]
  },
  {
   "attachments": {},
   "cell_type": "markdown",
   "metadata": {},
   "source": [
    "# 257. Vectorized String Operations In Pandas"
   ]
  },
  {
   "attachments": {},
   "cell_type": "markdown",
   "metadata": {},
   "source": [
    "String Methods in Python\n",
    "\n",
    "Vectorized String operations In pandas."
   ]
  },
  {
   "cell_type": "code",
   "execution_count": 624,
   "metadata": {},
   "outputs": [
    {
     "data": {
      "text/html": [
       "<div>\n",
       "<style scoped>\n",
       "    .dataframe tbody tr th:only-of-type {\n",
       "        vertical-align: middle;\n",
       "    }\n",
       "\n",
       "    .dataframe tbody tr th {\n",
       "        vertical-align: top;\n",
       "    }\n",
       "\n",
       "    .dataframe thead th {\n",
       "        text-align: right;\n",
       "    }\n",
       "</style>\n",
       "<table border=\"1\" class=\"dataframe\">\n",
       "  <thead>\n",
       "    <tr style=\"text-align: right;\">\n",
       "      <th></th>\n",
       "      <th>Name</th>\n",
       "      <th>Age</th>\n",
       "      <th>M/F</th>\n",
       "      <th>City</th>\n",
       "      <th>State</th>\n",
       "      <th>Country</th>\n",
       "      <th>Official Time</th>\n",
       "      <th>Overall</th>\n",
       "      <th>Gender</th>\n",
       "      <th>Years Ran</th>\n",
       "    </tr>\n",
       "  </thead>\n",
       "  <tbody>\n",
       "    <tr>\n",
       "      <th>0</th>\n",
       "      <td>Kirui, Geoffrey</td>\n",
       "      <td>24</td>\n",
       "      <td>M</td>\n",
       "      <td>Keringet</td>\n",
       "      <td>NaN</td>\n",
       "      <td>KEN</td>\n",
       "      <td>2:09:37</td>\n",
       "      <td>1</td>\n",
       "      <td>1</td>\n",
       "      <td>NaN</td>\n",
       "    </tr>\n",
       "    <tr>\n",
       "      <th>1</th>\n",
       "      <td>Rupp, Galen</td>\n",
       "      <td>30</td>\n",
       "      <td>M</td>\n",
       "      <td>Portland</td>\n",
       "      <td>OR</td>\n",
       "      <td>USA</td>\n",
       "      <td>2:09:58</td>\n",
       "      <td>2</td>\n",
       "      <td>2</td>\n",
       "      <td>NaN</td>\n",
       "    </tr>\n",
       "    <tr>\n",
       "      <th>2</th>\n",
       "      <td>Osako, Suguru</td>\n",
       "      <td>25</td>\n",
       "      <td>M</td>\n",
       "      <td>Machida-City</td>\n",
       "      <td>NaN</td>\n",
       "      <td>JPN</td>\n",
       "      <td>2:10:28</td>\n",
       "      <td>3</td>\n",
       "      <td>3</td>\n",
       "      <td>NaN</td>\n",
       "    </tr>\n",
       "    <tr>\n",
       "      <th>3</th>\n",
       "      <td>Biwott, Shadrack</td>\n",
       "      <td>32</td>\n",
       "      <td>M</td>\n",
       "      <td>Mammoth Lakes</td>\n",
       "      <td>CA</td>\n",
       "      <td>USA</td>\n",
       "      <td>2:12:08</td>\n",
       "      <td>4</td>\n",
       "      <td>4</td>\n",
       "      <td>NaN</td>\n",
       "    </tr>\n",
       "    <tr>\n",
       "      <th>4</th>\n",
       "      <td>Chebet, Wilson</td>\n",
       "      <td>31</td>\n",
       "      <td>M</td>\n",
       "      <td>Marakwet</td>\n",
       "      <td>NaN</td>\n",
       "      <td>KEN</td>\n",
       "      <td>2:12:35</td>\n",
       "      <td>5</td>\n",
       "      <td>5</td>\n",
       "      <td>2015</td>\n",
       "    </tr>\n",
       "  </tbody>\n",
       "</table>\n",
       "</div>"
      ],
      "text/plain": [
       "                Name  Age M/F           City State Country Official Time  \\\n",
       "0   Kirui, Geoffrey    24   M       Keringet   NaN     KEN       2:09:37   \n",
       "1     Rupp, Galen      30   M       Portland    OR     USA       2:09:58   \n",
       "2    Osako, Suguru     25   M   Machida-City   NaN     JPN       2:10:28   \n",
       "3   Biwott, Shadrack   32   M  Mammoth Lakes    CA     USA       2:12:08   \n",
       "4     Chebet, Wilson   31   M       Marakwet   NaN     KEN       2:12:35   \n",
       "\n",
       "   Overall  Gender Years Ran  \n",
       "0        1       1       NaN  \n",
       "1        2       2       NaN  \n",
       "2        3       3       NaN  \n",
       "3        4       4       NaN  \n",
       "4        5       5      2015  "
      ]
     },
     "execution_count": 624,
     "metadata": {},
     "output_type": "execute_result"
    }
   ],
   "source": [
    "boston.head()"
   ]
  },
  {
   "cell_type": "code",
   "execution_count": 625,
   "metadata": {},
   "outputs": [],
   "source": [
    "first_runer = str.strip(boston.iloc[0,0])"
   ]
  },
  {
   "cell_type": "code",
   "execution_count": 626,
   "metadata": {},
   "outputs": [
    {
     "data": {
      "text/plain": [
       "15"
      ]
     },
     "execution_count": 626,
     "metadata": {},
     "output_type": "execute_result"
    }
   ],
   "source": [
    "len(first_runer)"
   ]
  },
  {
   "cell_type": "code",
   "execution_count": 627,
   "metadata": {},
   "outputs": [
    {
     "data": {
      "text/plain": [
       "0         Kirui, Geoffrey \n",
       "1           Rupp, Galen   \n",
       "2          Osako, Suguru  \n",
       "3         Biwott, Shadrack\n",
       "4           Chebet, Wilson\n",
       "              ...         \n",
       "995           Larosa, Mark\n",
       "996    Williamson, Jerry A\n",
       "997        Mccue, Daniel T\n",
       "998           Larosa, John\n",
       "999         Sanchez, Sam R\n",
       "Name: Name, Length: 1000, dtype: object"
      ]
     },
     "execution_count": 627,
     "metadata": {},
     "output_type": "execute_result"
    }
   ],
   "source": [
    "boston.Name"
   ]
  },
  {
   "cell_type": "code",
   "execution_count": 628,
   "metadata": {},
   "outputs": [
    {
     "data": {
      "text/plain": [
       "1000"
      ]
     },
     "execution_count": 628,
     "metadata": {},
     "output_type": "execute_result"
    }
   ],
   "source": [
    "len(boston.Name)"
   ]
  },
  {
   "cell_type": "code",
   "execution_count": 629,
   "metadata": {},
   "outputs": [
    {
     "data": {
      "text/plain": [
       "0      17\n",
       "1      14\n",
       "2      15\n",
       "3      16\n",
       "4      14\n",
       "       ..\n",
       "995    12\n",
       "996    19\n",
       "997    15\n",
       "998    12\n",
       "999    14\n",
       "Name: Name, Length: 1000, dtype: int64"
      ]
     },
     "execution_count": 629,
     "metadata": {},
     "output_type": "execute_result"
    }
   ],
   "source": [
    "boston.Name.str.len()"
   ]
  },
  {
   "cell_type": "code",
   "execution_count": 630,
   "metadata": {},
   "outputs": [
    {
     "data": {
      "text/plain": [
       "0      15\n",
       "1      11\n",
       "2      13\n",
       "3      16\n",
       "4      14\n",
       "       ..\n",
       "995    12\n",
       "996    19\n",
       "997    15\n",
       "998    12\n",
       "999    14\n",
       "Name: Name, Length: 1000, dtype: int64"
      ]
     },
     "execution_count": 630,
     "metadata": {},
     "output_type": "execute_result"
    }
   ],
   "source": [
    "boston.Name.apply(str.strip).str.len()"
   ]
  },
  {
   "cell_type": "code",
   "execution_count": 631,
   "metadata": {},
   "outputs": [
    {
     "data": {
      "text/plain": [
       "0      False\n",
       "1      False\n",
       "2      False\n",
       "3      False\n",
       "4      False\n",
       "       ...  \n",
       "995    False\n",
       "996    False\n",
       "997    False\n",
       "998    False\n",
       "999    False\n",
       "Name: Name, Length: 1000, dtype: bool"
      ]
     },
     "execution_count": 631,
     "metadata": {},
     "output_type": "execute_result"
    }
   ],
   "source": [
    "boston.Name.str.startswith('A')"
   ]
  },
  {
   "attachments": {},
   "cell_type": "markdown",
   "metadata": {},
   "source": [
    "#Case Operations\n",
    "### Agenda:\n",
    "* - title()\n",
    "* - upper()\n",
    "* - lower()\n",
    "* - swapcase()\n",
    "* - capitalize()"
   ]
  },
  {
   "cell_type": "code",
   "execution_count": 632,
   "metadata": {},
   "outputs": [
    {
     "data": {
      "text/html": [
       "<div>\n",
       "<style scoped>\n",
       "    .dataframe tbody tr th:only-of-type {\n",
       "        vertical-align: middle;\n",
       "    }\n",
       "\n",
       "    .dataframe tbody tr th {\n",
       "        vertical-align: top;\n",
       "    }\n",
       "\n",
       "    .dataframe thead th {\n",
       "        text-align: right;\n",
       "    }\n",
       "</style>\n",
       "<table border=\"1\" class=\"dataframe\">\n",
       "  <thead>\n",
       "    <tr style=\"text-align: right;\">\n",
       "      <th></th>\n",
       "      <th>Name</th>\n",
       "      <th>Age</th>\n",
       "      <th>M/F</th>\n",
       "      <th>City</th>\n",
       "      <th>State</th>\n",
       "      <th>Country</th>\n",
       "      <th>Official Time</th>\n",
       "      <th>Overall</th>\n",
       "      <th>Gender</th>\n",
       "      <th>Years Ran</th>\n",
       "    </tr>\n",
       "  </thead>\n",
       "  <tbody>\n",
       "    <tr>\n",
       "      <th>0</th>\n",
       "      <td>Kirui, Geoffrey</td>\n",
       "      <td>24</td>\n",
       "      <td>M</td>\n",
       "      <td>Keringet</td>\n",
       "      <td>NaN</td>\n",
       "      <td>KEN</td>\n",
       "      <td>2:09:37</td>\n",
       "      <td>1</td>\n",
       "      <td>1</td>\n",
       "      <td>NaN</td>\n",
       "    </tr>\n",
       "    <tr>\n",
       "      <th>1</th>\n",
       "      <td>Rupp, Galen</td>\n",
       "      <td>30</td>\n",
       "      <td>M</td>\n",
       "      <td>Portland</td>\n",
       "      <td>OR</td>\n",
       "      <td>USA</td>\n",
       "      <td>2:09:58</td>\n",
       "      <td>2</td>\n",
       "      <td>2</td>\n",
       "      <td>NaN</td>\n",
       "    </tr>\n",
       "    <tr>\n",
       "      <th>2</th>\n",
       "      <td>Osako, Suguru</td>\n",
       "      <td>25</td>\n",
       "      <td>M</td>\n",
       "      <td>Machida-City</td>\n",
       "      <td>NaN</td>\n",
       "      <td>JPN</td>\n",
       "      <td>2:10:28</td>\n",
       "      <td>3</td>\n",
       "      <td>3</td>\n",
       "      <td>NaN</td>\n",
       "    </tr>\n",
       "    <tr>\n",
       "      <th>3</th>\n",
       "      <td>Biwott, Shadrack</td>\n",
       "      <td>32</td>\n",
       "      <td>M</td>\n",
       "      <td>Mammoth Lakes</td>\n",
       "      <td>CA</td>\n",
       "      <td>USA</td>\n",
       "      <td>2:12:08</td>\n",
       "      <td>4</td>\n",
       "      <td>4</td>\n",
       "      <td>NaN</td>\n",
       "    </tr>\n",
       "    <tr>\n",
       "      <th>4</th>\n",
       "      <td>Chebet, Wilson</td>\n",
       "      <td>31</td>\n",
       "      <td>M</td>\n",
       "      <td>Marakwet</td>\n",
       "      <td>NaN</td>\n",
       "      <td>KEN</td>\n",
       "      <td>2:12:35</td>\n",
       "      <td>5</td>\n",
       "      <td>5</td>\n",
       "      <td>2015</td>\n",
       "    </tr>\n",
       "  </tbody>\n",
       "</table>\n",
       "</div>"
      ],
      "text/plain": [
       "                Name  Age M/F           City State Country Official Time  \\\n",
       "0   Kirui, Geoffrey    24   M       Keringet   NaN     KEN       2:09:37   \n",
       "1     Rupp, Galen      30   M       Portland    OR     USA       2:09:58   \n",
       "2    Osako, Suguru     25   M   Machida-City   NaN     JPN       2:10:28   \n",
       "3   Biwott, Shadrack   32   M  Mammoth Lakes    CA     USA       2:12:08   \n",
       "4     Chebet, Wilson   31   M       Marakwet   NaN     KEN       2:12:35   \n",
       "\n",
       "   Overall  Gender Years Ran  \n",
       "0        1       1       NaN  \n",
       "1        2       2       NaN  \n",
       "2        3       3       NaN  \n",
       "3        4       4       NaN  \n",
       "4        5       5      2015  "
      ]
     },
     "execution_count": 632,
     "metadata": {},
     "output_type": "execute_result"
    }
   ],
   "source": [
    "boston.head()"
   ]
  },
  {
   "cell_type": "code",
   "execution_count": 633,
   "metadata": {},
   "outputs": [
    {
     "data": {
      "text/plain": [
       "0           Keringet\n",
       "1           Portland\n",
       "2       Machida-City\n",
       "3      Mammoth Lakes\n",
       "4           Marakwet\n",
       "           ...      \n",
       "995    North Andover\n",
       "996          Raleigh\n",
       "997        Arlington\n",
       "998          Danbury\n",
       "999         Santa Fe\n",
       "Name: City, Length: 1000, dtype: object"
      ]
     },
     "execution_count": 633,
     "metadata": {},
     "output_type": "execute_result"
    }
   ],
   "source": [
    "boston.City"
   ]
  },
  {
   "cell_type": "code",
   "execution_count": 634,
   "metadata": {},
   "outputs": [
    {
     "data": {
      "text/plain": [
       "0           Keringet\n",
       "1           Portland\n",
       "2       Machida-City\n",
       "3      Mammoth Lakes\n",
       "4           Marakwet\n",
       "           ...      \n",
       "995    North Andover\n",
       "996          Raleigh\n",
       "997        Arlington\n",
       "998          Danbury\n",
       "999         Santa Fe\n",
       "Name: City, Length: 1000, dtype: object"
      ]
     },
     "execution_count": 634,
     "metadata": {},
     "output_type": "execute_result"
    }
   ],
   "source": [
    "boston.City.str.title()"
   ]
  },
  {
   "cell_type": "code",
   "execution_count": 635,
   "metadata": {},
   "outputs": [
    {
     "data": {
      "text/plain": [
       "0           KERINGET\n",
       "1           PORTLAND\n",
       "2       MACHIDA-CITY\n",
       "3      MAMMOTH LAKES\n",
       "4           MARAKWET\n",
       "           ...      \n",
       "995    NORTH ANDOVER\n",
       "996          RALEIGH\n",
       "997        ARLINGTON\n",
       "998          DANBURY\n",
       "999         SANTA FE\n",
       "Name: City, Length: 1000, dtype: object"
      ]
     },
     "execution_count": 635,
     "metadata": {},
     "output_type": "execute_result"
    }
   ],
   "source": [
    "boston.City.str.upper()"
   ]
  },
  {
   "cell_type": "code",
   "execution_count": 636,
   "metadata": {},
   "outputs": [
    {
     "data": {
      "text/plain": [
       "0           kERINGET\n",
       "1           pORTLAND\n",
       "2       mACHIDA-cITY\n",
       "3      mAMMOTH lAKES\n",
       "4           mARAKWET\n",
       "           ...      \n",
       "995    nORTH aNDOVER\n",
       "996          rALEIGH\n",
       "997        aRLINGTON\n",
       "998          dANBURY\n",
       "999         sANTA fE\n",
       "Name: City, Length: 1000, dtype: object"
      ]
     },
     "execution_count": 636,
     "metadata": {},
     "output_type": "execute_result"
    }
   ],
   "source": [
    "boston.City.str.swapcase()"
   ]
  },
  {
   "cell_type": "code",
   "execution_count": 637,
   "metadata": {},
   "outputs": [
    {
     "data": {
      "text/plain": [
       "0           keringet\n",
       "1           portland\n",
       "2       machida-city\n",
       "3      mammoth lakes\n",
       "4           marakwet\n",
       "           ...      \n",
       "995    north andover\n",
       "996          raleigh\n",
       "997        arlington\n",
       "998          danbury\n",
       "999         santa fe\n",
       "Name: City, Length: 1000, dtype: object"
      ]
     },
     "execution_count": 637,
     "metadata": {},
     "output_type": "execute_result"
    }
   ],
   "source": [
    "boston.City.str.lower()"
   ]
  },
  {
   "cell_type": "code",
   "execution_count": 638,
   "metadata": {},
   "outputs": [
    {
     "data": {
      "text/plain": [
       "0           Keringet\n",
       "1           Portland\n",
       "2       Machida-city\n",
       "3      Mammoth lakes\n",
       "4           Marakwet\n",
       "           ...      \n",
       "995    North andover\n",
       "996          Raleigh\n",
       "997        Arlington\n",
       "998          Danbury\n",
       "999         Santa fe\n",
       "Name: City, Length: 1000, dtype: object"
      ]
     },
     "execution_count": 638,
     "metadata": {},
     "output_type": "execute_result"
    }
   ],
   "source": [
    "boston.City.str.capitalize()"
   ]
  },
  {
   "attachments": {},
   "cell_type": "markdown",
   "metadata": {},
   "source": [
    "# Finding character and Words\n",
    "### Agenda:\n",
    "* - find()\n",
    "* - rfind()"
   ]
  },
  {
   "cell_type": "code",
   "execution_count": 639,
   "metadata": {},
   "outputs": [
    {
     "data": {
      "text/html": [
       "<div>\n",
       "<style scoped>\n",
       "    .dataframe tbody tr th:only-of-type {\n",
       "        vertical-align: middle;\n",
       "    }\n",
       "\n",
       "    .dataframe tbody tr th {\n",
       "        vertical-align: top;\n",
       "    }\n",
       "\n",
       "    .dataframe thead th {\n",
       "        text-align: right;\n",
       "    }\n",
       "</style>\n",
       "<table border=\"1\" class=\"dataframe\">\n",
       "  <thead>\n",
       "    <tr style=\"text-align: right;\">\n",
       "      <th></th>\n",
       "      <th>Name</th>\n",
       "      <th>Age</th>\n",
       "      <th>M/F</th>\n",
       "      <th>City</th>\n",
       "      <th>State</th>\n",
       "      <th>Country</th>\n",
       "      <th>Official Time</th>\n",
       "      <th>Overall</th>\n",
       "      <th>Gender</th>\n",
       "      <th>Years Ran</th>\n",
       "    </tr>\n",
       "  </thead>\n",
       "  <tbody>\n",
       "    <tr>\n",
       "      <th>0</th>\n",
       "      <td>Kirui, Geoffrey</td>\n",
       "      <td>24</td>\n",
       "      <td>M</td>\n",
       "      <td>Keringet</td>\n",
       "      <td>NaN</td>\n",
       "      <td>KEN</td>\n",
       "      <td>2:09:37</td>\n",
       "      <td>1</td>\n",
       "      <td>1</td>\n",
       "      <td>NaN</td>\n",
       "    </tr>\n",
       "    <tr>\n",
       "      <th>1</th>\n",
       "      <td>Rupp, Galen</td>\n",
       "      <td>30</td>\n",
       "      <td>M</td>\n",
       "      <td>Portland</td>\n",
       "      <td>OR</td>\n",
       "      <td>USA</td>\n",
       "      <td>2:09:58</td>\n",
       "      <td>2</td>\n",
       "      <td>2</td>\n",
       "      <td>NaN</td>\n",
       "    </tr>\n",
       "    <tr>\n",
       "      <th>2</th>\n",
       "      <td>Osako, Suguru</td>\n",
       "      <td>25</td>\n",
       "      <td>M</td>\n",
       "      <td>Machida-City</td>\n",
       "      <td>NaN</td>\n",
       "      <td>JPN</td>\n",
       "      <td>2:10:28</td>\n",
       "      <td>3</td>\n",
       "      <td>3</td>\n",
       "      <td>NaN</td>\n",
       "    </tr>\n",
       "    <tr>\n",
       "      <th>3</th>\n",
       "      <td>Biwott, Shadrack</td>\n",
       "      <td>32</td>\n",
       "      <td>M</td>\n",
       "      <td>Mammoth Lakes</td>\n",
       "      <td>CA</td>\n",
       "      <td>USA</td>\n",
       "      <td>2:12:08</td>\n",
       "      <td>4</td>\n",
       "      <td>4</td>\n",
       "      <td>NaN</td>\n",
       "    </tr>\n",
       "    <tr>\n",
       "      <th>4</th>\n",
       "      <td>Chebet, Wilson</td>\n",
       "      <td>31</td>\n",
       "      <td>M</td>\n",
       "      <td>Marakwet</td>\n",
       "      <td>NaN</td>\n",
       "      <td>KEN</td>\n",
       "      <td>2:12:35</td>\n",
       "      <td>5</td>\n",
       "      <td>5</td>\n",
       "      <td>2015</td>\n",
       "    </tr>\n",
       "  </tbody>\n",
       "</table>\n",
       "</div>"
      ],
      "text/plain": [
       "                Name  Age M/F           City State Country Official Time  \\\n",
       "0   Kirui, Geoffrey    24   M       Keringet   NaN     KEN       2:09:37   \n",
       "1     Rupp, Galen      30   M       Portland    OR     USA       2:09:58   \n",
       "2    Osako, Suguru     25   M   Machida-City   NaN     JPN       2:10:28   \n",
       "3   Biwott, Shadrack   32   M  Mammoth Lakes    CA     USA       2:12:08   \n",
       "4     Chebet, Wilson   31   M       Marakwet   NaN     KEN       2:12:35   \n",
       "\n",
       "   Overall  Gender Years Ran  \n",
       "0        1       1       NaN  \n",
       "1        2       2       NaN  \n",
       "2        3       3       NaN  \n",
       "3        4       4       NaN  \n",
       "4        5       5      2015  "
      ]
     },
     "execution_count": 639,
     "metadata": {},
     "output_type": "execute_result"
    }
   ],
   "source": [
    "boston.head()"
   ]
  },
  {
   "cell_type": "code",
   "execution_count": 640,
   "metadata": {},
   "outputs": [
    {
     "data": {
      "text/plain": [
       "'Welcome to the text manipulation section'"
      ]
     },
     "execution_count": 640,
     "metadata": {},
     "output_type": "execute_result"
    }
   ],
   "source": [
    "s"
   ]
  },
  {
   "cell_type": "code",
   "execution_count": 641,
   "metadata": {},
   "outputs": [
    {
     "data": {
      "text/plain": [
       "17"
      ]
     },
     "execution_count": 641,
     "metadata": {},
     "output_type": "execute_result"
    }
   ],
   "source": [
    "s.find('x')"
   ]
  },
  {
   "cell_type": "code",
   "execution_count": 642,
   "metadata": {},
   "outputs": [
    {
     "data": {
      "text/plain": [
       "'W'"
      ]
     },
     "execution_count": 642,
     "metadata": {},
     "output_type": "execute_result"
    }
   ],
   "source": [
    "s[0]"
   ]
  },
  {
   "cell_type": "code",
   "execution_count": 643,
   "metadata": {},
   "outputs": [
    {
     "data": {
      "text/plain": [
       "'e'"
      ]
     },
     "execution_count": 643,
     "metadata": {},
     "output_type": "execute_result"
    }
   ],
   "source": [
    "s[1]"
   ]
  },
  {
   "cell_type": "code",
   "execution_count": 644,
   "metadata": {},
   "outputs": [
    {
     "data": {
      "text/plain": [
       "'x'"
      ]
     },
     "execution_count": 644,
     "metadata": {},
     "output_type": "execute_result"
    }
   ],
   "source": [
    "s[17]"
   ]
  },
  {
   "cell_type": "code",
   "execution_count": 645,
   "metadata": {},
   "outputs": [
    {
     "data": {
      "text/plain": [
       "15"
      ]
     },
     "execution_count": 645,
     "metadata": {},
     "output_type": "execute_result"
    }
   ],
   "source": [
    "s.find('text')"
   ]
  },
  {
   "cell_type": "code",
   "execution_count": 646,
   "metadata": {},
   "outputs": [
    {
     "data": {
      "text/plain": [
       "''"
      ]
     },
     "execution_count": 646,
     "metadata": {},
     "output_type": "execute_result"
    }
   ],
   "source": [
    "s[s.find('text'):len('text')]"
   ]
  },
  {
   "cell_type": "code",
   "execution_count": 647,
   "metadata": {},
   "outputs": [
    {
     "data": {
      "text/plain": [
       "4"
      ]
     },
     "execution_count": 647,
     "metadata": {},
     "output_type": "execute_result"
    }
   ],
   "source": [
    "len('text')"
   ]
  },
  {
   "cell_type": "code",
   "execution_count": 648,
   "metadata": {},
   "outputs": [
    {
     "data": {
      "text/plain": [
       "'text'"
      ]
     },
     "execution_count": 648,
     "metadata": {},
     "output_type": "execute_result"
    }
   ],
   "source": [
    "s[15:15+4]"
   ]
  },
  {
   "cell_type": "code",
   "execution_count": 649,
   "metadata": {},
   "outputs": [
    {
     "data": {
      "text/plain": [
       "'text'"
      ]
     },
     "execution_count": 649,
     "metadata": {},
     "output_type": "execute_result"
    }
   ],
   "source": [
    "text = 'text'\n",
    "start = s.find(text)\n",
    "end = start + len(text)\n",
    "s[start:end]"
   ]
  },
  {
   "cell_type": "code",
   "execution_count": 650,
   "metadata": {},
   "outputs": [
    {
     "data": {
      "text/plain": [
       "-1"
      ]
     },
     "execution_count": 650,
     "metadata": {},
     "output_type": "execute_result"
    }
   ],
   "source": [
    "s.find('soccer')"
   ]
  },
  {
   "cell_type": "code",
   "execution_count": 651,
   "metadata": {},
   "outputs": [
    {
     "data": {
      "text/html": [
       "<div>\n",
       "<style scoped>\n",
       "    .dataframe tbody tr th:only-of-type {\n",
       "        vertical-align: middle;\n",
       "    }\n",
       "\n",
       "    .dataframe tbody tr th {\n",
       "        vertical-align: top;\n",
       "    }\n",
       "\n",
       "    .dataframe thead th {\n",
       "        text-align: right;\n",
       "    }\n",
       "</style>\n",
       "<table border=\"1\" class=\"dataframe\">\n",
       "  <thead>\n",
       "    <tr style=\"text-align: right;\">\n",
       "      <th></th>\n",
       "      <th>Name</th>\n",
       "      <th>Age</th>\n",
       "      <th>M/F</th>\n",
       "      <th>City</th>\n",
       "      <th>State</th>\n",
       "      <th>Country</th>\n",
       "      <th>Official Time</th>\n",
       "      <th>Overall</th>\n",
       "      <th>Gender</th>\n",
       "      <th>Years Ran</th>\n",
       "    </tr>\n",
       "  </thead>\n",
       "  <tbody>\n",
       "    <tr>\n",
       "      <th>0</th>\n",
       "      <td>Kirui, Geoffrey</td>\n",
       "      <td>24</td>\n",
       "      <td>M</td>\n",
       "      <td>Keringet</td>\n",
       "      <td>NaN</td>\n",
       "      <td>KEN</td>\n",
       "      <td>2:09:37</td>\n",
       "      <td>1</td>\n",
       "      <td>1</td>\n",
       "      <td>NaN</td>\n",
       "    </tr>\n",
       "    <tr>\n",
       "      <th>1</th>\n",
       "      <td>Rupp, Galen</td>\n",
       "      <td>30</td>\n",
       "      <td>M</td>\n",
       "      <td>Portland</td>\n",
       "      <td>OR</td>\n",
       "      <td>USA</td>\n",
       "      <td>2:09:58</td>\n",
       "      <td>2</td>\n",
       "      <td>2</td>\n",
       "      <td>NaN</td>\n",
       "    </tr>\n",
       "    <tr>\n",
       "      <th>2</th>\n",
       "      <td>Osako, Suguru</td>\n",
       "      <td>25</td>\n",
       "      <td>M</td>\n",
       "      <td>Machida-City</td>\n",
       "      <td>NaN</td>\n",
       "      <td>JPN</td>\n",
       "      <td>2:10:28</td>\n",
       "      <td>3</td>\n",
       "      <td>3</td>\n",
       "      <td>NaN</td>\n",
       "    </tr>\n",
       "    <tr>\n",
       "      <th>3</th>\n",
       "      <td>Biwott, Shadrack</td>\n",
       "      <td>32</td>\n",
       "      <td>M</td>\n",
       "      <td>Mammoth Lakes</td>\n",
       "      <td>CA</td>\n",
       "      <td>USA</td>\n",
       "      <td>2:12:08</td>\n",
       "      <td>4</td>\n",
       "      <td>4</td>\n",
       "      <td>NaN</td>\n",
       "    </tr>\n",
       "    <tr>\n",
       "      <th>4</th>\n",
       "      <td>Chebet, Wilson</td>\n",
       "      <td>31</td>\n",
       "      <td>M</td>\n",
       "      <td>Marakwet</td>\n",
       "      <td>NaN</td>\n",
       "      <td>KEN</td>\n",
       "      <td>2:12:35</td>\n",
       "      <td>5</td>\n",
       "      <td>5</td>\n",
       "      <td>2015</td>\n",
       "    </tr>\n",
       "  </tbody>\n",
       "</table>\n",
       "</div>"
      ],
      "text/plain": [
       "                Name  Age M/F           City State Country Official Time  \\\n",
       "0   Kirui, Geoffrey    24   M       Keringet   NaN     KEN       2:09:37   \n",
       "1     Rupp, Galen      30   M       Portland    OR     USA       2:09:58   \n",
       "2    Osako, Suguru     25   M   Machida-City   NaN     JPN       2:10:28   \n",
       "3   Biwott, Shadrack   32   M  Mammoth Lakes    CA     USA       2:12:08   \n",
       "4     Chebet, Wilson   31   M       Marakwet   NaN     KEN       2:12:35   \n",
       "\n",
       "   Overall  Gender Years Ran  \n",
       "0        1       1       NaN  \n",
       "1        2       2       NaN  \n",
       "2        3       3       NaN  \n",
       "3        4       4       NaN  \n",
       "4        5       5      2015  "
      ]
     },
     "execution_count": 651,
     "metadata": {},
     "output_type": "execute_result"
    }
   ],
   "source": [
    "boston.head()"
   ]
  },
  {
   "cell_type": "code",
   "execution_count": 652,
   "metadata": {},
   "outputs": [
    {
     "data": {
      "text/plain": [
       "0     -1\n",
       "1     -1\n",
       "2     -1\n",
       "3     -1\n",
       "4     -1\n",
       "      ..\n",
       "995   -1\n",
       "996   -1\n",
       "997   -1\n",
       "998   -1\n",
       "999   -1\n",
       "Name: Name, Length: 1000, dtype: int64"
      ]
     },
     "execution_count": 652,
     "metadata": {},
     "output_type": "execute_result"
    }
   ],
   "source": [
    "boston.Name.str.find('Andy')"
   ]
  },
  {
   "cell_type": "code",
   "execution_count": 653,
   "metadata": {},
   "outputs": [
    {
     "data": {
      "text/plain": [
       "-1     998\n",
       " 8       1\n",
       " 12      1\n",
       "Name: Name, dtype: int64"
      ]
     },
     "execution_count": 653,
     "metadata": {},
     "output_type": "execute_result"
    }
   ],
   "source": [
    "boston.Name.str.find('Andy').value_counts()"
   ]
  },
  {
   "cell_type": "code",
   "execution_count": 654,
   "metadata": {},
   "outputs": [
    {
     "data": {
      "text/plain": [
       "0      False\n",
       "1      False\n",
       "2      False\n",
       "3      False\n",
       "4      False\n",
       "       ...  \n",
       "995    False\n",
       "996    False\n",
       "997    False\n",
       "998    False\n",
       "999    False\n",
       "Name: Name, Length: 1000, dtype: object"
      ]
     },
     "execution_count": 654,
     "metadata": {},
     "output_type": "execute_result"
    }
   ],
   "source": [
    "filter_name = boston.Name.str.find('Andy')\n",
    "filter_name = filter_name.replace(-1, False)\n",
    "filter_name =filter_name.replace(1, True)\n",
    "filter_name"
   ]
  },
  {
   "cell_type": "code",
   "execution_count": 655,
   "metadata": {},
   "outputs": [
    {
     "data": {
      "text/plain": [
       "False    998\n",
       "8          1\n",
       "12         1\n",
       "Name: Name, dtype: int64"
      ]
     },
     "execution_count": 655,
     "metadata": {},
     "output_type": "execute_result"
    }
   ],
   "source": [
    "filter_name.value_counts()"
   ]
  },
  {
   "cell_type": "code",
   "execution_count": 656,
   "metadata": {},
   "outputs": [
    {
     "data": {
      "text/plain": [
       "(1000,)"
      ]
     },
     "execution_count": 656,
     "metadata": {},
     "output_type": "execute_result"
    }
   ],
   "source": [
    "filter_name.shape"
   ]
  },
  {
   "cell_type": "code",
   "execution_count": 657,
   "metadata": {},
   "outputs": [
    {
     "data": {
      "text/plain": [
       "0         Kirui, Geoffrey \n",
       "1           Rupp, Galen   \n",
       "2          Osako, Suguru  \n",
       "3         Biwott, Shadrack\n",
       "4           Chebet, Wilson\n",
       "              ...         \n",
       "995           Larosa, Mark\n",
       "996    Williamson, Jerry A\n",
       "997        Mccue, Daniel T\n",
       "998           Larosa, John\n",
       "999         Sanchez, Sam R\n",
       "Name: Name, Length: 1000, dtype: object"
      ]
     },
     "execution_count": 657,
     "metadata": {},
     "output_type": "execute_result"
    }
   ],
   "source": [
    "boston.Name"
   ]
  },
  {
   "cell_type": "code",
   "execution_count": 658,
   "metadata": {},
   "outputs": [
    {
     "data": {
      "text/plain": [
       "' Kirui, Geoffrey '"
      ]
     },
     "execution_count": 658,
     "metadata": {},
     "output_type": "execute_result"
    }
   ],
   "source": [
    "boston.Name[0]"
   ]
  },
  {
   "cell_type": "code",
   "execution_count": 659,
   "metadata": {},
   "outputs": [],
   "source": [
    "name_to_filter = boston.Name.iloc[0]"
   ]
  },
  {
   "cell_type": "code",
   "execution_count": 660,
   "metadata": {},
   "outputs": [
    {
     "data": {
      "text/plain": [
       "' Kirui, Geoffrey '"
      ]
     },
     "execution_count": 660,
     "metadata": {},
     "output_type": "execute_result"
    }
   ],
   "source": [
    "name_to_filter"
   ]
  },
  {
   "cell_type": "code",
   "execution_count": 661,
   "metadata": {},
   "outputs": [
    {
     "data": {
      "text/html": [
       "<div>\n",
       "<style scoped>\n",
       "    .dataframe tbody tr th:only-of-type {\n",
       "        vertical-align: middle;\n",
       "    }\n",
       "\n",
       "    .dataframe tbody tr th {\n",
       "        vertical-align: top;\n",
       "    }\n",
       "\n",
       "    .dataframe thead th {\n",
       "        text-align: right;\n",
       "    }\n",
       "</style>\n",
       "<table border=\"1\" class=\"dataframe\">\n",
       "  <thead>\n",
       "    <tr style=\"text-align: right;\">\n",
       "      <th></th>\n",
       "      <th>Name</th>\n",
       "      <th>Age</th>\n",
       "      <th>M/F</th>\n",
       "      <th>City</th>\n",
       "      <th>State</th>\n",
       "      <th>Country</th>\n",
       "      <th>Official Time</th>\n",
       "      <th>Overall</th>\n",
       "      <th>Gender</th>\n",
       "      <th>Years Ran</th>\n",
       "    </tr>\n",
       "  </thead>\n",
       "  <tbody>\n",
       "  </tbody>\n",
       "</table>\n",
       "</div>"
      ],
      "text/plain": [
       "Empty DataFrame\n",
       "Columns: [Name, Age, M/F, City, State, Country, Official Time, Overall, Gender, Years Ran]\n",
       "Index: []"
      ]
     },
     "execution_count": 661,
     "metadata": {},
     "output_type": "execute_result"
    }
   ],
   "source": [
    "boston.loc[(boston.Name == 'Kirui, Geoffrey')]"
   ]
  },
  {
   "cell_type": "code",
   "execution_count": 662,
   "metadata": {},
   "outputs": [
    {
     "data": {
      "text/html": [
       "<div>\n",
       "<style scoped>\n",
       "    .dataframe tbody tr th:only-of-type {\n",
       "        vertical-align: middle;\n",
       "    }\n",
       "\n",
       "    .dataframe tbody tr th {\n",
       "        vertical-align: top;\n",
       "    }\n",
       "\n",
       "    .dataframe thead th {\n",
       "        text-align: right;\n",
       "    }\n",
       "</style>\n",
       "<table border=\"1\" class=\"dataframe\">\n",
       "  <thead>\n",
       "    <tr style=\"text-align: right;\">\n",
       "      <th></th>\n",
       "      <th>Name</th>\n",
       "      <th>Age</th>\n",
       "      <th>M/F</th>\n",
       "      <th>City</th>\n",
       "      <th>State</th>\n",
       "      <th>Country</th>\n",
       "      <th>Official Time</th>\n",
       "      <th>Overall</th>\n",
       "      <th>Gender</th>\n",
       "      <th>Years Ran</th>\n",
       "    </tr>\n",
       "  </thead>\n",
       "  <tbody>\n",
       "    <tr>\n",
       "      <th>0</th>\n",
       "      <td>Kirui, Geoffrey</td>\n",
       "      <td>24</td>\n",
       "      <td>M</td>\n",
       "      <td>Keringet</td>\n",
       "      <td>NaN</td>\n",
       "      <td>KEN</td>\n",
       "      <td>2:09:37</td>\n",
       "      <td>1</td>\n",
       "      <td>1</td>\n",
       "      <td>NaN</td>\n",
       "    </tr>\n",
       "  </tbody>\n",
       "</table>\n",
       "</div>"
      ],
      "text/plain": [
       "                Name  Age M/F      City State Country Official Time  Overall  \\\n",
       "0   Kirui, Geoffrey    24   M  Keringet   NaN     KEN       2:09:37        1   \n",
       "\n",
       "   Gender Years Ran  \n",
       "0       1       NaN  "
      ]
     },
     "execution_count": 662,
     "metadata": {},
     "output_type": "execute_result"
    }
   ],
   "source": [
    "boston.loc[boston.Name == name_to_filter]"
   ]
  },
  {
   "cell_type": "code",
   "execution_count": 663,
   "metadata": {},
   "outputs": [
    {
     "data": {
      "text/plain": [
       " Kirui, Geoffrey                1\n",
       "Lhuissier, Francois             1\n",
       "Orifice, Michael                1\n",
       "Sandreuter, Stefan B.           1\n",
       "Avalos, Anthony B.              1\n",
       "                               ..\n",
       "Hunter, Dale                    1\n",
       "Schwartzbard, Aaron             1\n",
       "Widtfeldt, Daniel               1\n",
       "De Samaniego Steta, Fernando    1\n",
       "Sanchez, Sam R                  1\n",
       "Name: Name, Length: 1000, dtype: int64"
      ]
     },
     "execution_count": 663,
     "metadata": {},
     "output_type": "execute_result"
    }
   ],
   "source": [
    "boston.Name.value_counts()"
   ]
  },
  {
   "cell_type": "code",
   "execution_count": 664,
   "metadata": {},
   "outputs": [
    {
     "data": {
      "text/plain": [
       " Kirui, Geoffrey                1\n",
       "Orifice, Michael                1\n",
       "Sandreuter, Stefan B.           1\n",
       "Avalos, Anthony B.              1\n",
       "O'Donoghue, Graham              1\n",
       "                               ..\n",
       "Schwartzbard, Aaron             1\n",
       "Widtfeldt, Daniel               1\n",
       "De Samaniego Steta, Fernando    1\n",
       "Montoya, Alvaro Sr.             1\n",
       "Sanchez, Sam R                  1\n",
       "Name: Name, Length: 1000, dtype: int64"
      ]
     },
     "execution_count": 664,
     "metadata": {},
     "output_type": "execute_result"
    }
   ],
   "source": [
    "boston.Name.value_counts(sort=True, ascending=True)"
   ]
  },
  {
   "cell_type": "code",
   "execution_count": 665,
   "metadata": {},
   "outputs": [
    {
     "data": {
      "text/html": [
       "<div>\n",
       "<style scoped>\n",
       "    .dataframe tbody tr th:only-of-type {\n",
       "        vertical-align: middle;\n",
       "    }\n",
       "\n",
       "    .dataframe tbody tr th {\n",
       "        vertical-align: top;\n",
       "    }\n",
       "\n",
       "    .dataframe thead th {\n",
       "        text-align: right;\n",
       "    }\n",
       "</style>\n",
       "<table border=\"1\" class=\"dataframe\">\n",
       "  <thead>\n",
       "    <tr style=\"text-align: right;\">\n",
       "      <th></th>\n",
       "      <th>Name</th>\n",
       "      <th>Age</th>\n",
       "      <th>M/F</th>\n",
       "      <th>City</th>\n",
       "      <th>State</th>\n",
       "      <th>Country</th>\n",
       "      <th>Official Time</th>\n",
       "      <th>Overall</th>\n",
       "      <th>Gender</th>\n",
       "      <th>Years Ran</th>\n",
       "    </tr>\n",
       "  </thead>\n",
       "  <tbody>\n",
       "    <tr>\n",
       "      <th>0</th>\n",
       "      <td>Kirui, Geoffrey</td>\n",
       "      <td>24</td>\n",
       "      <td>M</td>\n",
       "      <td>Keringet</td>\n",
       "      <td>NaN</td>\n",
       "      <td>KEN</td>\n",
       "      <td>2:09:37</td>\n",
       "      <td>1</td>\n",
       "      <td>1</td>\n",
       "      <td>NaN</td>\n",
       "    </tr>\n",
       "    <tr>\n",
       "      <th>0</th>\n",
       "      <td>Kirui, Geoffrey</td>\n",
       "      <td>24</td>\n",
       "      <td>M</td>\n",
       "      <td>Keringet</td>\n",
       "      <td>NaN</td>\n",
       "      <td>KEN</td>\n",
       "      <td>2:09:37</td>\n",
       "      <td>1</td>\n",
       "      <td>1</td>\n",
       "      <td>NaN</td>\n",
       "    </tr>\n",
       "    <tr>\n",
       "      <th>0</th>\n",
       "      <td>Kirui, Geoffrey</td>\n",
       "      <td>24</td>\n",
       "      <td>M</td>\n",
       "      <td>Keringet</td>\n",
       "      <td>NaN</td>\n",
       "      <td>KEN</td>\n",
       "      <td>2:09:37</td>\n",
       "      <td>1</td>\n",
       "      <td>1</td>\n",
       "      <td>NaN</td>\n",
       "    </tr>\n",
       "    <tr>\n",
       "      <th>0</th>\n",
       "      <td>Kirui, Geoffrey</td>\n",
       "      <td>24</td>\n",
       "      <td>M</td>\n",
       "      <td>Keringet</td>\n",
       "      <td>NaN</td>\n",
       "      <td>KEN</td>\n",
       "      <td>2:09:37</td>\n",
       "      <td>1</td>\n",
       "      <td>1</td>\n",
       "      <td>NaN</td>\n",
       "    </tr>\n",
       "    <tr>\n",
       "      <th>0</th>\n",
       "      <td>Kirui, Geoffrey</td>\n",
       "      <td>24</td>\n",
       "      <td>M</td>\n",
       "      <td>Keringet</td>\n",
       "      <td>NaN</td>\n",
       "      <td>KEN</td>\n",
       "      <td>2:09:37</td>\n",
       "      <td>1</td>\n",
       "      <td>1</td>\n",
       "      <td>NaN</td>\n",
       "    </tr>\n",
       "    <tr>\n",
       "      <th>...</th>\n",
       "      <td>...</td>\n",
       "      <td>...</td>\n",
       "      <td>...</td>\n",
       "      <td>...</td>\n",
       "      <td>...</td>\n",
       "      <td>...</td>\n",
       "      <td>...</td>\n",
       "      <td>...</td>\n",
       "      <td>...</td>\n",
       "      <td>...</td>\n",
       "    </tr>\n",
       "    <tr>\n",
       "      <th>0</th>\n",
       "      <td>Kirui, Geoffrey</td>\n",
       "      <td>24</td>\n",
       "      <td>M</td>\n",
       "      <td>Keringet</td>\n",
       "      <td>NaN</td>\n",
       "      <td>KEN</td>\n",
       "      <td>2:09:37</td>\n",
       "      <td>1</td>\n",
       "      <td>1</td>\n",
       "      <td>NaN</td>\n",
       "    </tr>\n",
       "    <tr>\n",
       "      <th>0</th>\n",
       "      <td>Kirui, Geoffrey</td>\n",
       "      <td>24</td>\n",
       "      <td>M</td>\n",
       "      <td>Keringet</td>\n",
       "      <td>NaN</td>\n",
       "      <td>KEN</td>\n",
       "      <td>2:09:37</td>\n",
       "      <td>1</td>\n",
       "      <td>1</td>\n",
       "      <td>NaN</td>\n",
       "    </tr>\n",
       "    <tr>\n",
       "      <th>0</th>\n",
       "      <td>Kirui, Geoffrey</td>\n",
       "      <td>24</td>\n",
       "      <td>M</td>\n",
       "      <td>Keringet</td>\n",
       "      <td>NaN</td>\n",
       "      <td>KEN</td>\n",
       "      <td>2:09:37</td>\n",
       "      <td>1</td>\n",
       "      <td>1</td>\n",
       "      <td>NaN</td>\n",
       "    </tr>\n",
       "    <tr>\n",
       "      <th>0</th>\n",
       "      <td>Kirui, Geoffrey</td>\n",
       "      <td>24</td>\n",
       "      <td>M</td>\n",
       "      <td>Keringet</td>\n",
       "      <td>NaN</td>\n",
       "      <td>KEN</td>\n",
       "      <td>2:09:37</td>\n",
       "      <td>1</td>\n",
       "      <td>1</td>\n",
       "      <td>NaN</td>\n",
       "    </tr>\n",
       "    <tr>\n",
       "      <th>0</th>\n",
       "      <td>Kirui, Geoffrey</td>\n",
       "      <td>24</td>\n",
       "      <td>M</td>\n",
       "      <td>Keringet</td>\n",
       "      <td>NaN</td>\n",
       "      <td>KEN</td>\n",
       "      <td>2:09:37</td>\n",
       "      <td>1</td>\n",
       "      <td>1</td>\n",
       "      <td>NaN</td>\n",
       "    </tr>\n",
       "  </tbody>\n",
       "</table>\n",
       "<p>1000 rows × 10 columns</p>\n",
       "</div>"
      ],
      "text/plain": [
       "                 Name  Age M/F      City State Country Official Time  Overall  \\\n",
       "0    Kirui, Geoffrey    24   M  Keringet   NaN     KEN       2:09:37        1   \n",
       "0    Kirui, Geoffrey    24   M  Keringet   NaN     KEN       2:09:37        1   \n",
       "0    Kirui, Geoffrey    24   M  Keringet   NaN     KEN       2:09:37        1   \n",
       "0    Kirui, Geoffrey    24   M  Keringet   NaN     KEN       2:09:37        1   \n",
       "0    Kirui, Geoffrey    24   M  Keringet   NaN     KEN       2:09:37        1   \n",
       "..                ...  ...  ..       ...   ...     ...           ...      ...   \n",
       "0    Kirui, Geoffrey    24   M  Keringet   NaN     KEN       2:09:37        1   \n",
       "0    Kirui, Geoffrey    24   M  Keringet   NaN     KEN       2:09:37        1   \n",
       "0    Kirui, Geoffrey    24   M  Keringet   NaN     KEN       2:09:37        1   \n",
       "0    Kirui, Geoffrey    24   M  Keringet   NaN     KEN       2:09:37        1   \n",
       "0    Kirui, Geoffrey    24   M  Keringet   NaN     KEN       2:09:37        1   \n",
       "\n",
       "    Gender Years Ran  \n",
       "0        1       NaN  \n",
       "0        1       NaN  \n",
       "0        1       NaN  \n",
       "0        1       NaN  \n",
       "0        1       NaN  \n",
       "..     ...       ...  \n",
       "0        1       NaN  \n",
       "0        1       NaN  \n",
       "0        1       NaN  \n",
       "0        1       NaN  \n",
       "0        1       NaN  \n",
       "\n",
       "[1000 rows x 10 columns]"
      ]
     },
     "execution_count": 665,
     "metadata": {},
     "output_type": "execute_result"
    }
   ],
   "source": [
    "boston.iloc[filter_name]"
   ]
  },
  {
   "cell_type": "code",
   "execution_count": 666,
   "metadata": {},
   "outputs": [
    {
     "data": {
      "text/html": [
       "<div>\n",
       "<style scoped>\n",
       "    .dataframe tbody tr th:only-of-type {\n",
       "        vertical-align: middle;\n",
       "    }\n",
       "\n",
       "    .dataframe tbody tr th {\n",
       "        vertical-align: top;\n",
       "    }\n",
       "\n",
       "    .dataframe thead th {\n",
       "        text-align: right;\n",
       "    }\n",
       "</style>\n",
       "<table border=\"1\" class=\"dataframe\">\n",
       "  <thead>\n",
       "    <tr style=\"text-align: right;\">\n",
       "      <th></th>\n",
       "      <th>Name</th>\n",
       "      <th>Age</th>\n",
       "      <th>M/F</th>\n",
       "      <th>City</th>\n",
       "      <th>State</th>\n",
       "      <th>Country</th>\n",
       "      <th>Official Time</th>\n",
       "      <th>Overall</th>\n",
       "      <th>Gender</th>\n",
       "      <th>Years Ran</th>\n",
       "    </tr>\n",
       "  </thead>\n",
       "  <tbody>\n",
       "    <tr>\n",
       "      <th>790</th>\n",
       "      <td>Wright, Andy</td>\n",
       "      <td>28</td>\n",
       "      <td>M</td>\n",
       "      <td>London</td>\n",
       "      <td>NaN</td>\n",
       "      <td>GBR</td>\n",
       "      <td>2:53:27</td>\n",
       "      <td>791</td>\n",
       "      <td>745</td>\n",
       "      <td>NaN</td>\n",
       "    </tr>\n",
       "    <tr>\n",
       "      <th>803</th>\n",
       "      <td>Highlander, Andy</td>\n",
       "      <td>29</td>\n",
       "      <td>M</td>\n",
       "      <td>Signal Mountain</td>\n",
       "      <td>TN</td>\n",
       "      <td>USA</td>\n",
       "      <td>2:53:35</td>\n",
       "      <td>804</td>\n",
       "      <td>758</td>\n",
       "      <td>NaN</td>\n",
       "    </tr>\n",
       "  </tbody>\n",
       "</table>\n",
       "</div>"
      ],
      "text/plain": [
       "                 Name  Age M/F             City State Country Official Time  \\\n",
       "790      Wright, Andy   28   M           London   NaN     GBR       2:53:27   \n",
       "803  Highlander, Andy   29   M  Signal Mountain    TN     USA       2:53:35   \n",
       "\n",
       "     Overall  Gender Years Ran  \n",
       "790      791     745       NaN  \n",
       "803      804     758       NaN  "
      ]
     },
     "execution_count": 666,
     "metadata": {},
     "output_type": "execute_result"
    }
   ],
   "source": [
    "boston.loc[boston.Name.str.contains('Andy')]"
   ]
  },
  {
   "cell_type": "code",
   "execution_count": 667,
   "metadata": {},
   "outputs": [
    {
     "data": {
      "text/plain": [
       "-1     988\n",
       " 8       3\n",
       " 10      3\n",
       " 7       2\n",
       " 9       2\n",
       " 12      1\n",
       " 6       1\n",
       "Name: Name, dtype: int64"
      ]
     },
     "execution_count": 667,
     "metadata": {},
     "output_type": "execute_result"
    }
   ],
   "source": [
    "boston.Name.str.find('James').value_counts()"
   ]
  },
  {
   "cell_type": "code",
   "execution_count": 668,
   "metadata": {},
   "outputs": [
    {
     "data": {
      "text/html": [
       "<div>\n",
       "<style scoped>\n",
       "    .dataframe tbody tr th:only-of-type {\n",
       "        vertical-align: middle;\n",
       "    }\n",
       "\n",
       "    .dataframe tbody tr th {\n",
       "        vertical-align: top;\n",
       "    }\n",
       "\n",
       "    .dataframe thead th {\n",
       "        text-align: right;\n",
       "    }\n",
       "</style>\n",
       "<table border=\"1\" class=\"dataframe\">\n",
       "  <thead>\n",
       "    <tr style=\"text-align: right;\">\n",
       "      <th></th>\n",
       "      <th>Name</th>\n",
       "      <th>Age</th>\n",
       "      <th>M/F</th>\n",
       "      <th>City</th>\n",
       "      <th>State</th>\n",
       "      <th>Country</th>\n",
       "      <th>Official Time</th>\n",
       "      <th>Overall</th>\n",
       "      <th>Gender</th>\n",
       "      <th>Years Ran</th>\n",
       "    </tr>\n",
       "  </thead>\n",
       "  <tbody>\n",
       "    <tr>\n",
       "      <th>176</th>\n",
       "      <td>Miller, James L</td>\n",
       "      <td>25</td>\n",
       "      <td>M</td>\n",
       "      <td>Oak Ridge</td>\n",
       "      <td>TN</td>\n",
       "      <td>USA</td>\n",
       "      <td>2:39:33</td>\n",
       "      <td>177</td>\n",
       "      <td>157</td>\n",
       "      <td>NaN</td>\n",
       "    </tr>\n",
       "    <tr>\n",
       "      <th>243</th>\n",
       "      <td>Lloyd, James</td>\n",
       "      <td>24</td>\n",
       "      <td>M</td>\n",
       "      <td>San Diego</td>\n",
       "      <td>CA</td>\n",
       "      <td>USA</td>\n",
       "      <td>2:42:38</td>\n",
       "      <td>244</td>\n",
       "      <td>220</td>\n",
       "      <td>2016</td>\n",
       "    </tr>\n",
       "    <tr>\n",
       "      <th>246</th>\n",
       "      <td>Jackson, James P</td>\n",
       "      <td>27</td>\n",
       "      <td>M</td>\n",
       "      <td>Denver</td>\n",
       "      <td>CO</td>\n",
       "      <td>USA</td>\n",
       "      <td>2:42:43</td>\n",
       "      <td>247</td>\n",
       "      <td>223</td>\n",
       "      <td>NaN</td>\n",
       "    </tr>\n",
       "    <tr>\n",
       "      <th>574</th>\n",
       "      <td>Onigkeit, James</td>\n",
       "      <td>49</td>\n",
       "      <td>M</td>\n",
       "      <td>Rochester</td>\n",
       "      <td>MN</td>\n",
       "      <td>USA</td>\n",
       "      <td>2:49:48</td>\n",
       "      <td>575</td>\n",
       "      <td>537</td>\n",
       "      <td>2016</td>\n",
       "    </tr>\n",
       "    <tr>\n",
       "      <th>605</th>\n",
       "      <td>Fisher, James A</td>\n",
       "      <td>26</td>\n",
       "      <td>M</td>\n",
       "      <td>Arbutus</td>\n",
       "      <td>MD</td>\n",
       "      <td>USA</td>\n",
       "      <td>2:50:23</td>\n",
       "      <td>606</td>\n",
       "      <td>566</td>\n",
       "      <td>2015:2016</td>\n",
       "    </tr>\n",
       "    <tr>\n",
       "      <th>650</th>\n",
       "      <td>O'Sullivan, James</td>\n",
       "      <td>32</td>\n",
       "      <td>M</td>\n",
       "      <td>Arvada</td>\n",
       "      <td>CO</td>\n",
       "      <td>USA</td>\n",
       "      <td>2:51:15</td>\n",
       "      <td>651</td>\n",
       "      <td>611</td>\n",
       "      <td>2016</td>\n",
       "    </tr>\n",
       "    <tr>\n",
       "      <th>657</th>\n",
       "      <td>Perez, James P.</td>\n",
       "      <td>25</td>\n",
       "      <td>M</td>\n",
       "      <td>Charlotte</td>\n",
       "      <td>NC</td>\n",
       "      <td>USA</td>\n",
       "      <td>2:51:19</td>\n",
       "      <td>658</td>\n",
       "      <td>618</td>\n",
       "      <td>NaN</td>\n",
       "    </tr>\n",
       "    <tr>\n",
       "      <th>723</th>\n",
       "      <td>Newhouse, James B</td>\n",
       "      <td>24</td>\n",
       "      <td>M</td>\n",
       "      <td>Boston</td>\n",
       "      <td>MA</td>\n",
       "      <td>USA</td>\n",
       "      <td>2:52:30</td>\n",
       "      <td>724</td>\n",
       "      <td>681</td>\n",
       "      <td>NaN</td>\n",
       "    </tr>\n",
       "    <tr>\n",
       "      <th>782</th>\n",
       "      <td>Greenham, James D.</td>\n",
       "      <td>40</td>\n",
       "      <td>M</td>\n",
       "      <td>Austin</td>\n",
       "      <td>TX</td>\n",
       "      <td>USA</td>\n",
       "      <td>2:53:14</td>\n",
       "      <td>783</td>\n",
       "      <td>737</td>\n",
       "      <td>NaN</td>\n",
       "    </tr>\n",
       "    <tr>\n",
       "      <th>923</th>\n",
       "      <td>Baek, James</td>\n",
       "      <td>23</td>\n",
       "      <td>M</td>\n",
       "      <td>Indianapolis</td>\n",
       "      <td>IN</td>\n",
       "      <td>USA</td>\n",
       "      <td>2:55:12</td>\n",
       "      <td>924</td>\n",
       "      <td>873</td>\n",
       "      <td>2016</td>\n",
       "    </tr>\n",
       "    <tr>\n",
       "      <th>975</th>\n",
       "      <td>Mcevoy, James R</td>\n",
       "      <td>32</td>\n",
       "      <td>M</td>\n",
       "      <td>Brooklyn</td>\n",
       "      <td>NY</td>\n",
       "      <td>USA</td>\n",
       "      <td>2:55:56</td>\n",
       "      <td>976</td>\n",
       "      <td>921</td>\n",
       "      <td>NaN</td>\n",
       "    </tr>\n",
       "    <tr>\n",
       "      <th>976</th>\n",
       "      <td>Blowers, James</td>\n",
       "      <td>45</td>\n",
       "      <td>M</td>\n",
       "      <td>Cary</td>\n",
       "      <td>NC</td>\n",
       "      <td>USA</td>\n",
       "      <td>2:55:57</td>\n",
       "      <td>977</td>\n",
       "      <td>922</td>\n",
       "      <td>NaN</td>\n",
       "    </tr>\n",
       "  </tbody>\n",
       "</table>\n",
       "</div>"
      ],
      "text/plain": [
       "                   Name  Age M/F          City State Country Official Time  \\\n",
       "176     Miller, James L   25   M     Oak Ridge    TN     USA       2:39:33   \n",
       "243        Lloyd, James   24   M     San Diego    CA     USA       2:42:38   \n",
       "246    Jackson, James P   27   M        Denver    CO     USA       2:42:43   \n",
       "574     Onigkeit, James   49   M     Rochester    MN     USA       2:49:48   \n",
       "605     Fisher, James A   26   M       Arbutus    MD     USA       2:50:23   \n",
       "650   O'Sullivan, James   32   M        Arvada    CO     USA       2:51:15   \n",
       "657     Perez, James P.   25   M     Charlotte    NC     USA       2:51:19   \n",
       "723   Newhouse, James B   24   M        Boston    MA     USA       2:52:30   \n",
       "782  Greenham, James D.   40   M        Austin    TX     USA       2:53:14   \n",
       "923         Baek, James   23   M  Indianapolis    IN     USA       2:55:12   \n",
       "975     Mcevoy, James R   32   M      Brooklyn    NY     USA       2:55:56   \n",
       "976      Blowers, James   45   M          Cary    NC     USA       2:55:57   \n",
       "\n",
       "     Overall  Gender  Years Ran  \n",
       "176      177     157        NaN  \n",
       "243      244     220       2016  \n",
       "246      247     223        NaN  \n",
       "574      575     537       2016  \n",
       "605      606     566  2015:2016  \n",
       "650      651     611       2016  \n",
       "657      658     618        NaN  \n",
       "723      724     681        NaN  \n",
       "782      783     737        NaN  \n",
       "923      924     873       2016  \n",
       "975      976     921        NaN  \n",
       "976      977     922        NaN  "
      ]
     },
     "execution_count": 668,
     "metadata": {},
     "output_type": "execute_result"
    }
   ],
   "source": [
    "boston.loc[boston.Name.str.contains('James')]"
   ]
  },
  {
   "cell_type": "code",
   "execution_count": 669,
   "metadata": {},
   "outputs": [],
   "source": [
    "p = 'pandas numpy numpy pandas'"
   ]
  },
  {
   "cell_type": "code",
   "execution_count": 670,
   "metadata": {},
   "outputs": [
    {
     "data": {
      "text/plain": [
       "0"
      ]
     },
     "execution_count": 670,
     "metadata": {},
     "output_type": "execute_result"
    }
   ],
   "source": [
    "p.find('pandas')"
   ]
  },
  {
   "cell_type": "code",
   "execution_count": 671,
   "metadata": {},
   "outputs": [
    {
     "data": {
      "text/plain": [
       "19"
      ]
     },
     "execution_count": 671,
     "metadata": {},
     "output_type": "execute_result"
    }
   ],
   "source": [
    "p.rfind('pandas')"
   ]
  },
  {
   "cell_type": "code",
   "execution_count": 672,
   "metadata": {},
   "outputs": [
    {
     "data": {
      "text/plain": [
       "'pandas'"
      ]
     },
     "execution_count": 672,
     "metadata": {},
     "output_type": "execute_result"
    }
   ],
   "source": [
    "p[p.rfind('pandas'):]"
   ]
  },
  {
   "attachments": {},
   "cell_type": "markdown",
   "metadata": {},
   "source": [
    "# Strips and Whitespace\n",
    "### Agenda:\n",
    "* - isspace()\n",
    "* - lstrip()\n",
    "* - rstrip()\n",
    "* - strip()"
   ]
  },
  {
   "cell_type": "code",
   "execution_count": 673,
   "metadata": {},
   "outputs": [
    {
     "name": "stdout",
     "output_type": "stream",
     "text": [
      "pandas \tnumpy\n"
     ]
    }
   ],
   "source": [
    "print('pandas', '\\tnumpy')"
   ]
  },
  {
   "cell_type": "code",
   "execution_count": 674,
   "metadata": {},
   "outputs": [
    {
     "name": "stdout",
     "output_type": "stream",
     "text": [
      "pandas \n",
      "python\n"
     ]
    }
   ],
   "source": [
    "print('pandas', '\\npython')"
   ]
  },
  {
   "cell_type": "code",
   "execution_count": 675,
   "metadata": {},
   "outputs": [
    {
     "data": {
      "text/plain": [
       "False"
      ]
     },
     "execution_count": 675,
     "metadata": {},
     "output_type": "execute_result"
    }
   ],
   "source": [
    "''.isspace()"
   ]
  },
  {
   "cell_type": "code",
   "execution_count": 676,
   "metadata": {},
   "outputs": [
    {
     "data": {
      "text/plain": [
       "True"
      ]
     },
     "execution_count": 676,
     "metadata": {},
     "output_type": "execute_result"
    }
   ],
   "source": [
    "' '.isspace()"
   ]
  },
  {
   "cell_type": "code",
   "execution_count": 677,
   "metadata": {},
   "outputs": [
    {
     "data": {
      "text/plain": [
       "True"
      ]
     },
     "execution_count": 677,
     "metadata": {},
     "output_type": "execute_result"
    }
   ],
   "source": [
    "'\\n'.isspace()"
   ]
  },
  {
   "cell_type": "code",
   "execution_count": 678,
   "metadata": {},
   "outputs": [],
   "source": [
    "left_spaced = '      this is a pandas course'\n",
    "right_spaced = 'We cover plenty of python too!    '\n",
    "spaced = '    the name is: Bond \\t JAMES BOND \\n\\n'"
   ]
  },
  {
   "cell_type": "code",
   "execution_count": 679,
   "metadata": {},
   "outputs": [
    {
     "name": "stdout",
     "output_type": "stream",
     "text": [
      "      this is a pandas course\n"
     ]
    }
   ],
   "source": [
    "print(left_spaced)"
   ]
  },
  {
   "cell_type": "code",
   "execution_count": 680,
   "metadata": {},
   "outputs": [
    {
     "name": "stdout",
     "output_type": "stream",
     "text": [
      "    the name is: Bond \t JAMES BOND \n",
      "\n",
      "\n"
     ]
    }
   ],
   "source": [
    "print(spaced)"
   ]
  },
  {
   "cell_type": "code",
   "execution_count": 681,
   "metadata": {},
   "outputs": [
    {
     "data": {
      "text/plain": [
       "'this is a pandas course'"
      ]
     },
     "execution_count": 681,
     "metadata": {},
     "output_type": "execute_result"
    }
   ],
   "source": [
    "left_spaced.lstrip()"
   ]
  },
  {
   "cell_type": "code",
   "execution_count": 682,
   "metadata": {},
   "outputs": [
    {
     "data": {
      "text/plain": [
       "'We cover plenty of python too!'"
      ]
     },
     "execution_count": 682,
     "metadata": {},
     "output_type": "execute_result"
    }
   ],
   "source": [
    "right_spaced.rstrip()"
   ]
  },
  {
   "cell_type": "code",
   "execution_count": 683,
   "metadata": {},
   "outputs": [
    {
     "data": {
      "text/plain": [
       "'the name is: Bond \\t JAMES BOND'"
      ]
     },
     "execution_count": 683,
     "metadata": {},
     "output_type": "execute_result"
    }
   ],
   "source": [
    "spaced.strip()"
   ]
  },
  {
   "cell_type": "code",
   "execution_count": 684,
   "metadata": {},
   "outputs": [
    {
     "data": {
      "text/html": [
       "<div>\n",
       "<style scoped>\n",
       "    .dataframe tbody tr th:only-of-type {\n",
       "        vertical-align: middle;\n",
       "    }\n",
       "\n",
       "    .dataframe tbody tr th {\n",
       "        vertical-align: top;\n",
       "    }\n",
       "\n",
       "    .dataframe thead th {\n",
       "        text-align: right;\n",
       "    }\n",
       "</style>\n",
       "<table border=\"1\" class=\"dataframe\">\n",
       "  <thead>\n",
       "    <tr style=\"text-align: right;\">\n",
       "      <th></th>\n",
       "      <th>Name</th>\n",
       "      <th>Age</th>\n",
       "      <th>M/F</th>\n",
       "      <th>City</th>\n",
       "      <th>State</th>\n",
       "      <th>Country</th>\n",
       "      <th>Official Time</th>\n",
       "      <th>Overall</th>\n",
       "      <th>Gender</th>\n",
       "      <th>Years Ran</th>\n",
       "    </tr>\n",
       "  </thead>\n",
       "  <tbody>\n",
       "    <tr>\n",
       "      <th>0</th>\n",
       "      <td>Kirui, Geoffrey</td>\n",
       "      <td>24</td>\n",
       "      <td>M</td>\n",
       "      <td>Keringet</td>\n",
       "      <td>NaN</td>\n",
       "      <td>KEN</td>\n",
       "      <td>2:09:37</td>\n",
       "      <td>1</td>\n",
       "      <td>1</td>\n",
       "      <td>NaN</td>\n",
       "    </tr>\n",
       "    <tr>\n",
       "      <th>1</th>\n",
       "      <td>Rupp, Galen</td>\n",
       "      <td>30</td>\n",
       "      <td>M</td>\n",
       "      <td>Portland</td>\n",
       "      <td>OR</td>\n",
       "      <td>USA</td>\n",
       "      <td>2:09:58</td>\n",
       "      <td>2</td>\n",
       "      <td>2</td>\n",
       "      <td>NaN</td>\n",
       "    </tr>\n",
       "    <tr>\n",
       "      <th>2</th>\n",
       "      <td>Osako, Suguru</td>\n",
       "      <td>25</td>\n",
       "      <td>M</td>\n",
       "      <td>Machida-City</td>\n",
       "      <td>NaN</td>\n",
       "      <td>JPN</td>\n",
       "      <td>2:10:28</td>\n",
       "      <td>3</td>\n",
       "      <td>3</td>\n",
       "      <td>NaN</td>\n",
       "    </tr>\n",
       "    <tr>\n",
       "      <th>3</th>\n",
       "      <td>Biwott, Shadrack</td>\n",
       "      <td>32</td>\n",
       "      <td>M</td>\n",
       "      <td>Mammoth Lakes</td>\n",
       "      <td>CA</td>\n",
       "      <td>USA</td>\n",
       "      <td>2:12:08</td>\n",
       "      <td>4</td>\n",
       "      <td>4</td>\n",
       "      <td>NaN</td>\n",
       "    </tr>\n",
       "    <tr>\n",
       "      <th>4</th>\n",
       "      <td>Chebet, Wilson</td>\n",
       "      <td>31</td>\n",
       "      <td>M</td>\n",
       "      <td>Marakwet</td>\n",
       "      <td>NaN</td>\n",
       "      <td>KEN</td>\n",
       "      <td>2:12:35</td>\n",
       "      <td>5</td>\n",
       "      <td>5</td>\n",
       "      <td>2015</td>\n",
       "    </tr>\n",
       "  </tbody>\n",
       "</table>\n",
       "</div>"
      ],
      "text/plain": [
       "                Name  Age M/F           City State Country Official Time  \\\n",
       "0   Kirui, Geoffrey    24   M       Keringet   NaN     KEN       2:09:37   \n",
       "1     Rupp, Galen      30   M       Portland    OR     USA       2:09:58   \n",
       "2    Osako, Suguru     25   M   Machida-City   NaN     JPN       2:10:28   \n",
       "3   Biwott, Shadrack   32   M  Mammoth Lakes    CA     USA       2:12:08   \n",
       "4     Chebet, Wilson   31   M       Marakwet   NaN     KEN       2:12:35   \n",
       "\n",
       "   Overall  Gender Years Ran  \n",
       "0        1       1       NaN  \n",
       "1        2       2       NaN  \n",
       "2        3       3       NaN  \n",
       "3        4       4       NaN  \n",
       "4        5       5      2015  "
      ]
     },
     "execution_count": 684,
     "metadata": {},
     "output_type": "execute_result"
    }
   ],
   "source": [
    "boston.head()"
   ]
  },
  {
   "cell_type": "code",
   "execution_count": 685,
   "metadata": {},
   "outputs": [
    {
     "data": {
      "text/plain": [
       "' Kirui, Geoffrey '"
      ]
     },
     "execution_count": 685,
     "metadata": {},
     "output_type": "execute_result"
    }
   ],
   "source": [
    "boston.Name.iloc[0]"
   ]
  },
  {
   "cell_type": "code",
   "execution_count": 686,
   "metadata": {},
   "outputs": [
    {
     "data": {
      "text/plain": [
       "'Rupp, Galen   '"
      ]
     },
     "execution_count": 686,
     "metadata": {},
     "output_type": "execute_result"
    }
   ],
   "source": [
    "boston.Name.iloc[1]"
   ]
  },
  {
   "cell_type": "code",
   "execution_count": 687,
   "metadata": {},
   "outputs": [
    {
     "data": {
      "text/plain": [
       "0    Kirui, Geoffrey\n",
       "1        Rupp, Galen\n",
       "Name: Name, dtype: object"
      ]
     },
     "execution_count": 687,
     "metadata": {},
     "output_type": "execute_result"
    }
   ],
   "source": [
    "boston.Name.iloc[0:2].str.strip()"
   ]
  },
  {
   "cell_type": "code",
   "execution_count": 688,
   "metadata": {},
   "outputs": [],
   "source": [
    "boston.Name = boston.Name.str.strip()"
   ]
  },
  {
   "cell_type": "code",
   "execution_count": 689,
   "metadata": {},
   "outputs": [
    {
     "data": {
      "text/plain": [
       "'Kirui, Geoffrey'"
      ]
     },
     "execution_count": 689,
     "metadata": {},
     "output_type": "execute_result"
    }
   ],
   "source": [
    "boston.Name.iloc[0]"
   ]
  },
  {
   "attachments": {},
   "cell_type": "markdown",
   "metadata": {},
   "source": [
    "#String Splitting And Concatenation\n",
    "#### Agenda:\n",
    "* - split()\n",
    "* - get()\n",
    "* - cat()"
   ]
  },
  {
   "cell_type": "code",
   "execution_count": 690,
   "metadata": {},
   "outputs": [
    {
     "data": {
      "text/plain": [
       "'Welcome to the text manipulation section'"
      ]
     },
     "execution_count": 690,
     "metadata": {},
     "output_type": "execute_result"
    }
   ],
   "source": [
    "s"
   ]
  },
  {
   "cell_type": "code",
   "execution_count": 691,
   "metadata": {},
   "outputs": [
    {
     "data": {
      "text/plain": [
       "['Welcome', 'to', 'the', 'text', 'manipulation', 'section']"
      ]
     },
     "execution_count": 691,
     "metadata": {},
     "output_type": "execute_result"
    }
   ],
   "source": [
    "s.split()"
   ]
  },
  {
   "cell_type": "code",
   "execution_count": 692,
   "metadata": {},
   "outputs": [
    {
     "data": {
      "text/plain": [
       "['Welcome', 'to', 'the', 'text', 'manipulation', 'section']"
      ]
     },
     "execution_count": 692,
     "metadata": {},
     "output_type": "execute_result"
    }
   ],
   "source": [
    "s.split(\" \")"
   ]
  },
  {
   "cell_type": "code",
   "execution_count": 693,
   "metadata": {},
   "outputs": [
    {
     "data": {
      "text/plain": [
       "['Welcome ', 'o ', 'he ', 'ex', ' manipula', 'ion sec', 'ion']"
      ]
     },
     "execution_count": 693,
     "metadata": {},
     "output_type": "execute_result"
    }
   ],
   "source": [
    "s.split('t')"
   ]
  },
  {
   "cell_type": "code",
   "execution_count": 694,
   "metadata": {},
   "outputs": [
    {
     "data": {
      "text/plain": [
       "'    the name is: Bond \\t JAMES BOND \\n\\n'"
      ]
     },
     "execution_count": 694,
     "metadata": {},
     "output_type": "execute_result"
    }
   ],
   "source": [
    "spaced"
   ]
  },
  {
   "cell_type": "code",
   "execution_count": 695,
   "metadata": {},
   "outputs": [
    {
     "data": {
      "text/plain": [
       "['the', 'name', 'is:', 'Bond', 'JAMES', 'BOND']"
      ]
     },
     "execution_count": 695,
     "metadata": {},
     "output_type": "execute_result"
    }
   ],
   "source": [
    "spaced.split()"
   ]
  },
  {
   "cell_type": "code",
   "execution_count": 696,
   "metadata": {},
   "outputs": [
    {
     "data": {
      "text/plain": [
       "['', '', '', '', 'the', 'name', 'is:', 'Bond', '\\t', 'JAMES', 'BOND', '\\n\\n']"
      ]
     },
     "execution_count": 696,
     "metadata": {},
     "output_type": "execute_result"
    }
   ],
   "source": [
    "spaced.split(\" \")"
   ]
  },
  {
   "cell_type": "code",
   "execution_count": 697,
   "metadata": {},
   "outputs": [
    {
     "data": {
      "text/plain": [
       "'Welcome to the text manipulation section'"
      ]
     },
     "execution_count": 697,
     "metadata": {},
     "output_type": "execute_result"
    }
   ],
   "source": [
    "s"
   ]
  },
  {
   "cell_type": "code",
   "execution_count": 698,
   "metadata": {},
   "outputs": [
    {
     "data": {
      "text/plain": [
       "['Welcome ', ' the text manipulation section']"
      ]
     },
     "execution_count": 698,
     "metadata": {},
     "output_type": "execute_result"
    }
   ],
   "source": [
    "s.split(\"to\")"
   ]
  },
  {
   "cell_type": "code",
   "execution_count": 699,
   "metadata": {},
   "outputs": [
    {
     "data": {
      "text/html": [
       "<div>\n",
       "<style scoped>\n",
       "    .dataframe tbody tr th:only-of-type {\n",
       "        vertical-align: middle;\n",
       "    }\n",
       "\n",
       "    .dataframe tbody tr th {\n",
       "        vertical-align: top;\n",
       "    }\n",
       "\n",
       "    .dataframe thead th {\n",
       "        text-align: right;\n",
       "    }\n",
       "</style>\n",
       "<table border=\"1\" class=\"dataframe\">\n",
       "  <thead>\n",
       "    <tr style=\"text-align: right;\">\n",
       "      <th></th>\n",
       "      <th>Name</th>\n",
       "      <th>Age</th>\n",
       "      <th>M/F</th>\n",
       "      <th>City</th>\n",
       "      <th>State</th>\n",
       "      <th>Country</th>\n",
       "      <th>Official Time</th>\n",
       "      <th>Overall</th>\n",
       "      <th>Gender</th>\n",
       "      <th>Years Ran</th>\n",
       "    </tr>\n",
       "  </thead>\n",
       "  <tbody>\n",
       "    <tr>\n",
       "      <th>0</th>\n",
       "      <td>Kirui, Geoffrey</td>\n",
       "      <td>24</td>\n",
       "      <td>M</td>\n",
       "      <td>Keringet</td>\n",
       "      <td>NaN</td>\n",
       "      <td>KEN</td>\n",
       "      <td>2:09:37</td>\n",
       "      <td>1</td>\n",
       "      <td>1</td>\n",
       "      <td>NaN</td>\n",
       "    </tr>\n",
       "    <tr>\n",
       "      <th>1</th>\n",
       "      <td>Rupp, Galen</td>\n",
       "      <td>30</td>\n",
       "      <td>M</td>\n",
       "      <td>Portland</td>\n",
       "      <td>OR</td>\n",
       "      <td>USA</td>\n",
       "      <td>2:09:58</td>\n",
       "      <td>2</td>\n",
       "      <td>2</td>\n",
       "      <td>NaN</td>\n",
       "    </tr>\n",
       "    <tr>\n",
       "      <th>2</th>\n",
       "      <td>Osako, Suguru</td>\n",
       "      <td>25</td>\n",
       "      <td>M</td>\n",
       "      <td>Machida-City</td>\n",
       "      <td>NaN</td>\n",
       "      <td>JPN</td>\n",
       "      <td>2:10:28</td>\n",
       "      <td>3</td>\n",
       "      <td>3</td>\n",
       "      <td>NaN</td>\n",
       "    </tr>\n",
       "    <tr>\n",
       "      <th>3</th>\n",
       "      <td>Biwott, Shadrack</td>\n",
       "      <td>32</td>\n",
       "      <td>M</td>\n",
       "      <td>Mammoth Lakes</td>\n",
       "      <td>CA</td>\n",
       "      <td>USA</td>\n",
       "      <td>2:12:08</td>\n",
       "      <td>4</td>\n",
       "      <td>4</td>\n",
       "      <td>NaN</td>\n",
       "    </tr>\n",
       "    <tr>\n",
       "      <th>4</th>\n",
       "      <td>Chebet, Wilson</td>\n",
       "      <td>31</td>\n",
       "      <td>M</td>\n",
       "      <td>Marakwet</td>\n",
       "      <td>NaN</td>\n",
       "      <td>KEN</td>\n",
       "      <td>2:12:35</td>\n",
       "      <td>5</td>\n",
       "      <td>5</td>\n",
       "      <td>2015</td>\n",
       "    </tr>\n",
       "  </tbody>\n",
       "</table>\n",
       "</div>"
      ],
      "text/plain": [
       "               Name  Age M/F           City State Country Official Time  \\\n",
       "0   Kirui, Geoffrey   24   M       Keringet   NaN     KEN       2:09:37   \n",
       "1       Rupp, Galen   30   M       Portland    OR     USA       2:09:58   \n",
       "2     Osako, Suguru   25   M   Machida-City   NaN     JPN       2:10:28   \n",
       "3  Biwott, Shadrack   32   M  Mammoth Lakes    CA     USA       2:12:08   \n",
       "4    Chebet, Wilson   31   M       Marakwet   NaN     KEN       2:12:35   \n",
       "\n",
       "   Overall  Gender Years Ran  \n",
       "0        1       1       NaN  \n",
       "1        2       2       NaN  \n",
       "2        3       3       NaN  \n",
       "3        4       4       NaN  \n",
       "4        5       5      2015  "
      ]
     },
     "execution_count": 699,
     "metadata": {},
     "output_type": "execute_result"
    }
   ],
   "source": [
    "boston.head()"
   ]
  },
  {
   "cell_type": "code",
   "execution_count": 700,
   "metadata": {},
   "outputs": [
    {
     "data": {
      "text/plain": [
       "0          [Kirui, Geoffrey]\n",
       "1              [Rupp, Galen]\n",
       "2            [Osako, Suguru]\n",
       "3         [Biwott, Shadrack]\n",
       "4           [Chebet, Wilson]\n",
       "               ...          \n",
       "995           [Larosa, Mark]\n",
       "996    [Williamson, Jerry A]\n",
       "997        [Mccue, Daniel T]\n",
       "998           [Larosa, John]\n",
       "999         [Sanchez, Sam R]\n",
       "Name: Name, Length: 1000, dtype: object"
      ]
     },
     "execution_count": 700,
     "metadata": {},
     "output_type": "execute_result"
    }
   ],
   "source": [
    "boston.Name.str.split(\", \")"
   ]
  },
  {
   "cell_type": "code",
   "execution_count": 701,
   "metadata": {},
   "outputs": [
    {
     "data": {
      "text/plain": [
       "0          [Kirui,  Geoffrey]\n",
       "1              [Rupp,  Galen]\n",
       "2            [Osako,  Suguru]\n",
       "3         [Biwott,  Shadrack]\n",
       "4           [Chebet,  Wilson]\n",
       "                ...          \n",
       "995           [Larosa,  Mark]\n",
       "996    [Williamson,  Jerry A]\n",
       "997        [Mccue,  Daniel T]\n",
       "998           [Larosa,  John]\n",
       "999         [Sanchez,  Sam R]\n",
       "Name: Name, Length: 1000, dtype: object"
      ]
     },
     "execution_count": 701,
     "metadata": {},
     "output_type": "execute_result"
    }
   ],
   "source": [
    "boston.Name.str.split(',')"
   ]
  },
  {
   "cell_type": "code",
   "execution_count": 702,
   "metadata": {},
   "outputs": [
    {
     "data": {
      "text/plain": [
       "['Kirui', 'Geoffrey']"
      ]
     },
     "execution_count": 702,
     "metadata": {},
     "output_type": "execute_result"
    }
   ],
   "source": [
    "boston.Name.str.split(', ')[0]"
   ]
  },
  {
   "attachments": {},
   "cell_type": "markdown",
   "metadata": {},
   "source": [
    "The str.get() method"
   ]
  },
  {
   "cell_type": "code",
   "execution_count": 703,
   "metadata": {},
   "outputs": [
    {
     "data": {
      "text/plain": [
       "0      Geoffrey\n",
       "1         Galen\n",
       "2        Suguru\n",
       "3      Shadrack\n",
       "4        Wilson\n",
       "         ...   \n",
       "995        Mark\n",
       "996     Jerry A\n",
       "997    Daniel T\n",
       "998        John\n",
       "999       Sam R\n",
       "Name: Name, Length: 1000, dtype: object"
      ]
     },
     "execution_count": 703,
     "metadata": {},
     "output_type": "execute_result"
    }
   ],
   "source": [
    "boston.Name.str.split(', ').str.get(1)"
   ]
  },
  {
   "cell_type": "code",
   "execution_count": 704,
   "metadata": {},
   "outputs": [
    {
     "data": {
      "text/html": [
       "<div>\n",
       "<style scoped>\n",
       "    .dataframe tbody tr th:only-of-type {\n",
       "        vertical-align: middle;\n",
       "    }\n",
       "\n",
       "    .dataframe tbody tr th {\n",
       "        vertical-align: top;\n",
       "    }\n",
       "\n",
       "    .dataframe thead th {\n",
       "        text-align: right;\n",
       "    }\n",
       "</style>\n",
       "<table border=\"1\" class=\"dataframe\">\n",
       "  <thead>\n",
       "    <tr style=\"text-align: right;\">\n",
       "      <th></th>\n",
       "      <th>Name</th>\n",
       "      <th>Age</th>\n",
       "      <th>M/F</th>\n",
       "      <th>City</th>\n",
       "      <th>State</th>\n",
       "      <th>Country</th>\n",
       "      <th>Official Time</th>\n",
       "      <th>Overall</th>\n",
       "      <th>Gender</th>\n",
       "      <th>Years Ran</th>\n",
       "      <th>First Name</th>\n",
       "      <th>Last Name</th>\n",
       "    </tr>\n",
       "  </thead>\n",
       "  <tbody>\n",
       "    <tr>\n",
       "      <th>0</th>\n",
       "      <td>Kirui, Geoffrey</td>\n",
       "      <td>24</td>\n",
       "      <td>M</td>\n",
       "      <td>Keringet</td>\n",
       "      <td>NaN</td>\n",
       "      <td>KEN</td>\n",
       "      <td>2:09:37</td>\n",
       "      <td>1</td>\n",
       "      <td>1</td>\n",
       "      <td>NaN</td>\n",
       "      <td>Geoffrey</td>\n",
       "      <td>Kirui</td>\n",
       "    </tr>\n",
       "    <tr>\n",
       "      <th>1</th>\n",
       "      <td>Rupp, Galen</td>\n",
       "      <td>30</td>\n",
       "      <td>M</td>\n",
       "      <td>Portland</td>\n",
       "      <td>OR</td>\n",
       "      <td>USA</td>\n",
       "      <td>2:09:58</td>\n",
       "      <td>2</td>\n",
       "      <td>2</td>\n",
       "      <td>NaN</td>\n",
       "      <td>Galen</td>\n",
       "      <td>Rupp</td>\n",
       "    </tr>\n",
       "    <tr>\n",
       "      <th>2</th>\n",
       "      <td>Osako, Suguru</td>\n",
       "      <td>25</td>\n",
       "      <td>M</td>\n",
       "      <td>Machida-City</td>\n",
       "      <td>NaN</td>\n",
       "      <td>JPN</td>\n",
       "      <td>2:10:28</td>\n",
       "      <td>3</td>\n",
       "      <td>3</td>\n",
       "      <td>NaN</td>\n",
       "      <td>Suguru</td>\n",
       "      <td>Osako</td>\n",
       "    </tr>\n",
       "    <tr>\n",
       "      <th>3</th>\n",
       "      <td>Biwott, Shadrack</td>\n",
       "      <td>32</td>\n",
       "      <td>M</td>\n",
       "      <td>Mammoth Lakes</td>\n",
       "      <td>CA</td>\n",
       "      <td>USA</td>\n",
       "      <td>2:12:08</td>\n",
       "      <td>4</td>\n",
       "      <td>4</td>\n",
       "      <td>NaN</td>\n",
       "      <td>Shadrack</td>\n",
       "      <td>Biwott</td>\n",
       "    </tr>\n",
       "    <tr>\n",
       "      <th>4</th>\n",
       "      <td>Chebet, Wilson</td>\n",
       "      <td>31</td>\n",
       "      <td>M</td>\n",
       "      <td>Marakwet</td>\n",
       "      <td>NaN</td>\n",
       "      <td>KEN</td>\n",
       "      <td>2:12:35</td>\n",
       "      <td>5</td>\n",
       "      <td>5</td>\n",
       "      <td>2015</td>\n",
       "      <td>Wilson</td>\n",
       "      <td>Chebet</td>\n",
       "    </tr>\n",
       "  </tbody>\n",
       "</table>\n",
       "</div>"
      ],
      "text/plain": [
       "               Name  Age M/F           City State Country Official Time  \\\n",
       "0   Kirui, Geoffrey   24   M       Keringet   NaN     KEN       2:09:37   \n",
       "1       Rupp, Galen   30   M       Portland    OR     USA       2:09:58   \n",
       "2     Osako, Suguru   25   M   Machida-City   NaN     JPN       2:10:28   \n",
       "3  Biwott, Shadrack   32   M  Mammoth Lakes    CA     USA       2:12:08   \n",
       "4    Chebet, Wilson   31   M       Marakwet   NaN     KEN       2:12:35   \n",
       "\n",
       "   Overall  Gender Years Ran First Name Last Name  \n",
       "0        1       1       NaN   Geoffrey     Kirui  \n",
       "1        2       2       NaN      Galen      Rupp  \n",
       "2        3       3       NaN     Suguru     Osako  \n",
       "3        4       4       NaN   Shadrack    Biwott  \n",
       "4        5       5      2015     Wilson    Chebet  "
      ]
     },
     "execution_count": 704,
     "metadata": {},
     "output_type": "execute_result"
    }
   ],
   "source": [
    "boston['First Name'] = boston.Name.str.split(',').str.get(1)\n",
    "boston['Last Name'] = boston.Name.str.split(',').str.get(0)\n",
    "boston.head()"
   ]
  },
  {
   "cell_type": "code",
   "execution_count": 705,
   "metadata": {},
   "outputs": [
    {
     "data": {
      "text/html": [
       "<div>\n",
       "<style scoped>\n",
       "    .dataframe tbody tr th:only-of-type {\n",
       "        vertical-align: middle;\n",
       "    }\n",
       "\n",
       "    .dataframe tbody tr th {\n",
       "        vertical-align: top;\n",
       "    }\n",
       "\n",
       "    .dataframe thead th {\n",
       "        text-align: right;\n",
       "    }\n",
       "</style>\n",
       "<table border=\"1\" class=\"dataframe\">\n",
       "  <thead>\n",
       "    <tr style=\"text-align: right;\">\n",
       "      <th></th>\n",
       "      <th>Name</th>\n",
       "      <th>Age</th>\n",
       "      <th>M/F</th>\n",
       "      <th>City</th>\n",
       "      <th>State</th>\n",
       "      <th>Country</th>\n",
       "      <th>Official Time</th>\n",
       "      <th>Overall</th>\n",
       "      <th>Gender</th>\n",
       "      <th>Years Ran</th>\n",
       "      <th>First Name</th>\n",
       "      <th>Last Name</th>\n",
       "    </tr>\n",
       "  </thead>\n",
       "  <tbody>\n",
       "    <tr>\n",
       "      <th>0</th>\n",
       "      <td>Kirui, Geoffrey</td>\n",
       "      <td>24</td>\n",
       "      <td>M</td>\n",
       "      <td>Keringet</td>\n",
       "      <td>NaN</td>\n",
       "      <td>KEN</td>\n",
       "      <td>2:09:37</td>\n",
       "      <td>1</td>\n",
       "      <td>1</td>\n",
       "      <td>NaN</td>\n",
       "      <td>Geoffrey</td>\n",
       "      <td>Kirui</td>\n",
       "    </tr>\n",
       "    <tr>\n",
       "      <th>1</th>\n",
       "      <td>Rupp, Galen</td>\n",
       "      <td>30</td>\n",
       "      <td>M</td>\n",
       "      <td>Portland</td>\n",
       "      <td>OR</td>\n",
       "      <td>USA</td>\n",
       "      <td>2:09:58</td>\n",
       "      <td>2</td>\n",
       "      <td>2</td>\n",
       "      <td>NaN</td>\n",
       "      <td>Galen</td>\n",
       "      <td>Rupp</td>\n",
       "    </tr>\n",
       "    <tr>\n",
       "      <th>2</th>\n",
       "      <td>Osako, Suguru</td>\n",
       "      <td>25</td>\n",
       "      <td>M</td>\n",
       "      <td>Machida-City</td>\n",
       "      <td>NaN</td>\n",
       "      <td>JPN</td>\n",
       "      <td>2:10:28</td>\n",
       "      <td>3</td>\n",
       "      <td>3</td>\n",
       "      <td>NaN</td>\n",
       "      <td>Suguru</td>\n",
       "      <td>Osako</td>\n",
       "    </tr>\n",
       "    <tr>\n",
       "      <th>3</th>\n",
       "      <td>Biwott, Shadrack</td>\n",
       "      <td>32</td>\n",
       "      <td>M</td>\n",
       "      <td>Mammoth Lakes</td>\n",
       "      <td>CA</td>\n",
       "      <td>USA</td>\n",
       "      <td>2:12:08</td>\n",
       "      <td>4</td>\n",
       "      <td>4</td>\n",
       "      <td>NaN</td>\n",
       "      <td>Shadrack</td>\n",
       "      <td>Biwott</td>\n",
       "    </tr>\n",
       "    <tr>\n",
       "      <th>4</th>\n",
       "      <td>Chebet, Wilson</td>\n",
       "      <td>31</td>\n",
       "      <td>M</td>\n",
       "      <td>Marakwet</td>\n",
       "      <td>NaN</td>\n",
       "      <td>KEN</td>\n",
       "      <td>2:12:35</td>\n",
       "      <td>5</td>\n",
       "      <td>5</td>\n",
       "      <td>2015</td>\n",
       "      <td>Wilson</td>\n",
       "      <td>Chebet</td>\n",
       "    </tr>\n",
       "    <tr>\n",
       "      <th>5</th>\n",
       "      <td>Abdirahman, Abdi</td>\n",
       "      <td>40</td>\n",
       "      <td>M</td>\n",
       "      <td>Phoenix</td>\n",
       "      <td>AZ</td>\n",
       "      <td>USA</td>\n",
       "      <td>2:12:45</td>\n",
       "      <td>6</td>\n",
       "      <td>6</td>\n",
       "      <td>NaN</td>\n",
       "      <td>Abdi</td>\n",
       "      <td>Abdirahman</td>\n",
       "    </tr>\n",
       "    <tr>\n",
       "      <th>6</th>\n",
       "      <td>Maiyo, Augustus K.</td>\n",
       "      <td>33</td>\n",
       "      <td>M</td>\n",
       "      <td>Colorado Springs</td>\n",
       "      <td>CO</td>\n",
       "      <td>USA</td>\n",
       "      <td>2:13:16</td>\n",
       "      <td>7</td>\n",
       "      <td>7</td>\n",
       "      <td>NaN</td>\n",
       "      <td>Augustus K.</td>\n",
       "      <td>Maiyo</td>\n",
       "    </tr>\n",
       "    <tr>\n",
       "      <th>7</th>\n",
       "      <td>Sefir, Dino</td>\n",
       "      <td>28</td>\n",
       "      <td>M</td>\n",
       "      <td>Addis Ababa</td>\n",
       "      <td>NaN</td>\n",
       "      <td>ETH</td>\n",
       "      <td>2:14:26</td>\n",
       "      <td>8</td>\n",
       "      <td>8</td>\n",
       "      <td>NaN</td>\n",
       "      <td>Dino</td>\n",
       "      <td>Sefir</td>\n",
       "    </tr>\n",
       "    <tr>\n",
       "      <th>8</th>\n",
       "      <td>Puskedra, Luke</td>\n",
       "      <td>27</td>\n",
       "      <td>M</td>\n",
       "      <td>Eugene</td>\n",
       "      <td>OR</td>\n",
       "      <td>USA</td>\n",
       "      <td>2:14:45</td>\n",
       "      <td>9</td>\n",
       "      <td>9</td>\n",
       "      <td>NaN</td>\n",
       "      <td>Luke</td>\n",
       "      <td>Puskedra</td>\n",
       "    </tr>\n",
       "    <tr>\n",
       "      <th>9</th>\n",
       "      <td>Ward, Jared</td>\n",
       "      <td>28</td>\n",
       "      <td>M</td>\n",
       "      <td>Kaysville</td>\n",
       "      <td>UT</td>\n",
       "      <td>USA</td>\n",
       "      <td>2:15:28</td>\n",
       "      <td>10</td>\n",
       "      <td>10</td>\n",
       "      <td>NaN</td>\n",
       "      <td>Jared</td>\n",
       "      <td>Ward</td>\n",
       "    </tr>\n",
       "    <tr>\n",
       "      <th>10</th>\n",
       "      <td>Quigley, Sean</td>\n",
       "      <td>32</td>\n",
       "      <td>M</td>\n",
       "      <td>Braintree</td>\n",
       "      <td>MA</td>\n",
       "      <td>USA</td>\n",
       "      <td>2:15:34</td>\n",
       "      <td>11</td>\n",
       "      <td>11</td>\n",
       "      <td>NaN</td>\n",
       "      <td>Sean</td>\n",
       "      <td>Quigley</td>\n",
       "    </tr>\n",
       "    <tr>\n",
       "      <th>11</th>\n",
       "      <td>Tsegay, Yemane</td>\n",
       "      <td>32</td>\n",
       "      <td>M</td>\n",
       "      <td>Addis Ababa</td>\n",
       "      <td>NaN</td>\n",
       "      <td>ETH</td>\n",
       "      <td>2:16:47</td>\n",
       "      <td>12</td>\n",
       "      <td>12</td>\n",
       "      <td>NaN</td>\n",
       "      <td>Yemane</td>\n",
       "      <td>Tsegay</td>\n",
       "    </tr>\n",
       "    <tr>\n",
       "      <th>12</th>\n",
       "      <td>Keflezighi, Meb</td>\n",
       "      <td>41</td>\n",
       "      <td>M</td>\n",
       "      <td>San Diego</td>\n",
       "      <td>CA</td>\n",
       "      <td>USA</td>\n",
       "      <td>2:17:00</td>\n",
       "      <td>13</td>\n",
       "      <td>13</td>\n",
       "      <td>2015</td>\n",
       "      <td>Meb</td>\n",
       "      <td>Keflezighi</td>\n",
       "    </tr>\n",
       "    <tr>\n",
       "      <th>13</th>\n",
       "      <td>Nyasango, Cutbert</td>\n",
       "      <td>34</td>\n",
       "      <td>M</td>\n",
       "      <td>Harara</td>\n",
       "      <td>NaN</td>\n",
       "      <td>ZIM</td>\n",
       "      <td>2:17:40</td>\n",
       "      <td>14</td>\n",
       "      <td>14</td>\n",
       "      <td>2016</td>\n",
       "      <td>Cutbert</td>\n",
       "      <td>Nyasango</td>\n",
       "    </tr>\n",
       "    <tr>\n",
       "      <th>14</th>\n",
       "      <td>Korir, Wesley</td>\n",
       "      <td>34</td>\n",
       "      <td>M</td>\n",
       "      <td>Kitale</td>\n",
       "      <td>NaN</td>\n",
       "      <td>KEN</td>\n",
       "      <td>2:18:14</td>\n",
       "      <td>15</td>\n",
       "      <td>15</td>\n",
       "      <td>2015:2016</td>\n",
       "      <td>Wesley</td>\n",
       "      <td>Korir</td>\n",
       "    </tr>\n",
       "    <tr>\n",
       "      <th>15</th>\n",
       "      <td>Puzey, Thomas R.</td>\n",
       "      <td>32</td>\n",
       "      <td>M</td>\n",
       "      <td>Flagstaff</td>\n",
       "      <td>AZ</td>\n",
       "      <td>USA</td>\n",
       "      <td>2:18:20</td>\n",
       "      <td>16</td>\n",
       "      <td>16</td>\n",
       "      <td>NaN</td>\n",
       "      <td>Thomas R.</td>\n",
       "      <td>Puzey</td>\n",
       "    </tr>\n",
       "    <tr>\n",
       "      <th>16</th>\n",
       "      <td>Kisri, Rachid</td>\n",
       "      <td>41</td>\n",
       "      <td>M</td>\n",
       "      <td>Briarcliff Manor</td>\n",
       "      <td>NY</td>\n",
       "      <td>USA</td>\n",
       "      <td>2:18:32</td>\n",
       "      <td>17</td>\n",
       "      <td>17</td>\n",
       "      <td>NaN</td>\n",
       "      <td>Rachid</td>\n",
       "      <td>Kisri</td>\n",
       "    </tr>\n",
       "    <tr>\n",
       "      <th>17</th>\n",
       "      <td>Mutai, Emmanuel</td>\n",
       "      <td>32</td>\n",
       "      <td>M</td>\n",
       "      <td>Lessos</td>\n",
       "      <td>NaN</td>\n",
       "      <td>KEN</td>\n",
       "      <td>2:19:33</td>\n",
       "      <td>18</td>\n",
       "      <td>18</td>\n",
       "      <td>NaN</td>\n",
       "      <td>Emmanuel</td>\n",
       "      <td>Mutai</td>\n",
       "    </tr>\n",
       "    <tr>\n",
       "      <th>18</th>\n",
       "      <td>Ndhlovu, Pardon</td>\n",
       "      <td>29</td>\n",
       "      <td>M</td>\n",
       "      <td>Vilas</td>\n",
       "      <td>NC</td>\n",
       "      <td>USA</td>\n",
       "      <td>2:20:12</td>\n",
       "      <td>19</td>\n",
       "      <td>19</td>\n",
       "      <td>NaN</td>\n",
       "      <td>Pardon</td>\n",
       "      <td>Ndhlovu</td>\n",
       "    </tr>\n",
       "  </tbody>\n",
       "</table>\n",
       "</div>"
      ],
      "text/plain": [
       "                  Name  Age M/F              City State Country Official Time  \\\n",
       "0      Kirui, Geoffrey   24   M          Keringet   NaN     KEN       2:09:37   \n",
       "1          Rupp, Galen   30   M          Portland    OR     USA       2:09:58   \n",
       "2        Osako, Suguru   25   M      Machida-City   NaN     JPN       2:10:28   \n",
       "3     Biwott, Shadrack   32   M     Mammoth Lakes    CA     USA       2:12:08   \n",
       "4       Chebet, Wilson   31   M          Marakwet   NaN     KEN       2:12:35   \n",
       "5     Abdirahman, Abdi   40   M           Phoenix    AZ     USA       2:12:45   \n",
       "6   Maiyo, Augustus K.   33   M  Colorado Springs    CO     USA       2:13:16   \n",
       "7          Sefir, Dino   28   M       Addis Ababa   NaN     ETH       2:14:26   \n",
       "8       Puskedra, Luke   27   M            Eugene    OR     USA       2:14:45   \n",
       "9          Ward, Jared   28   M         Kaysville    UT     USA       2:15:28   \n",
       "10       Quigley, Sean   32   M         Braintree    MA     USA       2:15:34   \n",
       "11      Tsegay, Yemane   32   M       Addis Ababa   NaN     ETH       2:16:47   \n",
       "12     Keflezighi, Meb   41   M         San Diego    CA     USA       2:17:00   \n",
       "13   Nyasango, Cutbert   34   M            Harara   NaN     ZIM       2:17:40   \n",
       "14       Korir, Wesley   34   M            Kitale   NaN     KEN       2:18:14   \n",
       "15    Puzey, Thomas R.   32   M         Flagstaff    AZ     USA       2:18:20   \n",
       "16       Kisri, Rachid   41   M  Briarcliff Manor    NY     USA       2:18:32   \n",
       "17     Mutai, Emmanuel   32   M            Lessos   NaN     KEN       2:19:33   \n",
       "18     Ndhlovu, Pardon   29   M             Vilas    NC     USA       2:20:12   \n",
       "\n",
       "    Overall  Gender  Years Ran    First Name   Last Name  \n",
       "0         1       1        NaN      Geoffrey       Kirui  \n",
       "1         2       2        NaN         Galen        Rupp  \n",
       "2         3       3        NaN        Suguru       Osako  \n",
       "3         4       4        NaN      Shadrack      Biwott  \n",
       "4         5       5       2015        Wilson      Chebet  \n",
       "5         6       6        NaN          Abdi  Abdirahman  \n",
       "6         7       7        NaN   Augustus K.       Maiyo  \n",
       "7         8       8        NaN          Dino       Sefir  \n",
       "8         9       9        NaN          Luke    Puskedra  \n",
       "9        10      10        NaN         Jared        Ward  \n",
       "10       11      11        NaN          Sean     Quigley  \n",
       "11       12      12        NaN        Yemane      Tsegay  \n",
       "12       13      13       2015           Meb  Keflezighi  \n",
       "13       14      14       2016       Cutbert    Nyasango  \n",
       "14       15      15  2015:2016        Wesley       Korir  \n",
       "15       16      16        NaN     Thomas R.       Puzey  \n",
       "16       17      17        NaN        Rachid       Kisri  \n",
       "17       18      18        NaN      Emmanuel       Mutai  \n",
       "18       19      19        NaN        Pardon     Ndhlovu  "
      ]
     },
     "execution_count": 705,
     "metadata": {},
     "output_type": "execute_result"
    }
   ],
   "source": [
    "boston.head(n=19)"
   ]
  },
  {
   "cell_type": "code",
   "execution_count": 706,
   "metadata": {},
   "outputs": [
    {
     "data": {
      "text/plain": [
       "Index(['Name', 'Age', 'M/F', 'City', 'State', 'Country', 'Official Time',\n",
       "       'Overall', 'Gender', 'Years Ran', 'First Name', 'Last Name'],\n",
       "      dtype='object')"
      ]
     },
     "execution_count": 706,
     "metadata": {},
     "output_type": "execute_result"
    }
   ],
   "source": [
    "boston.columns"
   ]
  },
  {
   "cell_type": "code",
   "execution_count": 707,
   "metadata": {},
   "outputs": [
    {
     "data": {
      "text/plain": [
       "'M/F'"
      ]
     },
     "execution_count": 707,
     "metadata": {},
     "output_type": "execute_result"
    }
   ],
   "source": [
    "boston.columns[2]"
   ]
  },
  {
   "cell_type": "code",
   "execution_count": 708,
   "metadata": {},
   "outputs": [
    {
     "data": {
      "text/plain": [
       "0      M\n",
       "1      M\n",
       "2      M\n",
       "3      M\n",
       "4      M\n",
       "      ..\n",
       "995    M\n",
       "996    M\n",
       "997    M\n",
       "998    M\n",
       "999    M\n",
       "Name: M/F, Length: 1000, dtype: object"
      ]
     },
     "execution_count": 708,
     "metadata": {},
     "output_type": "execute_result"
    }
   ],
   "source": [
    "boston.loc[:,boston.columns[2]]"
   ]
  },
  {
   "cell_type": "code",
   "execution_count": 709,
   "metadata": {},
   "outputs": [
    {
     "data": {
      "text/plain": [
       "0      M_24\n",
       "1      M_30\n",
       "2      M_25\n",
       "3      M_32\n",
       "4      M_31\n",
       "       ... \n",
       "995    M_38\n",
       "996    M_43\n",
       "997    M_40\n",
       "998    M_35\n",
       "999    M_35\n",
       "Name: M/F, Length: 1000, dtype: object"
      ]
     },
     "execution_count": 709,
     "metadata": {},
     "output_type": "execute_result"
    }
   ],
   "source": [
    "boston[boston.columns[2]].str.cat(boston.Age.astype(str), sep='_')"
   ]
  },
  {
   "attachments": {},
   "cell_type": "markdown",
   "metadata": {},
   "source": [
    "# More Split Parameters\n",
    "### Previously:\n",
    "```python\n",
    "boston['First Name'] = boston.Name.str.split(',').str.get(1)\n",
    "\n",
    "boston['Last Name'] = boston.Name.str.split(',').str.get(0)\n",
    "```"
   ]
  },
  {
   "cell_type": "code",
   "execution_count": 710,
   "metadata": {},
   "outputs": [],
   "source": [
    "boston.drop(['First Name', 'Last Name'], axis=1, inplace=True)\n"
   ]
  },
  {
   "cell_type": "code",
   "execution_count": 711,
   "metadata": {},
   "outputs": [
    {
     "data": {
      "text/html": [
       "<div>\n",
       "<style scoped>\n",
       "    .dataframe tbody tr th:only-of-type {\n",
       "        vertical-align: middle;\n",
       "    }\n",
       "\n",
       "    .dataframe tbody tr th {\n",
       "        vertical-align: top;\n",
       "    }\n",
       "\n",
       "    .dataframe thead th {\n",
       "        text-align: right;\n",
       "    }\n",
       "</style>\n",
       "<table border=\"1\" class=\"dataframe\">\n",
       "  <thead>\n",
       "    <tr style=\"text-align: right;\">\n",
       "      <th></th>\n",
       "      <th>Name</th>\n",
       "      <th>Age</th>\n",
       "      <th>M/F</th>\n",
       "      <th>City</th>\n",
       "      <th>State</th>\n",
       "      <th>Country</th>\n",
       "      <th>Official Time</th>\n",
       "      <th>Overall</th>\n",
       "      <th>Gender</th>\n",
       "      <th>Years Ran</th>\n",
       "    </tr>\n",
       "  </thead>\n",
       "  <tbody>\n",
       "    <tr>\n",
       "      <th>0</th>\n",
       "      <td>Kirui, Geoffrey</td>\n",
       "      <td>24</td>\n",
       "      <td>M</td>\n",
       "      <td>Keringet</td>\n",
       "      <td>NaN</td>\n",
       "      <td>KEN</td>\n",
       "      <td>2:09:37</td>\n",
       "      <td>1</td>\n",
       "      <td>1</td>\n",
       "      <td>NaN</td>\n",
       "    </tr>\n",
       "    <tr>\n",
       "      <th>1</th>\n",
       "      <td>Rupp, Galen</td>\n",
       "      <td>30</td>\n",
       "      <td>M</td>\n",
       "      <td>Portland</td>\n",
       "      <td>OR</td>\n",
       "      <td>USA</td>\n",
       "      <td>2:09:58</td>\n",
       "      <td>2</td>\n",
       "      <td>2</td>\n",
       "      <td>NaN</td>\n",
       "    </tr>\n",
       "    <tr>\n",
       "      <th>2</th>\n",
       "      <td>Osako, Suguru</td>\n",
       "      <td>25</td>\n",
       "      <td>M</td>\n",
       "      <td>Machida-City</td>\n",
       "      <td>NaN</td>\n",
       "      <td>JPN</td>\n",
       "      <td>2:10:28</td>\n",
       "      <td>3</td>\n",
       "      <td>3</td>\n",
       "      <td>NaN</td>\n",
       "    </tr>\n",
       "    <tr>\n",
       "      <th>3</th>\n",
       "      <td>Biwott, Shadrack</td>\n",
       "      <td>32</td>\n",
       "      <td>M</td>\n",
       "      <td>Mammoth Lakes</td>\n",
       "      <td>CA</td>\n",
       "      <td>USA</td>\n",
       "      <td>2:12:08</td>\n",
       "      <td>4</td>\n",
       "      <td>4</td>\n",
       "      <td>NaN</td>\n",
       "    </tr>\n",
       "    <tr>\n",
       "      <th>4</th>\n",
       "      <td>Chebet, Wilson</td>\n",
       "      <td>31</td>\n",
       "      <td>M</td>\n",
       "      <td>Marakwet</td>\n",
       "      <td>NaN</td>\n",
       "      <td>KEN</td>\n",
       "      <td>2:12:35</td>\n",
       "      <td>5</td>\n",
       "      <td>5</td>\n",
       "      <td>2015</td>\n",
       "    </tr>\n",
       "  </tbody>\n",
       "</table>\n",
       "</div>"
      ],
      "text/plain": [
       "               Name  Age M/F           City State Country Official Time  \\\n",
       "0   Kirui, Geoffrey   24   M       Keringet   NaN     KEN       2:09:37   \n",
       "1       Rupp, Galen   30   M       Portland    OR     USA       2:09:58   \n",
       "2     Osako, Suguru   25   M   Machida-City   NaN     JPN       2:10:28   \n",
       "3  Biwott, Shadrack   32   M  Mammoth Lakes    CA     USA       2:12:08   \n",
       "4    Chebet, Wilson   31   M       Marakwet   NaN     KEN       2:12:35   \n",
       "\n",
       "   Overall  Gender Years Ran  \n",
       "0        1       1       NaN  \n",
       "1        2       2       NaN  \n",
       "2        3       3       NaN  \n",
       "3        4       4       NaN  \n",
       "4        5       5      2015  "
      ]
     },
     "execution_count": 711,
     "metadata": {},
     "output_type": "execute_result"
    }
   ],
   "source": [
    "boston.head()"
   ]
  },
  {
   "attachments": {},
   "cell_type": "markdown",
   "metadata": {},
   "source": [
    "The Expand param."
   ]
  },
  {
   "cell_type": "code",
   "execution_count": 712,
   "metadata": {},
   "outputs": [
    {
     "data": {
      "text/html": [
       "<div>\n",
       "<style scoped>\n",
       "    .dataframe tbody tr th:only-of-type {\n",
       "        vertical-align: middle;\n",
       "    }\n",
       "\n",
       "    .dataframe tbody tr th {\n",
       "        vertical-align: top;\n",
       "    }\n",
       "\n",
       "    .dataframe thead th {\n",
       "        text-align: right;\n",
       "    }\n",
       "</style>\n",
       "<table border=\"1\" class=\"dataframe\">\n",
       "  <thead>\n",
       "    <tr style=\"text-align: right;\">\n",
       "      <th></th>\n",
       "      <th>0</th>\n",
       "      <th>1</th>\n",
       "    </tr>\n",
       "  </thead>\n",
       "  <tbody>\n",
       "    <tr>\n",
       "      <th>0</th>\n",
       "      <td>Kirui</td>\n",
       "      <td>Geoffrey</td>\n",
       "    </tr>\n",
       "    <tr>\n",
       "      <th>1</th>\n",
       "      <td>Rupp</td>\n",
       "      <td>Galen</td>\n",
       "    </tr>\n",
       "    <tr>\n",
       "      <th>2</th>\n",
       "      <td>Osako</td>\n",
       "      <td>Suguru</td>\n",
       "    </tr>\n",
       "    <tr>\n",
       "      <th>3</th>\n",
       "      <td>Biwott</td>\n",
       "      <td>Shadrack</td>\n",
       "    </tr>\n",
       "    <tr>\n",
       "      <th>4</th>\n",
       "      <td>Chebet</td>\n",
       "      <td>Wilson</td>\n",
       "    </tr>\n",
       "    <tr>\n",
       "      <th>...</th>\n",
       "      <td>...</td>\n",
       "      <td>...</td>\n",
       "    </tr>\n",
       "    <tr>\n",
       "      <th>995</th>\n",
       "      <td>Larosa</td>\n",
       "      <td>Mark</td>\n",
       "    </tr>\n",
       "    <tr>\n",
       "      <th>996</th>\n",
       "      <td>Williamson</td>\n",
       "      <td>Jerry A</td>\n",
       "    </tr>\n",
       "    <tr>\n",
       "      <th>997</th>\n",
       "      <td>Mccue</td>\n",
       "      <td>Daniel T</td>\n",
       "    </tr>\n",
       "    <tr>\n",
       "      <th>998</th>\n",
       "      <td>Larosa</td>\n",
       "      <td>John</td>\n",
       "    </tr>\n",
       "    <tr>\n",
       "      <th>999</th>\n",
       "      <td>Sanchez</td>\n",
       "      <td>Sam R</td>\n",
       "    </tr>\n",
       "  </tbody>\n",
       "</table>\n",
       "<p>1000 rows × 2 columns</p>\n",
       "</div>"
      ],
      "text/plain": [
       "              0         1\n",
       "0         Kirui  Geoffrey\n",
       "1          Rupp     Galen\n",
       "2         Osako    Suguru\n",
       "3        Biwott  Shadrack\n",
       "4        Chebet    Wilson\n",
       "..          ...       ...\n",
       "995      Larosa      Mark\n",
       "996  Williamson   Jerry A\n",
       "997       Mccue  Daniel T\n",
       "998      Larosa      John\n",
       "999     Sanchez     Sam R\n",
       "\n",
       "[1000 rows x 2 columns]"
      ]
     },
     "execution_count": 712,
     "metadata": {},
     "output_type": "execute_result"
    }
   ],
   "source": [
    "boston.Name.str.split(', ',expand=True)"
   ]
  },
  {
   "cell_type": "code",
   "execution_count": 713,
   "metadata": {},
   "outputs": [
    {
     "data": {
      "text/html": [
       "<div>\n",
       "<style scoped>\n",
       "    .dataframe tbody tr th:only-of-type {\n",
       "        vertical-align: middle;\n",
       "    }\n",
       "\n",
       "    .dataframe tbody tr th {\n",
       "        vertical-align: top;\n",
       "    }\n",
       "\n",
       "    .dataframe thead th {\n",
       "        text-align: right;\n",
       "    }\n",
       "</style>\n",
       "<table border=\"1\" class=\"dataframe\">\n",
       "  <thead>\n",
       "    <tr style=\"text-align: right;\">\n",
       "      <th></th>\n",
       "      <th>0</th>\n",
       "      <th>1</th>\n",
       "      <th>2</th>\n",
       "      <th>3</th>\n",
       "      <th>4</th>\n",
       "    </tr>\n",
       "  </thead>\n",
       "  <tbody>\n",
       "    <tr>\n",
       "      <th>0</th>\n",
       "      <td>Kirui,</td>\n",
       "      <td>Geoffrey</td>\n",
       "      <td>None</td>\n",
       "      <td>None</td>\n",
       "      <td>None</td>\n",
       "    </tr>\n",
       "    <tr>\n",
       "      <th>1</th>\n",
       "      <td>Rupp,</td>\n",
       "      <td>Galen</td>\n",
       "      <td>None</td>\n",
       "      <td>None</td>\n",
       "      <td>None</td>\n",
       "    </tr>\n",
       "    <tr>\n",
       "      <th>2</th>\n",
       "      <td>Osako,</td>\n",
       "      <td>Suguru</td>\n",
       "      <td>None</td>\n",
       "      <td>None</td>\n",
       "      <td>None</td>\n",
       "    </tr>\n",
       "    <tr>\n",
       "      <th>3</th>\n",
       "      <td>Biwott,</td>\n",
       "      <td>Shadrack</td>\n",
       "      <td>None</td>\n",
       "      <td>None</td>\n",
       "      <td>None</td>\n",
       "    </tr>\n",
       "    <tr>\n",
       "      <th>4</th>\n",
       "      <td>Chebet,</td>\n",
       "      <td>Wilson</td>\n",
       "      <td>None</td>\n",
       "      <td>None</td>\n",
       "      <td>None</td>\n",
       "    </tr>\n",
       "    <tr>\n",
       "      <th>...</th>\n",
       "      <td>...</td>\n",
       "      <td>...</td>\n",
       "      <td>...</td>\n",
       "      <td>...</td>\n",
       "      <td>...</td>\n",
       "    </tr>\n",
       "    <tr>\n",
       "      <th>995</th>\n",
       "      <td>Larosa,</td>\n",
       "      <td>Mark</td>\n",
       "      <td>None</td>\n",
       "      <td>None</td>\n",
       "      <td>None</td>\n",
       "    </tr>\n",
       "    <tr>\n",
       "      <th>996</th>\n",
       "      <td>Williamson,</td>\n",
       "      <td>Jerry</td>\n",
       "      <td>A</td>\n",
       "      <td>None</td>\n",
       "      <td>None</td>\n",
       "    </tr>\n",
       "    <tr>\n",
       "      <th>997</th>\n",
       "      <td>Mccue,</td>\n",
       "      <td>Daniel</td>\n",
       "      <td>T</td>\n",
       "      <td>None</td>\n",
       "      <td>None</td>\n",
       "    </tr>\n",
       "    <tr>\n",
       "      <th>998</th>\n",
       "      <td>Larosa,</td>\n",
       "      <td>John</td>\n",
       "      <td>None</td>\n",
       "      <td>None</td>\n",
       "      <td>None</td>\n",
       "    </tr>\n",
       "    <tr>\n",
       "      <th>999</th>\n",
       "      <td>Sanchez,</td>\n",
       "      <td>Sam</td>\n",
       "      <td>R</td>\n",
       "      <td>None</td>\n",
       "      <td>None</td>\n",
       "    </tr>\n",
       "  </tbody>\n",
       "</table>\n",
       "<p>1000 rows × 5 columns</p>\n",
       "</div>"
      ],
      "text/plain": [
       "               0         1     2     3     4\n",
       "0         Kirui,  Geoffrey  None  None  None\n",
       "1          Rupp,     Galen  None  None  None\n",
       "2         Osako,    Suguru  None  None  None\n",
       "3        Biwott,  Shadrack  None  None  None\n",
       "4        Chebet,    Wilson  None  None  None\n",
       "..           ...       ...   ...   ...   ...\n",
       "995      Larosa,      Mark  None  None  None\n",
       "996  Williamson,     Jerry     A  None  None\n",
       "997       Mccue,    Daniel     T  None  None\n",
       "998      Larosa,      John  None  None  None\n",
       "999     Sanchez,       Sam     R  None  None\n",
       "\n",
       "[1000 rows x 5 columns]"
      ]
     },
     "execution_count": 713,
     "metadata": {},
     "output_type": "execute_result"
    }
   ],
   "source": [
    "boston.Name.str.split(expand=True)"
   ]
  },
  {
   "cell_type": "code",
   "execution_count": 714,
   "metadata": {},
   "outputs": [
    {
     "data": {
      "text/plain": [
       "0      False\n",
       "1      False\n",
       "2      False\n",
       "3      False\n",
       "4      False\n",
       "       ...  \n",
       "995    False\n",
       "996    False\n",
       "997    False\n",
       "998    False\n",
       "999    False\n",
       "Length: 1000, dtype: bool"
      ]
     },
     "execution_count": 714,
     "metadata": {},
     "output_type": "execute_result"
    }
   ],
   "source": [
    "boston.Name.str.split(expand=True).count(axis=1) == 5"
   ]
  },
  {
   "cell_type": "code",
   "execution_count": 715,
   "metadata": {},
   "outputs": [],
   "source": [
    "mask = boston.Name.str.split(expand=True).count(axis=1) == 5"
   ]
  },
  {
   "cell_type": "code",
   "execution_count": 716,
   "metadata": {},
   "outputs": [
    {
     "data": {
      "text/html": [
       "<div>\n",
       "<style scoped>\n",
       "    .dataframe tbody tr th:only-of-type {\n",
       "        vertical-align: middle;\n",
       "    }\n",
       "\n",
       "    .dataframe tbody tr th {\n",
       "        vertical-align: top;\n",
       "    }\n",
       "\n",
       "    .dataframe thead th {\n",
       "        text-align: right;\n",
       "    }\n",
       "</style>\n",
       "<table border=\"1\" class=\"dataframe\">\n",
       "  <thead>\n",
       "    <tr style=\"text-align: right;\">\n",
       "      <th></th>\n",
       "      <th>Name</th>\n",
       "      <th>Age</th>\n",
       "      <th>M/F</th>\n",
       "      <th>City</th>\n",
       "      <th>State</th>\n",
       "      <th>Country</th>\n",
       "      <th>Official Time</th>\n",
       "      <th>Overall</th>\n",
       "      <th>Gender</th>\n",
       "      <th>Years Ran</th>\n",
       "    </tr>\n",
       "  </thead>\n",
       "  <tbody>\n",
       "    <tr>\n",
       "      <th>203</th>\n",
       "      <td>Cifuentes Fetiva, Miguel Angel Sr.</td>\n",
       "      <td>38</td>\n",
       "      <td>M</td>\n",
       "      <td>Bogota</td>\n",
       "      <td>NaN</td>\n",
       "      <td>COL</td>\n",
       "      <td>2:40:46</td>\n",
       "      <td>204</td>\n",
       "      <td>182</td>\n",
       "      <td>2015</td>\n",
       "    </tr>\n",
       "    <tr>\n",
       "      <th>467</th>\n",
       "      <td>Martinez Solano, Juan Manuel Jr.</td>\n",
       "      <td>28</td>\n",
       "      <td>M</td>\n",
       "      <td>Bogota</td>\n",
       "      <td>NaN</td>\n",
       "      <td>COL</td>\n",
       "      <td>2:47:51</td>\n",
       "      <td>468</td>\n",
       "      <td>435</td>\n",
       "      <td>NaN</td>\n",
       "    </tr>\n",
       "    <tr>\n",
       "      <th>678</th>\n",
       "      <td>Melendez, Carlos Manuel M. Sr.</td>\n",
       "      <td>38</td>\n",
       "      <td>M</td>\n",
       "      <td>Quesada, San Carlos</td>\n",
       "      <td>NaN</td>\n",
       "      <td>CRC</td>\n",
       "      <td>2:51:45</td>\n",
       "      <td>679</td>\n",
       "      <td>639</td>\n",
       "      <td>NaN</td>\n",
       "    </tr>\n",
       "    <tr>\n",
       "      <th>733</th>\n",
       "      <td>Castano Gonzalez, Angel U. Sr.</td>\n",
       "      <td>41</td>\n",
       "      <td>M</td>\n",
       "      <td>Medellin</td>\n",
       "      <td>NaN</td>\n",
       "      <td>COL</td>\n",
       "      <td>2:52:35</td>\n",
       "      <td>734</td>\n",
       "      <td>691</td>\n",
       "      <td>NaN</td>\n",
       "    </tr>\n",
       "  </tbody>\n",
       "</table>\n",
       "</div>"
      ],
      "text/plain": [
       "                                   Name  Age M/F                 City State  \\\n",
       "203  Cifuentes Fetiva, Miguel Angel Sr.   38   M               Bogota   NaN   \n",
       "467    Martinez Solano, Juan Manuel Jr.   28   M               Bogota   NaN   \n",
       "678      Melendez, Carlos Manuel M. Sr.   38   M  Quesada, San Carlos   NaN   \n",
       "733      Castano Gonzalez, Angel U. Sr.   41   M             Medellin   NaN   \n",
       "\n",
       "    Country Official Time  Overall  Gender Years Ran  \n",
       "203     COL       2:40:46      204     182      2015  \n",
       "467     COL       2:47:51      468     435       NaN  \n",
       "678     CRC       2:51:45      679     639       NaN  \n",
       "733     COL       2:52:35      734     691       NaN  "
      ]
     },
     "execution_count": 716,
     "metadata": {},
     "output_type": "execute_result"
    }
   ],
   "source": [
    "boston.loc[mask]"
   ]
  },
  {
   "cell_type": "code",
   "execution_count": 717,
   "metadata": {},
   "outputs": [
    {
     "data": {
      "text/html": [
       "<div>\n",
       "<style scoped>\n",
       "    .dataframe tbody tr th:only-of-type {\n",
       "        vertical-align: middle;\n",
       "    }\n",
       "\n",
       "    .dataframe tbody tr th {\n",
       "        vertical-align: top;\n",
       "    }\n",
       "\n",
       "    .dataframe thead th {\n",
       "        text-align: right;\n",
       "    }\n",
       "</style>\n",
       "<table border=\"1\" class=\"dataframe\">\n",
       "  <thead>\n",
       "    <tr style=\"text-align: right;\">\n",
       "      <th></th>\n",
       "      <th>0</th>\n",
       "      <th>1</th>\n",
       "      <th>2</th>\n",
       "      <th>3</th>\n",
       "      <th>4</th>\n",
       "    </tr>\n",
       "  </thead>\n",
       "  <tbody>\n",
       "    <tr>\n",
       "      <th>0</th>\n",
       "      <td>Kirui,</td>\n",
       "      <td>Geoffrey</td>\n",
       "      <td>None</td>\n",
       "      <td>None</td>\n",
       "      <td>None</td>\n",
       "    </tr>\n",
       "    <tr>\n",
       "      <th>1</th>\n",
       "      <td>Rupp,</td>\n",
       "      <td>Galen</td>\n",
       "      <td>None</td>\n",
       "      <td>None</td>\n",
       "      <td>None</td>\n",
       "    </tr>\n",
       "    <tr>\n",
       "      <th>2</th>\n",
       "      <td>Osako,</td>\n",
       "      <td>Suguru</td>\n",
       "      <td>None</td>\n",
       "      <td>None</td>\n",
       "      <td>None</td>\n",
       "    </tr>\n",
       "    <tr>\n",
       "      <th>3</th>\n",
       "      <td>Biwott,</td>\n",
       "      <td>Shadrack</td>\n",
       "      <td>None</td>\n",
       "      <td>None</td>\n",
       "      <td>None</td>\n",
       "    </tr>\n",
       "    <tr>\n",
       "      <th>4</th>\n",
       "      <td>Chebet,</td>\n",
       "      <td>Wilson</td>\n",
       "      <td>None</td>\n",
       "      <td>None</td>\n",
       "      <td>None</td>\n",
       "    </tr>\n",
       "    <tr>\n",
       "      <th>...</th>\n",
       "      <td>...</td>\n",
       "      <td>...</td>\n",
       "      <td>...</td>\n",
       "      <td>...</td>\n",
       "      <td>...</td>\n",
       "    </tr>\n",
       "    <tr>\n",
       "      <th>995</th>\n",
       "      <td>Larosa,</td>\n",
       "      <td>Mark</td>\n",
       "      <td>None</td>\n",
       "      <td>None</td>\n",
       "      <td>None</td>\n",
       "    </tr>\n",
       "    <tr>\n",
       "      <th>996</th>\n",
       "      <td>Williamson,</td>\n",
       "      <td>Jerry</td>\n",
       "      <td>A</td>\n",
       "      <td>None</td>\n",
       "      <td>None</td>\n",
       "    </tr>\n",
       "    <tr>\n",
       "      <th>997</th>\n",
       "      <td>Mccue,</td>\n",
       "      <td>Daniel</td>\n",
       "      <td>T</td>\n",
       "      <td>None</td>\n",
       "      <td>None</td>\n",
       "    </tr>\n",
       "    <tr>\n",
       "      <th>998</th>\n",
       "      <td>Larosa,</td>\n",
       "      <td>John</td>\n",
       "      <td>None</td>\n",
       "      <td>None</td>\n",
       "      <td>None</td>\n",
       "    </tr>\n",
       "    <tr>\n",
       "      <th>999</th>\n",
       "      <td>Sanchez,</td>\n",
       "      <td>Sam</td>\n",
       "      <td>R</td>\n",
       "      <td>None</td>\n",
       "      <td>None</td>\n",
       "    </tr>\n",
       "  </tbody>\n",
       "</table>\n",
       "<p>1000 rows × 5 columns</p>\n",
       "</div>"
      ],
      "text/plain": [
       "               0         1     2     3     4\n",
       "0         Kirui,  Geoffrey  None  None  None\n",
       "1          Rupp,     Galen  None  None  None\n",
       "2         Osako,    Suguru  None  None  None\n",
       "3        Biwott,  Shadrack  None  None  None\n",
       "4        Chebet,    Wilson  None  None  None\n",
       "..           ...       ...   ...   ...   ...\n",
       "995      Larosa,      Mark  None  None  None\n",
       "996  Williamson,     Jerry     A  None  None\n",
       "997       Mccue,    Daniel     T  None  None\n",
       "998      Larosa,      John  None  None  None\n",
       "999     Sanchez,       Sam     R  None  None\n",
       "\n",
       "[1000 rows x 5 columns]"
      ]
     },
     "execution_count": 717,
     "metadata": {},
     "output_type": "execute_result"
    }
   ],
   "source": [
    "boston.Name.str.split(expand=True)"
   ]
  },
  {
   "cell_type": "code",
   "execution_count": 718,
   "metadata": {},
   "outputs": [
    {
     "data": {
      "text/html": [
       "<div>\n",
       "<style scoped>\n",
       "    .dataframe tbody tr th:only-of-type {\n",
       "        vertical-align: middle;\n",
       "    }\n",
       "\n",
       "    .dataframe tbody tr th {\n",
       "        vertical-align: top;\n",
       "    }\n",
       "\n",
       "    .dataframe thead th {\n",
       "        text-align: right;\n",
       "    }\n",
       "</style>\n",
       "<table border=\"1\" class=\"dataframe\">\n",
       "  <thead>\n",
       "    <tr style=\"text-align: right;\">\n",
       "      <th></th>\n",
       "      <th>0</th>\n",
       "      <th>1</th>\n",
       "      <th>2</th>\n",
       "    </tr>\n",
       "  </thead>\n",
       "  <tbody>\n",
       "    <tr>\n",
       "      <th>0</th>\n",
       "      <td>Kirui,</td>\n",
       "      <td>Geoffrey</td>\n",
       "      <td>None</td>\n",
       "    </tr>\n",
       "    <tr>\n",
       "      <th>1</th>\n",
       "      <td>Rupp,</td>\n",
       "      <td>Galen</td>\n",
       "      <td>None</td>\n",
       "    </tr>\n",
       "    <tr>\n",
       "      <th>2</th>\n",
       "      <td>Osako,</td>\n",
       "      <td>Suguru</td>\n",
       "      <td>None</td>\n",
       "    </tr>\n",
       "    <tr>\n",
       "      <th>3</th>\n",
       "      <td>Biwott,</td>\n",
       "      <td>Shadrack</td>\n",
       "      <td>None</td>\n",
       "    </tr>\n",
       "    <tr>\n",
       "      <th>4</th>\n",
       "      <td>Chebet,</td>\n",
       "      <td>Wilson</td>\n",
       "      <td>None</td>\n",
       "    </tr>\n",
       "    <tr>\n",
       "      <th>...</th>\n",
       "      <td>...</td>\n",
       "      <td>...</td>\n",
       "      <td>...</td>\n",
       "    </tr>\n",
       "    <tr>\n",
       "      <th>995</th>\n",
       "      <td>Larosa,</td>\n",
       "      <td>Mark</td>\n",
       "      <td>None</td>\n",
       "    </tr>\n",
       "    <tr>\n",
       "      <th>996</th>\n",
       "      <td>Williamson,</td>\n",
       "      <td>Jerry</td>\n",
       "      <td>A</td>\n",
       "    </tr>\n",
       "    <tr>\n",
       "      <th>997</th>\n",
       "      <td>Mccue,</td>\n",
       "      <td>Daniel</td>\n",
       "      <td>T</td>\n",
       "    </tr>\n",
       "    <tr>\n",
       "      <th>998</th>\n",
       "      <td>Larosa,</td>\n",
       "      <td>John</td>\n",
       "      <td>None</td>\n",
       "    </tr>\n",
       "    <tr>\n",
       "      <th>999</th>\n",
       "      <td>Sanchez,</td>\n",
       "      <td>Sam</td>\n",
       "      <td>R</td>\n",
       "    </tr>\n",
       "  </tbody>\n",
       "</table>\n",
       "<p>1000 rows × 3 columns</p>\n",
       "</div>"
      ],
      "text/plain": [
       "               0         1     2\n",
       "0         Kirui,  Geoffrey  None\n",
       "1          Rupp,     Galen  None\n",
       "2         Osako,    Suguru  None\n",
       "3        Biwott,  Shadrack  None\n",
       "4        Chebet,    Wilson  None\n",
       "..           ...       ...   ...\n",
       "995      Larosa,      Mark  None\n",
       "996  Williamson,     Jerry     A\n",
       "997       Mccue,    Daniel     T\n",
       "998      Larosa,      John  None\n",
       "999     Sanchez,       Sam     R\n",
       "\n",
       "[1000 rows x 3 columns]"
      ]
     },
     "execution_count": 718,
     "metadata": {},
     "output_type": "execute_result"
    }
   ],
   "source": [
    "boston.Name.str.split(expand=True, n=2)"
   ]
  },
  {
   "cell_type": "code",
   "execution_count": 719,
   "metadata": {},
   "outputs": [
    {
     "data": {
      "text/plain": [
       "0      2\n",
       "1      2\n",
       "2      2\n",
       "3      2\n",
       "4      2\n",
       "      ..\n",
       "995    2\n",
       "996    3\n",
       "997    3\n",
       "998    2\n",
       "999    3\n",
       "Length: 1000, dtype: int64"
      ]
     },
     "execution_count": 719,
     "metadata": {},
     "output_type": "execute_result"
    }
   ],
   "source": [
    "boston.Name.str.split(expand=True, n=2).count(axis=1)"
   ]
  },
  {
   "cell_type": "code",
   "execution_count": 720,
   "metadata": {},
   "outputs": [],
   "source": [
    "mask_n_3 = boston.Name.str.split(expand=True, n=2).count(axis=1) == 3"
   ]
  },
  {
   "cell_type": "code",
   "execution_count": 721,
   "metadata": {},
   "outputs": [
    {
     "data": {
      "text/html": [
       "<div>\n",
       "<style scoped>\n",
       "    .dataframe tbody tr th:only-of-type {\n",
       "        vertical-align: middle;\n",
       "    }\n",
       "\n",
       "    .dataframe tbody tr th {\n",
       "        vertical-align: top;\n",
       "    }\n",
       "\n",
       "    .dataframe thead th {\n",
       "        text-align: right;\n",
       "    }\n",
       "</style>\n",
       "<table border=\"1\" class=\"dataframe\">\n",
       "  <thead>\n",
       "    <tr style=\"text-align: right;\">\n",
       "      <th></th>\n",
       "      <th>Name</th>\n",
       "      <th>Age</th>\n",
       "      <th>M/F</th>\n",
       "      <th>City</th>\n",
       "      <th>State</th>\n",
       "      <th>Country</th>\n",
       "      <th>Official Time</th>\n",
       "      <th>Overall</th>\n",
       "      <th>Gender</th>\n",
       "      <th>Years Ran</th>\n",
       "    </tr>\n",
       "  </thead>\n",
       "  <tbody>\n",
       "    <tr>\n",
       "      <th>6</th>\n",
       "      <td>Maiyo, Augustus K.</td>\n",
       "      <td>33</td>\n",
       "      <td>M</td>\n",
       "      <td>Colorado Springs</td>\n",
       "      <td>CO</td>\n",
       "      <td>USA</td>\n",
       "      <td>2:13:16</td>\n",
       "      <td>7</td>\n",
       "      <td>7</td>\n",
       "      <td>NaN</td>\n",
       "    </tr>\n",
       "    <tr>\n",
       "      <th>15</th>\n",
       "      <td>Puzey, Thomas R.</td>\n",
       "      <td>32</td>\n",
       "      <td>M</td>\n",
       "      <td>Flagstaff</td>\n",
       "      <td>AZ</td>\n",
       "      <td>USA</td>\n",
       "      <td>2:18:20</td>\n",
       "      <td>16</td>\n",
       "      <td>16</td>\n",
       "      <td>NaN</td>\n",
       "    </tr>\n",
       "    <tr>\n",
       "      <th>21</th>\n",
       "      <td>Chipsiya, Christopher K.</td>\n",
       "      <td>42</td>\n",
       "      <td>M</td>\n",
       "      <td>Zacatecas</td>\n",
       "      <td>NaN</td>\n",
       "      <td>MEX</td>\n",
       "      <td>2:22:20</td>\n",
       "      <td>22</td>\n",
       "      <td>21</td>\n",
       "      <td>NaN</td>\n",
       "    </tr>\n",
       "    <tr>\n",
       "      <th>25</th>\n",
       "      <td>Place, Ryan J</td>\n",
       "      <td>31</td>\n",
       "      <td>M</td>\n",
       "      <td>Cambridge</td>\n",
       "      <td>MA</td>\n",
       "      <td>USA</td>\n",
       "      <td>2:23:05</td>\n",
       "      <td>26</td>\n",
       "      <td>23</td>\n",
       "      <td>NaN</td>\n",
       "    </tr>\n",
       "    <tr>\n",
       "      <th>28</th>\n",
       "      <td>Thompson, Christian C.</td>\n",
       "      <td>28</td>\n",
       "      <td>M</td>\n",
       "      <td>Chattanooga</td>\n",
       "      <td>TN</td>\n",
       "      <td>USA</td>\n",
       "      <td>2:23:51</td>\n",
       "      <td>29</td>\n",
       "      <td>26</td>\n",
       "      <td>NaN</td>\n",
       "    </tr>\n",
       "    <tr>\n",
       "      <th>...</th>\n",
       "      <td>...</td>\n",
       "      <td>...</td>\n",
       "      <td>...</td>\n",
       "      <td>...</td>\n",
       "      <td>...</td>\n",
       "      <td>...</td>\n",
       "      <td>...</td>\n",
       "      <td>...</td>\n",
       "      <td>...</td>\n",
       "      <td>...</td>\n",
       "    </tr>\n",
       "    <tr>\n",
       "      <th>993</th>\n",
       "      <td>Branick, Connor M</td>\n",
       "      <td>23</td>\n",
       "      <td>M</td>\n",
       "      <td>Sioux Falls</td>\n",
       "      <td>SD</td>\n",
       "      <td>USA</td>\n",
       "      <td>2:56:05</td>\n",
       "      <td>994</td>\n",
       "      <td>938</td>\n",
       "      <td>NaN</td>\n",
       "    </tr>\n",
       "    <tr>\n",
       "      <th>994</th>\n",
       "      <td>Mejia Huerta, Bernardo B.</td>\n",
       "      <td>31</td>\n",
       "      <td>M</td>\n",
       "      <td>Mexico City</td>\n",
       "      <td>NaN</td>\n",
       "      <td>MEX</td>\n",
       "      <td>2:56:05</td>\n",
       "      <td>995</td>\n",
       "      <td>939</td>\n",
       "      <td>NaN</td>\n",
       "    </tr>\n",
       "    <tr>\n",
       "      <th>996</th>\n",
       "      <td>Williamson, Jerry A</td>\n",
       "      <td>43</td>\n",
       "      <td>M</td>\n",
       "      <td>Raleigh</td>\n",
       "      <td>NC</td>\n",
       "      <td>USA</td>\n",
       "      <td>2:56:06</td>\n",
       "      <td>997</td>\n",
       "      <td>941</td>\n",
       "      <td>2015</td>\n",
       "    </tr>\n",
       "    <tr>\n",
       "      <th>997</th>\n",
       "      <td>Mccue, Daniel T</td>\n",
       "      <td>40</td>\n",
       "      <td>M</td>\n",
       "      <td>Arlington</td>\n",
       "      <td>MA</td>\n",
       "      <td>USA</td>\n",
       "      <td>2:56:06</td>\n",
       "      <td>998</td>\n",
       "      <td>942</td>\n",
       "      <td>NaN</td>\n",
       "    </tr>\n",
       "    <tr>\n",
       "      <th>999</th>\n",
       "      <td>Sanchez, Sam R</td>\n",
       "      <td>35</td>\n",
       "      <td>M</td>\n",
       "      <td>Santa Fe</td>\n",
       "      <td>NM</td>\n",
       "      <td>USA</td>\n",
       "      <td>2:56:08</td>\n",
       "      <td>1000</td>\n",
       "      <td>944</td>\n",
       "      <td>NaN</td>\n",
       "    </tr>\n",
       "  </tbody>\n",
       "</table>\n",
       "<p>414 rows × 10 columns</p>\n",
       "</div>"
      ],
      "text/plain": [
       "                          Name  Age M/F              City State Country  \\\n",
       "6           Maiyo, Augustus K.   33   M  Colorado Springs    CO     USA   \n",
       "15            Puzey, Thomas R.   32   M         Flagstaff    AZ     USA   \n",
       "21    Chipsiya, Christopher K.   42   M         Zacatecas   NaN     MEX   \n",
       "25               Place, Ryan J   31   M         Cambridge    MA     USA   \n",
       "28      Thompson, Christian C.   28   M       Chattanooga    TN     USA   \n",
       "..                         ...  ...  ..               ...   ...     ...   \n",
       "993          Branick, Connor M   23   M       Sioux Falls    SD     USA   \n",
       "994  Mejia Huerta, Bernardo B.   31   M       Mexico City   NaN     MEX   \n",
       "996        Williamson, Jerry A   43   M           Raleigh    NC     USA   \n",
       "997            Mccue, Daniel T   40   M         Arlington    MA     USA   \n",
       "999             Sanchez, Sam R   35   M          Santa Fe    NM     USA   \n",
       "\n",
       "    Official Time  Overall  Gender Years Ran  \n",
       "6         2:13:16        7       7       NaN  \n",
       "15        2:18:20       16      16       NaN  \n",
       "21        2:22:20       22      21       NaN  \n",
       "25        2:23:05       26      23       NaN  \n",
       "28        2:23:51       29      26       NaN  \n",
       "..            ...      ...     ...       ...  \n",
       "993       2:56:05      994     938       NaN  \n",
       "994       2:56:05      995     939       NaN  \n",
       "996       2:56:06      997     941      2015  \n",
       "997       2:56:06      998     942       NaN  \n",
       "999       2:56:08     1000     944       NaN  \n",
       "\n",
       "[414 rows x 10 columns]"
      ]
     },
     "execution_count": 721,
     "metadata": {},
     "output_type": "execute_result"
    }
   ],
   "source": [
    "boston.loc[mask_n_3]"
   ]
  },
  {
   "cell_type": "code",
   "execution_count": 722,
   "metadata": {},
   "outputs": [
    {
     "data": {
      "text/html": [
       "<div>\n",
       "<style scoped>\n",
       "    .dataframe tbody tr th:only-of-type {\n",
       "        vertical-align: middle;\n",
       "    }\n",
       "\n",
       "    .dataframe tbody tr th {\n",
       "        vertical-align: top;\n",
       "    }\n",
       "\n",
       "    .dataframe thead th {\n",
       "        text-align: right;\n",
       "    }\n",
       "</style>\n",
       "<table border=\"1\" class=\"dataframe\">\n",
       "  <thead>\n",
       "    <tr style=\"text-align: right;\">\n",
       "      <th></th>\n",
       "      <th>Name</th>\n",
       "      <th>Age</th>\n",
       "      <th>M/F</th>\n",
       "      <th>City</th>\n",
       "      <th>State</th>\n",
       "      <th>Country</th>\n",
       "      <th>Official Time</th>\n",
       "      <th>Overall</th>\n",
       "      <th>Gender</th>\n",
       "      <th>Years Ran</th>\n",
       "    </tr>\n",
       "  </thead>\n",
       "  <tbody>\n",
       "    <tr>\n",
       "      <th>999</th>\n",
       "      <td>Sanchez, Sam R</td>\n",
       "      <td>35</td>\n",
       "      <td>M</td>\n",
       "      <td>Santa Fe</td>\n",
       "      <td>NM</td>\n",
       "      <td>USA</td>\n",
       "      <td>2:56:08</td>\n",
       "      <td>1000</td>\n",
       "      <td>944</td>\n",
       "      <td>NaN</td>\n",
       "    </tr>\n",
       "    <tr>\n",
       "      <th>997</th>\n",
       "      <td>Mccue, Daniel T</td>\n",
       "      <td>40</td>\n",
       "      <td>M</td>\n",
       "      <td>Arlington</td>\n",
       "      <td>MA</td>\n",
       "      <td>USA</td>\n",
       "      <td>2:56:06</td>\n",
       "      <td>998</td>\n",
       "      <td>942</td>\n",
       "      <td>NaN</td>\n",
       "    </tr>\n",
       "    <tr>\n",
       "      <th>996</th>\n",
       "      <td>Williamson, Jerry A</td>\n",
       "      <td>43</td>\n",
       "      <td>M</td>\n",
       "      <td>Raleigh</td>\n",
       "      <td>NC</td>\n",
       "      <td>USA</td>\n",
       "      <td>2:56:06</td>\n",
       "      <td>997</td>\n",
       "      <td>941</td>\n",
       "      <td>2015</td>\n",
       "    </tr>\n",
       "    <tr>\n",
       "      <th>994</th>\n",
       "      <td>Mejia Huerta, Bernardo B.</td>\n",
       "      <td>31</td>\n",
       "      <td>M</td>\n",
       "      <td>Mexico City</td>\n",
       "      <td>NaN</td>\n",
       "      <td>MEX</td>\n",
       "      <td>2:56:05</td>\n",
       "      <td>995</td>\n",
       "      <td>939</td>\n",
       "      <td>NaN</td>\n",
       "    </tr>\n",
       "    <tr>\n",
       "      <th>993</th>\n",
       "      <td>Branick, Connor M</td>\n",
       "      <td>23</td>\n",
       "      <td>M</td>\n",
       "      <td>Sioux Falls</td>\n",
       "      <td>SD</td>\n",
       "      <td>USA</td>\n",
       "      <td>2:56:05</td>\n",
       "      <td>994</td>\n",
       "      <td>938</td>\n",
       "      <td>NaN</td>\n",
       "    </tr>\n",
       "    <tr>\n",
       "      <th>...</th>\n",
       "      <td>...</td>\n",
       "      <td>...</td>\n",
       "      <td>...</td>\n",
       "      <td>...</td>\n",
       "      <td>...</td>\n",
       "      <td>...</td>\n",
       "      <td>...</td>\n",
       "      <td>...</td>\n",
       "      <td>...</td>\n",
       "      <td>...</td>\n",
       "    </tr>\n",
       "    <tr>\n",
       "      <th>28</th>\n",
       "      <td>Thompson, Christian C.</td>\n",
       "      <td>28</td>\n",
       "      <td>M</td>\n",
       "      <td>Chattanooga</td>\n",
       "      <td>TN</td>\n",
       "      <td>USA</td>\n",
       "      <td>2:23:51</td>\n",
       "      <td>29</td>\n",
       "      <td>26</td>\n",
       "      <td>NaN</td>\n",
       "    </tr>\n",
       "    <tr>\n",
       "      <th>25</th>\n",
       "      <td>Place, Ryan J</td>\n",
       "      <td>31</td>\n",
       "      <td>M</td>\n",
       "      <td>Cambridge</td>\n",
       "      <td>MA</td>\n",
       "      <td>USA</td>\n",
       "      <td>2:23:05</td>\n",
       "      <td>26</td>\n",
       "      <td>23</td>\n",
       "      <td>NaN</td>\n",
       "    </tr>\n",
       "    <tr>\n",
       "      <th>21</th>\n",
       "      <td>Chipsiya, Christopher K.</td>\n",
       "      <td>42</td>\n",
       "      <td>M</td>\n",
       "      <td>Zacatecas</td>\n",
       "      <td>NaN</td>\n",
       "      <td>MEX</td>\n",
       "      <td>2:22:20</td>\n",
       "      <td>22</td>\n",
       "      <td>21</td>\n",
       "      <td>NaN</td>\n",
       "    </tr>\n",
       "    <tr>\n",
       "      <th>15</th>\n",
       "      <td>Puzey, Thomas R.</td>\n",
       "      <td>32</td>\n",
       "      <td>M</td>\n",
       "      <td>Flagstaff</td>\n",
       "      <td>AZ</td>\n",
       "      <td>USA</td>\n",
       "      <td>2:18:20</td>\n",
       "      <td>16</td>\n",
       "      <td>16</td>\n",
       "      <td>NaN</td>\n",
       "    </tr>\n",
       "    <tr>\n",
       "      <th>6</th>\n",
       "      <td>Maiyo, Augustus K.</td>\n",
       "      <td>33</td>\n",
       "      <td>M</td>\n",
       "      <td>Colorado Springs</td>\n",
       "      <td>CO</td>\n",
       "      <td>USA</td>\n",
       "      <td>2:13:16</td>\n",
       "      <td>7</td>\n",
       "      <td>7</td>\n",
       "      <td>NaN</td>\n",
       "    </tr>\n",
       "  </tbody>\n",
       "</table>\n",
       "<p>414 rows × 10 columns</p>\n",
       "</div>"
      ],
      "text/plain": [
       "                          Name  Age M/F              City State Country  \\\n",
       "999             Sanchez, Sam R   35   M          Santa Fe    NM     USA   \n",
       "997            Mccue, Daniel T   40   M         Arlington    MA     USA   \n",
       "996        Williamson, Jerry A   43   M           Raleigh    NC     USA   \n",
       "994  Mejia Huerta, Bernardo B.   31   M       Mexico City   NaN     MEX   \n",
       "993          Branick, Connor M   23   M       Sioux Falls    SD     USA   \n",
       "..                         ...  ...  ..               ...   ...     ...   \n",
       "28      Thompson, Christian C.   28   M       Chattanooga    TN     USA   \n",
       "25               Place, Ryan J   31   M         Cambridge    MA     USA   \n",
       "21    Chipsiya, Christopher K.   42   M         Zacatecas   NaN     MEX   \n",
       "15            Puzey, Thomas R.   32   M         Flagstaff    AZ     USA   \n",
       "6           Maiyo, Augustus K.   33   M  Colorado Springs    CO     USA   \n",
       "\n",
       "    Official Time  Overall  Gender Years Ran  \n",
       "999       2:56:08     1000     944       NaN  \n",
       "997       2:56:06      998     942       NaN  \n",
       "996       2:56:06      997     941      2015  \n",
       "994       2:56:05      995     939       NaN  \n",
       "993       2:56:05      994     938       NaN  \n",
       "..            ...      ...     ...       ...  \n",
       "28        2:23:51       29      26       NaN  \n",
       "25        2:23:05       26      23       NaN  \n",
       "21        2:22:20       22      21       NaN  \n",
       "15        2:18:20       16      16       NaN  \n",
       "6         2:13:16        7       7       NaN  \n",
       "\n",
       "[414 rows x 10 columns]"
      ]
     },
     "execution_count": 722,
     "metadata": {},
     "output_type": "execute_result"
    }
   ],
   "source": [
    "boston.loc[mask_n_3].sort_values(by='Official Time', ascending=False)"
   ]
  },
  {
   "cell_type": "code",
   "execution_count": 723,
   "metadata": {},
   "outputs": [
    {
     "data": {
      "text/html": [
       "<div>\n",
       "<style scoped>\n",
       "    .dataframe tbody tr th:only-of-type {\n",
       "        vertical-align: middle;\n",
       "    }\n",
       "\n",
       "    .dataframe tbody tr th {\n",
       "        vertical-align: top;\n",
       "    }\n",
       "\n",
       "    .dataframe thead th {\n",
       "        text-align: right;\n",
       "    }\n",
       "</style>\n",
       "<table border=\"1\" class=\"dataframe\">\n",
       "  <thead>\n",
       "    <tr style=\"text-align: right;\">\n",
       "      <th></th>\n",
       "      <th>Name</th>\n",
       "      <th>Age</th>\n",
       "      <th>M/F</th>\n",
       "      <th>City</th>\n",
       "      <th>State</th>\n",
       "      <th>Country</th>\n",
       "      <th>Official Time</th>\n",
       "      <th>Overall</th>\n",
       "      <th>Gender</th>\n",
       "      <th>Years Ran</th>\n",
       "    </tr>\n",
       "  </thead>\n",
       "  <tbody>\n",
       "    <tr>\n",
       "      <th>0</th>\n",
       "      <td>Kirui, Geoffrey</td>\n",
       "      <td>24</td>\n",
       "      <td>M</td>\n",
       "      <td>Keringet</td>\n",
       "      <td>NaN</td>\n",
       "      <td>KEN</td>\n",
       "      <td>2:09:37</td>\n",
       "      <td>1</td>\n",
       "      <td>1</td>\n",
       "      <td>NaN</td>\n",
       "    </tr>\n",
       "    <tr>\n",
       "      <th>1</th>\n",
       "      <td>Rupp, Galen</td>\n",
       "      <td>30</td>\n",
       "      <td>M</td>\n",
       "      <td>Portland</td>\n",
       "      <td>OR</td>\n",
       "      <td>USA</td>\n",
       "      <td>2:09:58</td>\n",
       "      <td>2</td>\n",
       "      <td>2</td>\n",
       "      <td>NaN</td>\n",
       "    </tr>\n",
       "    <tr>\n",
       "      <th>2</th>\n",
       "      <td>Osako, Suguru</td>\n",
       "      <td>25</td>\n",
       "      <td>M</td>\n",
       "      <td>Machida-City</td>\n",
       "      <td>NaN</td>\n",
       "      <td>JPN</td>\n",
       "      <td>2:10:28</td>\n",
       "      <td>3</td>\n",
       "      <td>3</td>\n",
       "      <td>NaN</td>\n",
       "    </tr>\n",
       "    <tr>\n",
       "      <th>3</th>\n",
       "      <td>Biwott, Shadrack</td>\n",
       "      <td>32</td>\n",
       "      <td>M</td>\n",
       "      <td>Mammoth Lakes</td>\n",
       "      <td>CA</td>\n",
       "      <td>USA</td>\n",
       "      <td>2:12:08</td>\n",
       "      <td>4</td>\n",
       "      <td>4</td>\n",
       "      <td>NaN</td>\n",
       "    </tr>\n",
       "    <tr>\n",
       "      <th>4</th>\n",
       "      <td>Chebet, Wilson</td>\n",
       "      <td>31</td>\n",
       "      <td>M</td>\n",
       "      <td>Marakwet</td>\n",
       "      <td>NaN</td>\n",
       "      <td>KEN</td>\n",
       "      <td>2:12:35</td>\n",
       "      <td>5</td>\n",
       "      <td>5</td>\n",
       "      <td>2015</td>\n",
       "    </tr>\n",
       "    <tr>\n",
       "      <th>...</th>\n",
       "      <td>...</td>\n",
       "      <td>...</td>\n",
       "      <td>...</td>\n",
       "      <td>...</td>\n",
       "      <td>...</td>\n",
       "      <td>...</td>\n",
       "      <td>...</td>\n",
       "      <td>...</td>\n",
       "      <td>...</td>\n",
       "      <td>...</td>\n",
       "    </tr>\n",
       "    <tr>\n",
       "      <th>995</th>\n",
       "      <td>Larosa, Mark</td>\n",
       "      <td>38</td>\n",
       "      <td>M</td>\n",
       "      <td>North Andover</td>\n",
       "      <td>MA</td>\n",
       "      <td>USA</td>\n",
       "      <td>2:56:06</td>\n",
       "      <td>996</td>\n",
       "      <td>940</td>\n",
       "      <td>2015:2016</td>\n",
       "    </tr>\n",
       "    <tr>\n",
       "      <th>996</th>\n",
       "      <td>Williamson, Jerry A</td>\n",
       "      <td>43</td>\n",
       "      <td>M</td>\n",
       "      <td>Raleigh</td>\n",
       "      <td>NC</td>\n",
       "      <td>USA</td>\n",
       "      <td>2:56:06</td>\n",
       "      <td>997</td>\n",
       "      <td>941</td>\n",
       "      <td>2015</td>\n",
       "    </tr>\n",
       "    <tr>\n",
       "      <th>997</th>\n",
       "      <td>Mccue, Daniel T</td>\n",
       "      <td>40</td>\n",
       "      <td>M</td>\n",
       "      <td>Arlington</td>\n",
       "      <td>MA</td>\n",
       "      <td>USA</td>\n",
       "      <td>2:56:06</td>\n",
       "      <td>998</td>\n",
       "      <td>942</td>\n",
       "      <td>NaN</td>\n",
       "    </tr>\n",
       "    <tr>\n",
       "      <th>998</th>\n",
       "      <td>Larosa, John</td>\n",
       "      <td>35</td>\n",
       "      <td>M</td>\n",
       "      <td>Danbury</td>\n",
       "      <td>CT</td>\n",
       "      <td>USA</td>\n",
       "      <td>2:56:07</td>\n",
       "      <td>999</td>\n",
       "      <td>943</td>\n",
       "      <td>NaN</td>\n",
       "    </tr>\n",
       "    <tr>\n",
       "      <th>999</th>\n",
       "      <td>Sanchez, Sam R</td>\n",
       "      <td>35</td>\n",
       "      <td>M</td>\n",
       "      <td>Santa Fe</td>\n",
       "      <td>NM</td>\n",
       "      <td>USA</td>\n",
       "      <td>2:56:08</td>\n",
       "      <td>1000</td>\n",
       "      <td>944</td>\n",
       "      <td>NaN</td>\n",
       "    </tr>\n",
       "  </tbody>\n",
       "</table>\n",
       "<p>1000 rows × 10 columns</p>\n",
       "</div>"
      ],
      "text/plain": [
       "                    Name  Age M/F           City State Country Official Time  \\\n",
       "0        Kirui, Geoffrey   24   M       Keringet   NaN     KEN       2:09:37   \n",
       "1            Rupp, Galen   30   M       Portland    OR     USA       2:09:58   \n",
       "2          Osako, Suguru   25   M   Machida-City   NaN     JPN       2:10:28   \n",
       "3       Biwott, Shadrack   32   M  Mammoth Lakes    CA     USA       2:12:08   \n",
       "4         Chebet, Wilson   31   M       Marakwet   NaN     KEN       2:12:35   \n",
       "..                   ...  ...  ..            ...   ...     ...           ...   \n",
       "995         Larosa, Mark   38   M  North Andover    MA     USA       2:56:06   \n",
       "996  Williamson, Jerry A   43   M        Raleigh    NC     USA       2:56:06   \n",
       "997      Mccue, Daniel T   40   M      Arlington    MA     USA       2:56:06   \n",
       "998         Larosa, John   35   M        Danbury    CT     USA       2:56:07   \n",
       "999       Sanchez, Sam R   35   M       Santa Fe    NM     USA       2:56:08   \n",
       "\n",
       "     Overall  Gender  Years Ran  \n",
       "0          1       1        NaN  \n",
       "1          2       2        NaN  \n",
       "2          3       3        NaN  \n",
       "3          4       4        NaN  \n",
       "4          5       5       2015  \n",
       "..       ...     ...        ...  \n",
       "995      996     940  2015:2016  \n",
       "996      997     941       2015  \n",
       "997      998     942        NaN  \n",
       "998      999     943        NaN  \n",
       "999     1000     944        NaN  \n",
       "\n",
       "[1000 rows x 10 columns]"
      ]
     },
     "execution_count": 723,
     "metadata": {},
     "output_type": "execute_result"
    }
   ],
   "source": [
    "boston.sort_values(by='Overall')"
   ]
  },
  {
   "cell_type": "code",
   "execution_count": 724,
   "metadata": {},
   "outputs": [
    {
     "data": {
      "text/html": [
       "<div>\n",
       "<style scoped>\n",
       "    .dataframe tbody tr th:only-of-type {\n",
       "        vertical-align: middle;\n",
       "    }\n",
       "\n",
       "    .dataframe tbody tr th {\n",
       "        vertical-align: top;\n",
       "    }\n",
       "\n",
       "    .dataframe thead th {\n",
       "        text-align: right;\n",
       "    }\n",
       "</style>\n",
       "<table border=\"1\" class=\"dataframe\">\n",
       "  <thead>\n",
       "    <tr style=\"text-align: right;\">\n",
       "      <th></th>\n",
       "      <th>Name</th>\n",
       "      <th>Age</th>\n",
       "      <th>M/F</th>\n",
       "      <th>City</th>\n",
       "      <th>State</th>\n",
       "      <th>Country</th>\n",
       "      <th>Official Time</th>\n",
       "      <th>Overall</th>\n",
       "      <th>Gender</th>\n",
       "      <th>Years Ran</th>\n",
       "    </tr>\n",
       "  </thead>\n",
       "  <tbody>\n",
       "    <tr>\n",
       "      <th>4</th>\n",
       "      <td>Chebet, Wilson</td>\n",
       "      <td>31</td>\n",
       "      <td>M</td>\n",
       "      <td>Marakwet</td>\n",
       "      <td>NaN</td>\n",
       "      <td>KEN</td>\n",
       "      <td>2:12:35</td>\n",
       "      <td>5</td>\n",
       "      <td>5</td>\n",
       "      <td>2015</td>\n",
       "    </tr>\n",
       "    <tr>\n",
       "      <th>12</th>\n",
       "      <td>Keflezighi, Meb</td>\n",
       "      <td>41</td>\n",
       "      <td>M</td>\n",
       "      <td>San Diego</td>\n",
       "      <td>CA</td>\n",
       "      <td>USA</td>\n",
       "      <td>2:17:00</td>\n",
       "      <td>13</td>\n",
       "      <td>13</td>\n",
       "      <td>2015</td>\n",
       "    </tr>\n",
       "    <tr>\n",
       "      <th>13</th>\n",
       "      <td>Nyasango, Cutbert</td>\n",
       "      <td>34</td>\n",
       "      <td>M</td>\n",
       "      <td>Harara</td>\n",
       "      <td>NaN</td>\n",
       "      <td>ZIM</td>\n",
       "      <td>2:17:40</td>\n",
       "      <td>14</td>\n",
       "      <td>14</td>\n",
       "      <td>2016</td>\n",
       "    </tr>\n",
       "    <tr>\n",
       "      <th>14</th>\n",
       "      <td>Korir, Wesley</td>\n",
       "      <td>34</td>\n",
       "      <td>M</td>\n",
       "      <td>Kitale</td>\n",
       "      <td>NaN</td>\n",
       "      <td>KEN</td>\n",
       "      <td>2:18:14</td>\n",
       "      <td>15</td>\n",
       "      <td>15</td>\n",
       "      <td>2015:2016</td>\n",
       "    </tr>\n",
       "    <tr>\n",
       "      <th>29</th>\n",
       "      <td>Maravilla, Jorge</td>\n",
       "      <td>39</td>\n",
       "      <td>M</td>\n",
       "      <td>Mill Valley</td>\n",
       "      <td>CA</td>\n",
       "      <td>USA</td>\n",
       "      <td>2:24:27</td>\n",
       "      <td>30</td>\n",
       "      <td>27</td>\n",
       "      <td>2016</td>\n",
       "    </tr>\n",
       "    <tr>\n",
       "      <th>...</th>\n",
       "      <td>...</td>\n",
       "      <td>...</td>\n",
       "      <td>...</td>\n",
       "      <td>...</td>\n",
       "      <td>...</td>\n",
       "      <td>...</td>\n",
       "      <td>...</td>\n",
       "      <td>...</td>\n",
       "      <td>...</td>\n",
       "      <td>...</td>\n",
       "    </tr>\n",
       "    <tr>\n",
       "      <th>986</th>\n",
       "      <td>Bretz, Virgil</td>\n",
       "      <td>44</td>\n",
       "      <td>M</td>\n",
       "      <td>Mt. Kisco</td>\n",
       "      <td>NY</td>\n",
       "      <td>USA</td>\n",
       "      <td>2:56:02</td>\n",
       "      <td>987</td>\n",
       "      <td>931</td>\n",
       "      <td>2015:2016</td>\n",
       "    </tr>\n",
       "    <tr>\n",
       "      <th>987</th>\n",
       "      <td>Cucuzzella, Mark</td>\n",
       "      <td>50</td>\n",
       "      <td>M</td>\n",
       "      <td>Shepherdstown</td>\n",
       "      <td>WV</td>\n",
       "      <td>USA</td>\n",
       "      <td>2:56:03</td>\n",
       "      <td>988</td>\n",
       "      <td>932</td>\n",
       "      <td>2016</td>\n",
       "    </tr>\n",
       "    <tr>\n",
       "      <th>988</th>\n",
       "      <td>Carron, John B</td>\n",
       "      <td>46</td>\n",
       "      <td>M</td>\n",
       "      <td>Irvington</td>\n",
       "      <td>NY</td>\n",
       "      <td>USA</td>\n",
       "      <td>2:56:03</td>\n",
       "      <td>989</td>\n",
       "      <td>933</td>\n",
       "      <td>2016</td>\n",
       "    </tr>\n",
       "    <tr>\n",
       "      <th>995</th>\n",
       "      <td>Larosa, Mark</td>\n",
       "      <td>38</td>\n",
       "      <td>M</td>\n",
       "      <td>North Andover</td>\n",
       "      <td>MA</td>\n",
       "      <td>USA</td>\n",
       "      <td>2:56:06</td>\n",
       "      <td>996</td>\n",
       "      <td>940</td>\n",
       "      <td>2015:2016</td>\n",
       "    </tr>\n",
       "    <tr>\n",
       "      <th>996</th>\n",
       "      <td>Williamson, Jerry A</td>\n",
       "      <td>43</td>\n",
       "      <td>M</td>\n",
       "      <td>Raleigh</td>\n",
       "      <td>NC</td>\n",
       "      <td>USA</td>\n",
       "      <td>2:56:06</td>\n",
       "      <td>997</td>\n",
       "      <td>941</td>\n",
       "      <td>2015</td>\n",
       "    </tr>\n",
       "  </tbody>\n",
       "</table>\n",
       "<p>315 rows × 10 columns</p>\n",
       "</div>"
      ],
      "text/plain": [
       "                    Name  Age M/F           City State Country Official Time  \\\n",
       "4         Chebet, Wilson   31   M       Marakwet   NaN     KEN       2:12:35   \n",
       "12       Keflezighi, Meb   41   M      San Diego    CA     USA       2:17:00   \n",
       "13     Nyasango, Cutbert   34   M         Harara   NaN     ZIM       2:17:40   \n",
       "14         Korir, Wesley   34   M         Kitale   NaN     KEN       2:18:14   \n",
       "29      Maravilla, Jorge   39   M    Mill Valley    CA     USA       2:24:27   \n",
       "..                   ...  ...  ..            ...   ...     ...           ...   \n",
       "986        Bretz, Virgil   44   M      Mt. Kisco    NY     USA       2:56:02   \n",
       "987     Cucuzzella, Mark   50   M  Shepherdstown    WV     USA       2:56:03   \n",
       "988       Carron, John B   46   M      Irvington    NY     USA       2:56:03   \n",
       "995         Larosa, Mark   38   M  North Andover    MA     USA       2:56:06   \n",
       "996  Williamson, Jerry A   43   M        Raleigh    NC     USA       2:56:06   \n",
       "\n",
       "     Overall  Gender  Years Ran  \n",
       "4          5       5       2015  \n",
       "12        13      13       2015  \n",
       "13        14      14       2016  \n",
       "14        15      15  2015:2016  \n",
       "29        30      27       2016  \n",
       "..       ...     ...        ...  \n",
       "986      987     931  2015:2016  \n",
       "987      988     932       2016  \n",
       "988      989     933       2016  \n",
       "995      996     940  2015:2016  \n",
       "996      997     941       2015  \n",
       "\n",
       "[315 rows x 10 columns]"
      ]
     },
     "execution_count": 724,
     "metadata": {},
     "output_type": "execute_result"
    }
   ],
   "source": [
    "boston.dropna(axis=0, how='any', subset='Years Ran')"
   ]
  },
  {
   "cell_type": "code",
   "execution_count": 725,
   "metadata": {},
   "outputs": [
    {
     "data": {
      "text/html": [
       "<div>\n",
       "<style scoped>\n",
       "    .dataframe tbody tr th:only-of-type {\n",
       "        vertical-align: middle;\n",
       "    }\n",
       "\n",
       "    .dataframe tbody tr th {\n",
       "        vertical-align: top;\n",
       "    }\n",
       "\n",
       "    .dataframe thead th {\n",
       "        text-align: right;\n",
       "    }\n",
       "</style>\n",
       "<table border=\"1\" class=\"dataframe\">\n",
       "  <thead>\n",
       "    <tr style=\"text-align: right;\">\n",
       "      <th></th>\n",
       "      <th>0</th>\n",
       "      <th>1</th>\n",
       "    </tr>\n",
       "  </thead>\n",
       "  <tbody>\n",
       "    <tr>\n",
       "      <th>0</th>\n",
       "      <td>Kirui</td>\n",
       "      <td>Geoffrey</td>\n",
       "    </tr>\n",
       "    <tr>\n",
       "      <th>1</th>\n",
       "      <td>Rupp</td>\n",
       "      <td>Galen</td>\n",
       "    </tr>\n",
       "    <tr>\n",
       "      <th>2</th>\n",
       "      <td>Osako</td>\n",
       "      <td>Suguru</td>\n",
       "    </tr>\n",
       "    <tr>\n",
       "      <th>3</th>\n",
       "      <td>Biwott</td>\n",
       "      <td>Shadrack</td>\n",
       "    </tr>\n",
       "    <tr>\n",
       "      <th>4</th>\n",
       "      <td>Chebet</td>\n",
       "      <td>Wilson</td>\n",
       "    </tr>\n",
       "    <tr>\n",
       "      <th>...</th>\n",
       "      <td>...</td>\n",
       "      <td>...</td>\n",
       "    </tr>\n",
       "    <tr>\n",
       "      <th>995</th>\n",
       "      <td>Larosa</td>\n",
       "      <td>Mark</td>\n",
       "    </tr>\n",
       "    <tr>\n",
       "      <th>996</th>\n",
       "      <td>Williamson</td>\n",
       "      <td>Jerry A</td>\n",
       "    </tr>\n",
       "    <tr>\n",
       "      <th>997</th>\n",
       "      <td>Mccue</td>\n",
       "      <td>Daniel T</td>\n",
       "    </tr>\n",
       "    <tr>\n",
       "      <th>998</th>\n",
       "      <td>Larosa</td>\n",
       "      <td>John</td>\n",
       "    </tr>\n",
       "    <tr>\n",
       "      <th>999</th>\n",
       "      <td>Sanchez</td>\n",
       "      <td>Sam R</td>\n",
       "    </tr>\n",
       "  </tbody>\n",
       "</table>\n",
       "<p>1000 rows × 2 columns</p>\n",
       "</div>"
      ],
      "text/plain": [
       "              0         1\n",
       "0         Kirui  Geoffrey\n",
       "1          Rupp     Galen\n",
       "2         Osako    Suguru\n",
       "3        Biwott  Shadrack\n",
       "4        Chebet    Wilson\n",
       "..          ...       ...\n",
       "995      Larosa      Mark\n",
       "996  Williamson   Jerry A\n",
       "997       Mccue  Daniel T\n",
       "998      Larosa      John\n",
       "999     Sanchez     Sam R\n",
       "\n",
       "[1000 rows x 2 columns]"
      ]
     },
     "execution_count": 725,
     "metadata": {},
     "output_type": "execute_result"
    }
   ],
   "source": [
    "boston.Name.str.split(', ', expand=True)\n",
    "\n"
   ]
  },
  {
   "cell_type": "code",
   "execution_count": 726,
   "metadata": {},
   "outputs": [
    {
     "data": {
      "text/html": [
       "<div>\n",
       "<style scoped>\n",
       "    .dataframe tbody tr th:only-of-type {\n",
       "        vertical-align: middle;\n",
       "    }\n",
       "\n",
       "    .dataframe tbody tr th {\n",
       "        vertical-align: top;\n",
       "    }\n",
       "\n",
       "    .dataframe thead th {\n",
       "        text-align: right;\n",
       "    }\n",
       "</style>\n",
       "<table border=\"1\" class=\"dataframe\">\n",
       "  <thead>\n",
       "    <tr style=\"text-align: right;\">\n",
       "      <th></th>\n",
       "      <th>Name</th>\n",
       "      <th>Age</th>\n",
       "      <th>M/F</th>\n",
       "      <th>City</th>\n",
       "      <th>State</th>\n",
       "      <th>Country</th>\n",
       "      <th>Official Time</th>\n",
       "      <th>Overall</th>\n",
       "      <th>Gender</th>\n",
       "      <th>Years Ran</th>\n",
       "    </tr>\n",
       "  </thead>\n",
       "  <tbody>\n",
       "    <tr>\n",
       "      <th>0</th>\n",
       "      <td>Kirui, Geoffrey</td>\n",
       "      <td>24</td>\n",
       "      <td>M</td>\n",
       "      <td>Keringet</td>\n",
       "      <td>NaN</td>\n",
       "      <td>KEN</td>\n",
       "      <td>2:09:37</td>\n",
       "      <td>1</td>\n",
       "      <td>1</td>\n",
       "      <td>NaN</td>\n",
       "    </tr>\n",
       "    <tr>\n",
       "      <th>1</th>\n",
       "      <td>Rupp, Galen</td>\n",
       "      <td>30</td>\n",
       "      <td>M</td>\n",
       "      <td>Portland</td>\n",
       "      <td>OR</td>\n",
       "      <td>USA</td>\n",
       "      <td>2:09:58</td>\n",
       "      <td>2</td>\n",
       "      <td>2</td>\n",
       "      <td>NaN</td>\n",
       "    </tr>\n",
       "    <tr>\n",
       "      <th>2</th>\n",
       "      <td>Osako, Suguru</td>\n",
       "      <td>25</td>\n",
       "      <td>M</td>\n",
       "      <td>Machida-City</td>\n",
       "      <td>NaN</td>\n",
       "      <td>JPN</td>\n",
       "      <td>2:10:28</td>\n",
       "      <td>3</td>\n",
       "      <td>3</td>\n",
       "      <td>NaN</td>\n",
       "    </tr>\n",
       "    <tr>\n",
       "      <th>3</th>\n",
       "      <td>Biwott, Shadrack</td>\n",
       "      <td>32</td>\n",
       "      <td>M</td>\n",
       "      <td>Mammoth Lakes</td>\n",
       "      <td>CA</td>\n",
       "      <td>USA</td>\n",
       "      <td>2:12:08</td>\n",
       "      <td>4</td>\n",
       "      <td>4</td>\n",
       "      <td>NaN</td>\n",
       "    </tr>\n",
       "    <tr>\n",
       "      <th>4</th>\n",
       "      <td>Chebet, Wilson</td>\n",
       "      <td>31</td>\n",
       "      <td>M</td>\n",
       "      <td>Marakwet</td>\n",
       "      <td>NaN</td>\n",
       "      <td>KEN</td>\n",
       "      <td>2:12:35</td>\n",
       "      <td>5</td>\n",
       "      <td>5</td>\n",
       "      <td>2015</td>\n",
       "    </tr>\n",
       "  </tbody>\n",
       "</table>\n",
       "</div>"
      ],
      "text/plain": [
       "               Name  Age M/F           City State Country Official Time  \\\n",
       "0   Kirui, Geoffrey   24   M       Keringet   NaN     KEN       2:09:37   \n",
       "1       Rupp, Galen   30   M       Portland    OR     USA       2:09:58   \n",
       "2     Osako, Suguru   25   M   Machida-City   NaN     JPN       2:10:28   \n",
       "3  Biwott, Shadrack   32   M  Mammoth Lakes    CA     USA       2:12:08   \n",
       "4    Chebet, Wilson   31   M       Marakwet   NaN     KEN       2:12:35   \n",
       "\n",
       "   Overall  Gender Years Ran  \n",
       "0        1       1       NaN  \n",
       "1        2       2       NaN  \n",
       "2        3       3       NaN  \n",
       "3        4       4       NaN  \n",
       "4        5       5      2015  "
      ]
     },
     "execution_count": 726,
     "metadata": {},
     "output_type": "execute_result"
    }
   ],
   "source": [
    "boston.head()"
   ]
  },
  {
   "attachments": {},
   "cell_type": "markdown",
   "metadata": {},
   "source": [
    "Setting with enlargemen"
   ]
  },
  {
   "cell_type": "code",
   "execution_count": 727,
   "metadata": {},
   "outputs": [],
   "source": [
    "boston[['First Name', 'Last Name']] = boston.Name.str.split(', ', expand=True)"
   ]
  },
  {
   "cell_type": "code",
   "execution_count": 728,
   "metadata": {},
   "outputs": [
    {
     "data": {
      "text/html": [
       "<div>\n",
       "<style scoped>\n",
       "    .dataframe tbody tr th:only-of-type {\n",
       "        vertical-align: middle;\n",
       "    }\n",
       "\n",
       "    .dataframe tbody tr th {\n",
       "        vertical-align: top;\n",
       "    }\n",
       "\n",
       "    .dataframe thead th {\n",
       "        text-align: right;\n",
       "    }\n",
       "</style>\n",
       "<table border=\"1\" class=\"dataframe\">\n",
       "  <thead>\n",
       "    <tr style=\"text-align: right;\">\n",
       "      <th></th>\n",
       "      <th>Name</th>\n",
       "      <th>Age</th>\n",
       "      <th>M/F</th>\n",
       "      <th>City</th>\n",
       "      <th>State</th>\n",
       "      <th>Country</th>\n",
       "      <th>Official Time</th>\n",
       "      <th>Overall</th>\n",
       "      <th>Gender</th>\n",
       "      <th>Years Ran</th>\n",
       "      <th>First Name</th>\n",
       "      <th>Last Name</th>\n",
       "    </tr>\n",
       "  </thead>\n",
       "  <tbody>\n",
       "    <tr>\n",
       "      <th>0</th>\n",
       "      <td>Kirui, Geoffrey</td>\n",
       "      <td>24</td>\n",
       "      <td>M</td>\n",
       "      <td>Keringet</td>\n",
       "      <td>NaN</td>\n",
       "      <td>KEN</td>\n",
       "      <td>2:09:37</td>\n",
       "      <td>1</td>\n",
       "      <td>1</td>\n",
       "      <td>NaN</td>\n",
       "      <td>Kirui</td>\n",
       "      <td>Geoffrey</td>\n",
       "    </tr>\n",
       "    <tr>\n",
       "      <th>1</th>\n",
       "      <td>Rupp, Galen</td>\n",
       "      <td>30</td>\n",
       "      <td>M</td>\n",
       "      <td>Portland</td>\n",
       "      <td>OR</td>\n",
       "      <td>USA</td>\n",
       "      <td>2:09:58</td>\n",
       "      <td>2</td>\n",
       "      <td>2</td>\n",
       "      <td>NaN</td>\n",
       "      <td>Rupp</td>\n",
       "      <td>Galen</td>\n",
       "    </tr>\n",
       "    <tr>\n",
       "      <th>2</th>\n",
       "      <td>Osako, Suguru</td>\n",
       "      <td>25</td>\n",
       "      <td>M</td>\n",
       "      <td>Machida-City</td>\n",
       "      <td>NaN</td>\n",
       "      <td>JPN</td>\n",
       "      <td>2:10:28</td>\n",
       "      <td>3</td>\n",
       "      <td>3</td>\n",
       "      <td>NaN</td>\n",
       "      <td>Osako</td>\n",
       "      <td>Suguru</td>\n",
       "    </tr>\n",
       "    <tr>\n",
       "      <th>3</th>\n",
       "      <td>Biwott, Shadrack</td>\n",
       "      <td>32</td>\n",
       "      <td>M</td>\n",
       "      <td>Mammoth Lakes</td>\n",
       "      <td>CA</td>\n",
       "      <td>USA</td>\n",
       "      <td>2:12:08</td>\n",
       "      <td>4</td>\n",
       "      <td>4</td>\n",
       "      <td>NaN</td>\n",
       "      <td>Biwott</td>\n",
       "      <td>Shadrack</td>\n",
       "    </tr>\n",
       "    <tr>\n",
       "      <th>4</th>\n",
       "      <td>Chebet, Wilson</td>\n",
       "      <td>31</td>\n",
       "      <td>M</td>\n",
       "      <td>Marakwet</td>\n",
       "      <td>NaN</td>\n",
       "      <td>KEN</td>\n",
       "      <td>2:12:35</td>\n",
       "      <td>5</td>\n",
       "      <td>5</td>\n",
       "      <td>2015</td>\n",
       "      <td>Chebet</td>\n",
       "      <td>Wilson</td>\n",
       "    </tr>\n",
       "  </tbody>\n",
       "</table>\n",
       "</div>"
      ],
      "text/plain": [
       "               Name  Age M/F           City State Country Official Time  \\\n",
       "0   Kirui, Geoffrey   24   M       Keringet   NaN     KEN       2:09:37   \n",
       "1       Rupp, Galen   30   M       Portland    OR     USA       2:09:58   \n",
       "2     Osako, Suguru   25   M   Machida-City   NaN     JPN       2:10:28   \n",
       "3  Biwott, Shadrack   32   M  Mammoth Lakes    CA     USA       2:12:08   \n",
       "4    Chebet, Wilson   31   M       Marakwet   NaN     KEN       2:12:35   \n",
       "\n",
       "   Overall  Gender Years Ran First Name Last Name  \n",
       "0        1       1       NaN      Kirui  Geoffrey  \n",
       "1        2       2       NaN       Rupp     Galen  \n",
       "2        3       3       NaN      Osako    Suguru  \n",
       "3        4       4       NaN     Biwott  Shadrack  \n",
       "4        5       5      2015     Chebet    Wilson  "
      ]
     },
     "execution_count": 728,
     "metadata": {},
     "output_type": "execute_result"
    }
   ],
   "source": [
    "boston.head()"
   ]
  },
  {
   "attachments": {},
   "cell_type": "markdown",
   "metadata": {},
   "source": [
    "# Skill Challenge"
   ]
  },
  {
   "attachments": {},
   "cell_type": "markdown",
   "metadata": {},
   "source": [
    "1. How many runners in our datease have \"James\" as a Last Name."
   ]
  },
  {
   "cell_type": "code",
   "execution_count": 729,
   "metadata": {},
   "outputs": [
    {
     "data": {
      "text/plain": [
       "0          [Kirui, Geoffrey]\n",
       "1              [Rupp, Galen]\n",
       "2            [Osako, Suguru]\n",
       "3         [Biwott, Shadrack]\n",
       "4           [Chebet, Wilson]\n",
       "               ...          \n",
       "995           [Larosa, Mark]\n",
       "996    [Williamson, Jerry A]\n",
       "997        [Mccue, Daniel T]\n",
       "998           [Larosa, John]\n",
       "999         [Sanchez, Sam R]\n",
       "Name: Name, Length: 1000, dtype: object"
      ]
     },
     "execution_count": 729,
     "metadata": {},
     "output_type": "execute_result"
    }
   ],
   "source": [
    "boston.Name.str.split(', ')"
   ]
  },
  {
   "cell_type": "code",
   "execution_count": 730,
   "metadata": {},
   "outputs": [
    {
     "data": {
      "text/plain": [
       "0      Geoffrey\n",
       "1         Galen\n",
       "2        Suguru\n",
       "3      Shadrack\n",
       "4        Wilson\n",
       "         ...   \n",
       "995        Mark\n",
       "996     Jerry A\n",
       "997    Daniel T\n",
       "998        John\n",
       "999       Sam R\n",
       "Name: Name, Length: 1000, dtype: object"
      ]
     },
     "execution_count": 730,
     "metadata": {},
     "output_type": "execute_result"
    }
   ],
   "source": [
    "boston.Name.str.split(', ').str.get(1)"
   ]
  },
  {
   "cell_type": "code",
   "execution_count": 731,
   "metadata": {},
   "outputs": [
    {
     "data": {
      "text/plain": [
       "0      False\n",
       "1      False\n",
       "2      False\n",
       "3      False\n",
       "4      False\n",
       "       ...  \n",
       "995    False\n",
       "996    False\n",
       "997    False\n",
       "998    False\n",
       "999    False\n",
       "Name: Name, Length: 1000, dtype: bool"
      ]
     },
     "execution_count": 731,
     "metadata": {},
     "output_type": "execute_result"
    }
   ],
   "source": [
    "boston.Name.str.split(', ').str.get(1) == 'James'"
   ]
  },
  {
   "cell_type": "code",
   "execution_count": 732,
   "metadata": {},
   "outputs": [
    {
     "data": {
      "text/html": [
       "<div>\n",
       "<style scoped>\n",
       "    .dataframe tbody tr th:only-of-type {\n",
       "        vertical-align: middle;\n",
       "    }\n",
       "\n",
       "    .dataframe tbody tr th {\n",
       "        vertical-align: top;\n",
       "    }\n",
       "\n",
       "    .dataframe thead th {\n",
       "        text-align: right;\n",
       "    }\n",
       "</style>\n",
       "<table border=\"1\" class=\"dataframe\">\n",
       "  <thead>\n",
       "    <tr style=\"text-align: right;\">\n",
       "      <th></th>\n",
       "      <th>Name</th>\n",
       "      <th>Age</th>\n",
       "      <th>M/F</th>\n",
       "      <th>City</th>\n",
       "      <th>State</th>\n",
       "      <th>Country</th>\n",
       "      <th>Official Time</th>\n",
       "      <th>Overall</th>\n",
       "      <th>Gender</th>\n",
       "      <th>Years Ran</th>\n",
       "      <th>First Name</th>\n",
       "      <th>Last Name</th>\n",
       "    </tr>\n",
       "  </thead>\n",
       "  <tbody>\n",
       "    <tr>\n",
       "      <th>243</th>\n",
       "      <td>Lloyd, James</td>\n",
       "      <td>24</td>\n",
       "      <td>M</td>\n",
       "      <td>San Diego</td>\n",
       "      <td>CA</td>\n",
       "      <td>USA</td>\n",
       "      <td>2:42:38</td>\n",
       "      <td>244</td>\n",
       "      <td>220</td>\n",
       "      <td>2016</td>\n",
       "      <td>Lloyd</td>\n",
       "      <td>James</td>\n",
       "    </tr>\n",
       "    <tr>\n",
       "      <th>574</th>\n",
       "      <td>Onigkeit, James</td>\n",
       "      <td>49</td>\n",
       "      <td>M</td>\n",
       "      <td>Rochester</td>\n",
       "      <td>MN</td>\n",
       "      <td>USA</td>\n",
       "      <td>2:49:48</td>\n",
       "      <td>575</td>\n",
       "      <td>537</td>\n",
       "      <td>2016</td>\n",
       "      <td>Onigkeit</td>\n",
       "      <td>James</td>\n",
       "    </tr>\n",
       "    <tr>\n",
       "      <th>650</th>\n",
       "      <td>O'Sullivan, James</td>\n",
       "      <td>32</td>\n",
       "      <td>M</td>\n",
       "      <td>Arvada</td>\n",
       "      <td>CO</td>\n",
       "      <td>USA</td>\n",
       "      <td>2:51:15</td>\n",
       "      <td>651</td>\n",
       "      <td>611</td>\n",
       "      <td>2016</td>\n",
       "      <td>O'Sullivan</td>\n",
       "      <td>James</td>\n",
       "    </tr>\n",
       "    <tr>\n",
       "      <th>923</th>\n",
       "      <td>Baek, James</td>\n",
       "      <td>23</td>\n",
       "      <td>M</td>\n",
       "      <td>Indianapolis</td>\n",
       "      <td>IN</td>\n",
       "      <td>USA</td>\n",
       "      <td>2:55:12</td>\n",
       "      <td>924</td>\n",
       "      <td>873</td>\n",
       "      <td>2016</td>\n",
       "      <td>Baek</td>\n",
       "      <td>James</td>\n",
       "    </tr>\n",
       "    <tr>\n",
       "      <th>976</th>\n",
       "      <td>Blowers, James</td>\n",
       "      <td>45</td>\n",
       "      <td>M</td>\n",
       "      <td>Cary</td>\n",
       "      <td>NC</td>\n",
       "      <td>USA</td>\n",
       "      <td>2:55:57</td>\n",
       "      <td>977</td>\n",
       "      <td>922</td>\n",
       "      <td>NaN</td>\n",
       "      <td>Blowers</td>\n",
       "      <td>James</td>\n",
       "    </tr>\n",
       "  </tbody>\n",
       "</table>\n",
       "</div>"
      ],
      "text/plain": [
       "                  Name  Age M/F          City State Country Official Time  \\\n",
       "243       Lloyd, James   24   M     San Diego    CA     USA       2:42:38   \n",
       "574    Onigkeit, James   49   M     Rochester    MN     USA       2:49:48   \n",
       "650  O'Sullivan, James   32   M        Arvada    CO     USA       2:51:15   \n",
       "923        Baek, James   23   M  Indianapolis    IN     USA       2:55:12   \n",
       "976     Blowers, James   45   M          Cary    NC     USA       2:55:57   \n",
       "\n",
       "     Overall  Gender Years Ran  First Name Last Name  \n",
       "243      244     220      2016       Lloyd     James  \n",
       "574      575     537      2016    Onigkeit     James  \n",
       "650      651     611      2016  O'Sullivan     James  \n",
       "923      924     873      2016        Baek     James  \n",
       "976      977     922       NaN     Blowers     James  "
      ]
     },
     "execution_count": 732,
     "metadata": {},
     "output_type": "execute_result"
    }
   ],
   "source": [
    "mask_last_name = boston.Name.str.split(', ').str.get(1) == 'James'\n",
    "boston.loc[mask_last_name]"
   ]
  },
  {
   "cell_type": "code",
   "execution_count": 733,
   "metadata": {},
   "outputs": [
    {
     "data": {
      "text/plain": [
       "5"
      ]
     },
     "execution_count": 733,
     "metadata": {},
     "output_type": "execute_result"
    }
   ],
   "source": [
    "len(boston.loc[mask_last_name])"
   ]
  },
  {
   "cell_type": "code",
   "execution_count": 734,
   "metadata": {},
   "outputs": [
    {
     "data": {
      "text/plain": [
       "-1    988\n",
       " 0     12\n",
       "Name: Name, dtype: int64"
      ]
     },
     "execution_count": 734,
     "metadata": {},
     "output_type": "execute_result"
    }
   ],
   "source": [
    "boston.Name.str.split(', ').str.get(1).str.find('James').value_counts()"
   ]
  },
  {
   "attachments": {},
   "cell_type": "markdown",
   "metadata": {},
   "source": [
    "2. Split all the city name in dataset by the hyphen character \"-\", and create a datafram containing each split componet of the plit name. Assign this datafram to the variable city_parts."
   ]
  },
  {
   "cell_type": "code",
   "execution_count": 735,
   "metadata": {},
   "outputs": [
    {
     "data": {
      "text/html": [
       "<div>\n",
       "<style scoped>\n",
       "    .dataframe tbody tr th:only-of-type {\n",
       "        vertical-align: middle;\n",
       "    }\n",
       "\n",
       "    .dataframe tbody tr th {\n",
       "        vertical-align: top;\n",
       "    }\n",
       "\n",
       "    .dataframe thead th {\n",
       "        text-align: right;\n",
       "    }\n",
       "</style>\n",
       "<table border=\"1\" class=\"dataframe\">\n",
       "  <thead>\n",
       "    <tr style=\"text-align: right;\">\n",
       "      <th></th>\n",
       "      <th>0</th>\n",
       "      <th>1</th>\n",
       "      <th>2</th>\n",
       "      <th>3</th>\n",
       "    </tr>\n",
       "  </thead>\n",
       "  <tbody>\n",
       "    <tr>\n",
       "      <th>0</th>\n",
       "      <td>Keringet</td>\n",
       "      <td>None</td>\n",
       "      <td>None</td>\n",
       "      <td>None</td>\n",
       "    </tr>\n",
       "    <tr>\n",
       "      <th>1</th>\n",
       "      <td>Portland</td>\n",
       "      <td>None</td>\n",
       "      <td>None</td>\n",
       "      <td>None</td>\n",
       "    </tr>\n",
       "    <tr>\n",
       "      <th>2</th>\n",
       "      <td>Machida</td>\n",
       "      <td>City</td>\n",
       "      <td>None</td>\n",
       "      <td>None</td>\n",
       "    </tr>\n",
       "    <tr>\n",
       "      <th>3</th>\n",
       "      <td>Mammoth Lakes</td>\n",
       "      <td>None</td>\n",
       "      <td>None</td>\n",
       "      <td>None</td>\n",
       "    </tr>\n",
       "    <tr>\n",
       "      <th>4</th>\n",
       "      <td>Marakwet</td>\n",
       "      <td>None</td>\n",
       "      <td>None</td>\n",
       "      <td>None</td>\n",
       "    </tr>\n",
       "    <tr>\n",
       "      <th>...</th>\n",
       "      <td>...</td>\n",
       "      <td>...</td>\n",
       "      <td>...</td>\n",
       "      <td>...</td>\n",
       "    </tr>\n",
       "    <tr>\n",
       "      <th>995</th>\n",
       "      <td>North Andover</td>\n",
       "      <td>None</td>\n",
       "      <td>None</td>\n",
       "      <td>None</td>\n",
       "    </tr>\n",
       "    <tr>\n",
       "      <th>996</th>\n",
       "      <td>Raleigh</td>\n",
       "      <td>None</td>\n",
       "      <td>None</td>\n",
       "      <td>None</td>\n",
       "    </tr>\n",
       "    <tr>\n",
       "      <th>997</th>\n",
       "      <td>Arlington</td>\n",
       "      <td>None</td>\n",
       "      <td>None</td>\n",
       "      <td>None</td>\n",
       "    </tr>\n",
       "    <tr>\n",
       "      <th>998</th>\n",
       "      <td>Danbury</td>\n",
       "      <td>None</td>\n",
       "      <td>None</td>\n",
       "      <td>None</td>\n",
       "    </tr>\n",
       "    <tr>\n",
       "      <th>999</th>\n",
       "      <td>Santa Fe</td>\n",
       "      <td>None</td>\n",
       "      <td>None</td>\n",
       "      <td>None</td>\n",
       "    </tr>\n",
       "  </tbody>\n",
       "</table>\n",
       "<p>1000 rows × 4 columns</p>\n",
       "</div>"
      ],
      "text/plain": [
       "                 0     1     2     3\n",
       "0         Keringet  None  None  None\n",
       "1         Portland  None  None  None\n",
       "2          Machida  City  None  None\n",
       "3    Mammoth Lakes  None  None  None\n",
       "4         Marakwet  None  None  None\n",
       "..             ...   ...   ...   ...\n",
       "995  North Andover  None  None  None\n",
       "996        Raleigh  None  None  None\n",
       "997      Arlington  None  None  None\n",
       "998        Danbury  None  None  None\n",
       "999       Santa Fe  None  None  None\n",
       "\n",
       "[1000 rows x 4 columns]"
      ]
     },
     "execution_count": 735,
     "metadata": {},
     "output_type": "execute_result"
    }
   ],
   "source": [
    "boston.City.str.split('-',expand=True)"
   ]
  },
  {
   "cell_type": "code",
   "execution_count": 736,
   "metadata": {},
   "outputs": [],
   "source": [
    "city_parts = boston.City.str.split(',', expand=True)"
   ]
  },
  {
   "attachments": {},
   "cell_type": "markdown",
   "metadata": {},
   "source": [
    "3. How many cities in boston datafram have more than 1 component? Which cities are they?"
   ]
  },
  {
   "cell_type": "code",
   "execution_count": 737,
   "metadata": {},
   "outputs": [
    {
     "data": {
      "text/plain": [
       "0      1\n",
       "1      1\n",
       "2      1\n",
       "3      1\n",
       "4      1\n",
       "      ..\n",
       "995    1\n",
       "996    1\n",
       "997    1\n",
       "998    1\n",
       "999    1\n",
       "Length: 1000, dtype: int64"
      ]
     },
     "execution_count": 737,
     "metadata": {},
     "output_type": "execute_result"
    }
   ],
   "source": [
    "city_parts.count(axis=1)"
   ]
  },
  {
   "cell_type": "code",
   "execution_count": 738,
   "metadata": {},
   "outputs": [
    {
     "data": {
      "text/html": [
       "<div>\n",
       "<style scoped>\n",
       "    .dataframe tbody tr th:only-of-type {\n",
       "        vertical-align: middle;\n",
       "    }\n",
       "\n",
       "    .dataframe tbody tr th {\n",
       "        vertical-align: top;\n",
       "    }\n",
       "\n",
       "    .dataframe thead th {\n",
       "        text-align: right;\n",
       "    }\n",
       "</style>\n",
       "<table border=\"1\" class=\"dataframe\">\n",
       "  <thead>\n",
       "    <tr style=\"text-align: right;\">\n",
       "      <th></th>\n",
       "      <th>Name</th>\n",
       "      <th>Age</th>\n",
       "      <th>M/F</th>\n",
       "      <th>City</th>\n",
       "      <th>State</th>\n",
       "      <th>Country</th>\n",
       "      <th>Official Time</th>\n",
       "      <th>Overall</th>\n",
       "      <th>Gender</th>\n",
       "      <th>Years Ran</th>\n",
       "      <th>First Name</th>\n",
       "      <th>Last Name</th>\n",
       "    </tr>\n",
       "  </thead>\n",
       "  <tbody>\n",
       "    <tr>\n",
       "      <th>356</th>\n",
       "      <td>Castillo, Franklin A. Sr.</td>\n",
       "      <td>32</td>\n",
       "      <td>M</td>\n",
       "      <td>Doral, Florida</td>\n",
       "      <td>NaN</td>\n",
       "      <td>PAN</td>\n",
       "      <td>2:45:37</td>\n",
       "      <td>357</td>\n",
       "      <td>330</td>\n",
       "      <td>NaN</td>\n",
       "      <td>Castillo</td>\n",
       "      <td>Franklin A. Sr.</td>\n",
       "    </tr>\n",
       "    <tr>\n",
       "      <th>649</th>\n",
       "      <td>Wogan, Ronan</td>\n",
       "      <td>39</td>\n",
       "      <td>M</td>\n",
       "      <td>Termonfeckin, Co Louth</td>\n",
       "      <td>NaN</td>\n",
       "      <td>IRL</td>\n",
       "      <td>2:51:14</td>\n",
       "      <td>650</td>\n",
       "      <td>610</td>\n",
       "      <td>NaN</td>\n",
       "      <td>Wogan</td>\n",
       "      <td>Ronan</td>\n",
       "    </tr>\n",
       "    <tr>\n",
       "      <th>678</th>\n",
       "      <td>Melendez, Carlos Manuel M. Sr.</td>\n",
       "      <td>38</td>\n",
       "      <td>M</td>\n",
       "      <td>Quesada, San Carlos</td>\n",
       "      <td>NaN</td>\n",
       "      <td>CRC</td>\n",
       "      <td>2:51:45</td>\n",
       "      <td>679</td>\n",
       "      <td>639</td>\n",
       "      <td>NaN</td>\n",
       "      <td>Melendez</td>\n",
       "      <td>Carlos Manuel M. Sr.</td>\n",
       "    </tr>\n",
       "    <tr>\n",
       "      <th>783</th>\n",
       "      <td>Mena Solorzano, Diego Sr.</td>\n",
       "      <td>34</td>\n",
       "      <td>M</td>\n",
       "      <td>Zaragoza, Palmares, Alajuela</td>\n",
       "      <td>NaN</td>\n",
       "      <td>CRC</td>\n",
       "      <td>2:53:17</td>\n",
       "      <td>784</td>\n",
       "      <td>738</td>\n",
       "      <td>NaN</td>\n",
       "      <td>Mena Solorzano</td>\n",
       "      <td>Diego Sr.</td>\n",
       "    </tr>\n",
       "    <tr>\n",
       "      <th>877</th>\n",
       "      <td>Burns, Robert M.</td>\n",
       "      <td>50</td>\n",
       "      <td>M</td>\n",
       "      <td>Crestwood, NSW</td>\n",
       "      <td>NaN</td>\n",
       "      <td>AUS</td>\n",
       "      <td>2:54:43</td>\n",
       "      <td>878</td>\n",
       "      <td>829</td>\n",
       "      <td>2015</td>\n",
       "      <td>Burns</td>\n",
       "      <td>Robert M.</td>\n",
       "    </tr>\n",
       "    <tr>\n",
       "      <th>959</th>\n",
       "      <td>Yu, Michael</td>\n",
       "      <td>45</td>\n",
       "      <td>M</td>\n",
       "      <td>Zhubei City, Hsinchu County</td>\n",
       "      <td>NaN</td>\n",
       "      <td>TWN</td>\n",
       "      <td>2:55:40</td>\n",
       "      <td>960</td>\n",
       "      <td>907</td>\n",
       "      <td>2015:2016</td>\n",
       "      <td>Yu</td>\n",
       "      <td>Michael</td>\n",
       "    </tr>\n",
       "  </tbody>\n",
       "</table>\n",
       "</div>"
      ],
      "text/plain": [
       "                               Name  Age M/F                          City  \\\n",
       "356       Castillo, Franklin A. Sr.   32   M                Doral, Florida   \n",
       "649                    Wogan, Ronan   39   M        Termonfeckin, Co Louth   \n",
       "678  Melendez, Carlos Manuel M. Sr.   38   M           Quesada, San Carlos   \n",
       "783       Mena Solorzano, Diego Sr.   34   M  Zaragoza, Palmares, Alajuela   \n",
       "877                Burns, Robert M.   50   M                Crestwood, NSW   \n",
       "959                     Yu, Michael   45   M   Zhubei City, Hsinchu County   \n",
       "\n",
       "    State Country Official Time  Overall  Gender  Years Ran      First Name  \\\n",
       "356   NaN     PAN       2:45:37      357     330        NaN        Castillo   \n",
       "649   NaN     IRL       2:51:14      650     610        NaN           Wogan   \n",
       "678   NaN     CRC       2:51:45      679     639        NaN        Melendez   \n",
       "783   NaN     CRC       2:53:17      784     738        NaN  Mena Solorzano   \n",
       "877   NaN     AUS       2:54:43      878     829       2015           Burns   \n",
       "959   NaN     TWN       2:55:40      960     907  2015:2016              Yu   \n",
       "\n",
       "                Last Name  \n",
       "356       Franklin A. Sr.  \n",
       "649                 Ronan  \n",
       "678  Carlos Manuel M. Sr.  \n",
       "783             Diego Sr.  \n",
       "877             Robert M.  \n",
       "959               Michael  "
      ]
     },
     "execution_count": 738,
     "metadata": {},
     "output_type": "execute_result"
    }
   ],
   "source": [
    "mask_city = city_parts.count(axis=1) > 1\n",
    "boston.loc[mask_city]"
   ]
  },
  {
   "attachments": {},
   "cell_type": "markdown",
   "metadata": {},
   "source": [
    "# Solution"
   ]
  },
  {
   "attachments": {},
   "cell_type": "markdown",
   "metadata": {},
   "source": [
    "1."
   ]
  },
  {
   "cell_type": "code",
   "execution_count": 739,
   "metadata": {},
   "outputs": [
    {
     "data": {
      "text/html": [
       "<div>\n",
       "<style scoped>\n",
       "    .dataframe tbody tr th:only-of-type {\n",
       "        vertical-align: middle;\n",
       "    }\n",
       "\n",
       "    .dataframe tbody tr th {\n",
       "        vertical-align: top;\n",
       "    }\n",
       "\n",
       "    .dataframe thead th {\n",
       "        text-align: right;\n",
       "    }\n",
       "</style>\n",
       "<table border=\"1\" class=\"dataframe\">\n",
       "  <thead>\n",
       "    <tr style=\"text-align: right;\">\n",
       "      <th></th>\n",
       "      <th>Name</th>\n",
       "      <th>Age</th>\n",
       "      <th>M/F</th>\n",
       "      <th>City</th>\n",
       "      <th>State</th>\n",
       "      <th>Country</th>\n",
       "      <th>Official Time</th>\n",
       "      <th>Overall</th>\n",
       "      <th>Gender</th>\n",
       "      <th>Years Ran</th>\n",
       "      <th>First Name</th>\n",
       "      <th>Last Name</th>\n",
       "    </tr>\n",
       "  </thead>\n",
       "  <tbody>\n",
       "    <tr>\n",
       "      <th>0</th>\n",
       "      <td>Kirui, Geoffrey</td>\n",
       "      <td>24</td>\n",
       "      <td>M</td>\n",
       "      <td>Keringet</td>\n",
       "      <td>NaN</td>\n",
       "      <td>KEN</td>\n",
       "      <td>2:09:37</td>\n",
       "      <td>1</td>\n",
       "      <td>1</td>\n",
       "      <td>NaN</td>\n",
       "      <td>Kirui</td>\n",
       "      <td>Geoffrey</td>\n",
       "    </tr>\n",
       "    <tr>\n",
       "      <th>1</th>\n",
       "      <td>Rupp, Galen</td>\n",
       "      <td>30</td>\n",
       "      <td>M</td>\n",
       "      <td>Portland</td>\n",
       "      <td>OR</td>\n",
       "      <td>USA</td>\n",
       "      <td>2:09:58</td>\n",
       "      <td>2</td>\n",
       "      <td>2</td>\n",
       "      <td>NaN</td>\n",
       "      <td>Rupp</td>\n",
       "      <td>Galen</td>\n",
       "    </tr>\n",
       "    <tr>\n",
       "      <th>2</th>\n",
       "      <td>Osako, Suguru</td>\n",
       "      <td>25</td>\n",
       "      <td>M</td>\n",
       "      <td>Machida-City</td>\n",
       "      <td>NaN</td>\n",
       "      <td>JPN</td>\n",
       "      <td>2:10:28</td>\n",
       "      <td>3</td>\n",
       "      <td>3</td>\n",
       "      <td>NaN</td>\n",
       "      <td>Osako</td>\n",
       "      <td>Suguru</td>\n",
       "    </tr>\n",
       "    <tr>\n",
       "      <th>3</th>\n",
       "      <td>Biwott, Shadrack</td>\n",
       "      <td>32</td>\n",
       "      <td>M</td>\n",
       "      <td>Mammoth Lakes</td>\n",
       "      <td>CA</td>\n",
       "      <td>USA</td>\n",
       "      <td>2:12:08</td>\n",
       "      <td>4</td>\n",
       "      <td>4</td>\n",
       "      <td>NaN</td>\n",
       "      <td>Biwott</td>\n",
       "      <td>Shadrack</td>\n",
       "    </tr>\n",
       "    <tr>\n",
       "      <th>4</th>\n",
       "      <td>Chebet, Wilson</td>\n",
       "      <td>31</td>\n",
       "      <td>M</td>\n",
       "      <td>Marakwet</td>\n",
       "      <td>NaN</td>\n",
       "      <td>KEN</td>\n",
       "      <td>2:12:35</td>\n",
       "      <td>5</td>\n",
       "      <td>5</td>\n",
       "      <td>2015</td>\n",
       "      <td>Chebet</td>\n",
       "      <td>Wilson</td>\n",
       "    </tr>\n",
       "  </tbody>\n",
       "</table>\n",
       "</div>"
      ],
      "text/plain": [
       "               Name  Age M/F           City State Country Official Time  \\\n",
       "0   Kirui, Geoffrey   24   M       Keringet   NaN     KEN       2:09:37   \n",
       "1       Rupp, Galen   30   M       Portland    OR     USA       2:09:58   \n",
       "2     Osako, Suguru   25   M   Machida-City   NaN     JPN       2:10:28   \n",
       "3  Biwott, Shadrack   32   M  Mammoth Lakes    CA     USA       2:12:08   \n",
       "4    Chebet, Wilson   31   M       Marakwet   NaN     KEN       2:12:35   \n",
       "\n",
       "   Overall  Gender Years Ran First Name Last Name  \n",
       "0        1       1       NaN      Kirui  Geoffrey  \n",
       "1        2       2       NaN       Rupp     Galen  \n",
       "2        3       3       NaN      Osako    Suguru  \n",
       "3        4       4       NaN     Biwott  Shadrack  \n",
       "4        5       5      2015     Chebet    Wilson  "
      ]
     },
     "execution_count": 739,
     "metadata": {},
     "output_type": "execute_result"
    }
   ],
   "source": [
    "boston.head()"
   ]
  },
  {
   "cell_type": "code",
   "execution_count": 740,
   "metadata": {},
   "outputs": [
    {
     "data": {
      "text/plain": [
       "-1    988\n",
       " 0     12\n",
       "Name: Last Name, dtype: int64"
      ]
     },
     "execution_count": 740,
     "metadata": {},
     "output_type": "execute_result"
    }
   ],
   "source": [
    "boston['Last Name'].str.find('James').value_counts()"
   ]
  },
  {
   "cell_type": "code",
   "execution_count": 741,
   "metadata": {},
   "outputs": [
    {
     "data": {
      "text/plain": [
       "Index(['Name', 'Age', 'M/F', 'City', 'State', 'Country', 'Official Time',\n",
       "       'Overall', 'Gender', 'Years Ran', 'First Name', 'Last Name'],\n",
       "      dtype='object')"
      ]
     },
     "execution_count": 741,
     "metadata": {},
     "output_type": "execute_result"
    }
   ],
   "source": [
    "boston.columns"
   ]
  },
  {
   "cell_type": "code",
   "execution_count": 742,
   "metadata": {},
   "outputs": [
    {
     "data": {
      "text/plain": [
       "-1    988\n",
       " 0     12\n",
       "Name: Last Name, dtype: int64"
      ]
     },
     "execution_count": 742,
     "metadata": {},
     "output_type": "execute_result"
    }
   ],
   "source": [
    "boston.loc[:,'Last Name'].str.find('James').value_counts()"
   ]
  },
  {
   "cell_type": "code",
   "execution_count": 743,
   "metadata": {},
   "outputs": [
    {
     "data": {
      "text/plain": [
       "0      False\n",
       "1      False\n",
       "2      False\n",
       "3      False\n",
       "4      False\n",
       "       ...  \n",
       "995    False\n",
       "996    False\n",
       "997    False\n",
       "998    False\n",
       "999    False\n",
       "Name: Last Name, Length: 1000, dtype: bool"
      ]
     },
     "execution_count": 743,
     "metadata": {},
     "output_type": "execute_result"
    }
   ],
   "source": [
    "boston.loc[:,'Last Name'].str.contains('James')"
   ]
  },
  {
   "cell_type": "code",
   "execution_count": 744,
   "metadata": {},
   "outputs": [
    {
     "data": {
      "text/html": [
       "<div>\n",
       "<style scoped>\n",
       "    .dataframe tbody tr th:only-of-type {\n",
       "        vertical-align: middle;\n",
       "    }\n",
       "\n",
       "    .dataframe tbody tr th {\n",
       "        vertical-align: top;\n",
       "    }\n",
       "\n",
       "    .dataframe thead th {\n",
       "        text-align: right;\n",
       "    }\n",
       "</style>\n",
       "<table border=\"1\" class=\"dataframe\">\n",
       "  <thead>\n",
       "    <tr style=\"text-align: right;\">\n",
       "      <th></th>\n",
       "      <th>Name</th>\n",
       "      <th>Age</th>\n",
       "      <th>M/F</th>\n",
       "      <th>City</th>\n",
       "      <th>State</th>\n",
       "      <th>Country</th>\n",
       "      <th>Official Time</th>\n",
       "      <th>Overall</th>\n",
       "      <th>Gender</th>\n",
       "      <th>Years Ran</th>\n",
       "      <th>First Name</th>\n",
       "      <th>Last Name</th>\n",
       "    </tr>\n",
       "  </thead>\n",
       "  <tbody>\n",
       "    <tr>\n",
       "      <th>176</th>\n",
       "      <td>Miller, James L</td>\n",
       "      <td>25</td>\n",
       "      <td>M</td>\n",
       "      <td>Oak Ridge</td>\n",
       "      <td>TN</td>\n",
       "      <td>USA</td>\n",
       "      <td>2:39:33</td>\n",
       "      <td>177</td>\n",
       "      <td>157</td>\n",
       "      <td>NaN</td>\n",
       "      <td>Miller</td>\n",
       "      <td>James L</td>\n",
       "    </tr>\n",
       "    <tr>\n",
       "      <th>243</th>\n",
       "      <td>Lloyd, James</td>\n",
       "      <td>24</td>\n",
       "      <td>M</td>\n",
       "      <td>San Diego</td>\n",
       "      <td>CA</td>\n",
       "      <td>USA</td>\n",
       "      <td>2:42:38</td>\n",
       "      <td>244</td>\n",
       "      <td>220</td>\n",
       "      <td>2016</td>\n",
       "      <td>Lloyd</td>\n",
       "      <td>James</td>\n",
       "    </tr>\n",
       "    <tr>\n",
       "      <th>246</th>\n",
       "      <td>Jackson, James P</td>\n",
       "      <td>27</td>\n",
       "      <td>M</td>\n",
       "      <td>Denver</td>\n",
       "      <td>CO</td>\n",
       "      <td>USA</td>\n",
       "      <td>2:42:43</td>\n",
       "      <td>247</td>\n",
       "      <td>223</td>\n",
       "      <td>NaN</td>\n",
       "      <td>Jackson</td>\n",
       "      <td>James P</td>\n",
       "    </tr>\n",
       "    <tr>\n",
       "      <th>574</th>\n",
       "      <td>Onigkeit, James</td>\n",
       "      <td>49</td>\n",
       "      <td>M</td>\n",
       "      <td>Rochester</td>\n",
       "      <td>MN</td>\n",
       "      <td>USA</td>\n",
       "      <td>2:49:48</td>\n",
       "      <td>575</td>\n",
       "      <td>537</td>\n",
       "      <td>2016</td>\n",
       "      <td>Onigkeit</td>\n",
       "      <td>James</td>\n",
       "    </tr>\n",
       "    <tr>\n",
       "      <th>605</th>\n",
       "      <td>Fisher, James A</td>\n",
       "      <td>26</td>\n",
       "      <td>M</td>\n",
       "      <td>Arbutus</td>\n",
       "      <td>MD</td>\n",
       "      <td>USA</td>\n",
       "      <td>2:50:23</td>\n",
       "      <td>606</td>\n",
       "      <td>566</td>\n",
       "      <td>2015:2016</td>\n",
       "      <td>Fisher</td>\n",
       "      <td>James A</td>\n",
       "    </tr>\n",
       "    <tr>\n",
       "      <th>650</th>\n",
       "      <td>O'Sullivan, James</td>\n",
       "      <td>32</td>\n",
       "      <td>M</td>\n",
       "      <td>Arvada</td>\n",
       "      <td>CO</td>\n",
       "      <td>USA</td>\n",
       "      <td>2:51:15</td>\n",
       "      <td>651</td>\n",
       "      <td>611</td>\n",
       "      <td>2016</td>\n",
       "      <td>O'Sullivan</td>\n",
       "      <td>James</td>\n",
       "    </tr>\n",
       "    <tr>\n",
       "      <th>657</th>\n",
       "      <td>Perez, James P.</td>\n",
       "      <td>25</td>\n",
       "      <td>M</td>\n",
       "      <td>Charlotte</td>\n",
       "      <td>NC</td>\n",
       "      <td>USA</td>\n",
       "      <td>2:51:19</td>\n",
       "      <td>658</td>\n",
       "      <td>618</td>\n",
       "      <td>NaN</td>\n",
       "      <td>Perez</td>\n",
       "      <td>James P.</td>\n",
       "    </tr>\n",
       "    <tr>\n",
       "      <th>723</th>\n",
       "      <td>Newhouse, James B</td>\n",
       "      <td>24</td>\n",
       "      <td>M</td>\n",
       "      <td>Boston</td>\n",
       "      <td>MA</td>\n",
       "      <td>USA</td>\n",
       "      <td>2:52:30</td>\n",
       "      <td>724</td>\n",
       "      <td>681</td>\n",
       "      <td>NaN</td>\n",
       "      <td>Newhouse</td>\n",
       "      <td>James B</td>\n",
       "    </tr>\n",
       "    <tr>\n",
       "      <th>782</th>\n",
       "      <td>Greenham, James D.</td>\n",
       "      <td>40</td>\n",
       "      <td>M</td>\n",
       "      <td>Austin</td>\n",
       "      <td>TX</td>\n",
       "      <td>USA</td>\n",
       "      <td>2:53:14</td>\n",
       "      <td>783</td>\n",
       "      <td>737</td>\n",
       "      <td>NaN</td>\n",
       "      <td>Greenham</td>\n",
       "      <td>James D.</td>\n",
       "    </tr>\n",
       "    <tr>\n",
       "      <th>923</th>\n",
       "      <td>Baek, James</td>\n",
       "      <td>23</td>\n",
       "      <td>M</td>\n",
       "      <td>Indianapolis</td>\n",
       "      <td>IN</td>\n",
       "      <td>USA</td>\n",
       "      <td>2:55:12</td>\n",
       "      <td>924</td>\n",
       "      <td>873</td>\n",
       "      <td>2016</td>\n",
       "      <td>Baek</td>\n",
       "      <td>James</td>\n",
       "    </tr>\n",
       "    <tr>\n",
       "      <th>975</th>\n",
       "      <td>Mcevoy, James R</td>\n",
       "      <td>32</td>\n",
       "      <td>M</td>\n",
       "      <td>Brooklyn</td>\n",
       "      <td>NY</td>\n",
       "      <td>USA</td>\n",
       "      <td>2:55:56</td>\n",
       "      <td>976</td>\n",
       "      <td>921</td>\n",
       "      <td>NaN</td>\n",
       "      <td>Mcevoy</td>\n",
       "      <td>James R</td>\n",
       "    </tr>\n",
       "    <tr>\n",
       "      <th>976</th>\n",
       "      <td>Blowers, James</td>\n",
       "      <td>45</td>\n",
       "      <td>M</td>\n",
       "      <td>Cary</td>\n",
       "      <td>NC</td>\n",
       "      <td>USA</td>\n",
       "      <td>2:55:57</td>\n",
       "      <td>977</td>\n",
       "      <td>922</td>\n",
       "      <td>NaN</td>\n",
       "      <td>Blowers</td>\n",
       "      <td>James</td>\n",
       "    </tr>\n",
       "  </tbody>\n",
       "</table>\n",
       "</div>"
      ],
      "text/plain": [
       "                   Name  Age M/F          City State Country Official Time  \\\n",
       "176     Miller, James L   25   M     Oak Ridge    TN     USA       2:39:33   \n",
       "243        Lloyd, James   24   M     San Diego    CA     USA       2:42:38   \n",
       "246    Jackson, James P   27   M        Denver    CO     USA       2:42:43   \n",
       "574     Onigkeit, James   49   M     Rochester    MN     USA       2:49:48   \n",
       "605     Fisher, James A   26   M       Arbutus    MD     USA       2:50:23   \n",
       "650   O'Sullivan, James   32   M        Arvada    CO     USA       2:51:15   \n",
       "657     Perez, James P.   25   M     Charlotte    NC     USA       2:51:19   \n",
       "723   Newhouse, James B   24   M        Boston    MA     USA       2:52:30   \n",
       "782  Greenham, James D.   40   M        Austin    TX     USA       2:53:14   \n",
       "923         Baek, James   23   M  Indianapolis    IN     USA       2:55:12   \n",
       "975     Mcevoy, James R   32   M      Brooklyn    NY     USA       2:55:56   \n",
       "976      Blowers, James   45   M          Cary    NC     USA       2:55:57   \n",
       "\n",
       "     Overall  Gender  Years Ran  First Name Last Name  \n",
       "176      177     157        NaN      Miller   James L  \n",
       "243      244     220       2016       Lloyd     James  \n",
       "246      247     223        NaN     Jackson   James P  \n",
       "574      575     537       2016    Onigkeit     James  \n",
       "605      606     566  2015:2016      Fisher   James A  \n",
       "650      651     611       2016  O'Sullivan     James  \n",
       "657      658     618        NaN       Perez  James P.  \n",
       "723      724     681        NaN    Newhouse   James B  \n",
       "782      783     737        NaN    Greenham  James D.  \n",
       "923      924     873       2016        Baek     James  \n",
       "975      976     921        NaN      Mcevoy   James R  \n",
       "976      977     922        NaN     Blowers     James  "
      ]
     },
     "execution_count": 744,
     "metadata": {},
     "output_type": "execute_result"
    }
   ],
   "source": [
    "mask_last_name = boston.loc[:,'Last Name'].str.contains('James')\n",
    "boston.loc[mask_last_name]"
   ]
  },
  {
   "attachments": {},
   "cell_type": "markdown",
   "metadata": {},
   "source": [
    "2."
   ]
  },
  {
   "cell_type": "code",
   "execution_count": 745,
   "metadata": {},
   "outputs": [
    {
     "data": {
      "text/plain": [
       "0           Keringet\n",
       "1           Portland\n",
       "2       Machida-City\n",
       "3      Mammoth Lakes\n",
       "4           Marakwet\n",
       "           ...      \n",
       "995    North Andover\n",
       "996          Raleigh\n",
       "997        Arlington\n",
       "998          Danbury\n",
       "999         Santa Fe\n",
       "Name: City, Length: 1000, dtype: object"
      ]
     },
     "execution_count": 745,
     "metadata": {},
     "output_type": "execute_result"
    }
   ],
   "source": [
    "boston.City"
   ]
  },
  {
   "cell_type": "code",
   "execution_count": 746,
   "metadata": {},
   "outputs": [
    {
     "data": {
      "text/html": [
       "<div>\n",
       "<style scoped>\n",
       "    .dataframe tbody tr th:only-of-type {\n",
       "        vertical-align: middle;\n",
       "    }\n",
       "\n",
       "    .dataframe tbody tr th {\n",
       "        vertical-align: top;\n",
       "    }\n",
       "\n",
       "    .dataframe thead th {\n",
       "        text-align: right;\n",
       "    }\n",
       "</style>\n",
       "<table border=\"1\" class=\"dataframe\">\n",
       "  <thead>\n",
       "    <tr style=\"text-align: right;\">\n",
       "      <th></th>\n",
       "      <th>0</th>\n",
       "      <th>1</th>\n",
       "      <th>2</th>\n",
       "      <th>3</th>\n",
       "    </tr>\n",
       "  </thead>\n",
       "  <tbody>\n",
       "    <tr>\n",
       "      <th>0</th>\n",
       "      <td>Keringet</td>\n",
       "      <td>None</td>\n",
       "      <td>None</td>\n",
       "      <td>None</td>\n",
       "    </tr>\n",
       "    <tr>\n",
       "      <th>1</th>\n",
       "      <td>Portland</td>\n",
       "      <td>None</td>\n",
       "      <td>None</td>\n",
       "      <td>None</td>\n",
       "    </tr>\n",
       "    <tr>\n",
       "      <th>2</th>\n",
       "      <td>Machida</td>\n",
       "      <td>City</td>\n",
       "      <td>None</td>\n",
       "      <td>None</td>\n",
       "    </tr>\n",
       "    <tr>\n",
       "      <th>3</th>\n",
       "      <td>Mammoth Lakes</td>\n",
       "      <td>None</td>\n",
       "      <td>None</td>\n",
       "      <td>None</td>\n",
       "    </tr>\n",
       "    <tr>\n",
       "      <th>4</th>\n",
       "      <td>Marakwet</td>\n",
       "      <td>None</td>\n",
       "      <td>None</td>\n",
       "      <td>None</td>\n",
       "    </tr>\n",
       "    <tr>\n",
       "      <th>...</th>\n",
       "      <td>...</td>\n",
       "      <td>...</td>\n",
       "      <td>...</td>\n",
       "      <td>...</td>\n",
       "    </tr>\n",
       "    <tr>\n",
       "      <th>995</th>\n",
       "      <td>North Andover</td>\n",
       "      <td>None</td>\n",
       "      <td>None</td>\n",
       "      <td>None</td>\n",
       "    </tr>\n",
       "    <tr>\n",
       "      <th>996</th>\n",
       "      <td>Raleigh</td>\n",
       "      <td>None</td>\n",
       "      <td>None</td>\n",
       "      <td>None</td>\n",
       "    </tr>\n",
       "    <tr>\n",
       "      <th>997</th>\n",
       "      <td>Arlington</td>\n",
       "      <td>None</td>\n",
       "      <td>None</td>\n",
       "      <td>None</td>\n",
       "    </tr>\n",
       "    <tr>\n",
       "      <th>998</th>\n",
       "      <td>Danbury</td>\n",
       "      <td>None</td>\n",
       "      <td>None</td>\n",
       "      <td>None</td>\n",
       "    </tr>\n",
       "    <tr>\n",
       "      <th>999</th>\n",
       "      <td>Santa Fe</td>\n",
       "      <td>None</td>\n",
       "      <td>None</td>\n",
       "      <td>None</td>\n",
       "    </tr>\n",
       "  </tbody>\n",
       "</table>\n",
       "<p>1000 rows × 4 columns</p>\n",
       "</div>"
      ],
      "text/plain": [
       "                 0     1     2     3\n",
       "0         Keringet  None  None  None\n",
       "1         Portland  None  None  None\n",
       "2          Machida  City  None  None\n",
       "3    Mammoth Lakes  None  None  None\n",
       "4         Marakwet  None  None  None\n",
       "..             ...   ...   ...   ...\n",
       "995  North Andover  None  None  None\n",
       "996        Raleigh  None  None  None\n",
       "997      Arlington  None  None  None\n",
       "998        Danbury  None  None  None\n",
       "999       Santa Fe  None  None  None\n",
       "\n",
       "[1000 rows x 4 columns]"
      ]
     },
     "execution_count": 746,
     "metadata": {},
     "output_type": "execute_result"
    }
   ],
   "source": [
    "boston.City.str.split('-',expand=True)"
   ]
  },
  {
   "cell_type": "code",
   "execution_count": 747,
   "metadata": {},
   "outputs": [],
   "source": [
    "city_parts = boston.City.str.split('-', expand=True)"
   ]
  },
  {
   "attachments": {},
   "cell_type": "markdown",
   "metadata": {},
   "source": [
    "3."
   ]
  },
  {
   "cell_type": "code",
   "execution_count": 748,
   "metadata": {},
   "outputs": [],
   "source": [
    "mask_city = city_parts.count(axis=1) > 1"
   ]
  },
  {
   "cell_type": "code",
   "execution_count": 749,
   "metadata": {},
   "outputs": [
    {
     "data": {
      "text/plain": [
       "2                    Machida-City\n",
       "35                 Sao Paulo - Sp\n",
       "188                  Baie-St-Paul\n",
       "201            Houghton-Le-Spring\n",
       "371          Boulogne-Billancourt\n",
       "420                    Mont-Royal\n",
       "585                Gif-Sur-Yvette\n",
       "615        Fossambault-Sur-Le-Lac\n",
       "724         Wiesbaden-Breckenheim\n",
       "727                    Saint-Tite\n",
       "794                   Marica - Rj\n",
       "820    Sainte-Catherine-De-Hatley\n",
       "830                    Pont-Rouge\n",
       "Name: City, dtype: object"
      ]
     },
     "execution_count": 749,
     "metadata": {},
     "output_type": "execute_result"
    }
   ],
   "source": [
    "boston.loc[mask_city,'City']"
   ]
  },
  {
   "attachments": {},
   "cell_type": "markdown",
   "metadata": {},
   "source": [
    "**BONUS:** Which countries such cities hail from"
   ]
  },
  {
   "cell_type": "code",
   "execution_count": 750,
   "metadata": {},
   "outputs": [
    {
     "data": {
      "text/plain": [
       "Country\n",
       "CAN        6\n",
       "BRA        2\n",
       "FRA        2\n",
       "GBR        1\n",
       "GER        1\n",
       "JPN        1\n",
       "dtype: int64"
      ]
     },
     "execution_count": 750,
     "metadata": {},
     "output_type": "execute_result"
    }
   ],
   "source": [
    "boston.loc[mask_city,['Country']].value_counts()"
   ]
  },
  {
   "attachments": {},
   "cell_type": "markdown",
   "metadata": {},
   "source": [
    "# 265. Slicing Substrings"
   ]
  },
  {
   "cell_type": "code",
   "execution_count": 751,
   "metadata": {},
   "outputs": [
    {
     "data": {
      "text/plain": [
       "'Welcome to the text manipulation section'"
      ]
     },
     "execution_count": 751,
     "metadata": {},
     "output_type": "execute_result"
    }
   ],
   "source": [
    "s"
   ]
  },
  {
   "attachments": {},
   "cell_type": "markdown",
   "metadata": {},
   "source": [
    "slice() + []"
   ]
  },
  {
   "cell_type": "code",
   "execution_count": 752,
   "metadata": {},
   "outputs": [
    {
     "data": {
      "text/plain": [
       "'Welcome'"
      ]
     },
     "execution_count": 752,
     "metadata": {},
     "output_type": "execute_result"
    }
   ],
   "source": [
    "s[slice(0, 7, 1)]"
   ]
  },
  {
   "cell_type": "code",
   "execution_count": 753,
   "metadata": {},
   "outputs": [
    {
     "data": {
      "text/plain": [
       "'Welcome'"
      ]
     },
     "execution_count": 753,
     "metadata": {},
     "output_type": "execute_result"
    }
   ],
   "source": [
    "s[slice(7)]"
   ]
  },
  {
   "cell_type": "code",
   "execution_count": 754,
   "metadata": {},
   "outputs": [
    {
     "data": {
      "text/plain": [
       "'Welcome'"
      ]
     },
     "execution_count": 754,
     "metadata": {},
     "output_type": "execute_result"
    }
   ],
   "source": [
    "s[0:7:1]"
   ]
  },
  {
   "cell_type": "code",
   "execution_count": 755,
   "metadata": {},
   "outputs": [
    {
     "data": {
      "text/plain": [
       "'Welcome'"
      ]
     },
     "execution_count": 755,
     "metadata": {},
     "output_type": "execute_result"
    }
   ],
   "source": [
    "s[:7:]"
   ]
  },
  {
   "cell_type": "code",
   "execution_count": 756,
   "metadata": {},
   "outputs": [
    {
     "data": {
      "text/html": [
       "<div>\n",
       "<style scoped>\n",
       "    .dataframe tbody tr th:only-of-type {\n",
       "        vertical-align: middle;\n",
       "    }\n",
       "\n",
       "    .dataframe tbody tr th {\n",
       "        vertical-align: top;\n",
       "    }\n",
       "\n",
       "    .dataframe thead th {\n",
       "        text-align: right;\n",
       "    }\n",
       "</style>\n",
       "<table border=\"1\" class=\"dataframe\">\n",
       "  <thead>\n",
       "    <tr style=\"text-align: right;\">\n",
       "      <th></th>\n",
       "      <th>Name</th>\n",
       "      <th>Age</th>\n",
       "      <th>M/F</th>\n",
       "      <th>City</th>\n",
       "      <th>State</th>\n",
       "      <th>Country</th>\n",
       "      <th>Official Time</th>\n",
       "      <th>Overall</th>\n",
       "      <th>Gender</th>\n",
       "      <th>Years Ran</th>\n",
       "      <th>First Name</th>\n",
       "      <th>Last Name</th>\n",
       "    </tr>\n",
       "  </thead>\n",
       "  <tbody>\n",
       "    <tr>\n",
       "      <th>0</th>\n",
       "      <td>Kirui, Geoffrey</td>\n",
       "      <td>24</td>\n",
       "      <td>M</td>\n",
       "      <td>Keringet</td>\n",
       "      <td>NaN</td>\n",
       "      <td>KEN</td>\n",
       "      <td>2:09:37</td>\n",
       "      <td>1</td>\n",
       "      <td>1</td>\n",
       "      <td>NaN</td>\n",
       "      <td>Kirui</td>\n",
       "      <td>Geoffrey</td>\n",
       "    </tr>\n",
       "    <tr>\n",
       "      <th>1</th>\n",
       "      <td>Rupp, Galen</td>\n",
       "      <td>30</td>\n",
       "      <td>M</td>\n",
       "      <td>Portland</td>\n",
       "      <td>OR</td>\n",
       "      <td>USA</td>\n",
       "      <td>2:09:58</td>\n",
       "      <td>2</td>\n",
       "      <td>2</td>\n",
       "      <td>NaN</td>\n",
       "      <td>Rupp</td>\n",
       "      <td>Galen</td>\n",
       "    </tr>\n",
       "    <tr>\n",
       "      <th>2</th>\n",
       "      <td>Osako, Suguru</td>\n",
       "      <td>25</td>\n",
       "      <td>M</td>\n",
       "      <td>Machida-City</td>\n",
       "      <td>NaN</td>\n",
       "      <td>JPN</td>\n",
       "      <td>2:10:28</td>\n",
       "      <td>3</td>\n",
       "      <td>3</td>\n",
       "      <td>NaN</td>\n",
       "      <td>Osako</td>\n",
       "      <td>Suguru</td>\n",
       "    </tr>\n",
       "    <tr>\n",
       "      <th>3</th>\n",
       "      <td>Biwott, Shadrack</td>\n",
       "      <td>32</td>\n",
       "      <td>M</td>\n",
       "      <td>Mammoth Lakes</td>\n",
       "      <td>CA</td>\n",
       "      <td>USA</td>\n",
       "      <td>2:12:08</td>\n",
       "      <td>4</td>\n",
       "      <td>4</td>\n",
       "      <td>NaN</td>\n",
       "      <td>Biwott</td>\n",
       "      <td>Shadrack</td>\n",
       "    </tr>\n",
       "    <tr>\n",
       "      <th>4</th>\n",
       "      <td>Chebet, Wilson</td>\n",
       "      <td>31</td>\n",
       "      <td>M</td>\n",
       "      <td>Marakwet</td>\n",
       "      <td>NaN</td>\n",
       "      <td>KEN</td>\n",
       "      <td>2:12:35</td>\n",
       "      <td>5</td>\n",
       "      <td>5</td>\n",
       "      <td>2015</td>\n",
       "      <td>Chebet</td>\n",
       "      <td>Wilson</td>\n",
       "    </tr>\n",
       "  </tbody>\n",
       "</table>\n",
       "</div>"
      ],
      "text/plain": [
       "               Name  Age M/F           City State Country Official Time  \\\n",
       "0   Kirui, Geoffrey   24   M       Keringet   NaN     KEN       2:09:37   \n",
       "1       Rupp, Galen   30   M       Portland    OR     USA       2:09:58   \n",
       "2     Osako, Suguru   25   M   Machida-City   NaN     JPN       2:10:28   \n",
       "3  Biwott, Shadrack   32   M  Mammoth Lakes    CA     USA       2:12:08   \n",
       "4    Chebet, Wilson   31   M       Marakwet   NaN     KEN       2:12:35   \n",
       "\n",
       "   Overall  Gender Years Ran First Name Last Name  \n",
       "0        1       1       NaN      Kirui  Geoffrey  \n",
       "1        2       2       NaN       Rupp     Galen  \n",
       "2        3       3       NaN      Osako    Suguru  \n",
       "3        4       4       NaN     Biwott  Shadrack  \n",
       "4        5       5      2015     Chebet    Wilson  "
      ]
     },
     "execution_count": 756,
     "metadata": {},
     "output_type": "execute_result"
    }
   ],
   "source": [
    "boston.head()"
   ]
  },
  {
   "cell_type": "code",
   "execution_count": 757,
   "metadata": {},
   "outputs": [
    {
     "data": {
      "text/plain": [
       "0      KE\n",
       "1      US\n",
       "2      JP\n",
       "3      US\n",
       "4      KE\n",
       "       ..\n",
       "995    US\n",
       "996    US\n",
       "997    US\n",
       "998    US\n",
       "999    US\n",
       "Name: Country, Length: 1000, dtype: object"
      ]
     },
     "execution_count": 757,
     "metadata": {},
     "output_type": "execute_result"
    }
   ],
   "source": [
    "boston.Country.str.slice(0, 2, 1)"
   ]
  },
  {
   "cell_type": "code",
   "execution_count": 758,
   "metadata": {},
   "outputs": [
    {
     "data": {
      "text/plain": [
       "0      EN\n",
       "1      SA\n",
       "2      PN\n",
       "3      SA\n",
       "4      EN\n",
       "       ..\n",
       "995    SA\n",
       "996    SA\n",
       "997    SA\n",
       "998    SA\n",
       "999    SA\n",
       "Name: Country, Length: 1000, dtype: object"
      ]
     },
     "execution_count": 758,
     "metadata": {},
     "output_type": "execute_result"
    }
   ],
   "source": [
    "boston.Country.str.slice(start=-2, stop=None, step=1)"
   ]
  },
  {
   "attachments": {},
   "cell_type": "markdown",
   "metadata": {},
   "source": [
    "# 266. Masking With String Methods"
   ]
  },
  {
   "cell_type": "code",
   "execution_count": 759,
   "metadata": {},
   "outputs": [
    {
     "data": {
      "text/html": [
       "<div>\n",
       "<style scoped>\n",
       "    .dataframe tbody tr th:only-of-type {\n",
       "        vertical-align: middle;\n",
       "    }\n",
       "\n",
       "    .dataframe tbody tr th {\n",
       "        vertical-align: top;\n",
       "    }\n",
       "\n",
       "    .dataframe thead th {\n",
       "        text-align: right;\n",
       "    }\n",
       "</style>\n",
       "<table border=\"1\" class=\"dataframe\">\n",
       "  <thead>\n",
       "    <tr style=\"text-align: right;\">\n",
       "      <th></th>\n",
       "      <th>Name</th>\n",
       "      <th>Age</th>\n",
       "      <th>M/F</th>\n",
       "      <th>City</th>\n",
       "      <th>State</th>\n",
       "      <th>Country</th>\n",
       "      <th>Official Time</th>\n",
       "      <th>Overall</th>\n",
       "      <th>Gender</th>\n",
       "      <th>Years Ran</th>\n",
       "      <th>First Name</th>\n",
       "      <th>Last Name</th>\n",
       "    </tr>\n",
       "  </thead>\n",
       "  <tbody>\n",
       "    <tr>\n",
       "      <th>0</th>\n",
       "      <td>Kirui, Geoffrey</td>\n",
       "      <td>24</td>\n",
       "      <td>M</td>\n",
       "      <td>Keringet</td>\n",
       "      <td>NaN</td>\n",
       "      <td>KEN</td>\n",
       "      <td>2:09:37</td>\n",
       "      <td>1</td>\n",
       "      <td>1</td>\n",
       "      <td>NaN</td>\n",
       "      <td>Kirui</td>\n",
       "      <td>Geoffrey</td>\n",
       "    </tr>\n",
       "    <tr>\n",
       "      <th>1</th>\n",
       "      <td>Rupp, Galen</td>\n",
       "      <td>30</td>\n",
       "      <td>M</td>\n",
       "      <td>Portland</td>\n",
       "      <td>OR</td>\n",
       "      <td>USA</td>\n",
       "      <td>2:09:58</td>\n",
       "      <td>2</td>\n",
       "      <td>2</td>\n",
       "      <td>NaN</td>\n",
       "      <td>Rupp</td>\n",
       "      <td>Galen</td>\n",
       "    </tr>\n",
       "    <tr>\n",
       "      <th>2</th>\n",
       "      <td>Osako, Suguru</td>\n",
       "      <td>25</td>\n",
       "      <td>M</td>\n",
       "      <td>Machida-City</td>\n",
       "      <td>NaN</td>\n",
       "      <td>JPN</td>\n",
       "      <td>2:10:28</td>\n",
       "      <td>3</td>\n",
       "      <td>3</td>\n",
       "      <td>NaN</td>\n",
       "      <td>Osako</td>\n",
       "      <td>Suguru</td>\n",
       "    </tr>\n",
       "    <tr>\n",
       "      <th>3</th>\n",
       "      <td>Biwott, Shadrack</td>\n",
       "      <td>32</td>\n",
       "      <td>M</td>\n",
       "      <td>Mammoth Lakes</td>\n",
       "      <td>CA</td>\n",
       "      <td>USA</td>\n",
       "      <td>2:12:08</td>\n",
       "      <td>4</td>\n",
       "      <td>4</td>\n",
       "      <td>NaN</td>\n",
       "      <td>Biwott</td>\n",
       "      <td>Shadrack</td>\n",
       "    </tr>\n",
       "    <tr>\n",
       "      <th>4</th>\n",
       "      <td>Chebet, Wilson</td>\n",
       "      <td>31</td>\n",
       "      <td>M</td>\n",
       "      <td>Marakwet</td>\n",
       "      <td>NaN</td>\n",
       "      <td>KEN</td>\n",
       "      <td>2:12:35</td>\n",
       "      <td>5</td>\n",
       "      <td>5</td>\n",
       "      <td>2015</td>\n",
       "      <td>Chebet</td>\n",
       "      <td>Wilson</td>\n",
       "    </tr>\n",
       "  </tbody>\n",
       "</table>\n",
       "</div>"
      ],
      "text/plain": [
       "               Name  Age M/F           City State Country Official Time  \\\n",
       "0   Kirui, Geoffrey   24   M       Keringet   NaN     KEN       2:09:37   \n",
       "1       Rupp, Galen   30   M       Portland    OR     USA       2:09:58   \n",
       "2     Osako, Suguru   25   M   Machida-City   NaN     JPN       2:10:28   \n",
       "3  Biwott, Shadrack   32   M  Mammoth Lakes    CA     USA       2:12:08   \n",
       "4    Chebet, Wilson   31   M       Marakwet   NaN     KEN       2:12:35   \n",
       "\n",
       "   Overall  Gender Years Ran First Name Last Name  \n",
       "0        1       1       NaN      Kirui  Geoffrey  \n",
       "1        2       2       NaN       Rupp     Galen  \n",
       "2        3       3       NaN      Osako    Suguru  \n",
       "3        4       4       NaN     Biwott  Shadrack  \n",
       "4        5       5      2015     Chebet    Wilson  "
      ]
     },
     "execution_count": 759,
     "metadata": {},
     "output_type": "execute_result"
    }
   ],
   "source": [
    "boston.head()"
   ]
  },
  {
   "attachments": {},
   "cell_type": "markdown",
   "metadata": {},
   "source": [
    "#### Boolean masking or indexing:\n",
    "* - create sequence of booleans\n",
    "* - use sequence to select from dataframe or series"
   ]
  },
  {
   "attachments": {},
   "cell_type": "markdown",
   "metadata": {},
   "source": [
    "Q: select all the Italian runners"
   ]
  },
  {
   "cell_type": "code",
   "execution_count": 760,
   "metadata": {},
   "outputs": [
    {
     "data": {
      "text/plain": [
       "0      False\n",
       "1      False\n",
       "2      False\n",
       "3      False\n",
       "4      False\n",
       "       ...  \n",
       "995    False\n",
       "996    False\n",
       "997    False\n",
       "998    False\n",
       "999    False\n",
       "Name: Country, Length: 1000, dtype: bool"
      ]
     },
     "execution_count": 760,
     "metadata": {},
     "output_type": "execute_result"
    }
   ],
   "source": [
    "boston.Country == 'ITA'"
   ]
  },
  {
   "cell_type": "code",
   "execution_count": 761,
   "metadata": {},
   "outputs": [
    {
     "data": {
      "text/plain": [
       "0      False\n",
       "1      False\n",
       "2      False\n",
       "3      False\n",
       "4      False\n",
       "       ...  \n",
       "995    False\n",
       "996    False\n",
       "997    False\n",
       "998    False\n",
       "999    False\n",
       "Name: Country, Length: 1000, dtype: bool"
      ]
     },
     "execution_count": 761,
     "metadata": {},
     "output_type": "execute_result"
    }
   ],
   "source": [
    "boston.Country.str.match('ITA')"
   ]
  },
  {
   "cell_type": "code",
   "execution_count": 762,
   "metadata": {},
   "outputs": [
    {
     "data": {
      "text/html": [
       "<div>\n",
       "<style scoped>\n",
       "    .dataframe tbody tr th:only-of-type {\n",
       "        vertical-align: middle;\n",
       "    }\n",
       "\n",
       "    .dataframe tbody tr th {\n",
       "        vertical-align: top;\n",
       "    }\n",
       "\n",
       "    .dataframe thead th {\n",
       "        text-align: right;\n",
       "    }\n",
       "</style>\n",
       "<table border=\"1\" class=\"dataframe\">\n",
       "  <thead>\n",
       "    <tr style=\"text-align: right;\">\n",
       "      <th></th>\n",
       "      <th>Name</th>\n",
       "      <th>Age</th>\n",
       "      <th>M/F</th>\n",
       "      <th>City</th>\n",
       "      <th>State</th>\n",
       "      <th>Country</th>\n",
       "      <th>Official Time</th>\n",
       "      <th>Overall</th>\n",
       "      <th>Gender</th>\n",
       "      <th>Years Ran</th>\n",
       "      <th>First Name</th>\n",
       "      <th>Last Name</th>\n",
       "    </tr>\n",
       "  </thead>\n",
       "  <tbody>\n",
       "    <tr>\n",
       "      <th>56</th>\n",
       "      <td>Boudalia, Said Sr.</td>\n",
       "      <td>48</td>\n",
       "      <td>M</td>\n",
       "      <td>Belluno</td>\n",
       "      <td>NaN</td>\n",
       "      <td>ITA</td>\n",
       "      <td>2:30:11</td>\n",
       "      <td>57</td>\n",
       "      <td>51</td>\n",
       "      <td>2015:2016</td>\n",
       "      <td>Boudalia</td>\n",
       "      <td>Said Sr.</td>\n",
       "    </tr>\n",
       "    <tr>\n",
       "      <th>156</th>\n",
       "      <td>Achmuller, Hermann</td>\n",
       "      <td>46</td>\n",
       "      <td>M</td>\n",
       "      <td>Brixen</td>\n",
       "      <td>NaN</td>\n",
       "      <td>ITA</td>\n",
       "      <td>2:38:40</td>\n",
       "      <td>157</td>\n",
       "      <td>139</td>\n",
       "      <td>NaN</td>\n",
       "      <td>Achmuller</td>\n",
       "      <td>Hermann</td>\n",
       "    </tr>\n",
       "    <tr>\n",
       "      <th>792</th>\n",
       "      <td>Consolandi, Paolo Giorgio</td>\n",
       "      <td>39</td>\n",
       "      <td>M</td>\n",
       "      <td>Pessano Con Bornago (mi)</td>\n",
       "      <td>NaN</td>\n",
       "      <td>ITA</td>\n",
       "      <td>2:53:29</td>\n",
       "      <td>793</td>\n",
       "      <td>747</td>\n",
       "      <td>NaN</td>\n",
       "      <td>Consolandi</td>\n",
       "      <td>Paolo Giorgio</td>\n",
       "    </tr>\n",
       "    <tr>\n",
       "      <th>922</th>\n",
       "      <td>Zompanti, Alessandro</td>\n",
       "      <td>48</td>\n",
       "      <td>M</td>\n",
       "      <td>Fiuggi Fr</td>\n",
       "      <td>NaN</td>\n",
       "      <td>ITA</td>\n",
       "      <td>2:55:12</td>\n",
       "      <td>923</td>\n",
       "      <td>872</td>\n",
       "      <td>NaN</td>\n",
       "      <td>Zompanti</td>\n",
       "      <td>Alessandro</td>\n",
       "    </tr>\n",
       "  </tbody>\n",
       "</table>\n",
       "</div>"
      ],
      "text/plain": [
       "                          Name  Age M/F                      City State  \\\n",
       "56          Boudalia, Said Sr.   48   M                   Belluno   NaN   \n",
       "156         Achmuller, Hermann   46   M                    Brixen   NaN   \n",
       "792  Consolandi, Paolo Giorgio   39   M  Pessano Con Bornago (mi)   NaN   \n",
       "922       Zompanti, Alessandro   48   M                 Fiuggi Fr   NaN   \n",
       "\n",
       "    Country Official Time  Overall  Gender  Years Ran  First Name  \\\n",
       "56      ITA       2:30:11       57      51  2015:2016    Boudalia   \n",
       "156     ITA       2:38:40      157     139        NaN   Achmuller   \n",
       "792     ITA       2:53:29      793     747        NaN  Consolandi   \n",
       "922     ITA       2:55:12      923     872        NaN    Zompanti   \n",
       "\n",
       "         Last Name  \n",
       "56        Said Sr.  \n",
       "156        Hermann  \n",
       "792  Paolo Giorgio  \n",
       "922     Alessandro  "
      ]
     },
     "execution_count": 762,
     "metadata": {},
     "output_type": "execute_result"
    }
   ],
   "source": [
    "mask_coutry = boston.Country.str.match('ITA')\n",
    "boston.loc[mask_coutry]"
   ]
  },
  {
   "cell_type": "code",
   "execution_count": 763,
   "metadata": {},
   "outputs": [
    {
     "data": {
      "text/html": [
       "<div>\n",
       "<style scoped>\n",
       "    .dataframe tbody tr th:only-of-type {\n",
       "        vertical-align: middle;\n",
       "    }\n",
       "\n",
       "    .dataframe tbody tr th {\n",
       "        vertical-align: top;\n",
       "    }\n",
       "\n",
       "    .dataframe thead th {\n",
       "        text-align: right;\n",
       "    }\n",
       "</style>\n",
       "<table border=\"1\" class=\"dataframe\">\n",
       "  <thead>\n",
       "    <tr style=\"text-align: right;\">\n",
       "      <th></th>\n",
       "      <th>Name</th>\n",
       "      <th>Age</th>\n",
       "      <th>M/F</th>\n",
       "      <th>City</th>\n",
       "      <th>State</th>\n",
       "      <th>Country</th>\n",
       "      <th>Official Time</th>\n",
       "      <th>Overall</th>\n",
       "      <th>Gender</th>\n",
       "      <th>Years Ran</th>\n",
       "      <th>First Name</th>\n",
       "      <th>Last Name</th>\n",
       "    </tr>\n",
       "  </thead>\n",
       "  <tbody>\n",
       "    <tr>\n",
       "      <th>56</th>\n",
       "      <td>Boudalia, Said Sr.</td>\n",
       "      <td>48</td>\n",
       "      <td>M</td>\n",
       "      <td>Belluno</td>\n",
       "      <td>NaN</td>\n",
       "      <td>ITA</td>\n",
       "      <td>2:30:11</td>\n",
       "      <td>57</td>\n",
       "      <td>51</td>\n",
       "      <td>2015:2016</td>\n",
       "      <td>Boudalia</td>\n",
       "      <td>Said Sr.</td>\n",
       "    </tr>\n",
       "    <tr>\n",
       "      <th>156</th>\n",
       "      <td>Achmuller, Hermann</td>\n",
       "      <td>46</td>\n",
       "      <td>M</td>\n",
       "      <td>Brixen</td>\n",
       "      <td>NaN</td>\n",
       "      <td>ITA</td>\n",
       "      <td>2:38:40</td>\n",
       "      <td>157</td>\n",
       "      <td>139</td>\n",
       "      <td>NaN</td>\n",
       "      <td>Achmuller</td>\n",
       "      <td>Hermann</td>\n",
       "    </tr>\n",
       "    <tr>\n",
       "      <th>792</th>\n",
       "      <td>Consolandi, Paolo Giorgio</td>\n",
       "      <td>39</td>\n",
       "      <td>M</td>\n",
       "      <td>Pessano Con Bornago (mi)</td>\n",
       "      <td>NaN</td>\n",
       "      <td>ITA</td>\n",
       "      <td>2:53:29</td>\n",
       "      <td>793</td>\n",
       "      <td>747</td>\n",
       "      <td>NaN</td>\n",
       "      <td>Consolandi</td>\n",
       "      <td>Paolo Giorgio</td>\n",
       "    </tr>\n",
       "    <tr>\n",
       "      <th>922</th>\n",
       "      <td>Zompanti, Alessandro</td>\n",
       "      <td>48</td>\n",
       "      <td>M</td>\n",
       "      <td>Fiuggi Fr</td>\n",
       "      <td>NaN</td>\n",
       "      <td>ITA</td>\n",
       "      <td>2:55:12</td>\n",
       "      <td>923</td>\n",
       "      <td>872</td>\n",
       "      <td>NaN</td>\n",
       "      <td>Zompanti</td>\n",
       "      <td>Alessandro</td>\n",
       "    </tr>\n",
       "  </tbody>\n",
       "</table>\n",
       "</div>"
      ],
      "text/plain": [
       "                          Name  Age M/F                      City State  \\\n",
       "56          Boudalia, Said Sr.   48   M                   Belluno   NaN   \n",
       "156         Achmuller, Hermann   46   M                    Brixen   NaN   \n",
       "792  Consolandi, Paolo Giorgio   39   M  Pessano Con Bornago (mi)   NaN   \n",
       "922       Zompanti, Alessandro   48   M                 Fiuggi Fr   NaN   \n",
       "\n",
       "    Country Official Time  Overall  Gender  Years Ran  First Name  \\\n",
       "56      ITA       2:30:11       57      51  2015:2016    Boudalia   \n",
       "156     ITA       2:38:40      157     139        NaN   Achmuller   \n",
       "792     ITA       2:53:29      793     747        NaN  Consolandi   \n",
       "922     ITA       2:55:12      923     872        NaN    Zompanti   \n",
       "\n",
       "         Last Name  \n",
       "56        Said Sr.  \n",
       "156        Hermann  \n",
       "792  Paolo Giorgio  \n",
       "922     Alessandro  "
      ]
     },
     "execution_count": 763,
     "metadata": {},
     "output_type": "execute_result"
    }
   ],
   "source": [
    "boston.loc[mask_coutry,:]"
   ]
  },
  {
   "attachments": {},
   "cell_type": "markdown",
   "metadata": {},
   "source": [
    "Q: how about all the \"Will's\"?"
   ]
  },
  {
   "attachments": {},
   "cell_type": "markdown",
   "metadata": {},
   "source": [
    "no contains in python: instead 'Will' in \"Williams'"
   ]
  },
  {
   "cell_type": "code",
   "execution_count": 764,
   "metadata": {},
   "outputs": [],
   "source": [
    "mask_wills = boston.Name.str.contains('Will')"
   ]
  },
  {
   "cell_type": "code",
   "execution_count": 765,
   "metadata": {},
   "outputs": [
    {
     "data": {
      "text/html": [
       "<div>\n",
       "<style scoped>\n",
       "    .dataframe tbody tr th:only-of-type {\n",
       "        vertical-align: middle;\n",
       "    }\n",
       "\n",
       "    .dataframe tbody tr th {\n",
       "        vertical-align: top;\n",
       "    }\n",
       "\n",
       "    .dataframe thead th {\n",
       "        text-align: right;\n",
       "    }\n",
       "</style>\n",
       "<table border=\"1\" class=\"dataframe\">\n",
       "  <thead>\n",
       "    <tr style=\"text-align: right;\">\n",
       "      <th></th>\n",
       "      <th>Name</th>\n",
       "      <th>Age</th>\n",
       "      <th>M/F</th>\n",
       "      <th>City</th>\n",
       "      <th>State</th>\n",
       "      <th>Country</th>\n",
       "      <th>Official Time</th>\n",
       "      <th>Overall</th>\n",
       "      <th>Gender</th>\n",
       "      <th>Years Ran</th>\n",
       "      <th>First Name</th>\n",
       "      <th>Last Name</th>\n",
       "    </tr>\n",
       "  </thead>\n",
       "  <tbody>\n",
       "    <tr>\n",
       "      <th>93</th>\n",
       "      <td>Vanos, William</td>\n",
       "      <td>45</td>\n",
       "      <td>M</td>\n",
       "      <td>Orlando</td>\n",
       "      <td>FL</td>\n",
       "      <td>USA</td>\n",
       "      <td>2:34:40</td>\n",
       "      <td>94</td>\n",
       "      <td>84</td>\n",
       "      <td>NaN</td>\n",
       "      <td>Vanos</td>\n",
       "      <td>William</td>\n",
       "    </tr>\n",
       "    <tr>\n",
       "      <th>199</th>\n",
       "      <td>Guzick, William F</td>\n",
       "      <td>28</td>\n",
       "      <td>M</td>\n",
       "      <td>Boston</td>\n",
       "      <td>MA</td>\n",
       "      <td>USA</td>\n",
       "      <td>2:40:43</td>\n",
       "      <td>200</td>\n",
       "      <td>178</td>\n",
       "      <td>NaN</td>\n",
       "      <td>Guzick</td>\n",
       "      <td>William F</td>\n",
       "    </tr>\n",
       "    <tr>\n",
       "      <th>415</th>\n",
       "      <td>Hartje, William</td>\n",
       "      <td>24</td>\n",
       "      <td>M</td>\n",
       "      <td>Neptune Beach</td>\n",
       "      <td>FL</td>\n",
       "      <td>USA</td>\n",
       "      <td>2:46:56</td>\n",
       "      <td>416</td>\n",
       "      <td>386</td>\n",
       "      <td>NaN</td>\n",
       "      <td>Hartje</td>\n",
       "      <td>William</td>\n",
       "    </tr>\n",
       "    <tr>\n",
       "      <th>429</th>\n",
       "      <td>Adams, William C</td>\n",
       "      <td>33</td>\n",
       "      <td>M</td>\n",
       "      <td>Arlington</td>\n",
       "      <td>VA</td>\n",
       "      <td>USA</td>\n",
       "      <td>2:47:15</td>\n",
       "      <td>430</td>\n",
       "      <td>399</td>\n",
       "      <td>NaN</td>\n",
       "      <td>Adams</td>\n",
       "      <td>William C</td>\n",
       "    </tr>\n",
       "    <tr>\n",
       "      <th>456</th>\n",
       "      <td>Cunha, Will</td>\n",
       "      <td>28</td>\n",
       "      <td>M</td>\n",
       "      <td>Pittsburgh</td>\n",
       "      <td>PA</td>\n",
       "      <td>USA</td>\n",
       "      <td>2:47:39</td>\n",
       "      <td>457</td>\n",
       "      <td>424</td>\n",
       "      <td>NaN</td>\n",
       "      <td>Cunha</td>\n",
       "      <td>Will</td>\n",
       "    </tr>\n",
       "    <tr>\n",
       "      <th>526</th>\n",
       "      <td>Swenson, Will</td>\n",
       "      <td>45</td>\n",
       "      <td>M</td>\n",
       "      <td>Andover</td>\n",
       "      <td>MA</td>\n",
       "      <td>USA</td>\n",
       "      <td>2:49:10</td>\n",
       "      <td>527</td>\n",
       "      <td>490</td>\n",
       "      <td>2015:2016</td>\n",
       "      <td>Swenson</td>\n",
       "      <td>Will</td>\n",
       "    </tr>\n",
       "    <tr>\n",
       "      <th>571</th>\n",
       "      <td>Gates, William E. Jr.</td>\n",
       "      <td>27</td>\n",
       "      <td>M</td>\n",
       "      <td>Maryville</td>\n",
       "      <td>TN</td>\n",
       "      <td>USA</td>\n",
       "      <td>2:49:44</td>\n",
       "      <td>572</td>\n",
       "      <td>534</td>\n",
       "      <td>NaN</td>\n",
       "      <td>Gates</td>\n",
       "      <td>William E. Jr.</td>\n",
       "    </tr>\n",
       "    <tr>\n",
       "      <th>711</th>\n",
       "      <td>Swanson, William G</td>\n",
       "      <td>32</td>\n",
       "      <td>M</td>\n",
       "      <td>Riverside</td>\n",
       "      <td>CA</td>\n",
       "      <td>USA</td>\n",
       "      <td>2:52:16</td>\n",
       "      <td>712</td>\n",
       "      <td>670</td>\n",
       "      <td>NaN</td>\n",
       "      <td>Swanson</td>\n",
       "      <td>William G</td>\n",
       "    </tr>\n",
       "    <tr>\n",
       "      <th>814</th>\n",
       "      <td>Williamson, David</td>\n",
       "      <td>49</td>\n",
       "      <td>M</td>\n",
       "      <td>Sutton</td>\n",
       "      <td>NaN</td>\n",
       "      <td>GBR</td>\n",
       "      <td>2:53:46</td>\n",
       "      <td>815</td>\n",
       "      <td>768</td>\n",
       "      <td>NaN</td>\n",
       "      <td>Williamson</td>\n",
       "      <td>David</td>\n",
       "    </tr>\n",
       "    <tr>\n",
       "      <th>835</th>\n",
       "      <td>Vargas, Will</td>\n",
       "      <td>42</td>\n",
       "      <td>M</td>\n",
       "      <td>Bogota</td>\n",
       "      <td>NaN</td>\n",
       "      <td>COL</td>\n",
       "      <td>2:54:07</td>\n",
       "      <td>836</td>\n",
       "      <td>789</td>\n",
       "      <td>2016</td>\n",
       "      <td>Vargas</td>\n",
       "      <td>Will</td>\n",
       "    </tr>\n",
       "    <tr>\n",
       "      <th>892</th>\n",
       "      <td>Rivera, Will</td>\n",
       "      <td>46</td>\n",
       "      <td>M</td>\n",
       "      <td>Elizabethtown</td>\n",
       "      <td>KY</td>\n",
       "      <td>USA</td>\n",
       "      <td>2:54:53</td>\n",
       "      <td>893</td>\n",
       "      <td>843</td>\n",
       "      <td>NaN</td>\n",
       "      <td>Rivera</td>\n",
       "      <td>Will</td>\n",
       "    </tr>\n",
       "    <tr>\n",
       "      <th>897</th>\n",
       "      <td>Feldman, William P.</td>\n",
       "      <td>31</td>\n",
       "      <td>M</td>\n",
       "      <td>Greensboro</td>\n",
       "      <td>NC</td>\n",
       "      <td>USA</td>\n",
       "      <td>2:54:56</td>\n",
       "      <td>898</td>\n",
       "      <td>848</td>\n",
       "      <td>NaN</td>\n",
       "      <td>Feldman</td>\n",
       "      <td>William P.</td>\n",
       "    </tr>\n",
       "    <tr>\n",
       "      <th>936</th>\n",
       "      <td>Decamps, William M.</td>\n",
       "      <td>30</td>\n",
       "      <td>M</td>\n",
       "      <td>Atlanta</td>\n",
       "      <td>GA</td>\n",
       "      <td>USA</td>\n",
       "      <td>2:55:22</td>\n",
       "      <td>937</td>\n",
       "      <td>886</td>\n",
       "      <td>NaN</td>\n",
       "      <td>Decamps</td>\n",
       "      <td>William M.</td>\n",
       "    </tr>\n",
       "    <tr>\n",
       "      <th>939</th>\n",
       "      <td>Versen, William R</td>\n",
       "      <td>25</td>\n",
       "      <td>M</td>\n",
       "      <td>Minneapolis</td>\n",
       "      <td>MN</td>\n",
       "      <td>USA</td>\n",
       "      <td>2:55:24</td>\n",
       "      <td>940</td>\n",
       "      <td>889</td>\n",
       "      <td>NaN</td>\n",
       "      <td>Versen</td>\n",
       "      <td>William R</td>\n",
       "    </tr>\n",
       "    <tr>\n",
       "      <th>996</th>\n",
       "      <td>Williamson, Jerry A</td>\n",
       "      <td>43</td>\n",
       "      <td>M</td>\n",
       "      <td>Raleigh</td>\n",
       "      <td>NC</td>\n",
       "      <td>USA</td>\n",
       "      <td>2:56:06</td>\n",
       "      <td>997</td>\n",
       "      <td>941</td>\n",
       "      <td>2015</td>\n",
       "      <td>Williamson</td>\n",
       "      <td>Jerry A</td>\n",
       "    </tr>\n",
       "  </tbody>\n",
       "</table>\n",
       "</div>"
      ],
      "text/plain": [
       "                      Name  Age M/F           City State Country  \\\n",
       "93          Vanos, William   45   M        Orlando    FL     USA   \n",
       "199      Guzick, William F   28   M         Boston    MA     USA   \n",
       "415        Hartje, William   24   M  Neptune Beach    FL     USA   \n",
       "429       Adams, William C   33   M      Arlington    VA     USA   \n",
       "456            Cunha, Will   28   M     Pittsburgh    PA     USA   \n",
       "526          Swenson, Will   45   M        Andover    MA     USA   \n",
       "571  Gates, William E. Jr.   27   M      Maryville    TN     USA   \n",
       "711     Swanson, William G   32   M      Riverside    CA     USA   \n",
       "814      Williamson, David   49   M         Sutton   NaN     GBR   \n",
       "835           Vargas, Will   42   M         Bogota   NaN     COL   \n",
       "892           Rivera, Will   46   M  Elizabethtown    KY     USA   \n",
       "897    Feldman, William P.   31   M     Greensboro    NC     USA   \n",
       "936    Decamps, William M.   30   M        Atlanta    GA     USA   \n",
       "939      Versen, William R   25   M    Minneapolis    MN     USA   \n",
       "996    Williamson, Jerry A   43   M        Raleigh    NC     USA   \n",
       "\n",
       "    Official Time  Overall  Gender  Years Ran  First Name       Last Name  \n",
       "93        2:34:40       94      84        NaN       Vanos         William  \n",
       "199       2:40:43      200     178        NaN      Guzick       William F  \n",
       "415       2:46:56      416     386        NaN      Hartje         William  \n",
       "429       2:47:15      430     399        NaN       Adams       William C  \n",
       "456       2:47:39      457     424        NaN       Cunha            Will  \n",
       "526       2:49:10      527     490  2015:2016     Swenson            Will  \n",
       "571       2:49:44      572     534        NaN       Gates  William E. Jr.  \n",
       "711       2:52:16      712     670        NaN     Swanson       William G  \n",
       "814       2:53:46      815     768        NaN  Williamson           David  \n",
       "835       2:54:07      836     789       2016      Vargas            Will  \n",
       "892       2:54:53      893     843        NaN      Rivera            Will  \n",
       "897       2:54:56      898     848        NaN     Feldman      William P.  \n",
       "936       2:55:22      937     886        NaN     Decamps      William M.  \n",
       "939       2:55:24      940     889        NaN      Versen       William R  \n",
       "996       2:56:06      997     941       2015  Williamson         Jerry A  "
      ]
     },
     "execution_count": 765,
     "metadata": {},
     "output_type": "execute_result"
    }
   ],
   "source": [
    "boston.loc[mask_wills,:]"
   ]
  },
  {
   "cell_type": "code",
   "execution_count": 766,
   "metadata": {},
   "outputs": [
    {
     "data": {
      "text/html": [
       "<div>\n",
       "<style scoped>\n",
       "    .dataframe tbody tr th:only-of-type {\n",
       "        vertical-align: middle;\n",
       "    }\n",
       "\n",
       "    .dataframe tbody tr th {\n",
       "        vertical-align: top;\n",
       "    }\n",
       "\n",
       "    .dataframe thead th {\n",
       "        text-align: right;\n",
       "    }\n",
       "</style>\n",
       "<table border=\"1\" class=\"dataframe\">\n",
       "  <thead>\n",
       "    <tr style=\"text-align: right;\">\n",
       "      <th></th>\n",
       "      <th>Name</th>\n",
       "      <th>Age</th>\n",
       "      <th>M/F</th>\n",
       "      <th>City</th>\n",
       "      <th>State</th>\n",
       "      <th>Country</th>\n",
       "      <th>Official Time</th>\n",
       "      <th>Overall</th>\n",
       "      <th>Gender</th>\n",
       "      <th>Years Ran</th>\n",
       "      <th>First Name</th>\n",
       "      <th>Last Name</th>\n",
       "    </tr>\n",
       "  </thead>\n",
       "  <tbody>\n",
       "    <tr>\n",
       "      <th>93</th>\n",
       "      <td>Vanos, William</td>\n",
       "      <td>45</td>\n",
       "      <td>M</td>\n",
       "      <td>Orlando</td>\n",
       "      <td>FL</td>\n",
       "      <td>USA</td>\n",
       "      <td>2:34:40</td>\n",
       "      <td>94</td>\n",
       "      <td>84</td>\n",
       "      <td>NaN</td>\n",
       "      <td>Vanos</td>\n",
       "      <td>William</td>\n",
       "    </tr>\n",
       "    <tr>\n",
       "      <th>526</th>\n",
       "      <td>Swenson, Will</td>\n",
       "      <td>45</td>\n",
       "      <td>M</td>\n",
       "      <td>Andover</td>\n",
       "      <td>MA</td>\n",
       "      <td>USA</td>\n",
       "      <td>2:49:10</td>\n",
       "      <td>527</td>\n",
       "      <td>490</td>\n",
       "      <td>2015:2016</td>\n",
       "      <td>Swenson</td>\n",
       "      <td>Will</td>\n",
       "    </tr>\n",
       "    <tr>\n",
       "      <th>814</th>\n",
       "      <td>Williamson, David</td>\n",
       "      <td>49</td>\n",
       "      <td>M</td>\n",
       "      <td>Sutton</td>\n",
       "      <td>NaN</td>\n",
       "      <td>GBR</td>\n",
       "      <td>2:53:46</td>\n",
       "      <td>815</td>\n",
       "      <td>768</td>\n",
       "      <td>NaN</td>\n",
       "      <td>Williamson</td>\n",
       "      <td>David</td>\n",
       "    </tr>\n",
       "    <tr>\n",
       "      <th>892</th>\n",
       "      <td>Rivera, Will</td>\n",
       "      <td>46</td>\n",
       "      <td>M</td>\n",
       "      <td>Elizabethtown</td>\n",
       "      <td>KY</td>\n",
       "      <td>USA</td>\n",
       "      <td>2:54:53</td>\n",
       "      <td>893</td>\n",
       "      <td>843</td>\n",
       "      <td>NaN</td>\n",
       "      <td>Rivera</td>\n",
       "      <td>Will</td>\n",
       "    </tr>\n",
       "  </tbody>\n",
       "</table>\n",
       "</div>"
      ],
      "text/plain": [
       "                  Name  Age M/F           City State Country Official Time  \\\n",
       "93      Vanos, William   45   M        Orlando    FL     USA       2:34:40   \n",
       "526      Swenson, Will   45   M        Andover    MA     USA       2:49:10   \n",
       "814  Williamson, David   49   M         Sutton   NaN     GBR       2:53:46   \n",
       "892       Rivera, Will   46   M  Elizabethtown    KY     USA       2:54:53   \n",
       "\n",
       "     Overall  Gender  Years Ran  First Name Last Name  \n",
       "93        94      84        NaN       Vanos   William  \n",
       "526      527     490  2015:2016     Swenson      Will  \n",
       "814      815     768        NaN  Williamson     David  \n",
       "892      893     843        NaN      Rivera      Will  "
      ]
     },
     "execution_count": 766,
     "metadata": {},
     "output_type": "execute_result"
    }
   ],
   "source": [
    "mask_forty5_plus = boston.Age >= 45\n",
    "boston.loc[mask_forty5_plus & mask_wills,:]"
   ]
  },
  {
   "cell_type": "code",
   "execution_count": 767,
   "metadata": {},
   "outputs": [
    {
     "data": {
      "text/plain": [
       "704    59\n",
       "648    57\n",
       "326    56\n",
       "370    56\n",
       "563    55\n",
       "864    55\n",
       "325    53\n",
       "394    53\n",
       "486    53\n",
       "579    53\n",
       "Name: Age, dtype: int64"
      ]
     },
     "execution_count": 767,
     "metadata": {},
     "output_type": "execute_result"
    }
   ],
   "source": [
    "boston.Age.nlargest(10)"
   ]
  },
  {
   "cell_type": "code",
   "execution_count": 768,
   "metadata": {},
   "outputs": [
    {
     "data": {
      "text/html": [
       "<div>\n",
       "<style scoped>\n",
       "    .dataframe tbody tr th:only-of-type {\n",
       "        vertical-align: middle;\n",
       "    }\n",
       "\n",
       "    .dataframe tbody tr th {\n",
       "        vertical-align: top;\n",
       "    }\n",
       "\n",
       "    .dataframe thead th {\n",
       "        text-align: right;\n",
       "    }\n",
       "</style>\n",
       "<table border=\"1\" class=\"dataframe\">\n",
       "  <thead>\n",
       "    <tr style=\"text-align: right;\">\n",
       "      <th></th>\n",
       "      <th>Name</th>\n",
       "      <th>Age</th>\n",
       "      <th>M/F</th>\n",
       "      <th>City</th>\n",
       "      <th>State</th>\n",
       "      <th>Country</th>\n",
       "      <th>Official Time</th>\n",
       "      <th>Overall</th>\n",
       "      <th>Gender</th>\n",
       "      <th>Years Ran</th>\n",
       "      <th>First Name</th>\n",
       "      <th>Last Name</th>\n",
       "    </tr>\n",
       "  </thead>\n",
       "  <tbody>\n",
       "    <tr>\n",
       "      <th>704</th>\n",
       "      <td>Atwater, Beau</td>\n",
       "      <td>59</td>\n",
       "      <td>M</td>\n",
       "      <td>Bernardsville</td>\n",
       "      <td>NJ</td>\n",
       "      <td>USA</td>\n",
       "      <td>2:52:09</td>\n",
       "      <td>705</td>\n",
       "      <td>664</td>\n",
       "      <td>2015:2016</td>\n",
       "      <td>Atwater</td>\n",
       "      <td>Beau</td>\n",
       "    </tr>\n",
       "    <tr>\n",
       "      <th>648</th>\n",
       "      <td>Duyn, Jeff H.</td>\n",
       "      <td>57</td>\n",
       "      <td>M</td>\n",
       "      <td>Garrett Park</td>\n",
       "      <td>MD</td>\n",
       "      <td>USA</td>\n",
       "      <td>2:51:11</td>\n",
       "      <td>649</td>\n",
       "      <td>609</td>\n",
       "      <td>NaN</td>\n",
       "      <td>Duyn</td>\n",
       "      <td>Jeff H.</td>\n",
       "    </tr>\n",
       "    <tr>\n",
       "      <th>370</th>\n",
       "      <td>Dorval, Guy</td>\n",
       "      <td>56</td>\n",
       "      <td>M</td>\n",
       "      <td>Quebec</td>\n",
       "      <td>QC</td>\n",
       "      <td>CAN</td>\n",
       "      <td>2:45:53</td>\n",
       "      <td>371</td>\n",
       "      <td>342</td>\n",
       "      <td>2016</td>\n",
       "      <td>Dorval</td>\n",
       "      <td>Guy</td>\n",
       "    </tr>\n",
       "    <tr>\n",
       "      <th>326</th>\n",
       "      <td>Fernandez, Douglas</td>\n",
       "      <td>56</td>\n",
       "      <td>M</td>\n",
       "      <td>Richmond</td>\n",
       "      <td>VA</td>\n",
       "      <td>USA</td>\n",
       "      <td>2:44:52</td>\n",
       "      <td>327</td>\n",
       "      <td>300</td>\n",
       "      <td>NaN</td>\n",
       "      <td>Fernandez</td>\n",
       "      <td>Douglas</td>\n",
       "    </tr>\n",
       "    <tr>\n",
       "      <th>864</th>\n",
       "      <td>Jungkans, Chris W.</td>\n",
       "      <td>55</td>\n",
       "      <td>M</td>\n",
       "      <td>Salem</td>\n",
       "      <td>WI</td>\n",
       "      <td>USA</td>\n",
       "      <td>2:54:29</td>\n",
       "      <td>865</td>\n",
       "      <td>816</td>\n",
       "      <td>NaN</td>\n",
       "      <td>Jungkans</td>\n",
       "      <td>Chris W.</td>\n",
       "    </tr>\n",
       "    <tr>\n",
       "      <th>563</th>\n",
       "      <td>Keno, Brian</td>\n",
       "      <td>55</td>\n",
       "      <td>M</td>\n",
       "      <td>Fort Lauderdale</td>\n",
       "      <td>FL</td>\n",
       "      <td>USA</td>\n",
       "      <td>2:49:40</td>\n",
       "      <td>564</td>\n",
       "      <td>526</td>\n",
       "      <td>2015</td>\n",
       "      <td>Keno</td>\n",
       "      <td>Brian</td>\n",
       "    </tr>\n",
       "    <tr>\n",
       "      <th>579</th>\n",
       "      <td>Cobler, Bill</td>\n",
       "      <td>53</td>\n",
       "      <td>M</td>\n",
       "      <td>Salt Lake City</td>\n",
       "      <td>UT</td>\n",
       "      <td>USA</td>\n",
       "      <td>2:49:54</td>\n",
       "      <td>580</td>\n",
       "      <td>542</td>\n",
       "      <td>NaN</td>\n",
       "      <td>Cobler</td>\n",
       "      <td>Bill</td>\n",
       "    </tr>\n",
       "    <tr>\n",
       "      <th>486</th>\n",
       "      <td>Power, Rich M</td>\n",
       "      <td>53</td>\n",
       "      <td>M</td>\n",
       "      <td>Rochester</td>\n",
       "      <td>MI</td>\n",
       "      <td>USA</td>\n",
       "      <td>2:48:25</td>\n",
       "      <td>487</td>\n",
       "      <td>452</td>\n",
       "      <td>2015</td>\n",
       "      <td>Power</td>\n",
       "      <td>Rich M</td>\n",
       "    </tr>\n",
       "    <tr>\n",
       "      <th>325</th>\n",
       "      <td>Pommier, Jean</td>\n",
       "      <td>53</td>\n",
       "      <td>M</td>\n",
       "      <td>Cupertino</td>\n",
       "      <td>CA</td>\n",
       "      <td>USA</td>\n",
       "      <td>2:44:50</td>\n",
       "      <td>326</td>\n",
       "      <td>299</td>\n",
       "      <td>NaN</td>\n",
       "      <td>Pommier</td>\n",
       "      <td>Jean</td>\n",
       "    </tr>\n",
       "    <tr>\n",
       "      <th>394</th>\n",
       "      <td>Galaviz, Jose F.</td>\n",
       "      <td>53</td>\n",
       "      <td>M</td>\n",
       "      <td>Monterrey</td>\n",
       "      <td>NaN</td>\n",
       "      <td>MEX</td>\n",
       "      <td>2:46:25</td>\n",
       "      <td>395</td>\n",
       "      <td>365</td>\n",
       "      <td>NaN</td>\n",
       "      <td>Galaviz</td>\n",
       "      <td>Jose F.</td>\n",
       "    </tr>\n",
       "    <tr>\n",
       "      <th>862</th>\n",
       "      <td>Martinez Balbuena, Emilio</td>\n",
       "      <td>52</td>\n",
       "      <td>M</td>\n",
       "      <td>Santiago</td>\n",
       "      <td>NaN</td>\n",
       "      <td>DOM</td>\n",
       "      <td>2:54:27</td>\n",
       "      <td>863</td>\n",
       "      <td>814</td>\n",
       "      <td>2015</td>\n",
       "      <td>Martinez Balbuena</td>\n",
       "      <td>Emilio</td>\n",
       "    </tr>\n",
       "    <tr>\n",
       "      <th>990</th>\n",
       "      <td>Smith, Timothy D</td>\n",
       "      <td>52</td>\n",
       "      <td>M</td>\n",
       "      <td>Carpinteria</td>\n",
       "      <td>CA</td>\n",
       "      <td>USA</td>\n",
       "      <td>2:56:03</td>\n",
       "      <td>991</td>\n",
       "      <td>935</td>\n",
       "      <td>NaN</td>\n",
       "      <td>Smith</td>\n",
       "      <td>Timothy D</td>\n",
       "    </tr>\n",
       "    <tr>\n",
       "      <th>865</th>\n",
       "      <td>Merkt, Juerg</td>\n",
       "      <td>52</td>\n",
       "      <td>M</td>\n",
       "      <td>Buelach</td>\n",
       "      <td>NaN</td>\n",
       "      <td>SUI</td>\n",
       "      <td>2:54:29</td>\n",
       "      <td>866</td>\n",
       "      <td>817</td>\n",
       "      <td>NaN</td>\n",
       "      <td>Merkt</td>\n",
       "      <td>Juerg</td>\n",
       "    </tr>\n",
       "    <tr>\n",
       "      <th>335</th>\n",
       "      <td>Cueto, Rafael</td>\n",
       "      <td>52</td>\n",
       "      <td>M</td>\n",
       "      <td>Santo Domingo</td>\n",
       "      <td>NaN</td>\n",
       "      <td>DOM</td>\n",
       "      <td>2:45:10</td>\n",
       "      <td>336</td>\n",
       "      <td>309</td>\n",
       "      <td>NaN</td>\n",
       "      <td>Cueto</td>\n",
       "      <td>Rafael</td>\n",
       "    </tr>\n",
       "    <tr>\n",
       "      <th>491</th>\n",
       "      <td>Baldwin, Douglas R.</td>\n",
       "      <td>52</td>\n",
       "      <td>M</td>\n",
       "      <td>St. Paul</td>\n",
       "      <td>MN</td>\n",
       "      <td>USA</td>\n",
       "      <td>2:48:32</td>\n",
       "      <td>492</td>\n",
       "      <td>457</td>\n",
       "      <td>2016</td>\n",
       "      <td>Baldwin</td>\n",
       "      <td>Douglas R.</td>\n",
       "    </tr>\n",
       "    <tr>\n",
       "      <th>756</th>\n",
       "      <td>Miklic, Mirko Bogomir</td>\n",
       "      <td>51</td>\n",
       "      <td>M</td>\n",
       "      <td>Ljubljana</td>\n",
       "      <td>NaN</td>\n",
       "      <td>SLO</td>\n",
       "      <td>2:52:55</td>\n",
       "      <td>757</td>\n",
       "      <td>713</td>\n",
       "      <td>2016</td>\n",
       "      <td>Miklic</td>\n",
       "      <td>Mirko Bogomir</td>\n",
       "    </tr>\n",
       "    <tr>\n",
       "      <th>776</th>\n",
       "      <td>Wilhelm, Christophe G.</td>\n",
       "      <td>51</td>\n",
       "      <td>M</td>\n",
       "      <td>Lausanne</td>\n",
       "      <td>NaN</td>\n",
       "      <td>SUI</td>\n",
       "      <td>2:53:08</td>\n",
       "      <td>777</td>\n",
       "      <td>732</td>\n",
       "      <td>NaN</td>\n",
       "      <td>Wilhelm</td>\n",
       "      <td>Christophe G.</td>\n",
       "    </tr>\n",
       "    <tr>\n",
       "      <th>819</th>\n",
       "      <td>Shields, Andrew J.</td>\n",
       "      <td>51</td>\n",
       "      <td>M</td>\n",
       "      <td>Cambridge</td>\n",
       "      <td>NaN</td>\n",
       "      <td>GBR</td>\n",
       "      <td>2:53:53</td>\n",
       "      <td>820</td>\n",
       "      <td>773</td>\n",
       "      <td>NaN</td>\n",
       "      <td>Shields</td>\n",
       "      <td>Andrew J.</td>\n",
       "    </tr>\n",
       "    <tr>\n",
       "      <th>615</th>\n",
       "      <td>Desharnais, Daniel</td>\n",
       "      <td>50</td>\n",
       "      <td>M</td>\n",
       "      <td>Fossambault-Sur-Le-Lac</td>\n",
       "      <td>QC</td>\n",
       "      <td>CAN</td>\n",
       "      <td>2:50:39</td>\n",
       "      <td>616</td>\n",
       "      <td>576</td>\n",
       "      <td>NaN</td>\n",
       "      <td>Desharnais</td>\n",
       "      <td>Daniel</td>\n",
       "    </tr>\n",
       "    <tr>\n",
       "      <th>570</th>\n",
       "      <td>Hoedl, Hanspeter</td>\n",
       "      <td>50</td>\n",
       "      <td>M</td>\n",
       "      <td>Vienna</td>\n",
       "      <td>NaN</td>\n",
       "      <td>AUT</td>\n",
       "      <td>2:49:44</td>\n",
       "      <td>571</td>\n",
       "      <td>533</td>\n",
       "      <td>NaN</td>\n",
       "      <td>Hoedl</td>\n",
       "      <td>Hanspeter</td>\n",
       "    </tr>\n",
       "    <tr>\n",
       "      <th>532</th>\n",
       "      <td>Freeman, David J.</td>\n",
       "      <td>50</td>\n",
       "      <td>M</td>\n",
       "      <td>Epsom Downs</td>\n",
       "      <td>NaN</td>\n",
       "      <td>GBR</td>\n",
       "      <td>2:49:17</td>\n",
       "      <td>533</td>\n",
       "      <td>496</td>\n",
       "      <td>NaN</td>\n",
       "      <td>Freeman</td>\n",
       "      <td>David J.</td>\n",
       "    </tr>\n",
       "    <tr>\n",
       "      <th>674</th>\n",
       "      <td>Herzet, Dominique</td>\n",
       "      <td>50</td>\n",
       "      <td>M</td>\n",
       "      <td>Campo</td>\n",
       "      <td>NaN</td>\n",
       "      <td>FRA</td>\n",
       "      <td>2:51:41</td>\n",
       "      <td>675</td>\n",
       "      <td>635</td>\n",
       "      <td>NaN</td>\n",
       "      <td>Herzet</td>\n",
       "      <td>Dominique</td>\n",
       "    </tr>\n",
       "    <tr>\n",
       "      <th>987</th>\n",
       "      <td>Cucuzzella, Mark</td>\n",
       "      <td>50</td>\n",
       "      <td>M</td>\n",
       "      <td>Shepherdstown</td>\n",
       "      <td>WV</td>\n",
       "      <td>USA</td>\n",
       "      <td>2:56:03</td>\n",
       "      <td>988</td>\n",
       "      <td>932</td>\n",
       "      <td>2016</td>\n",
       "      <td>Cucuzzella</td>\n",
       "      <td>Mark</td>\n",
       "    </tr>\n",
       "  </tbody>\n",
       "</table>\n",
       "</div>"
      ],
      "text/plain": [
       "                          Name  Age M/F                    City State Country  \\\n",
       "704              Atwater, Beau   59   M           Bernardsville    NJ     USA   \n",
       "648              Duyn, Jeff H.   57   M            Garrett Park    MD     USA   \n",
       "370                Dorval, Guy   56   M                  Quebec    QC     CAN   \n",
       "326         Fernandez, Douglas   56   M                Richmond    VA     USA   \n",
       "864         Jungkans, Chris W.   55   M                   Salem    WI     USA   \n",
       "563                Keno, Brian   55   M         Fort Lauderdale    FL     USA   \n",
       "579               Cobler, Bill   53   M          Salt Lake City    UT     USA   \n",
       "486              Power, Rich M   53   M               Rochester    MI     USA   \n",
       "325              Pommier, Jean   53   M               Cupertino    CA     USA   \n",
       "394           Galaviz, Jose F.   53   M               Monterrey   NaN     MEX   \n",
       "862  Martinez Balbuena, Emilio   52   M                Santiago   NaN     DOM   \n",
       "990           Smith, Timothy D   52   M             Carpinteria    CA     USA   \n",
       "865               Merkt, Juerg   52   M                 Buelach   NaN     SUI   \n",
       "335              Cueto, Rafael   52   M           Santo Domingo   NaN     DOM   \n",
       "491        Baldwin, Douglas R.   52   M                St. Paul    MN     USA   \n",
       "756      Miklic, Mirko Bogomir   51   M               Ljubljana   NaN     SLO   \n",
       "776     Wilhelm, Christophe G.   51   M                Lausanne   NaN     SUI   \n",
       "819         Shields, Andrew J.   51   M               Cambridge   NaN     GBR   \n",
       "615         Desharnais, Daniel   50   M  Fossambault-Sur-Le-Lac    QC     CAN   \n",
       "570           Hoedl, Hanspeter   50   M                  Vienna   NaN     AUT   \n",
       "532          Freeman, David J.   50   M             Epsom Downs   NaN     GBR   \n",
       "674          Herzet, Dominique   50   M                   Campo   NaN     FRA   \n",
       "987           Cucuzzella, Mark   50   M           Shepherdstown    WV     USA   \n",
       "\n",
       "    Official Time  Overall  Gender  Years Ran         First Name  \\\n",
       "704       2:52:09      705     664  2015:2016            Atwater   \n",
       "648       2:51:11      649     609        NaN               Duyn   \n",
       "370       2:45:53      371     342       2016             Dorval   \n",
       "326       2:44:52      327     300        NaN          Fernandez   \n",
       "864       2:54:29      865     816        NaN           Jungkans   \n",
       "563       2:49:40      564     526       2015               Keno   \n",
       "579       2:49:54      580     542        NaN             Cobler   \n",
       "486       2:48:25      487     452       2015              Power   \n",
       "325       2:44:50      326     299        NaN            Pommier   \n",
       "394       2:46:25      395     365        NaN            Galaviz   \n",
       "862       2:54:27      863     814       2015  Martinez Balbuena   \n",
       "990       2:56:03      991     935        NaN              Smith   \n",
       "865       2:54:29      866     817        NaN              Merkt   \n",
       "335       2:45:10      336     309        NaN              Cueto   \n",
       "491       2:48:32      492     457       2016            Baldwin   \n",
       "756       2:52:55      757     713       2016             Miklic   \n",
       "776       2:53:08      777     732        NaN            Wilhelm   \n",
       "819       2:53:53      820     773        NaN            Shields   \n",
       "615       2:50:39      616     576        NaN         Desharnais   \n",
       "570       2:49:44      571     533        NaN              Hoedl   \n",
       "532       2:49:17      533     496        NaN            Freeman   \n",
       "674       2:51:41      675     635        NaN             Herzet   \n",
       "987       2:56:03      988     932       2016         Cucuzzella   \n",
       "\n",
       "         Last Name  \n",
       "704           Beau  \n",
       "648        Jeff H.  \n",
       "370            Guy  \n",
       "326        Douglas  \n",
       "864       Chris W.  \n",
       "563          Brian  \n",
       "579           Bill  \n",
       "486         Rich M  \n",
       "325           Jean  \n",
       "394        Jose F.  \n",
       "862         Emilio  \n",
       "990      Timothy D  \n",
       "865          Juerg  \n",
       "335         Rafael  \n",
       "491     Douglas R.  \n",
       "756  Mirko Bogomir  \n",
       "776  Christophe G.  \n",
       "819      Andrew J.  \n",
       "615         Daniel  \n",
       "570      Hanspeter  \n",
       "532       David J.  \n",
       "674      Dominique  \n",
       "987           Mark  "
      ]
     },
     "execution_count": 768,
     "metadata": {},
     "output_type": "execute_result"
    }
   ],
   "source": [
    "boston.sort_values(by='Age', ascending=False).head(n=23)"
   ]
  },
  {
   "cell_type": "code",
   "execution_count": 769,
   "metadata": {},
   "outputs": [
    {
     "data": {
      "text/plain": [
       "<AxesSubplot: >"
      ]
     },
     "execution_count": 769,
     "metadata": {},
     "output_type": "execute_result"
    },
    {
     "data": {
      "image/png": "[encoded data removed]",
      "text/plain": [
       "<Figure size 640x480 with 1 Axes>"
      ]
     },
     "metadata": {},
     "output_type": "display_data"
    }
   ],
   "source": [
    "boston.Age.hist()"
   ]
  },
  {
   "attachments": {},
   "cell_type": "markdown",
   "metadata": {},
   "source": [
    "# **BONUS:** Parsing indicators With get_dummies()"
   ]
  },
  {
   "cell_type": "code",
   "execution_count": 770,
   "metadata": {},
   "outputs": [
    {
     "data": {
      "text/html": [
       "<div>\n",
       "<style scoped>\n",
       "    .dataframe tbody tr th:only-of-type {\n",
       "        vertical-align: middle;\n",
       "    }\n",
       "\n",
       "    .dataframe tbody tr th {\n",
       "        vertical-align: top;\n",
       "    }\n",
       "\n",
       "    .dataframe thead th {\n",
       "        text-align: right;\n",
       "    }\n",
       "</style>\n",
       "<table border=\"1\" class=\"dataframe\">\n",
       "  <thead>\n",
       "    <tr style=\"text-align: right;\">\n",
       "      <th></th>\n",
       "      <th>Name</th>\n",
       "      <th>Age</th>\n",
       "      <th>M/F</th>\n",
       "      <th>City</th>\n",
       "      <th>State</th>\n",
       "      <th>Country</th>\n",
       "      <th>Official Time</th>\n",
       "      <th>Overall</th>\n",
       "      <th>Gender</th>\n",
       "      <th>Years Ran</th>\n",
       "      <th>First Name</th>\n",
       "      <th>Last Name</th>\n",
       "    </tr>\n",
       "  </thead>\n",
       "  <tbody>\n",
       "    <tr>\n",
       "      <th>0</th>\n",
       "      <td>Kirui, Geoffrey</td>\n",
       "      <td>24</td>\n",
       "      <td>M</td>\n",
       "      <td>Keringet</td>\n",
       "      <td>NaN</td>\n",
       "      <td>KEN</td>\n",
       "      <td>2:09:37</td>\n",
       "      <td>1</td>\n",
       "      <td>1</td>\n",
       "      <td>NaN</td>\n",
       "      <td>Kirui</td>\n",
       "      <td>Geoffrey</td>\n",
       "    </tr>\n",
       "    <tr>\n",
       "      <th>1</th>\n",
       "      <td>Rupp, Galen</td>\n",
       "      <td>30</td>\n",
       "      <td>M</td>\n",
       "      <td>Portland</td>\n",
       "      <td>OR</td>\n",
       "      <td>USA</td>\n",
       "      <td>2:09:58</td>\n",
       "      <td>2</td>\n",
       "      <td>2</td>\n",
       "      <td>NaN</td>\n",
       "      <td>Rupp</td>\n",
       "      <td>Galen</td>\n",
       "    </tr>\n",
       "    <tr>\n",
       "      <th>2</th>\n",
       "      <td>Osako, Suguru</td>\n",
       "      <td>25</td>\n",
       "      <td>M</td>\n",
       "      <td>Machida-City</td>\n",
       "      <td>NaN</td>\n",
       "      <td>JPN</td>\n",
       "      <td>2:10:28</td>\n",
       "      <td>3</td>\n",
       "      <td>3</td>\n",
       "      <td>NaN</td>\n",
       "      <td>Osako</td>\n",
       "      <td>Suguru</td>\n",
       "    </tr>\n",
       "    <tr>\n",
       "      <th>3</th>\n",
       "      <td>Biwott, Shadrack</td>\n",
       "      <td>32</td>\n",
       "      <td>M</td>\n",
       "      <td>Mammoth Lakes</td>\n",
       "      <td>CA</td>\n",
       "      <td>USA</td>\n",
       "      <td>2:12:08</td>\n",
       "      <td>4</td>\n",
       "      <td>4</td>\n",
       "      <td>NaN</td>\n",
       "      <td>Biwott</td>\n",
       "      <td>Shadrack</td>\n",
       "    </tr>\n",
       "    <tr>\n",
       "      <th>4</th>\n",
       "      <td>Chebet, Wilson</td>\n",
       "      <td>31</td>\n",
       "      <td>M</td>\n",
       "      <td>Marakwet</td>\n",
       "      <td>NaN</td>\n",
       "      <td>KEN</td>\n",
       "      <td>2:12:35</td>\n",
       "      <td>5</td>\n",
       "      <td>5</td>\n",
       "      <td>2015</td>\n",
       "      <td>Chebet</td>\n",
       "      <td>Wilson</td>\n",
       "    </tr>\n",
       "  </tbody>\n",
       "</table>\n",
       "</div>"
      ],
      "text/plain": [
       "               Name  Age M/F           City State Country Official Time  \\\n",
       "0   Kirui, Geoffrey   24   M       Keringet   NaN     KEN       2:09:37   \n",
       "1       Rupp, Galen   30   M       Portland    OR     USA       2:09:58   \n",
       "2     Osako, Suguru   25   M   Machida-City   NaN     JPN       2:10:28   \n",
       "3  Biwott, Shadrack   32   M  Mammoth Lakes    CA     USA       2:12:08   \n",
       "4    Chebet, Wilson   31   M       Marakwet   NaN     KEN       2:12:35   \n",
       "\n",
       "   Overall  Gender Years Ran First Name Last Name  \n",
       "0        1       1       NaN      Kirui  Geoffrey  \n",
       "1        2       2       NaN       Rupp     Galen  \n",
       "2        3       3       NaN      Osako    Suguru  \n",
       "3        4       4       NaN     Biwott  Shadrack  \n",
       "4        5       5      2015     Chebet    Wilson  "
      ]
     },
     "execution_count": 770,
     "metadata": {},
     "output_type": "execute_result"
    }
   ],
   "source": [
    "boston.head()"
   ]
  },
  {
   "cell_type": "code",
   "execution_count": 771,
   "metadata": {},
   "outputs": [
    {
     "data": {
      "text/plain": [
       "Index(['Name', 'Age', 'M/F', 'City', 'State', 'Country', 'Official Time',\n",
       "       'Overall', 'Gender', 'Years Ran', 'First Name', 'Last Name'],\n",
       "      dtype='object')"
      ]
     },
     "execution_count": 771,
     "metadata": {},
     "output_type": "execute_result"
    }
   ],
   "source": [
    "boston.columns"
   ]
  },
  {
   "cell_type": "code",
   "execution_count": 772,
   "metadata": {},
   "outputs": [
    {
     "data": {
      "text/html": [
       "<div>\n",
       "<style scoped>\n",
       "    .dataframe tbody tr th:only-of-type {\n",
       "        vertical-align: middle;\n",
       "    }\n",
       "\n",
       "    .dataframe tbody tr th {\n",
       "        vertical-align: top;\n",
       "    }\n",
       "\n",
       "    .dataframe thead th {\n",
       "        text-align: right;\n",
       "    }\n",
       "</style>\n",
       "<table border=\"1\" class=\"dataframe\">\n",
       "  <thead>\n",
       "    <tr style=\"text-align: right;\">\n",
       "      <th></th>\n",
       "      <th>Name</th>\n",
       "      <th>Age</th>\n",
       "      <th>M/F</th>\n",
       "      <th>City</th>\n",
       "      <th>State</th>\n",
       "      <th>Country</th>\n",
       "      <th>Official Time</th>\n",
       "      <th>Overall</th>\n",
       "      <th>Gender</th>\n",
       "      <th>Years Ran</th>\n",
       "      <th>First Name</th>\n",
       "      <th>Last Name</th>\n",
       "    </tr>\n",
       "  </thead>\n",
       "  <tbody>\n",
       "    <tr>\n",
       "      <th>4</th>\n",
       "      <td>Chebet, Wilson</td>\n",
       "      <td>31</td>\n",
       "      <td>M</td>\n",
       "      <td>Marakwet</td>\n",
       "      <td>NaN</td>\n",
       "      <td>KEN</td>\n",
       "      <td>2:12:35</td>\n",
       "      <td>5</td>\n",
       "      <td>5</td>\n",
       "      <td>2015</td>\n",
       "      <td>Chebet</td>\n",
       "      <td>Wilson</td>\n",
       "    </tr>\n",
       "    <tr>\n",
       "      <th>12</th>\n",
       "      <td>Keflezighi, Meb</td>\n",
       "      <td>41</td>\n",
       "      <td>M</td>\n",
       "      <td>San Diego</td>\n",
       "      <td>CA</td>\n",
       "      <td>USA</td>\n",
       "      <td>2:17:00</td>\n",
       "      <td>13</td>\n",
       "      <td>13</td>\n",
       "      <td>2015</td>\n",
       "      <td>Keflezighi</td>\n",
       "      <td>Meb</td>\n",
       "    </tr>\n",
       "    <tr>\n",
       "      <th>13</th>\n",
       "      <td>Nyasango, Cutbert</td>\n",
       "      <td>34</td>\n",
       "      <td>M</td>\n",
       "      <td>Harara</td>\n",
       "      <td>NaN</td>\n",
       "      <td>ZIM</td>\n",
       "      <td>2:17:40</td>\n",
       "      <td>14</td>\n",
       "      <td>14</td>\n",
       "      <td>2016</td>\n",
       "      <td>Nyasango</td>\n",
       "      <td>Cutbert</td>\n",
       "    </tr>\n",
       "    <tr>\n",
       "      <th>14</th>\n",
       "      <td>Korir, Wesley</td>\n",
       "      <td>34</td>\n",
       "      <td>M</td>\n",
       "      <td>Kitale</td>\n",
       "      <td>NaN</td>\n",
       "      <td>KEN</td>\n",
       "      <td>2:18:14</td>\n",
       "      <td>15</td>\n",
       "      <td>15</td>\n",
       "      <td>2015:2016</td>\n",
       "      <td>Korir</td>\n",
       "      <td>Wesley</td>\n",
       "    </tr>\n",
       "    <tr>\n",
       "      <th>29</th>\n",
       "      <td>Maravilla, Jorge</td>\n",
       "      <td>39</td>\n",
       "      <td>M</td>\n",
       "      <td>Mill Valley</td>\n",
       "      <td>CA</td>\n",
       "      <td>USA</td>\n",
       "      <td>2:24:27</td>\n",
       "      <td>30</td>\n",
       "      <td>27</td>\n",
       "      <td>2016</td>\n",
       "      <td>Maravilla</td>\n",
       "      <td>Jorge</td>\n",
       "    </tr>\n",
       "    <tr>\n",
       "      <th>...</th>\n",
       "      <td>...</td>\n",
       "      <td>...</td>\n",
       "      <td>...</td>\n",
       "      <td>...</td>\n",
       "      <td>...</td>\n",
       "      <td>...</td>\n",
       "      <td>...</td>\n",
       "      <td>...</td>\n",
       "      <td>...</td>\n",
       "      <td>...</td>\n",
       "      <td>...</td>\n",
       "      <td>...</td>\n",
       "    </tr>\n",
       "    <tr>\n",
       "      <th>986</th>\n",
       "      <td>Bretz, Virgil</td>\n",
       "      <td>44</td>\n",
       "      <td>M</td>\n",
       "      <td>Mt. Kisco</td>\n",
       "      <td>NY</td>\n",
       "      <td>USA</td>\n",
       "      <td>2:56:02</td>\n",
       "      <td>987</td>\n",
       "      <td>931</td>\n",
       "      <td>2015:2016</td>\n",
       "      <td>Bretz</td>\n",
       "      <td>Virgil</td>\n",
       "    </tr>\n",
       "    <tr>\n",
       "      <th>987</th>\n",
       "      <td>Cucuzzella, Mark</td>\n",
       "      <td>50</td>\n",
       "      <td>M</td>\n",
       "      <td>Shepherdstown</td>\n",
       "      <td>WV</td>\n",
       "      <td>USA</td>\n",
       "      <td>2:56:03</td>\n",
       "      <td>988</td>\n",
       "      <td>932</td>\n",
       "      <td>2016</td>\n",
       "      <td>Cucuzzella</td>\n",
       "      <td>Mark</td>\n",
       "    </tr>\n",
       "    <tr>\n",
       "      <th>988</th>\n",
       "      <td>Carron, John B</td>\n",
       "      <td>46</td>\n",
       "      <td>M</td>\n",
       "      <td>Irvington</td>\n",
       "      <td>NY</td>\n",
       "      <td>USA</td>\n",
       "      <td>2:56:03</td>\n",
       "      <td>989</td>\n",
       "      <td>933</td>\n",
       "      <td>2016</td>\n",
       "      <td>Carron</td>\n",
       "      <td>John B</td>\n",
       "    </tr>\n",
       "    <tr>\n",
       "      <th>995</th>\n",
       "      <td>Larosa, Mark</td>\n",
       "      <td>38</td>\n",
       "      <td>M</td>\n",
       "      <td>North Andover</td>\n",
       "      <td>MA</td>\n",
       "      <td>USA</td>\n",
       "      <td>2:56:06</td>\n",
       "      <td>996</td>\n",
       "      <td>940</td>\n",
       "      <td>2015:2016</td>\n",
       "      <td>Larosa</td>\n",
       "      <td>Mark</td>\n",
       "    </tr>\n",
       "    <tr>\n",
       "      <th>996</th>\n",
       "      <td>Williamson, Jerry A</td>\n",
       "      <td>43</td>\n",
       "      <td>M</td>\n",
       "      <td>Raleigh</td>\n",
       "      <td>NC</td>\n",
       "      <td>USA</td>\n",
       "      <td>2:56:06</td>\n",
       "      <td>997</td>\n",
       "      <td>941</td>\n",
       "      <td>2015</td>\n",
       "      <td>Williamson</td>\n",
       "      <td>Jerry A</td>\n",
       "    </tr>\n",
       "  </tbody>\n",
       "</table>\n",
       "<p>315 rows × 12 columns</p>\n",
       "</div>"
      ],
      "text/plain": [
       "                    Name  Age M/F           City State Country Official Time  \\\n",
       "4         Chebet, Wilson   31   M       Marakwet   NaN     KEN       2:12:35   \n",
       "12       Keflezighi, Meb   41   M      San Diego    CA     USA       2:17:00   \n",
       "13     Nyasango, Cutbert   34   M         Harara   NaN     ZIM       2:17:40   \n",
       "14         Korir, Wesley   34   M         Kitale   NaN     KEN       2:18:14   \n",
       "29      Maravilla, Jorge   39   M    Mill Valley    CA     USA       2:24:27   \n",
       "..                   ...  ...  ..            ...   ...     ...           ...   \n",
       "986        Bretz, Virgil   44   M      Mt. Kisco    NY     USA       2:56:02   \n",
       "987     Cucuzzella, Mark   50   M  Shepherdstown    WV     USA       2:56:03   \n",
       "988       Carron, John B   46   M      Irvington    NY     USA       2:56:03   \n",
       "995         Larosa, Mark   38   M  North Andover    MA     USA       2:56:06   \n",
       "996  Williamson, Jerry A   43   M        Raleigh    NC     USA       2:56:06   \n",
       "\n",
       "     Overall  Gender  Years Ran  First Name Last Name  \n",
       "4          5       5       2015      Chebet    Wilson  \n",
       "12        13      13       2015  Keflezighi       Meb  \n",
       "13        14      14       2016    Nyasango   Cutbert  \n",
       "14        15      15  2015:2016       Korir    Wesley  \n",
       "29        30      27       2016   Maravilla     Jorge  \n",
       "..       ...     ...        ...         ...       ...  \n",
       "986      987     931  2015:2016       Bretz    Virgil  \n",
       "987      988     932       2016  Cucuzzella      Mark  \n",
       "988      989     933       2016      Carron    John B  \n",
       "995      996     940  2015:2016      Larosa      Mark  \n",
       "996      997     941       2015  Williamson   Jerry A  \n",
       "\n",
       "[315 rows x 12 columns]"
      ]
     },
     "execution_count": 772,
     "metadata": {},
     "output_type": "execute_result"
    }
   ],
   "source": [
    "boston.loc[boston.loc[:,'Years Ran'].notnull()]"
   ]
  },
  {
   "cell_type": "code",
   "execution_count": 773,
   "metadata": {},
   "outputs": [
    {
     "data": {
      "text/plain": [
       "array([nan, '2015', '2016', '2015:2016'], dtype=object)"
      ]
     },
     "execution_count": 773,
     "metadata": {},
     "output_type": "execute_result"
    }
   ],
   "source": [
    "boston.loc[:,'Years Ran'].unique()"
   ]
  },
  {
   "cell_type": "code",
   "execution_count": 774,
   "metadata": {},
   "outputs": [
    {
     "data": {
      "text/html": [
       "<div>\n",
       "<style scoped>\n",
       "    .dataframe tbody tr th:only-of-type {\n",
       "        vertical-align: middle;\n",
       "    }\n",
       "\n",
       "    .dataframe tbody tr th {\n",
       "        vertical-align: top;\n",
       "    }\n",
       "\n",
       "    .dataframe thead th {\n",
       "        text-align: right;\n",
       "    }\n",
       "</style>\n",
       "<table border=\"1\" class=\"dataframe\">\n",
       "  <thead>\n",
       "    <tr style=\"text-align: right;\">\n",
       "      <th></th>\n",
       "      <th>0</th>\n",
       "      <th>1</th>\n",
       "    </tr>\n",
       "  </thead>\n",
       "  <tbody>\n",
       "    <tr>\n",
       "      <th>0</th>\n",
       "      <td>NaN</td>\n",
       "      <td>NaN</td>\n",
       "    </tr>\n",
       "    <tr>\n",
       "      <th>1</th>\n",
       "      <td>NaN</td>\n",
       "      <td>NaN</td>\n",
       "    </tr>\n",
       "    <tr>\n",
       "      <th>2</th>\n",
       "      <td>NaN</td>\n",
       "      <td>NaN</td>\n",
       "    </tr>\n",
       "    <tr>\n",
       "      <th>3</th>\n",
       "      <td>NaN</td>\n",
       "      <td>NaN</td>\n",
       "    </tr>\n",
       "    <tr>\n",
       "      <th>4</th>\n",
       "      <td>2015</td>\n",
       "      <td>None</td>\n",
       "    </tr>\n",
       "    <tr>\n",
       "      <th>...</th>\n",
       "      <td>...</td>\n",
       "      <td>...</td>\n",
       "    </tr>\n",
       "    <tr>\n",
       "      <th>995</th>\n",
       "      <td>2015</td>\n",
       "      <td>2016</td>\n",
       "    </tr>\n",
       "    <tr>\n",
       "      <th>996</th>\n",
       "      <td>2015</td>\n",
       "      <td>None</td>\n",
       "    </tr>\n",
       "    <tr>\n",
       "      <th>997</th>\n",
       "      <td>NaN</td>\n",
       "      <td>NaN</td>\n",
       "    </tr>\n",
       "    <tr>\n",
       "      <th>998</th>\n",
       "      <td>NaN</td>\n",
       "      <td>NaN</td>\n",
       "    </tr>\n",
       "    <tr>\n",
       "      <th>999</th>\n",
       "      <td>NaN</td>\n",
       "      <td>NaN</td>\n",
       "    </tr>\n",
       "  </tbody>\n",
       "</table>\n",
       "<p>1000 rows × 2 columns</p>\n",
       "</div>"
      ],
      "text/plain": [
       "        0     1\n",
       "0     NaN   NaN\n",
       "1     NaN   NaN\n",
       "2     NaN   NaN\n",
       "3     NaN   NaN\n",
       "4    2015  None\n",
       "..    ...   ...\n",
       "995  2015  2016\n",
       "996  2015  None\n",
       "997   NaN   NaN\n",
       "998   NaN   NaN\n",
       "999   NaN   NaN\n",
       "\n",
       "[1000 rows x 2 columns]"
      ]
     },
     "execution_count": 774,
     "metadata": {},
     "output_type": "execute_result"
    }
   ],
   "source": [
    "boston.loc[:,'Years Ran'].str.split(':', expand=True)"
   ]
  },
  {
   "cell_type": "code",
   "execution_count": 775,
   "metadata": {},
   "outputs": [
    {
     "data": {
      "text/html": [
       "<div>\n",
       "<style scoped>\n",
       "    .dataframe tbody tr th:only-of-type {\n",
       "        vertical-align: middle;\n",
       "    }\n",
       "\n",
       "    .dataframe tbody tr th {\n",
       "        vertical-align: top;\n",
       "    }\n",
       "\n",
       "    .dataframe thead th {\n",
       "        text-align: right;\n",
       "    }\n",
       "</style>\n",
       "<table border=\"1\" class=\"dataframe\">\n",
       "  <thead>\n",
       "    <tr style=\"text-align: right;\">\n",
       "      <th></th>\n",
       "      <th>0</th>\n",
       "      <th>1</th>\n",
       "    </tr>\n",
       "  </thead>\n",
       "  <tbody>\n",
       "    <tr>\n",
       "      <th>14</th>\n",
       "      <td>2015</td>\n",
       "      <td>2016</td>\n",
       "    </tr>\n",
       "    <tr>\n",
       "      <th>30</th>\n",
       "      <td>2015</td>\n",
       "      <td>2016</td>\n",
       "    </tr>\n",
       "    <tr>\n",
       "      <th>31</th>\n",
       "      <td>2015</td>\n",
       "      <td>2016</td>\n",
       "    </tr>\n",
       "    <tr>\n",
       "      <th>36</th>\n",
       "      <td>2015</td>\n",
       "      <td>2016</td>\n",
       "    </tr>\n",
       "    <tr>\n",
       "      <th>56</th>\n",
       "      <td>2015</td>\n",
       "      <td>2016</td>\n",
       "    </tr>\n",
       "    <tr>\n",
       "      <th>...</th>\n",
       "      <td>...</td>\n",
       "      <td>...</td>\n",
       "    </tr>\n",
       "    <tr>\n",
       "      <th>959</th>\n",
       "      <td>2015</td>\n",
       "      <td>2016</td>\n",
       "    </tr>\n",
       "    <tr>\n",
       "      <th>962</th>\n",
       "      <td>2015</td>\n",
       "      <td>2016</td>\n",
       "    </tr>\n",
       "    <tr>\n",
       "      <th>977</th>\n",
       "      <td>2015</td>\n",
       "      <td>2016</td>\n",
       "    </tr>\n",
       "    <tr>\n",
       "      <th>986</th>\n",
       "      <td>2015</td>\n",
       "      <td>2016</td>\n",
       "    </tr>\n",
       "    <tr>\n",
       "      <th>995</th>\n",
       "      <td>2015</td>\n",
       "      <td>2016</td>\n",
       "    </tr>\n",
       "  </tbody>\n",
       "</table>\n",
       "<p>124 rows × 2 columns</p>\n",
       "</div>"
      ],
      "text/plain": [
       "        0     1\n",
       "14   2015  2016\n",
       "30   2015  2016\n",
       "31   2015  2016\n",
       "36   2015  2016\n",
       "56   2015  2016\n",
       "..    ...   ...\n",
       "959  2015  2016\n",
       "962  2015  2016\n",
       "977  2015  2016\n",
       "986  2015  2016\n",
       "995  2015  2016\n",
       "\n",
       "[124 rows x 2 columns]"
      ]
     },
     "execution_count": 775,
     "metadata": {},
     "output_type": "execute_result"
    }
   ],
   "source": [
    "boston.loc[:,'Years Ran'].str.split(':', expand=True).dropna(how='any')"
   ]
  },
  {
   "cell_type": "code",
   "execution_count": 776,
   "metadata": {},
   "outputs": [
    {
     "data": {
      "text/plain": [
       "0     1   \n",
       "2015  2016    124\n",
       "dtype: int64"
      ]
     },
     "execution_count": 776,
     "metadata": {},
     "output_type": "execute_result"
    }
   ],
   "source": [
    "boston.loc[:,'Years Ran'].str.split(':', expand=True).dropna(how='any').value_counts()"
   ]
  },
  {
   "cell_type": "code",
   "execution_count": 777,
   "metadata": {},
   "outputs": [
    {
     "data": {
      "text/plain": [
       "0     1   \n",
       "2015  2016    124\n",
       "dtype: int64"
      ]
     },
     "execution_count": 777,
     "metadata": {},
     "output_type": "execute_result"
    }
   ],
   "source": [
    "boston.loc[:,'Years Ran'].str.split(':',expand=True).value_counts()"
   ]
  },
  {
   "cell_type": "code",
   "execution_count": 778,
   "metadata": {},
   "outputs": [
    {
     "data": {
      "text/plain": [
       "0     1   \n",
       "NaN   NaN     685\n",
       "2016  NaN     125\n",
       "2015  2016    124\n",
       "      NaN      66\n",
       "dtype: int64"
      ]
     },
     "execution_count": 778,
     "metadata": {},
     "output_type": "execute_result"
    }
   ],
   "source": [
    "boston.loc[:,'Years Ran'].str.split(':',expand=True).value_counts(dropna=False)"
   ]
  },
  {
   "cell_type": "code",
   "execution_count": 779,
   "metadata": {},
   "outputs": [
    {
     "data": {
      "text/html": [
       "<div>\n",
       "<style scoped>\n",
       "    .dataframe tbody tr th:only-of-type {\n",
       "        vertical-align: middle;\n",
       "    }\n",
       "\n",
       "    .dataframe tbody tr th {\n",
       "        vertical-align: top;\n",
       "    }\n",
       "\n",
       "    .dataframe thead th {\n",
       "        text-align: right;\n",
       "    }\n",
       "</style>\n",
       "<table border=\"1\" class=\"dataframe\">\n",
       "  <thead>\n",
       "    <tr style=\"text-align: right;\">\n",
       "      <th></th>\n",
       "      <th>2015</th>\n",
       "      <th>2016</th>\n",
       "    </tr>\n",
       "  </thead>\n",
       "  <tbody>\n",
       "    <tr>\n",
       "      <th>0</th>\n",
       "      <td>0</td>\n",
       "      <td>0</td>\n",
       "    </tr>\n",
       "    <tr>\n",
       "      <th>1</th>\n",
       "      <td>0</td>\n",
       "      <td>0</td>\n",
       "    </tr>\n",
       "    <tr>\n",
       "      <th>2</th>\n",
       "      <td>0</td>\n",
       "      <td>0</td>\n",
       "    </tr>\n",
       "    <tr>\n",
       "      <th>3</th>\n",
       "      <td>0</td>\n",
       "      <td>0</td>\n",
       "    </tr>\n",
       "    <tr>\n",
       "      <th>4</th>\n",
       "      <td>1</td>\n",
       "      <td>0</td>\n",
       "    </tr>\n",
       "    <tr>\n",
       "      <th>...</th>\n",
       "      <td>...</td>\n",
       "      <td>...</td>\n",
       "    </tr>\n",
       "    <tr>\n",
       "      <th>995</th>\n",
       "      <td>1</td>\n",
       "      <td>1</td>\n",
       "    </tr>\n",
       "    <tr>\n",
       "      <th>996</th>\n",
       "      <td>1</td>\n",
       "      <td>0</td>\n",
       "    </tr>\n",
       "    <tr>\n",
       "      <th>997</th>\n",
       "      <td>0</td>\n",
       "      <td>0</td>\n",
       "    </tr>\n",
       "    <tr>\n",
       "      <th>998</th>\n",
       "      <td>0</td>\n",
       "      <td>0</td>\n",
       "    </tr>\n",
       "    <tr>\n",
       "      <th>999</th>\n",
       "      <td>0</td>\n",
       "      <td>0</td>\n",
       "    </tr>\n",
       "  </tbody>\n",
       "</table>\n",
       "<p>1000 rows × 2 columns</p>\n",
       "</div>"
      ],
      "text/plain": [
       "     2015  2016\n",
       "0       0     0\n",
       "1       0     0\n",
       "2       0     0\n",
       "3       0     0\n",
       "4       1     0\n",
       "..    ...   ...\n",
       "995     1     1\n",
       "996     1     0\n",
       "997     0     0\n",
       "998     0     0\n",
       "999     0     0\n",
       "\n",
       "[1000 rows x 2 columns]"
      ]
     },
     "execution_count": 779,
     "metadata": {},
     "output_type": "execute_result"
    }
   ],
   "source": [
    "boston.loc[:,'Years Ran'].str.get_dummies(sep=':')"
   ]
  },
  {
   "cell_type": "code",
   "execution_count": 780,
   "metadata": {},
   "outputs": [],
   "source": [
    "dummies = boston.loc[:,'Years Ran'].str.get_dummies(sep=':')"
   ]
  },
  {
   "attachments": {},
   "cell_type": "markdown",
   "metadata": {},
   "source": [
    "the df.insert()"
   ]
  },
  {
   "cell_type": "code",
   "execution_count": 781,
   "metadata": {},
   "outputs": [],
   "source": [
    "boston.insert(boston.columns.get_loc('Years Ran'),'Ran 2015', dummies.loc[:,'2015'])"
   ]
  },
  {
   "cell_type": "code",
   "execution_count": 782,
   "metadata": {},
   "outputs": [],
   "source": [
    "boston.insert(boston.columns.get_loc('Years Ran'), 'Ran 2016', dummies.loc[:,'2016'])"
   ]
  },
  {
   "cell_type": "code",
   "execution_count": 783,
   "metadata": {},
   "outputs": [
    {
     "data": {
      "text/html": [
       "<div>\n",
       "<style scoped>\n",
       "    .dataframe tbody tr th:only-of-type {\n",
       "        vertical-align: middle;\n",
       "    }\n",
       "\n",
       "    .dataframe tbody tr th {\n",
       "        vertical-align: top;\n",
       "    }\n",
       "\n",
       "    .dataframe thead th {\n",
       "        text-align: right;\n",
       "    }\n",
       "</style>\n",
       "<table border=\"1\" class=\"dataframe\">\n",
       "  <thead>\n",
       "    <tr style=\"text-align: right;\">\n",
       "      <th></th>\n",
       "      <th>Name</th>\n",
       "      <th>Age</th>\n",
       "      <th>M/F</th>\n",
       "      <th>City</th>\n",
       "      <th>State</th>\n",
       "      <th>Country</th>\n",
       "      <th>Official Time</th>\n",
       "      <th>Overall</th>\n",
       "      <th>Gender</th>\n",
       "      <th>Ran 2015</th>\n",
       "      <th>Ran 2016</th>\n",
       "      <th>Years Ran</th>\n",
       "      <th>First Name</th>\n",
       "      <th>Last Name</th>\n",
       "    </tr>\n",
       "  </thead>\n",
       "  <tbody>\n",
       "    <tr>\n",
       "      <th>0</th>\n",
       "      <td>Kirui, Geoffrey</td>\n",
       "      <td>24</td>\n",
       "      <td>M</td>\n",
       "      <td>Keringet</td>\n",
       "      <td>NaN</td>\n",
       "      <td>KEN</td>\n",
       "      <td>2:09:37</td>\n",
       "      <td>1</td>\n",
       "      <td>1</td>\n",
       "      <td>0</td>\n",
       "      <td>0</td>\n",
       "      <td>NaN</td>\n",
       "      <td>Kirui</td>\n",
       "      <td>Geoffrey</td>\n",
       "    </tr>\n",
       "    <tr>\n",
       "      <th>1</th>\n",
       "      <td>Rupp, Galen</td>\n",
       "      <td>30</td>\n",
       "      <td>M</td>\n",
       "      <td>Portland</td>\n",
       "      <td>OR</td>\n",
       "      <td>USA</td>\n",
       "      <td>2:09:58</td>\n",
       "      <td>2</td>\n",
       "      <td>2</td>\n",
       "      <td>0</td>\n",
       "      <td>0</td>\n",
       "      <td>NaN</td>\n",
       "      <td>Rupp</td>\n",
       "      <td>Galen</td>\n",
       "    </tr>\n",
       "    <tr>\n",
       "      <th>2</th>\n",
       "      <td>Osako, Suguru</td>\n",
       "      <td>25</td>\n",
       "      <td>M</td>\n",
       "      <td>Machida-City</td>\n",
       "      <td>NaN</td>\n",
       "      <td>JPN</td>\n",
       "      <td>2:10:28</td>\n",
       "      <td>3</td>\n",
       "      <td>3</td>\n",
       "      <td>0</td>\n",
       "      <td>0</td>\n",
       "      <td>NaN</td>\n",
       "      <td>Osako</td>\n",
       "      <td>Suguru</td>\n",
       "    </tr>\n",
       "    <tr>\n",
       "      <th>3</th>\n",
       "      <td>Biwott, Shadrack</td>\n",
       "      <td>32</td>\n",
       "      <td>M</td>\n",
       "      <td>Mammoth Lakes</td>\n",
       "      <td>CA</td>\n",
       "      <td>USA</td>\n",
       "      <td>2:12:08</td>\n",
       "      <td>4</td>\n",
       "      <td>4</td>\n",
       "      <td>0</td>\n",
       "      <td>0</td>\n",
       "      <td>NaN</td>\n",
       "      <td>Biwott</td>\n",
       "      <td>Shadrack</td>\n",
       "    </tr>\n",
       "    <tr>\n",
       "      <th>4</th>\n",
       "      <td>Chebet, Wilson</td>\n",
       "      <td>31</td>\n",
       "      <td>M</td>\n",
       "      <td>Marakwet</td>\n",
       "      <td>NaN</td>\n",
       "      <td>KEN</td>\n",
       "      <td>2:12:35</td>\n",
       "      <td>5</td>\n",
       "      <td>5</td>\n",
       "      <td>1</td>\n",
       "      <td>0</td>\n",
       "      <td>2015</td>\n",
       "      <td>Chebet</td>\n",
       "      <td>Wilson</td>\n",
       "    </tr>\n",
       "  </tbody>\n",
       "</table>\n",
       "</div>"
      ],
      "text/plain": [
       "               Name  Age M/F           City State Country Official Time  \\\n",
       "0   Kirui, Geoffrey   24   M       Keringet   NaN     KEN       2:09:37   \n",
       "1       Rupp, Galen   30   M       Portland    OR     USA       2:09:58   \n",
       "2     Osako, Suguru   25   M   Machida-City   NaN     JPN       2:10:28   \n",
       "3  Biwott, Shadrack   32   M  Mammoth Lakes    CA     USA       2:12:08   \n",
       "4    Chebet, Wilson   31   M       Marakwet   NaN     KEN       2:12:35   \n",
       "\n",
       "   Overall  Gender  Ran 2015  Ran 2016 Years Ran First Name Last Name  \n",
       "0        1       1         0         0       NaN      Kirui  Geoffrey  \n",
       "1        2       2         0         0       NaN       Rupp     Galen  \n",
       "2        3       3         0         0       NaN      Osako    Suguru  \n",
       "3        4       4         0         0       NaN     Biwott  Shadrack  \n",
       "4        5       5         1         0      2015     Chebet    Wilson  "
      ]
     },
     "execution_count": 783,
     "metadata": {},
     "output_type": "execute_result"
    }
   ],
   "source": [
    "boston.head()"
   ]
  },
  {
   "cell_type": "code",
   "execution_count": 784,
   "metadata": {},
   "outputs": [],
   "source": [
    "boston.drop(columns=boston.columns[boston.columns.get_loc('Ran 2015')],axis=1,inplace=True)"
   ]
  },
  {
   "cell_type": "code",
   "execution_count": 785,
   "metadata": {},
   "outputs": [
    {
     "data": {
      "text/html": [
       "<div>\n",
       "<style scoped>\n",
       "    .dataframe tbody tr th:only-of-type {\n",
       "        vertical-align: middle;\n",
       "    }\n",
       "\n",
       "    .dataframe tbody tr th {\n",
       "        vertical-align: top;\n",
       "    }\n",
       "\n",
       "    .dataframe thead th {\n",
       "        text-align: right;\n",
       "    }\n",
       "</style>\n",
       "<table border=\"1\" class=\"dataframe\">\n",
       "  <thead>\n",
       "    <tr style=\"text-align: right;\">\n",
       "      <th></th>\n",
       "      <th>Name</th>\n",
       "      <th>Age</th>\n",
       "      <th>M/F</th>\n",
       "      <th>City</th>\n",
       "      <th>State</th>\n",
       "      <th>Country</th>\n",
       "      <th>Official Time</th>\n",
       "      <th>Overall</th>\n",
       "      <th>Gender</th>\n",
       "      <th>Ran 2016</th>\n",
       "      <th>Years Ran</th>\n",
       "      <th>First Name</th>\n",
       "      <th>Last Name</th>\n",
       "    </tr>\n",
       "  </thead>\n",
       "  <tbody>\n",
       "    <tr>\n",
       "      <th>0</th>\n",
       "      <td>Kirui, Geoffrey</td>\n",
       "      <td>24</td>\n",
       "      <td>M</td>\n",
       "      <td>Keringet</td>\n",
       "      <td>NaN</td>\n",
       "      <td>KEN</td>\n",
       "      <td>2:09:37</td>\n",
       "      <td>1</td>\n",
       "      <td>1</td>\n",
       "      <td>0</td>\n",
       "      <td>NaN</td>\n",
       "      <td>Kirui</td>\n",
       "      <td>Geoffrey</td>\n",
       "    </tr>\n",
       "    <tr>\n",
       "      <th>1</th>\n",
       "      <td>Rupp, Galen</td>\n",
       "      <td>30</td>\n",
       "      <td>M</td>\n",
       "      <td>Portland</td>\n",
       "      <td>OR</td>\n",
       "      <td>USA</td>\n",
       "      <td>2:09:58</td>\n",
       "      <td>2</td>\n",
       "      <td>2</td>\n",
       "      <td>0</td>\n",
       "      <td>NaN</td>\n",
       "      <td>Rupp</td>\n",
       "      <td>Galen</td>\n",
       "    </tr>\n",
       "    <tr>\n",
       "      <th>2</th>\n",
       "      <td>Osako, Suguru</td>\n",
       "      <td>25</td>\n",
       "      <td>M</td>\n",
       "      <td>Machida-City</td>\n",
       "      <td>NaN</td>\n",
       "      <td>JPN</td>\n",
       "      <td>2:10:28</td>\n",
       "      <td>3</td>\n",
       "      <td>3</td>\n",
       "      <td>0</td>\n",
       "      <td>NaN</td>\n",
       "      <td>Osako</td>\n",
       "      <td>Suguru</td>\n",
       "    </tr>\n",
       "    <tr>\n",
       "      <th>3</th>\n",
       "      <td>Biwott, Shadrack</td>\n",
       "      <td>32</td>\n",
       "      <td>M</td>\n",
       "      <td>Mammoth Lakes</td>\n",
       "      <td>CA</td>\n",
       "      <td>USA</td>\n",
       "      <td>2:12:08</td>\n",
       "      <td>4</td>\n",
       "      <td>4</td>\n",
       "      <td>0</td>\n",
       "      <td>NaN</td>\n",
       "      <td>Biwott</td>\n",
       "      <td>Shadrack</td>\n",
       "    </tr>\n",
       "    <tr>\n",
       "      <th>4</th>\n",
       "      <td>Chebet, Wilson</td>\n",
       "      <td>31</td>\n",
       "      <td>M</td>\n",
       "      <td>Marakwet</td>\n",
       "      <td>NaN</td>\n",
       "      <td>KEN</td>\n",
       "      <td>2:12:35</td>\n",
       "      <td>5</td>\n",
       "      <td>5</td>\n",
       "      <td>0</td>\n",
       "      <td>2015</td>\n",
       "      <td>Chebet</td>\n",
       "      <td>Wilson</td>\n",
       "    </tr>\n",
       "  </tbody>\n",
       "</table>\n",
       "</div>"
      ],
      "text/plain": [
       "               Name  Age M/F           City State Country Official Time  \\\n",
       "0   Kirui, Geoffrey   24   M       Keringet   NaN     KEN       2:09:37   \n",
       "1       Rupp, Galen   30   M       Portland    OR     USA       2:09:58   \n",
       "2     Osako, Suguru   25   M   Machida-City   NaN     JPN       2:10:28   \n",
       "3  Biwott, Shadrack   32   M  Mammoth Lakes    CA     USA       2:12:08   \n",
       "4    Chebet, Wilson   31   M       Marakwet   NaN     KEN       2:12:35   \n",
       "\n",
       "   Overall  Gender  Ran 2016 Years Ran First Name Last Name  \n",
       "0        1       1         0       NaN      Kirui  Geoffrey  \n",
       "1        2       2         0       NaN       Rupp     Galen  \n",
       "2        3       3         0       NaN      Osako    Suguru  \n",
       "3        4       4         0       NaN     Biwott  Shadrack  \n",
       "4        5       5         0      2015     Chebet    Wilson  "
      ]
     },
     "execution_count": 785,
     "metadata": {},
     "output_type": "execute_result"
    }
   ],
   "source": [
    "boston.head()"
   ]
  },
  {
   "cell_type": "code",
   "execution_count": 786,
   "metadata": {},
   "outputs": [],
   "source": [
    "boston.insert(boston.columns.get_loc('Years Ran') + 1 , 'Ran 2015', dummies.loc[:,'2015'])"
   ]
  },
  {
   "cell_type": "code",
   "execution_count": 787,
   "metadata": {},
   "outputs": [
    {
     "data": {
      "text/html": [
       "<div>\n",
       "<style scoped>\n",
       "    .dataframe tbody tr th:only-of-type {\n",
       "        vertical-align: middle;\n",
       "    }\n",
       "\n",
       "    .dataframe tbody tr th {\n",
       "        vertical-align: top;\n",
       "    }\n",
       "\n",
       "    .dataframe thead th {\n",
       "        text-align: right;\n",
       "    }\n",
       "</style>\n",
       "<table border=\"1\" class=\"dataframe\">\n",
       "  <thead>\n",
       "    <tr style=\"text-align: right;\">\n",
       "      <th></th>\n",
       "      <th>Name</th>\n",
       "      <th>Age</th>\n",
       "      <th>M/F</th>\n",
       "      <th>City</th>\n",
       "      <th>State</th>\n",
       "      <th>Country</th>\n",
       "      <th>Official Time</th>\n",
       "      <th>Overall</th>\n",
       "      <th>Gender</th>\n",
       "      <th>Ran 2016</th>\n",
       "      <th>Years Ran</th>\n",
       "      <th>Ran 2015</th>\n",
       "      <th>First Name</th>\n",
       "      <th>Last Name</th>\n",
       "    </tr>\n",
       "  </thead>\n",
       "  <tbody>\n",
       "    <tr>\n",
       "      <th>0</th>\n",
       "      <td>Kirui, Geoffrey</td>\n",
       "      <td>24</td>\n",
       "      <td>M</td>\n",
       "      <td>Keringet</td>\n",
       "      <td>NaN</td>\n",
       "      <td>KEN</td>\n",
       "      <td>2:09:37</td>\n",
       "      <td>1</td>\n",
       "      <td>1</td>\n",
       "      <td>0</td>\n",
       "      <td>NaN</td>\n",
       "      <td>0</td>\n",
       "      <td>Kirui</td>\n",
       "      <td>Geoffrey</td>\n",
       "    </tr>\n",
       "    <tr>\n",
       "      <th>1</th>\n",
       "      <td>Rupp, Galen</td>\n",
       "      <td>30</td>\n",
       "      <td>M</td>\n",
       "      <td>Portland</td>\n",
       "      <td>OR</td>\n",
       "      <td>USA</td>\n",
       "      <td>2:09:58</td>\n",
       "      <td>2</td>\n",
       "      <td>2</td>\n",
       "      <td>0</td>\n",
       "      <td>NaN</td>\n",
       "      <td>0</td>\n",
       "      <td>Rupp</td>\n",
       "      <td>Galen</td>\n",
       "    </tr>\n",
       "    <tr>\n",
       "      <th>2</th>\n",
       "      <td>Osako, Suguru</td>\n",
       "      <td>25</td>\n",
       "      <td>M</td>\n",
       "      <td>Machida-City</td>\n",
       "      <td>NaN</td>\n",
       "      <td>JPN</td>\n",
       "      <td>2:10:28</td>\n",
       "      <td>3</td>\n",
       "      <td>3</td>\n",
       "      <td>0</td>\n",
       "      <td>NaN</td>\n",
       "      <td>0</td>\n",
       "      <td>Osako</td>\n",
       "      <td>Suguru</td>\n",
       "    </tr>\n",
       "    <tr>\n",
       "      <th>3</th>\n",
       "      <td>Biwott, Shadrack</td>\n",
       "      <td>32</td>\n",
       "      <td>M</td>\n",
       "      <td>Mammoth Lakes</td>\n",
       "      <td>CA</td>\n",
       "      <td>USA</td>\n",
       "      <td>2:12:08</td>\n",
       "      <td>4</td>\n",
       "      <td>4</td>\n",
       "      <td>0</td>\n",
       "      <td>NaN</td>\n",
       "      <td>0</td>\n",
       "      <td>Biwott</td>\n",
       "      <td>Shadrack</td>\n",
       "    </tr>\n",
       "    <tr>\n",
       "      <th>4</th>\n",
       "      <td>Chebet, Wilson</td>\n",
       "      <td>31</td>\n",
       "      <td>M</td>\n",
       "      <td>Marakwet</td>\n",
       "      <td>NaN</td>\n",
       "      <td>KEN</td>\n",
       "      <td>2:12:35</td>\n",
       "      <td>5</td>\n",
       "      <td>5</td>\n",
       "      <td>0</td>\n",
       "      <td>2015</td>\n",
       "      <td>1</td>\n",
       "      <td>Chebet</td>\n",
       "      <td>Wilson</td>\n",
       "    </tr>\n",
       "  </tbody>\n",
       "</table>\n",
       "</div>"
      ],
      "text/plain": [
       "               Name  Age M/F           City State Country Official Time  \\\n",
       "0   Kirui, Geoffrey   24   M       Keringet   NaN     KEN       2:09:37   \n",
       "1       Rupp, Galen   30   M       Portland    OR     USA       2:09:58   \n",
       "2     Osako, Suguru   25   M   Machida-City   NaN     JPN       2:10:28   \n",
       "3  Biwott, Shadrack   32   M  Mammoth Lakes    CA     USA       2:12:08   \n",
       "4    Chebet, Wilson   31   M       Marakwet   NaN     KEN       2:12:35   \n",
       "\n",
       "   Overall  Gender  Ran 2016 Years Ran  Ran 2015 First Name Last Name  \n",
       "0        1       1         0       NaN         0      Kirui  Geoffrey  \n",
       "1        2       2         0       NaN         0       Rupp     Galen  \n",
       "2        3       3         0       NaN         0      Osako    Suguru  \n",
       "3        4       4         0       NaN         0     Biwott  Shadrack  \n",
       "4        5       5         0      2015         1     Chebet    Wilson  "
      ]
     },
     "execution_count": 787,
     "metadata": {},
     "output_type": "execute_result"
    }
   ],
   "source": [
    "boston.head()"
   ]
  },
  {
   "attachments": {},
   "cell_type": "markdown",
   "metadata": {},
   "source": [
    "Q: Which top runners from 2017 also ran in the previous two boston maratons"
   ]
  },
  {
   "cell_type": "code",
   "execution_count": 788,
   "metadata": {},
   "outputs": [
    {
     "data": {
      "text/html": [
       "<div>\n",
       "<style scoped>\n",
       "    .dataframe tbody tr th:only-of-type {\n",
       "        vertical-align: middle;\n",
       "    }\n",
       "\n",
       "    .dataframe tbody tr th {\n",
       "        vertical-align: top;\n",
       "    }\n",
       "\n",
       "    .dataframe thead th {\n",
       "        text-align: right;\n",
       "    }\n",
       "</style>\n",
       "<table border=\"1\" class=\"dataframe\">\n",
       "  <thead>\n",
       "    <tr style=\"text-align: right;\">\n",
       "      <th></th>\n",
       "      <th>Name</th>\n",
       "      <th>Age</th>\n",
       "      <th>M/F</th>\n",
       "      <th>City</th>\n",
       "      <th>State</th>\n",
       "      <th>Country</th>\n",
       "      <th>Official Time</th>\n",
       "      <th>Overall</th>\n",
       "      <th>Gender</th>\n",
       "      <th>Ran 2016</th>\n",
       "      <th>Years Ran</th>\n",
       "      <th>Ran 2015</th>\n",
       "      <th>First Name</th>\n",
       "      <th>Last Name</th>\n",
       "    </tr>\n",
       "  </thead>\n",
       "  <tbody>\n",
       "    <tr>\n",
       "      <th>14</th>\n",
       "      <td>Korir, Wesley</td>\n",
       "      <td>34</td>\n",
       "      <td>M</td>\n",
       "      <td>Kitale</td>\n",
       "      <td>NaN</td>\n",
       "      <td>KEN</td>\n",
       "      <td>2:18:14</td>\n",
       "      <td>15</td>\n",
       "      <td>15</td>\n",
       "      <td>1</td>\n",
       "      <td>2015:2016</td>\n",
       "      <td>1</td>\n",
       "      <td>Korir</td>\n",
       "      <td>Wesley</td>\n",
       "    </tr>\n",
       "    <tr>\n",
       "      <th>30</th>\n",
       "      <td>Ornelas, Zachary</td>\n",
       "      <td>25</td>\n",
       "      <td>M</td>\n",
       "      <td>Ann Arbor</td>\n",
       "      <td>MI</td>\n",
       "      <td>USA</td>\n",
       "      <td>2:24:40</td>\n",
       "      <td>31</td>\n",
       "      <td>28</td>\n",
       "      <td>1</td>\n",
       "      <td>2015:2016</td>\n",
       "      <td>1</td>\n",
       "      <td>Ornelas</td>\n",
       "      <td>Zachary</td>\n",
       "    </tr>\n",
       "    <tr>\n",
       "      <th>31</th>\n",
       "      <td>Ayr, Jason M.</td>\n",
       "      <td>29</td>\n",
       "      <td>M</td>\n",
       "      <td>Allston</td>\n",
       "      <td>MA</td>\n",
       "      <td>USA</td>\n",
       "      <td>2:24:49</td>\n",
       "      <td>32</td>\n",
       "      <td>29</td>\n",
       "      <td>1</td>\n",
       "      <td>2015:2016</td>\n",
       "      <td>1</td>\n",
       "      <td>Ayr</td>\n",
       "      <td>Jason M.</td>\n",
       "    </tr>\n",
       "    <tr>\n",
       "      <th>36</th>\n",
       "      <td>Vangampleare, Stephen</td>\n",
       "      <td>26</td>\n",
       "      <td>M</td>\n",
       "      <td>Colorado Springs</td>\n",
       "      <td>CO</td>\n",
       "      <td>USA</td>\n",
       "      <td>2:25:35</td>\n",
       "      <td>37</td>\n",
       "      <td>33</td>\n",
       "      <td>1</td>\n",
       "      <td>2015:2016</td>\n",
       "      <td>1</td>\n",
       "      <td>Vangampleare</td>\n",
       "      <td>Stephen</td>\n",
       "    </tr>\n",
       "    <tr>\n",
       "      <th>56</th>\n",
       "      <td>Boudalia, Said Sr.</td>\n",
       "      <td>48</td>\n",
       "      <td>M</td>\n",
       "      <td>Belluno</td>\n",
       "      <td>NaN</td>\n",
       "      <td>ITA</td>\n",
       "      <td>2:30:11</td>\n",
       "      <td>57</td>\n",
       "      <td>51</td>\n",
       "      <td>1</td>\n",
       "      <td>2015:2016</td>\n",
       "      <td>1</td>\n",
       "      <td>Boudalia</td>\n",
       "      <td>Said Sr.</td>\n",
       "    </tr>\n",
       "    <tr>\n",
       "      <th>...</th>\n",
       "      <td>...</td>\n",
       "      <td>...</td>\n",
       "      <td>...</td>\n",
       "      <td>...</td>\n",
       "      <td>...</td>\n",
       "      <td>...</td>\n",
       "      <td>...</td>\n",
       "      <td>...</td>\n",
       "      <td>...</td>\n",
       "      <td>...</td>\n",
       "      <td>...</td>\n",
       "      <td>...</td>\n",
       "      <td>...</td>\n",
       "      <td>...</td>\n",
       "    </tr>\n",
       "    <tr>\n",
       "      <th>959</th>\n",
       "      <td>Yu, Michael</td>\n",
       "      <td>45</td>\n",
       "      <td>M</td>\n",
       "      <td>Zhubei City, Hsinchu County</td>\n",
       "      <td>NaN</td>\n",
       "      <td>TWN</td>\n",
       "      <td>2:55:40</td>\n",
       "      <td>960</td>\n",
       "      <td>907</td>\n",
       "      <td>1</td>\n",
       "      <td>2015:2016</td>\n",
       "      <td>1</td>\n",
       "      <td>Yu</td>\n",
       "      <td>Michael</td>\n",
       "    </tr>\n",
       "    <tr>\n",
       "      <th>962</th>\n",
       "      <td>Husak, Tyler</td>\n",
       "      <td>30</td>\n",
       "      <td>M</td>\n",
       "      <td>Marion</td>\n",
       "      <td>IA</td>\n",
       "      <td>USA</td>\n",
       "      <td>2:55:42</td>\n",
       "      <td>963</td>\n",
       "      <td>910</td>\n",
       "      <td>1</td>\n",
       "      <td>2015:2016</td>\n",
       "      <td>1</td>\n",
       "      <td>Husak</td>\n",
       "      <td>Tyler</td>\n",
       "    </tr>\n",
       "    <tr>\n",
       "      <th>977</th>\n",
       "      <td>Guthals, Nathaniel</td>\n",
       "      <td>26</td>\n",
       "      <td>M</td>\n",
       "      <td>Overland Park</td>\n",
       "      <td>KS</td>\n",
       "      <td>USA</td>\n",
       "      <td>2:55:57</td>\n",
       "      <td>978</td>\n",
       "      <td>923</td>\n",
       "      <td>1</td>\n",
       "      <td>2015:2016</td>\n",
       "      <td>1</td>\n",
       "      <td>Guthals</td>\n",
       "      <td>Nathaniel</td>\n",
       "    </tr>\n",
       "    <tr>\n",
       "      <th>986</th>\n",
       "      <td>Bretz, Virgil</td>\n",
       "      <td>44</td>\n",
       "      <td>M</td>\n",
       "      <td>Mt. Kisco</td>\n",
       "      <td>NY</td>\n",
       "      <td>USA</td>\n",
       "      <td>2:56:02</td>\n",
       "      <td>987</td>\n",
       "      <td>931</td>\n",
       "      <td>1</td>\n",
       "      <td>2015:2016</td>\n",
       "      <td>1</td>\n",
       "      <td>Bretz</td>\n",
       "      <td>Virgil</td>\n",
       "    </tr>\n",
       "    <tr>\n",
       "      <th>995</th>\n",
       "      <td>Larosa, Mark</td>\n",
       "      <td>38</td>\n",
       "      <td>M</td>\n",
       "      <td>North Andover</td>\n",
       "      <td>MA</td>\n",
       "      <td>USA</td>\n",
       "      <td>2:56:06</td>\n",
       "      <td>996</td>\n",
       "      <td>940</td>\n",
       "      <td>1</td>\n",
       "      <td>2015:2016</td>\n",
       "      <td>1</td>\n",
       "      <td>Larosa</td>\n",
       "      <td>Mark</td>\n",
       "    </tr>\n",
       "  </tbody>\n",
       "</table>\n",
       "<p>124 rows × 14 columns</p>\n",
       "</div>"
      ],
      "text/plain": [
       "                      Name  Age M/F                         City State  \\\n",
       "14           Korir, Wesley   34   M                       Kitale   NaN   \n",
       "30        Ornelas, Zachary   25   M                    Ann Arbor    MI   \n",
       "31           Ayr, Jason M.   29   M                      Allston    MA   \n",
       "36   Vangampleare, Stephen   26   M             Colorado Springs    CO   \n",
       "56      Boudalia, Said Sr.   48   M                      Belluno   NaN   \n",
       "..                     ...  ...  ..                          ...   ...   \n",
       "959            Yu, Michael   45   M  Zhubei City, Hsinchu County   NaN   \n",
       "962           Husak, Tyler   30   M                       Marion    IA   \n",
       "977     Guthals, Nathaniel   26   M                Overland Park    KS   \n",
       "986          Bretz, Virgil   44   M                    Mt. Kisco    NY   \n",
       "995           Larosa, Mark   38   M                North Andover    MA   \n",
       "\n",
       "    Country Official Time  Overall  Gender  Ran 2016  Years Ran  Ran 2015  \\\n",
       "14      KEN       2:18:14       15      15         1  2015:2016         1   \n",
       "30      USA       2:24:40       31      28         1  2015:2016         1   \n",
       "31      USA       2:24:49       32      29         1  2015:2016         1   \n",
       "36      USA       2:25:35       37      33         1  2015:2016         1   \n",
       "56      ITA       2:30:11       57      51         1  2015:2016         1   \n",
       "..      ...           ...      ...     ...       ...        ...       ...   \n",
       "959     TWN       2:55:40      960     907         1  2015:2016         1   \n",
       "962     USA       2:55:42      963     910         1  2015:2016         1   \n",
       "977     USA       2:55:57      978     923         1  2015:2016         1   \n",
       "986     USA       2:56:02      987     931         1  2015:2016         1   \n",
       "995     USA       2:56:06      996     940         1  2015:2016         1   \n",
       "\n",
       "       First Name  Last Name  \n",
       "14          Korir     Wesley  \n",
       "30        Ornelas    Zachary  \n",
       "31            Ayr   Jason M.  \n",
       "36   Vangampleare    Stephen  \n",
       "56       Boudalia   Said Sr.  \n",
       "..            ...        ...  \n",
       "959            Yu    Michael  \n",
       "962         Husak      Tyler  \n",
       "977       Guthals  Nathaniel  \n",
       "986         Bretz     Virgil  \n",
       "995        Larosa       Mark  \n",
       "\n",
       "[124 rows x 14 columns]"
      ]
     },
     "execution_count": 788,
     "metadata": {},
     "output_type": "execute_result"
    }
   ],
   "source": [
    "mask_2016 = boston.loc[:,'Ran 2016'] == 1 \n",
    "mask_2015 = boston.loc[:,'Ran 2015'] == 1\n",
    "\n",
    "boston.loc[mask_2016 * mask_2015 ,:]"
   ]
  },
  {
   "cell_type": "code",
   "execution_count": 789,
   "metadata": {},
   "outputs": [
    {
     "data": {
      "text/html": [
       "<div>\n",
       "<style scoped>\n",
       "    .dataframe tbody tr th:only-of-type {\n",
       "        vertical-align: middle;\n",
       "    }\n",
       "\n",
       "    .dataframe tbody tr th {\n",
       "        vertical-align: top;\n",
       "    }\n",
       "\n",
       "    .dataframe thead th {\n",
       "        text-align: right;\n",
       "    }\n",
       "</style>\n",
       "<table border=\"1\" class=\"dataframe\">\n",
       "  <thead>\n",
       "    <tr style=\"text-align: right;\">\n",
       "      <th></th>\n",
       "      <th>Name</th>\n",
       "      <th>Age</th>\n",
       "      <th>M/F</th>\n",
       "      <th>City</th>\n",
       "      <th>State</th>\n",
       "      <th>Country</th>\n",
       "      <th>Official Time</th>\n",
       "      <th>Overall</th>\n",
       "      <th>Gender</th>\n",
       "      <th>Ran 2016</th>\n",
       "      <th>Years Ran</th>\n",
       "      <th>Ran 2015</th>\n",
       "      <th>First Name</th>\n",
       "      <th>Last Name</th>\n",
       "    </tr>\n",
       "  </thead>\n",
       "  <tbody>\n",
       "    <tr>\n",
       "      <th>14</th>\n",
       "      <td>Korir, Wesley</td>\n",
       "      <td>34</td>\n",
       "      <td>M</td>\n",
       "      <td>Kitale</td>\n",
       "      <td>NaN</td>\n",
       "      <td>KEN</td>\n",
       "      <td>2:18:14</td>\n",
       "      <td>15</td>\n",
       "      <td>15</td>\n",
       "      <td>1</td>\n",
       "      <td>2015:2016</td>\n",
       "      <td>1</td>\n",
       "      <td>Korir</td>\n",
       "      <td>Wesley</td>\n",
       "    </tr>\n",
       "    <tr>\n",
       "      <th>30</th>\n",
       "      <td>Ornelas, Zachary</td>\n",
       "      <td>25</td>\n",
       "      <td>M</td>\n",
       "      <td>Ann Arbor</td>\n",
       "      <td>MI</td>\n",
       "      <td>USA</td>\n",
       "      <td>2:24:40</td>\n",
       "      <td>31</td>\n",
       "      <td>28</td>\n",
       "      <td>1</td>\n",
       "      <td>2015:2016</td>\n",
       "      <td>1</td>\n",
       "      <td>Ornelas</td>\n",
       "      <td>Zachary</td>\n",
       "    </tr>\n",
       "    <tr>\n",
       "      <th>31</th>\n",
       "      <td>Ayr, Jason M.</td>\n",
       "      <td>29</td>\n",
       "      <td>M</td>\n",
       "      <td>Allston</td>\n",
       "      <td>MA</td>\n",
       "      <td>USA</td>\n",
       "      <td>2:24:49</td>\n",
       "      <td>32</td>\n",
       "      <td>29</td>\n",
       "      <td>1</td>\n",
       "      <td>2015:2016</td>\n",
       "      <td>1</td>\n",
       "      <td>Ayr</td>\n",
       "      <td>Jason M.</td>\n",
       "    </tr>\n",
       "    <tr>\n",
       "      <th>36</th>\n",
       "      <td>Vangampleare, Stephen</td>\n",
       "      <td>26</td>\n",
       "      <td>M</td>\n",
       "      <td>Colorado Springs</td>\n",
       "      <td>CO</td>\n",
       "      <td>USA</td>\n",
       "      <td>2:25:35</td>\n",
       "      <td>37</td>\n",
       "      <td>33</td>\n",
       "      <td>1</td>\n",
       "      <td>2015:2016</td>\n",
       "      <td>1</td>\n",
       "      <td>Vangampleare</td>\n",
       "      <td>Stephen</td>\n",
       "    </tr>\n",
       "    <tr>\n",
       "      <th>56</th>\n",
       "      <td>Boudalia, Said Sr.</td>\n",
       "      <td>48</td>\n",
       "      <td>M</td>\n",
       "      <td>Belluno</td>\n",
       "      <td>NaN</td>\n",
       "      <td>ITA</td>\n",
       "      <td>2:30:11</td>\n",
       "      <td>57</td>\n",
       "      <td>51</td>\n",
       "      <td>1</td>\n",
       "      <td>2015:2016</td>\n",
       "      <td>1</td>\n",
       "      <td>Boudalia</td>\n",
       "      <td>Said Sr.</td>\n",
       "    </tr>\n",
       "    <tr>\n",
       "      <th>...</th>\n",
       "      <td>...</td>\n",
       "      <td>...</td>\n",
       "      <td>...</td>\n",
       "      <td>...</td>\n",
       "      <td>...</td>\n",
       "      <td>...</td>\n",
       "      <td>...</td>\n",
       "      <td>...</td>\n",
       "      <td>...</td>\n",
       "      <td>...</td>\n",
       "      <td>...</td>\n",
       "      <td>...</td>\n",
       "      <td>...</td>\n",
       "      <td>...</td>\n",
       "    </tr>\n",
       "    <tr>\n",
       "      <th>959</th>\n",
       "      <td>Yu, Michael</td>\n",
       "      <td>45</td>\n",
       "      <td>M</td>\n",
       "      <td>Zhubei City, Hsinchu County</td>\n",
       "      <td>NaN</td>\n",
       "      <td>TWN</td>\n",
       "      <td>2:55:40</td>\n",
       "      <td>960</td>\n",
       "      <td>907</td>\n",
       "      <td>1</td>\n",
       "      <td>2015:2016</td>\n",
       "      <td>1</td>\n",
       "      <td>Yu</td>\n",
       "      <td>Michael</td>\n",
       "    </tr>\n",
       "    <tr>\n",
       "      <th>962</th>\n",
       "      <td>Husak, Tyler</td>\n",
       "      <td>30</td>\n",
       "      <td>M</td>\n",
       "      <td>Marion</td>\n",
       "      <td>IA</td>\n",
       "      <td>USA</td>\n",
       "      <td>2:55:42</td>\n",
       "      <td>963</td>\n",
       "      <td>910</td>\n",
       "      <td>1</td>\n",
       "      <td>2015:2016</td>\n",
       "      <td>1</td>\n",
       "      <td>Husak</td>\n",
       "      <td>Tyler</td>\n",
       "    </tr>\n",
       "    <tr>\n",
       "      <th>977</th>\n",
       "      <td>Guthals, Nathaniel</td>\n",
       "      <td>26</td>\n",
       "      <td>M</td>\n",
       "      <td>Overland Park</td>\n",
       "      <td>KS</td>\n",
       "      <td>USA</td>\n",
       "      <td>2:55:57</td>\n",
       "      <td>978</td>\n",
       "      <td>923</td>\n",
       "      <td>1</td>\n",
       "      <td>2015:2016</td>\n",
       "      <td>1</td>\n",
       "      <td>Guthals</td>\n",
       "      <td>Nathaniel</td>\n",
       "    </tr>\n",
       "    <tr>\n",
       "      <th>986</th>\n",
       "      <td>Bretz, Virgil</td>\n",
       "      <td>44</td>\n",
       "      <td>M</td>\n",
       "      <td>Mt. Kisco</td>\n",
       "      <td>NY</td>\n",
       "      <td>USA</td>\n",
       "      <td>2:56:02</td>\n",
       "      <td>987</td>\n",
       "      <td>931</td>\n",
       "      <td>1</td>\n",
       "      <td>2015:2016</td>\n",
       "      <td>1</td>\n",
       "      <td>Bretz</td>\n",
       "      <td>Virgil</td>\n",
       "    </tr>\n",
       "    <tr>\n",
       "      <th>995</th>\n",
       "      <td>Larosa, Mark</td>\n",
       "      <td>38</td>\n",
       "      <td>M</td>\n",
       "      <td>North Andover</td>\n",
       "      <td>MA</td>\n",
       "      <td>USA</td>\n",
       "      <td>2:56:06</td>\n",
       "      <td>996</td>\n",
       "      <td>940</td>\n",
       "      <td>1</td>\n",
       "      <td>2015:2016</td>\n",
       "      <td>1</td>\n",
       "      <td>Larosa</td>\n",
       "      <td>Mark</td>\n",
       "    </tr>\n",
       "  </tbody>\n",
       "</table>\n",
       "<p>124 rows × 14 columns</p>\n",
       "</div>"
      ],
      "text/plain": [
       "                      Name  Age M/F                         City State  \\\n",
       "14           Korir, Wesley   34   M                       Kitale   NaN   \n",
       "30        Ornelas, Zachary   25   M                    Ann Arbor    MI   \n",
       "31           Ayr, Jason M.   29   M                      Allston    MA   \n",
       "36   Vangampleare, Stephen   26   M             Colorado Springs    CO   \n",
       "56      Boudalia, Said Sr.   48   M                      Belluno   NaN   \n",
       "..                     ...  ...  ..                          ...   ...   \n",
       "959            Yu, Michael   45   M  Zhubei City, Hsinchu County   NaN   \n",
       "962           Husak, Tyler   30   M                       Marion    IA   \n",
       "977     Guthals, Nathaniel   26   M                Overland Park    KS   \n",
       "986          Bretz, Virgil   44   M                    Mt. Kisco    NY   \n",
       "995           Larosa, Mark   38   M                North Andover    MA   \n",
       "\n",
       "    Country Official Time  Overall  Gender  Ran 2016  Years Ran  Ran 2015  \\\n",
       "14      KEN       2:18:14       15      15         1  2015:2016         1   \n",
       "30      USA       2:24:40       31      28         1  2015:2016         1   \n",
       "31      USA       2:24:49       32      29         1  2015:2016         1   \n",
       "36      USA       2:25:35       37      33         1  2015:2016         1   \n",
       "56      ITA       2:30:11       57      51         1  2015:2016         1   \n",
       "..      ...           ...      ...     ...       ...        ...       ...   \n",
       "959     TWN       2:55:40      960     907         1  2015:2016         1   \n",
       "962     USA       2:55:42      963     910         1  2015:2016         1   \n",
       "977     USA       2:55:57      978     923         1  2015:2016         1   \n",
       "986     USA       2:56:02      987     931         1  2015:2016         1   \n",
       "995     USA       2:56:06      996     940         1  2015:2016         1   \n",
       "\n",
       "       First Name  Last Name  \n",
       "14          Korir     Wesley  \n",
       "30        Ornelas    Zachary  \n",
       "31            Ayr   Jason M.  \n",
       "36   Vangampleare    Stephen  \n",
       "56       Boudalia   Said Sr.  \n",
       "..            ...        ...  \n",
       "959            Yu    Michael  \n",
       "962         Husak      Tyler  \n",
       "977       Guthals  Nathaniel  \n",
       "986         Bretz     Virgil  \n",
       "995        Larosa       Mark  \n",
       "\n",
       "[124 rows x 14 columns]"
      ]
     },
     "execution_count": 789,
     "metadata": {},
     "output_type": "execute_result"
    }
   ],
   "source": [
    "boston.loc[(boston.loc[:,'Ran 2015']==1) & (boston.loc[:,'Ran 2016']==1),:]"
   ]
  },
  {
   "attachments": {},
   "cell_type": "markdown",
   "metadata": {},
   "source": [
    "Q: how many top runsers from 2017 also ran in 2015"
   ]
  },
  {
   "cell_type": "code",
   "execution_count": 790,
   "metadata": {},
   "outputs": [
    {
     "data": {
      "text/html": [
       "<div>\n",
       "<style scoped>\n",
       "    .dataframe tbody tr th:only-of-type {\n",
       "        vertical-align: middle;\n",
       "    }\n",
       "\n",
       "    .dataframe tbody tr th {\n",
       "        vertical-align: top;\n",
       "    }\n",
       "\n",
       "    .dataframe thead th {\n",
       "        text-align: right;\n",
       "    }\n",
       "</style>\n",
       "<table border=\"1\" class=\"dataframe\">\n",
       "  <thead>\n",
       "    <tr style=\"text-align: right;\">\n",
       "      <th></th>\n",
       "      <th>Name</th>\n",
       "      <th>Age</th>\n",
       "      <th>M/F</th>\n",
       "      <th>City</th>\n",
       "      <th>State</th>\n",
       "      <th>Country</th>\n",
       "      <th>Official Time</th>\n",
       "      <th>Overall</th>\n",
       "      <th>Gender</th>\n",
       "      <th>Ran 2016</th>\n",
       "      <th>Years Ran</th>\n",
       "      <th>Ran 2015</th>\n",
       "      <th>First Name</th>\n",
       "      <th>Last Name</th>\n",
       "    </tr>\n",
       "  </thead>\n",
       "  <tbody>\n",
       "    <tr>\n",
       "      <th>4</th>\n",
       "      <td>Chebet, Wilson</td>\n",
       "      <td>31</td>\n",
       "      <td>M</td>\n",
       "      <td>Marakwet</td>\n",
       "      <td>NaN</td>\n",
       "      <td>KEN</td>\n",
       "      <td>2:12:35</td>\n",
       "      <td>5</td>\n",
       "      <td>5</td>\n",
       "      <td>0</td>\n",
       "      <td>2015</td>\n",
       "      <td>1</td>\n",
       "      <td>Chebet</td>\n",
       "      <td>Wilson</td>\n",
       "    </tr>\n",
       "    <tr>\n",
       "      <th>12</th>\n",
       "      <td>Keflezighi, Meb</td>\n",
       "      <td>41</td>\n",
       "      <td>M</td>\n",
       "      <td>San Diego</td>\n",
       "      <td>CA</td>\n",
       "      <td>USA</td>\n",
       "      <td>2:17:00</td>\n",
       "      <td>13</td>\n",
       "      <td>13</td>\n",
       "      <td>0</td>\n",
       "      <td>2015</td>\n",
       "      <td>1</td>\n",
       "      <td>Keflezighi</td>\n",
       "      <td>Meb</td>\n",
       "    </tr>\n",
       "    <tr>\n",
       "      <th>14</th>\n",
       "      <td>Korir, Wesley</td>\n",
       "      <td>34</td>\n",
       "      <td>M</td>\n",
       "      <td>Kitale</td>\n",
       "      <td>NaN</td>\n",
       "      <td>KEN</td>\n",
       "      <td>2:18:14</td>\n",
       "      <td>15</td>\n",
       "      <td>15</td>\n",
       "      <td>1</td>\n",
       "      <td>2015:2016</td>\n",
       "      <td>1</td>\n",
       "      <td>Korir</td>\n",
       "      <td>Wesley</td>\n",
       "    </tr>\n",
       "    <tr>\n",
       "      <th>30</th>\n",
       "      <td>Ornelas, Zachary</td>\n",
       "      <td>25</td>\n",
       "      <td>M</td>\n",
       "      <td>Ann Arbor</td>\n",
       "      <td>MI</td>\n",
       "      <td>USA</td>\n",
       "      <td>2:24:40</td>\n",
       "      <td>31</td>\n",
       "      <td>28</td>\n",
       "      <td>1</td>\n",
       "      <td>2015:2016</td>\n",
       "      <td>1</td>\n",
       "      <td>Ornelas</td>\n",
       "      <td>Zachary</td>\n",
       "    </tr>\n",
       "    <tr>\n",
       "      <th>31</th>\n",
       "      <td>Ayr, Jason M.</td>\n",
       "      <td>29</td>\n",
       "      <td>M</td>\n",
       "      <td>Allston</td>\n",
       "      <td>MA</td>\n",
       "      <td>USA</td>\n",
       "      <td>2:24:49</td>\n",
       "      <td>32</td>\n",
       "      <td>29</td>\n",
       "      <td>1</td>\n",
       "      <td>2015:2016</td>\n",
       "      <td>1</td>\n",
       "      <td>Ayr</td>\n",
       "      <td>Jason M.</td>\n",
       "    </tr>\n",
       "    <tr>\n",
       "      <th>...</th>\n",
       "      <td>...</td>\n",
       "      <td>...</td>\n",
       "      <td>...</td>\n",
       "      <td>...</td>\n",
       "      <td>...</td>\n",
       "      <td>...</td>\n",
       "      <td>...</td>\n",
       "      <td>...</td>\n",
       "      <td>...</td>\n",
       "      <td>...</td>\n",
       "      <td>...</td>\n",
       "      <td>...</td>\n",
       "      <td>...</td>\n",
       "      <td>...</td>\n",
       "    </tr>\n",
       "    <tr>\n",
       "      <th>967</th>\n",
       "      <td>Ricardi, Joshua</td>\n",
       "      <td>35</td>\n",
       "      <td>M</td>\n",
       "      <td>Covington</td>\n",
       "      <td>WA</td>\n",
       "      <td>USA</td>\n",
       "      <td>2:55:49</td>\n",
       "      <td>968</td>\n",
       "      <td>915</td>\n",
       "      <td>0</td>\n",
       "      <td>2015</td>\n",
       "      <td>1</td>\n",
       "      <td>Ricardi</td>\n",
       "      <td>Joshua</td>\n",
       "    </tr>\n",
       "    <tr>\n",
       "      <th>977</th>\n",
       "      <td>Guthals, Nathaniel</td>\n",
       "      <td>26</td>\n",
       "      <td>M</td>\n",
       "      <td>Overland Park</td>\n",
       "      <td>KS</td>\n",
       "      <td>USA</td>\n",
       "      <td>2:55:57</td>\n",
       "      <td>978</td>\n",
       "      <td>923</td>\n",
       "      <td>1</td>\n",
       "      <td>2015:2016</td>\n",
       "      <td>1</td>\n",
       "      <td>Guthals</td>\n",
       "      <td>Nathaniel</td>\n",
       "    </tr>\n",
       "    <tr>\n",
       "      <th>986</th>\n",
       "      <td>Bretz, Virgil</td>\n",
       "      <td>44</td>\n",
       "      <td>M</td>\n",
       "      <td>Mt. Kisco</td>\n",
       "      <td>NY</td>\n",
       "      <td>USA</td>\n",
       "      <td>2:56:02</td>\n",
       "      <td>987</td>\n",
       "      <td>931</td>\n",
       "      <td>1</td>\n",
       "      <td>2015:2016</td>\n",
       "      <td>1</td>\n",
       "      <td>Bretz</td>\n",
       "      <td>Virgil</td>\n",
       "    </tr>\n",
       "    <tr>\n",
       "      <th>995</th>\n",
       "      <td>Larosa, Mark</td>\n",
       "      <td>38</td>\n",
       "      <td>M</td>\n",
       "      <td>North Andover</td>\n",
       "      <td>MA</td>\n",
       "      <td>USA</td>\n",
       "      <td>2:56:06</td>\n",
       "      <td>996</td>\n",
       "      <td>940</td>\n",
       "      <td>1</td>\n",
       "      <td>2015:2016</td>\n",
       "      <td>1</td>\n",
       "      <td>Larosa</td>\n",
       "      <td>Mark</td>\n",
       "    </tr>\n",
       "    <tr>\n",
       "      <th>996</th>\n",
       "      <td>Williamson, Jerry A</td>\n",
       "      <td>43</td>\n",
       "      <td>M</td>\n",
       "      <td>Raleigh</td>\n",
       "      <td>NC</td>\n",
       "      <td>USA</td>\n",
       "      <td>2:56:06</td>\n",
       "      <td>997</td>\n",
       "      <td>941</td>\n",
       "      <td>0</td>\n",
       "      <td>2015</td>\n",
       "      <td>1</td>\n",
       "      <td>Williamson</td>\n",
       "      <td>Jerry A</td>\n",
       "    </tr>\n",
       "  </tbody>\n",
       "</table>\n",
       "<p>190 rows × 14 columns</p>\n",
       "</div>"
      ],
      "text/plain": [
       "                    Name  Age M/F           City State Country Official Time  \\\n",
       "4         Chebet, Wilson   31   M       Marakwet   NaN     KEN       2:12:35   \n",
       "12       Keflezighi, Meb   41   M      San Diego    CA     USA       2:17:00   \n",
       "14         Korir, Wesley   34   M         Kitale   NaN     KEN       2:18:14   \n",
       "30      Ornelas, Zachary   25   M      Ann Arbor    MI     USA       2:24:40   \n",
       "31         Ayr, Jason M.   29   M        Allston    MA     USA       2:24:49   \n",
       "..                   ...  ...  ..            ...   ...     ...           ...   \n",
       "967      Ricardi, Joshua   35   M      Covington    WA     USA       2:55:49   \n",
       "977   Guthals, Nathaniel   26   M  Overland Park    KS     USA       2:55:57   \n",
       "986        Bretz, Virgil   44   M      Mt. Kisco    NY     USA       2:56:02   \n",
       "995         Larosa, Mark   38   M  North Andover    MA     USA       2:56:06   \n",
       "996  Williamson, Jerry A   43   M        Raleigh    NC     USA       2:56:06   \n",
       "\n",
       "     Overall  Gender  Ran 2016  Years Ran  Ran 2015  First Name  Last Name  \n",
       "4          5       5         0       2015         1      Chebet     Wilson  \n",
       "12        13      13         0       2015         1  Keflezighi        Meb  \n",
       "14        15      15         1  2015:2016         1       Korir     Wesley  \n",
       "30        31      28         1  2015:2016         1     Ornelas    Zachary  \n",
       "31        32      29         1  2015:2016         1         Ayr   Jason M.  \n",
       "..       ...     ...       ...        ...       ...         ...        ...  \n",
       "967      968     915         0       2015         1     Ricardi     Joshua  \n",
       "977      978     923         1  2015:2016         1     Guthals  Nathaniel  \n",
       "986      987     931         1  2015:2016         1       Bretz     Virgil  \n",
       "995      996     940         1  2015:2016         1      Larosa       Mark  \n",
       "996      997     941         0       2015         1  Williamson    Jerry A  \n",
       "\n",
       "[190 rows x 14 columns]"
      ]
     },
     "execution_count": 790,
     "metadata": {},
     "output_type": "execute_result"
    }
   ],
   "source": [
    "boston.loc[mask_2015,:]"
   ]
  },
  {
   "cell_type": "code",
   "execution_count": 791,
   "metadata": {},
   "outputs": [
    {
     "data": {
      "text/plain": [
       "190"
      ]
     },
     "execution_count": 791,
     "metadata": {},
     "output_type": "execute_result"
    }
   ],
   "source": [
    "boston.loc[:,'Ran 2015'].sum()"
   ]
  },
  {
   "attachments": {},
   "cell_type": "markdown",
   "metadata": {},
   "source": [
    "# 268. Text Replacment\n",
    "#### Agenda:\n",
    "* - exact char sequence replaements in python and pandas\n",
    "* - in a couple of laectures: regex"
   ]
  },
  {
   "cell_type": "code",
   "execution_count": 792,
   "metadata": {},
   "outputs": [
    {
     "data": {
      "text/plain": [
       "'Welcome to the text manipulation section'"
      ]
     },
     "execution_count": 792,
     "metadata": {},
     "output_type": "execute_result"
    }
   ],
   "source": [
    "s"
   ]
  },
  {
   "cell_type": "code",
   "execution_count": 793,
   "metadata": {},
   "outputs": [],
   "source": [
    "s += '. This section is about text.'"
   ]
  },
  {
   "cell_type": "code",
   "execution_count": 794,
   "metadata": {},
   "outputs": [
    {
     "data": {
      "text/plain": [
       "'Welcome to the text manipulation section. This section is about text.'"
      ]
     },
     "execution_count": 794,
     "metadata": {},
     "output_type": "execute_result"
    }
   ],
   "source": [
    "s"
   ]
  },
  {
   "cell_type": "code",
   "execution_count": 795,
   "metadata": {},
   "outputs": [
    {
     "data": {
      "text/plain": [
       "'Welcome to the string manipulation section. This section is about string.'"
      ]
     },
     "execution_count": 795,
     "metadata": {},
     "output_type": "execute_result"
    }
   ],
   "source": [
    "s.replace('text', 'string')"
   ]
  },
  {
   "cell_type": "code",
   "execution_count": 796,
   "metadata": {},
   "outputs": [
    {
     "data": {
      "text/plain": [
       "'Welcome to the string manipulation section. This section is about text.'"
      ]
     },
     "execution_count": 796,
     "metadata": {},
     "output_type": "execute_result"
    }
   ],
   "source": [
    "s.replace('text', 'string', 1)"
   ]
  },
  {
   "cell_type": "code",
   "execution_count": 797,
   "metadata": {},
   "outputs": [
    {
     "data": {
      "text/html": [
       "<div>\n",
       "<style scoped>\n",
       "    .dataframe tbody tr th:only-of-type {\n",
       "        vertical-align: middle;\n",
       "    }\n",
       "\n",
       "    .dataframe tbody tr th {\n",
       "        vertical-align: top;\n",
       "    }\n",
       "\n",
       "    .dataframe thead th {\n",
       "        text-align: right;\n",
       "    }\n",
       "</style>\n",
       "<table border=\"1\" class=\"dataframe\">\n",
       "  <thead>\n",
       "    <tr style=\"text-align: right;\">\n",
       "      <th></th>\n",
       "      <th>Name</th>\n",
       "      <th>Age</th>\n",
       "      <th>M/F</th>\n",
       "      <th>City</th>\n",
       "      <th>State</th>\n",
       "      <th>Country</th>\n",
       "      <th>Official Time</th>\n",
       "      <th>Overall</th>\n",
       "      <th>Gender</th>\n",
       "      <th>Ran 2016</th>\n",
       "      <th>Years Ran</th>\n",
       "      <th>Ran 2015</th>\n",
       "      <th>First Name</th>\n",
       "      <th>Last Name</th>\n",
       "    </tr>\n",
       "  </thead>\n",
       "  <tbody>\n",
       "    <tr>\n",
       "      <th>538</th>\n",
       "      <td>Shingleton, Jeremy</td>\n",
       "      <td>38</td>\n",
       "      <td>M</td>\n",
       "      <td>New York</td>\n",
       "      <td>NY</td>\n",
       "      <td>USA</td>\n",
       "      <td>2:49:24</td>\n",
       "      <td>539</td>\n",
       "      <td>502</td>\n",
       "      <td>0</td>\n",
       "      <td>NaN</td>\n",
       "      <td>0</td>\n",
       "      <td>Shingleton</td>\n",
       "      <td>Jeremy</td>\n",
       "    </tr>\n",
       "    <tr>\n",
       "      <th>268</th>\n",
       "      <td>Rui, Ning</td>\n",
       "      <td>32</td>\n",
       "      <td>M</td>\n",
       "      <td>Gaithersburg</td>\n",
       "      <td>MD</td>\n",
       "      <td>USA</td>\n",
       "      <td>2:43:21</td>\n",
       "      <td>269</td>\n",
       "      <td>244</td>\n",
       "      <td>0</td>\n",
       "      <td>2015</td>\n",
       "      <td>1</td>\n",
       "      <td>Rui</td>\n",
       "      <td>Ning</td>\n",
       "    </tr>\n",
       "    <tr>\n",
       "      <th>954</th>\n",
       "      <td>Royston, J. P. II</td>\n",
       "      <td>39</td>\n",
       "      <td>M</td>\n",
       "      <td>Orlando</td>\n",
       "      <td>FL</td>\n",
       "      <td>USA</td>\n",
       "      <td>2:55:38</td>\n",
       "      <td>955</td>\n",
       "      <td>902</td>\n",
       "      <td>0</td>\n",
       "      <td>NaN</td>\n",
       "      <td>0</td>\n",
       "      <td>Royston</td>\n",
       "      <td>J. P. II</td>\n",
       "    </tr>\n",
       "    <tr>\n",
       "      <th>310</th>\n",
       "      <td>Rabe, Michael</td>\n",
       "      <td>37</td>\n",
       "      <td>M</td>\n",
       "      <td>Anchorage</td>\n",
       "      <td>AK</td>\n",
       "      <td>USA</td>\n",
       "      <td>2:44:31</td>\n",
       "      <td>311</td>\n",
       "      <td>284</td>\n",
       "      <td>0</td>\n",
       "      <td>NaN</td>\n",
       "      <td>0</td>\n",
       "      <td>Rabe</td>\n",
       "      <td>Michael</td>\n",
       "    </tr>\n",
       "    <tr>\n",
       "      <th>578</th>\n",
       "      <td>Lemelman, Daniel</td>\n",
       "      <td>26</td>\n",
       "      <td>M</td>\n",
       "      <td>Monroe Twp.</td>\n",
       "      <td>NJ</td>\n",
       "      <td>USA</td>\n",
       "      <td>2:49:52</td>\n",
       "      <td>579</td>\n",
       "      <td>541</td>\n",
       "      <td>0</td>\n",
       "      <td>NaN</td>\n",
       "      <td>0</td>\n",
       "      <td>Lemelman</td>\n",
       "      <td>Daniel</td>\n",
       "    </tr>\n",
       "    <tr>\n",
       "      <th>291</th>\n",
       "      <td>Ames, Tyler</td>\n",
       "      <td>26</td>\n",
       "      <td>M</td>\n",
       "      <td>Columbus</td>\n",
       "      <td>OH</td>\n",
       "      <td>USA</td>\n",
       "      <td>2:43:56</td>\n",
       "      <td>292</td>\n",
       "      <td>266</td>\n",
       "      <td>0</td>\n",
       "      <td>NaN</td>\n",
       "      <td>0</td>\n",
       "      <td>Ames</td>\n",
       "      <td>Tyler</td>\n",
       "    </tr>\n",
       "    <tr>\n",
       "      <th>968</th>\n",
       "      <td>Agnew, Jeremy</td>\n",
       "      <td>41</td>\n",
       "      <td>M</td>\n",
       "      <td>London</td>\n",
       "      <td>NaN</td>\n",
       "      <td>GBR</td>\n",
       "      <td>2:55:51</td>\n",
       "      <td>969</td>\n",
       "      <td>916</td>\n",
       "      <td>0</td>\n",
       "      <td>NaN</td>\n",
       "      <td>0</td>\n",
       "      <td>Agnew</td>\n",
       "      <td>Jeremy</td>\n",
       "    </tr>\n",
       "    <tr>\n",
       "      <th>523</th>\n",
       "      <td>Mininger, Norman H</td>\n",
       "      <td>32</td>\n",
       "      <td>M</td>\n",
       "      <td>Lansing</td>\n",
       "      <td>KS</td>\n",
       "      <td>USA</td>\n",
       "      <td>2:49:07</td>\n",
       "      <td>524</td>\n",
       "      <td>487</td>\n",
       "      <td>1</td>\n",
       "      <td>2016</td>\n",
       "      <td>0</td>\n",
       "      <td>Mininger</td>\n",
       "      <td>Norman H</td>\n",
       "    </tr>\n",
       "    <tr>\n",
       "      <th>24</th>\n",
       "      <td>Hasay, Jordan</td>\n",
       "      <td>25</td>\n",
       "      <td>F</td>\n",
       "      <td>Beaverton</td>\n",
       "      <td>OR</td>\n",
       "      <td>USA</td>\n",
       "      <td>2:23:00</td>\n",
       "      <td>25</td>\n",
       "      <td>3</td>\n",
       "      <td>0</td>\n",
       "      <td>NaN</td>\n",
       "      <td>0</td>\n",
       "      <td>Hasay</td>\n",
       "      <td>Jordan</td>\n",
       "    </tr>\n",
       "    <tr>\n",
       "      <th>102</th>\n",
       "      <td>Nurse, Ian</td>\n",
       "      <td>39</td>\n",
       "      <td>M</td>\n",
       "      <td>Brookline</td>\n",
       "      <td>MA</td>\n",
       "      <td>USA</td>\n",
       "      <td>2:35:41</td>\n",
       "      <td>103</td>\n",
       "      <td>91</td>\n",
       "      <td>0</td>\n",
       "      <td>NaN</td>\n",
       "      <td>0</td>\n",
       "      <td>Nurse</td>\n",
       "      <td>Ian</td>\n",
       "    </tr>\n",
       "  </tbody>\n",
       "</table>\n",
       "</div>"
      ],
      "text/plain": [
       "                   Name  Age M/F          City State Country Official Time  \\\n",
       "538  Shingleton, Jeremy   38   M      New York    NY     USA       2:49:24   \n",
       "268           Rui, Ning   32   M  Gaithersburg    MD     USA       2:43:21   \n",
       "954   Royston, J. P. II   39   M       Orlando    FL     USA       2:55:38   \n",
       "310       Rabe, Michael   37   M     Anchorage    AK     USA       2:44:31   \n",
       "578    Lemelman, Daniel   26   M   Monroe Twp.    NJ     USA       2:49:52   \n",
       "291         Ames, Tyler   26   M      Columbus    OH     USA       2:43:56   \n",
       "968       Agnew, Jeremy   41   M        London   NaN     GBR       2:55:51   \n",
       "523  Mininger, Norman H   32   M       Lansing    KS     USA       2:49:07   \n",
       "24        Hasay, Jordan   25   F     Beaverton    OR     USA       2:23:00   \n",
       "102          Nurse, Ian   39   M     Brookline    MA     USA       2:35:41   \n",
       "\n",
       "     Overall  Gender  Ran 2016 Years Ran  Ran 2015  First Name Last Name  \n",
       "538      539     502         0       NaN         0  Shingleton    Jeremy  \n",
       "268      269     244         0      2015         1         Rui      Ning  \n",
       "954      955     902         0       NaN         0     Royston  J. P. II  \n",
       "310      311     284         0       NaN         0        Rabe   Michael  \n",
       "578      579     541         0       NaN         0    Lemelman    Daniel  \n",
       "291      292     266         0       NaN         0        Ames     Tyler  \n",
       "968      969     916         0       NaN         0       Agnew    Jeremy  \n",
       "523      524     487         1      2016         0    Mininger  Norman H  \n",
       "24        25       3         0       NaN         0       Hasay    Jordan  \n",
       "102      103      91         0       NaN         0       Nurse       Ian  "
      ]
     },
     "execution_count": 797,
     "metadata": {},
     "output_type": "execute_result"
    }
   ],
   "source": [
    "boston.sample(10)"
   ]
  },
  {
   "cell_type": "code",
   "execution_count": 798,
   "metadata": {},
   "outputs": [
    {
     "data": {
      "text/plain": [
       "Male      944\n",
       "Female     56\n",
       "Name: M/F, dtype: int64"
      ]
     },
     "execution_count": 798,
     "metadata": {},
     "output_type": "execute_result"
    }
   ],
   "source": [
    "boston['M/F'].str.replace(\"F\",\"Female\").str.replace('M','Male').value_counts()"
   ]
  },
  {
   "cell_type": "code",
   "execution_count": 799,
   "metadata": {},
   "outputs": [],
   "source": [
    "boston['M/F'] = boston['M/F'].str.replace(\"F\",\"Female\").str.replace('M','Male')"
   ]
  },
  {
   "cell_type": "code",
   "execution_count": 800,
   "metadata": {},
   "outputs": [
    {
     "data": {
      "text/html": [
       "<div>\n",
       "<style scoped>\n",
       "    .dataframe tbody tr th:only-of-type {\n",
       "        vertical-align: middle;\n",
       "    }\n",
       "\n",
       "    .dataframe tbody tr th {\n",
       "        vertical-align: top;\n",
       "    }\n",
       "\n",
       "    .dataframe thead th {\n",
       "        text-align: right;\n",
       "    }\n",
       "</style>\n",
       "<table border=\"1\" class=\"dataframe\">\n",
       "  <thead>\n",
       "    <tr style=\"text-align: right;\">\n",
       "      <th></th>\n",
       "      <th>Name</th>\n",
       "      <th>Age</th>\n",
       "      <th>M/F</th>\n",
       "      <th>City</th>\n",
       "      <th>State</th>\n",
       "      <th>Country</th>\n",
       "      <th>Official Time</th>\n",
       "      <th>Overall</th>\n",
       "      <th>Gender</th>\n",
       "      <th>Ran 2016</th>\n",
       "      <th>Years Ran</th>\n",
       "      <th>Ran 2015</th>\n",
       "      <th>First Name</th>\n",
       "      <th>Last Name</th>\n",
       "    </tr>\n",
       "  </thead>\n",
       "  <tbody>\n",
       "    <tr>\n",
       "      <th>159</th>\n",
       "      <td>Philbrook, Lauren</td>\n",
       "      <td>29</td>\n",
       "      <td>Female</td>\n",
       "      <td>Auburn</td>\n",
       "      <td>AL</td>\n",
       "      <td>USA</td>\n",
       "      <td>2:38:48</td>\n",
       "      <td>160</td>\n",
       "      <td>20</td>\n",
       "      <td>0</td>\n",
       "      <td>2015</td>\n",
       "      <td>1</td>\n",
       "      <td>Philbrook</td>\n",
       "      <td>Lauren</td>\n",
       "    </tr>\n",
       "    <tr>\n",
       "      <th>678</th>\n",
       "      <td>Melendez, Carlos Manuel M. Sr.</td>\n",
       "      <td>38</td>\n",
       "      <td>Male</td>\n",
       "      <td>Quesada, San Carlos</td>\n",
       "      <td>NaN</td>\n",
       "      <td>CRC</td>\n",
       "      <td>2:51:45</td>\n",
       "      <td>679</td>\n",
       "      <td>639</td>\n",
       "      <td>0</td>\n",
       "      <td>NaN</td>\n",
       "      <td>0</td>\n",
       "      <td>Melendez</td>\n",
       "      <td>Carlos Manuel M. Sr.</td>\n",
       "    </tr>\n",
       "    <tr>\n",
       "      <th>647</th>\n",
       "      <td>Ruiz Rodriguez, Carlos</td>\n",
       "      <td>39</td>\n",
       "      <td>Male</td>\n",
       "      <td>Málaga</td>\n",
       "      <td>NaN</td>\n",
       "      <td>ESP</td>\n",
       "      <td>2:51:10</td>\n",
       "      <td>648</td>\n",
       "      <td>608</td>\n",
       "      <td>0</td>\n",
       "      <td>NaN</td>\n",
       "      <td>0</td>\n",
       "      <td>Ruiz Rodriguez</td>\n",
       "      <td>Carlos</td>\n",
       "    </tr>\n",
       "    <tr>\n",
       "      <th>879</th>\n",
       "      <td>Gamble, Charlie E</td>\n",
       "      <td>29</td>\n",
       "      <td>Male</td>\n",
       "      <td>San Diego</td>\n",
       "      <td>CA</td>\n",
       "      <td>USA</td>\n",
       "      <td>2:54:45</td>\n",
       "      <td>880</td>\n",
       "      <td>831</td>\n",
       "      <td>0</td>\n",
       "      <td>NaN</td>\n",
       "      <td>0</td>\n",
       "      <td>Gamble</td>\n",
       "      <td>Charlie E</td>\n",
       "    </tr>\n",
       "    <tr>\n",
       "      <th>545</th>\n",
       "      <td>Leblanc, Daniel</td>\n",
       "      <td>40</td>\n",
       "      <td>Male</td>\n",
       "      <td>Dieppe</td>\n",
       "      <td>NB</td>\n",
       "      <td>CAN</td>\n",
       "      <td>2:49:28</td>\n",
       "      <td>546</td>\n",
       "      <td>509</td>\n",
       "      <td>1</td>\n",
       "      <td>2016</td>\n",
       "      <td>0</td>\n",
       "      <td>Leblanc</td>\n",
       "      <td>Daniel</td>\n",
       "    </tr>\n",
       "    <tr>\n",
       "      <th>966</th>\n",
       "      <td>Mitchell, Dustin T</td>\n",
       "      <td>22</td>\n",
       "      <td>Male</td>\n",
       "      <td>Lexington</td>\n",
       "      <td>KY</td>\n",
       "      <td>USA</td>\n",
       "      <td>2:55:48</td>\n",
       "      <td>967</td>\n",
       "      <td>914</td>\n",
       "      <td>0</td>\n",
       "      <td>NaN</td>\n",
       "      <td>0</td>\n",
       "      <td>Mitchell</td>\n",
       "      <td>Dustin T</td>\n",
       "    </tr>\n",
       "    <tr>\n",
       "      <th>728</th>\n",
       "      <td>Rama Gómez, Iván Sr.</td>\n",
       "      <td>35</td>\n",
       "      <td>Male</td>\n",
       "      <td>Mislata (valencia)</td>\n",
       "      <td>NaN</td>\n",
       "      <td>ESP</td>\n",
       "      <td>2:52:33</td>\n",
       "      <td>729</td>\n",
       "      <td>686</td>\n",
       "      <td>0</td>\n",
       "      <td>NaN</td>\n",
       "      <td>0</td>\n",
       "      <td>Rama Gómez</td>\n",
       "      <td>Iván Sr.</td>\n",
       "    </tr>\n",
       "    <tr>\n",
       "      <th>831</th>\n",
       "      <td>Tarbell, Kody M.</td>\n",
       "      <td>24</td>\n",
       "      <td>Male</td>\n",
       "      <td>Portland</td>\n",
       "      <td>OR</td>\n",
       "      <td>USA</td>\n",
       "      <td>2:54:04</td>\n",
       "      <td>832</td>\n",
       "      <td>785</td>\n",
       "      <td>0</td>\n",
       "      <td>NaN</td>\n",
       "      <td>0</td>\n",
       "      <td>Tarbell</td>\n",
       "      <td>Kody M.</td>\n",
       "    </tr>\n",
       "    <tr>\n",
       "      <th>948</th>\n",
       "      <td>Trampe, Travis</td>\n",
       "      <td>44</td>\n",
       "      <td>Male</td>\n",
       "      <td>Fort Collins</td>\n",
       "      <td>CO</td>\n",
       "      <td>USA</td>\n",
       "      <td>2:55:34</td>\n",
       "      <td>949</td>\n",
       "      <td>896</td>\n",
       "      <td>1</td>\n",
       "      <td>2015:2016</td>\n",
       "      <td>1</td>\n",
       "      <td>Trampe</td>\n",
       "      <td>Travis</td>\n",
       "    </tr>\n",
       "  </tbody>\n",
       "</table>\n",
       "</div>"
      ],
      "text/plain": [
       "                               Name  Age     M/F                 City State  \\\n",
       "159               Philbrook, Lauren   29  Female               Auburn    AL   \n",
       "678  Melendez, Carlos Manuel M. Sr.   38    Male  Quesada, San Carlos   NaN   \n",
       "647          Ruiz Rodriguez, Carlos   39    Male               Málaga   NaN   \n",
       "879               Gamble, Charlie E   29    Male            San Diego    CA   \n",
       "545                 Leblanc, Daniel   40    Male               Dieppe    NB   \n",
       "966              Mitchell, Dustin T   22    Male            Lexington    KY   \n",
       "728            Rama Gómez, Iván Sr.   35    Male   Mislata (valencia)   NaN   \n",
       "831                Tarbell, Kody M.   24    Male             Portland    OR   \n",
       "948                  Trampe, Travis   44    Male         Fort Collins    CO   \n",
       "\n",
       "    Country Official Time  Overall  Gender  Ran 2016  Years Ran  Ran 2015  \\\n",
       "159     USA       2:38:48      160      20         0       2015         1   \n",
       "678     CRC       2:51:45      679     639         0        NaN         0   \n",
       "647     ESP       2:51:10      648     608         0        NaN         0   \n",
       "879     USA       2:54:45      880     831         0        NaN         0   \n",
       "545     CAN       2:49:28      546     509         1       2016         0   \n",
       "966     USA       2:55:48      967     914         0        NaN         0   \n",
       "728     ESP       2:52:33      729     686         0        NaN         0   \n",
       "831     USA       2:54:04      832     785         0        NaN         0   \n",
       "948     USA       2:55:34      949     896         1  2015:2016         1   \n",
       "\n",
       "         First Name             Last Name  \n",
       "159       Philbrook                Lauren  \n",
       "678        Melendez  Carlos Manuel M. Sr.  \n",
       "647  Ruiz Rodriguez                Carlos  \n",
       "879          Gamble             Charlie E  \n",
       "545         Leblanc                Daniel  \n",
       "966        Mitchell              Dustin T  \n",
       "728      Rama Gómez              Iván Sr.  \n",
       "831         Tarbell               Kody M.  \n",
       "948          Trampe                Travis  "
      ]
     },
     "execution_count": 800,
     "metadata": {},
     "output_type": "execute_result"
    }
   ],
   "source": [
    "boston.sample(9)"
   ]
  },
  {
   "attachments": {},
   "cell_type": "markdown",
   "metadata": {},
   "source": [
    "Case-insensitive replacements"
   ]
  },
  {
   "cell_type": "code",
   "execution_count": 801,
   "metadata": {},
   "outputs": [
    {
     "data": {
      "text/plain": [
       "USA    744\n",
       "CAN     63\n",
       "GBR     30\n",
       "BRA     12\n",
       "FRA     11\n",
       "JPN     10\n",
       "MEX     10\n",
       "COL      9\n",
       "SUI      8\n",
       "GER      8\n",
       "KEN      8\n",
       "CRC      7\n",
       "ESP      6\n",
       "AUS      6\n",
       "ETH      5\n",
       "TWN      5\n",
       "CHN      4\n",
       "DEN      4\n",
       "PER      4\n",
       "IRL      4\n",
       "ITA      4\n",
       "CHI      4\n",
       "POL      3\n",
       "DOM      3\n",
       "HKG      3\n",
       "NED      3\n",
       "RUS      2\n",
       "GUA      2\n",
       "NZL      2\n",
       "NOR      2\n",
       "SLO      1\n",
       "RSA      1\n",
       "ARG      1\n",
       "SIN      1\n",
       "POR      1\n",
       "AUT      1\n",
       "PHI      1\n",
       "MAS      1\n",
       "PAN      1\n",
       "BEL      1\n",
       "BDI      1\n",
       "BRN      1\n",
       "ZIM      1\n",
       "EST      1\n",
       "Name: Country, dtype: int64"
      ]
     },
     "execution_count": 801,
     "metadata": {},
     "output_type": "execute_result"
    }
   ],
   "source": [
    "boston.Country.str.replace('UsA', ' United States').value_counts()"
   ]
  },
  {
   "cell_type": "code",
   "execution_count": 802,
   "metadata": {},
   "outputs": [
    {
     "data": {
      "text/plain": [
       "United States    744\n",
       "CAN               63\n",
       "GBR               30\n",
       "BRA               12\n",
       "FRA               11\n",
       "JPN               10\n",
       "MEX               10\n",
       "COL                9\n",
       "SUI                8\n",
       "GER                8\n",
       "KEN                8\n",
       "CRC                7\n",
       "ESP                6\n",
       "AUS                6\n",
       "ETH                5\n",
       "TWN                5\n",
       "CHN                4\n",
       "DEN                4\n",
       "PER                4\n",
       "IRL                4\n",
       "ITA                4\n",
       "CHI                4\n",
       "POL                3\n",
       "DOM                3\n",
       "HKG                3\n",
       "NED                3\n",
       "RUS                2\n",
       "GUA                2\n",
       "NZL                2\n",
       "NOR                2\n",
       "SLO                1\n",
       "RSA                1\n",
       "ARG                1\n",
       "SIN                1\n",
       "POR                1\n",
       "AUT                1\n",
       "PHI                1\n",
       "MAS                1\n",
       "PAN                1\n",
       "BEL                1\n",
       "BDI                1\n",
       "BRN                1\n",
       "ZIM                1\n",
       "EST                1\n",
       "Name: Country, dtype: int64"
      ]
     },
     "execution_count": 802,
     "metadata": {},
     "output_type": "execute_result"
    }
   ],
   "source": [
    "boston.Country.str.replace('UsA','United States', case=False).value_counts()"
   ]
  },
  {
   "attachments": {},
   "cell_type": "markdown",
   "metadata": {},
   "source": [
    "# 269. Introduction to regular expressions\n",
    "* Regular expressions (regex) help us define higly complex text patterns.\n",
    "* Regular expressions are not exlusive to python; they are supported by many programing languages.\n",
    "* Our regex playground: [regex101.com](regex101.com)"
   ]
  },
  {
   "attachments": {},
   "cell_type": "markdown",
   "metadata": {},
   "source": [
    "My phone number is 647 489 2931.\n",
    "\n",
    "Just kidding this is not my actual phone number."
   ]
  },
  {
   "attachments": {},
   "cell_type": "markdown",
   "metadata": {},
   "source": [
    "\\d+\\s?"
   ]
  },
  {
   "attachments": {},
   "cell_type": "markdown",
   "metadata": {},
   "source": [
    "[regex101](https://regex101.com/r/nbrXLR/1)"
   ]
  },
  {
   "attachments": {},
   "cell_type": "markdown",
   "metadata": {},
   "source": [
    "\\D+ [regex101](https://regex101.com/r/A80dGM/1)"
   ]
  },
  {
   "attachments": {},
   "cell_type": "markdown",
   "metadata": {},
   "source": [
    "\\S+ [regex101](https://regex101.com/r/bdGZeG/1)"
   ]
  },
  {
   "attachments": {},
   "cell_type": "markdown",
   "metadata": {},
   "source": [
    "# 270. More Regex Concpets"
   ]
  },
  {
   "attachments": {},
   "cell_type": "markdown",
   "metadata": {},
   "source": [
    "Andrew i a swimmer. He likes dogs. \n",
    "\n",
    "Anna is a software engineer engineer. She reads logs."
   ]
  },
  {
   "attachments": {},
   "cell_type": "markdown",
   "metadata": {},
   "source": [
    "[^dl]ogs [regex101.com](https://regex101.com/r/t9BdIo/1)"
   ]
  },
  {
   "attachments": {},
   "cell_type": "markdown",
   "metadata": {},
   "source": [
    "[b-i]ogs [regex101.com](https://regex101.com/r/cl2y60/1)\n",
    "\n",
    "Andrew i a swimmer. He likes dogs. \n",
    "\n",
    "Anna is a software engineer engineer. She reads logs.\n",
    "\n",
    "fogs  \n",
    "bogs  \n",
    "togs  \n",
    "dogs"
   ]
  },
  {
   "attachments": {},
   "cell_type": "markdown",
   "metadata": {},
   "source": [
    "[a-zA-Z]ogs [regex101.com](https://regex101.com/r/ImZCQi/1)"
   ]
  },
  {
   "attachments": {},
   "cell_type": "markdown",
   "metadata": {},
   "source": [
    "[a-zA-Z]+ [regex101.com](https://regex101.com/r/ndo1Ve/1)"
   ]
  },
  {
   "attachments": {},
   "cell_type": "markdown",
   "metadata": {},
   "source": [
    "([a-zA-Z]+er) [regex101.comm](https://regex101.com/r/JSTxpg/1)\n",
    "\n",
    "> Andrew i a swimmer. He likes dogs. \n",
    "> \n",
    "> Anna is a software engineer engineer. She reads logs.\n",
    "> \n",
    "> fogs\n",
    "> bogs\n",
    "> togs\n",
    "> dogs\n",
    "> \n",
    "> character sets -> []\n",
    "> capturing group -> ()"
   ]
  },
  {
   "attachments": {},
   "cell_type": "markdown",
   "metadata": {},
   "source": [
    "(\\w+er) [regex101.com](https://regex101.com/r/JqZI9T/1)"
   ]
  },
  {
   "attachments": {},
   "cell_type": "markdown",
   "metadata": {},
   "source": [
    "(\\w+er) \\1  \n",
    "[regex101.com](https://regex101.com/r/ySXAZs/1)  \n",
    "[regex101.com](https://regex101.com/r/9naCId/1)"
   ]
  },
  {
   "attachments": {},
   "cell_type": "markdown",
   "metadata": {},
   "source": [
    "# 271. How to approach Regex?"
   ]
  },
  {
   "attachments": {},
   "cell_type": "markdown",
   "metadata": {},
   "source": [
    "Anna's number is 416 399 9302.\n",
    "\n",
    "Andy knows Anna. He also walks dogs. \n",
    "\n",
    "Third line. Andrew is a swimmer. He likes dogs. End."
   ]
  },
  {
   "attachments": {},
   "cell_type": "markdown",
   "metadata": {},
   "source": [
    "Quantifiers: a{2,}"
   ]
  },
  {
   "attachments": {},
   "cell_type": "markdown",
   "metadata": {},
   "source": [
    "\\d{4} [regex101.com](https://regex101.com/r/3sfQ7s/1)"
   ]
  },
  {
   "attachments": {},
   "cell_type": "markdown",
   "metadata": {},
   "source": [
    "\\d{3,4} [regex101.com](https://regex101.com/r/VmlAiR/1)"
   ]
  },
  {
   "attachments": {},
   "cell_type": "markdown",
   "metadata": {},
   "source": [
    "## Anchors: are used to control the word and line boundaries in general."
   ]
  },
  {
   "attachments": {},
   "cell_type": "markdown",
   "metadata": {},
   "source": [
    "^A.+dogs\\.$ [regex101.com](https://regex101.com/r/W1n4ZW/1)"
   ]
  },
  {
   "attachments": {},
   "cell_type": "markdown",
   "metadata": {},
   "source": [
    "Anna's number is 416 399 9302.\n",
    "\n",
    "Andy knows Anna. He also walks dogs.\n",
    "\n",
    "Third line. Andrew is a swimmer. He likes dogs. End.\n",
    "\n",
    "pw criteria:\n",
    "- minimum 10 characters\n",
    "- must contain a letter and anumber\n",
    "\n",
    "andyandy  \n",
    "andyandy9p  \n",
    "1231249dfs931  \n",
    "12312902309  \n"
   ]
  },
  {
   "attachments": {},
   "cell_type": "markdown",
   "metadata": {},
   "source": [
    "## pass check\n",
    "\n",
    "[StackOverflow](https://stackoverflow.com/questions/19605150/regex-for-password-must-contain-at-least-eight-characters-at-least-one-number-a)\n",
    "\n",
    "^(?=.*[A-Za-z])(?=.*\\d)[A-Za-z\\d]{8,}$\n",
    "\n",
    "[regex101.com](https://regex101.com/r/zNsG1m/1)"
   ]
  },
  {
   "attachments": {},
   "cell_type": "markdown",
   "metadata": {},
   "source": [
    "# 272. It This A valid Email?"
   ]
  },
  {
   "attachments": {},
   "cell_type": "markdown",
   "metadata": {},
   "source": [
    "Agenda:  \n",
    "* the re module\n",
    "* email regex\n",
    "* pitafalls\n",
    "* additional resources: https://emailregex.com/"
   ]
  },
  {
   "cell_type": "code",
   "execution_count": 804,
   "metadata": {},
   "outputs": [],
   "source": [
    "import re"
   ]
  },
  {
   "attachments": {},
   "cell_type": "markdown",
   "metadata": {},
   "source": [
    "\\w\\S*@.*\\w [regex101.com](https://regex101.com/r/bGqfvP/1)\n",
    "\n",
    "hey@andybek.com\n",
    "\n",
    "andy@howtopandas.com"
   ]
  },
  {
   "cell_type": "code",
   "execution_count": 805,
   "metadata": {},
   "outputs": [],
   "source": [
    "pattern = r\"\\w\\S*@.*\\w\""
   ]
  },
  {
   "cell_type": "code",
   "execution_count": 806,
   "metadata": {},
   "outputs": [
    {
     "data": {
      "text/plain": [
       "['andy@howtopandas.com']"
      ]
     },
     "execution_count": 806,
     "metadata": {},
     "output_type": "execute_result"
    }
   ],
   "source": [
    "emial = 'andy@howtopandas.com'\n",
    "re.findall(pattern, emial)"
   ]
  },
  {
   "cell_type": "code",
   "execution_count": 808,
   "metadata": {},
   "outputs": [
    {
     "data": {
      "text/plain": [
       "[]"
      ]
     },
     "execution_count": 808,
     "metadata": {},
     "output_type": "execute_result"
    }
   ],
   "source": [
    "domain = 'howtopandas.com'\n",
    "re.findall(pattern, domain)"
   ]
  },
  {
   "cell_type": "code",
   "execution_count": 809,
   "metadata": {},
   "outputs": [],
   "source": [
    "obfuscated_email = \"******@gmail.com\""
   ]
  },
  {
   "cell_type": "code",
   "execution_count": 810,
   "metadata": {},
   "outputs": [
    {
     "data": {
      "text/plain": [
       "'andy@howtopandas.com'"
      ]
     },
     "execution_count": 810,
     "metadata": {},
     "output_type": "execute_result"
    }
   ],
   "source": [
    "emial"
   ]
  },
  {
   "attachments": {},
   "cell_type": "markdown",
   "metadata": {},
   "source": [
    "How to start with email and anonmize it.\n",
    "* start with an actually valid email\n",
    "* capture the domain part of the email\n",
    "* replace everything exept the captured group"
   ]
  },
  {
   "cell_type": "code",
   "execution_count": 811,
   "metadata": {},
   "outputs": [],
   "source": [
    "pattern_domain = r\"\\w\\S*(@.*\\w)\""
   ]
  },
  {
   "cell_type": "code",
   "execution_count": 812,
   "metadata": {},
   "outputs": [
    {
     "data": {
      "text/plain": [
       "'*****@howtopandas.com'"
      ]
     },
     "execution_count": 812,
     "metadata": {},
     "output_type": "execute_result"
    }
   ],
   "source": [
    "obfuscation_pattern = r'*****\\1'\n",
    "re.sub(pattern_domain, obfuscation_pattern ,emial)"
   ]
  },
  {
   "cell_type": "code",
   "execution_count": 813,
   "metadata": {},
   "outputs": [],
   "source": [
    "robust_pattern = re.compile(r'(^[a-zA-Z0-9_.+-]+@[a-zA-Z0-9-.]+$)')"
   ]
  },
  {
   "cell_type": "code",
   "execution_count": 814,
   "metadata": {},
   "outputs": [
    {
     "data": {
      "text/plain": [
       "re.compile(r'(^[a-zA-Z0-9_.+-]+@[a-zA-Z0-9-.]+$)', re.UNICODE)"
      ]
     },
     "execution_count": 814,
     "metadata": {},
     "output_type": "execute_result"
    }
   ],
   "source": [
    "robust_pattern"
   ]
  },
  {
   "cell_type": "code",
   "execution_count": 815,
   "metadata": {},
   "outputs": [],
   "source": [
    "email2 = \"andy@andy@andy.com\""
   ]
  },
  {
   "cell_type": "code",
   "execution_count": 816,
   "metadata": {},
   "outputs": [
    {
     "data": {
      "text/plain": [
       "['andy@andy@andy.com']"
      ]
     },
     "execution_count": 816,
     "metadata": {},
     "output_type": "execute_result"
    }
   ],
   "source": [
    "re.findall(pattern, email2)"
   ]
  },
  {
   "cell_type": "code",
   "execution_count": 817,
   "metadata": {},
   "outputs": [
    {
     "data": {
      "text/plain": [
       "[]"
      ]
     },
     "execution_count": 817,
     "metadata": {},
     "output_type": "execute_result"
    }
   ],
   "source": [
    "re.findall(robust_pattern, email2)"
   ]
  },
  {
   "cell_type": "code",
   "execution_count": 819,
   "metadata": {},
   "outputs": [
    {
     "data": {
      "text/plain": [
       "['@andy.com']"
      ]
     },
     "execution_count": 819,
     "metadata": {},
     "output_type": "execute_result"
    }
   ],
   "source": [
    "re.findall(pattern_domain, email2)"
   ]
  },
  {
   "cell_type": "code",
   "execution_count": 820,
   "metadata": {},
   "outputs": [
    {
     "data": {
      "text/plain": [
       "['andy@andy@andy.com']"
      ]
     },
     "execution_count": 820,
     "metadata": {},
     "output_type": "execute_result"
    }
   ],
   "source": [
    "re.findall(pattern, email2)"
   ]
  },
  {
   "cell_type": "code",
   "execution_count": null,
   "metadata": {},
   "outputs": [],
   "source": []
  }
 ],
 "metadata": {
  "kernelspec": {
   "display_name": "Python 3.11.0 64-bit",
   "language": "python",
   "name": "python3"
  },
  "language_info": {
   "codemirror_mode": {
    "name": "ipython",
    "version": 3
   },
   "file_extension": ".py",
   "mimetype": "text/x-python",
   "name": "python",
   "nbconvert_exporter": "python",
   "pygments_lexer": "ipython3",
   "version": "3.11.0"
  },
  "orig_nbformat": 4,
  "vscode": {
   "interpreter": {
    "hash": "aee8b7b246df8f9039afb4144a1f6fd8d2ca17a180786b69acc140d282b71a49"
   }
  }
 },
 "nbformat": 4,
 "nbformat_minor": 2
}
