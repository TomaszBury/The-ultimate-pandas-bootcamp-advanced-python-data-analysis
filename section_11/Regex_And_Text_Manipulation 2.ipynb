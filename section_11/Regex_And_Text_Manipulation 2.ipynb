{
  "cells": [
    {
      "cell_type": "code",
      "execution_count": 6,
      "metadata": {
        "colab": {},
        "colab_type": "code",
        "id": "bR-LITVbMZpw"
      },
      "outputs": [],
      "source": [
        "import pandas as pd\n",
        "import numpy as np"
      ]
    },
    {
      "cell_type": "code",
      "execution_count": 7,
      "metadata": {
        "colab": {
          "base_uri": "https://localhost:8080/",
          "height": 34
        },
        "colab_type": "code",
        "id": "pNY-kJqBMbrZ",
        "outputId": "02bbb34f-1b78-4365-8b22-0e06c5b66843"
      },
      "outputs": [
        {
          "data": {
            "text/plain": [
              "'1.5.1'"
            ]
          },
          "execution_count": 7,
          "metadata": {},
          "output_type": "execute_result"
        }
      ],
      "source": [
        "pd.__version__"
      ]
    },
    {
      "cell_type": "markdown",
      "metadata": {
        "colab_type": "text",
        "id": "YqwIwZSeMcp6"
      },
      "source": [
        "#### Our Data: Boston Marathon Runners"
      ]
    },
    {
      "cell_type": "markdown",
      "metadata": {
        "colab_type": "text",
        "id": "bPwxWSaVMeql"
      },
      "source": [
        "\n",
        "> https://andybek.com/pandas-marathon\n",
        "\n",
        "*...also attached as a resource!*\n"
      ]
    },
    {
      "cell_type": "code",
      "execution_count": 8,
      "metadata": {
        "colab": {},
        "colab_type": "code",
        "id": "pRzqmnjbUcme"
      },
      "outputs": [],
      "source": [
        "boston_url = 'https://andybek.com/pandas-marathon'"
      ]
    },
    {
      "cell_type": "code",
      "execution_count": 9,
      "metadata": {
        "colab": {},
        "colab_type": "code",
        "id": "jyMhQWWaUf1l"
      },
      "outputs": [],
      "source": [
        "import ssl\n",
        "ssl._create_default_https_context = ssl._create_unverified_context\n",
        "\n",
        "boston = pd.read_csv(boston_url)"
      ]
    },
    {
      "cell_type": "code",
      "execution_count": 10,
      "metadata": {
        "colab": {
          "base_uri": "https://localhost:8080/"
        },
        "colab_type": "code",
        "id": "lSNdBwaUUhgm",
        "outputId": "d6ef7d7d-a7f2-4247-fd44-a2cace6ba249"
      },
      "outputs": [
        {
          "data": {
            "text/html": [
              "<div>\n",
              "<style scoped>\n",
              "    .dataframe tbody tr th:only-of-type {\n",
              "        vertical-align: middle;\n",
              "    }\n",
              "\n",
              "    .dataframe tbody tr th {\n",
              "        vertical-align: top;\n",
              "    }\n",
              "\n",
              "    .dataframe thead th {\n",
              "        text-align: right;\n",
              "    }\n",
              "</style>\n",
              "<table border=\"1\" class=\"dataframe\">\n",
              "  <thead>\n",
              "    <tr style=\"text-align: right;\">\n",
              "      <th></th>\n",
              "      <th>Name</th>\n",
              "      <th>Age</th>\n",
              "      <th>M/F</th>\n",
              "      <th>City</th>\n",
              "      <th>State</th>\n",
              "      <th>Country</th>\n",
              "      <th>Official Time</th>\n",
              "      <th>Overall</th>\n",
              "      <th>Gender</th>\n",
              "      <th>Years Ran</th>\n",
              "    </tr>\n",
              "  </thead>\n",
              "  <tbody>\n",
              "    <tr>\n",
              "      <th>0</th>\n",
              "      <td>Kirui, Geoffrey</td>\n",
              "      <td>24</td>\n",
              "      <td>M</td>\n",
              "      <td>Keringet</td>\n",
              "      <td>NaN</td>\n",
              "      <td>KEN</td>\n",
              "      <td>2:09:37</td>\n",
              "      <td>1</td>\n",
              "      <td>1</td>\n",
              "      <td>NaN</td>\n",
              "    </tr>\n",
              "    <tr>\n",
              "      <th>1</th>\n",
              "      <td>Rupp, Galen</td>\n",
              "      <td>30</td>\n",
              "      <td>M</td>\n",
              "      <td>Portland</td>\n",
              "      <td>OR</td>\n",
              "      <td>USA</td>\n",
              "      <td>2:09:58</td>\n",
              "      <td>2</td>\n",
              "      <td>2</td>\n",
              "      <td>NaN</td>\n",
              "    </tr>\n",
              "    <tr>\n",
              "      <th>2</th>\n",
              "      <td>Osako, Suguru</td>\n",
              "      <td>25</td>\n",
              "      <td>M</td>\n",
              "      <td>Machida-City</td>\n",
              "      <td>NaN</td>\n",
              "      <td>JPN</td>\n",
              "      <td>2:10:28</td>\n",
              "      <td>3</td>\n",
              "      <td>3</td>\n",
              "      <td>NaN</td>\n",
              "    </tr>\n",
              "    <tr>\n",
              "      <th>3</th>\n",
              "      <td>Biwott, Shadrack</td>\n",
              "      <td>32</td>\n",
              "      <td>M</td>\n",
              "      <td>Mammoth Lakes</td>\n",
              "      <td>CA</td>\n",
              "      <td>USA</td>\n",
              "      <td>2:12:08</td>\n",
              "      <td>4</td>\n",
              "      <td>4</td>\n",
              "      <td>NaN</td>\n",
              "    </tr>\n",
              "    <tr>\n",
              "      <th>4</th>\n",
              "      <td>Chebet, Wilson</td>\n",
              "      <td>31</td>\n",
              "      <td>M</td>\n",
              "      <td>Marakwet</td>\n",
              "      <td>NaN</td>\n",
              "      <td>KEN</td>\n",
              "      <td>2:12:35</td>\n",
              "      <td>5</td>\n",
              "      <td>5</td>\n",
              "      <td>2015</td>\n",
              "    </tr>\n",
              "  </tbody>\n",
              "</table>\n",
              "</div>"
            ],
            "text/plain": [
              "                Name  Age M/F           City State Country Official Time  \\\n",
              "0   Kirui, Geoffrey    24   M       Keringet   NaN     KEN       2:09:37   \n",
              "1     Rupp, Galen      30   M       Portland    OR     USA       2:09:58   \n",
              "2    Osako, Suguru     25   M   Machida-City   NaN     JPN       2:10:28   \n",
              "3   Biwott, Shadrack   32   M  Mammoth Lakes    CA     USA       2:12:08   \n",
              "4     Chebet, Wilson   31   M       Marakwet   NaN     KEN       2:12:35   \n",
              "\n",
              "   Overall  Gender Years Ran  \n",
              "0        1       1       NaN  \n",
              "1        2       2       NaN  \n",
              "2        3       3       NaN  \n",
              "3        4       4       NaN  \n",
              "4        5       5      2015  "
            ]
          },
          "execution_count": 10,
          "metadata": {},
          "output_type": "execute_result"
        }
      ],
      "source": [
        "boston.head()"
      ]
    },
    {
      "cell_type": "code",
      "execution_count": 11,
      "metadata": {
        "colab": {
          "base_uri": "https://localhost:8080/"
        },
        "colab_type": "code",
        "id": "Fsangl59Ujl7",
        "outputId": "e51c3de9-43aa-40bf-9ade-c8955143fd68"
      },
      "outputs": [
        {
          "name": "stdout",
          "output_type": "stream",
          "text": [
            "<class 'pandas.core.frame.DataFrame'>\n",
            "RangeIndex: 1000 entries, 0 to 999\n",
            "Data columns (total 10 columns):\n",
            " #   Column         Non-Null Count  Dtype \n",
            "---  ------         --------------  ----- \n",
            " 0   Name           1000 non-null   object\n",
            " 1   Age            1000 non-null   int64 \n",
            " 2   M/F            1000 non-null   object\n",
            " 3   City           1000 non-null   object\n",
            " 4   State          807 non-null    object\n",
            " 5   Country        1000 non-null   object\n",
            " 6   Official Time  1000 non-null   object\n",
            " 7   Overall        1000 non-null   int64 \n",
            " 8   Gender         1000 non-null   int64 \n",
            " 9   Years Ran      315 non-null    object\n",
            "dtypes: int64(3), object(7)\n",
            "memory usage: 78.2+ KB\n"
          ]
        }
      ],
      "source": [
        "boston.info()"
      ]
    },
    {
      "cell_type": "markdown",
      "metadata": {
        "colab_type": "text",
        "id": "semkTS2sUkkX"
      },
      "source": [
        "#### String Methods In Python"
      ]
    },
    {
      "cell_type": "code",
      "execution_count": 12,
      "metadata": {
        "colab": {},
        "colab_type": "code",
        "id": "kGwEVkJEWWbE"
      },
      "outputs": [],
      "source": [
        "# Agenda:\n",
        "#   - len\n",
        "#   - center\n",
        "#   - startswith, endswith\n",
        "#   - the 'in' operator\n",
        "#   - list comprehensions"
      ]
    },
    {
      "cell_type": "code",
      "execution_count": 13,
      "metadata": {
        "colab": {},
        "colab_type": "code",
        "id": "E0dPfFW7Z4cb"
      },
      "outputs": [],
      "source": [
        "s = \"Welcome to the text manipulation section\""
      ]
    },
    {
      "cell_type": "code",
      "execution_count": 14,
      "metadata": {
        "colab": {
          "base_uri": "https://localhost:8080/"
        },
        "colab_type": "code",
        "id": "JMpX2x4uiLfR",
        "outputId": "b51bc75e-6d52-4b05-dc7c-4d49e7557402"
      },
      "outputs": [
        {
          "data": {
            "text/plain": [
              "40"
            ]
          },
          "execution_count": 14,
          "metadata": {},
          "output_type": "execute_result"
        }
      ],
      "source": [
        "len(s)"
      ]
    },
    {
      "cell_type": "code",
      "execution_count": 15,
      "metadata": {
        "colab": {
          "base_uri": "https://localhost:8080/"
        },
        "colab_type": "code",
        "id": "IyHLhGsWiOgl",
        "outputId": "158a5dcb-2490-4ca3-84eb-2b7f712d16d5"
      },
      "outputs": [
        {
          "data": {
            "text/plain": [
              "'******************************Welcome to the text manipulation section******************************'"
            ]
          },
          "execution_count": 15,
          "metadata": {},
          "output_type": "execute_result"
        }
      ],
      "source": [
        "s.center(100, '*')"
      ]
    },
    {
      "cell_type": "code",
      "execution_count": 16,
      "metadata": {
        "colab": {
          "base_uri": "https://localhost:8080/"
        },
        "colab_type": "code",
        "id": "zu5HhlI-iVWf",
        "outputId": "6cc12348-383e-47f9-a313-6182b57a4bf6"
      },
      "outputs": [
        {
          "data": {
            "text/plain": [
              "'Welcome to the text manipulation section'"
            ]
          },
          "execution_count": 16,
          "metadata": {},
          "output_type": "execute_result"
        }
      ],
      "source": [
        "s.center(30, '*')"
      ]
    },
    {
      "cell_type": "code",
      "execution_count": 17,
      "metadata": {
        "colab": {
          "base_uri": "https://localhost:8080/"
        },
        "colab_type": "code",
        "id": "S6pSjju2iaHO",
        "outputId": "b743675e-6293-46d0-f4e1-ddac1838ae49"
      },
      "outputs": [
        {
          "data": {
            "text/plain": [
              "True"
            ]
          },
          "execution_count": 17,
          "metadata": {},
          "output_type": "execute_result"
        }
      ],
      "source": [
        "s.endswith('tion')"
      ]
    },
    {
      "cell_type": "code",
      "execution_count": 18,
      "metadata": {
        "colab": {
          "base_uri": "https://localhost:8080/"
        },
        "colab_type": "code",
        "id": "rZWvuWH6ifYe",
        "outputId": "553788e2-7782-4115-ae0f-6f41ba8211e9"
      },
      "outputs": [
        {
          "data": {
            "text/plain": [
              "True"
            ]
          },
          "execution_count": 18,
          "metadata": {},
          "output_type": "execute_result"
        }
      ],
      "source": [
        "s.startswith('W')"
      ]
    },
    {
      "cell_type": "code",
      "execution_count": 19,
      "metadata": {
        "colab": {
          "base_uri": "https://localhost:8080/"
        },
        "colab_type": "code",
        "id": "757YDuvkiiXg",
        "outputId": "762daf5d-a2a8-4fff-a027-1a6165d645b5"
      },
      "outputs": [
        {
          "data": {
            "text/plain": [
              "False"
            ]
          },
          "execution_count": 19,
          "metadata": {},
          "output_type": "execute_result"
        }
      ],
      "source": [
        "s.startswith('w')"
      ]
    },
    {
      "cell_type": "code",
      "execution_count": 20,
      "metadata": {
        "colab": {},
        "colab_type": "code",
        "id": "U8dNBvBmilTs"
      },
      "outputs": [],
      "source": [
        "# how about includes?"
      ]
    },
    {
      "cell_type": "code",
      "execution_count": 21,
      "metadata": {
        "colab": {},
        "colab_type": "code",
        "id": "rn3nIjBKiptL"
      },
      "outputs": [],
      "source": [
        "# s.includes('substring')"
      ]
    },
    {
      "cell_type": "code",
      "execution_count": 22,
      "metadata": {
        "colab": {
          "base_uri": "https://localhost:8080/"
        },
        "colab_type": "code",
        "id": "eeoFEj26isJ6",
        "outputId": "38bf9ff0-612c-4f98-c3c3-222c771e7810"
      },
      "outputs": [
        {
          "data": {
            "text/plain": [
              "True"
            ]
          },
          "execution_count": 22,
          "metadata": {},
          "output_type": "execute_result"
        }
      ],
      "source": [
        "'text' in s"
      ]
    },
    {
      "cell_type": "code",
      "execution_count": 23,
      "metadata": {
        "colab": {
          "base_uri": "https://localhost:8080/"
        },
        "colab_type": "code",
        "id": "p5k58fkniuOw",
        "outputId": "408336bc-38aa-40a7-d487-083e1103e37f"
      },
      "outputs": [
        {
          "data": {
            "text/plain": [
              "False"
            ]
          },
          "execution_count": 23,
          "metadata": {},
          "output_type": "execute_result"
        }
      ],
      "source": [
        "'texted' in s"
      ]
    },
    {
      "cell_type": "code",
      "execution_count": 24,
      "metadata": {
        "colab": {},
        "colab_type": "code",
        "id": "ybzSBcpQixEx"
      },
      "outputs": [],
      "source": [
        "# text transform within list comprehensions"
      ]
    },
    {
      "cell_type": "code",
      "execution_count": 25,
      "metadata": {
        "colab": {},
        "colab_type": "code",
        "id": "ML0dw0kPi-Eh"
      },
      "outputs": [],
      "source": [
        "names = ['Alanah', 'Albion', 'Andrew', np.NaN, 'Brian']"
      ]
    },
    {
      "cell_type": "code",
      "execution_count": 26,
      "metadata": {
        "colab": {},
        "colab_type": "code",
        "id": "KCeuT4yFjBXd"
      },
      "outputs": [],
      "source": [
        "# [len(name) for name in names]"
      ]
    },
    {
      "cell_type": "code",
      "execution_count": 27,
      "metadata": {
        "colab": {},
        "colab_type": "code",
        "id": "ae3oihRZjHsM"
      },
      "outputs": [],
      "source": [
        "# [name.startswith('A') for name in names]"
      ]
    },
    {
      "cell_type": "markdown",
      "metadata": {
        "colab_type": "text",
        "id": "TB25O6fTjOem"
      },
      "source": [
        "#### Vectorized String Operations In Pandas"
      ]
    },
    {
      "cell_type": "code",
      "execution_count": 28,
      "metadata": {
        "colab": {
          "base_uri": "https://localhost:8080/"
        },
        "colab_type": "code",
        "id": "bApZFTAZkOxy",
        "outputId": "0b8e52da-c9b2-4615-d5bd-5d1c19a849f4"
      },
      "outputs": [
        {
          "data": {
            "text/html": [
              "<div>\n",
              "<style scoped>\n",
              "    .dataframe tbody tr th:only-of-type {\n",
              "        vertical-align: middle;\n",
              "    }\n",
              "\n",
              "    .dataframe tbody tr th {\n",
              "        vertical-align: top;\n",
              "    }\n",
              "\n",
              "    .dataframe thead th {\n",
              "        text-align: right;\n",
              "    }\n",
              "</style>\n",
              "<table border=\"1\" class=\"dataframe\">\n",
              "  <thead>\n",
              "    <tr style=\"text-align: right;\">\n",
              "      <th></th>\n",
              "      <th>Name</th>\n",
              "      <th>Age</th>\n",
              "      <th>M/F</th>\n",
              "      <th>City</th>\n",
              "      <th>State</th>\n",
              "      <th>Country</th>\n",
              "      <th>Official Time</th>\n",
              "      <th>Overall</th>\n",
              "      <th>Gender</th>\n",
              "      <th>Years Ran</th>\n",
              "    </tr>\n",
              "  </thead>\n",
              "  <tbody>\n",
              "    <tr>\n",
              "      <th>0</th>\n",
              "      <td>Kirui, Geoffrey</td>\n",
              "      <td>24</td>\n",
              "      <td>M</td>\n",
              "      <td>Keringet</td>\n",
              "      <td>NaN</td>\n",
              "      <td>KEN</td>\n",
              "      <td>2:09:37</td>\n",
              "      <td>1</td>\n",
              "      <td>1</td>\n",
              "      <td>NaN</td>\n",
              "    </tr>\n",
              "    <tr>\n",
              "      <th>1</th>\n",
              "      <td>Rupp, Galen</td>\n",
              "      <td>30</td>\n",
              "      <td>M</td>\n",
              "      <td>Portland</td>\n",
              "      <td>OR</td>\n",
              "      <td>USA</td>\n",
              "      <td>2:09:58</td>\n",
              "      <td>2</td>\n",
              "      <td>2</td>\n",
              "      <td>NaN</td>\n",
              "    </tr>\n",
              "    <tr>\n",
              "      <th>2</th>\n",
              "      <td>Osako, Suguru</td>\n",
              "      <td>25</td>\n",
              "      <td>M</td>\n",
              "      <td>Machida-City</td>\n",
              "      <td>NaN</td>\n",
              "      <td>JPN</td>\n",
              "      <td>2:10:28</td>\n",
              "      <td>3</td>\n",
              "      <td>3</td>\n",
              "      <td>NaN</td>\n",
              "    </tr>\n",
              "    <tr>\n",
              "      <th>3</th>\n",
              "      <td>Biwott, Shadrack</td>\n",
              "      <td>32</td>\n",
              "      <td>M</td>\n",
              "      <td>Mammoth Lakes</td>\n",
              "      <td>CA</td>\n",
              "      <td>USA</td>\n",
              "      <td>2:12:08</td>\n",
              "      <td>4</td>\n",
              "      <td>4</td>\n",
              "      <td>NaN</td>\n",
              "    </tr>\n",
              "    <tr>\n",
              "      <th>4</th>\n",
              "      <td>Chebet, Wilson</td>\n",
              "      <td>31</td>\n",
              "      <td>M</td>\n",
              "      <td>Marakwet</td>\n",
              "      <td>NaN</td>\n",
              "      <td>KEN</td>\n",
              "      <td>2:12:35</td>\n",
              "      <td>5</td>\n",
              "      <td>5</td>\n",
              "      <td>2015</td>\n",
              "    </tr>\n",
              "  </tbody>\n",
              "</table>\n",
              "</div>"
            ],
            "text/plain": [
              "                Name  Age M/F           City State Country Official Time  \\\n",
              "0   Kirui, Geoffrey    24   M       Keringet   NaN     KEN       2:09:37   \n",
              "1     Rupp, Galen      30   M       Portland    OR     USA       2:09:58   \n",
              "2    Osako, Suguru     25   M   Machida-City   NaN     JPN       2:10:28   \n",
              "3   Biwott, Shadrack   32   M  Mammoth Lakes    CA     USA       2:12:08   \n",
              "4     Chebet, Wilson   31   M       Marakwet   NaN     KEN       2:12:35   \n",
              "\n",
              "   Overall  Gender Years Ran  \n",
              "0        1       1       NaN  \n",
              "1        2       2       NaN  \n",
              "2        3       3       NaN  \n",
              "3        4       4       NaN  \n",
              "4        5       5      2015  "
            ]
          },
          "execution_count": 28,
          "metadata": {},
          "output_type": "execute_result"
        }
      ],
      "source": [
        "boston.head()"
      ]
    },
    {
      "cell_type": "code",
      "execution_count": 29,
      "metadata": {
        "colab": {
          "base_uri": "https://localhost:8080/"
        },
        "colab_type": "code",
        "id": "RBnqqd7ql6vt",
        "outputId": "eef288b4-e125-4bae-b930-89bd5b8a519c"
      },
      "outputs": [
        {
          "data": {
            "text/plain": [
              "15"
            ]
          },
          "execution_count": 29,
          "metadata": {},
          "output_type": "execute_result"
        }
      ],
      "source": [
        "len('Kirui, Geoffrey')"
      ]
    },
    {
      "cell_type": "code",
      "execution_count": 30,
      "metadata": {
        "colab": {
          "base_uri": "https://localhost:8080/"
        },
        "colab_type": "code",
        "id": "9ZXSAwJlmf6R",
        "outputId": "499ab06f-43fc-4a34-952d-a29b36b114ef"
      },
      "outputs": [
        {
          "data": {
            "text/plain": [
              "0         Kirui, Geoffrey \n",
              "1           Rupp, Galen   \n",
              "2          Osako, Suguru  \n",
              "3         Biwott, Shadrack\n",
              "4           Chebet, Wilson\n",
              "              ...         \n",
              "995           Larosa, Mark\n",
              "996    Williamson, Jerry A\n",
              "997        Mccue, Daniel T\n",
              "998           Larosa, John\n",
              "999         Sanchez, Sam R\n",
              "Name: Name, Length: 1000, dtype: object"
            ]
          },
          "execution_count": 30,
          "metadata": {},
          "output_type": "execute_result"
        }
      ],
      "source": [
        "boston.Name"
      ]
    },
    {
      "cell_type": "code",
      "execution_count": 31,
      "metadata": {
        "colab": {
          "base_uri": "https://localhost:8080/"
        },
        "colab_type": "code",
        "id": "UK-5sCYImid7",
        "outputId": "52428b10-575b-4be0-c8c5-71bdcbd98d34"
      },
      "outputs": [
        {
          "data": {
            "text/plain": [
              "1000"
            ]
          },
          "execution_count": 31,
          "metadata": {},
          "output_type": "execute_result"
        }
      ],
      "source": [
        "len(boston.Name)"
      ]
    },
    {
      "cell_type": "code",
      "execution_count": 32,
      "metadata": {
        "colab": {
          "base_uri": "https://localhost:8080/"
        },
        "colab_type": "code",
        "id": "ofuz4KO0mkrQ",
        "outputId": "29b6637b-935f-4de8-cb30-19edba6c4f0d"
      },
      "outputs": [
        {
          "data": {
            "text/plain": [
              "0      17\n",
              "1      14\n",
              "2      15\n",
              "3      16\n",
              "4      14\n",
              "       ..\n",
              "995    12\n",
              "996    19\n",
              "997    15\n",
              "998    12\n",
              "999    14\n",
              "Name: Name, Length: 1000, dtype: int64"
            ]
          },
          "execution_count": 32,
          "metadata": {},
          "output_type": "execute_result"
        }
      ],
      "source": [
        "boston.Name.str.len()"
      ]
    },
    {
      "cell_type": "code",
      "execution_count": 33,
      "metadata": {
        "colab": {},
        "colab_type": "code",
        "id": "xIhc5-eamqqi"
      },
      "outputs": [],
      "source": [
        "# boston.Name.len()"
      ]
    },
    {
      "cell_type": "code",
      "execution_count": 34,
      "metadata": {
        "colab": {
          "base_uri": "https://localhost:8080/"
        },
        "colab_type": "code",
        "id": "TF6BHIS6mv10",
        "outputId": "878f01c5-0510-4381-8a3f-bb32ab3b0314"
      },
      "outputs": [
        {
          "data": {
            "text/plain": [
              "0      False\n",
              "1      False\n",
              "2      False\n",
              "3      False\n",
              "4      False\n",
              "       ...  \n",
              "995    False\n",
              "996    False\n",
              "997    False\n",
              "998    False\n",
              "999    False\n",
              "Name: Name, Length: 1000, dtype: bool"
            ]
          },
          "execution_count": 34,
          "metadata": {},
          "output_type": "execute_result"
        }
      ],
      "source": [
        "boston.Name.str.startswith('A')"
      ]
    },
    {
      "cell_type": "markdown",
      "metadata": {
        "colab_type": "text",
        "id": "4F_8PPBumykv"
      },
      "source": [
        "#### Case Operations"
      ]
    },
    {
      "cell_type": "code",
      "execution_count": 35,
      "metadata": {
        "colab": {},
        "colab_type": "code",
        "id": "egiOjUH5nyQQ"
      },
      "outputs": [],
      "source": [
        "# Agenda:\n",
        "#  - title()\n",
        "#  - upper()\n",
        "#  - lower()\n",
        "#  - swapcase()\n",
        "#  - capitalize()"
      ]
    },
    {
      "cell_type": "code",
      "execution_count": 36,
      "metadata": {
        "colab": {
          "base_uri": "https://localhost:8080/"
        },
        "colab_type": "code",
        "id": "WC1qPqI0n-R1",
        "outputId": "6339934d-21a9-43c0-9292-1b06b7286fa9"
      },
      "outputs": [
        {
          "data": {
            "text/html": [
              "<div>\n",
              "<style scoped>\n",
              "    .dataframe tbody tr th:only-of-type {\n",
              "        vertical-align: middle;\n",
              "    }\n",
              "\n",
              "    .dataframe tbody tr th {\n",
              "        vertical-align: top;\n",
              "    }\n",
              "\n",
              "    .dataframe thead th {\n",
              "        text-align: right;\n",
              "    }\n",
              "</style>\n",
              "<table border=\"1\" class=\"dataframe\">\n",
              "  <thead>\n",
              "    <tr style=\"text-align: right;\">\n",
              "      <th></th>\n",
              "      <th>Name</th>\n",
              "      <th>Age</th>\n",
              "      <th>M/F</th>\n",
              "      <th>City</th>\n",
              "      <th>State</th>\n",
              "      <th>Country</th>\n",
              "      <th>Official Time</th>\n",
              "      <th>Overall</th>\n",
              "      <th>Gender</th>\n",
              "      <th>Years Ran</th>\n",
              "    </tr>\n",
              "  </thead>\n",
              "  <tbody>\n",
              "    <tr>\n",
              "      <th>0</th>\n",
              "      <td>Kirui, Geoffrey</td>\n",
              "      <td>24</td>\n",
              "      <td>M</td>\n",
              "      <td>Keringet</td>\n",
              "      <td>NaN</td>\n",
              "      <td>KEN</td>\n",
              "      <td>2:09:37</td>\n",
              "      <td>1</td>\n",
              "      <td>1</td>\n",
              "      <td>NaN</td>\n",
              "    </tr>\n",
              "    <tr>\n",
              "      <th>1</th>\n",
              "      <td>Rupp, Galen</td>\n",
              "      <td>30</td>\n",
              "      <td>M</td>\n",
              "      <td>Portland</td>\n",
              "      <td>OR</td>\n",
              "      <td>USA</td>\n",
              "      <td>2:09:58</td>\n",
              "      <td>2</td>\n",
              "      <td>2</td>\n",
              "      <td>NaN</td>\n",
              "    </tr>\n",
              "    <tr>\n",
              "      <th>2</th>\n",
              "      <td>Osako, Suguru</td>\n",
              "      <td>25</td>\n",
              "      <td>M</td>\n",
              "      <td>Machida-City</td>\n",
              "      <td>NaN</td>\n",
              "      <td>JPN</td>\n",
              "      <td>2:10:28</td>\n",
              "      <td>3</td>\n",
              "      <td>3</td>\n",
              "      <td>NaN</td>\n",
              "    </tr>\n",
              "    <tr>\n",
              "      <th>3</th>\n",
              "      <td>Biwott, Shadrack</td>\n",
              "      <td>32</td>\n",
              "      <td>M</td>\n",
              "      <td>Mammoth Lakes</td>\n",
              "      <td>CA</td>\n",
              "      <td>USA</td>\n",
              "      <td>2:12:08</td>\n",
              "      <td>4</td>\n",
              "      <td>4</td>\n",
              "      <td>NaN</td>\n",
              "    </tr>\n",
              "    <tr>\n",
              "      <th>4</th>\n",
              "      <td>Chebet, Wilson</td>\n",
              "      <td>31</td>\n",
              "      <td>M</td>\n",
              "      <td>Marakwet</td>\n",
              "      <td>NaN</td>\n",
              "      <td>KEN</td>\n",
              "      <td>2:12:35</td>\n",
              "      <td>5</td>\n",
              "      <td>5</td>\n",
              "      <td>2015</td>\n",
              "    </tr>\n",
              "  </tbody>\n",
              "</table>\n",
              "</div>"
            ],
            "text/plain": [
              "                Name  Age M/F           City State Country Official Time  \\\n",
              "0   Kirui, Geoffrey    24   M       Keringet   NaN     KEN       2:09:37   \n",
              "1     Rupp, Galen      30   M       Portland    OR     USA       2:09:58   \n",
              "2    Osako, Suguru     25   M   Machida-City   NaN     JPN       2:10:28   \n",
              "3   Biwott, Shadrack   32   M  Mammoth Lakes    CA     USA       2:12:08   \n",
              "4     Chebet, Wilson   31   M       Marakwet   NaN     KEN       2:12:35   \n",
              "\n",
              "   Overall  Gender Years Ran  \n",
              "0        1       1       NaN  \n",
              "1        2       2       NaN  \n",
              "2        3       3       NaN  \n",
              "3        4       4       NaN  \n",
              "4        5       5      2015  "
            ]
          },
          "execution_count": 36,
          "metadata": {},
          "output_type": "execute_result"
        }
      ],
      "source": [
        "boston.head()"
      ]
    },
    {
      "cell_type": "code",
      "execution_count": 37,
      "metadata": {
        "colab": {
          "base_uri": "https://localhost:8080/"
        },
        "colab_type": "code",
        "id": "9xsLKTIqpFTJ",
        "outputId": "97a816f0-3234-4b28-a559-ddccc775eecc"
      },
      "outputs": [
        {
          "data": {
            "text/plain": [
              "0           Keringet\n",
              "1           Portland\n",
              "2       Machida-City\n",
              "3      Mammoth Lakes\n",
              "4           Marakwet\n",
              "           ...      \n",
              "995    North Andover\n",
              "996          Raleigh\n",
              "997        Arlington\n",
              "998          Danbury\n",
              "999         Santa Fe\n",
              "Name: City, Length: 1000, dtype: object"
            ]
          },
          "execution_count": 37,
          "metadata": {},
          "output_type": "execute_result"
        }
      ],
      "source": [
        "boston.City"
      ]
    },
    {
      "cell_type": "code",
      "execution_count": 38,
      "metadata": {
        "colab": {
          "base_uri": "https://localhost:8080/"
        },
        "colab_type": "code",
        "id": "S70wKlUSpUaF",
        "outputId": "a10fc2e6-f0b8-4b39-b1d5-1837854390e8"
      },
      "outputs": [
        {
          "data": {
            "text/plain": [
              "0           KERINGET\n",
              "1           PORTLAND\n",
              "2       MACHIDA-CITY\n",
              "3      MAMMOTH LAKES\n",
              "4           MARAKWET\n",
              "           ...      \n",
              "995    NORTH ANDOVER\n",
              "996          RALEIGH\n",
              "997        ARLINGTON\n",
              "998          DANBURY\n",
              "999         SANTA FE\n",
              "Name: City, Length: 1000, dtype: object"
            ]
          },
          "execution_count": 38,
          "metadata": {},
          "output_type": "execute_result"
        }
      ],
      "source": [
        "boston.City.str.upper()"
      ]
    },
    {
      "cell_type": "code",
      "execution_count": 39,
      "metadata": {
        "colab": {
          "base_uri": "https://localhost:8080/"
        },
        "colab_type": "code",
        "id": "olEjFqJdpbEp",
        "outputId": "eda9459e-d453-4cdf-8de0-b9e0d32870eb"
      },
      "outputs": [
        {
          "data": {
            "text/plain": [
              "0           keringet\n",
              "1           portland\n",
              "2       machida-city\n",
              "3      mammoth lakes\n",
              "4           marakwet\n",
              "           ...      \n",
              "995    north andover\n",
              "996          raleigh\n",
              "997        arlington\n",
              "998          danbury\n",
              "999         santa fe\n",
              "Name: City, Length: 1000, dtype: object"
            ]
          },
          "execution_count": 39,
          "metadata": {},
          "output_type": "execute_result"
        }
      ],
      "source": [
        "boston.City.str.lower()"
      ]
    },
    {
      "cell_type": "code",
      "execution_count": 40,
      "metadata": {
        "colab": {
          "base_uri": "https://localhost:8080/"
        },
        "colab_type": "code",
        "id": "qgbOdEIjplR_",
        "outputId": "c4a1231c-89f4-4172-e8de-98645c9851fb"
      },
      "outputs": [
        {
          "data": {
            "text/plain": [
              "0           kERINGET\n",
              "1           pORTLAND\n",
              "2       mACHIDA-cITY\n",
              "3      mAMMOTH lAKES\n",
              "4           mARAKWET\n",
              "           ...      \n",
              "995    nORTH aNDOVER\n",
              "996          rALEIGH\n",
              "997        aRLINGTON\n",
              "998          dANBURY\n",
              "999         sANTA fE\n",
              "Name: City, Length: 1000, dtype: object"
            ]
          },
          "execution_count": 40,
          "metadata": {},
          "output_type": "execute_result"
        }
      ],
      "source": [
        "boston.City.str.swapcase()"
      ]
    },
    {
      "cell_type": "code",
      "execution_count": 41,
      "metadata": {
        "colab": {
          "base_uri": "https://localhost:8080/"
        },
        "colab_type": "code",
        "id": "RwKRFpGzpndm",
        "outputId": "cbbf6e59-dbfe-43ab-98b5-19557ccdbd09"
      },
      "outputs": [
        {
          "data": {
            "text/plain": [
              "0           Keringet\n",
              "1           Portland\n",
              "2       Machida-city\n",
              "3      Mammoth lakes\n",
              "4           Marakwet\n",
              "           ...      \n",
              "995    North andover\n",
              "996          Raleigh\n",
              "997        Arlington\n",
              "998          Danbury\n",
              "999         Santa fe\n",
              "Name: City, Length: 1000, dtype: object"
            ]
          },
          "execution_count": 41,
          "metadata": {},
          "output_type": "execute_result"
        }
      ],
      "source": [
        "boston.City.str.capitalize()"
      ]
    },
    {
      "cell_type": "markdown",
      "metadata": {
        "colab_type": "text",
        "id": "TDTD7Qumpuzl"
      },
      "source": [
        "#### Finding Characters And Words"
      ]
    },
    {
      "cell_type": "code",
      "execution_count": 42,
      "metadata": {
        "colab": {},
        "colab_type": "code",
        "id": "sZrV-C7E5v7f"
      },
      "outputs": [],
      "source": [
        "# Agenda:\n",
        "#  - find()\n",
        "#  - rfind() in python and pandas"
      ]
    },
    {
      "cell_type": "code",
      "execution_count": 43,
      "metadata": {
        "colab": {
          "base_uri": "https://localhost:8080/"
        },
        "colab_type": "code",
        "id": "kvtR0_Jg6qG3",
        "outputId": "25f67025-500e-41db-dd0d-4aa5d55d1447"
      },
      "outputs": [
        {
          "data": {
            "text/plain": [
              "'Welcome to the text manipulation section'"
            ]
          },
          "execution_count": 43,
          "metadata": {},
          "output_type": "execute_result"
        }
      ],
      "source": [
        "s"
      ]
    },
    {
      "cell_type": "code",
      "execution_count": 44,
      "metadata": {
        "colab": {
          "base_uri": "https://localhost:8080/"
        },
        "colab_type": "code",
        "id": "hqIo9Kmu7dw6",
        "outputId": "5a15bd8f-49e6-4cec-8a94-9dcd8c253437"
      },
      "outputs": [
        {
          "data": {
            "text/plain": [
              "17"
            ]
          },
          "execution_count": 44,
          "metadata": {},
          "output_type": "execute_result"
        }
      ],
      "source": [
        "s.find('x')"
      ]
    },
    {
      "cell_type": "code",
      "execution_count": 45,
      "metadata": {
        "colab": {
          "base_uri": "https://localhost:8080/"
        },
        "colab_type": "code",
        "id": "TEH41lo47kd3",
        "outputId": "e077c5a3-ab92-4bd8-93d1-e1ac3516a87c"
      },
      "outputs": [
        {
          "data": {
            "text/plain": [
              "'W'"
            ]
          },
          "execution_count": 45,
          "metadata": {},
          "output_type": "execute_result"
        }
      ],
      "source": [
        "s[0]"
      ]
    },
    {
      "cell_type": "code",
      "execution_count": 46,
      "metadata": {
        "colab": {
          "base_uri": "https://localhost:8080/"
        },
        "colab_type": "code",
        "id": "z9rpu0x27p1V",
        "outputId": "0d14d5b1-6097-424b-bc08-5da23f69ed0c"
      },
      "outputs": [
        {
          "data": {
            "text/plain": [
              "'e'"
            ]
          },
          "execution_count": 46,
          "metadata": {},
          "output_type": "execute_result"
        }
      ],
      "source": [
        "s[1]"
      ]
    },
    {
      "cell_type": "code",
      "execution_count": 47,
      "metadata": {
        "colab": {
          "base_uri": "https://localhost:8080/"
        },
        "colab_type": "code",
        "id": "lEijYOWm7rg_",
        "outputId": "5cb04a3f-841c-44a1-ec9f-ce17517d5176"
      },
      "outputs": [
        {
          "data": {
            "text/plain": [
              "'l'"
            ]
          },
          "execution_count": 47,
          "metadata": {},
          "output_type": "execute_result"
        }
      ],
      "source": [
        "s[2]"
      ]
    },
    {
      "cell_type": "code",
      "execution_count": 48,
      "metadata": {
        "colab": {
          "base_uri": "https://localhost:8080/"
        },
        "colab_type": "code",
        "id": "k2BvHbrq7sE4",
        "outputId": "927ad980-c77c-4762-a046-49d16d7b9b0c"
      },
      "outputs": [
        {
          "data": {
            "text/plain": [
              "15"
            ]
          },
          "execution_count": 48,
          "metadata": {},
          "output_type": "execute_result"
        }
      ],
      "source": [
        "s.find('text')"
      ]
    },
    {
      "cell_type": "code",
      "execution_count": 49,
      "metadata": {
        "colab": {
          "base_uri": "https://localhost:8080/"
        },
        "colab_type": "code",
        "id": "9ZnFyf-37zCH",
        "outputId": "e1df3e4b-2f82-4187-b441-2a3d6a261044"
      },
      "outputs": [
        {
          "data": {
            "text/plain": [
              "-1"
            ]
          },
          "execution_count": 49,
          "metadata": {},
          "output_type": "execute_result"
        }
      ],
      "source": [
        "s.find('soccer')"
      ]
    },
    {
      "cell_type": "code",
      "execution_count": 50,
      "metadata": {
        "colab": {
          "base_uri": "https://localhost:8080/"
        },
        "colab_type": "code",
        "id": "wKKVn2my73aL",
        "outputId": "93349d3b-1a6e-43ab-ae25-0a6d0a9fdc64"
      },
      "outputs": [
        {
          "data": {
            "text/html": [
              "<div>\n",
              "<style scoped>\n",
              "    .dataframe tbody tr th:only-of-type {\n",
              "        vertical-align: middle;\n",
              "    }\n",
              "\n",
              "    .dataframe tbody tr th {\n",
              "        vertical-align: top;\n",
              "    }\n",
              "\n",
              "    .dataframe thead th {\n",
              "        text-align: right;\n",
              "    }\n",
              "</style>\n",
              "<table border=\"1\" class=\"dataframe\">\n",
              "  <thead>\n",
              "    <tr style=\"text-align: right;\">\n",
              "      <th></th>\n",
              "      <th>Name</th>\n",
              "      <th>Age</th>\n",
              "      <th>M/F</th>\n",
              "      <th>City</th>\n",
              "      <th>State</th>\n",
              "      <th>Country</th>\n",
              "      <th>Official Time</th>\n",
              "      <th>Overall</th>\n",
              "      <th>Gender</th>\n",
              "      <th>Years Ran</th>\n",
              "    </tr>\n",
              "  </thead>\n",
              "  <tbody>\n",
              "    <tr>\n",
              "      <th>0</th>\n",
              "      <td>Kirui, Geoffrey</td>\n",
              "      <td>24</td>\n",
              "      <td>M</td>\n",
              "      <td>Keringet</td>\n",
              "      <td>NaN</td>\n",
              "      <td>KEN</td>\n",
              "      <td>2:09:37</td>\n",
              "      <td>1</td>\n",
              "      <td>1</td>\n",
              "      <td>NaN</td>\n",
              "    </tr>\n",
              "    <tr>\n",
              "      <th>1</th>\n",
              "      <td>Rupp, Galen</td>\n",
              "      <td>30</td>\n",
              "      <td>M</td>\n",
              "      <td>Portland</td>\n",
              "      <td>OR</td>\n",
              "      <td>USA</td>\n",
              "      <td>2:09:58</td>\n",
              "      <td>2</td>\n",
              "      <td>2</td>\n",
              "      <td>NaN</td>\n",
              "    </tr>\n",
              "    <tr>\n",
              "      <th>2</th>\n",
              "      <td>Osako, Suguru</td>\n",
              "      <td>25</td>\n",
              "      <td>M</td>\n",
              "      <td>Machida-City</td>\n",
              "      <td>NaN</td>\n",
              "      <td>JPN</td>\n",
              "      <td>2:10:28</td>\n",
              "      <td>3</td>\n",
              "      <td>3</td>\n",
              "      <td>NaN</td>\n",
              "    </tr>\n",
              "    <tr>\n",
              "      <th>3</th>\n",
              "      <td>Biwott, Shadrack</td>\n",
              "      <td>32</td>\n",
              "      <td>M</td>\n",
              "      <td>Mammoth Lakes</td>\n",
              "      <td>CA</td>\n",
              "      <td>USA</td>\n",
              "      <td>2:12:08</td>\n",
              "      <td>4</td>\n",
              "      <td>4</td>\n",
              "      <td>NaN</td>\n",
              "    </tr>\n",
              "    <tr>\n",
              "      <th>4</th>\n",
              "      <td>Chebet, Wilson</td>\n",
              "      <td>31</td>\n",
              "      <td>M</td>\n",
              "      <td>Marakwet</td>\n",
              "      <td>NaN</td>\n",
              "      <td>KEN</td>\n",
              "      <td>2:12:35</td>\n",
              "      <td>5</td>\n",
              "      <td>5</td>\n",
              "      <td>2015</td>\n",
              "    </tr>\n",
              "  </tbody>\n",
              "</table>\n",
              "</div>"
            ],
            "text/plain": [
              "                Name  Age M/F           City State Country Official Time  \\\n",
              "0   Kirui, Geoffrey    24   M       Keringet   NaN     KEN       2:09:37   \n",
              "1     Rupp, Galen      30   M       Portland    OR     USA       2:09:58   \n",
              "2    Osako, Suguru     25   M   Machida-City   NaN     JPN       2:10:28   \n",
              "3   Biwott, Shadrack   32   M  Mammoth Lakes    CA     USA       2:12:08   \n",
              "4     Chebet, Wilson   31   M       Marakwet   NaN     KEN       2:12:35   \n",
              "\n",
              "   Overall  Gender Years Ran  \n",
              "0        1       1       NaN  \n",
              "1        2       2       NaN  \n",
              "2        3       3       NaN  \n",
              "3        4       4       NaN  \n",
              "4        5       5      2015  "
            ]
          },
          "execution_count": 50,
          "metadata": {},
          "output_type": "execute_result"
        }
      ],
      "source": [
        "boston.head()"
      ]
    },
    {
      "cell_type": "code",
      "execution_count": 51,
      "metadata": {
        "colab": {
          "base_uri": "https://localhost:8080/"
        },
        "colab_type": "code",
        "id": "vvPUYC2U78Qd",
        "outputId": "77740597-144f-4b67-e3f9-c038755ca9d9"
      },
      "outputs": [
        {
          "data": {
            "text/plain": [
              "-1     998\n",
              " 8       1\n",
              " 12      1\n",
              "Name: Name, dtype: int64"
            ]
          },
          "execution_count": 51,
          "metadata": {},
          "output_type": "execute_result"
        }
      ],
      "source": [
        "boston.Name.str.find('Andy').value_counts()"
      ]
    },
    {
      "cell_type": "code",
      "execution_count": 52,
      "metadata": {
        "colab": {
          "base_uri": "https://localhost:8080/"
        },
        "colab_type": "code",
        "id": "B7b-wb8_8DSg",
        "outputId": "e3d6962a-9ea8-461d-87b2-f9099f9f6dcc"
      },
      "outputs": [
        {
          "data": {
            "text/plain": [
              "-1     988\n",
              " 8       3\n",
              " 10      3\n",
              " 7       2\n",
              " 9       2\n",
              " 12      1\n",
              " 6       1\n",
              "Name: Name, dtype: int64"
            ]
          },
          "execution_count": 52,
          "metadata": {},
          "output_type": "execute_result"
        }
      ],
      "source": [
        "boston.Name.str.find('James').value_counts()"
      ]
    },
    {
      "cell_type": "code",
      "execution_count": 53,
      "metadata": {
        "colab": {},
        "colab_type": "code",
        "id": "3Q24z2MI8VF1"
      },
      "outputs": [],
      "source": [
        "p = 'pandas numpy numpy pandas'"
      ]
    },
    {
      "cell_type": "code",
      "execution_count": 54,
      "metadata": {
        "colab": {
          "base_uri": "https://localhost:8080/"
        },
        "colab_type": "code",
        "id": "0zDzkX9Q8gji",
        "outputId": "ec3e3917-b777-4018-9ef5-39dc7ee34024"
      },
      "outputs": [
        {
          "data": {
            "text/plain": [
              "0"
            ]
          },
          "execution_count": 54,
          "metadata": {},
          "output_type": "execute_result"
        }
      ],
      "source": [
        "p.find('pandas')"
      ]
    },
    {
      "cell_type": "code",
      "execution_count": 55,
      "metadata": {
        "colab": {
          "base_uri": "https://localhost:8080/"
        },
        "colab_type": "code",
        "id": "uflNSZ4j8idL",
        "outputId": "e29abd03-2495-4b3b-96c1-2438f046dcb9"
      },
      "outputs": [
        {
          "data": {
            "text/plain": [
              "19"
            ]
          },
          "execution_count": 55,
          "metadata": {},
          "output_type": "execute_result"
        }
      ],
      "source": [
        "p.rfind('pandas')"
      ]
    },
    {
      "cell_type": "code",
      "execution_count": 56,
      "metadata": {
        "colab": {
          "base_uri": "https://localhost:8080/"
        },
        "colab_type": "code",
        "id": "s2KbvIcd8qvK",
        "outputId": "ac9adfee-e918-492c-ace4-e2d969c844c9"
      },
      "outputs": [
        {
          "data": {
            "text/plain": [
              "'pandas'"
            ]
          },
          "execution_count": 56,
          "metadata": {},
          "output_type": "execute_result"
        }
      ],
      "source": [
        "p[19:]"
      ]
    },
    {
      "cell_type": "markdown",
      "metadata": {
        "colab_type": "text",
        "id": "iUdsascK8v1K"
      },
      "source": [
        "#### Strips And Whitespace"
      ]
    },
    {
      "cell_type": "code",
      "execution_count": 57,
      "metadata": {
        "colab": {},
        "colab_type": "code",
        "id": "s9iegLae9x-i"
      },
      "outputs": [],
      "source": [
        "# Agenda: \n",
        "# - isspace()\n",
        "# - lstrip()\n",
        "# - rstrip()\n",
        "# - strip()"
      ]
    },
    {
      "cell_type": "code",
      "execution_count": 58,
      "metadata": {
        "colab": {
          "base_uri": "https://localhost:8080/"
        },
        "colab_type": "code",
        "id": "zYTAVIBv9ORo",
        "outputId": "31a49f6e-9151-4905-b347-11ff8fa4a7a8"
      },
      "outputs": [
        {
          "name": "stdout",
          "output_type": "stream",
          "text": [
            "pandas \tnumpy\n"
          ]
        }
      ],
      "source": [
        "print('pandas', '\\tnumpy')"
      ]
    },
    {
      "cell_type": "code",
      "execution_count": 59,
      "metadata": {
        "colab": {
          "base_uri": "https://localhost:8080/"
        },
        "colab_type": "code",
        "id": "NOWQbEI69dPU",
        "outputId": "66df45b3-0581-4374-f82d-035c3b7a1404"
      },
      "outputs": [
        {
          "name": "stdout",
          "output_type": "stream",
          "text": [
            "pandas \n",
            "python\n"
          ]
        }
      ],
      "source": [
        "print('pandas', '\\npython')"
      ]
    },
    {
      "cell_type": "code",
      "execution_count": 60,
      "metadata": {
        "colab": {
          "base_uri": "https://localhost:8080/"
        },
        "colab_type": "code",
        "id": "siapF1Cw9fLX",
        "outputId": "65fb5533-f622-4aef-ed8a-bb16b743adc2"
      },
      "outputs": [
        {
          "data": {
            "text/plain": [
              "True"
            ]
          },
          "execution_count": 60,
          "metadata": {},
          "output_type": "execute_result"
        }
      ],
      "source": [
        "' '.isspace()"
      ]
    },
    {
      "cell_type": "code",
      "execution_count": 61,
      "metadata": {
        "colab": {
          "base_uri": "https://localhost:8080/"
        },
        "colab_type": "code",
        "id": "zrklGX6P_kfV",
        "outputId": "c838c617-0723-4912-fc99-9bcf1cf61e2c"
      },
      "outputs": [
        {
          "data": {
            "text/plain": [
              "True"
            ]
          },
          "execution_count": 61,
          "metadata": {},
          "output_type": "execute_result"
        }
      ],
      "source": [
        "'\\n'.isspace()"
      ]
    },
    {
      "cell_type": "code",
      "execution_count": 62,
      "metadata": {
        "colab": {
          "base_uri": "https://localhost:8080/"
        },
        "colab_type": "code",
        "id": "WmkGYEXN_nuL",
        "outputId": "b6fcee55-f34b-4b89-c773-c5e712ac888f"
      },
      "outputs": [
        {
          "data": {
            "text/plain": [
              "True"
            ]
          },
          "execution_count": 62,
          "metadata": {},
          "output_type": "execute_result"
        }
      ],
      "source": [
        "'\\t'.isspace()"
      ]
    },
    {
      "cell_type": "code",
      "execution_count": 63,
      "metadata": {
        "colab": {},
        "colab_type": "code",
        "id": "fPl3HAlm_qqe"
      },
      "outputs": [],
      "source": [
        "left_spaced = '    this is a pandas course'"
      ]
    },
    {
      "cell_type": "code",
      "execution_count": 64,
      "metadata": {
        "colab": {},
        "colab_type": "code",
        "id": "9UiXyIAm_v2E"
      },
      "outputs": [],
      "source": [
        "right_spaced = 'we cover plenty of python too!    '"
      ]
    },
    {
      "cell_type": "code",
      "execution_count": 65,
      "metadata": {
        "colab": {},
        "colab_type": "code",
        "id": "a-xpxJ7x_yX0"
      },
      "outputs": [],
      "source": [
        "spaced = '  the name is: BOND \\t JAMES BOND \\n\\n'"
      ]
    },
    {
      "cell_type": "code",
      "execution_count": 66,
      "metadata": {
        "colab": {
          "base_uri": "https://localhost:8080/"
        },
        "colab_type": "code",
        "id": "rx66gp1x_3bw",
        "outputId": "fc20389f-4ca6-4781-abbb-3245639aa38f"
      },
      "outputs": [
        {
          "name": "stdout",
          "output_type": "stream",
          "text": [
            "    this is a pandas course\n"
          ]
        }
      ],
      "source": [
        "print(left_spaced)"
      ]
    },
    {
      "cell_type": "code",
      "execution_count": 67,
      "metadata": {
        "colab": {
          "base_uri": "https://localhost:8080/"
        },
        "colab_type": "code",
        "id": "ixJYkYCt_6z_",
        "outputId": "f07a0e9a-e09d-43e0-9463-cd4ee2dc9ce5"
      },
      "outputs": [
        {
          "name": "stdout",
          "output_type": "stream",
          "text": [
            "  the name is: BOND \t JAMES BOND \n",
            "\n",
            "\n"
          ]
        }
      ],
      "source": [
        "print(spaced)"
      ]
    },
    {
      "cell_type": "code",
      "execution_count": 68,
      "metadata": {
        "colab": {
          "base_uri": "https://localhost:8080/"
        },
        "colab_type": "code",
        "id": "I60-qvOQAAhF",
        "outputId": "e3b0a18a-43ca-4d83-bb64-c216b714a119"
      },
      "outputs": [
        {
          "data": {
            "text/plain": [
              "'this is a pandas course'"
            ]
          },
          "execution_count": 68,
          "metadata": {},
          "output_type": "execute_result"
        }
      ],
      "source": [
        "left_spaced.lstrip()"
      ]
    },
    {
      "cell_type": "code",
      "execution_count": 69,
      "metadata": {
        "colab": {
          "base_uri": "https://localhost:8080/"
        },
        "colab_type": "code",
        "id": "cCQzWcDnAPmc",
        "outputId": "5e29a264-fafc-43be-bb8d-802e223bfb4b"
      },
      "outputs": [
        {
          "data": {
            "text/plain": [
              "'we cover plenty of python too!'"
            ]
          },
          "execution_count": 69,
          "metadata": {},
          "output_type": "execute_result"
        }
      ],
      "source": [
        "right_spaced.rstrip()"
      ]
    },
    {
      "cell_type": "code",
      "execution_count": 70,
      "metadata": {
        "colab": {
          "base_uri": "https://localhost:8080/"
        },
        "colab_type": "code",
        "id": "Ce-UFC9PAT2m",
        "outputId": "4216d7e8-19dc-4359-afb4-2071deefd85b"
      },
      "outputs": [
        {
          "data": {
            "text/plain": [
              "'the name is: BOND \\t JAMES BOND'"
            ]
          },
          "execution_count": 70,
          "metadata": {},
          "output_type": "execute_result"
        }
      ],
      "source": [
        "spaced.strip()"
      ]
    },
    {
      "cell_type": "code",
      "execution_count": 71,
      "metadata": {
        "colab": {
          "base_uri": "https://localhost:8080/"
        },
        "colab_type": "code",
        "id": "0fX_QKBmAYDx",
        "outputId": "28510bb8-968c-44c6-ec2c-6dd422c0d91f"
      },
      "outputs": [
        {
          "data": {
            "text/html": [
              "<div>\n",
              "<style scoped>\n",
              "    .dataframe tbody tr th:only-of-type {\n",
              "        vertical-align: middle;\n",
              "    }\n",
              "\n",
              "    .dataframe tbody tr th {\n",
              "        vertical-align: top;\n",
              "    }\n",
              "\n",
              "    .dataframe thead th {\n",
              "        text-align: right;\n",
              "    }\n",
              "</style>\n",
              "<table border=\"1\" class=\"dataframe\">\n",
              "  <thead>\n",
              "    <tr style=\"text-align: right;\">\n",
              "      <th></th>\n",
              "      <th>Name</th>\n",
              "      <th>Age</th>\n",
              "      <th>M/F</th>\n",
              "      <th>City</th>\n",
              "      <th>State</th>\n",
              "      <th>Country</th>\n",
              "      <th>Official Time</th>\n",
              "      <th>Overall</th>\n",
              "      <th>Gender</th>\n",
              "      <th>Years Ran</th>\n",
              "    </tr>\n",
              "  </thead>\n",
              "  <tbody>\n",
              "    <tr>\n",
              "      <th>0</th>\n",
              "      <td>Kirui, Geoffrey</td>\n",
              "      <td>24</td>\n",
              "      <td>M</td>\n",
              "      <td>Keringet</td>\n",
              "      <td>NaN</td>\n",
              "      <td>KEN</td>\n",
              "      <td>2:09:37</td>\n",
              "      <td>1</td>\n",
              "      <td>1</td>\n",
              "      <td>NaN</td>\n",
              "    </tr>\n",
              "    <tr>\n",
              "      <th>1</th>\n",
              "      <td>Rupp, Galen</td>\n",
              "      <td>30</td>\n",
              "      <td>M</td>\n",
              "      <td>Portland</td>\n",
              "      <td>OR</td>\n",
              "      <td>USA</td>\n",
              "      <td>2:09:58</td>\n",
              "      <td>2</td>\n",
              "      <td>2</td>\n",
              "      <td>NaN</td>\n",
              "    </tr>\n",
              "    <tr>\n",
              "      <th>2</th>\n",
              "      <td>Osako, Suguru</td>\n",
              "      <td>25</td>\n",
              "      <td>M</td>\n",
              "      <td>Machida-City</td>\n",
              "      <td>NaN</td>\n",
              "      <td>JPN</td>\n",
              "      <td>2:10:28</td>\n",
              "      <td>3</td>\n",
              "      <td>3</td>\n",
              "      <td>NaN</td>\n",
              "    </tr>\n",
              "    <tr>\n",
              "      <th>3</th>\n",
              "      <td>Biwott, Shadrack</td>\n",
              "      <td>32</td>\n",
              "      <td>M</td>\n",
              "      <td>Mammoth Lakes</td>\n",
              "      <td>CA</td>\n",
              "      <td>USA</td>\n",
              "      <td>2:12:08</td>\n",
              "      <td>4</td>\n",
              "      <td>4</td>\n",
              "      <td>NaN</td>\n",
              "    </tr>\n",
              "    <tr>\n",
              "      <th>4</th>\n",
              "      <td>Chebet, Wilson</td>\n",
              "      <td>31</td>\n",
              "      <td>M</td>\n",
              "      <td>Marakwet</td>\n",
              "      <td>NaN</td>\n",
              "      <td>KEN</td>\n",
              "      <td>2:12:35</td>\n",
              "      <td>5</td>\n",
              "      <td>5</td>\n",
              "      <td>2015</td>\n",
              "    </tr>\n",
              "  </tbody>\n",
              "</table>\n",
              "</div>"
            ],
            "text/plain": [
              "                Name  Age M/F           City State Country Official Time  \\\n",
              "0   Kirui, Geoffrey    24   M       Keringet   NaN     KEN       2:09:37   \n",
              "1     Rupp, Galen      30   M       Portland    OR     USA       2:09:58   \n",
              "2    Osako, Suguru     25   M   Machida-City   NaN     JPN       2:10:28   \n",
              "3   Biwott, Shadrack   32   M  Mammoth Lakes    CA     USA       2:12:08   \n",
              "4     Chebet, Wilson   31   M       Marakwet   NaN     KEN       2:12:35   \n",
              "\n",
              "   Overall  Gender Years Ran  \n",
              "0        1       1       NaN  \n",
              "1        2       2       NaN  \n",
              "2        3       3       NaN  \n",
              "3        4       4       NaN  \n",
              "4        5       5      2015  "
            ]
          },
          "execution_count": 71,
          "metadata": {},
          "output_type": "execute_result"
        }
      ],
      "source": [
        "boston.head()"
      ]
    },
    {
      "cell_type": "code",
      "execution_count": 72,
      "metadata": {
        "colab": {
          "base_uri": "https://localhost:8080/"
        },
        "colab_type": "code",
        "id": "Pb2TtPfJAlcQ",
        "outputId": "0db489d6-959c-4e58-e790-f9a7c34f115e"
      },
      "outputs": [
        {
          "data": {
            "text/plain": [
              "' Kirui, Geoffrey '"
            ]
          },
          "execution_count": 72,
          "metadata": {},
          "output_type": "execute_result"
        }
      ],
      "source": [
        "boston.Name.iloc[0]"
      ]
    },
    {
      "cell_type": "code",
      "execution_count": 73,
      "metadata": {
        "colab": {
          "base_uri": "https://localhost:8080/"
        },
        "colab_type": "code",
        "id": "0ESHDETDAo_s",
        "outputId": "11f285fb-71c1-4050-ffa0-e9d4f229dcdf"
      },
      "outputs": [
        {
          "data": {
            "text/plain": [
              "'Rupp, Galen   '"
            ]
          },
          "execution_count": 73,
          "metadata": {},
          "output_type": "execute_result"
        }
      ],
      "source": [
        "boston.Name.iloc[1]"
      ]
    },
    {
      "cell_type": "code",
      "execution_count": 74,
      "metadata": {
        "colab": {
          "base_uri": "https://localhost:8080/"
        },
        "colab_type": "code",
        "id": "cjri03NLAsBm",
        "outputId": "2f842bdf-2926-4307-a5bd-265f888c64d5"
      },
      "outputs": [
        {
          "data": {
            "text/plain": [
              "0    Kirui, Geoffrey\n",
              "1        Rupp, Galen\n",
              "Name: Name, dtype: object"
            ]
          },
          "execution_count": 74,
          "metadata": {},
          "output_type": "execute_result"
        }
      ],
      "source": [
        "boston.Name.iloc[0:2].str.strip()"
      ]
    },
    {
      "cell_type": "code",
      "execution_count": 75,
      "metadata": {
        "colab": {},
        "colab_type": "code",
        "id": "x1efc3tFAxua"
      },
      "outputs": [],
      "source": [
        "boston.Name = boston.Name.str.strip()"
      ]
    },
    {
      "cell_type": "code",
      "execution_count": 76,
      "metadata": {
        "colab": {
          "base_uri": "https://localhost:8080/"
        },
        "colab_type": "code",
        "id": "lQ1kAE6UA7Ll",
        "outputId": "65bd0d9f-41b1-4254-f138-a670aecbddbd"
      },
      "outputs": [
        {
          "data": {
            "text/html": [
              "<div>\n",
              "<style scoped>\n",
              "    .dataframe tbody tr th:only-of-type {\n",
              "        vertical-align: middle;\n",
              "    }\n",
              "\n",
              "    .dataframe tbody tr th {\n",
              "        vertical-align: top;\n",
              "    }\n",
              "\n",
              "    .dataframe thead th {\n",
              "        text-align: right;\n",
              "    }\n",
              "</style>\n",
              "<table border=\"1\" class=\"dataframe\">\n",
              "  <thead>\n",
              "    <tr style=\"text-align: right;\">\n",
              "      <th></th>\n",
              "      <th>Name</th>\n",
              "      <th>Age</th>\n",
              "      <th>M/F</th>\n",
              "      <th>City</th>\n",
              "      <th>State</th>\n",
              "      <th>Country</th>\n",
              "      <th>Official Time</th>\n",
              "      <th>Overall</th>\n",
              "      <th>Gender</th>\n",
              "      <th>Years Ran</th>\n",
              "    </tr>\n",
              "  </thead>\n",
              "  <tbody>\n",
              "    <tr>\n",
              "      <th>0</th>\n",
              "      <td>Kirui, Geoffrey</td>\n",
              "      <td>24</td>\n",
              "      <td>M</td>\n",
              "      <td>Keringet</td>\n",
              "      <td>NaN</td>\n",
              "      <td>KEN</td>\n",
              "      <td>2:09:37</td>\n",
              "      <td>1</td>\n",
              "      <td>1</td>\n",
              "      <td>NaN</td>\n",
              "    </tr>\n",
              "    <tr>\n",
              "      <th>1</th>\n",
              "      <td>Rupp, Galen</td>\n",
              "      <td>30</td>\n",
              "      <td>M</td>\n",
              "      <td>Portland</td>\n",
              "      <td>OR</td>\n",
              "      <td>USA</td>\n",
              "      <td>2:09:58</td>\n",
              "      <td>2</td>\n",
              "      <td>2</td>\n",
              "      <td>NaN</td>\n",
              "    </tr>\n",
              "    <tr>\n",
              "      <th>2</th>\n",
              "      <td>Osako, Suguru</td>\n",
              "      <td>25</td>\n",
              "      <td>M</td>\n",
              "      <td>Machida-City</td>\n",
              "      <td>NaN</td>\n",
              "      <td>JPN</td>\n",
              "      <td>2:10:28</td>\n",
              "      <td>3</td>\n",
              "      <td>3</td>\n",
              "      <td>NaN</td>\n",
              "    </tr>\n",
              "    <tr>\n",
              "      <th>3</th>\n",
              "      <td>Biwott, Shadrack</td>\n",
              "      <td>32</td>\n",
              "      <td>M</td>\n",
              "      <td>Mammoth Lakes</td>\n",
              "      <td>CA</td>\n",
              "      <td>USA</td>\n",
              "      <td>2:12:08</td>\n",
              "      <td>4</td>\n",
              "      <td>4</td>\n",
              "      <td>NaN</td>\n",
              "    </tr>\n",
              "    <tr>\n",
              "      <th>4</th>\n",
              "      <td>Chebet, Wilson</td>\n",
              "      <td>31</td>\n",
              "      <td>M</td>\n",
              "      <td>Marakwet</td>\n",
              "      <td>NaN</td>\n",
              "      <td>KEN</td>\n",
              "      <td>2:12:35</td>\n",
              "      <td>5</td>\n",
              "      <td>5</td>\n",
              "      <td>2015</td>\n",
              "    </tr>\n",
              "  </tbody>\n",
              "</table>\n",
              "</div>"
            ],
            "text/plain": [
              "               Name  Age M/F           City State Country Official Time  \\\n",
              "0   Kirui, Geoffrey   24   M       Keringet   NaN     KEN       2:09:37   \n",
              "1       Rupp, Galen   30   M       Portland    OR     USA       2:09:58   \n",
              "2     Osako, Suguru   25   M   Machida-City   NaN     JPN       2:10:28   \n",
              "3  Biwott, Shadrack   32   M  Mammoth Lakes    CA     USA       2:12:08   \n",
              "4    Chebet, Wilson   31   M       Marakwet   NaN     KEN       2:12:35   \n",
              "\n",
              "   Overall  Gender Years Ran  \n",
              "0        1       1       NaN  \n",
              "1        2       2       NaN  \n",
              "2        3       3       NaN  \n",
              "3        4       4       NaN  \n",
              "4        5       5      2015  "
            ]
          },
          "execution_count": 76,
          "metadata": {},
          "output_type": "execute_result"
        }
      ],
      "source": [
        "boston.head()"
      ]
    },
    {
      "cell_type": "code",
      "execution_count": 77,
      "metadata": {
        "colab": {
          "base_uri": "https://localhost:8080/"
        },
        "colab_type": "code",
        "id": "LFHAxV4LA8O2",
        "outputId": "86f0a98f-feb2-41d3-8700-37a435ba2671"
      },
      "outputs": [
        {
          "data": {
            "text/plain": [
              "'Kirui, Geoffrey'"
            ]
          },
          "execution_count": 77,
          "metadata": {},
          "output_type": "execute_result"
        }
      ],
      "source": [
        "boston.Name.iloc[0]"
      ]
    },
    {
      "cell_type": "markdown",
      "metadata": {
        "colab_type": "text",
        "id": "8tanSPw6A-gZ"
      },
      "source": [
        "#### String Splitting And Concatenation"
      ]
    },
    {
      "cell_type": "code",
      "execution_count": 78,
      "metadata": {
        "colab": {},
        "colab_type": "code",
        "id": "rsXhn8KOBo6E"
      },
      "outputs": [],
      "source": [
        "# Agenda:\n",
        "#  - split()\n",
        "#  - get()\n",
        "#  - cat()"
      ]
    },
    {
      "cell_type": "code",
      "execution_count": 79,
      "metadata": {
        "colab": {
          "base_uri": "https://localhost:8080/"
        },
        "colab_type": "code",
        "id": "ekpfPSPfGl9s",
        "outputId": "7e4369cf-915b-4fde-a5dd-465bb129af9b"
      },
      "outputs": [
        {
          "data": {
            "text/plain": [
              "'Welcome to the text manipulation section'"
            ]
          },
          "execution_count": 79,
          "metadata": {},
          "output_type": "execute_result"
        }
      ],
      "source": [
        "s"
      ]
    },
    {
      "cell_type": "code",
      "execution_count": 80,
      "metadata": {
        "colab": {
          "base_uri": "https://localhost:8080/"
        },
        "colab_type": "code",
        "id": "P7TlcXGMGyeA",
        "outputId": "15efe3b6-56ca-4b8a-d3df-a47494baab44"
      },
      "outputs": [
        {
          "data": {
            "text/plain": [
              "['Welcome', 'to', 'the', 'text', 'manipulation', 'section']"
            ]
          },
          "execution_count": 80,
          "metadata": {},
          "output_type": "execute_result"
        }
      ],
      "source": [
        "s.split()"
      ]
    },
    {
      "cell_type": "code",
      "execution_count": 81,
      "metadata": {
        "colab": {
          "base_uri": "https://localhost:8080/"
        },
        "colab_type": "code",
        "id": "AmWv3lJ7G0SV",
        "outputId": "7e164538-8ee6-4717-fd98-83dcdf395369"
      },
      "outputs": [
        {
          "data": {
            "text/plain": [
              "['Welcome', 'to', 'the', 'text', 'manipulation', 'section']"
            ]
          },
          "execution_count": 81,
          "metadata": {},
          "output_type": "execute_result"
        }
      ],
      "source": [
        "s.split(' ')"
      ]
    },
    {
      "cell_type": "code",
      "execution_count": 82,
      "metadata": {
        "colab": {
          "base_uri": "https://localhost:8080/"
        },
        "colab_type": "code",
        "id": "AIIchqiTHBSU",
        "outputId": "9136ae95-92d9-4302-d7ab-d9f0e5c822ef"
      },
      "outputs": [
        {
          "data": {
            "text/plain": [
              "'  the name is: BOND \\t JAMES BOND \\n\\n'"
            ]
          },
          "execution_count": 82,
          "metadata": {},
          "output_type": "execute_result"
        }
      ],
      "source": [
        "spaced"
      ]
    },
    {
      "cell_type": "code",
      "execution_count": 83,
      "metadata": {
        "colab": {
          "base_uri": "https://localhost:8080/"
        },
        "colab_type": "code",
        "id": "K8yAiexwHFpy",
        "outputId": "4e82a65b-7ad9-4ef7-bff6-ef54945db15e"
      },
      "outputs": [
        {
          "data": {
            "text/plain": [
              "['the', 'name', 'is:', 'BOND', 'JAMES', 'BOND']"
            ]
          },
          "execution_count": 83,
          "metadata": {},
          "output_type": "execute_result"
        }
      ],
      "source": [
        "spaced.split()"
      ]
    },
    {
      "cell_type": "code",
      "execution_count": 84,
      "metadata": {
        "colab": {
          "base_uri": "https://localhost:8080/"
        },
        "colab_type": "code",
        "id": "WQlxMfpFHI1f",
        "outputId": "ae6e6512-fe4b-47cf-acfb-49885e66a313"
      },
      "outputs": [
        {
          "data": {
            "text/plain": [
              "['', '', 'the', 'name', 'is:', 'BOND', '\\t', 'JAMES', 'BOND', '\\n\\n']"
            ]
          },
          "execution_count": 84,
          "metadata": {},
          "output_type": "execute_result"
        }
      ],
      "source": [
        "spaced.split(' ')"
      ]
    },
    {
      "cell_type": "code",
      "execution_count": 85,
      "metadata": {
        "colab": {
          "base_uri": "https://localhost:8080/"
        },
        "colab_type": "code",
        "id": "CnQJO9vDHOE9",
        "outputId": "348759e2-9ad8-4fdd-9676-8cc7e889310f"
      },
      "outputs": [
        {
          "data": {
            "text/plain": [
              "'Welcome to the text manipulation section'"
            ]
          },
          "execution_count": 85,
          "metadata": {},
          "output_type": "execute_result"
        }
      ],
      "source": [
        "s"
      ]
    },
    {
      "cell_type": "code",
      "execution_count": 86,
      "metadata": {
        "colab": {
          "base_uri": "https://localhost:8080/"
        },
        "colab_type": "code",
        "id": "636oxleSHWDK",
        "outputId": "2bfeb929-9f60-475a-fc6f-6a372cf3ddd7"
      },
      "outputs": [
        {
          "data": {
            "text/plain": [
              "['Welcome ', ' the text manipulation section']"
            ]
          },
          "execution_count": 86,
          "metadata": {},
          "output_type": "execute_result"
        }
      ],
      "source": [
        "s.split('to')"
      ]
    },
    {
      "cell_type": "code",
      "execution_count": 87,
      "metadata": {
        "colab": {
          "base_uri": "https://localhost:8080/"
        },
        "colab_type": "code",
        "id": "cacOOZSLHX7_",
        "outputId": "fc9a0078-6e31-4d8f-b483-9b52b9694b60"
      },
      "outputs": [
        {
          "data": {
            "text/html": [
              "<div>\n",
              "<style scoped>\n",
              "    .dataframe tbody tr th:only-of-type {\n",
              "        vertical-align: middle;\n",
              "    }\n",
              "\n",
              "    .dataframe tbody tr th {\n",
              "        vertical-align: top;\n",
              "    }\n",
              "\n",
              "    .dataframe thead th {\n",
              "        text-align: right;\n",
              "    }\n",
              "</style>\n",
              "<table border=\"1\" class=\"dataframe\">\n",
              "  <thead>\n",
              "    <tr style=\"text-align: right;\">\n",
              "      <th></th>\n",
              "      <th>Name</th>\n",
              "      <th>Age</th>\n",
              "      <th>M/F</th>\n",
              "      <th>City</th>\n",
              "      <th>State</th>\n",
              "      <th>Country</th>\n",
              "      <th>Official Time</th>\n",
              "      <th>Overall</th>\n",
              "      <th>Gender</th>\n",
              "      <th>Years Ran</th>\n",
              "    </tr>\n",
              "  </thead>\n",
              "  <tbody>\n",
              "    <tr>\n",
              "      <th>0</th>\n",
              "      <td>Kirui, Geoffrey</td>\n",
              "      <td>24</td>\n",
              "      <td>M</td>\n",
              "      <td>Keringet</td>\n",
              "      <td>NaN</td>\n",
              "      <td>KEN</td>\n",
              "      <td>2:09:37</td>\n",
              "      <td>1</td>\n",
              "      <td>1</td>\n",
              "      <td>NaN</td>\n",
              "    </tr>\n",
              "    <tr>\n",
              "      <th>1</th>\n",
              "      <td>Rupp, Galen</td>\n",
              "      <td>30</td>\n",
              "      <td>M</td>\n",
              "      <td>Portland</td>\n",
              "      <td>OR</td>\n",
              "      <td>USA</td>\n",
              "      <td>2:09:58</td>\n",
              "      <td>2</td>\n",
              "      <td>2</td>\n",
              "      <td>NaN</td>\n",
              "    </tr>\n",
              "    <tr>\n",
              "      <th>2</th>\n",
              "      <td>Osako, Suguru</td>\n",
              "      <td>25</td>\n",
              "      <td>M</td>\n",
              "      <td>Machida-City</td>\n",
              "      <td>NaN</td>\n",
              "      <td>JPN</td>\n",
              "      <td>2:10:28</td>\n",
              "      <td>3</td>\n",
              "      <td>3</td>\n",
              "      <td>NaN</td>\n",
              "    </tr>\n",
              "    <tr>\n",
              "      <th>3</th>\n",
              "      <td>Biwott, Shadrack</td>\n",
              "      <td>32</td>\n",
              "      <td>M</td>\n",
              "      <td>Mammoth Lakes</td>\n",
              "      <td>CA</td>\n",
              "      <td>USA</td>\n",
              "      <td>2:12:08</td>\n",
              "      <td>4</td>\n",
              "      <td>4</td>\n",
              "      <td>NaN</td>\n",
              "    </tr>\n",
              "    <tr>\n",
              "      <th>4</th>\n",
              "      <td>Chebet, Wilson</td>\n",
              "      <td>31</td>\n",
              "      <td>M</td>\n",
              "      <td>Marakwet</td>\n",
              "      <td>NaN</td>\n",
              "      <td>KEN</td>\n",
              "      <td>2:12:35</td>\n",
              "      <td>5</td>\n",
              "      <td>5</td>\n",
              "      <td>2015</td>\n",
              "    </tr>\n",
              "  </tbody>\n",
              "</table>\n",
              "</div>"
            ],
            "text/plain": [
              "               Name  Age M/F           City State Country Official Time  \\\n",
              "0   Kirui, Geoffrey   24   M       Keringet   NaN     KEN       2:09:37   \n",
              "1       Rupp, Galen   30   M       Portland    OR     USA       2:09:58   \n",
              "2     Osako, Suguru   25   M   Machida-City   NaN     JPN       2:10:28   \n",
              "3  Biwott, Shadrack   32   M  Mammoth Lakes    CA     USA       2:12:08   \n",
              "4    Chebet, Wilson   31   M       Marakwet   NaN     KEN       2:12:35   \n",
              "\n",
              "   Overall  Gender Years Ran  \n",
              "0        1       1       NaN  \n",
              "1        2       2       NaN  \n",
              "2        3       3       NaN  \n",
              "3        4       4       NaN  \n",
              "4        5       5      2015  "
            ]
          },
          "execution_count": 87,
          "metadata": {},
          "output_type": "execute_result"
        }
      ],
      "source": [
        "boston.head()"
      ]
    },
    {
      "cell_type": "code",
      "execution_count": 88,
      "metadata": {
        "colab": {
          "base_uri": "https://localhost:8080/"
        },
        "colab_type": "code",
        "id": "5LpWP9nkHh3a",
        "outputId": "c775f076-6055-4b5e-88c0-b47acd17b503"
      },
      "outputs": [
        {
          "data": {
            "text/plain": [
              "0          [Kirui, Geoffrey]\n",
              "1              [Rupp, Galen]\n",
              "2            [Osako, Suguru]\n",
              "3         [Biwott, Shadrack]\n",
              "4           [Chebet, Wilson]\n",
              "               ...          \n",
              "995           [Larosa, Mark]\n",
              "996    [Williamson, Jerry A]\n",
              "997        [Mccue, Daniel T]\n",
              "998           [Larosa, John]\n",
              "999         [Sanchez, Sam R]\n",
              "Name: Name, Length: 1000, dtype: object"
            ]
          },
          "execution_count": 88,
          "metadata": {},
          "output_type": "execute_result"
        }
      ],
      "source": [
        "boston.Name.str.split(', ')"
      ]
    },
    {
      "cell_type": "code",
      "execution_count": 89,
      "metadata": {
        "colab": {
          "base_uri": "https://localhost:8080/"
        },
        "colab_type": "code",
        "id": "4vyZl0ysHvKM",
        "outputId": "01da810b-6e6f-47b8-eae6-17f18dfe449b"
      },
      "outputs": [
        {
          "data": {
            "text/plain": [
              "['Kirui', 'Geoffrey']"
            ]
          },
          "execution_count": 89,
          "metadata": {},
          "output_type": "execute_result"
        }
      ],
      "source": [
        "boston.Name.str.split(', ')[0]"
      ]
    },
    {
      "cell_type": "code",
      "execution_count": 90,
      "metadata": {
        "colab": {},
        "colab_type": "code",
        "id": "1gSbJ0ykH7eK"
      },
      "outputs": [],
      "source": [
        "# the str.get() method"
      ]
    },
    {
      "cell_type": "code",
      "execution_count": 91,
      "metadata": {
        "colab": {
          "base_uri": "https://localhost:8080/"
        },
        "colab_type": "code",
        "id": "VFXEWi2HICdA",
        "outputId": "596d1809-6e94-4be3-a1aa-d1a27f9a4ebb"
      },
      "outputs": [
        {
          "data": {
            "text/plain": [
              "0      Geoffrey\n",
              "1         Galen\n",
              "2        Suguru\n",
              "3      Shadrack\n",
              "4        Wilson\n",
              "         ...   \n",
              "995        Mark\n",
              "996     Jerry A\n",
              "997    Daniel T\n",
              "998        John\n",
              "999       Sam R\n",
              "Name: Name, Length: 1000, dtype: object"
            ]
          },
          "execution_count": 91,
          "metadata": {},
          "output_type": "execute_result"
        }
      ],
      "source": [
        "boston.Name.str.split(', ').str.get(1)"
      ]
    },
    {
      "cell_type": "code",
      "execution_count": 92,
      "metadata": {
        "colab": {},
        "colab_type": "code",
        "id": "QS4QtIjmIEIP"
      },
      "outputs": [],
      "source": [
        "boston['First Name'] = boston.Name.str.split(', ').str.get(1)\n",
        "boston['Last Name'] = boston.Name.str.split(', ').str.get(0)"
      ]
    },
    {
      "cell_type": "code",
      "execution_count": 93,
      "metadata": {
        "colab": {
          "base_uri": "https://localhost:8080/"
        },
        "colab_type": "code",
        "id": "x1xmB-08IV9M",
        "outputId": "6cdc9725-6667-41c4-be54-ced08c2b67ce"
      },
      "outputs": [
        {
          "data": {
            "text/html": [
              "<div>\n",
              "<style scoped>\n",
              "    .dataframe tbody tr th:only-of-type {\n",
              "        vertical-align: middle;\n",
              "    }\n",
              "\n",
              "    .dataframe tbody tr th {\n",
              "        vertical-align: top;\n",
              "    }\n",
              "\n",
              "    .dataframe thead th {\n",
              "        text-align: right;\n",
              "    }\n",
              "</style>\n",
              "<table border=\"1\" class=\"dataframe\">\n",
              "  <thead>\n",
              "    <tr style=\"text-align: right;\">\n",
              "      <th></th>\n",
              "      <th>Name</th>\n",
              "      <th>Age</th>\n",
              "      <th>M/F</th>\n",
              "      <th>City</th>\n",
              "      <th>State</th>\n",
              "      <th>Country</th>\n",
              "      <th>Official Time</th>\n",
              "      <th>Overall</th>\n",
              "      <th>Gender</th>\n",
              "      <th>Years Ran</th>\n",
              "      <th>First Name</th>\n",
              "      <th>Last Name</th>\n",
              "    </tr>\n",
              "  </thead>\n",
              "  <tbody>\n",
              "    <tr>\n",
              "      <th>0</th>\n",
              "      <td>Kirui, Geoffrey</td>\n",
              "      <td>24</td>\n",
              "      <td>M</td>\n",
              "      <td>Keringet</td>\n",
              "      <td>NaN</td>\n",
              "      <td>KEN</td>\n",
              "      <td>2:09:37</td>\n",
              "      <td>1</td>\n",
              "      <td>1</td>\n",
              "      <td>NaN</td>\n",
              "      <td>Geoffrey</td>\n",
              "      <td>Kirui</td>\n",
              "    </tr>\n",
              "    <tr>\n",
              "      <th>1</th>\n",
              "      <td>Rupp, Galen</td>\n",
              "      <td>30</td>\n",
              "      <td>M</td>\n",
              "      <td>Portland</td>\n",
              "      <td>OR</td>\n",
              "      <td>USA</td>\n",
              "      <td>2:09:58</td>\n",
              "      <td>2</td>\n",
              "      <td>2</td>\n",
              "      <td>NaN</td>\n",
              "      <td>Galen</td>\n",
              "      <td>Rupp</td>\n",
              "    </tr>\n",
              "    <tr>\n",
              "      <th>2</th>\n",
              "      <td>Osako, Suguru</td>\n",
              "      <td>25</td>\n",
              "      <td>M</td>\n",
              "      <td>Machida-City</td>\n",
              "      <td>NaN</td>\n",
              "      <td>JPN</td>\n",
              "      <td>2:10:28</td>\n",
              "      <td>3</td>\n",
              "      <td>3</td>\n",
              "      <td>NaN</td>\n",
              "      <td>Suguru</td>\n",
              "      <td>Osako</td>\n",
              "    </tr>\n",
              "    <tr>\n",
              "      <th>3</th>\n",
              "      <td>Biwott, Shadrack</td>\n",
              "      <td>32</td>\n",
              "      <td>M</td>\n",
              "      <td>Mammoth Lakes</td>\n",
              "      <td>CA</td>\n",
              "      <td>USA</td>\n",
              "      <td>2:12:08</td>\n",
              "      <td>4</td>\n",
              "      <td>4</td>\n",
              "      <td>NaN</td>\n",
              "      <td>Shadrack</td>\n",
              "      <td>Biwott</td>\n",
              "    </tr>\n",
              "    <tr>\n",
              "      <th>4</th>\n",
              "      <td>Chebet, Wilson</td>\n",
              "      <td>31</td>\n",
              "      <td>M</td>\n",
              "      <td>Marakwet</td>\n",
              "      <td>NaN</td>\n",
              "      <td>KEN</td>\n",
              "      <td>2:12:35</td>\n",
              "      <td>5</td>\n",
              "      <td>5</td>\n",
              "      <td>2015</td>\n",
              "      <td>Wilson</td>\n",
              "      <td>Chebet</td>\n",
              "    </tr>\n",
              "    <tr>\n",
              "      <th>5</th>\n",
              "      <td>Abdirahman, Abdi</td>\n",
              "      <td>40</td>\n",
              "      <td>M</td>\n",
              "      <td>Phoenix</td>\n",
              "      <td>AZ</td>\n",
              "      <td>USA</td>\n",
              "      <td>2:12:45</td>\n",
              "      <td>6</td>\n",
              "      <td>6</td>\n",
              "      <td>NaN</td>\n",
              "      <td>Abdi</td>\n",
              "      <td>Abdirahman</td>\n",
              "    </tr>\n",
              "    <tr>\n",
              "      <th>6</th>\n",
              "      <td>Maiyo, Augustus K.</td>\n",
              "      <td>33</td>\n",
              "      <td>M</td>\n",
              "      <td>Colorado Springs</td>\n",
              "      <td>CO</td>\n",
              "      <td>USA</td>\n",
              "      <td>2:13:16</td>\n",
              "      <td>7</td>\n",
              "      <td>7</td>\n",
              "      <td>NaN</td>\n",
              "      <td>Augustus K.</td>\n",
              "      <td>Maiyo</td>\n",
              "    </tr>\n",
              "    <tr>\n",
              "      <th>7</th>\n",
              "      <td>Sefir, Dino</td>\n",
              "      <td>28</td>\n",
              "      <td>M</td>\n",
              "      <td>Addis Ababa</td>\n",
              "      <td>NaN</td>\n",
              "      <td>ETH</td>\n",
              "      <td>2:14:26</td>\n",
              "      <td>8</td>\n",
              "      <td>8</td>\n",
              "      <td>NaN</td>\n",
              "      <td>Dino</td>\n",
              "      <td>Sefir</td>\n",
              "    </tr>\n",
              "    <tr>\n",
              "      <th>8</th>\n",
              "      <td>Puskedra, Luke</td>\n",
              "      <td>27</td>\n",
              "      <td>M</td>\n",
              "      <td>Eugene</td>\n",
              "      <td>OR</td>\n",
              "      <td>USA</td>\n",
              "      <td>2:14:45</td>\n",
              "      <td>9</td>\n",
              "      <td>9</td>\n",
              "      <td>NaN</td>\n",
              "      <td>Luke</td>\n",
              "      <td>Puskedra</td>\n",
              "    </tr>\n",
              "    <tr>\n",
              "      <th>9</th>\n",
              "      <td>Ward, Jared</td>\n",
              "      <td>28</td>\n",
              "      <td>M</td>\n",
              "      <td>Kaysville</td>\n",
              "      <td>UT</td>\n",
              "      <td>USA</td>\n",
              "      <td>2:15:28</td>\n",
              "      <td>10</td>\n",
              "      <td>10</td>\n",
              "      <td>NaN</td>\n",
              "      <td>Jared</td>\n",
              "      <td>Ward</td>\n",
              "    </tr>\n",
              "  </tbody>\n",
              "</table>\n",
              "</div>"
            ],
            "text/plain": [
              "                 Name  Age M/F              City State Country Official Time  \\\n",
              "0     Kirui, Geoffrey   24   M          Keringet   NaN     KEN       2:09:37   \n",
              "1         Rupp, Galen   30   M          Portland    OR     USA       2:09:58   \n",
              "2       Osako, Suguru   25   M      Machida-City   NaN     JPN       2:10:28   \n",
              "3    Biwott, Shadrack   32   M     Mammoth Lakes    CA     USA       2:12:08   \n",
              "4      Chebet, Wilson   31   M          Marakwet   NaN     KEN       2:12:35   \n",
              "5    Abdirahman, Abdi   40   M           Phoenix    AZ     USA       2:12:45   \n",
              "6  Maiyo, Augustus K.   33   M  Colorado Springs    CO     USA       2:13:16   \n",
              "7         Sefir, Dino   28   M       Addis Ababa   NaN     ETH       2:14:26   \n",
              "8      Puskedra, Luke   27   M            Eugene    OR     USA       2:14:45   \n",
              "9         Ward, Jared   28   M         Kaysville    UT     USA       2:15:28   \n",
              "\n",
              "   Overall  Gender Years Ran   First Name   Last Name  \n",
              "0        1       1       NaN     Geoffrey       Kirui  \n",
              "1        2       2       NaN        Galen        Rupp  \n",
              "2        3       3       NaN       Suguru       Osako  \n",
              "3        4       4       NaN     Shadrack      Biwott  \n",
              "4        5       5      2015       Wilson      Chebet  \n",
              "5        6       6       NaN         Abdi  Abdirahman  \n",
              "6        7       7       NaN  Augustus K.       Maiyo  \n",
              "7        8       8       NaN         Dino       Sefir  \n",
              "8        9       9       NaN         Luke    Puskedra  \n",
              "9       10      10       NaN        Jared        Ward  "
            ]
          },
          "execution_count": 93,
          "metadata": {},
          "output_type": "execute_result"
        }
      ],
      "source": [
        "boston.head(10)"
      ]
    },
    {
      "cell_type": "code",
      "execution_count": 94,
      "metadata": {
        "colab": {
          "base_uri": "https://localhost:8080/"
        },
        "colab_type": "code",
        "id": "9_vsCxPFIXKy",
        "outputId": "c3f183ca-f611-48d9-d6b3-8e5cfcba5196"
      },
      "outputs": [
        {
          "data": {
            "text/plain": [
              "0      M_24\n",
              "1      M_30\n",
              "2      M_25\n",
              "3      M_32\n",
              "4      M_31\n",
              "       ... \n",
              "995    M_38\n",
              "996    M_43\n",
              "997    M_40\n",
              "998    M_35\n",
              "999    M_35\n",
              "Name: M/F, Length: 1000, dtype: object"
            ]
          },
          "execution_count": 94,
          "metadata": {},
          "output_type": "execute_result"
        }
      ],
      "source": [
        "boston['M/F'].str.cat(boston.Age.astype(str), sep='_')"
      ]
    },
    {
      "cell_type": "markdown",
      "metadata": {
        "colab_type": "text",
        "id": "B40dtI0TIpZF"
      },
      "source": [
        "#### More Split Parameters"
      ]
    },
    {
      "cell_type": "code",
      "execution_count": 95,
      "metadata": {
        "colab": {},
        "colab_type": "code",
        "id": "tjgzu9mrKrme"
      },
      "outputs": [],
      "source": [
        "# Previously:\n",
        "  # boston['First Name'] = boston.Name.str.split(', ').str.get(1)\n",
        "  # boston['Last Name'] = boston.Name.str.split(', ').str.get(0)"
      ]
    },
    {
      "cell_type": "code",
      "execution_count": 96,
      "metadata": {
        "colab": {},
        "colab_type": "code",
        "id": "z8VotRA9LtGG"
      },
      "outputs": [],
      "source": [
        "boston.drop(['First Name', 'Last Name'], axis=1, inplace=True)"
      ]
    },
    {
      "cell_type": "code",
      "execution_count": 97,
      "metadata": {
        "colab": {
          "base_uri": "https://localhost:8080/"
        },
        "colab_type": "code",
        "id": "5IGLtvWnMG29",
        "outputId": "bc94db2e-a3fe-4878-f27e-0d402038c260"
      },
      "outputs": [
        {
          "data": {
            "text/html": [
              "<div>\n",
              "<style scoped>\n",
              "    .dataframe tbody tr th:only-of-type {\n",
              "        vertical-align: middle;\n",
              "    }\n",
              "\n",
              "    .dataframe tbody tr th {\n",
              "        vertical-align: top;\n",
              "    }\n",
              "\n",
              "    .dataframe thead th {\n",
              "        text-align: right;\n",
              "    }\n",
              "</style>\n",
              "<table border=\"1\" class=\"dataframe\">\n",
              "  <thead>\n",
              "    <tr style=\"text-align: right;\">\n",
              "      <th></th>\n",
              "      <th>Name</th>\n",
              "      <th>Age</th>\n",
              "      <th>M/F</th>\n",
              "      <th>City</th>\n",
              "      <th>State</th>\n",
              "      <th>Country</th>\n",
              "      <th>Official Time</th>\n",
              "      <th>Overall</th>\n",
              "      <th>Gender</th>\n",
              "      <th>Years Ran</th>\n",
              "    </tr>\n",
              "  </thead>\n",
              "  <tbody>\n",
              "    <tr>\n",
              "      <th>0</th>\n",
              "      <td>Kirui, Geoffrey</td>\n",
              "      <td>24</td>\n",
              "      <td>M</td>\n",
              "      <td>Keringet</td>\n",
              "      <td>NaN</td>\n",
              "      <td>KEN</td>\n",
              "      <td>2:09:37</td>\n",
              "      <td>1</td>\n",
              "      <td>1</td>\n",
              "      <td>NaN</td>\n",
              "    </tr>\n",
              "    <tr>\n",
              "      <th>1</th>\n",
              "      <td>Rupp, Galen</td>\n",
              "      <td>30</td>\n",
              "      <td>M</td>\n",
              "      <td>Portland</td>\n",
              "      <td>OR</td>\n",
              "      <td>USA</td>\n",
              "      <td>2:09:58</td>\n",
              "      <td>2</td>\n",
              "      <td>2</td>\n",
              "      <td>NaN</td>\n",
              "    </tr>\n",
              "    <tr>\n",
              "      <th>2</th>\n",
              "      <td>Osako, Suguru</td>\n",
              "      <td>25</td>\n",
              "      <td>M</td>\n",
              "      <td>Machida-City</td>\n",
              "      <td>NaN</td>\n",
              "      <td>JPN</td>\n",
              "      <td>2:10:28</td>\n",
              "      <td>3</td>\n",
              "      <td>3</td>\n",
              "      <td>NaN</td>\n",
              "    </tr>\n",
              "    <tr>\n",
              "      <th>3</th>\n",
              "      <td>Biwott, Shadrack</td>\n",
              "      <td>32</td>\n",
              "      <td>M</td>\n",
              "      <td>Mammoth Lakes</td>\n",
              "      <td>CA</td>\n",
              "      <td>USA</td>\n",
              "      <td>2:12:08</td>\n",
              "      <td>4</td>\n",
              "      <td>4</td>\n",
              "      <td>NaN</td>\n",
              "    </tr>\n",
              "    <tr>\n",
              "      <th>4</th>\n",
              "      <td>Chebet, Wilson</td>\n",
              "      <td>31</td>\n",
              "      <td>M</td>\n",
              "      <td>Marakwet</td>\n",
              "      <td>NaN</td>\n",
              "      <td>KEN</td>\n",
              "      <td>2:12:35</td>\n",
              "      <td>5</td>\n",
              "      <td>5</td>\n",
              "      <td>2015</td>\n",
              "    </tr>\n",
              "  </tbody>\n",
              "</table>\n",
              "</div>"
            ],
            "text/plain": [
              "               Name  Age M/F           City State Country Official Time  \\\n",
              "0   Kirui, Geoffrey   24   M       Keringet   NaN     KEN       2:09:37   \n",
              "1       Rupp, Galen   30   M       Portland    OR     USA       2:09:58   \n",
              "2     Osako, Suguru   25   M   Machida-City   NaN     JPN       2:10:28   \n",
              "3  Biwott, Shadrack   32   M  Mammoth Lakes    CA     USA       2:12:08   \n",
              "4    Chebet, Wilson   31   M       Marakwet   NaN     KEN       2:12:35   \n",
              "\n",
              "   Overall  Gender Years Ran  \n",
              "0        1       1       NaN  \n",
              "1        2       2       NaN  \n",
              "2        3       3       NaN  \n",
              "3        4       4       NaN  \n",
              "4        5       5      2015  "
            ]
          },
          "execution_count": 97,
          "metadata": {},
          "output_type": "execute_result"
        }
      ],
      "source": [
        "boston.head()"
      ]
    },
    {
      "cell_type": "code",
      "execution_count": 98,
      "metadata": {
        "colab": {},
        "colab_type": "code",
        "id": "xDdSAXMLMHiu"
      },
      "outputs": [],
      "source": [
        "# the expand param"
      ]
    },
    {
      "cell_type": "code",
      "execution_count": 99,
      "metadata": {
        "colab": {
          "base_uri": "https://localhost:8080/"
        },
        "colab_type": "code",
        "id": "_Ny2P31OMQQa",
        "outputId": "ae860be5-8f30-4b5d-e125-fae8324dc2c2"
      },
      "outputs": [
        {
          "data": {
            "text/html": [
              "<div>\n",
              "<style scoped>\n",
              "    .dataframe tbody tr th:only-of-type {\n",
              "        vertical-align: middle;\n",
              "    }\n",
              "\n",
              "    .dataframe tbody tr th {\n",
              "        vertical-align: top;\n",
              "    }\n",
              "\n",
              "    .dataframe thead th {\n",
              "        text-align: right;\n",
              "    }\n",
              "</style>\n",
              "<table border=\"1\" class=\"dataframe\">\n",
              "  <thead>\n",
              "    <tr style=\"text-align: right;\">\n",
              "      <th></th>\n",
              "      <th>0</th>\n",
              "      <th>1</th>\n",
              "    </tr>\n",
              "  </thead>\n",
              "  <tbody>\n",
              "    <tr>\n",
              "      <th>0</th>\n",
              "      <td>Kirui</td>\n",
              "      <td>Geoffrey</td>\n",
              "    </tr>\n",
              "    <tr>\n",
              "      <th>1</th>\n",
              "      <td>Rupp</td>\n",
              "      <td>Galen</td>\n",
              "    </tr>\n",
              "    <tr>\n",
              "      <th>2</th>\n",
              "      <td>Osako</td>\n",
              "      <td>Suguru</td>\n",
              "    </tr>\n",
              "    <tr>\n",
              "      <th>3</th>\n",
              "      <td>Biwott</td>\n",
              "      <td>Shadrack</td>\n",
              "    </tr>\n",
              "    <tr>\n",
              "      <th>4</th>\n",
              "      <td>Chebet</td>\n",
              "      <td>Wilson</td>\n",
              "    </tr>\n",
              "    <tr>\n",
              "      <th>...</th>\n",
              "      <td>...</td>\n",
              "      <td>...</td>\n",
              "    </tr>\n",
              "    <tr>\n",
              "      <th>995</th>\n",
              "      <td>Larosa</td>\n",
              "      <td>Mark</td>\n",
              "    </tr>\n",
              "    <tr>\n",
              "      <th>996</th>\n",
              "      <td>Williamson</td>\n",
              "      <td>Jerry A</td>\n",
              "    </tr>\n",
              "    <tr>\n",
              "      <th>997</th>\n",
              "      <td>Mccue</td>\n",
              "      <td>Daniel T</td>\n",
              "    </tr>\n",
              "    <tr>\n",
              "      <th>998</th>\n",
              "      <td>Larosa</td>\n",
              "      <td>John</td>\n",
              "    </tr>\n",
              "    <tr>\n",
              "      <th>999</th>\n",
              "      <td>Sanchez</td>\n",
              "      <td>Sam R</td>\n",
              "    </tr>\n",
              "  </tbody>\n",
              "</table>\n",
              "<p>1000 rows × 2 columns</p>\n",
              "</div>"
            ],
            "text/plain": [
              "              0         1\n",
              "0         Kirui  Geoffrey\n",
              "1          Rupp     Galen\n",
              "2         Osako    Suguru\n",
              "3        Biwott  Shadrack\n",
              "4        Chebet    Wilson\n",
              "..          ...       ...\n",
              "995      Larosa      Mark\n",
              "996  Williamson   Jerry A\n",
              "997       Mccue  Daniel T\n",
              "998      Larosa      John\n",
              "999     Sanchez     Sam R\n",
              "\n",
              "[1000 rows x 2 columns]"
            ]
          },
          "execution_count": 99,
          "metadata": {},
          "output_type": "execute_result"
        }
      ],
      "source": [
        "boston.Name.str.split(', ', expand=True)"
      ]
    },
    {
      "cell_type": "code",
      "execution_count": 100,
      "metadata": {
        "colab": {
          "base_uri": "https://localhost:8080/"
        },
        "colab_type": "code",
        "id": "sDmLSv-HMTdM",
        "outputId": "3b5b548e-4660-4b24-b52f-d22c1d2445cd"
      },
      "outputs": [
        {
          "data": {
            "text/html": [
              "<div>\n",
              "<style scoped>\n",
              "    .dataframe tbody tr th:only-of-type {\n",
              "        vertical-align: middle;\n",
              "    }\n",
              "\n",
              "    .dataframe tbody tr th {\n",
              "        vertical-align: top;\n",
              "    }\n",
              "\n",
              "    .dataframe thead th {\n",
              "        text-align: right;\n",
              "    }\n",
              "</style>\n",
              "<table border=\"1\" class=\"dataframe\">\n",
              "  <thead>\n",
              "    <tr style=\"text-align: right;\">\n",
              "      <th></th>\n",
              "      <th>0</th>\n",
              "      <th>1</th>\n",
              "      <th>2</th>\n",
              "      <th>3</th>\n",
              "      <th>4</th>\n",
              "    </tr>\n",
              "  </thead>\n",
              "  <tbody>\n",
              "    <tr>\n",
              "      <th>0</th>\n",
              "      <td>Kirui,</td>\n",
              "      <td>Geoffrey</td>\n",
              "      <td>None</td>\n",
              "      <td>None</td>\n",
              "      <td>None</td>\n",
              "    </tr>\n",
              "    <tr>\n",
              "      <th>1</th>\n",
              "      <td>Rupp,</td>\n",
              "      <td>Galen</td>\n",
              "      <td>None</td>\n",
              "      <td>None</td>\n",
              "      <td>None</td>\n",
              "    </tr>\n",
              "    <tr>\n",
              "      <th>2</th>\n",
              "      <td>Osako,</td>\n",
              "      <td>Suguru</td>\n",
              "      <td>None</td>\n",
              "      <td>None</td>\n",
              "      <td>None</td>\n",
              "    </tr>\n",
              "    <tr>\n",
              "      <th>3</th>\n",
              "      <td>Biwott,</td>\n",
              "      <td>Shadrack</td>\n",
              "      <td>None</td>\n",
              "      <td>None</td>\n",
              "      <td>None</td>\n",
              "    </tr>\n",
              "    <tr>\n",
              "      <th>4</th>\n",
              "      <td>Chebet,</td>\n",
              "      <td>Wilson</td>\n",
              "      <td>None</td>\n",
              "      <td>None</td>\n",
              "      <td>None</td>\n",
              "    </tr>\n",
              "    <tr>\n",
              "      <th>...</th>\n",
              "      <td>...</td>\n",
              "      <td>...</td>\n",
              "      <td>...</td>\n",
              "      <td>...</td>\n",
              "      <td>...</td>\n",
              "    </tr>\n",
              "    <tr>\n",
              "      <th>995</th>\n",
              "      <td>Larosa,</td>\n",
              "      <td>Mark</td>\n",
              "      <td>None</td>\n",
              "      <td>None</td>\n",
              "      <td>None</td>\n",
              "    </tr>\n",
              "    <tr>\n",
              "      <th>996</th>\n",
              "      <td>Williamson,</td>\n",
              "      <td>Jerry</td>\n",
              "      <td>A</td>\n",
              "      <td>None</td>\n",
              "      <td>None</td>\n",
              "    </tr>\n",
              "    <tr>\n",
              "      <th>997</th>\n",
              "      <td>Mccue,</td>\n",
              "      <td>Daniel</td>\n",
              "      <td>T</td>\n",
              "      <td>None</td>\n",
              "      <td>None</td>\n",
              "    </tr>\n",
              "    <tr>\n",
              "      <th>998</th>\n",
              "      <td>Larosa,</td>\n",
              "      <td>John</td>\n",
              "      <td>None</td>\n",
              "      <td>None</td>\n",
              "      <td>None</td>\n",
              "    </tr>\n",
              "    <tr>\n",
              "      <th>999</th>\n",
              "      <td>Sanchez,</td>\n",
              "      <td>Sam</td>\n",
              "      <td>R</td>\n",
              "      <td>None</td>\n",
              "      <td>None</td>\n",
              "    </tr>\n",
              "  </tbody>\n",
              "</table>\n",
              "<p>1000 rows × 5 columns</p>\n",
              "</div>"
            ],
            "text/plain": [
              "               0         1     2     3     4\n",
              "0         Kirui,  Geoffrey  None  None  None\n",
              "1          Rupp,     Galen  None  None  None\n",
              "2         Osako,    Suguru  None  None  None\n",
              "3        Biwott,  Shadrack  None  None  None\n",
              "4        Chebet,    Wilson  None  None  None\n",
              "..           ...       ...   ...   ...   ...\n",
              "995      Larosa,      Mark  None  None  None\n",
              "996  Williamson,     Jerry     A  None  None\n",
              "997       Mccue,    Daniel     T  None  None\n",
              "998      Larosa,      John  None  None  None\n",
              "999     Sanchez,       Sam     R  None  None\n",
              "\n",
              "[1000 rows x 5 columns]"
            ]
          },
          "execution_count": 100,
          "metadata": {},
          "output_type": "execute_result"
        }
      ],
      "source": [
        "boston.Name.str.split(expand=True)"
      ]
    },
    {
      "cell_type": "code",
      "execution_count": 101,
      "metadata": {
        "colab": {
          "base_uri": "https://localhost:8080/"
        },
        "colab_type": "code",
        "id": "d1lF_PllMch-",
        "outputId": "a597f75e-4ee0-4ece-9235-d2bd75039a24"
      },
      "outputs": [
        {
          "data": {
            "text/plain": [
              "0      False\n",
              "1      False\n",
              "2      False\n",
              "3      False\n",
              "4      False\n",
              "       ...  \n",
              "995    False\n",
              "996    False\n",
              "997    False\n",
              "998    False\n",
              "999    False\n",
              "Length: 1000, dtype: bool"
            ]
          },
          "execution_count": 101,
          "metadata": {},
          "output_type": "execute_result"
        }
      ],
      "source": [
        "boston.Name.str.split(expand=True).count(axis=1) == 5"
      ]
    },
    {
      "cell_type": "code",
      "execution_count": 102,
      "metadata": {
        "colab": {
          "base_uri": "https://localhost:8080/"
        },
        "colab_type": "code",
        "id": "8mgua1_-Mk3Z",
        "outputId": "db4b17b8-02ba-4ae2-cb7b-5d6b95576305"
      },
      "outputs": [
        {
          "data": {
            "text/plain": [
              "203    Cifuentes Fetiva, Miguel Angel Sr.\n",
              "467      Martinez Solano, Juan Manuel Jr.\n",
              "678        Melendez, Carlos Manuel M. Sr.\n",
              "733        Castano Gonzalez, Angel U. Sr.\n",
              "Name: Name, dtype: object"
            ]
          },
          "execution_count": 102,
          "metadata": {},
          "output_type": "execute_result"
        }
      ],
      "source": [
        "boston.Name[boston.Name.str.split(expand=True).count(axis=1) == 5]"
      ]
    },
    {
      "cell_type": "code",
      "execution_count": 103,
      "metadata": {
        "colab": {
          "base_uri": "https://localhost:8080/"
        },
        "colab_type": "code",
        "id": "6d5G199tMzKN",
        "outputId": "0f2bb223-3e05-472d-c2ff-5a98a67f6d4e"
      },
      "outputs": [
        {
          "data": {
            "text/html": [
              "<div>\n",
              "<style scoped>\n",
              "    .dataframe tbody tr th:only-of-type {\n",
              "        vertical-align: middle;\n",
              "    }\n",
              "\n",
              "    .dataframe tbody tr th {\n",
              "        vertical-align: top;\n",
              "    }\n",
              "\n",
              "    .dataframe thead th {\n",
              "        text-align: right;\n",
              "    }\n",
              "</style>\n",
              "<table border=\"1\" class=\"dataframe\">\n",
              "  <thead>\n",
              "    <tr style=\"text-align: right;\">\n",
              "      <th></th>\n",
              "      <th>0</th>\n",
              "      <th>1</th>\n",
              "      <th>2</th>\n",
              "    </tr>\n",
              "  </thead>\n",
              "  <tbody>\n",
              "    <tr>\n",
              "      <th>0</th>\n",
              "      <td>Kirui,</td>\n",
              "      <td>Geoffrey</td>\n",
              "      <td>None</td>\n",
              "    </tr>\n",
              "    <tr>\n",
              "      <th>1</th>\n",
              "      <td>Rupp,</td>\n",
              "      <td>Galen</td>\n",
              "      <td>None</td>\n",
              "    </tr>\n",
              "    <tr>\n",
              "      <th>2</th>\n",
              "      <td>Osako,</td>\n",
              "      <td>Suguru</td>\n",
              "      <td>None</td>\n",
              "    </tr>\n",
              "    <tr>\n",
              "      <th>3</th>\n",
              "      <td>Biwott,</td>\n",
              "      <td>Shadrack</td>\n",
              "      <td>None</td>\n",
              "    </tr>\n",
              "    <tr>\n",
              "      <th>4</th>\n",
              "      <td>Chebet,</td>\n",
              "      <td>Wilson</td>\n",
              "      <td>None</td>\n",
              "    </tr>\n",
              "    <tr>\n",
              "      <th>...</th>\n",
              "      <td>...</td>\n",
              "      <td>...</td>\n",
              "      <td>...</td>\n",
              "    </tr>\n",
              "    <tr>\n",
              "      <th>995</th>\n",
              "      <td>Larosa,</td>\n",
              "      <td>Mark</td>\n",
              "      <td>None</td>\n",
              "    </tr>\n",
              "    <tr>\n",
              "      <th>996</th>\n",
              "      <td>Williamson,</td>\n",
              "      <td>Jerry</td>\n",
              "      <td>A</td>\n",
              "    </tr>\n",
              "    <tr>\n",
              "      <th>997</th>\n",
              "      <td>Mccue,</td>\n",
              "      <td>Daniel</td>\n",
              "      <td>T</td>\n",
              "    </tr>\n",
              "    <tr>\n",
              "      <th>998</th>\n",
              "      <td>Larosa,</td>\n",
              "      <td>John</td>\n",
              "      <td>None</td>\n",
              "    </tr>\n",
              "    <tr>\n",
              "      <th>999</th>\n",
              "      <td>Sanchez,</td>\n",
              "      <td>Sam</td>\n",
              "      <td>R</td>\n",
              "    </tr>\n",
              "  </tbody>\n",
              "</table>\n",
              "<p>1000 rows × 3 columns</p>\n",
              "</div>"
            ],
            "text/plain": [
              "               0         1     2\n",
              "0         Kirui,  Geoffrey  None\n",
              "1          Rupp,     Galen  None\n",
              "2         Osako,    Suguru  None\n",
              "3        Biwott,  Shadrack  None\n",
              "4        Chebet,    Wilson  None\n",
              "..           ...       ...   ...\n",
              "995      Larosa,      Mark  None\n",
              "996  Williamson,     Jerry     A\n",
              "997       Mccue,    Daniel     T\n",
              "998      Larosa,      John  None\n",
              "999     Sanchez,       Sam     R\n",
              "\n",
              "[1000 rows x 3 columns]"
            ]
          },
          "execution_count": 103,
          "metadata": {},
          "output_type": "execute_result"
        }
      ],
      "source": [
        "boston.Name.str.split(expand=True, n=2)"
      ]
    },
    {
      "cell_type": "code",
      "execution_count": 104,
      "metadata": {
        "colab": {
          "base_uri": "https://localhost:8080/"
        },
        "colab_type": "code",
        "id": "Jl3aS4O6M_Zq",
        "outputId": "6a4d9dee-5251-4f2e-f11e-07afbc38c788"
      },
      "outputs": [
        {
          "data": {
            "text/html": [
              "<div>\n",
              "<style scoped>\n",
              "    .dataframe tbody tr th:only-of-type {\n",
              "        vertical-align: middle;\n",
              "    }\n",
              "\n",
              "    .dataframe tbody tr th {\n",
              "        vertical-align: top;\n",
              "    }\n",
              "\n",
              "    .dataframe thead th {\n",
              "        text-align: right;\n",
              "    }\n",
              "</style>\n",
              "<table border=\"1\" class=\"dataframe\">\n",
              "  <thead>\n",
              "    <tr style=\"text-align: right;\">\n",
              "      <th></th>\n",
              "      <th>0</th>\n",
              "      <th>1</th>\n",
              "    </tr>\n",
              "  </thead>\n",
              "  <tbody>\n",
              "    <tr>\n",
              "      <th>0</th>\n",
              "      <td>Kirui</td>\n",
              "      <td>Geoffrey</td>\n",
              "    </tr>\n",
              "    <tr>\n",
              "      <th>1</th>\n",
              "      <td>Rupp</td>\n",
              "      <td>Galen</td>\n",
              "    </tr>\n",
              "    <tr>\n",
              "      <th>2</th>\n",
              "      <td>Osako</td>\n",
              "      <td>Suguru</td>\n",
              "    </tr>\n",
              "    <tr>\n",
              "      <th>3</th>\n",
              "      <td>Biwott</td>\n",
              "      <td>Shadrack</td>\n",
              "    </tr>\n",
              "    <tr>\n",
              "      <th>4</th>\n",
              "      <td>Chebet</td>\n",
              "      <td>Wilson</td>\n",
              "    </tr>\n",
              "    <tr>\n",
              "      <th>...</th>\n",
              "      <td>...</td>\n",
              "      <td>...</td>\n",
              "    </tr>\n",
              "    <tr>\n",
              "      <th>995</th>\n",
              "      <td>Larosa</td>\n",
              "      <td>Mark</td>\n",
              "    </tr>\n",
              "    <tr>\n",
              "      <th>996</th>\n",
              "      <td>Williamson</td>\n",
              "      <td>Jerry A</td>\n",
              "    </tr>\n",
              "    <tr>\n",
              "      <th>997</th>\n",
              "      <td>Mccue</td>\n",
              "      <td>Daniel T</td>\n",
              "    </tr>\n",
              "    <tr>\n",
              "      <th>998</th>\n",
              "      <td>Larosa</td>\n",
              "      <td>John</td>\n",
              "    </tr>\n",
              "    <tr>\n",
              "      <th>999</th>\n",
              "      <td>Sanchez</td>\n",
              "      <td>Sam R</td>\n",
              "    </tr>\n",
              "  </tbody>\n",
              "</table>\n",
              "<p>1000 rows × 2 columns</p>\n",
              "</div>"
            ],
            "text/plain": [
              "              0         1\n",
              "0         Kirui  Geoffrey\n",
              "1          Rupp     Galen\n",
              "2         Osako    Suguru\n",
              "3        Biwott  Shadrack\n",
              "4        Chebet    Wilson\n",
              "..          ...       ...\n",
              "995      Larosa      Mark\n",
              "996  Williamson   Jerry A\n",
              "997       Mccue  Daniel T\n",
              "998      Larosa      John\n",
              "999     Sanchez     Sam R\n",
              "\n",
              "[1000 rows x 2 columns]"
            ]
          },
          "execution_count": 104,
          "metadata": {},
          "output_type": "execute_result"
        }
      ],
      "source": [
        "boston.Name.str.split(', ', expand=True)"
      ]
    },
    {
      "cell_type": "code",
      "execution_count": 105,
      "metadata": {
        "colab": {
          "base_uri": "https://localhost:8080/"
        },
        "colab_type": "code",
        "id": "_3lLTxuUNlrv",
        "outputId": "af054f19-3119-4171-9b31-4edd4dad98b3"
      },
      "outputs": [
        {
          "data": {
            "text/html": [
              "<div>\n",
              "<style scoped>\n",
              "    .dataframe tbody tr th:only-of-type {\n",
              "        vertical-align: middle;\n",
              "    }\n",
              "\n",
              "    .dataframe tbody tr th {\n",
              "        vertical-align: top;\n",
              "    }\n",
              "\n",
              "    .dataframe thead th {\n",
              "        text-align: right;\n",
              "    }\n",
              "</style>\n",
              "<table border=\"1\" class=\"dataframe\">\n",
              "  <thead>\n",
              "    <tr style=\"text-align: right;\">\n",
              "      <th></th>\n",
              "      <th>Name</th>\n",
              "      <th>Age</th>\n",
              "      <th>M/F</th>\n",
              "      <th>City</th>\n",
              "      <th>State</th>\n",
              "      <th>Country</th>\n",
              "      <th>Official Time</th>\n",
              "      <th>Overall</th>\n",
              "      <th>Gender</th>\n",
              "      <th>Years Ran</th>\n",
              "    </tr>\n",
              "  </thead>\n",
              "  <tbody>\n",
              "    <tr>\n",
              "      <th>0</th>\n",
              "      <td>Kirui, Geoffrey</td>\n",
              "      <td>24</td>\n",
              "      <td>M</td>\n",
              "      <td>Keringet</td>\n",
              "      <td>NaN</td>\n",
              "      <td>KEN</td>\n",
              "      <td>2:09:37</td>\n",
              "      <td>1</td>\n",
              "      <td>1</td>\n",
              "      <td>NaN</td>\n",
              "    </tr>\n",
              "    <tr>\n",
              "      <th>1</th>\n",
              "      <td>Rupp, Galen</td>\n",
              "      <td>30</td>\n",
              "      <td>M</td>\n",
              "      <td>Portland</td>\n",
              "      <td>OR</td>\n",
              "      <td>USA</td>\n",
              "      <td>2:09:58</td>\n",
              "      <td>2</td>\n",
              "      <td>2</td>\n",
              "      <td>NaN</td>\n",
              "    </tr>\n",
              "    <tr>\n",
              "      <th>2</th>\n",
              "      <td>Osako, Suguru</td>\n",
              "      <td>25</td>\n",
              "      <td>M</td>\n",
              "      <td>Machida-City</td>\n",
              "      <td>NaN</td>\n",
              "      <td>JPN</td>\n",
              "      <td>2:10:28</td>\n",
              "      <td>3</td>\n",
              "      <td>3</td>\n",
              "      <td>NaN</td>\n",
              "    </tr>\n",
              "    <tr>\n",
              "      <th>3</th>\n",
              "      <td>Biwott, Shadrack</td>\n",
              "      <td>32</td>\n",
              "      <td>M</td>\n",
              "      <td>Mammoth Lakes</td>\n",
              "      <td>CA</td>\n",
              "      <td>USA</td>\n",
              "      <td>2:12:08</td>\n",
              "      <td>4</td>\n",
              "      <td>4</td>\n",
              "      <td>NaN</td>\n",
              "    </tr>\n",
              "    <tr>\n",
              "      <th>4</th>\n",
              "      <td>Chebet, Wilson</td>\n",
              "      <td>31</td>\n",
              "      <td>M</td>\n",
              "      <td>Marakwet</td>\n",
              "      <td>NaN</td>\n",
              "      <td>KEN</td>\n",
              "      <td>2:12:35</td>\n",
              "      <td>5</td>\n",
              "      <td>5</td>\n",
              "      <td>2015</td>\n",
              "    </tr>\n",
              "  </tbody>\n",
              "</table>\n",
              "</div>"
            ],
            "text/plain": [
              "               Name  Age M/F           City State Country Official Time  \\\n",
              "0   Kirui, Geoffrey   24   M       Keringet   NaN     KEN       2:09:37   \n",
              "1       Rupp, Galen   30   M       Portland    OR     USA       2:09:58   \n",
              "2     Osako, Suguru   25   M   Machida-City   NaN     JPN       2:10:28   \n",
              "3  Biwott, Shadrack   32   M  Mammoth Lakes    CA     USA       2:12:08   \n",
              "4    Chebet, Wilson   31   M       Marakwet   NaN     KEN       2:12:35   \n",
              "\n",
              "   Overall  Gender Years Ran  \n",
              "0        1       1       NaN  \n",
              "1        2       2       NaN  \n",
              "2        3       3       NaN  \n",
              "3        4       4       NaN  \n",
              "4        5       5      2015  "
            ]
          },
          "execution_count": 105,
          "metadata": {},
          "output_type": "execute_result"
        }
      ],
      "source": [
        "boston.head()"
      ]
    },
    {
      "cell_type": "code",
      "execution_count": 106,
      "metadata": {
        "colab": {},
        "colab_type": "code",
        "id": "MG6H-dLDNO3b"
      },
      "outputs": [],
      "source": [
        "boston[['First Name', 'Last Name']] = boston.Name.str.split(', ', expand=True)"
      ]
    },
    {
      "cell_type": "code",
      "execution_count": 107,
      "metadata": {
        "colab": {
          "base_uri": "https://localhost:8080/"
        },
        "colab_type": "code",
        "id": "d4MSn0T7Nr3U",
        "outputId": "c2d62890-fda8-4780-e991-ce80ddd6e7f4"
      },
      "outputs": [
        {
          "data": {
            "text/html": [
              "<div>\n",
              "<style scoped>\n",
              "    .dataframe tbody tr th:only-of-type {\n",
              "        vertical-align: middle;\n",
              "    }\n",
              "\n",
              "    .dataframe tbody tr th {\n",
              "        vertical-align: top;\n",
              "    }\n",
              "\n",
              "    .dataframe thead th {\n",
              "        text-align: right;\n",
              "    }\n",
              "</style>\n",
              "<table border=\"1\" class=\"dataframe\">\n",
              "  <thead>\n",
              "    <tr style=\"text-align: right;\">\n",
              "      <th></th>\n",
              "      <th>Name</th>\n",
              "      <th>Age</th>\n",
              "      <th>M/F</th>\n",
              "      <th>City</th>\n",
              "      <th>State</th>\n",
              "      <th>Country</th>\n",
              "      <th>Official Time</th>\n",
              "      <th>Overall</th>\n",
              "      <th>Gender</th>\n",
              "      <th>Years Ran</th>\n",
              "      <th>First Name</th>\n",
              "      <th>Last Name</th>\n",
              "    </tr>\n",
              "  </thead>\n",
              "  <tbody>\n",
              "    <tr>\n",
              "      <th>0</th>\n",
              "      <td>Kirui, Geoffrey</td>\n",
              "      <td>24</td>\n",
              "      <td>M</td>\n",
              "      <td>Keringet</td>\n",
              "      <td>NaN</td>\n",
              "      <td>KEN</td>\n",
              "      <td>2:09:37</td>\n",
              "      <td>1</td>\n",
              "      <td>1</td>\n",
              "      <td>NaN</td>\n",
              "      <td>Kirui</td>\n",
              "      <td>Geoffrey</td>\n",
              "    </tr>\n",
              "    <tr>\n",
              "      <th>1</th>\n",
              "      <td>Rupp, Galen</td>\n",
              "      <td>30</td>\n",
              "      <td>M</td>\n",
              "      <td>Portland</td>\n",
              "      <td>OR</td>\n",
              "      <td>USA</td>\n",
              "      <td>2:09:58</td>\n",
              "      <td>2</td>\n",
              "      <td>2</td>\n",
              "      <td>NaN</td>\n",
              "      <td>Rupp</td>\n",
              "      <td>Galen</td>\n",
              "    </tr>\n",
              "    <tr>\n",
              "      <th>2</th>\n",
              "      <td>Osako, Suguru</td>\n",
              "      <td>25</td>\n",
              "      <td>M</td>\n",
              "      <td>Machida-City</td>\n",
              "      <td>NaN</td>\n",
              "      <td>JPN</td>\n",
              "      <td>2:10:28</td>\n",
              "      <td>3</td>\n",
              "      <td>3</td>\n",
              "      <td>NaN</td>\n",
              "      <td>Osako</td>\n",
              "      <td>Suguru</td>\n",
              "    </tr>\n",
              "    <tr>\n",
              "      <th>3</th>\n",
              "      <td>Biwott, Shadrack</td>\n",
              "      <td>32</td>\n",
              "      <td>M</td>\n",
              "      <td>Mammoth Lakes</td>\n",
              "      <td>CA</td>\n",
              "      <td>USA</td>\n",
              "      <td>2:12:08</td>\n",
              "      <td>4</td>\n",
              "      <td>4</td>\n",
              "      <td>NaN</td>\n",
              "      <td>Biwott</td>\n",
              "      <td>Shadrack</td>\n",
              "    </tr>\n",
              "    <tr>\n",
              "      <th>4</th>\n",
              "      <td>Chebet, Wilson</td>\n",
              "      <td>31</td>\n",
              "      <td>M</td>\n",
              "      <td>Marakwet</td>\n",
              "      <td>NaN</td>\n",
              "      <td>KEN</td>\n",
              "      <td>2:12:35</td>\n",
              "      <td>5</td>\n",
              "      <td>5</td>\n",
              "      <td>2015</td>\n",
              "      <td>Chebet</td>\n",
              "      <td>Wilson</td>\n",
              "    </tr>\n",
              "  </tbody>\n",
              "</table>\n",
              "</div>"
            ],
            "text/plain": [
              "               Name  Age M/F           City State Country Official Time  \\\n",
              "0   Kirui, Geoffrey   24   M       Keringet   NaN     KEN       2:09:37   \n",
              "1       Rupp, Galen   30   M       Portland    OR     USA       2:09:58   \n",
              "2     Osako, Suguru   25   M   Machida-City   NaN     JPN       2:10:28   \n",
              "3  Biwott, Shadrack   32   M  Mammoth Lakes    CA     USA       2:12:08   \n",
              "4    Chebet, Wilson   31   M       Marakwet   NaN     KEN       2:12:35   \n",
              "\n",
              "   Overall  Gender Years Ran First Name Last Name  \n",
              "0        1       1       NaN      Kirui  Geoffrey  \n",
              "1        2       2       NaN       Rupp     Galen  \n",
              "2        3       3       NaN      Osako    Suguru  \n",
              "3        4       4       NaN     Biwott  Shadrack  \n",
              "4        5       5      2015     Chebet    Wilson  "
            ]
          },
          "execution_count": 107,
          "metadata": {},
          "output_type": "execute_result"
        }
      ],
      "source": [
        "boston.head()"
      ]
    },
    {
      "cell_type": "markdown",
      "metadata": {
        "colab_type": "text",
        "id": "LsrMPTQ2NtLJ"
      },
      "source": [
        "#### Skill Challenge"
      ]
    },
    {
      "cell_type": "markdown",
      "metadata": {
        "colab_type": "text",
        "id": "HUWVNVKLOMU8"
      },
      "source": [
        "###### **1.**"
      ]
    },
    {
      "cell_type": "markdown",
      "metadata": {
        "colab_type": "text",
        "id": "FydSSgqOOe5v"
      },
      "source": [
        "How many runners in our dataset have \"James\" as a *Last Name*."
      ]
    },
    {
      "cell_type": "markdown",
      "metadata": {
        "colab_type": "text",
        "id": "K_oWyfL3OKcJ"
      },
      "source": [
        "###### **2.**"
      ]
    },
    {
      "cell_type": "markdown",
      "metadata": {
        "colab_type": "text",
        "id": "zd1HvEXeOkCy"
      },
      "source": [
        "Split all the *City* names in the dataset by the hyphen character \"-\", and create a dataframe containing each split component of the split name.\n",
        "\n",
        "Assign this dataframe to the variable *city_parts*."
      ]
    },
    {
      "cell_type": "markdown",
      "metadata": {
        "colab_type": "text",
        "id": "rz4EkcI6Omd5"
      },
      "source": [
        "###### **3.**"
      ]
    },
    {
      "cell_type": "markdown",
      "metadata": {
        "colab_type": "text",
        "id": "7YOhqiKoOpZj"
      },
      "source": [
        "How many cities in the boston dataframe have more than 1 component? Which cities are they?"
      ]
    },
    {
      "cell_type": "markdown",
      "metadata": {
        "colab_type": "text",
        "id": "KPzZtRO8PqrS"
      },
      "source": [
        "#### Solution"
      ]
    },
    {
      "cell_type": "code",
      "execution_count": 108,
      "metadata": {
        "colab": {},
        "colab_type": "code",
        "id": "f0pxJiSOPrjH"
      },
      "outputs": [],
      "source": [
        "# 1"
      ]
    },
    {
      "cell_type": "code",
      "execution_count": 109,
      "metadata": {
        "colab": {
          "base_uri": "https://localhost:8080/"
        },
        "colab_type": "code",
        "id": "6GHg1DycQHsc",
        "outputId": "8611a9b5-10ab-4115-d7f3-14dc1dd8c7b9"
      },
      "outputs": [
        {
          "data": {
            "text/html": [
              "<div>\n",
              "<style scoped>\n",
              "    .dataframe tbody tr th:only-of-type {\n",
              "        vertical-align: middle;\n",
              "    }\n",
              "\n",
              "    .dataframe tbody tr th {\n",
              "        vertical-align: top;\n",
              "    }\n",
              "\n",
              "    .dataframe thead th {\n",
              "        text-align: right;\n",
              "    }\n",
              "</style>\n",
              "<table border=\"1\" class=\"dataframe\">\n",
              "  <thead>\n",
              "    <tr style=\"text-align: right;\">\n",
              "      <th></th>\n",
              "      <th>Name</th>\n",
              "      <th>Age</th>\n",
              "      <th>M/F</th>\n",
              "      <th>City</th>\n",
              "      <th>State</th>\n",
              "      <th>Country</th>\n",
              "      <th>Official Time</th>\n",
              "      <th>Overall</th>\n",
              "      <th>Gender</th>\n",
              "      <th>Years Ran</th>\n",
              "      <th>First Name</th>\n",
              "      <th>Last Name</th>\n",
              "    </tr>\n",
              "  </thead>\n",
              "  <tbody>\n",
              "    <tr>\n",
              "      <th>0</th>\n",
              "      <td>Kirui, Geoffrey</td>\n",
              "      <td>24</td>\n",
              "      <td>M</td>\n",
              "      <td>Keringet</td>\n",
              "      <td>NaN</td>\n",
              "      <td>KEN</td>\n",
              "      <td>2:09:37</td>\n",
              "      <td>1</td>\n",
              "      <td>1</td>\n",
              "      <td>NaN</td>\n",
              "      <td>Kirui</td>\n",
              "      <td>Geoffrey</td>\n",
              "    </tr>\n",
              "    <tr>\n",
              "      <th>1</th>\n",
              "      <td>Rupp, Galen</td>\n",
              "      <td>30</td>\n",
              "      <td>M</td>\n",
              "      <td>Portland</td>\n",
              "      <td>OR</td>\n",
              "      <td>USA</td>\n",
              "      <td>2:09:58</td>\n",
              "      <td>2</td>\n",
              "      <td>2</td>\n",
              "      <td>NaN</td>\n",
              "      <td>Rupp</td>\n",
              "      <td>Galen</td>\n",
              "    </tr>\n",
              "    <tr>\n",
              "      <th>2</th>\n",
              "      <td>Osako, Suguru</td>\n",
              "      <td>25</td>\n",
              "      <td>M</td>\n",
              "      <td>Machida-City</td>\n",
              "      <td>NaN</td>\n",
              "      <td>JPN</td>\n",
              "      <td>2:10:28</td>\n",
              "      <td>3</td>\n",
              "      <td>3</td>\n",
              "      <td>NaN</td>\n",
              "      <td>Osako</td>\n",
              "      <td>Suguru</td>\n",
              "    </tr>\n",
              "    <tr>\n",
              "      <th>3</th>\n",
              "      <td>Biwott, Shadrack</td>\n",
              "      <td>32</td>\n",
              "      <td>M</td>\n",
              "      <td>Mammoth Lakes</td>\n",
              "      <td>CA</td>\n",
              "      <td>USA</td>\n",
              "      <td>2:12:08</td>\n",
              "      <td>4</td>\n",
              "      <td>4</td>\n",
              "      <td>NaN</td>\n",
              "      <td>Biwott</td>\n",
              "      <td>Shadrack</td>\n",
              "    </tr>\n",
              "    <tr>\n",
              "      <th>4</th>\n",
              "      <td>Chebet, Wilson</td>\n",
              "      <td>31</td>\n",
              "      <td>M</td>\n",
              "      <td>Marakwet</td>\n",
              "      <td>NaN</td>\n",
              "      <td>KEN</td>\n",
              "      <td>2:12:35</td>\n",
              "      <td>5</td>\n",
              "      <td>5</td>\n",
              "      <td>2015</td>\n",
              "      <td>Chebet</td>\n",
              "      <td>Wilson</td>\n",
              "    </tr>\n",
              "  </tbody>\n",
              "</table>\n",
              "</div>"
            ],
            "text/plain": [
              "               Name  Age M/F           City State Country Official Time  \\\n",
              "0   Kirui, Geoffrey   24   M       Keringet   NaN     KEN       2:09:37   \n",
              "1       Rupp, Galen   30   M       Portland    OR     USA       2:09:58   \n",
              "2     Osako, Suguru   25   M   Machida-City   NaN     JPN       2:10:28   \n",
              "3  Biwott, Shadrack   32   M  Mammoth Lakes    CA     USA       2:12:08   \n",
              "4    Chebet, Wilson   31   M       Marakwet   NaN     KEN       2:12:35   \n",
              "\n",
              "   Overall  Gender Years Ran First Name Last Name  \n",
              "0        1       1       NaN      Kirui  Geoffrey  \n",
              "1        2       2       NaN       Rupp     Galen  \n",
              "2        3       3       NaN      Osako    Suguru  \n",
              "3        4       4       NaN     Biwott  Shadrack  \n",
              "4        5       5      2015     Chebet    Wilson  "
            ]
          },
          "execution_count": 109,
          "metadata": {},
          "output_type": "execute_result"
        }
      ],
      "source": [
        "boston.head()"
      ]
    },
    {
      "cell_type": "code",
      "execution_count": 110,
      "metadata": {
        "colab": {
          "base_uri": "https://localhost:8080/"
        },
        "colab_type": "code",
        "id": "lZYU6NBaQIPx",
        "outputId": "6a03f222-a750-46de-a86d-9f81d9029a1c"
      },
      "outputs": [
        {
          "data": {
            "text/plain": [
              "-1    988\n",
              " 0     12\n",
              "Name: Last Name, dtype: int64"
            ]
          },
          "execution_count": 110,
          "metadata": {},
          "output_type": "execute_result"
        }
      ],
      "source": [
        "boston['Last Name'].str.find('James').value_counts()"
      ]
    },
    {
      "cell_type": "code",
      "execution_count": 111,
      "metadata": {
        "colab": {},
        "colab_type": "code",
        "id": "dWdwMUGIQLz0"
      },
      "outputs": [],
      "source": [
        "# 2"
      ]
    },
    {
      "cell_type": "code",
      "execution_count": 112,
      "metadata": {
        "colab": {},
        "colab_type": "code",
        "id": "-dh6NV-cQe1b"
      },
      "outputs": [],
      "source": [
        "city_parts = boston.City.str.split('-', expand=True)"
      ]
    },
    {
      "cell_type": "code",
      "execution_count": 113,
      "metadata": {
        "colab": {},
        "colab_type": "code",
        "id": "9Bhk1wEHQgXR"
      },
      "outputs": [],
      "source": [
        "# 3"
      ]
    },
    {
      "cell_type": "code",
      "execution_count": 114,
      "metadata": {
        "colab": {
          "base_uri": "https://localhost:8080/"
        },
        "colab_type": "code",
        "id": "a2ZJ_IZ_QtOD",
        "outputId": "9e46b6fb-1c24-480c-f49f-98faf74c60f0"
      },
      "outputs": [
        {
          "data": {
            "text/plain": [
              "2                    Machida-City\n",
              "35                 Sao Paulo - Sp\n",
              "188                  Baie-St-Paul\n",
              "201            Houghton-Le-Spring\n",
              "371          Boulogne-Billancourt\n",
              "420                    Mont-Royal\n",
              "585                Gif-Sur-Yvette\n",
              "615        Fossambault-Sur-Le-Lac\n",
              "724         Wiesbaden-Breckenheim\n",
              "727                    Saint-Tite\n",
              "794                   Marica - Rj\n",
              "820    Sainte-Catherine-De-Hatley\n",
              "830                    Pont-Rouge\n",
              "Name: City, dtype: object"
            ]
          },
          "execution_count": 114,
          "metadata": {},
          "output_type": "execute_result"
        }
      ],
      "source": [
        "boston[city_parts.count(axis=1) > 1].City"
      ]
    },
    {
      "cell_type": "code",
      "execution_count": 115,
      "metadata": {
        "colab": {},
        "colab_type": "code",
        "id": "AC9GzIvYQv08"
      },
      "outputs": [],
      "source": [
        "# bonus: which countries such cities hail from"
      ]
    },
    {
      "cell_type": "code",
      "execution_count": 116,
      "metadata": {
        "colab": {
          "base_uri": "https://localhost:8080/"
        },
        "colab_type": "code",
        "id": "uOWO69B9Q-_B",
        "outputId": "4de9d5fb-a3d0-4998-ea87-8deaf068a474"
      },
      "outputs": [
        {
          "data": {
            "text/plain": [
              "CAN    6\n",
              "BRA    2\n",
              "FRA    2\n",
              "JPN    1\n",
              "GBR    1\n",
              "GER    1\n",
              "Name: Country, dtype: int64"
            ]
          },
          "execution_count": 116,
          "metadata": {},
          "output_type": "execute_result"
        }
      ],
      "source": [
        "boston[city_parts.count(axis=1) > 1].Country.value_counts()"
      ]
    },
    {
      "cell_type": "markdown",
      "metadata": {
        "colab_type": "text",
        "id": "tWYVRbrMRBiU"
      },
      "source": [
        "#### Slicing Substrings"
      ]
    },
    {
      "cell_type": "code",
      "execution_count": 117,
      "metadata": {
        "colab": {
          "base_uri": "https://localhost:8080/"
        },
        "colab_type": "code",
        "id": "ClqE92GsoYlx",
        "outputId": "ce05b0fd-4192-4074-eea2-58be3c3802b3"
      },
      "outputs": [
        {
          "data": {
            "text/plain": [
              "'Welcome to the text manipulation section'"
            ]
          },
          "execution_count": 117,
          "metadata": {},
          "output_type": "execute_result"
        }
      ],
      "source": [
        "s"
      ]
    },
    {
      "cell_type": "code",
      "execution_count": 118,
      "metadata": {
        "colab": {},
        "colab_type": "code",
        "id": "8YGTYdT3spct"
      },
      "outputs": [],
      "source": [
        "# slice() + []"
      ]
    },
    {
      "cell_type": "code",
      "execution_count": 119,
      "metadata": {
        "colab": {
          "base_uri": "https://localhost:8080/"
        },
        "colab_type": "code",
        "id": "YfH8lZKBsq5K",
        "outputId": "8447c53e-ad0d-4c58-9cc0-6d1aaa9a1d2a"
      },
      "outputs": [
        {
          "data": {
            "text/plain": [
              "'Welcome'"
            ]
          },
          "execution_count": 119,
          "metadata": {},
          "output_type": "execute_result"
        }
      ],
      "source": [
        "s[slice(0, 7, 1)]"
      ]
    },
    {
      "cell_type": "code",
      "execution_count": 120,
      "metadata": {
        "colab": {
          "base_uri": "https://localhost:8080/"
        },
        "colab_type": "code",
        "id": "jJ6apDPOs44k",
        "outputId": "91bf5e28-9a28-40da-cc3d-97b18193238b"
      },
      "outputs": [
        {
          "data": {
            "text/plain": [
              "'Welcome'"
            ]
          },
          "execution_count": 120,
          "metadata": {},
          "output_type": "execute_result"
        }
      ],
      "source": [
        "s[slice(7)]"
      ]
    },
    {
      "cell_type": "code",
      "execution_count": 121,
      "metadata": {
        "colab": {
          "base_uri": "https://localhost:8080/"
        },
        "colab_type": "code",
        "id": "CZibFkU8tHeo",
        "outputId": "80a68885-9049-4dcd-c937-66108b09dcd4"
      },
      "outputs": [
        {
          "data": {
            "text/plain": [
              "'Welcome'"
            ]
          },
          "execution_count": 121,
          "metadata": {},
          "output_type": "execute_result"
        }
      ],
      "source": [
        "s[0:7:1]"
      ]
    },
    {
      "cell_type": "code",
      "execution_count": 122,
      "metadata": {
        "colab": {
          "base_uri": "https://localhost:8080/"
        },
        "colab_type": "code",
        "id": "L5oj06qEtSDN",
        "outputId": "f5c658f7-8e56-4e7c-c3a9-83d93c0ad54a"
      },
      "outputs": [
        {
          "data": {
            "text/plain": [
              "'Welcome'"
            ]
          },
          "execution_count": 122,
          "metadata": {},
          "output_type": "execute_result"
        }
      ],
      "source": [
        "s[:7:]"
      ]
    },
    {
      "cell_type": "code",
      "execution_count": 123,
      "metadata": {
        "colab": {
          "base_uri": "https://localhost:8080/"
        },
        "colab_type": "code",
        "id": "-oh4KE2StVU0",
        "outputId": "82e4336b-a45a-4080-9b1e-75c876489a0d"
      },
      "outputs": [
        {
          "data": {
            "text/html": [
              "<div>\n",
              "<style scoped>\n",
              "    .dataframe tbody tr th:only-of-type {\n",
              "        vertical-align: middle;\n",
              "    }\n",
              "\n",
              "    .dataframe tbody tr th {\n",
              "        vertical-align: top;\n",
              "    }\n",
              "\n",
              "    .dataframe thead th {\n",
              "        text-align: right;\n",
              "    }\n",
              "</style>\n",
              "<table border=\"1\" class=\"dataframe\">\n",
              "  <thead>\n",
              "    <tr style=\"text-align: right;\">\n",
              "      <th></th>\n",
              "      <th>Name</th>\n",
              "      <th>Age</th>\n",
              "      <th>M/F</th>\n",
              "      <th>City</th>\n",
              "      <th>State</th>\n",
              "      <th>Country</th>\n",
              "      <th>Official Time</th>\n",
              "      <th>Overall</th>\n",
              "      <th>Gender</th>\n",
              "      <th>Years Ran</th>\n",
              "      <th>First Name</th>\n",
              "      <th>Last Name</th>\n",
              "    </tr>\n",
              "  </thead>\n",
              "  <tbody>\n",
              "    <tr>\n",
              "      <th>0</th>\n",
              "      <td>Kirui, Geoffrey</td>\n",
              "      <td>24</td>\n",
              "      <td>M</td>\n",
              "      <td>Keringet</td>\n",
              "      <td>NaN</td>\n",
              "      <td>KEN</td>\n",
              "      <td>2:09:37</td>\n",
              "      <td>1</td>\n",
              "      <td>1</td>\n",
              "      <td>NaN</td>\n",
              "      <td>Kirui</td>\n",
              "      <td>Geoffrey</td>\n",
              "    </tr>\n",
              "    <tr>\n",
              "      <th>1</th>\n",
              "      <td>Rupp, Galen</td>\n",
              "      <td>30</td>\n",
              "      <td>M</td>\n",
              "      <td>Portland</td>\n",
              "      <td>OR</td>\n",
              "      <td>USA</td>\n",
              "      <td>2:09:58</td>\n",
              "      <td>2</td>\n",
              "      <td>2</td>\n",
              "      <td>NaN</td>\n",
              "      <td>Rupp</td>\n",
              "      <td>Galen</td>\n",
              "    </tr>\n",
              "    <tr>\n",
              "      <th>2</th>\n",
              "      <td>Osako, Suguru</td>\n",
              "      <td>25</td>\n",
              "      <td>M</td>\n",
              "      <td>Machida-City</td>\n",
              "      <td>NaN</td>\n",
              "      <td>JPN</td>\n",
              "      <td>2:10:28</td>\n",
              "      <td>3</td>\n",
              "      <td>3</td>\n",
              "      <td>NaN</td>\n",
              "      <td>Osako</td>\n",
              "      <td>Suguru</td>\n",
              "    </tr>\n",
              "    <tr>\n",
              "      <th>3</th>\n",
              "      <td>Biwott, Shadrack</td>\n",
              "      <td>32</td>\n",
              "      <td>M</td>\n",
              "      <td>Mammoth Lakes</td>\n",
              "      <td>CA</td>\n",
              "      <td>USA</td>\n",
              "      <td>2:12:08</td>\n",
              "      <td>4</td>\n",
              "      <td>4</td>\n",
              "      <td>NaN</td>\n",
              "      <td>Biwott</td>\n",
              "      <td>Shadrack</td>\n",
              "    </tr>\n",
              "    <tr>\n",
              "      <th>4</th>\n",
              "      <td>Chebet, Wilson</td>\n",
              "      <td>31</td>\n",
              "      <td>M</td>\n",
              "      <td>Marakwet</td>\n",
              "      <td>NaN</td>\n",
              "      <td>KEN</td>\n",
              "      <td>2:12:35</td>\n",
              "      <td>5</td>\n",
              "      <td>5</td>\n",
              "      <td>2015</td>\n",
              "      <td>Chebet</td>\n",
              "      <td>Wilson</td>\n",
              "    </tr>\n",
              "  </tbody>\n",
              "</table>\n",
              "</div>"
            ],
            "text/plain": [
              "               Name  Age M/F           City State Country Official Time  \\\n",
              "0   Kirui, Geoffrey   24   M       Keringet   NaN     KEN       2:09:37   \n",
              "1       Rupp, Galen   30   M       Portland    OR     USA       2:09:58   \n",
              "2     Osako, Suguru   25   M   Machida-City   NaN     JPN       2:10:28   \n",
              "3  Biwott, Shadrack   32   M  Mammoth Lakes    CA     USA       2:12:08   \n",
              "4    Chebet, Wilson   31   M       Marakwet   NaN     KEN       2:12:35   \n",
              "\n",
              "   Overall  Gender Years Ran First Name Last Name  \n",
              "0        1       1       NaN      Kirui  Geoffrey  \n",
              "1        2       2       NaN       Rupp     Galen  \n",
              "2        3       3       NaN      Osako    Suguru  \n",
              "3        4       4       NaN     Biwott  Shadrack  \n",
              "4        5       5      2015     Chebet    Wilson  "
            ]
          },
          "execution_count": 123,
          "metadata": {},
          "output_type": "execute_result"
        }
      ],
      "source": [
        "boston.head()"
      ]
    },
    {
      "cell_type": "code",
      "execution_count": 124,
      "metadata": {
        "colab": {
          "base_uri": "https://localhost:8080/"
        },
        "colab_type": "code",
        "id": "6dGm18JItZwy",
        "outputId": "50dc1afd-a270-4f9e-c234-0683a2e95880"
      },
      "outputs": [
        {
          "data": {
            "text/plain": [
              "0      KE\n",
              "1      US\n",
              "2      JP\n",
              "3      US\n",
              "4      KE\n",
              "       ..\n",
              "995    US\n",
              "996    US\n",
              "997    US\n",
              "998    US\n",
              "999    US\n",
              "Name: Country, Length: 1000, dtype: object"
            ]
          },
          "execution_count": 124,
          "metadata": {},
          "output_type": "execute_result"
        }
      ],
      "source": [
        "boston.Country.str.slice(0, 2, 1)"
      ]
    },
    {
      "cell_type": "code",
      "execution_count": 125,
      "metadata": {
        "colab": {
          "base_uri": "https://localhost:8080/"
        },
        "colab_type": "code",
        "id": "RX-7bCVbtfkk",
        "outputId": "ccb15b0b-6ae0-433d-c402-43d86417d913"
      },
      "outputs": [
        {
          "data": {
            "text/plain": [
              "0      EN\n",
              "1      SA\n",
              "2      PN\n",
              "3      SA\n",
              "4      EN\n",
              "       ..\n",
              "995    SA\n",
              "996    SA\n",
              "997    SA\n",
              "998    SA\n",
              "999    SA\n",
              "Name: Country, Length: 1000, dtype: object"
            ]
          },
          "execution_count": 125,
          "metadata": {},
          "output_type": "execute_result"
        }
      ],
      "source": [
        "boston.Country.str.slice(start=-2, step=1, stop=None)"
      ]
    },
    {
      "cell_type": "markdown",
      "metadata": {
        "colab_type": "text",
        "id": "Pgspen36ttP0"
      },
      "source": [
        "#### Masking With String Methods"
      ]
    },
    {
      "cell_type": "code",
      "execution_count": 126,
      "metadata": {
        "colab": {
          "base_uri": "https://localhost:8080/"
        },
        "colab_type": "code",
        "id": "WYMgVQ-tuSMI",
        "outputId": "d21d0d67-77eb-45dd-f9b3-14d717b149bf"
      },
      "outputs": [
        {
          "data": {
            "text/html": [
              "<div>\n",
              "<style scoped>\n",
              "    .dataframe tbody tr th:only-of-type {\n",
              "        vertical-align: middle;\n",
              "    }\n",
              "\n",
              "    .dataframe tbody tr th {\n",
              "        vertical-align: top;\n",
              "    }\n",
              "\n",
              "    .dataframe thead th {\n",
              "        text-align: right;\n",
              "    }\n",
              "</style>\n",
              "<table border=\"1\" class=\"dataframe\">\n",
              "  <thead>\n",
              "    <tr style=\"text-align: right;\">\n",
              "      <th></th>\n",
              "      <th>Name</th>\n",
              "      <th>Age</th>\n",
              "      <th>M/F</th>\n",
              "      <th>City</th>\n",
              "      <th>State</th>\n",
              "      <th>Country</th>\n",
              "      <th>Official Time</th>\n",
              "      <th>Overall</th>\n",
              "      <th>Gender</th>\n",
              "      <th>Years Ran</th>\n",
              "      <th>First Name</th>\n",
              "      <th>Last Name</th>\n",
              "    </tr>\n",
              "  </thead>\n",
              "  <tbody>\n",
              "    <tr>\n",
              "      <th>0</th>\n",
              "      <td>Kirui, Geoffrey</td>\n",
              "      <td>24</td>\n",
              "      <td>M</td>\n",
              "      <td>Keringet</td>\n",
              "      <td>NaN</td>\n",
              "      <td>KEN</td>\n",
              "      <td>2:09:37</td>\n",
              "      <td>1</td>\n",
              "      <td>1</td>\n",
              "      <td>NaN</td>\n",
              "      <td>Kirui</td>\n",
              "      <td>Geoffrey</td>\n",
              "    </tr>\n",
              "    <tr>\n",
              "      <th>1</th>\n",
              "      <td>Rupp, Galen</td>\n",
              "      <td>30</td>\n",
              "      <td>M</td>\n",
              "      <td>Portland</td>\n",
              "      <td>OR</td>\n",
              "      <td>USA</td>\n",
              "      <td>2:09:58</td>\n",
              "      <td>2</td>\n",
              "      <td>2</td>\n",
              "      <td>NaN</td>\n",
              "      <td>Rupp</td>\n",
              "      <td>Galen</td>\n",
              "    </tr>\n",
              "    <tr>\n",
              "      <th>2</th>\n",
              "      <td>Osako, Suguru</td>\n",
              "      <td>25</td>\n",
              "      <td>M</td>\n",
              "      <td>Machida-City</td>\n",
              "      <td>NaN</td>\n",
              "      <td>JPN</td>\n",
              "      <td>2:10:28</td>\n",
              "      <td>3</td>\n",
              "      <td>3</td>\n",
              "      <td>NaN</td>\n",
              "      <td>Osako</td>\n",
              "      <td>Suguru</td>\n",
              "    </tr>\n",
              "    <tr>\n",
              "      <th>3</th>\n",
              "      <td>Biwott, Shadrack</td>\n",
              "      <td>32</td>\n",
              "      <td>M</td>\n",
              "      <td>Mammoth Lakes</td>\n",
              "      <td>CA</td>\n",
              "      <td>USA</td>\n",
              "      <td>2:12:08</td>\n",
              "      <td>4</td>\n",
              "      <td>4</td>\n",
              "      <td>NaN</td>\n",
              "      <td>Biwott</td>\n",
              "      <td>Shadrack</td>\n",
              "    </tr>\n",
              "    <tr>\n",
              "      <th>4</th>\n",
              "      <td>Chebet, Wilson</td>\n",
              "      <td>31</td>\n",
              "      <td>M</td>\n",
              "      <td>Marakwet</td>\n",
              "      <td>NaN</td>\n",
              "      <td>KEN</td>\n",
              "      <td>2:12:35</td>\n",
              "      <td>5</td>\n",
              "      <td>5</td>\n",
              "      <td>2015</td>\n",
              "      <td>Chebet</td>\n",
              "      <td>Wilson</td>\n",
              "    </tr>\n",
              "  </tbody>\n",
              "</table>\n",
              "</div>"
            ],
            "text/plain": [
              "               Name  Age M/F           City State Country Official Time  \\\n",
              "0   Kirui, Geoffrey   24   M       Keringet   NaN     KEN       2:09:37   \n",
              "1       Rupp, Galen   30   M       Portland    OR     USA       2:09:58   \n",
              "2     Osako, Suguru   25   M   Machida-City   NaN     JPN       2:10:28   \n",
              "3  Biwott, Shadrack   32   M  Mammoth Lakes    CA     USA       2:12:08   \n",
              "4    Chebet, Wilson   31   M       Marakwet   NaN     KEN       2:12:35   \n",
              "\n",
              "   Overall  Gender Years Ran First Name Last Name  \n",
              "0        1       1       NaN      Kirui  Geoffrey  \n",
              "1        2       2       NaN       Rupp     Galen  \n",
              "2        3       3       NaN      Osako    Suguru  \n",
              "3        4       4       NaN     Biwott  Shadrack  \n",
              "4        5       5      2015     Chebet    Wilson  "
            ]
          },
          "execution_count": 126,
          "metadata": {},
          "output_type": "execute_result"
        }
      ],
      "source": [
        "boston.head()"
      ]
    },
    {
      "cell_type": "code",
      "execution_count": 127,
      "metadata": {
        "colab": {},
        "colab_type": "code",
        "id": "46NZoJnrunhc"
      },
      "outputs": [],
      "source": [
        "# Boolean masking (or indexing):\n",
        "#  - create sequence of booleans\n",
        "#  - use sequence to select from dataframe (or series)"
      ]
    },
    {
      "cell_type": "code",
      "execution_count": 128,
      "metadata": {
        "colab": {},
        "colab_type": "code",
        "id": "Hyh2fR7wu09t"
      },
      "outputs": [],
      "source": [
        "# Q: select all the Italian runners"
      ]
    },
    {
      "cell_type": "code",
      "execution_count": 129,
      "metadata": {
        "colab": {
          "base_uri": "https://localhost:8080/"
        },
        "colab_type": "code",
        "id": "hOzNdROSw8wO",
        "outputId": "1977676d-0507-4e25-dbbf-8559a31597b7"
      },
      "outputs": [
        {
          "data": {
            "text/plain": [
              "0      False\n",
              "1      False\n",
              "2      False\n",
              "3      False\n",
              "4      False\n",
              "       ...  \n",
              "995    False\n",
              "996    False\n",
              "997    False\n",
              "998    False\n",
              "999    False\n",
              "Name: Country, Length: 1000, dtype: bool"
            ]
          },
          "execution_count": 129,
          "metadata": {},
          "output_type": "execute_result"
        }
      ],
      "source": [
        "boston.Country == 'ITA'"
      ]
    },
    {
      "cell_type": "code",
      "execution_count": 130,
      "metadata": {
        "colab": {
          "base_uri": "https://localhost:8080/"
        },
        "colab_type": "code",
        "id": "wnAr5Qyhw_HE",
        "outputId": "8a0ec7d7-da1e-4701-fcf2-27404cc63572"
      },
      "outputs": [
        {
          "data": {
            "text/plain": [
              "0      False\n",
              "1      False\n",
              "2      False\n",
              "3      False\n",
              "4      False\n",
              "       ...  \n",
              "995    False\n",
              "996    False\n",
              "997    False\n",
              "998    False\n",
              "999    False\n",
              "Name: Country, Length: 1000, dtype: bool"
            ]
          },
          "execution_count": 130,
          "metadata": {},
          "output_type": "execute_result"
        }
      ],
      "source": [
        "boston.Country.str.match('ITA')"
      ]
    },
    {
      "cell_type": "code",
      "execution_count": 131,
      "metadata": {
        "colab": {
          "base_uri": "https://localhost:8080/"
        },
        "colab_type": "code",
        "id": "BuzrKSANxDwc",
        "outputId": "e75af026-d7fe-4f4c-ba0e-d21b1c496260"
      },
      "outputs": [
        {
          "data": {
            "text/html": [
              "<div>\n",
              "<style scoped>\n",
              "    .dataframe tbody tr th:only-of-type {\n",
              "        vertical-align: middle;\n",
              "    }\n",
              "\n",
              "    .dataframe tbody tr th {\n",
              "        vertical-align: top;\n",
              "    }\n",
              "\n",
              "    .dataframe thead th {\n",
              "        text-align: right;\n",
              "    }\n",
              "</style>\n",
              "<table border=\"1\" class=\"dataframe\">\n",
              "  <thead>\n",
              "    <tr style=\"text-align: right;\">\n",
              "      <th></th>\n",
              "      <th>Name</th>\n",
              "      <th>Age</th>\n",
              "      <th>M/F</th>\n",
              "      <th>City</th>\n",
              "      <th>State</th>\n",
              "      <th>Country</th>\n",
              "      <th>Official Time</th>\n",
              "      <th>Overall</th>\n",
              "      <th>Gender</th>\n",
              "      <th>Years Ran</th>\n",
              "      <th>First Name</th>\n",
              "      <th>Last Name</th>\n",
              "    </tr>\n",
              "  </thead>\n",
              "  <tbody>\n",
              "    <tr>\n",
              "      <th>56</th>\n",
              "      <td>Boudalia, Said Sr.</td>\n",
              "      <td>48</td>\n",
              "      <td>M</td>\n",
              "      <td>Belluno</td>\n",
              "      <td>NaN</td>\n",
              "      <td>ITA</td>\n",
              "      <td>2:30:11</td>\n",
              "      <td>57</td>\n",
              "      <td>51</td>\n",
              "      <td>2015:2016</td>\n",
              "      <td>Boudalia</td>\n",
              "      <td>Said Sr.</td>\n",
              "    </tr>\n",
              "    <tr>\n",
              "      <th>156</th>\n",
              "      <td>Achmuller, Hermann</td>\n",
              "      <td>46</td>\n",
              "      <td>M</td>\n",
              "      <td>Brixen</td>\n",
              "      <td>NaN</td>\n",
              "      <td>ITA</td>\n",
              "      <td>2:38:40</td>\n",
              "      <td>157</td>\n",
              "      <td>139</td>\n",
              "      <td>NaN</td>\n",
              "      <td>Achmuller</td>\n",
              "      <td>Hermann</td>\n",
              "    </tr>\n",
              "    <tr>\n",
              "      <th>792</th>\n",
              "      <td>Consolandi, Paolo Giorgio</td>\n",
              "      <td>39</td>\n",
              "      <td>M</td>\n",
              "      <td>Pessano Con Bornago (mi)</td>\n",
              "      <td>NaN</td>\n",
              "      <td>ITA</td>\n",
              "      <td>2:53:29</td>\n",
              "      <td>793</td>\n",
              "      <td>747</td>\n",
              "      <td>NaN</td>\n",
              "      <td>Consolandi</td>\n",
              "      <td>Paolo Giorgio</td>\n",
              "    </tr>\n",
              "    <tr>\n",
              "      <th>922</th>\n",
              "      <td>Zompanti, Alessandro</td>\n",
              "      <td>48</td>\n",
              "      <td>M</td>\n",
              "      <td>Fiuggi Fr</td>\n",
              "      <td>NaN</td>\n",
              "      <td>ITA</td>\n",
              "      <td>2:55:12</td>\n",
              "      <td>923</td>\n",
              "      <td>872</td>\n",
              "      <td>NaN</td>\n",
              "      <td>Zompanti</td>\n",
              "      <td>Alessandro</td>\n",
              "    </tr>\n",
              "  </tbody>\n",
              "</table>\n",
              "</div>"
            ],
            "text/plain": [
              "                          Name  Age M/F                      City State  \\\n",
              "56          Boudalia, Said Sr.   48   M                   Belluno   NaN   \n",
              "156         Achmuller, Hermann   46   M                    Brixen   NaN   \n",
              "792  Consolandi, Paolo Giorgio   39   M  Pessano Con Bornago (mi)   NaN   \n",
              "922       Zompanti, Alessandro   48   M                 Fiuggi Fr   NaN   \n",
              "\n",
              "    Country Official Time  Overall  Gender  Years Ran  First Name  \\\n",
              "56      ITA       2:30:11       57      51  2015:2016    Boudalia   \n",
              "156     ITA       2:38:40      157     139        NaN   Achmuller   \n",
              "792     ITA       2:53:29      793     747        NaN  Consolandi   \n",
              "922     ITA       2:55:12      923     872        NaN    Zompanti   \n",
              "\n",
              "         Last Name  \n",
              "56        Said Sr.  \n",
              "156        Hermann  \n",
              "792  Paolo Giorgio  \n",
              "922     Alessandro  "
            ]
          },
          "execution_count": 131,
          "metadata": {},
          "output_type": "execute_result"
        }
      ],
      "source": [
        "boston[boston.Country.str.match('ITA')]"
      ]
    },
    {
      "cell_type": "code",
      "execution_count": 132,
      "metadata": {
        "colab": {},
        "colab_type": "code",
        "id": "0eu-gv4JxJJb"
      },
      "outputs": [],
      "source": [
        "# Q: how about all the \"Will\"s?"
      ]
    },
    {
      "cell_type": "code",
      "execution_count": 133,
      "metadata": {
        "colab": {},
        "colab_type": "code",
        "id": "XZmqnKJuxdQU"
      },
      "outputs": [],
      "source": [
        "# no contains in python: instead 'Will' in 'Williams'"
      ]
    },
    {
      "cell_type": "code",
      "execution_count": 134,
      "metadata": {
        "colab": {},
        "colab_type": "code",
        "id": "WmN6WQnTxjer"
      },
      "outputs": [],
      "source": [
        "wills =  boston.Name.str.contains('Will')"
      ]
    },
    {
      "cell_type": "code",
      "execution_count": 135,
      "metadata": {
        "colab": {},
        "colab_type": "code",
        "id": "MY18IM7VxzEj"
      },
      "outputs": [],
      "source": [
        "forty5_plus = boston.Age >= 45"
      ]
    },
    {
      "cell_type": "code",
      "execution_count": 136,
      "metadata": {
        "colab": {
          "base_uri": "https://localhost:8080/"
        },
        "colab_type": "code",
        "id": "kEYF1NQYxuHA",
        "outputId": "071245e1-b137-455a-90de-c15944eaa3c2"
      },
      "outputs": [
        {
          "data": {
            "text/html": [
              "<div>\n",
              "<style scoped>\n",
              "    .dataframe tbody tr th:only-of-type {\n",
              "        vertical-align: middle;\n",
              "    }\n",
              "\n",
              "    .dataframe tbody tr th {\n",
              "        vertical-align: top;\n",
              "    }\n",
              "\n",
              "    .dataframe thead th {\n",
              "        text-align: right;\n",
              "    }\n",
              "</style>\n",
              "<table border=\"1\" class=\"dataframe\">\n",
              "  <thead>\n",
              "    <tr style=\"text-align: right;\">\n",
              "      <th></th>\n",
              "      <th>Name</th>\n",
              "      <th>Age</th>\n",
              "      <th>M/F</th>\n",
              "      <th>City</th>\n",
              "      <th>State</th>\n",
              "      <th>Country</th>\n",
              "      <th>Official Time</th>\n",
              "      <th>Overall</th>\n",
              "      <th>Gender</th>\n",
              "      <th>Years Ran</th>\n",
              "      <th>First Name</th>\n",
              "      <th>Last Name</th>\n",
              "    </tr>\n",
              "  </thead>\n",
              "  <tbody>\n",
              "    <tr>\n",
              "      <th>93</th>\n",
              "      <td>Vanos, William</td>\n",
              "      <td>45</td>\n",
              "      <td>M</td>\n",
              "      <td>Orlando</td>\n",
              "      <td>FL</td>\n",
              "      <td>USA</td>\n",
              "      <td>2:34:40</td>\n",
              "      <td>94</td>\n",
              "      <td>84</td>\n",
              "      <td>NaN</td>\n",
              "      <td>Vanos</td>\n",
              "      <td>William</td>\n",
              "    </tr>\n",
              "    <tr>\n",
              "      <th>526</th>\n",
              "      <td>Swenson, Will</td>\n",
              "      <td>45</td>\n",
              "      <td>M</td>\n",
              "      <td>Andover</td>\n",
              "      <td>MA</td>\n",
              "      <td>USA</td>\n",
              "      <td>2:49:10</td>\n",
              "      <td>527</td>\n",
              "      <td>490</td>\n",
              "      <td>2015:2016</td>\n",
              "      <td>Swenson</td>\n",
              "      <td>Will</td>\n",
              "    </tr>\n",
              "    <tr>\n",
              "      <th>814</th>\n",
              "      <td>Williamson, David</td>\n",
              "      <td>49</td>\n",
              "      <td>M</td>\n",
              "      <td>Sutton</td>\n",
              "      <td>NaN</td>\n",
              "      <td>GBR</td>\n",
              "      <td>2:53:46</td>\n",
              "      <td>815</td>\n",
              "      <td>768</td>\n",
              "      <td>NaN</td>\n",
              "      <td>Williamson</td>\n",
              "      <td>David</td>\n",
              "    </tr>\n",
              "    <tr>\n",
              "      <th>892</th>\n",
              "      <td>Rivera, Will</td>\n",
              "      <td>46</td>\n",
              "      <td>M</td>\n",
              "      <td>Elizabethtown</td>\n",
              "      <td>KY</td>\n",
              "      <td>USA</td>\n",
              "      <td>2:54:53</td>\n",
              "      <td>893</td>\n",
              "      <td>843</td>\n",
              "      <td>NaN</td>\n",
              "      <td>Rivera</td>\n",
              "      <td>Will</td>\n",
              "    </tr>\n",
              "  </tbody>\n",
              "</table>\n",
              "</div>"
            ],
            "text/plain": [
              "                  Name  Age M/F           City State Country Official Time  \\\n",
              "93      Vanos, William   45   M        Orlando    FL     USA       2:34:40   \n",
              "526      Swenson, Will   45   M        Andover    MA     USA       2:49:10   \n",
              "814  Williamson, David   49   M         Sutton   NaN     GBR       2:53:46   \n",
              "892       Rivera, Will   46   M  Elizabethtown    KY     USA       2:54:53   \n",
              "\n",
              "     Overall  Gender  Years Ran  First Name Last Name  \n",
              "93        94      84        NaN       Vanos   William  \n",
              "526      527     490  2015:2016     Swenson      Will  \n",
              "814      815     768        NaN  Williamson     David  \n",
              "892      893     843        NaN      Rivera      Will  "
            ]
          },
          "execution_count": 136,
          "metadata": {},
          "output_type": "execute_result"
        }
      ],
      "source": [
        "boston[wills & forty5_plus]"
      ]
    },
    {
      "cell_type": "code",
      "execution_count": 137,
      "metadata": {
        "colab": {
          "base_uri": "https://localhost:8080/"
        },
        "colab_type": "code",
        "id": "Bhc2gLD9xvfe",
        "outputId": "c83c6d97-23eb-4668-bef7-d0923fedd500"
      },
      "outputs": [
        {
          "data": {
            "text/plain": [
              "704    59\n",
              "648    57\n",
              "326    56\n",
              "370    56\n",
              "563    55\n",
              "864    55\n",
              "325    53\n",
              "394    53\n",
              "486    53\n",
              "579    53\n",
              "Name: Age, dtype: int64"
            ]
          },
          "execution_count": 137,
          "metadata": {},
          "output_type": "execute_result"
        }
      ],
      "source": [
        "boston.Age.nlargest(10)"
      ]
    },
    {
      "cell_type": "code",
      "execution_count": 138,
      "metadata": {
        "colab": {
          "base_uri": "https://localhost:8080/"
        },
        "colab_type": "code",
        "id": "Yj50nkB9x_Vj",
        "outputId": "dd5031d8-9378-41a1-a118-6426f3606408"
      },
      "outputs": [
        {
          "data": {
            "image/png": "[encoded data removed]",
            "text/plain": [
              "<Figure size 640x480 with 1 Axes>"
            ]
          },
          "metadata": {},
          "output_type": "display_data"
        }
      ],
      "source": [
        "boston.Age.hist();"
      ]
    },
    {
      "cell_type": "markdown",
      "metadata": {
        "colab_type": "text",
        "id": "9nfR81-nyFNG"
      },
      "source": [
        "#### BONUS: Parsing Indicators With get_dummies()"
      ]
    },
    {
      "cell_type": "code",
      "execution_count": 139,
      "metadata": {
        "colab": {
          "base_uri": "https://localhost:8080/"
        },
        "colab_type": "code",
        "id": "tIDmH8U3zWr7",
        "outputId": "9b04a3b8-adfc-40fc-a13a-b40abe0b5475"
      },
      "outputs": [
        {
          "data": {
            "text/html": [
              "<div>\n",
              "<style scoped>\n",
              "    .dataframe tbody tr th:only-of-type {\n",
              "        vertical-align: middle;\n",
              "    }\n",
              "\n",
              "    .dataframe tbody tr th {\n",
              "        vertical-align: top;\n",
              "    }\n",
              "\n",
              "    .dataframe thead th {\n",
              "        text-align: right;\n",
              "    }\n",
              "</style>\n",
              "<table border=\"1\" class=\"dataframe\">\n",
              "  <thead>\n",
              "    <tr style=\"text-align: right;\">\n",
              "      <th></th>\n",
              "      <th>Name</th>\n",
              "      <th>Age</th>\n",
              "      <th>M/F</th>\n",
              "      <th>City</th>\n",
              "      <th>State</th>\n",
              "      <th>Country</th>\n",
              "      <th>Official Time</th>\n",
              "      <th>Overall</th>\n",
              "      <th>Gender</th>\n",
              "      <th>Years Ran</th>\n",
              "      <th>First Name</th>\n",
              "      <th>Last Name</th>\n",
              "    </tr>\n",
              "  </thead>\n",
              "  <tbody>\n",
              "    <tr>\n",
              "      <th>0</th>\n",
              "      <td>Kirui, Geoffrey</td>\n",
              "      <td>24</td>\n",
              "      <td>M</td>\n",
              "      <td>Keringet</td>\n",
              "      <td>NaN</td>\n",
              "      <td>KEN</td>\n",
              "      <td>2:09:37</td>\n",
              "      <td>1</td>\n",
              "      <td>1</td>\n",
              "      <td>NaN</td>\n",
              "      <td>Kirui</td>\n",
              "      <td>Geoffrey</td>\n",
              "    </tr>\n",
              "    <tr>\n",
              "      <th>1</th>\n",
              "      <td>Rupp, Galen</td>\n",
              "      <td>30</td>\n",
              "      <td>M</td>\n",
              "      <td>Portland</td>\n",
              "      <td>OR</td>\n",
              "      <td>USA</td>\n",
              "      <td>2:09:58</td>\n",
              "      <td>2</td>\n",
              "      <td>2</td>\n",
              "      <td>NaN</td>\n",
              "      <td>Rupp</td>\n",
              "      <td>Galen</td>\n",
              "    </tr>\n",
              "    <tr>\n",
              "      <th>2</th>\n",
              "      <td>Osako, Suguru</td>\n",
              "      <td>25</td>\n",
              "      <td>M</td>\n",
              "      <td>Machida-City</td>\n",
              "      <td>NaN</td>\n",
              "      <td>JPN</td>\n",
              "      <td>2:10:28</td>\n",
              "      <td>3</td>\n",
              "      <td>3</td>\n",
              "      <td>NaN</td>\n",
              "      <td>Osako</td>\n",
              "      <td>Suguru</td>\n",
              "    </tr>\n",
              "    <tr>\n",
              "      <th>3</th>\n",
              "      <td>Biwott, Shadrack</td>\n",
              "      <td>32</td>\n",
              "      <td>M</td>\n",
              "      <td>Mammoth Lakes</td>\n",
              "      <td>CA</td>\n",
              "      <td>USA</td>\n",
              "      <td>2:12:08</td>\n",
              "      <td>4</td>\n",
              "      <td>4</td>\n",
              "      <td>NaN</td>\n",
              "      <td>Biwott</td>\n",
              "      <td>Shadrack</td>\n",
              "    </tr>\n",
              "    <tr>\n",
              "      <th>4</th>\n",
              "      <td>Chebet, Wilson</td>\n",
              "      <td>31</td>\n",
              "      <td>M</td>\n",
              "      <td>Marakwet</td>\n",
              "      <td>NaN</td>\n",
              "      <td>KEN</td>\n",
              "      <td>2:12:35</td>\n",
              "      <td>5</td>\n",
              "      <td>5</td>\n",
              "      <td>2015</td>\n",
              "      <td>Chebet</td>\n",
              "      <td>Wilson</td>\n",
              "    </tr>\n",
              "  </tbody>\n",
              "</table>\n",
              "</div>"
            ],
            "text/plain": [
              "               Name  Age M/F           City State Country Official Time  \\\n",
              "0   Kirui, Geoffrey   24   M       Keringet   NaN     KEN       2:09:37   \n",
              "1       Rupp, Galen   30   M       Portland    OR     USA       2:09:58   \n",
              "2     Osako, Suguru   25   M   Machida-City   NaN     JPN       2:10:28   \n",
              "3  Biwott, Shadrack   32   M  Mammoth Lakes    CA     USA       2:12:08   \n",
              "4    Chebet, Wilson   31   M       Marakwet   NaN     KEN       2:12:35   \n",
              "\n",
              "   Overall  Gender Years Ran First Name Last Name  \n",
              "0        1       1       NaN      Kirui  Geoffrey  \n",
              "1        2       2       NaN       Rupp     Galen  \n",
              "2        3       3       NaN      Osako    Suguru  \n",
              "3        4       4       NaN     Biwott  Shadrack  \n",
              "4        5       5      2015     Chebet    Wilson  "
            ]
          },
          "execution_count": 139,
          "metadata": {},
          "output_type": "execute_result"
        }
      ],
      "source": [
        "boston.head()"
      ]
    },
    {
      "cell_type": "code",
      "execution_count": 140,
      "metadata": {
        "colab": {
          "base_uri": "https://localhost:8080/"
        },
        "colab_type": "code",
        "id": "vGXdAzZC2ioy",
        "outputId": "04948d5b-4a1a-448f-937f-fadfb0015b78"
      },
      "outputs": [
        {
          "data": {
            "text/html": [
              "<div>\n",
              "<style scoped>\n",
              "    .dataframe tbody tr th:only-of-type {\n",
              "        vertical-align: middle;\n",
              "    }\n",
              "\n",
              "    .dataframe tbody tr th {\n",
              "        vertical-align: top;\n",
              "    }\n",
              "\n",
              "    .dataframe thead th {\n",
              "        text-align: right;\n",
              "    }\n",
              "</style>\n",
              "<table border=\"1\" class=\"dataframe\">\n",
              "  <thead>\n",
              "    <tr style=\"text-align: right;\">\n",
              "      <th></th>\n",
              "      <th>Name</th>\n",
              "      <th>Age</th>\n",
              "      <th>M/F</th>\n",
              "      <th>City</th>\n",
              "      <th>State</th>\n",
              "      <th>Country</th>\n",
              "      <th>Official Time</th>\n",
              "      <th>Overall</th>\n",
              "      <th>Gender</th>\n",
              "      <th>Years Ran</th>\n",
              "      <th>First Name</th>\n",
              "      <th>Last Name</th>\n",
              "    </tr>\n",
              "  </thead>\n",
              "  <tbody>\n",
              "    <tr>\n",
              "      <th>4</th>\n",
              "      <td>Chebet, Wilson</td>\n",
              "      <td>31</td>\n",
              "      <td>M</td>\n",
              "      <td>Marakwet</td>\n",
              "      <td>NaN</td>\n",
              "      <td>KEN</td>\n",
              "      <td>2:12:35</td>\n",
              "      <td>5</td>\n",
              "      <td>5</td>\n",
              "      <td>2015</td>\n",
              "      <td>Chebet</td>\n",
              "      <td>Wilson</td>\n",
              "    </tr>\n",
              "    <tr>\n",
              "      <th>12</th>\n",
              "      <td>Keflezighi, Meb</td>\n",
              "      <td>41</td>\n",
              "      <td>M</td>\n",
              "      <td>San Diego</td>\n",
              "      <td>CA</td>\n",
              "      <td>USA</td>\n",
              "      <td>2:17:00</td>\n",
              "      <td>13</td>\n",
              "      <td>13</td>\n",
              "      <td>2015</td>\n",
              "      <td>Keflezighi</td>\n",
              "      <td>Meb</td>\n",
              "    </tr>\n",
              "    <tr>\n",
              "      <th>13</th>\n",
              "      <td>Nyasango, Cutbert</td>\n",
              "      <td>34</td>\n",
              "      <td>M</td>\n",
              "      <td>Harara</td>\n",
              "      <td>NaN</td>\n",
              "      <td>ZIM</td>\n",
              "      <td>2:17:40</td>\n",
              "      <td>14</td>\n",
              "      <td>14</td>\n",
              "      <td>2016</td>\n",
              "      <td>Nyasango</td>\n",
              "      <td>Cutbert</td>\n",
              "    </tr>\n",
              "    <tr>\n",
              "      <th>14</th>\n",
              "      <td>Korir, Wesley</td>\n",
              "      <td>34</td>\n",
              "      <td>M</td>\n",
              "      <td>Kitale</td>\n",
              "      <td>NaN</td>\n",
              "      <td>KEN</td>\n",
              "      <td>2:18:14</td>\n",
              "      <td>15</td>\n",
              "      <td>15</td>\n",
              "      <td>2015:2016</td>\n",
              "      <td>Korir</td>\n",
              "      <td>Wesley</td>\n",
              "    </tr>\n",
              "    <tr>\n",
              "      <th>29</th>\n",
              "      <td>Maravilla, Jorge</td>\n",
              "      <td>39</td>\n",
              "      <td>M</td>\n",
              "      <td>Mill Valley</td>\n",
              "      <td>CA</td>\n",
              "      <td>USA</td>\n",
              "      <td>2:24:27</td>\n",
              "      <td>30</td>\n",
              "      <td>27</td>\n",
              "      <td>2016</td>\n",
              "      <td>Maravilla</td>\n",
              "      <td>Jorge</td>\n",
              "    </tr>\n",
              "    <tr>\n",
              "      <th>...</th>\n",
              "      <td>...</td>\n",
              "      <td>...</td>\n",
              "      <td>...</td>\n",
              "      <td>...</td>\n",
              "      <td>...</td>\n",
              "      <td>...</td>\n",
              "      <td>...</td>\n",
              "      <td>...</td>\n",
              "      <td>...</td>\n",
              "      <td>...</td>\n",
              "      <td>...</td>\n",
              "      <td>...</td>\n",
              "    </tr>\n",
              "    <tr>\n",
              "      <th>986</th>\n",
              "      <td>Bretz, Virgil</td>\n",
              "      <td>44</td>\n",
              "      <td>M</td>\n",
              "      <td>Mt. Kisco</td>\n",
              "      <td>NY</td>\n",
              "      <td>USA</td>\n",
              "      <td>2:56:02</td>\n",
              "      <td>987</td>\n",
              "      <td>931</td>\n",
              "      <td>2015:2016</td>\n",
              "      <td>Bretz</td>\n",
              "      <td>Virgil</td>\n",
              "    </tr>\n",
              "    <tr>\n",
              "      <th>987</th>\n",
              "      <td>Cucuzzella, Mark</td>\n",
              "      <td>50</td>\n",
              "      <td>M</td>\n",
              "      <td>Shepherdstown</td>\n",
              "      <td>WV</td>\n",
              "      <td>USA</td>\n",
              "      <td>2:56:03</td>\n",
              "      <td>988</td>\n",
              "      <td>932</td>\n",
              "      <td>2016</td>\n",
              "      <td>Cucuzzella</td>\n",
              "      <td>Mark</td>\n",
              "    </tr>\n",
              "    <tr>\n",
              "      <th>988</th>\n",
              "      <td>Carron, John B</td>\n",
              "      <td>46</td>\n",
              "      <td>M</td>\n",
              "      <td>Irvington</td>\n",
              "      <td>NY</td>\n",
              "      <td>USA</td>\n",
              "      <td>2:56:03</td>\n",
              "      <td>989</td>\n",
              "      <td>933</td>\n",
              "      <td>2016</td>\n",
              "      <td>Carron</td>\n",
              "      <td>John B</td>\n",
              "    </tr>\n",
              "    <tr>\n",
              "      <th>995</th>\n",
              "      <td>Larosa, Mark</td>\n",
              "      <td>38</td>\n",
              "      <td>M</td>\n",
              "      <td>North Andover</td>\n",
              "      <td>MA</td>\n",
              "      <td>USA</td>\n",
              "      <td>2:56:06</td>\n",
              "      <td>996</td>\n",
              "      <td>940</td>\n",
              "      <td>2015:2016</td>\n",
              "      <td>Larosa</td>\n",
              "      <td>Mark</td>\n",
              "    </tr>\n",
              "    <tr>\n",
              "      <th>996</th>\n",
              "      <td>Williamson, Jerry A</td>\n",
              "      <td>43</td>\n",
              "      <td>M</td>\n",
              "      <td>Raleigh</td>\n",
              "      <td>NC</td>\n",
              "      <td>USA</td>\n",
              "      <td>2:56:06</td>\n",
              "      <td>997</td>\n",
              "      <td>941</td>\n",
              "      <td>2015</td>\n",
              "      <td>Williamson</td>\n",
              "      <td>Jerry A</td>\n",
              "    </tr>\n",
              "  </tbody>\n",
              "</table>\n",
              "<p>315 rows × 12 columns</p>\n",
              "</div>"
            ],
            "text/plain": [
              "                    Name  Age M/F           City State Country Official Time  \\\n",
              "4         Chebet, Wilson   31   M       Marakwet   NaN     KEN       2:12:35   \n",
              "12       Keflezighi, Meb   41   M      San Diego    CA     USA       2:17:00   \n",
              "13     Nyasango, Cutbert   34   M         Harara   NaN     ZIM       2:17:40   \n",
              "14         Korir, Wesley   34   M         Kitale   NaN     KEN       2:18:14   \n",
              "29      Maravilla, Jorge   39   M    Mill Valley    CA     USA       2:24:27   \n",
              "..                   ...  ...  ..            ...   ...     ...           ...   \n",
              "986        Bretz, Virgil   44   M      Mt. Kisco    NY     USA       2:56:02   \n",
              "987     Cucuzzella, Mark   50   M  Shepherdstown    WV     USA       2:56:03   \n",
              "988       Carron, John B   46   M      Irvington    NY     USA       2:56:03   \n",
              "995         Larosa, Mark   38   M  North Andover    MA     USA       2:56:06   \n",
              "996  Williamson, Jerry A   43   M        Raleigh    NC     USA       2:56:06   \n",
              "\n",
              "     Overall  Gender  Years Ran  First Name Last Name  \n",
              "4          5       5       2015      Chebet    Wilson  \n",
              "12        13      13       2015  Keflezighi       Meb  \n",
              "13        14      14       2016    Nyasango   Cutbert  \n",
              "14        15      15  2015:2016       Korir    Wesley  \n",
              "29        30      27       2016   Maravilla     Jorge  \n",
              "..       ...     ...        ...         ...       ...  \n",
              "986      987     931  2015:2016       Bretz    Virgil  \n",
              "987      988     932       2016  Cucuzzella      Mark  \n",
              "988      989     933       2016      Carron    John B  \n",
              "995      996     940  2015:2016      Larosa      Mark  \n",
              "996      997     941       2015  Williamson   Jerry A  \n",
              "\n",
              "[315 rows x 12 columns]"
            ]
          },
          "execution_count": 140,
          "metadata": {},
          "output_type": "execute_result"
        }
      ],
      "source": [
        "boston[boston['Years Ran'].notnull()]"
      ]
    },
    {
      "cell_type": "code",
      "execution_count": 141,
      "metadata": {
        "colab": {
          "base_uri": "https://localhost:8080/"
        },
        "colab_type": "code",
        "id": "zHVGdKIi-IV3",
        "outputId": "2495b25d-c0af-4671-b405-aad53d01aa9b"
      },
      "outputs": [
        {
          "data": {
            "text/plain": [
              "array([nan, '2015', '2016', '2015:2016'], dtype=object)"
            ]
          },
          "execution_count": 141,
          "metadata": {},
          "output_type": "execute_result"
        }
      ],
      "source": [
        "boston['Years Ran'].unique()"
      ]
    },
    {
      "cell_type": "code",
      "execution_count": 142,
      "metadata": {
        "colab": {},
        "colab_type": "code",
        "id": "kXhr3xUm-Pz1"
      },
      "outputs": [],
      "source": [
        "dummies = boston['Years Ran'].str.get_dummies(sep=':')"
      ]
    },
    {
      "cell_type": "code",
      "execution_count": 143,
      "metadata": {
        "colab": {
          "base_uri": "https://localhost:8080/"
        },
        "colab_type": "code",
        "id": "sf_8Bv1j_eTN",
        "outputId": "6108f76a-d7c9-4e4b-9c37-fd3494dd9c5c"
      },
      "outputs": [
        {
          "data": {
            "text/html": [
              "<div>\n",
              "<style scoped>\n",
              "    .dataframe tbody tr th:only-of-type {\n",
              "        vertical-align: middle;\n",
              "    }\n",
              "\n",
              "    .dataframe tbody tr th {\n",
              "        vertical-align: top;\n",
              "    }\n",
              "\n",
              "    .dataframe thead th {\n",
              "        text-align: right;\n",
              "    }\n",
              "</style>\n",
              "<table border=\"1\" class=\"dataframe\">\n",
              "  <thead>\n",
              "    <tr style=\"text-align: right;\">\n",
              "      <th></th>\n",
              "      <th>2015</th>\n",
              "      <th>2016</th>\n",
              "    </tr>\n",
              "  </thead>\n",
              "  <tbody>\n",
              "    <tr>\n",
              "      <th>0</th>\n",
              "      <td>0</td>\n",
              "      <td>0</td>\n",
              "    </tr>\n",
              "    <tr>\n",
              "      <th>1</th>\n",
              "      <td>0</td>\n",
              "      <td>0</td>\n",
              "    </tr>\n",
              "    <tr>\n",
              "      <th>2</th>\n",
              "      <td>0</td>\n",
              "      <td>0</td>\n",
              "    </tr>\n",
              "    <tr>\n",
              "      <th>3</th>\n",
              "      <td>0</td>\n",
              "      <td>0</td>\n",
              "    </tr>\n",
              "    <tr>\n",
              "      <th>4</th>\n",
              "      <td>1</td>\n",
              "      <td>0</td>\n",
              "    </tr>\n",
              "  </tbody>\n",
              "</table>\n",
              "</div>"
            ],
            "text/plain": [
              "   2015  2016\n",
              "0     0     0\n",
              "1     0     0\n",
              "2     0     0\n",
              "3     0     0\n",
              "4     1     0"
            ]
          },
          "execution_count": 143,
          "metadata": {},
          "output_type": "execute_result"
        }
      ],
      "source": [
        "dummies.head()"
      ]
    },
    {
      "cell_type": "code",
      "execution_count": 144,
      "metadata": {
        "colab": {},
        "colab_type": "code",
        "id": "6pSemQwK-wax"
      },
      "outputs": [],
      "source": [
        "# the df.insert()"
      ]
    },
    {
      "cell_type": "code",
      "execution_count": 145,
      "metadata": {
        "colab": {},
        "colab_type": "code",
        "id": "QbxX61cc---E"
      },
      "outputs": [],
      "source": [
        "boston.insert(boston.columns.get_loc('Years Ran'), 'Ran 2015', dummies['2015'])\n",
        "boston.insert(boston.columns.get_loc('Years Ran'), 'Ran 2016', dummies['2016'])"
      ]
    },
    {
      "cell_type": "code",
      "execution_count": 146,
      "metadata": {
        "colab": {
          "base_uri": "https://localhost:8080/"
        },
        "colab_type": "code",
        "id": "bcd2hrMv_lTd",
        "outputId": "80ae8eb0-890c-4ee6-ce55-f66ba513b0c6"
      },
      "outputs": [
        {
          "data": {
            "text/html": [
              "<div>\n",
              "<style scoped>\n",
              "    .dataframe tbody tr th:only-of-type {\n",
              "        vertical-align: middle;\n",
              "    }\n",
              "\n",
              "    .dataframe tbody tr th {\n",
              "        vertical-align: top;\n",
              "    }\n",
              "\n",
              "    .dataframe thead th {\n",
              "        text-align: right;\n",
              "    }\n",
              "</style>\n",
              "<table border=\"1\" class=\"dataframe\">\n",
              "  <thead>\n",
              "    <tr style=\"text-align: right;\">\n",
              "      <th></th>\n",
              "      <th>Name</th>\n",
              "      <th>Age</th>\n",
              "      <th>M/F</th>\n",
              "      <th>City</th>\n",
              "      <th>State</th>\n",
              "      <th>Country</th>\n",
              "      <th>Official Time</th>\n",
              "      <th>Overall</th>\n",
              "      <th>Gender</th>\n",
              "      <th>Ran 2015</th>\n",
              "      <th>Ran 2016</th>\n",
              "      <th>Years Ran</th>\n",
              "      <th>First Name</th>\n",
              "      <th>Last Name</th>\n",
              "    </tr>\n",
              "  </thead>\n",
              "  <tbody>\n",
              "    <tr>\n",
              "      <th>0</th>\n",
              "      <td>Kirui, Geoffrey</td>\n",
              "      <td>24</td>\n",
              "      <td>M</td>\n",
              "      <td>Keringet</td>\n",
              "      <td>NaN</td>\n",
              "      <td>KEN</td>\n",
              "      <td>2:09:37</td>\n",
              "      <td>1</td>\n",
              "      <td>1</td>\n",
              "      <td>0</td>\n",
              "      <td>0</td>\n",
              "      <td>NaN</td>\n",
              "      <td>Kirui</td>\n",
              "      <td>Geoffrey</td>\n",
              "    </tr>\n",
              "    <tr>\n",
              "      <th>1</th>\n",
              "      <td>Rupp, Galen</td>\n",
              "      <td>30</td>\n",
              "      <td>M</td>\n",
              "      <td>Portland</td>\n",
              "      <td>OR</td>\n",
              "      <td>USA</td>\n",
              "      <td>2:09:58</td>\n",
              "      <td>2</td>\n",
              "      <td>2</td>\n",
              "      <td>0</td>\n",
              "      <td>0</td>\n",
              "      <td>NaN</td>\n",
              "      <td>Rupp</td>\n",
              "      <td>Galen</td>\n",
              "    </tr>\n",
              "    <tr>\n",
              "      <th>2</th>\n",
              "      <td>Osako, Suguru</td>\n",
              "      <td>25</td>\n",
              "      <td>M</td>\n",
              "      <td>Machida-City</td>\n",
              "      <td>NaN</td>\n",
              "      <td>JPN</td>\n",
              "      <td>2:10:28</td>\n",
              "      <td>3</td>\n",
              "      <td>3</td>\n",
              "      <td>0</td>\n",
              "      <td>0</td>\n",
              "      <td>NaN</td>\n",
              "      <td>Osako</td>\n",
              "      <td>Suguru</td>\n",
              "    </tr>\n",
              "    <tr>\n",
              "      <th>3</th>\n",
              "      <td>Biwott, Shadrack</td>\n",
              "      <td>32</td>\n",
              "      <td>M</td>\n",
              "      <td>Mammoth Lakes</td>\n",
              "      <td>CA</td>\n",
              "      <td>USA</td>\n",
              "      <td>2:12:08</td>\n",
              "      <td>4</td>\n",
              "      <td>4</td>\n",
              "      <td>0</td>\n",
              "      <td>0</td>\n",
              "      <td>NaN</td>\n",
              "      <td>Biwott</td>\n",
              "      <td>Shadrack</td>\n",
              "    </tr>\n",
              "    <tr>\n",
              "      <th>4</th>\n",
              "      <td>Chebet, Wilson</td>\n",
              "      <td>31</td>\n",
              "      <td>M</td>\n",
              "      <td>Marakwet</td>\n",
              "      <td>NaN</td>\n",
              "      <td>KEN</td>\n",
              "      <td>2:12:35</td>\n",
              "      <td>5</td>\n",
              "      <td>5</td>\n",
              "      <td>1</td>\n",
              "      <td>0</td>\n",
              "      <td>2015</td>\n",
              "      <td>Chebet</td>\n",
              "      <td>Wilson</td>\n",
              "    </tr>\n",
              "    <tr>\n",
              "      <th>5</th>\n",
              "      <td>Abdirahman, Abdi</td>\n",
              "      <td>40</td>\n",
              "      <td>M</td>\n",
              "      <td>Phoenix</td>\n",
              "      <td>AZ</td>\n",
              "      <td>USA</td>\n",
              "      <td>2:12:45</td>\n",
              "      <td>6</td>\n",
              "      <td>6</td>\n",
              "      <td>0</td>\n",
              "      <td>0</td>\n",
              "      <td>NaN</td>\n",
              "      <td>Abdirahman</td>\n",
              "      <td>Abdi</td>\n",
              "    </tr>\n",
              "    <tr>\n",
              "      <th>6</th>\n",
              "      <td>Maiyo, Augustus K.</td>\n",
              "      <td>33</td>\n",
              "      <td>M</td>\n",
              "      <td>Colorado Springs</td>\n",
              "      <td>CO</td>\n",
              "      <td>USA</td>\n",
              "      <td>2:13:16</td>\n",
              "      <td>7</td>\n",
              "      <td>7</td>\n",
              "      <td>0</td>\n",
              "      <td>0</td>\n",
              "      <td>NaN</td>\n",
              "      <td>Maiyo</td>\n",
              "      <td>Augustus K.</td>\n",
              "    </tr>\n",
              "    <tr>\n",
              "      <th>7</th>\n",
              "      <td>Sefir, Dino</td>\n",
              "      <td>28</td>\n",
              "      <td>M</td>\n",
              "      <td>Addis Ababa</td>\n",
              "      <td>NaN</td>\n",
              "      <td>ETH</td>\n",
              "      <td>2:14:26</td>\n",
              "      <td>8</td>\n",
              "      <td>8</td>\n",
              "      <td>0</td>\n",
              "      <td>0</td>\n",
              "      <td>NaN</td>\n",
              "      <td>Sefir</td>\n",
              "      <td>Dino</td>\n",
              "    </tr>\n",
              "    <tr>\n",
              "      <th>8</th>\n",
              "      <td>Puskedra, Luke</td>\n",
              "      <td>27</td>\n",
              "      <td>M</td>\n",
              "      <td>Eugene</td>\n",
              "      <td>OR</td>\n",
              "      <td>USA</td>\n",
              "      <td>2:14:45</td>\n",
              "      <td>9</td>\n",
              "      <td>9</td>\n",
              "      <td>0</td>\n",
              "      <td>0</td>\n",
              "      <td>NaN</td>\n",
              "      <td>Puskedra</td>\n",
              "      <td>Luke</td>\n",
              "    </tr>\n",
              "    <tr>\n",
              "      <th>9</th>\n",
              "      <td>Ward, Jared</td>\n",
              "      <td>28</td>\n",
              "      <td>M</td>\n",
              "      <td>Kaysville</td>\n",
              "      <td>UT</td>\n",
              "      <td>USA</td>\n",
              "      <td>2:15:28</td>\n",
              "      <td>10</td>\n",
              "      <td>10</td>\n",
              "      <td>0</td>\n",
              "      <td>0</td>\n",
              "      <td>NaN</td>\n",
              "      <td>Ward</td>\n",
              "      <td>Jared</td>\n",
              "    </tr>\n",
              "  </tbody>\n",
              "</table>\n",
              "</div>"
            ],
            "text/plain": [
              "                 Name  Age M/F              City State Country Official Time  \\\n",
              "0     Kirui, Geoffrey   24   M          Keringet   NaN     KEN       2:09:37   \n",
              "1         Rupp, Galen   30   M          Portland    OR     USA       2:09:58   \n",
              "2       Osako, Suguru   25   M      Machida-City   NaN     JPN       2:10:28   \n",
              "3    Biwott, Shadrack   32   M     Mammoth Lakes    CA     USA       2:12:08   \n",
              "4      Chebet, Wilson   31   M          Marakwet   NaN     KEN       2:12:35   \n",
              "5    Abdirahman, Abdi   40   M           Phoenix    AZ     USA       2:12:45   \n",
              "6  Maiyo, Augustus K.   33   M  Colorado Springs    CO     USA       2:13:16   \n",
              "7         Sefir, Dino   28   M       Addis Ababa   NaN     ETH       2:14:26   \n",
              "8      Puskedra, Luke   27   M            Eugene    OR     USA       2:14:45   \n",
              "9         Ward, Jared   28   M         Kaysville    UT     USA       2:15:28   \n",
              "\n",
              "   Overall  Gender  Ran 2015  Ran 2016 Years Ran  First Name    Last Name  \n",
              "0        1       1         0         0       NaN       Kirui     Geoffrey  \n",
              "1        2       2         0         0       NaN        Rupp        Galen  \n",
              "2        3       3         0         0       NaN       Osako       Suguru  \n",
              "3        4       4         0         0       NaN      Biwott     Shadrack  \n",
              "4        5       5         1         0      2015      Chebet       Wilson  \n",
              "5        6       6         0         0       NaN  Abdirahman         Abdi  \n",
              "6        7       7         0         0       NaN       Maiyo  Augustus K.  \n",
              "7        8       8         0         0       NaN       Sefir         Dino  \n",
              "8        9       9         0         0       NaN    Puskedra         Luke  \n",
              "9       10      10         0         0       NaN        Ward        Jared  "
            ]
          },
          "execution_count": 146,
          "metadata": {},
          "output_type": "execute_result"
        }
      ],
      "source": [
        "boston.head(10)"
      ]
    },
    {
      "cell_type": "code",
      "execution_count": 147,
      "metadata": {
        "colab": {},
        "colab_type": "code",
        "id": "T6W0Kp3o_mdA"
      },
      "outputs": [],
      "source": [
        "# Q: which top runners from 2017 also ran in the previous two Boston marthons"
      ]
    },
    {
      "cell_type": "code",
      "execution_count": 148,
      "metadata": {
        "colab": {
          "base_uri": "https://localhost:8080/"
        },
        "colab_type": "code",
        "id": "6z7e_KSI_x-2",
        "outputId": "ed785d2e-b426-4c9b-e9f0-491859eadee8"
      },
      "outputs": [
        {
          "data": {
            "text/html": [
              "<div>\n",
              "<style scoped>\n",
              "    .dataframe tbody tr th:only-of-type {\n",
              "        vertical-align: middle;\n",
              "    }\n",
              "\n",
              "    .dataframe tbody tr th {\n",
              "        vertical-align: top;\n",
              "    }\n",
              "\n",
              "    .dataframe thead th {\n",
              "        text-align: right;\n",
              "    }\n",
              "</style>\n",
              "<table border=\"1\" class=\"dataframe\">\n",
              "  <thead>\n",
              "    <tr style=\"text-align: right;\">\n",
              "      <th></th>\n",
              "      <th>Name</th>\n",
              "      <th>Age</th>\n",
              "      <th>M/F</th>\n",
              "      <th>City</th>\n",
              "      <th>State</th>\n",
              "      <th>Country</th>\n",
              "      <th>Official Time</th>\n",
              "      <th>Overall</th>\n",
              "      <th>Gender</th>\n",
              "      <th>Ran 2015</th>\n",
              "      <th>Ran 2016</th>\n",
              "      <th>Years Ran</th>\n",
              "      <th>First Name</th>\n",
              "      <th>Last Name</th>\n",
              "    </tr>\n",
              "  </thead>\n",
              "  <tbody>\n",
              "    <tr>\n",
              "      <th>14</th>\n",
              "      <td>Korir, Wesley</td>\n",
              "      <td>34</td>\n",
              "      <td>M</td>\n",
              "      <td>Kitale</td>\n",
              "      <td>NaN</td>\n",
              "      <td>KEN</td>\n",
              "      <td>2:18:14</td>\n",
              "      <td>15</td>\n",
              "      <td>15</td>\n",
              "      <td>1</td>\n",
              "      <td>1</td>\n",
              "      <td>2015:2016</td>\n",
              "      <td>Korir</td>\n",
              "      <td>Wesley</td>\n",
              "    </tr>\n",
              "    <tr>\n",
              "      <th>30</th>\n",
              "      <td>Ornelas, Zachary</td>\n",
              "      <td>25</td>\n",
              "      <td>M</td>\n",
              "      <td>Ann Arbor</td>\n",
              "      <td>MI</td>\n",
              "      <td>USA</td>\n",
              "      <td>2:24:40</td>\n",
              "      <td>31</td>\n",
              "      <td>28</td>\n",
              "      <td>1</td>\n",
              "      <td>1</td>\n",
              "      <td>2015:2016</td>\n",
              "      <td>Ornelas</td>\n",
              "      <td>Zachary</td>\n",
              "    </tr>\n",
              "    <tr>\n",
              "      <th>31</th>\n",
              "      <td>Ayr, Jason M.</td>\n",
              "      <td>29</td>\n",
              "      <td>M</td>\n",
              "      <td>Allston</td>\n",
              "      <td>MA</td>\n",
              "      <td>USA</td>\n",
              "      <td>2:24:49</td>\n",
              "      <td>32</td>\n",
              "      <td>29</td>\n",
              "      <td>1</td>\n",
              "      <td>1</td>\n",
              "      <td>2015:2016</td>\n",
              "      <td>Ayr</td>\n",
              "      <td>Jason M.</td>\n",
              "    </tr>\n",
              "    <tr>\n",
              "      <th>36</th>\n",
              "      <td>Vangampleare, Stephen</td>\n",
              "      <td>26</td>\n",
              "      <td>M</td>\n",
              "      <td>Colorado Springs</td>\n",
              "      <td>CO</td>\n",
              "      <td>USA</td>\n",
              "      <td>2:25:35</td>\n",
              "      <td>37</td>\n",
              "      <td>33</td>\n",
              "      <td>1</td>\n",
              "      <td>1</td>\n",
              "      <td>2015:2016</td>\n",
              "      <td>Vangampleare</td>\n",
              "      <td>Stephen</td>\n",
              "    </tr>\n",
              "    <tr>\n",
              "      <th>56</th>\n",
              "      <td>Boudalia, Said Sr.</td>\n",
              "      <td>48</td>\n",
              "      <td>M</td>\n",
              "      <td>Belluno</td>\n",
              "      <td>NaN</td>\n",
              "      <td>ITA</td>\n",
              "      <td>2:30:11</td>\n",
              "      <td>57</td>\n",
              "      <td>51</td>\n",
              "      <td>1</td>\n",
              "      <td>1</td>\n",
              "      <td>2015:2016</td>\n",
              "      <td>Boudalia</td>\n",
              "      <td>Said Sr.</td>\n",
              "    </tr>\n",
              "    <tr>\n",
              "      <th>...</th>\n",
              "      <td>...</td>\n",
              "      <td>...</td>\n",
              "      <td>...</td>\n",
              "      <td>...</td>\n",
              "      <td>...</td>\n",
              "      <td>...</td>\n",
              "      <td>...</td>\n",
              "      <td>...</td>\n",
              "      <td>...</td>\n",
              "      <td>...</td>\n",
              "      <td>...</td>\n",
              "      <td>...</td>\n",
              "      <td>...</td>\n",
              "      <td>...</td>\n",
              "    </tr>\n",
              "    <tr>\n",
              "      <th>959</th>\n",
              "      <td>Yu, Michael</td>\n",
              "      <td>45</td>\n",
              "      <td>M</td>\n",
              "      <td>Zhubei City, Hsinchu County</td>\n",
              "      <td>NaN</td>\n",
              "      <td>TWN</td>\n",
              "      <td>2:55:40</td>\n",
              "      <td>960</td>\n",
              "      <td>907</td>\n",
              "      <td>1</td>\n",
              "      <td>1</td>\n",
              "      <td>2015:2016</td>\n",
              "      <td>Yu</td>\n",
              "      <td>Michael</td>\n",
              "    </tr>\n",
              "    <tr>\n",
              "      <th>962</th>\n",
              "      <td>Husak, Tyler</td>\n",
              "      <td>30</td>\n",
              "      <td>M</td>\n",
              "      <td>Marion</td>\n",
              "      <td>IA</td>\n",
              "      <td>USA</td>\n",
              "      <td>2:55:42</td>\n",
              "      <td>963</td>\n",
              "      <td>910</td>\n",
              "      <td>1</td>\n",
              "      <td>1</td>\n",
              "      <td>2015:2016</td>\n",
              "      <td>Husak</td>\n",
              "      <td>Tyler</td>\n",
              "    </tr>\n",
              "    <tr>\n",
              "      <th>977</th>\n",
              "      <td>Guthals, Nathaniel</td>\n",
              "      <td>26</td>\n",
              "      <td>M</td>\n",
              "      <td>Overland Park</td>\n",
              "      <td>KS</td>\n",
              "      <td>USA</td>\n",
              "      <td>2:55:57</td>\n",
              "      <td>978</td>\n",
              "      <td>923</td>\n",
              "      <td>1</td>\n",
              "      <td>1</td>\n",
              "      <td>2015:2016</td>\n",
              "      <td>Guthals</td>\n",
              "      <td>Nathaniel</td>\n",
              "    </tr>\n",
              "    <tr>\n",
              "      <th>986</th>\n",
              "      <td>Bretz, Virgil</td>\n",
              "      <td>44</td>\n",
              "      <td>M</td>\n",
              "      <td>Mt. Kisco</td>\n",
              "      <td>NY</td>\n",
              "      <td>USA</td>\n",
              "      <td>2:56:02</td>\n",
              "      <td>987</td>\n",
              "      <td>931</td>\n",
              "      <td>1</td>\n",
              "      <td>1</td>\n",
              "      <td>2015:2016</td>\n",
              "      <td>Bretz</td>\n",
              "      <td>Virgil</td>\n",
              "    </tr>\n",
              "    <tr>\n",
              "      <th>995</th>\n",
              "      <td>Larosa, Mark</td>\n",
              "      <td>38</td>\n",
              "      <td>M</td>\n",
              "      <td>North Andover</td>\n",
              "      <td>MA</td>\n",
              "      <td>USA</td>\n",
              "      <td>2:56:06</td>\n",
              "      <td>996</td>\n",
              "      <td>940</td>\n",
              "      <td>1</td>\n",
              "      <td>1</td>\n",
              "      <td>2015:2016</td>\n",
              "      <td>Larosa</td>\n",
              "      <td>Mark</td>\n",
              "    </tr>\n",
              "  </tbody>\n",
              "</table>\n",
              "<p>124 rows × 14 columns</p>\n",
              "</div>"
            ],
            "text/plain": [
              "                      Name  Age M/F                         City State  \\\n",
              "14           Korir, Wesley   34   M                       Kitale   NaN   \n",
              "30        Ornelas, Zachary   25   M                    Ann Arbor    MI   \n",
              "31           Ayr, Jason M.   29   M                      Allston    MA   \n",
              "36   Vangampleare, Stephen   26   M             Colorado Springs    CO   \n",
              "56      Boudalia, Said Sr.   48   M                      Belluno   NaN   \n",
              "..                     ...  ...  ..                          ...   ...   \n",
              "959            Yu, Michael   45   M  Zhubei City, Hsinchu County   NaN   \n",
              "962           Husak, Tyler   30   M                       Marion    IA   \n",
              "977     Guthals, Nathaniel   26   M                Overland Park    KS   \n",
              "986          Bretz, Virgil   44   M                    Mt. Kisco    NY   \n",
              "995           Larosa, Mark   38   M                North Andover    MA   \n",
              "\n",
              "    Country Official Time  Overall  Gender  Ran 2015  Ran 2016  Years Ran  \\\n",
              "14      KEN       2:18:14       15      15         1         1  2015:2016   \n",
              "30      USA       2:24:40       31      28         1         1  2015:2016   \n",
              "31      USA       2:24:49       32      29         1         1  2015:2016   \n",
              "36      USA       2:25:35       37      33         1         1  2015:2016   \n",
              "56      ITA       2:30:11       57      51         1         1  2015:2016   \n",
              "..      ...           ...      ...     ...       ...       ...        ...   \n",
              "959     TWN       2:55:40      960     907         1         1  2015:2016   \n",
              "962     USA       2:55:42      963     910         1         1  2015:2016   \n",
              "977     USA       2:55:57      978     923         1         1  2015:2016   \n",
              "986     USA       2:56:02      987     931         1         1  2015:2016   \n",
              "995     USA       2:56:06      996     940         1         1  2015:2016   \n",
              "\n",
              "       First Name  Last Name  \n",
              "14          Korir     Wesley  \n",
              "30        Ornelas    Zachary  \n",
              "31            Ayr   Jason M.  \n",
              "36   Vangampleare    Stephen  \n",
              "56       Boudalia   Said Sr.  \n",
              "..            ...        ...  \n",
              "959            Yu    Michael  \n",
              "962         Husak      Tyler  \n",
              "977       Guthals  Nathaniel  \n",
              "986         Bretz     Virgil  \n",
              "995        Larosa       Mark  \n",
              "\n",
              "[124 rows x 14 columns]"
            ]
          },
          "execution_count": 148,
          "metadata": {},
          "output_type": "execute_result"
        }
      ],
      "source": [
        "boston[(boston['Ran 2015']==1) & (boston['Ran 2016']==1)]"
      ]
    },
    {
      "cell_type": "code",
      "execution_count": 149,
      "metadata": {
        "colab": {},
        "colab_type": "code",
        "id": "x0IpvS25_4mh"
      },
      "outputs": [],
      "source": [
        "# Q: how many top runners from 2017 also ran in 2015"
      ]
    },
    {
      "cell_type": "code",
      "execution_count": 150,
      "metadata": {
        "colab": {
          "base_uri": "https://localhost:8080/"
        },
        "colab_type": "code",
        "id": "q3R8MNtp__H9",
        "outputId": "da49c551-7fd3-47cc-9e15-686f241b6d81"
      },
      "outputs": [
        {
          "data": {
            "text/plain": [
              "190"
            ]
          },
          "execution_count": 150,
          "metadata": {},
          "output_type": "execute_result"
        }
      ],
      "source": [
        "boston['Ran 2015'].sum()"
      ]
    },
    {
      "cell_type": "markdown",
      "metadata": {
        "colab_type": "text",
        "id": "sc3LGLCAAA_j"
      },
      "source": [
        "#### Text Replacement"
      ]
    },
    {
      "cell_type": "code",
      "execution_count": 151,
      "metadata": {
        "colab": {},
        "colab_type": "code",
        "id": "pxT498MkEfbn"
      },
      "outputs": [],
      "source": [
        "# Agenda:\n",
        "#  - exact char sequence replacements in python and pandas\n",
        "#  - in a couple of lectures: regex"
      ]
    },
    {
      "cell_type": "code",
      "execution_count": 152,
      "metadata": {
        "colab": {
          "base_uri": "https://localhost:8080/"
        },
        "colab_type": "code",
        "id": "ERrlgq_UAlXB",
        "outputId": "72d7af00-4250-49fa-9bc2-70f6c26f61f5"
      },
      "outputs": [
        {
          "data": {
            "text/plain": [
              "'Welcome to the text manipulation section'"
            ]
          },
          "execution_count": 152,
          "metadata": {},
          "output_type": "execute_result"
        }
      ],
      "source": [
        "s"
      ]
    },
    {
      "cell_type": "code",
      "execution_count": 153,
      "metadata": {
        "colab": {},
        "colab_type": "code",
        "id": "0i-lUM6qFDLn"
      },
      "outputs": [],
      "source": [
        "s += '. This section is about text.'"
      ]
    },
    {
      "cell_type": "code",
      "execution_count": 154,
      "metadata": {
        "colab": {
          "base_uri": "https://localhost:8080/"
        },
        "colab_type": "code",
        "id": "AMHcC8JFFWh4",
        "outputId": "100896f9-576b-49c7-f019-f7f7fcd4a610"
      },
      "outputs": [
        {
          "data": {
            "text/plain": [
              "'Welcome to the text manipulation section. This section is about text.'"
            ]
          },
          "execution_count": 154,
          "metadata": {},
          "output_type": "execute_result"
        }
      ],
      "source": [
        "s"
      ]
    },
    {
      "cell_type": "code",
      "execution_count": 155,
      "metadata": {
        "colab": {
          "base_uri": "https://localhost:8080/"
        },
        "colab_type": "code",
        "id": "FP69NFbUFW5K",
        "outputId": "53e55d5c-d847-4438-8cf4-21116146633c"
      },
      "outputs": [
        {
          "data": {
            "text/plain": [
              "'Welcome to the string manipulation section. This section is about string.'"
            ]
          },
          "execution_count": 155,
          "metadata": {},
          "output_type": "execute_result"
        }
      ],
      "source": [
        "s.replace('text', 'string')"
      ]
    },
    {
      "cell_type": "code",
      "execution_count": 156,
      "metadata": {
        "colab": {
          "base_uri": "https://localhost:8080/"
        },
        "colab_type": "code",
        "id": "tCo4044TFgsq",
        "outputId": "7afee79c-815d-4d14-b2a6-78c2a009b115"
      },
      "outputs": [
        {
          "data": {
            "text/plain": [
              "'Welcome to the string manipulation section. This section is about text.'"
            ]
          },
          "execution_count": 156,
          "metadata": {},
          "output_type": "execute_result"
        }
      ],
      "source": [
        "s.replace('text', 'string', 1)"
      ]
    },
    {
      "cell_type": "code",
      "execution_count": 157,
      "metadata": {
        "colab": {
          "base_uri": "https://localhost:8080/"
        },
        "colab_type": "code",
        "id": "XMjsvS41FnyF",
        "outputId": "b6280090-45cb-498f-d5b2-fd458d1d856a"
      },
      "outputs": [
        {
          "data": {
            "text/html": [
              "<div>\n",
              "<style scoped>\n",
              "    .dataframe tbody tr th:only-of-type {\n",
              "        vertical-align: middle;\n",
              "    }\n",
              "\n",
              "    .dataframe tbody tr th {\n",
              "        vertical-align: top;\n",
              "    }\n",
              "\n",
              "    .dataframe thead th {\n",
              "        text-align: right;\n",
              "    }\n",
              "</style>\n",
              "<table border=\"1\" class=\"dataframe\">\n",
              "  <thead>\n",
              "    <tr style=\"text-align: right;\">\n",
              "      <th></th>\n",
              "      <th>Name</th>\n",
              "      <th>Age</th>\n",
              "      <th>M/F</th>\n",
              "      <th>City</th>\n",
              "      <th>State</th>\n",
              "      <th>Country</th>\n",
              "      <th>Official Time</th>\n",
              "      <th>Overall</th>\n",
              "      <th>Gender</th>\n",
              "      <th>Ran 2015</th>\n",
              "      <th>Ran 2016</th>\n",
              "      <th>Years Ran</th>\n",
              "      <th>First Name</th>\n",
              "      <th>Last Name</th>\n",
              "    </tr>\n",
              "  </thead>\n",
              "  <tbody>\n",
              "    <tr>\n",
              "      <th>241</th>\n",
              "      <td>White, Erick</td>\n",
              "      <td>24</td>\n",
              "      <td>M</td>\n",
              "      <td>Atlanta</td>\n",
              "      <td>GA</td>\n",
              "      <td>USA</td>\n",
              "      <td>2:42:35</td>\n",
              "      <td>242</td>\n",
              "      <td>218</td>\n",
              "      <td>0</td>\n",
              "      <td>0</td>\n",
              "      <td>NaN</td>\n",
              "      <td>White</td>\n",
              "      <td>Erick</td>\n",
              "    </tr>\n",
              "    <tr>\n",
              "      <th>644</th>\n",
              "      <td>Stenger, Eddie</td>\n",
              "      <td>26</td>\n",
              "      <td>M</td>\n",
              "      <td>Woodbury</td>\n",
              "      <td>MN</td>\n",
              "      <td>USA</td>\n",
              "      <td>2:51:05</td>\n",
              "      <td>645</td>\n",
              "      <td>605</td>\n",
              "      <td>0</td>\n",
              "      <td>0</td>\n",
              "      <td>NaN</td>\n",
              "      <td>Stenger</td>\n",
              "      <td>Eddie</td>\n",
              "    </tr>\n",
              "    <tr>\n",
              "      <th>457</th>\n",
              "      <td>Ilfrey, Campbell</td>\n",
              "      <td>43</td>\n",
              "      <td>M</td>\n",
              "      <td>Louisville</td>\n",
              "      <td>CO</td>\n",
              "      <td>USA</td>\n",
              "      <td>2:47:40</td>\n",
              "      <td>458</td>\n",
              "      <td>425</td>\n",
              "      <td>0</td>\n",
              "      <td>0</td>\n",
              "      <td>NaN</td>\n",
              "      <td>Ilfrey</td>\n",
              "      <td>Campbell</td>\n",
              "    </tr>\n",
              "    <tr>\n",
              "      <th>638</th>\n",
              "      <td>Roels, Guillaume</td>\n",
              "      <td>38</td>\n",
              "      <td>M</td>\n",
              "      <td>Los Angeles</td>\n",
              "      <td>CA</td>\n",
              "      <td>USA</td>\n",
              "      <td>2:50:59</td>\n",
              "      <td>639</td>\n",
              "      <td>599</td>\n",
              "      <td>1</td>\n",
              "      <td>0</td>\n",
              "      <td>2015</td>\n",
              "      <td>Roels</td>\n",
              "      <td>Guillaume</td>\n",
              "    </tr>\n",
              "    <tr>\n",
              "      <th>783</th>\n",
              "      <td>Mena Solorzano, Diego Sr.</td>\n",
              "      <td>34</td>\n",
              "      <td>M</td>\n",
              "      <td>Zaragoza, Palmares, Alajuela</td>\n",
              "      <td>NaN</td>\n",
              "      <td>CRC</td>\n",
              "      <td>2:53:17</td>\n",
              "      <td>784</td>\n",
              "      <td>738</td>\n",
              "      <td>0</td>\n",
              "      <td>0</td>\n",
              "      <td>NaN</td>\n",
              "      <td>Mena Solorzano</td>\n",
              "      <td>Diego Sr.</td>\n",
              "    </tr>\n",
              "    <tr>\n",
              "      <th>198</th>\n",
              "      <td>Teigen, Sam D</td>\n",
              "      <td>42</td>\n",
              "      <td>M</td>\n",
              "      <td>Hawthorne</td>\n",
              "      <td>NJ</td>\n",
              "      <td>USA</td>\n",
              "      <td>2:40:39</td>\n",
              "      <td>199</td>\n",
              "      <td>177</td>\n",
              "      <td>0</td>\n",
              "      <td>0</td>\n",
              "      <td>NaN</td>\n",
              "      <td>Teigen</td>\n",
              "      <td>Sam D</td>\n",
              "    </tr>\n",
              "    <tr>\n",
              "      <th>870</th>\n",
              "      <td>Duhaime, Spencer</td>\n",
              "      <td>25</td>\n",
              "      <td>M</td>\n",
              "      <td>New York</td>\n",
              "      <td>NY</td>\n",
              "      <td>USA</td>\n",
              "      <td>2:54:37</td>\n",
              "      <td>871</td>\n",
              "      <td>822</td>\n",
              "      <td>1</td>\n",
              "      <td>1</td>\n",
              "      <td>2015:2016</td>\n",
              "      <td>Duhaime</td>\n",
              "      <td>Spencer</td>\n",
              "    </tr>\n",
              "    <tr>\n",
              "      <th>802</th>\n",
              "      <td>Anis, Michael</td>\n",
              "      <td>35</td>\n",
              "      <td>M</td>\n",
              "      <td>North Brunswick</td>\n",
              "      <td>NJ</td>\n",
              "      <td>USA</td>\n",
              "      <td>2:53:35</td>\n",
              "      <td>803</td>\n",
              "      <td>757</td>\n",
              "      <td>1</td>\n",
              "      <td>1</td>\n",
              "      <td>2015:2016</td>\n",
              "      <td>Anis</td>\n",
              "      <td>Michael</td>\n",
              "    </tr>\n",
              "    <tr>\n",
              "      <th>815</th>\n",
              "      <td>Madej, Robert</td>\n",
              "      <td>48</td>\n",
              "      <td>M</td>\n",
              "      <td>Toronto</td>\n",
              "      <td>ON</td>\n",
              "      <td>CAN</td>\n",
              "      <td>2:53:48</td>\n",
              "      <td>816</td>\n",
              "      <td>769</td>\n",
              "      <td>1</td>\n",
              "      <td>1</td>\n",
              "      <td>2015:2016</td>\n",
              "      <td>Madej</td>\n",
              "      <td>Robert</td>\n",
              "    </tr>\n",
              "    <tr>\n",
              "      <th>177</th>\n",
              "      <td>Tongue, Patrick K.</td>\n",
              "      <td>28</td>\n",
              "      <td>M</td>\n",
              "      <td>Zeiningen</td>\n",
              "      <td>NaN</td>\n",
              "      <td>SUI</td>\n",
              "      <td>2:39:36</td>\n",
              "      <td>178</td>\n",
              "      <td>158</td>\n",
              "      <td>0</td>\n",
              "      <td>0</td>\n",
              "      <td>NaN</td>\n",
              "      <td>Tongue</td>\n",
              "      <td>Patrick K.</td>\n",
              "    </tr>\n",
              "  </tbody>\n",
              "</table>\n",
              "</div>"
            ],
            "text/plain": [
              "                          Name  Age M/F                          City State  \\\n",
              "241               White, Erick   24   M                       Atlanta    GA   \n",
              "644             Stenger, Eddie   26   M                      Woodbury    MN   \n",
              "457           Ilfrey, Campbell   43   M                    Louisville    CO   \n",
              "638           Roels, Guillaume   38   M                   Los Angeles    CA   \n",
              "783  Mena Solorzano, Diego Sr.   34   M  Zaragoza, Palmares, Alajuela   NaN   \n",
              "198              Teigen, Sam D   42   M                     Hawthorne    NJ   \n",
              "870           Duhaime, Spencer   25   M                      New York    NY   \n",
              "802              Anis, Michael   35   M               North Brunswick    NJ   \n",
              "815              Madej, Robert   48   M                       Toronto    ON   \n",
              "177         Tongue, Patrick K.   28   M                     Zeiningen   NaN   \n",
              "\n",
              "    Country Official Time  Overall  Gender  Ran 2015  Ran 2016  Years Ran  \\\n",
              "241     USA       2:42:35      242     218         0         0        NaN   \n",
              "644     USA       2:51:05      645     605         0         0        NaN   \n",
              "457     USA       2:47:40      458     425         0         0        NaN   \n",
              "638     USA       2:50:59      639     599         1         0       2015   \n",
              "783     CRC       2:53:17      784     738         0         0        NaN   \n",
              "198     USA       2:40:39      199     177         0         0        NaN   \n",
              "870     USA       2:54:37      871     822         1         1  2015:2016   \n",
              "802     USA       2:53:35      803     757         1         1  2015:2016   \n",
              "815     CAN       2:53:48      816     769         1         1  2015:2016   \n",
              "177     SUI       2:39:36      178     158         0         0        NaN   \n",
              "\n",
              "         First Name   Last Name  \n",
              "241           White       Erick  \n",
              "644         Stenger       Eddie  \n",
              "457          Ilfrey    Campbell  \n",
              "638           Roels   Guillaume  \n",
              "783  Mena Solorzano   Diego Sr.  \n",
              "198          Teigen       Sam D  \n",
              "870         Duhaime     Spencer  \n",
              "802            Anis     Michael  \n",
              "815           Madej      Robert  \n",
              "177          Tongue  Patrick K.  "
            ]
          },
          "execution_count": 157,
          "metadata": {},
          "output_type": "execute_result"
        }
      ],
      "source": [
        "boston.sample(10)"
      ]
    },
    {
      "cell_type": "code",
      "execution_count": 158,
      "metadata": {
        "colab": {},
        "colab_type": "code",
        "id": "f7wz3o0yF0WG"
      },
      "outputs": [],
      "source": [
        "boston['M/F'] = boston['M/F']\\\n",
        "                  .str.replace('F', 'Female')\\\n",
        "                  .str.replace('M', 'Male')"
      ]
    },
    {
      "cell_type": "code",
      "execution_count": 159,
      "metadata": {
        "colab": {
          "base_uri": "https://localhost:8080/"
        },
        "colab_type": "code",
        "id": "RUIlUeRIF_Ps",
        "outputId": "99b55947-e85c-444f-ce39-55b76d70e213"
      },
      "outputs": [
        {
          "data": {
            "text/html": [
              "<div>\n",
              "<style scoped>\n",
              "    .dataframe tbody tr th:only-of-type {\n",
              "        vertical-align: middle;\n",
              "    }\n",
              "\n",
              "    .dataframe tbody tr th {\n",
              "        vertical-align: top;\n",
              "    }\n",
              "\n",
              "    .dataframe thead th {\n",
              "        text-align: right;\n",
              "    }\n",
              "</style>\n",
              "<table border=\"1\" class=\"dataframe\">\n",
              "  <thead>\n",
              "    <tr style=\"text-align: right;\">\n",
              "      <th></th>\n",
              "      <th>Name</th>\n",
              "      <th>Age</th>\n",
              "      <th>M/F</th>\n",
              "      <th>City</th>\n",
              "      <th>State</th>\n",
              "      <th>Country</th>\n",
              "      <th>Official Time</th>\n",
              "      <th>Overall</th>\n",
              "      <th>Gender</th>\n",
              "      <th>Ran 2015</th>\n",
              "      <th>Ran 2016</th>\n",
              "      <th>Years Ran</th>\n",
              "      <th>First Name</th>\n",
              "      <th>Last Name</th>\n",
              "    </tr>\n",
              "  </thead>\n",
              "  <tbody>\n",
              "    <tr>\n",
              "      <th>0</th>\n",
              "      <td>Kirui, Geoffrey</td>\n",
              "      <td>24</td>\n",
              "      <td>Male</td>\n",
              "      <td>Keringet</td>\n",
              "      <td>NaN</td>\n",
              "      <td>KEN</td>\n",
              "      <td>2:09:37</td>\n",
              "      <td>1</td>\n",
              "      <td>1</td>\n",
              "      <td>0</td>\n",
              "      <td>0</td>\n",
              "      <td>NaN</td>\n",
              "      <td>Kirui</td>\n",
              "      <td>Geoffrey</td>\n",
              "    </tr>\n",
              "    <tr>\n",
              "      <th>1</th>\n",
              "      <td>Rupp, Galen</td>\n",
              "      <td>30</td>\n",
              "      <td>Male</td>\n",
              "      <td>Portland</td>\n",
              "      <td>OR</td>\n",
              "      <td>USA</td>\n",
              "      <td>2:09:58</td>\n",
              "      <td>2</td>\n",
              "      <td>2</td>\n",
              "      <td>0</td>\n",
              "      <td>0</td>\n",
              "      <td>NaN</td>\n",
              "      <td>Rupp</td>\n",
              "      <td>Galen</td>\n",
              "    </tr>\n",
              "    <tr>\n",
              "      <th>2</th>\n",
              "      <td>Osako, Suguru</td>\n",
              "      <td>25</td>\n",
              "      <td>Male</td>\n",
              "      <td>Machida-City</td>\n",
              "      <td>NaN</td>\n",
              "      <td>JPN</td>\n",
              "      <td>2:10:28</td>\n",
              "      <td>3</td>\n",
              "      <td>3</td>\n",
              "      <td>0</td>\n",
              "      <td>0</td>\n",
              "      <td>NaN</td>\n",
              "      <td>Osako</td>\n",
              "      <td>Suguru</td>\n",
              "    </tr>\n",
              "    <tr>\n",
              "      <th>3</th>\n",
              "      <td>Biwott, Shadrack</td>\n",
              "      <td>32</td>\n",
              "      <td>Male</td>\n",
              "      <td>Mammoth Lakes</td>\n",
              "      <td>CA</td>\n",
              "      <td>USA</td>\n",
              "      <td>2:12:08</td>\n",
              "      <td>4</td>\n",
              "      <td>4</td>\n",
              "      <td>0</td>\n",
              "      <td>0</td>\n",
              "      <td>NaN</td>\n",
              "      <td>Biwott</td>\n",
              "      <td>Shadrack</td>\n",
              "    </tr>\n",
              "    <tr>\n",
              "      <th>4</th>\n",
              "      <td>Chebet, Wilson</td>\n",
              "      <td>31</td>\n",
              "      <td>Male</td>\n",
              "      <td>Marakwet</td>\n",
              "      <td>NaN</td>\n",
              "      <td>KEN</td>\n",
              "      <td>2:12:35</td>\n",
              "      <td>5</td>\n",
              "      <td>5</td>\n",
              "      <td>1</td>\n",
              "      <td>0</td>\n",
              "      <td>2015</td>\n",
              "      <td>Chebet</td>\n",
              "      <td>Wilson</td>\n",
              "    </tr>\n",
              "  </tbody>\n",
              "</table>\n",
              "</div>"
            ],
            "text/plain": [
              "               Name  Age   M/F           City State Country Official Time  \\\n",
              "0   Kirui, Geoffrey   24  Male       Keringet   NaN     KEN       2:09:37   \n",
              "1       Rupp, Galen   30  Male       Portland    OR     USA       2:09:58   \n",
              "2     Osako, Suguru   25  Male   Machida-City   NaN     JPN       2:10:28   \n",
              "3  Biwott, Shadrack   32  Male  Mammoth Lakes    CA     USA       2:12:08   \n",
              "4    Chebet, Wilson   31  Male       Marakwet   NaN     KEN       2:12:35   \n",
              "\n",
              "   Overall  Gender  Ran 2015  Ran 2016 Years Ran First Name Last Name  \n",
              "0        1       1         0         0       NaN      Kirui  Geoffrey  \n",
              "1        2       2         0         0       NaN       Rupp     Galen  \n",
              "2        3       3         0         0       NaN      Osako    Suguru  \n",
              "3        4       4         0         0       NaN     Biwott  Shadrack  \n",
              "4        5       5         1         0      2015     Chebet    Wilson  "
            ]
          },
          "execution_count": 159,
          "metadata": {},
          "output_type": "execute_result"
        }
      ],
      "source": [
        "boston.head()"
      ]
    },
    {
      "cell_type": "code",
      "execution_count": 160,
      "metadata": {
        "colab": {},
        "colab_type": "code",
        "id": "ElTHA1vIGW-h"
      },
      "outputs": [],
      "source": [
        "# case-insensitive replacements"
      ]
    },
    {
      "cell_type": "code",
      "execution_count": 161,
      "metadata": {
        "colab": {
          "base_uri": "https://localhost:8080/"
        },
        "colab_type": "code",
        "id": "jgXpJl47GexK",
        "outputId": "917163d0-71fa-4f28-ba8d-a1d56011349a"
      },
      "outputs": [
        {
          "data": {
            "text/plain": [
              "0                KEN\n",
              "1      United States\n",
              "2                JPN\n",
              "3      United States\n",
              "4                KEN\n",
              "           ...      \n",
              "995    United States\n",
              "996    United States\n",
              "997    United States\n",
              "998    United States\n",
              "999    United States\n",
              "Name: Country, Length: 1000, dtype: object"
            ]
          },
          "execution_count": 161,
          "metadata": {},
          "output_type": "execute_result"
        }
      ],
      "source": [
        "boston.Country.str.replace('UsA', 'United States', case=False)"
      ]
    },
    {
      "cell_type": "markdown",
      "metadata": {
        "colab_type": "text",
        "id": "sQeZ04RBGk0S"
      },
      "source": [
        "#### Introduction To Regular Expressions"
      ]
    },
    {
      "cell_type": "code",
      "execution_count": 162,
      "metadata": {
        "colab": {},
        "colab_type": "code",
        "id": "2F8fW8_tWzKL"
      },
      "outputs": [],
      "source": [
        "# Regular expressions (regex) help us define highly complex text patterns."
      ]
    },
    {
      "cell_type": "code",
      "execution_count": 163,
      "metadata": {
        "colab": {},
        "colab_type": "code",
        "id": "IHul-74cW-nk"
      },
      "outputs": [],
      "source": [
        "# Regular expressions are not exlusive to python; they are supported by many programming languages."
      ]
    },
    {
      "cell_type": "markdown",
      "metadata": {
        "colab_type": "text",
        "id": "lZuLLkOeXGhD"
      },
      "source": [
        "Our regex playground:\n",
        "> https://regex101.com\n"
      ]
    },
    {
      "cell_type": "markdown",
      "metadata": {
        "colab_type": "text",
        "id": "GluFA6hVxWNO"
      },
      "source": [
        "#### More Regex Concepts"
      ]
    },
    {
      "cell_type": "code",
      "execution_count": null,
      "metadata": {
        "colab": {},
        "colab_type": "code",
        "id": "XgHy3jnyxY4t"
      },
      "outputs": [],
      "source": []
    },
    {
      "cell_type": "markdown",
      "metadata": {
        "colab_type": "text",
        "id": "KXnVpvGYxZSA"
      },
      "source": [
        "#### How To Approach Regex? "
      ]
    },
    {
      "cell_type": "code",
      "execution_count": null,
      "metadata": {
        "colab": {},
        "colab_type": "code",
        "id": "s3tWAgp6xciQ"
      },
      "outputs": [],
      "source": []
    },
    {
      "cell_type": "markdown",
      "metadata": {
        "colab_type": "text",
        "id": "9rCekfEsEhBz"
      },
      "source": [
        "#### Is This A Valid Email?"
      ]
    },
    {
      "cell_type": "code",
      "execution_count": 164,
      "metadata": {
        "colab": {},
        "colab_type": "code",
        "id": "XnfhaaOUI_1N"
      },
      "outputs": [],
      "source": [
        "# Agenda:\n",
        "#   - the re module\n",
        "#   - email regex\n",
        "#   - pitfalls\n",
        "#   - additional resources: https://emailregex.com/"
      ]
    },
    {
      "cell_type": "code",
      "execution_count": 165,
      "metadata": {
        "colab": {},
        "colab_type": "code",
        "id": "63Gdl5TWJkJ6"
      },
      "outputs": [],
      "source": [
        "import re"
      ]
    },
    {
      "cell_type": "code",
      "execution_count": 166,
      "metadata": {
        "colab": {},
        "colab_type": "code",
        "id": "Mf_9bBAejiME"
      },
      "outputs": [],
      "source": [
        "pattern = r'w\\s'"
      ]
    },
    {
      "cell_type": "code",
      "execution_count": 167,
      "metadata": {
        "colab": {},
        "colab_type": "code",
        "id": "uwSzMDTtJ2Qs"
      },
      "outputs": [],
      "source": [
        "pattern_original = r\"\\w\\S*@.*\\w\""
      ]
    },
    {
      "cell_type": "code",
      "execution_count": 168,
      "metadata": {
        "colab": {
          "base_uri": "https://localhost:8080/"
        },
        "colab_type": "code",
        "id": "vt9inDbrMK3g",
        "outputId": "65b41e34-6f0e-4e50-c401-28ed92ea878c"
      },
      "outputs": [
        {
          "data": {
            "text/plain": [
              "[]"
            ]
          },
          "execution_count": 168,
          "metadata": {},
          "output_type": "execute_result"
        }
      ],
      "source": [
        "re.findall(pattern, 'andy@howtopandas.com')"
      ]
    },
    {
      "cell_type": "code",
      "execution_count": 169,
      "metadata": {
        "colab": {
          "base_uri": "https://localhost:8080/"
        },
        "colab_type": "code",
        "id": "Exuf8dHUMbBc",
        "outputId": "635a7863-bf3c-49b6-f7d2-18311f4f41d3"
      },
      "outputs": [
        {
          "data": {
            "text/plain": [
              "[]"
            ]
          },
          "execution_count": 169,
          "metadata": {},
          "output_type": "execute_result"
        }
      ],
      "source": [
        "re.findall(pattern, 'howtopandas.com')"
      ]
    },
    {
      "cell_type": "code",
      "execution_count": 170,
      "metadata": {
        "colab": {},
        "colab_type": "code",
        "id": "TOEQV35nMiHU"
      },
      "outputs": [],
      "source": [
        "# \"andy@gmail.com\" => \"*****@gmail.com\""
      ]
    },
    {
      "cell_type": "code",
      "execution_count": 171,
      "metadata": {
        "colab": {},
        "colab_type": "code",
        "id": "MTnzIrxVMs_s"
      },
      "outputs": [],
      "source": [
        "# - start with an actually valid email\n",
        "# - capture the domain part of the email\n",
        "# - replace everything except the captured group"
      ]
    },
    {
      "cell_type": "code",
      "execution_count": 172,
      "metadata": {
        "colab": {},
        "colab_type": "code",
        "id": "jAqIz2BfM96R"
      },
      "outputs": [],
      "source": [
        "email = 'andy@howtopandas.com'"
      ]
    },
    {
      "cell_type": "code",
      "execution_count": 173,
      "metadata": {
        "colab": {},
        "colab_type": "code",
        "id": "23YXDVB2NGrp"
      },
      "outputs": [],
      "source": [
        "pattern = r'\\w\\S*(@.*\\w)'"
      ]
    },
    {
      "cell_type": "code",
      "execution_count": 174,
      "metadata": {
        "colab": {
          "base_uri": "https://localhost:8080/"
        },
        "colab_type": "code",
        "id": "jk8y9-0YNfNF",
        "outputId": "5acbdca8-29f2-407a-b824-cefd5b44cb89"
      },
      "outputs": [
        {
          "data": {
            "text/plain": [
              "'******@howtopandas.com'"
            ]
          },
          "execution_count": 174,
          "metadata": {},
          "output_type": "execute_result"
        }
      ],
      "source": [
        "re.sub(pattern, r'******\\1', email)"
      ]
    },
    {
      "cell_type": "code",
      "execution_count": 175,
      "metadata": {
        "colab": {},
        "colab_type": "code",
        "id": "OjtbXcCSN17J"
      },
      "outputs": [],
      "source": [
        "robust_pattern = re.compile(r\"(^[a-zA-Z0-9_.+-]+@[a-zA-Z0-9-]+\\.[a-zA-Z0-9-.]+$)\")"
      ]
    },
    {
      "cell_type": "code",
      "execution_count": 176,
      "metadata": {
        "colab": {
          "base_uri": "https://localhost:8080/"
        },
        "colab_type": "code",
        "id": "7TqNT3dJOibC",
        "outputId": "2cc4464e-c90e-4237-b4e3-4604afcfb18b"
      },
      "outputs": [
        {
          "data": {
            "text/plain": [
              "re.compile(r'(^[a-zA-Z0-9_.+-]+@[a-zA-Z0-9-]+\\.[a-zA-Z0-9-.]+$)', re.UNICODE)"
            ]
          },
          "execution_count": 176,
          "metadata": {},
          "output_type": "execute_result"
        }
      ],
      "source": [
        "robust_pattern"
      ]
    },
    {
      "cell_type": "code",
      "execution_count": 177,
      "metadata": {
        "colab": {},
        "colab_type": "code",
        "id": "peSifu44OjCp"
      },
      "outputs": [],
      "source": [
        "email2 = \"andy@andy@andy.com\""
      ]
    },
    {
      "cell_type": "code",
      "execution_count": 178,
      "metadata": {
        "colab": {
          "base_uri": "https://localhost:8080/"
        },
        "colab_type": "code",
        "id": "6op6tZWcOp1u",
        "outputId": "147d0fc6-0645-4922-a351-1d027b2ecb1d"
      },
      "outputs": [
        {
          "data": {
            "text/plain": [
              "['andy@andy@andy.com']"
            ]
          },
          "execution_count": 178,
          "metadata": {},
          "output_type": "execute_result"
        }
      ],
      "source": [
        "re.findall(pattern_original, email2)"
      ]
    },
    {
      "cell_type": "code",
      "execution_count": 179,
      "metadata": {
        "colab": {
          "base_uri": "https://localhost:8080/"
        },
        "colab_type": "code",
        "id": "G8hyi-PNOy9w",
        "outputId": "8d36605f-b01e-4902-b54f-e552d5cbb8c5"
      },
      "outputs": [
        {
          "data": {
            "text/plain": [
              "[]"
            ]
          },
          "execution_count": 179,
          "metadata": {},
          "output_type": "execute_result"
        }
      ],
      "source": [
        "re.findall(robust_pattern, email2)"
      ]
    },
    {
      "cell_type": "markdown",
      "metadata": {
        "colab_type": "text",
        "id": "ioe_Fpr8QcTq"
      },
      "source": [
        "#### BONUS: What's The Point Of re.compile()?"
      ]
    },
    {
      "cell_type": "code",
      "execution_count": 180,
      "metadata": {
        "colab": {},
        "colab_type": "code",
        "id": "UL-fG4kUQhgY"
      },
      "outputs": [],
      "source": [
        "compiled_pattern = re.compile(r\"(^[a-zA-Z0-9_.+-]+@[a-zA-Z0-9-]+\\.[a-zA-Z0-9-.]+$)\")"
      ]
    },
    {
      "cell_type": "code",
      "execution_count": 181,
      "metadata": {
        "colab": {},
        "colab_type": "code",
        "id": "hX62w5X3Qhpz"
      },
      "outputs": [],
      "source": [
        "raw_pattern =                 r\"(^[a-zA-Z0-9_.+-]+@[a-zA-Z0-9-]+\\.[a-zA-Z0-9-.]+$)\""
      ]
    },
    {
      "cell_type": "code",
      "execution_count": 182,
      "metadata": {
        "colab": {},
        "colab_type": "code",
        "id": "U3-gM8aTQmYy"
      },
      "outputs": [],
      "source": [
        "emails = [\"andy@andy@andy.com\", \"andy@howtopandas.com\", \"superinvalid|ha.com\", \"hey@andybek.com\"]"
      ]
    },
    {
      "cell_type": "code",
      "execution_count": 183,
      "metadata": {
        "colab": {
          "base_uri": "https://localhost:8080/"
        },
        "colab_type": "code",
        "id": "TJkrtWaeQtmI",
        "outputId": "1cf663c8-3a7b-4bd9-c40d-9fdf8bee4a86"
      },
      "outputs": [
        {
          "data": {
            "text/plain": [
              "[None,\n",
              " <re.Match object; span=(0, 20), match='andy@howtopandas.com'>,\n",
              " None,\n",
              " <re.Match object; span=(0, 15), match='hey@andybek.com'>]"
            ]
          },
          "execution_count": 183,
          "metadata": {},
          "output_type": "execute_result"
        }
      ],
      "source": [
        "[re.match(raw_pattern, email) for email in emails]"
      ]
    },
    {
      "cell_type": "code",
      "execution_count": 184,
      "metadata": {
        "colab": {
          "base_uri": "https://localhost:8080/"
        },
        "colab_type": "code",
        "id": "CG0vmItBRDft",
        "outputId": "b9a752c4-fede-44a6-a7ed-7e076798caf1"
      },
      "outputs": [
        {
          "data": {
            "text/plain": [
              "[None,\n",
              " <re.Match object; span=(0, 20), match='andy@howtopandas.com'>,\n",
              " None,\n",
              " <re.Match object; span=(0, 15), match='hey@andybek.com'>]"
            ]
          },
          "execution_count": 184,
          "metadata": {},
          "output_type": "execute_result"
        }
      ],
      "source": [
        "[re.match(compiled_pattern, email) for email in emails]"
      ]
    },
    {
      "cell_type": "code",
      "execution_count": 185,
      "metadata": {
        "colab": {},
        "colab_type": "code",
        "id": "zThNKCdWRg1w"
      },
      "outputs": [],
      "source": [
        "# The crux:\n",
        "#  - The difference used to be that re.compile cached the regex\n",
        "#  - Since Python 2+, the pattern is compiled and cached automatically\n",
        "#  - ...for a maximum of 100 regexes, by default\n",
        "#  - If you're working with more than 100 regexes, and accessing them frequently, please compile!"
      ]
    },
    {
      "cell_type": "markdown",
      "metadata": {
        "colab_type": "text",
        "id": "XdhlA8A5SRhp"
      },
      "source": [
        "#### Pandas str contains(), split() And replace() With Regex"
      ]
    },
    {
      "cell_type": "code",
      "execution_count": 186,
      "metadata": {
        "colab": {},
        "colab_type": "code",
        "id": "2OqwCQ8CmFCi"
      },
      "outputs": [],
      "source": [
        "# Agenda:\n",
        "#  - pandas str methods with regex\n",
        "#     * .contains()\n",
        "#     * .split()\n",
        "#     * .replace()"
      ]
    },
    {
      "cell_type": "code",
      "execution_count": 187,
      "metadata": {
        "colab": {
          "base_uri": "https://localhost:8080/"
        },
        "colab_type": "code",
        "id": "h5MEluwglJLN",
        "outputId": "a36f18c3-673a-4c66-a57c-e4063e399aef"
      },
      "outputs": [
        {
          "data": {
            "text/html": [
              "<div>\n",
              "<style scoped>\n",
              "    .dataframe tbody tr th:only-of-type {\n",
              "        vertical-align: middle;\n",
              "    }\n",
              "\n",
              "    .dataframe tbody tr th {\n",
              "        vertical-align: top;\n",
              "    }\n",
              "\n",
              "    .dataframe thead th {\n",
              "        text-align: right;\n",
              "    }\n",
              "</style>\n",
              "<table border=\"1\" class=\"dataframe\">\n",
              "  <thead>\n",
              "    <tr style=\"text-align: right;\">\n",
              "      <th></th>\n",
              "      <th>Name</th>\n",
              "      <th>Age</th>\n",
              "      <th>M/F</th>\n",
              "      <th>City</th>\n",
              "      <th>State</th>\n",
              "      <th>Country</th>\n",
              "      <th>Official Time</th>\n",
              "      <th>Overall</th>\n",
              "      <th>Gender</th>\n",
              "      <th>Ran 2015</th>\n",
              "      <th>Ran 2016</th>\n",
              "      <th>Years Ran</th>\n",
              "      <th>First Name</th>\n",
              "      <th>Last Name</th>\n",
              "    </tr>\n",
              "  </thead>\n",
              "  <tbody>\n",
              "    <tr>\n",
              "      <th>0</th>\n",
              "      <td>Kirui, Geoffrey</td>\n",
              "      <td>24</td>\n",
              "      <td>Male</td>\n",
              "      <td>Keringet</td>\n",
              "      <td>NaN</td>\n",
              "      <td>KEN</td>\n",
              "      <td>2:09:37</td>\n",
              "      <td>1</td>\n",
              "      <td>1</td>\n",
              "      <td>0</td>\n",
              "      <td>0</td>\n",
              "      <td>NaN</td>\n",
              "      <td>Kirui</td>\n",
              "      <td>Geoffrey</td>\n",
              "    </tr>\n",
              "    <tr>\n",
              "      <th>1</th>\n",
              "      <td>Rupp, Galen</td>\n",
              "      <td>30</td>\n",
              "      <td>Male</td>\n",
              "      <td>Portland</td>\n",
              "      <td>OR</td>\n",
              "      <td>USA</td>\n",
              "      <td>2:09:58</td>\n",
              "      <td>2</td>\n",
              "      <td>2</td>\n",
              "      <td>0</td>\n",
              "      <td>0</td>\n",
              "      <td>NaN</td>\n",
              "      <td>Rupp</td>\n",
              "      <td>Galen</td>\n",
              "    </tr>\n",
              "    <tr>\n",
              "      <th>2</th>\n",
              "      <td>Osako, Suguru</td>\n",
              "      <td>25</td>\n",
              "      <td>Male</td>\n",
              "      <td>Machida-City</td>\n",
              "      <td>NaN</td>\n",
              "      <td>JPN</td>\n",
              "      <td>2:10:28</td>\n",
              "      <td>3</td>\n",
              "      <td>3</td>\n",
              "      <td>0</td>\n",
              "      <td>0</td>\n",
              "      <td>NaN</td>\n",
              "      <td>Osako</td>\n",
              "      <td>Suguru</td>\n",
              "    </tr>\n",
              "    <tr>\n",
              "      <th>3</th>\n",
              "      <td>Biwott, Shadrack</td>\n",
              "      <td>32</td>\n",
              "      <td>Male</td>\n",
              "      <td>Mammoth Lakes</td>\n",
              "      <td>CA</td>\n",
              "      <td>USA</td>\n",
              "      <td>2:12:08</td>\n",
              "      <td>4</td>\n",
              "      <td>4</td>\n",
              "      <td>0</td>\n",
              "      <td>0</td>\n",
              "      <td>NaN</td>\n",
              "      <td>Biwott</td>\n",
              "      <td>Shadrack</td>\n",
              "    </tr>\n",
              "    <tr>\n",
              "      <th>4</th>\n",
              "      <td>Chebet, Wilson</td>\n",
              "      <td>31</td>\n",
              "      <td>Male</td>\n",
              "      <td>Marakwet</td>\n",
              "      <td>NaN</td>\n",
              "      <td>KEN</td>\n",
              "      <td>2:12:35</td>\n",
              "      <td>5</td>\n",
              "      <td>5</td>\n",
              "      <td>1</td>\n",
              "      <td>0</td>\n",
              "      <td>2015</td>\n",
              "      <td>Chebet</td>\n",
              "      <td>Wilson</td>\n",
              "    </tr>\n",
              "  </tbody>\n",
              "</table>\n",
              "</div>"
            ],
            "text/plain": [
              "               Name  Age   M/F           City State Country Official Time  \\\n",
              "0   Kirui, Geoffrey   24  Male       Keringet   NaN     KEN       2:09:37   \n",
              "1       Rupp, Galen   30  Male       Portland    OR     USA       2:09:58   \n",
              "2     Osako, Suguru   25  Male   Machida-City   NaN     JPN       2:10:28   \n",
              "3  Biwott, Shadrack   32  Male  Mammoth Lakes    CA     USA       2:12:08   \n",
              "4    Chebet, Wilson   31  Male       Marakwet   NaN     KEN       2:12:35   \n",
              "\n",
              "   Overall  Gender  Ran 2015  Ran 2016 Years Ran First Name Last Name  \n",
              "0        1       1         0         0       NaN      Kirui  Geoffrey  \n",
              "1        2       2         0         0       NaN       Rupp     Galen  \n",
              "2        3       3         0         0       NaN      Osako    Suguru  \n",
              "3        4       4         0         0       NaN     Biwott  Shadrack  \n",
              "4        5       5         1         0      2015     Chebet    Wilson  "
            ]
          },
          "execution_count": 187,
          "metadata": {},
          "output_type": "execute_result"
        }
      ],
      "source": [
        "boston.head()"
      ]
    },
    {
      "cell_type": "code",
      "execution_count": 188,
      "metadata": {
        "colab": {
          "base_uri": "https://localhost:8080/"
        },
        "colab_type": "code",
        "id": "viZzHvUvtcF7",
        "outputId": "dbf333ca-7466-49b1-8aef-b1a735fc0cad"
      },
      "outputs": [
        {
          "data": {
            "text/plain": [
              "93            Vanos, William\n",
              "199        Guzick, William F\n",
              "415          Hartje, William\n",
              "429         Adams, William C\n",
              "456              Cunha, Will\n",
              "526            Swenson, Will\n",
              "571    Gates, William E. Jr.\n",
              "711       Swanson, William G\n",
              "814        Williamson, David\n",
              "835             Vargas, Will\n",
              "892             Rivera, Will\n",
              "897      Feldman, William P.\n",
              "936      Decamps, William M.\n",
              "939        Versen, William R\n",
              "996      Williamson, Jerry A\n",
              "Name: Name, dtype: object"
            ]
          },
          "execution_count": 188,
          "metadata": {},
          "output_type": "execute_result"
        }
      ],
      "source": [
        "boston.Name[boston.Name.str.contains('Will')]"
      ]
    },
    {
      "cell_type": "code",
      "execution_count": 189,
      "metadata": {
        "colab": {
          "base_uri": "https://localhost:8080/"
        },
        "colab_type": "code",
        "id": "jXSxJT5fvy45",
        "outputId": "a813c8a3-5fab-43a5-f832-339e67fccdd8"
      },
      "outputs": [
        {
          "data": {
            "text/plain": [
              "93            Vanos, William\n",
              "199        Guzick, William F\n",
              "415          Hartje, William\n",
              "429         Adams, William C\n",
              "456              Cunha, Will\n",
              "526            Swenson, Will\n",
              "571    Gates, William E. Jr.\n",
              "711       Swanson, William G\n",
              "814        Williamson, David\n",
              "835             Vargas, Will\n",
              "892             Rivera, Will\n",
              "897      Feldman, William P.\n",
              "936      Decamps, William M.\n",
              "939        Versen, William R\n",
              "996      Williamson, Jerry A\n",
              "Name: Name, dtype: object"
            ]
          },
          "execution_count": 189,
          "metadata": {},
          "output_type": "execute_result"
        }
      ],
      "source": [
        "boston.Name[boston.Name.str.contains(r'[wW]ill', regex=True)]"
      ]
    },
    {
      "cell_type": "code",
      "execution_count": 190,
      "metadata": {
        "colab": {
          "base_uri": "https://localhost:8080/"
        },
        "colab_type": "code",
        "id": "1Yrta58xwBH5",
        "outputId": "f1ef795d-a3f4-4524-a722-c609b036149b"
      },
      "outputs": [
        {
          "data": {
            "text/plain": [
              "456      Cunha, Will\n",
              "526    Swenson, Will\n",
              "835     Vargas, Will\n",
              "892     Rivera, Will\n",
              "Name: Name, dtype: object"
            ]
          },
          "execution_count": 190,
          "metadata": {},
          "output_type": "execute_result"
        }
      ],
      "source": [
        "# isolate first name Will\n",
        "boston.Name[boston.Name.str.contains(r',\\s[wW]ill$', regex=True)]"
      ]
    },
    {
      "cell_type": "code",
      "execution_count": 191,
      "metadata": {
        "colab": {
          "base_uri": "https://localhost:8080/"
        },
        "colab_type": "code",
        "id": "fV87NJnawfE8",
        "outputId": "d22da32e-b2ee-45d7-c1eb-12b32d72880f"
      },
      "outputs": [
        {
          "data": {
            "text/plain": [
              "456      Cunha, Will\n",
              "526    Swenson, Will\n",
              "835     Vargas, Will\n",
              "892     Rivera, Will\n",
              "Name: Name, dtype: object"
            ]
          },
          "execution_count": 191,
          "metadata": {},
          "output_type": "execute_result"
        }
      ],
      "source": [
        "boston.Name[boston.Name.str.contains(r',\\s[wW]ill\\b', regex=True)]"
      ]
    },
    {
      "cell_type": "code",
      "execution_count": 192,
      "metadata": {
        "colab": {},
        "colab_type": "code",
        "id": "Gpcc8jYAxQg_"
      },
      "outputs": [],
      "source": [
        "boston.iat[835, 0] += ' J.'"
      ]
    },
    {
      "cell_type": "code",
      "execution_count": 193,
      "metadata": {
        "colab": {},
        "colab_type": "code",
        "id": "PFG4IepGxZi0"
      },
      "outputs": [],
      "source": [
        "# split()"
      ]
    },
    {
      "cell_type": "code",
      "execution_count": 194,
      "metadata": {
        "colab": {
          "base_uri": "https://localhost:8080/"
        },
        "colab_type": "code",
        "id": "Qx2jPh49xp1T",
        "outputId": "d5cc824e-f0cb-4eea-f4a1-0be593b865f3"
      },
      "outputs": [
        {
          "data": {
            "text/html": [
              "<div>\n",
              "<style scoped>\n",
              "    .dataframe tbody tr th:only-of-type {\n",
              "        vertical-align: middle;\n",
              "    }\n",
              "\n",
              "    .dataframe tbody tr th {\n",
              "        vertical-align: top;\n",
              "    }\n",
              "\n",
              "    .dataframe thead th {\n",
              "        text-align: right;\n",
              "    }\n",
              "</style>\n",
              "<table border=\"1\" class=\"dataframe\">\n",
              "  <thead>\n",
              "    <tr style=\"text-align: right;\">\n",
              "      <th></th>\n",
              "      <th>0</th>\n",
              "      <th>1</th>\n",
              "      <th>2</th>\n",
              "      <th>3</th>\n",
              "      <th>4</th>\n",
              "    </tr>\n",
              "  </thead>\n",
              "  <tbody>\n",
              "    <tr>\n",
              "      <th>0</th>\n",
              "      <td>Kirui,</td>\n",
              "      <td>Geoffrey</td>\n",
              "      <td>None</td>\n",
              "      <td>None</td>\n",
              "      <td>None</td>\n",
              "    </tr>\n",
              "    <tr>\n",
              "      <th>1</th>\n",
              "      <td>Rupp,</td>\n",
              "      <td>Galen</td>\n",
              "      <td>None</td>\n",
              "      <td>None</td>\n",
              "      <td>None</td>\n",
              "    </tr>\n",
              "    <tr>\n",
              "      <th>2</th>\n",
              "      <td>Osako,</td>\n",
              "      <td>Suguru</td>\n",
              "      <td>None</td>\n",
              "      <td>None</td>\n",
              "      <td>None</td>\n",
              "    </tr>\n",
              "    <tr>\n",
              "      <th>3</th>\n",
              "      <td>Biwott,</td>\n",
              "      <td>Shadrack</td>\n",
              "      <td>None</td>\n",
              "      <td>None</td>\n",
              "      <td>None</td>\n",
              "    </tr>\n",
              "    <tr>\n",
              "      <th>4</th>\n",
              "      <td>Chebet,</td>\n",
              "      <td>Wilson</td>\n",
              "      <td>None</td>\n",
              "      <td>None</td>\n",
              "      <td>None</td>\n",
              "    </tr>\n",
              "    <tr>\n",
              "      <th>...</th>\n",
              "      <td>...</td>\n",
              "      <td>...</td>\n",
              "      <td>...</td>\n",
              "      <td>...</td>\n",
              "      <td>...</td>\n",
              "    </tr>\n",
              "    <tr>\n",
              "      <th>995</th>\n",
              "      <td>Larosa,</td>\n",
              "      <td>Mark</td>\n",
              "      <td>None</td>\n",
              "      <td>None</td>\n",
              "      <td>None</td>\n",
              "    </tr>\n",
              "    <tr>\n",
              "      <th>996</th>\n",
              "      <td>Williamson,</td>\n",
              "      <td>Jerry</td>\n",
              "      <td>A</td>\n",
              "      <td>None</td>\n",
              "      <td>None</td>\n",
              "    </tr>\n",
              "    <tr>\n",
              "      <th>997</th>\n",
              "      <td>Mccue,</td>\n",
              "      <td>Daniel</td>\n",
              "      <td>T</td>\n",
              "      <td>None</td>\n",
              "      <td>None</td>\n",
              "    </tr>\n",
              "    <tr>\n",
              "      <th>998</th>\n",
              "      <td>Larosa,</td>\n",
              "      <td>John</td>\n",
              "      <td>None</td>\n",
              "      <td>None</td>\n",
              "      <td>None</td>\n",
              "    </tr>\n",
              "    <tr>\n",
              "      <th>999</th>\n",
              "      <td>Sanchez,</td>\n",
              "      <td>Sam</td>\n",
              "      <td>R</td>\n",
              "      <td>None</td>\n",
              "      <td>None</td>\n",
              "    </tr>\n",
              "  </tbody>\n",
              "</table>\n",
              "<p>1000 rows × 5 columns</p>\n",
              "</div>"
            ],
            "text/plain": [
              "               0         1     2     3     4\n",
              "0         Kirui,  Geoffrey  None  None  None\n",
              "1          Rupp,     Galen  None  None  None\n",
              "2         Osako,    Suguru  None  None  None\n",
              "3        Biwott,  Shadrack  None  None  None\n",
              "4        Chebet,    Wilson  None  None  None\n",
              "..           ...       ...   ...   ...   ...\n",
              "995      Larosa,      Mark  None  None  None\n",
              "996  Williamson,     Jerry     A  None  None\n",
              "997       Mccue,    Daniel     T  None  None\n",
              "998      Larosa,      John  None  None  None\n",
              "999     Sanchez,       Sam     R  None  None\n",
              "\n",
              "[1000 rows x 5 columns]"
            ]
          },
          "execution_count": 194,
          "metadata": {},
          "output_type": "execute_result"
        }
      ],
      "source": [
        "boston.Name.str.split(expand=True)"
      ]
    },
    {
      "cell_type": "code",
      "execution_count": 195,
      "metadata": {
        "colab": {
          "base_uri": "https://localhost:8080/"
        },
        "colab_type": "code",
        "id": "jzHgxy_7xroG",
        "outputId": "13bac637-af5a-4bbd-94c4-c4bbd9a844dd"
      },
      "outputs": [
        {
          "data": {
            "text/html": [
              "<div>\n",
              "<style scoped>\n",
              "    .dataframe tbody tr th:only-of-type {\n",
              "        vertical-align: middle;\n",
              "    }\n",
              "\n",
              "    .dataframe tbody tr th {\n",
              "        vertical-align: top;\n",
              "    }\n",
              "\n",
              "    .dataframe thead th {\n",
              "        text-align: right;\n",
              "    }\n",
              "</style>\n",
              "<table border=\"1\" class=\"dataframe\">\n",
              "  <thead>\n",
              "    <tr style=\"text-align: right;\">\n",
              "      <th></th>\n",
              "      <th>0</th>\n",
              "      <th>1</th>\n",
              "      <th>2</th>\n",
              "      <th>3</th>\n",
              "      <th>4</th>\n",
              "    </tr>\n",
              "  </thead>\n",
              "  <tbody>\n",
              "    <tr>\n",
              "      <th>0</th>\n",
              "      <td>Kirui,</td>\n",
              "      <td>Geoffrey</td>\n",
              "      <td>None</td>\n",
              "      <td>None</td>\n",
              "      <td>None</td>\n",
              "    </tr>\n",
              "    <tr>\n",
              "      <th>1</th>\n",
              "      <td>Rupp,</td>\n",
              "      <td>Galen</td>\n",
              "      <td>None</td>\n",
              "      <td>None</td>\n",
              "      <td>None</td>\n",
              "    </tr>\n",
              "    <tr>\n",
              "      <th>2</th>\n",
              "      <td>Osako,</td>\n",
              "      <td>Suguru</td>\n",
              "      <td>None</td>\n",
              "      <td>None</td>\n",
              "      <td>None</td>\n",
              "    </tr>\n",
              "    <tr>\n",
              "      <th>3</th>\n",
              "      <td>Biwott,</td>\n",
              "      <td>Shadrack</td>\n",
              "      <td>None</td>\n",
              "      <td>None</td>\n",
              "      <td>None</td>\n",
              "    </tr>\n",
              "    <tr>\n",
              "      <th>4</th>\n",
              "      <td>Chebet,</td>\n",
              "      <td>Wilson</td>\n",
              "      <td>None</td>\n",
              "      <td>None</td>\n",
              "      <td>None</td>\n",
              "    </tr>\n",
              "    <tr>\n",
              "      <th>...</th>\n",
              "      <td>...</td>\n",
              "      <td>...</td>\n",
              "      <td>...</td>\n",
              "      <td>...</td>\n",
              "      <td>...</td>\n",
              "    </tr>\n",
              "    <tr>\n",
              "      <th>995</th>\n",
              "      <td>Larosa,</td>\n",
              "      <td>Mark</td>\n",
              "      <td>None</td>\n",
              "      <td>None</td>\n",
              "      <td>None</td>\n",
              "    </tr>\n",
              "    <tr>\n",
              "      <th>996</th>\n",
              "      <td>Williamson,</td>\n",
              "      <td>Jerry</td>\n",
              "      <td>A</td>\n",
              "      <td>None</td>\n",
              "      <td>None</td>\n",
              "    </tr>\n",
              "    <tr>\n",
              "      <th>997</th>\n",
              "      <td>Mccue,</td>\n",
              "      <td>Daniel</td>\n",
              "      <td>T</td>\n",
              "      <td>None</td>\n",
              "      <td>None</td>\n",
              "    </tr>\n",
              "    <tr>\n",
              "      <th>998</th>\n",
              "      <td>Larosa,</td>\n",
              "      <td>John</td>\n",
              "      <td>None</td>\n",
              "      <td>None</td>\n",
              "      <td>None</td>\n",
              "    </tr>\n",
              "    <tr>\n",
              "      <th>999</th>\n",
              "      <td>Sanchez,</td>\n",
              "      <td>Sam</td>\n",
              "      <td>R</td>\n",
              "      <td>None</td>\n",
              "      <td>None</td>\n",
              "    </tr>\n",
              "  </tbody>\n",
              "</table>\n",
              "<p>1000 rows × 5 columns</p>\n",
              "</div>"
            ],
            "text/plain": [
              "               0         1     2     3     4\n",
              "0         Kirui,  Geoffrey  None  None  None\n",
              "1          Rupp,     Galen  None  None  None\n",
              "2         Osako,    Suguru  None  None  None\n",
              "3        Biwott,  Shadrack  None  None  None\n",
              "4        Chebet,    Wilson  None  None  None\n",
              "..           ...       ...   ...   ...   ...\n",
              "995      Larosa,      Mark  None  None  None\n",
              "996  Williamson,     Jerry     A  None  None\n",
              "997       Mccue,    Daniel     T  None  None\n",
              "998      Larosa,      John  None  None  None\n",
              "999     Sanchez,       Sam     R  None  None\n",
              "\n",
              "[1000 rows x 5 columns]"
            ]
          },
          "execution_count": 195,
          "metadata": {},
          "output_type": "execute_result"
        }
      ],
      "source": [
        "boston.Name.str.split(r'\\s' ,expand=True)"
      ]
    },
    {
      "cell_type": "code",
      "execution_count": 196,
      "metadata": {
        "colab": {},
        "colab_type": "code",
        "id": "TPYd5OVpxxe-"
      },
      "outputs": [],
      "source": [
        "# replace()"
      ]
    },
    {
      "cell_type": "code",
      "execution_count": 197,
      "metadata": {
        "colab": {
          "base_uri": "https://localhost:8080/"
        },
        "colab_type": "code",
        "id": "y_nBrpe7x7BX",
        "outputId": "8c2f6083-e9c7-408c-df06-8e0f4370c9af"
      },
      "outputs": [
        {
          "data": {
            "text/html": [
              "<div>\n",
              "<style scoped>\n",
              "    .dataframe tbody tr th:only-of-type {\n",
              "        vertical-align: middle;\n",
              "    }\n",
              "\n",
              "    .dataframe tbody tr th {\n",
              "        vertical-align: top;\n",
              "    }\n",
              "\n",
              "    .dataframe thead th {\n",
              "        text-align: right;\n",
              "    }\n",
              "</style>\n",
              "<table border=\"1\" class=\"dataframe\">\n",
              "  <thead>\n",
              "    <tr style=\"text-align: right;\">\n",
              "      <th></th>\n",
              "      <th>Name</th>\n",
              "      <th>Age</th>\n",
              "      <th>M/F</th>\n",
              "      <th>City</th>\n",
              "      <th>State</th>\n",
              "      <th>Country</th>\n",
              "      <th>Official Time</th>\n",
              "      <th>Overall</th>\n",
              "      <th>Gender</th>\n",
              "      <th>Ran 2015</th>\n",
              "      <th>Ran 2016</th>\n",
              "      <th>Years Ran</th>\n",
              "      <th>First Name</th>\n",
              "      <th>Last Name</th>\n",
              "    </tr>\n",
              "  </thead>\n",
              "  <tbody>\n",
              "    <tr>\n",
              "      <th>0</th>\n",
              "      <td>Kirui, Geoffrey</td>\n",
              "      <td>24</td>\n",
              "      <td>Male</td>\n",
              "      <td>Keringet</td>\n",
              "      <td>NaN</td>\n",
              "      <td>KEN</td>\n",
              "      <td>2:09:37</td>\n",
              "      <td>1</td>\n",
              "      <td>1</td>\n",
              "      <td>0</td>\n",
              "      <td>0</td>\n",
              "      <td>NaN</td>\n",
              "      <td>Kirui</td>\n",
              "      <td>Geoffrey</td>\n",
              "    </tr>\n",
              "    <tr>\n",
              "      <th>1</th>\n",
              "      <td>Rupp, Galen</td>\n",
              "      <td>30</td>\n",
              "      <td>Male</td>\n",
              "      <td>Portland</td>\n",
              "      <td>OR</td>\n",
              "      <td>USA</td>\n",
              "      <td>2:09:58</td>\n",
              "      <td>2</td>\n",
              "      <td>2</td>\n",
              "      <td>0</td>\n",
              "      <td>0</td>\n",
              "      <td>NaN</td>\n",
              "      <td>Rupp</td>\n",
              "      <td>Galen</td>\n",
              "    </tr>\n",
              "    <tr>\n",
              "      <th>2</th>\n",
              "      <td>Osako, Suguru</td>\n",
              "      <td>25</td>\n",
              "      <td>Male</td>\n",
              "      <td>Machida-City</td>\n",
              "      <td>NaN</td>\n",
              "      <td>JPN</td>\n",
              "      <td>2:10:28</td>\n",
              "      <td>3</td>\n",
              "      <td>3</td>\n",
              "      <td>0</td>\n",
              "      <td>0</td>\n",
              "      <td>NaN</td>\n",
              "      <td>Osako</td>\n",
              "      <td>Suguru</td>\n",
              "    </tr>\n",
              "    <tr>\n",
              "      <th>3</th>\n",
              "      <td>Biwott, Shadrack</td>\n",
              "      <td>32</td>\n",
              "      <td>Male</td>\n",
              "      <td>Mammoth Lakes</td>\n",
              "      <td>CA</td>\n",
              "      <td>USA</td>\n",
              "      <td>2:12:08</td>\n",
              "      <td>4</td>\n",
              "      <td>4</td>\n",
              "      <td>0</td>\n",
              "      <td>0</td>\n",
              "      <td>NaN</td>\n",
              "      <td>Biwott</td>\n",
              "      <td>Shadrack</td>\n",
              "    </tr>\n",
              "    <tr>\n",
              "      <th>4</th>\n",
              "      <td>Chebet, Wilson</td>\n",
              "      <td>31</td>\n",
              "      <td>Male</td>\n",
              "      <td>Marakwet</td>\n",
              "      <td>NaN</td>\n",
              "      <td>KEN</td>\n",
              "      <td>2:12:35</td>\n",
              "      <td>5</td>\n",
              "      <td>5</td>\n",
              "      <td>1</td>\n",
              "      <td>0</td>\n",
              "      <td>2015</td>\n",
              "      <td>Chebet</td>\n",
              "      <td>Wilson</td>\n",
              "    </tr>\n",
              "  </tbody>\n",
              "</table>\n",
              "</div>"
            ],
            "text/plain": [
              "               Name  Age   M/F           City State Country Official Time  \\\n",
              "0   Kirui, Geoffrey   24  Male       Keringet   NaN     KEN       2:09:37   \n",
              "1       Rupp, Galen   30  Male       Portland    OR     USA       2:09:58   \n",
              "2     Osako, Suguru   25  Male   Machida-City   NaN     JPN       2:10:28   \n",
              "3  Biwott, Shadrack   32  Male  Mammoth Lakes    CA     USA       2:12:08   \n",
              "4    Chebet, Wilson   31  Male       Marakwet   NaN     KEN       2:12:35   \n",
              "\n",
              "   Overall  Gender  Ran 2015  Ran 2016 Years Ran First Name Last Name  \n",
              "0        1       1         0         0       NaN      Kirui  Geoffrey  \n",
              "1        2       2         0         0       NaN       Rupp     Galen  \n",
              "2        3       3         0         0       NaN      Osako    Suguru  \n",
              "3        4       4         0         0       NaN     Biwott  Shadrack  \n",
              "4        5       5         1         0      2015     Chebet    Wilson  "
            ]
          },
          "execution_count": 197,
          "metadata": {},
          "output_type": "execute_result"
        }
      ],
      "source": [
        "boston.head()"
      ]
    },
    {
      "cell_type": "code",
      "execution_count": 198,
      "metadata": {
        "colab": {
          "base_uri": "https://localhost:8080/"
        },
        "colab_type": "code",
        "id": "grXTASAJx9Pq",
        "outputId": "5de14f33-af6f-42f2-a6cc-3d8ee9696a06"
      },
      "outputs": [
        {
          "data": {
            "text/plain": [
              "0    2:09:37\n",
              "1    2:09:58\n",
              "2    2:10:28\n",
              "3    2:12:08\n",
              "4    2:12:35\n",
              "Name: Official Time, dtype: object"
            ]
          },
          "execution_count": 198,
          "metadata": {},
          "output_type": "execute_result"
        }
      ],
      "source": [
        "boston['Official Time'].head()"
      ]
    },
    {
      "cell_type": "code",
      "execution_count": 199,
      "metadata": {
        "colab": {},
        "colab_type": "code",
        "id": "CfhN-SThyGhk"
      },
      "outputs": [],
      "source": [
        "# 2:09:37 -> '2 hours, 9 minutes, and 37 second'"
      ]
    },
    {
      "cell_type": "code",
      "execution_count": 200,
      "metadata": {
        "colab": {},
        "colab_type": "code",
        "id": "nG4Yhy7zyLhP"
      },
      "outputs": [],
      "source": [
        "# previously: andy@howtopandas.com -> ****@howtopandas.com"
      ]
    },
    {
      "cell_type": "code",
      "execution_count": 201,
      "metadata": {
        "colab": {
          "base_uri": "https://localhost:8080/"
        },
        "colab_type": "code",
        "id": "80hhFe2NyR6t",
        "outputId": "6c7bdd84-89e1-4654-d878-a13aa6c07a60"
      },
      "outputs": [
        {
          "name": "stderr",
          "output_type": "stream",
          "text": [
            "/var/folders/kz/w63f9yjx2rs32jgdg8wkn4w40000gn/T/ipykernel_47909/2516905658.py:1: FutureWarning: The default value of regex will change from True to False in a future version.\n",
            "  boston['Official Time'].str.replace(r'(\\d+):(\\d+):(\\d+)', r'\\1 hours, \\2 minutes, and \\3 seconds')\n"
          ]
        },
        {
          "data": {
            "text/plain": [
              "0      2 hours, 09 minutes, and 37 seconds\n",
              "1      2 hours, 09 minutes, and 58 seconds\n",
              "2      2 hours, 10 minutes, and 28 seconds\n",
              "3      2 hours, 12 minutes, and 08 seconds\n",
              "4      2 hours, 12 minutes, and 35 seconds\n",
              "                      ...                 \n",
              "995    2 hours, 56 minutes, and 06 seconds\n",
              "996    2 hours, 56 minutes, and 06 seconds\n",
              "997    2 hours, 56 minutes, and 06 seconds\n",
              "998    2 hours, 56 minutes, and 07 seconds\n",
              "999    2 hours, 56 minutes, and 08 seconds\n",
              "Name: Official Time, Length: 1000, dtype: object"
            ]
          },
          "execution_count": 201,
          "metadata": {},
          "output_type": "execute_result"
        }
      ],
      "source": [
        "boston['Official Time'].str.replace(r'(\\d+):(\\d+):(\\d+)', r'\\1 hours, \\2 minutes, and \\3 seconds')"
      ]
    },
    {
      "cell_type": "code",
      "execution_count": 202,
      "metadata": {
        "colab": {},
        "colab_type": "code",
        "id": "MKnxbQ2Uyax4"
      },
      "outputs": [],
      "source": [
        "# boston['Official Time'] = .... ^"
      ]
    },
    {
      "cell_type": "markdown",
      "metadata": {
        "colab_type": "text",
        "id": "67GbzHgjy3oF"
      },
      "source": [
        "#### Skill Challenge"
      ]
    },
    {
      "cell_type": "markdown",
      "metadata": {
        "colab_type": "text",
        "id": "QbBht_oHzyao"
      },
      "source": [
        "###### **1.**"
      ]
    },
    {
      "cell_type": "markdown",
      "metadata": {
        "colab_type": "text",
        "id": "87AP0YXf0fsI"
      },
      "source": [
        "Split the *Official Time* into three separate columns; one each for hours, minutes, and seconds. Store this dataframe in a variable called *final_times*."
      ]
    },
    {
      "cell_type": "markdown",
      "metadata": {
        "colab_type": "text",
        "id": "M8HLGj8w0gM1"
      },
      "source": [
        "###### **2.**"
      ]
    },
    {
      "cell_type": "markdown",
      "metadata": {
        "colab_type": "text",
        "id": "GiUNG_bo0iQp"
      },
      "source": [
        "In the *final_times* dataframe, create a new column called total that contains the total time in seconds.\n",
        "\n",
        "Add the *total* column to the *boston* dataframe.\n",
        "\n",
        "For example: a run time of 2:09:37 would be shown on the total column as 7777.\n",
        "\n",
        "    2 hours x 60 minutes x 60 seconds\n",
        "    +9 minutes x 60 seconds\n",
        "    +37 seconds\n",
        "\n",
        "7,777 seconds"
      ]
    },
    {
      "cell_type": "markdown",
      "metadata": {
        "colab_type": "text",
        "id": "-y9OInX80mqn"
      },
      "source": [
        "###### **3.**"
      ]
    },
    {
      "cell_type": "markdown",
      "metadata": {
        "colab_type": "text",
        "id": "tsKQ-yJv0oeo"
      },
      "source": [
        "Do the runners in the *boston* dataset who also ran in 2016 have a higher or lower average time?"
      ]
    },
    {
      "cell_type": "markdown",
      "metadata": {
        "colab_type": "text",
        "id": "MaEu7dEr4cmK"
      },
      "source": [
        "#### Solution"
      ]
    },
    {
      "cell_type": "code",
      "execution_count": 203,
      "metadata": {
        "colab": {
          "base_uri": "https://localhost:8080/"
        },
        "colab_type": "code",
        "id": "ZmiVCMhh6RG2",
        "outputId": "dc298cb6-e43b-42ec-cb12-07d20ca7c578"
      },
      "outputs": [
        {
          "data": {
            "text/html": [
              "<div>\n",
              "<style scoped>\n",
              "    .dataframe tbody tr th:only-of-type {\n",
              "        vertical-align: middle;\n",
              "    }\n",
              "\n",
              "    .dataframe tbody tr th {\n",
              "        vertical-align: top;\n",
              "    }\n",
              "\n",
              "    .dataframe thead th {\n",
              "        text-align: right;\n",
              "    }\n",
              "</style>\n",
              "<table border=\"1\" class=\"dataframe\">\n",
              "  <thead>\n",
              "    <tr style=\"text-align: right;\">\n",
              "      <th></th>\n",
              "      <th>Name</th>\n",
              "      <th>Age</th>\n",
              "      <th>M/F</th>\n",
              "      <th>City</th>\n",
              "      <th>State</th>\n",
              "      <th>Country</th>\n",
              "      <th>Official Time</th>\n",
              "      <th>Overall</th>\n",
              "      <th>Gender</th>\n",
              "      <th>Ran 2015</th>\n",
              "      <th>Ran 2016</th>\n",
              "      <th>Years Ran</th>\n",
              "      <th>First Name</th>\n",
              "      <th>Last Name</th>\n",
              "    </tr>\n",
              "  </thead>\n",
              "  <tbody>\n",
              "    <tr>\n",
              "      <th>0</th>\n",
              "      <td>Kirui, Geoffrey</td>\n",
              "      <td>24</td>\n",
              "      <td>Male</td>\n",
              "      <td>Keringet</td>\n",
              "      <td>NaN</td>\n",
              "      <td>KEN</td>\n",
              "      <td>2:09:37</td>\n",
              "      <td>1</td>\n",
              "      <td>1</td>\n",
              "      <td>0</td>\n",
              "      <td>0</td>\n",
              "      <td>NaN</td>\n",
              "      <td>Kirui</td>\n",
              "      <td>Geoffrey</td>\n",
              "    </tr>\n",
              "    <tr>\n",
              "      <th>1</th>\n",
              "      <td>Rupp, Galen</td>\n",
              "      <td>30</td>\n",
              "      <td>Male</td>\n",
              "      <td>Portland</td>\n",
              "      <td>OR</td>\n",
              "      <td>USA</td>\n",
              "      <td>2:09:58</td>\n",
              "      <td>2</td>\n",
              "      <td>2</td>\n",
              "      <td>0</td>\n",
              "      <td>0</td>\n",
              "      <td>NaN</td>\n",
              "      <td>Rupp</td>\n",
              "      <td>Galen</td>\n",
              "    </tr>\n",
              "    <tr>\n",
              "      <th>2</th>\n",
              "      <td>Osako, Suguru</td>\n",
              "      <td>25</td>\n",
              "      <td>Male</td>\n",
              "      <td>Machida-City</td>\n",
              "      <td>NaN</td>\n",
              "      <td>JPN</td>\n",
              "      <td>2:10:28</td>\n",
              "      <td>3</td>\n",
              "      <td>3</td>\n",
              "      <td>0</td>\n",
              "      <td>0</td>\n",
              "      <td>NaN</td>\n",
              "      <td>Osako</td>\n",
              "      <td>Suguru</td>\n",
              "    </tr>\n",
              "  </tbody>\n",
              "</table>\n",
              "</div>"
            ],
            "text/plain": [
              "              Name  Age   M/F          City State Country Official Time  \\\n",
              "0  Kirui, Geoffrey   24  Male      Keringet   NaN     KEN       2:09:37   \n",
              "1      Rupp, Galen   30  Male      Portland    OR     USA       2:09:58   \n",
              "2    Osako, Suguru   25  Male  Machida-City   NaN     JPN       2:10:28   \n",
              "\n",
              "   Overall  Gender  Ran 2015  Ran 2016 Years Ran First Name Last Name  \n",
              "0        1       1         0         0       NaN      Kirui  Geoffrey  \n",
              "1        2       2         0         0       NaN       Rupp     Galen  \n",
              "2        3       3         0         0       NaN      Osako    Suguru  "
            ]
          },
          "execution_count": 203,
          "metadata": {},
          "output_type": "execute_result"
        }
      ],
      "source": [
        "boston.head(3)"
      ]
    },
    {
      "cell_type": "code",
      "execution_count": 204,
      "metadata": {
        "colab": {},
        "colab_type": "code",
        "id": "hYuER0ba4eGw"
      },
      "outputs": [],
      "source": [
        "# 1\n",
        "\n",
        "final_times = boston['Official Time'].str.split(':', expand=True)"
      ]
    },
    {
      "cell_type": "code",
      "execution_count": 205,
      "metadata": {
        "colab": {
          "base_uri": "https://localhost:8080/"
        },
        "colab_type": "code",
        "id": "dosLXI3e6Lu-",
        "outputId": "9df099e3-a64d-4d48-fd26-7c965d528735"
      },
      "outputs": [
        {
          "data": {
            "text/html": [
              "<div>\n",
              "<style scoped>\n",
              "    .dataframe tbody tr th:only-of-type {\n",
              "        vertical-align: middle;\n",
              "    }\n",
              "\n",
              "    .dataframe tbody tr th {\n",
              "        vertical-align: top;\n",
              "    }\n",
              "\n",
              "    .dataframe thead th {\n",
              "        text-align: right;\n",
              "    }\n",
              "</style>\n",
              "<table border=\"1\" class=\"dataframe\">\n",
              "  <thead>\n",
              "    <tr style=\"text-align: right;\">\n",
              "      <th></th>\n",
              "      <th>0</th>\n",
              "      <th>1</th>\n",
              "      <th>2</th>\n",
              "    </tr>\n",
              "  </thead>\n",
              "  <tbody>\n",
              "    <tr>\n",
              "      <th>0</th>\n",
              "      <td>2</td>\n",
              "      <td>09</td>\n",
              "      <td>37</td>\n",
              "    </tr>\n",
              "    <tr>\n",
              "      <th>1</th>\n",
              "      <td>2</td>\n",
              "      <td>09</td>\n",
              "      <td>58</td>\n",
              "    </tr>\n",
              "    <tr>\n",
              "      <th>2</th>\n",
              "      <td>2</td>\n",
              "      <td>10</td>\n",
              "      <td>28</td>\n",
              "    </tr>\n",
              "    <tr>\n",
              "      <th>3</th>\n",
              "      <td>2</td>\n",
              "      <td>12</td>\n",
              "      <td>08</td>\n",
              "    </tr>\n",
              "    <tr>\n",
              "      <th>4</th>\n",
              "      <td>2</td>\n",
              "      <td>12</td>\n",
              "      <td>35</td>\n",
              "    </tr>\n",
              "  </tbody>\n",
              "</table>\n",
              "</div>"
            ],
            "text/plain": [
              "   0   1   2\n",
              "0  2  09  37\n",
              "1  2  09  58\n",
              "2  2  10  28\n",
              "3  2  12  08\n",
              "4  2  12  35"
            ]
          },
          "execution_count": 205,
          "metadata": {},
          "output_type": "execute_result"
        }
      ],
      "source": [
        "final_times.head()"
      ]
    },
    {
      "cell_type": "code",
      "execution_count": 206,
      "metadata": {
        "colab": {},
        "colab_type": "code",
        "id": "-dyfj2ls6VO6"
      },
      "outputs": [],
      "source": [
        "# 2"
      ]
    },
    {
      "cell_type": "code",
      "execution_count": 207,
      "metadata": {
        "colab": {
          "base_uri": "https://localhost:8080/"
        },
        "colab_type": "code",
        "id": "bg6XXZjJ6bZY",
        "outputId": "c62aaff8-594e-49e1-e071-494eadea65be"
      },
      "outputs": [
        {
          "name": "stdout",
          "output_type": "stream",
          "text": [
            "<class 'pandas.core.frame.DataFrame'>\n",
            "RangeIndex: 1000 entries, 0 to 999\n",
            "Data columns (total 3 columns):\n",
            " #   Column  Non-Null Count  Dtype \n",
            "---  ------  --------------  ----- \n",
            " 0   0       1000 non-null   object\n",
            " 1   1       1000 non-null   object\n",
            " 2   2       1000 non-null   object\n",
            "dtypes: object(3)\n",
            "memory usage: 23.6+ KB\n"
          ]
        }
      ],
      "source": [
        "final_times.info()"
      ]
    },
    {
      "cell_type": "code",
      "execution_count": 208,
      "metadata": {
        "colab": {
          "base_uri": "https://localhost:8080/"
        },
        "colab_type": "code",
        "id": "tnuUQAGZ6f9e",
        "outputId": "c5ba755c-15c1-4871-8963-4d4babc3c922"
      },
      "outputs": [
        {
          "data": {
            "text/plain": [
              "0      120\n",
              "1      120\n",
              "2      120\n",
              "3      120\n",
              "4      120\n",
              "      ... \n",
              "995    120\n",
              "996    120\n",
              "997    120\n",
              "998    120\n",
              "999    120\n",
              "Name: 0, Length: 1000, dtype: int64"
            ]
          },
          "execution_count": 208,
          "metadata": {},
          "output_type": "execute_result"
        }
      ],
      "source": [
        "final_times[0].astype(int) * 60"
      ]
    },
    {
      "cell_type": "code",
      "execution_count": 209,
      "metadata": {
        "colab": {
          "base_uri": "https://localhost:8080/"
        },
        "colab_type": "code",
        "id": "m0Dkt1Gl6ign",
        "outputId": "6bfd6224-fbd6-4921-f498-c36022dfb42c"
      },
      "outputs": [
        {
          "data": {
            "text/plain": [
              "'AndyAndyAndyAndyAndyAndyAndyAndyAndy'"
            ]
          },
          "execution_count": 209,
          "metadata": {},
          "output_type": "execute_result"
        }
      ],
      "source": [
        "'Andy' * 9"
      ]
    },
    {
      "cell_type": "code",
      "execution_count": 210,
      "metadata": {
        "colab": {
          "base_uri": "https://localhost:8080/"
        },
        "colab_type": "code",
        "id": "YYbeWcn46_U6",
        "outputId": "04374134-e288-4e6d-d8c0-b209327cba67"
      },
      "outputs": [
        {
          "data": {
            "text/html": [
              "<div>\n",
              "<style scoped>\n",
              "    .dataframe tbody tr th:only-of-type {\n",
              "        vertical-align: middle;\n",
              "    }\n",
              "\n",
              "    .dataframe tbody tr th {\n",
              "        vertical-align: top;\n",
              "    }\n",
              "\n",
              "    .dataframe thead th {\n",
              "        text-align: right;\n",
              "    }\n",
              "</style>\n",
              "<table border=\"1\" class=\"dataframe\">\n",
              "  <thead>\n",
              "    <tr style=\"text-align: right;\">\n",
              "      <th></th>\n",
              "      <th>Name</th>\n",
              "      <th>Age</th>\n",
              "      <th>M/F</th>\n",
              "      <th>City</th>\n",
              "      <th>State</th>\n",
              "      <th>Country</th>\n",
              "      <th>Official Time</th>\n",
              "      <th>Overall</th>\n",
              "      <th>Gender</th>\n",
              "      <th>Ran 2015</th>\n",
              "      <th>Ran 2016</th>\n",
              "      <th>Years Ran</th>\n",
              "      <th>First Name</th>\n",
              "      <th>Last Name</th>\n",
              "    </tr>\n",
              "  </thead>\n",
              "  <tbody>\n",
              "    <tr>\n",
              "      <th>0</th>\n",
              "      <td>Kirui, Geoffrey</td>\n",
              "      <td>24</td>\n",
              "      <td>Male</td>\n",
              "      <td>Keringet</td>\n",
              "      <td>NaN</td>\n",
              "      <td>KEN</td>\n",
              "      <td>2:09:37</td>\n",
              "      <td>1</td>\n",
              "      <td>1</td>\n",
              "      <td>0</td>\n",
              "      <td>0</td>\n",
              "      <td>NaN</td>\n",
              "      <td>Kirui</td>\n",
              "      <td>Geoffrey</td>\n",
              "    </tr>\n",
              "    <tr>\n",
              "      <th>1</th>\n",
              "      <td>Rupp, Galen</td>\n",
              "      <td>30</td>\n",
              "      <td>Male</td>\n",
              "      <td>Portland</td>\n",
              "      <td>OR</td>\n",
              "      <td>USA</td>\n",
              "      <td>2:09:58</td>\n",
              "      <td>2</td>\n",
              "      <td>2</td>\n",
              "      <td>0</td>\n",
              "      <td>0</td>\n",
              "      <td>NaN</td>\n",
              "      <td>Rupp</td>\n",
              "      <td>Galen</td>\n",
              "    </tr>\n",
              "    <tr>\n",
              "      <th>2</th>\n",
              "      <td>Osako, Suguru</td>\n",
              "      <td>25</td>\n",
              "      <td>Male</td>\n",
              "      <td>Machida-City</td>\n",
              "      <td>NaN</td>\n",
              "      <td>JPN</td>\n",
              "      <td>2:10:28</td>\n",
              "      <td>3</td>\n",
              "      <td>3</td>\n",
              "      <td>0</td>\n",
              "      <td>0</td>\n",
              "      <td>NaN</td>\n",
              "      <td>Osako</td>\n",
              "      <td>Suguru</td>\n",
              "    </tr>\n",
              "  </tbody>\n",
              "</table>\n",
              "</div>"
            ],
            "text/plain": [
              "              Name  Age   M/F          City State Country Official Time  \\\n",
              "0  Kirui, Geoffrey   24  Male      Keringet   NaN     KEN       2:09:37   \n",
              "1      Rupp, Galen   30  Male      Portland    OR     USA       2:09:58   \n",
              "2    Osako, Suguru   25  Male  Machida-City   NaN     JPN       2:10:28   \n",
              "\n",
              "   Overall  Gender  Ran 2015  Ran 2016 Years Ran First Name Last Name  \n",
              "0        1       1         0         0       NaN      Kirui  Geoffrey  \n",
              "1        2       2         0         0       NaN       Rupp     Galen  \n",
              "2        3       3         0         0       NaN      Osako    Suguru  "
            ]
          },
          "execution_count": 210,
          "metadata": {},
          "output_type": "execute_result"
        }
      ],
      "source": [
        "boston.head(3)"
      ]
    },
    {
      "cell_type": "code",
      "execution_count": 211,
      "metadata": {
        "colab": {
          "base_uri": "https://localhost:8080/"
        },
        "colab_type": "code",
        "id": "NFp5UtuQ6mRX",
        "outputId": "09c7ab25-7c66-4e57-efc4-87d57c02543f"
      },
      "outputs": [
        {
          "data": {
            "text/plain": [
              "0       7777\n",
              "1       7798\n",
              "2       7828\n",
              "3       7928\n",
              "4       7955\n",
              "       ...  \n",
              "995    10566\n",
              "996    10566\n",
              "997    10566\n",
              "998    10567\n",
              "999    10568\n",
              "Length: 1000, dtype: int64"
            ]
          },
          "execution_count": 211,
          "metadata": {},
          "output_type": "execute_result"
        }
      ],
      "source": [
        "# approach 1\n",
        "final_times[0].astype(int) * 3600 + final_times[1].astype(int) * 60 + final_times[2].astype(int)"
      ]
    },
    {
      "cell_type": "code",
      "execution_count": 212,
      "metadata": {
        "colab": {
          "base_uri": "https://localhost:8080/"
        },
        "colab_type": "code",
        "id": "K9PykeGS7Fuo",
        "outputId": "5193919c-de70-46bd-b93f-0d123d042591"
      },
      "outputs": [
        {
          "data": {
            "text/html": [
              "<div>\n",
              "<style scoped>\n",
              "    .dataframe tbody tr th:only-of-type {\n",
              "        vertical-align: middle;\n",
              "    }\n",
              "\n",
              "    .dataframe tbody tr th {\n",
              "        vertical-align: top;\n",
              "    }\n",
              "\n",
              "    .dataframe thead th {\n",
              "        text-align: right;\n",
              "    }\n",
              "</style>\n",
              "<table border=\"1\" class=\"dataframe\">\n",
              "  <thead>\n",
              "    <tr style=\"text-align: right;\">\n",
              "      <th></th>\n",
              "      <th>0</th>\n",
              "      <th>1</th>\n",
              "      <th>2</th>\n",
              "    </tr>\n",
              "  </thead>\n",
              "  <tbody>\n",
              "    <tr>\n",
              "      <th>0</th>\n",
              "      <td>2</td>\n",
              "      <td>09</td>\n",
              "      <td>37</td>\n",
              "    </tr>\n",
              "    <tr>\n",
              "      <th>1</th>\n",
              "      <td>2</td>\n",
              "      <td>09</td>\n",
              "      <td>58</td>\n",
              "    </tr>\n",
              "    <tr>\n",
              "      <th>2</th>\n",
              "      <td>2</td>\n",
              "      <td>10</td>\n",
              "      <td>28</td>\n",
              "    </tr>\n",
              "    <tr>\n",
              "      <th>3</th>\n",
              "      <td>2</td>\n",
              "      <td>12</td>\n",
              "      <td>08</td>\n",
              "    </tr>\n",
              "    <tr>\n",
              "      <th>4</th>\n",
              "      <td>2</td>\n",
              "      <td>12</td>\n",
              "      <td>35</td>\n",
              "    </tr>\n",
              "  </tbody>\n",
              "</table>\n",
              "</div>"
            ],
            "text/plain": [
              "   0   1   2\n",
              "0  2  09  37\n",
              "1  2  09  58\n",
              "2  2  10  28\n",
              "3  2  12  08\n",
              "4  2  12  35"
            ]
          },
          "execution_count": 212,
          "metadata": {},
          "output_type": "execute_result"
        }
      ],
      "source": [
        "final_times.head()"
      ]
    },
    {
      "cell_type": "code",
      "execution_count": 213,
      "metadata": {
        "colab": {},
        "colab_type": "code",
        "id": "olJknGEq66g5"
      },
      "outputs": [],
      "source": [
        "# approach 2\n",
        "\n",
        "final_times = final_times.astype(int)"
      ]
    },
    {
      "cell_type": "code",
      "execution_count": 214,
      "metadata": {
        "colab": {
          "base_uri": "https://localhost:8080/"
        },
        "colab_type": "code",
        "id": "rn41OuTg7KM6",
        "outputId": "9ebc5587-90bb-4328-c7ec-c71aa1e9583c"
      },
      "outputs": [
        {
          "name": "stdout",
          "output_type": "stream",
          "text": [
            "<class 'pandas.core.frame.DataFrame'>\n",
            "RangeIndex: 1000 entries, 0 to 999\n",
            "Data columns (total 3 columns):\n",
            " #   Column  Non-Null Count  Dtype\n",
            "---  ------  --------------  -----\n",
            " 0   0       1000 non-null   int64\n",
            " 1   1       1000 non-null   int64\n",
            " 2   2       1000 non-null   int64\n",
            "dtypes: int64(3)\n",
            "memory usage: 23.6 KB\n"
          ]
        }
      ],
      "source": [
        "final_times.info()"
      ]
    },
    {
      "cell_type": "code",
      "execution_count": 215,
      "metadata": {
        "colab": {},
        "colab_type": "code",
        "id": "ZcijhA4h7MCm"
      },
      "outputs": [],
      "source": [
        "final_times['total'] = final_times.apply(lambda t: t.iat[0] * 3600 + t.iat[1] * 60 + t.iat[2], axis=1)"
      ]
    },
    {
      "cell_type": "code",
      "execution_count": 216,
      "metadata": {
        "colab": {
          "base_uri": "https://localhost:8080/"
        },
        "colab_type": "code",
        "id": "cbRfEe0P7WNR",
        "outputId": "c7ec44c0-0cbe-4a9f-d37b-37edf1e1121d"
      },
      "outputs": [
        {
          "data": {
            "text/html": [
              "<div>\n",
              "<style scoped>\n",
              "    .dataframe tbody tr th:only-of-type {\n",
              "        vertical-align: middle;\n",
              "    }\n",
              "\n",
              "    .dataframe tbody tr th {\n",
              "        vertical-align: top;\n",
              "    }\n",
              "\n",
              "    .dataframe thead th {\n",
              "        text-align: right;\n",
              "    }\n",
              "</style>\n",
              "<table border=\"1\" class=\"dataframe\">\n",
              "  <thead>\n",
              "    <tr style=\"text-align: right;\">\n",
              "      <th></th>\n",
              "      <th>0</th>\n",
              "      <th>1</th>\n",
              "      <th>2</th>\n",
              "      <th>total</th>\n",
              "    </tr>\n",
              "  </thead>\n",
              "  <tbody>\n",
              "    <tr>\n",
              "      <th>0</th>\n",
              "      <td>2</td>\n",
              "      <td>9</td>\n",
              "      <td>37</td>\n",
              "      <td>7777</td>\n",
              "    </tr>\n",
              "    <tr>\n",
              "      <th>1</th>\n",
              "      <td>2</td>\n",
              "      <td>9</td>\n",
              "      <td>58</td>\n",
              "      <td>7798</td>\n",
              "    </tr>\n",
              "    <tr>\n",
              "      <th>2</th>\n",
              "      <td>2</td>\n",
              "      <td>10</td>\n",
              "      <td>28</td>\n",
              "      <td>7828</td>\n",
              "    </tr>\n",
              "    <tr>\n",
              "      <th>3</th>\n",
              "      <td>2</td>\n",
              "      <td>12</td>\n",
              "      <td>8</td>\n",
              "      <td>7928</td>\n",
              "    </tr>\n",
              "    <tr>\n",
              "      <th>4</th>\n",
              "      <td>2</td>\n",
              "      <td>12</td>\n",
              "      <td>35</td>\n",
              "      <td>7955</td>\n",
              "    </tr>\n",
              "  </tbody>\n",
              "</table>\n",
              "</div>"
            ],
            "text/plain": [
              "   0   1   2  total\n",
              "0  2   9  37   7777\n",
              "1  2   9  58   7798\n",
              "2  2  10  28   7828\n",
              "3  2  12   8   7928\n",
              "4  2  12  35   7955"
            ]
          },
          "execution_count": 216,
          "metadata": {},
          "output_type": "execute_result"
        }
      ],
      "source": [
        "final_times.head()"
      ]
    },
    {
      "cell_type": "code",
      "execution_count": 217,
      "metadata": {
        "colab": {
          "base_uri": "https://localhost:8080/"
        },
        "colab_type": "code",
        "id": "tscgQZ887imU",
        "outputId": "bed2f497-d633-462b-e24a-c7921e77fe94"
      },
      "outputs": [
        {
          "data": {
            "text/html": [
              "<div>\n",
              "<style scoped>\n",
              "    .dataframe tbody tr th:only-of-type {\n",
              "        vertical-align: middle;\n",
              "    }\n",
              "\n",
              "    .dataframe tbody tr th {\n",
              "        vertical-align: top;\n",
              "    }\n",
              "\n",
              "    .dataframe thead th {\n",
              "        text-align: right;\n",
              "    }\n",
              "</style>\n",
              "<table border=\"1\" class=\"dataframe\">\n",
              "  <thead>\n",
              "    <tr style=\"text-align: right;\">\n",
              "      <th></th>\n",
              "      <th>Name</th>\n",
              "      <th>Age</th>\n",
              "      <th>M/F</th>\n",
              "      <th>City</th>\n",
              "      <th>State</th>\n",
              "      <th>Country</th>\n",
              "      <th>Official Time</th>\n",
              "      <th>Overall</th>\n",
              "      <th>Gender</th>\n",
              "      <th>Ran 2015</th>\n",
              "      <th>Ran 2016</th>\n",
              "      <th>Years Ran</th>\n",
              "      <th>First Name</th>\n",
              "      <th>Last Name</th>\n",
              "    </tr>\n",
              "  </thead>\n",
              "  <tbody>\n",
              "    <tr>\n",
              "      <th>0</th>\n",
              "      <td>Kirui, Geoffrey</td>\n",
              "      <td>24</td>\n",
              "      <td>Male</td>\n",
              "      <td>Keringet</td>\n",
              "      <td>NaN</td>\n",
              "      <td>KEN</td>\n",
              "      <td>2:09:37</td>\n",
              "      <td>1</td>\n",
              "      <td>1</td>\n",
              "      <td>0</td>\n",
              "      <td>0</td>\n",
              "      <td>NaN</td>\n",
              "      <td>Kirui</td>\n",
              "      <td>Geoffrey</td>\n",
              "    </tr>\n",
              "    <tr>\n",
              "      <th>1</th>\n",
              "      <td>Rupp, Galen</td>\n",
              "      <td>30</td>\n",
              "      <td>Male</td>\n",
              "      <td>Portland</td>\n",
              "      <td>OR</td>\n",
              "      <td>USA</td>\n",
              "      <td>2:09:58</td>\n",
              "      <td>2</td>\n",
              "      <td>2</td>\n",
              "      <td>0</td>\n",
              "      <td>0</td>\n",
              "      <td>NaN</td>\n",
              "      <td>Rupp</td>\n",
              "      <td>Galen</td>\n",
              "    </tr>\n",
              "    <tr>\n",
              "      <th>2</th>\n",
              "      <td>Osako, Suguru</td>\n",
              "      <td>25</td>\n",
              "      <td>Male</td>\n",
              "      <td>Machida-City</td>\n",
              "      <td>NaN</td>\n",
              "      <td>JPN</td>\n",
              "      <td>2:10:28</td>\n",
              "      <td>3</td>\n",
              "      <td>3</td>\n",
              "      <td>0</td>\n",
              "      <td>0</td>\n",
              "      <td>NaN</td>\n",
              "      <td>Osako</td>\n",
              "      <td>Suguru</td>\n",
              "    </tr>\n",
              "    <tr>\n",
              "      <th>3</th>\n",
              "      <td>Biwott, Shadrack</td>\n",
              "      <td>32</td>\n",
              "      <td>Male</td>\n",
              "      <td>Mammoth Lakes</td>\n",
              "      <td>CA</td>\n",
              "      <td>USA</td>\n",
              "      <td>2:12:08</td>\n",
              "      <td>4</td>\n",
              "      <td>4</td>\n",
              "      <td>0</td>\n",
              "      <td>0</td>\n",
              "      <td>NaN</td>\n",
              "      <td>Biwott</td>\n",
              "      <td>Shadrack</td>\n",
              "    </tr>\n",
              "    <tr>\n",
              "      <th>4</th>\n",
              "      <td>Chebet, Wilson</td>\n",
              "      <td>31</td>\n",
              "      <td>Male</td>\n",
              "      <td>Marakwet</td>\n",
              "      <td>NaN</td>\n",
              "      <td>KEN</td>\n",
              "      <td>2:12:35</td>\n",
              "      <td>5</td>\n",
              "      <td>5</td>\n",
              "      <td>1</td>\n",
              "      <td>0</td>\n",
              "      <td>2015</td>\n",
              "      <td>Chebet</td>\n",
              "      <td>Wilson</td>\n",
              "    </tr>\n",
              "  </tbody>\n",
              "</table>\n",
              "</div>"
            ],
            "text/plain": [
              "               Name  Age   M/F           City State Country Official Time  \\\n",
              "0   Kirui, Geoffrey   24  Male       Keringet   NaN     KEN       2:09:37   \n",
              "1       Rupp, Galen   30  Male       Portland    OR     USA       2:09:58   \n",
              "2     Osako, Suguru   25  Male   Machida-City   NaN     JPN       2:10:28   \n",
              "3  Biwott, Shadrack   32  Male  Mammoth Lakes    CA     USA       2:12:08   \n",
              "4    Chebet, Wilson   31  Male       Marakwet   NaN     KEN       2:12:35   \n",
              "\n",
              "   Overall  Gender  Ran 2015  Ran 2016 Years Ran First Name Last Name  \n",
              "0        1       1         0         0       NaN      Kirui  Geoffrey  \n",
              "1        2       2         0         0       NaN       Rupp     Galen  \n",
              "2        3       3         0         0       NaN      Osako    Suguru  \n",
              "3        4       4         0         0       NaN     Biwott  Shadrack  \n",
              "4        5       5         1         0      2015     Chebet    Wilson  "
            ]
          },
          "execution_count": 217,
          "metadata": {},
          "output_type": "execute_result"
        }
      ],
      "source": [
        "boston.head()"
      ]
    },
    {
      "cell_type": "code",
      "execution_count": 218,
      "metadata": {
        "colab": {},
        "colab_type": "code",
        "id": "Hf0JDfFt7n-W"
      },
      "outputs": [],
      "source": [
        "# inserting into boston"
      ]
    },
    {
      "cell_type": "code",
      "execution_count": 219,
      "metadata": {
        "colab": {},
        "colab_type": "code",
        "id": "NnejHcm_7sXh"
      },
      "outputs": [],
      "source": [
        "boston.insert(boston.columns.get_loc('Official Time')+1, 'Total Time', final_times.total)"
      ]
    },
    {
      "cell_type": "code",
      "execution_count": 220,
      "metadata": {
        "colab": {},
        "colab_type": "code",
        "id": "QJPxK0dE76NG"
      },
      "outputs": [],
      "source": [
        "# 3"
      ]
    },
    {
      "cell_type": "code",
      "execution_count": 221,
      "metadata": {
        "colab": {},
        "colab_type": "code",
        "id": "07I6EPub79KA"
      },
      "outputs": [],
      "source": [
        "# hypothesis: if you run many marathons, you're probably good at this (faster)"
      ]
    },
    {
      "cell_type": "code",
      "execution_count": 222,
      "metadata": {
        "colab": {},
        "colab_type": "code",
        "id": "mn1ujokH8LQT"
      },
      "outputs": [],
      "source": [
        "ran_2016 = boston['Ran 2016'] == 1"
      ]
    },
    {
      "cell_type": "code",
      "execution_count": 223,
      "metadata": {
        "colab": {
          "base_uri": "https://localhost:8080/"
        },
        "colab_type": "code",
        "id": "VkTMoRxH8Zkb",
        "outputId": "dac4e14b-ec67-4fee-d8b8-57b485f06402"
      },
      "outputs": [
        {
          "data": {
            "text/plain": [
              "0      False\n",
              "1      False\n",
              "2      False\n",
              "3      False\n",
              "4      False\n",
              "       ...  \n",
              "995     True\n",
              "996    False\n",
              "997    False\n",
              "998    False\n",
              "999    False\n",
              "Name: Ran 2016, Length: 1000, dtype: bool"
            ]
          },
          "execution_count": 223,
          "metadata": {},
          "output_type": "execute_result"
        }
      ],
      "source": [
        "ran_2016"
      ]
    },
    {
      "cell_type": "code",
      "execution_count": 224,
      "metadata": {
        "colab": {
          "base_uri": "https://localhost:8080/"
        },
        "colab_type": "code",
        "id": "-TvD_IDn8bv3",
        "outputId": "7b4a9e14-3bf4-4db4-d885-c83af3311a05"
      },
      "outputs": [
        {
          "data": {
            "text/plain": [
              "10043.12048192771"
            ]
          },
          "execution_count": 224,
          "metadata": {},
          "output_type": "execute_result"
        }
      ],
      "source": [
        "# average 2017 boston marathon time for those who ran in 2016 as well\n",
        "boston.loc[ran_2016, 'Total Time'].mean()"
      ]
    },
    {
      "cell_type": "code",
      "execution_count": 225,
      "metadata": {
        "colab": {
          "base_uri": "https://localhost:8080/"
        },
        "colab_type": "code",
        "id": "KCDRRu-l8gB7",
        "outputId": "28d7d105-e197-4965-a7e3-9e3e98da150b"
      },
      "outputs": [
        {
          "data": {
            "text/plain": [
              "9966.195739014647"
            ]
          },
          "execution_count": 225,
          "metadata": {},
          "output_type": "execute_result"
        }
      ],
      "source": [
        "# everyone else\n",
        "boston.loc[~ran_2016, 'Total Time'].mean()"
      ]
    },
    {
      "cell_type": "code",
      "execution_count": null,
      "metadata": {
        "colab": {},
        "colab_type": "code",
        "id": "B-x15Zjq8wul"
      },
      "outputs": [],
      "source": []
    }
  ],
  "metadata": {
    "colab": {
      "collapsed_sections": [
        "YqwIwZSeMcp6",
        "semkTS2sUkkX",
        "TB25O6fTjOem",
        "4F_8PPBumykv",
        "TDTD7Qumpuzl",
        "iUdsascK8v1K",
        "8tanSPw6A-gZ",
        "B40dtI0TIpZF",
        "LsrMPTQ2NtLJ",
        "KPzZtRO8PqrS",
        "tWYVRbrMRBiU",
        "Pgspen36ttP0",
        "9nfR81-nyFNG",
        "sc3LGLCAAA_j",
        "sQeZ04RBGk0S",
        "GluFA6hVxWNO",
        "KXnVpvGYxZSA",
        "9rCekfEsEhBz",
        "ioe_Fpr8QcTq",
        "XdhlA8A5SRhp"
      ],
      "name": "Regex And Text Manipulation",
      "provenance": []
    },
    "kernelspec": {
      "display_name": "Python 3",
      "language": "python",
      "name": "python3"
    },
    "language_info": {
      "codemirror_mode": {
        "name": "ipython",
        "version": 3
      },
      "file_extension": ".py",
      "mimetype": "text/x-python",
      "name": "python",
      "nbconvert_exporter": "python",
      "pygments_lexer": "ipython3",
      "version": "3.11.0"
    },
    "vscode": {
      "interpreter": {
        "hash": "aee8b7b246df8f9039afb4144a1f6fd8d2ca17a180786b69acc140d282b71a49"
      }
    }
  },
  "nbformat": 4,
  "nbformat_minor": 0
}
