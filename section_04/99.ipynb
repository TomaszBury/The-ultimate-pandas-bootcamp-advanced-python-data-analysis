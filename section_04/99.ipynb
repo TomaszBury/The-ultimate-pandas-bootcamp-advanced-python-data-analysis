{
 "cells": [
  {
   "cell_type": "code",
   "execution_count": 5,
   "metadata": {},
   "outputs": [
    {
     "data": {
      "text/html": [
       "<div>\n",
       "<style scoped>\n",
       "    .dataframe tbody tr th:only-of-type {\n",
       "        vertical-align: middle;\n",
       "    }\n",
       "\n",
       "    .dataframe tbody tr th {\n",
       "        vertical-align: top;\n",
       "    }\n",
       "\n",
       "    .dataframe thead th {\n",
       "        text-align: right;\n",
       "    }\n",
       "</style>\n",
       "<table border=\"1\" class=\"dataframe\">\n",
       "  <thead>\n",
       "    <tr style=\"text-align: right;\">\n",
       "      <th></th>\n",
       "      <th>serving_size_g</th>\n",
       "      <th>calories</th>\n",
       "      <th>total_fat_g</th>\n",
       "      <th>saturated_fat_g</th>\n",
       "      <th>cholesterol_mg</th>\n",
       "      <th>sodium_mg</th>\n",
       "      <th>choline_mg</th>\n",
       "      <th>folate_mcg</th>\n",
       "      <th>folic_acid_mcg</th>\n",
       "      <th>niacin_mg</th>\n",
       "      <th>...</th>\n",
       "      <th>fat_g</th>\n",
       "      <th>saturated_fatty_acids_g</th>\n",
       "      <th>monounsaturated_fatty_acids_g</th>\n",
       "      <th>polyunsaturated_fatty_acids_g</th>\n",
       "      <th>fatty_acids_total_trans_mg</th>\n",
       "      <th>alcohol_g</th>\n",
       "      <th>ash_g</th>\n",
       "      <th>caffeine_mg</th>\n",
       "      <th>theobromine_mg</th>\n",
       "      <th>water_g</th>\n",
       "    </tr>\n",
       "    <tr>\n",
       "      <th>name</th>\n",
       "      <th></th>\n",
       "      <th></th>\n",
       "      <th></th>\n",
       "      <th></th>\n",
       "      <th></th>\n",
       "      <th></th>\n",
       "      <th></th>\n",
       "      <th></th>\n",
       "      <th></th>\n",
       "      <th></th>\n",
       "      <th></th>\n",
       "      <th></th>\n",
       "      <th></th>\n",
       "      <th></th>\n",
       "      <th></th>\n",
       "      <th></th>\n",
       "      <th></th>\n",
       "      <th></th>\n",
       "      <th></th>\n",
       "      <th></th>\n",
       "      <th></th>\n",
       "    </tr>\n",
       "  </thead>\n",
       "  <tbody>\n",
       "    <tr>\n",
       "      <th>Cornstarch</th>\n",
       "      <td>100.0</td>\n",
       "      <td>381.0</td>\n",
       "      <td>0.1</td>\n",
       "      <td>NaN</td>\n",
       "      <td>0.0</td>\n",
       "      <td>9.0</td>\n",
       "      <td>0.4</td>\n",
       "      <td>0.0</td>\n",
       "      <td>0.0</td>\n",
       "      <td>0.000</td>\n",
       "      <td>...</td>\n",
       "      <td>0.05</td>\n",
       "      <td>0.009</td>\n",
       "      <td>0.016</td>\n",
       "      <td>0.025</td>\n",
       "      <td>0.0</td>\n",
       "      <td>0.0</td>\n",
       "      <td>0.09</td>\n",
       "      <td>0.0</td>\n",
       "      <td>0.0</td>\n",
       "      <td>8.32</td>\n",
       "    </tr>\n",
       "    <tr>\n",
       "      <th>Nuts, pecans</th>\n",
       "      <td>100.0</td>\n",
       "      <td>691.0</td>\n",
       "      <td>72.0</td>\n",
       "      <td>6.2</td>\n",
       "      <td>0.0</td>\n",
       "      <td>0.0</td>\n",
       "      <td>40.5</td>\n",
       "      <td>22.0</td>\n",
       "      <td>0.0</td>\n",
       "      <td>1.167</td>\n",
       "      <td>...</td>\n",
       "      <td>71.97</td>\n",
       "      <td>6.180</td>\n",
       "      <td>40.801</td>\n",
       "      <td>21.614</td>\n",
       "      <td>0.0</td>\n",
       "      <td>0.0</td>\n",
       "      <td>1.49</td>\n",
       "      <td>0.0</td>\n",
       "      <td>0.0</td>\n",
       "      <td>3.52</td>\n",
       "    </tr>\n",
       "  </tbody>\n",
       "</table>\n",
       "<p>2 rows × 75 columns</p>\n",
       "</div>"
      ],
      "text/plain": [
       "              serving_size_g  calories  total_fat_g  saturated_fat_g  \\\n",
       "name                                                                   \n",
       "Cornstarch             100.0     381.0          0.1              NaN   \n",
       "Nuts, pecans           100.0     691.0         72.0              6.2   \n",
       "\n",
       "              cholesterol_mg  sodium_mg  choline_mg  folate_mcg  \\\n",
       "name                                                              \n",
       "Cornstarch               0.0        9.0         0.4         0.0   \n",
       "Nuts, pecans             0.0        0.0        40.5        22.0   \n",
       "\n",
       "              folic_acid_mcg  niacin_mg  ...  fat_g  saturated_fatty_acids_g  \\\n",
       "name                                     ...                                   \n",
       "Cornstarch               0.0      0.000  ...   0.05                    0.009   \n",
       "Nuts, pecans             0.0      1.167  ...  71.97                    6.180   \n",
       "\n",
       "              monounsaturated_fatty_acids_g  polyunsaturated_fatty_acids_g  \\\n",
       "name                                                                         \n",
       "Cornstarch                            0.016                          0.025   \n",
       "Nuts, pecans                         40.801                         21.614   \n",
       "\n",
       "              fatty_acids_total_trans_mg  alcohol_g  ash_g  caffeine_mg  \\\n",
       "name                                                                      \n",
       "Cornstarch                           0.0        0.0   0.09          0.0   \n",
       "Nuts, pecans                         0.0        0.0   1.49          0.0   \n",
       "\n",
       "              theobromine_mg  water_g  \n",
       "name                                   \n",
       "Cornstarch               0.0     8.32  \n",
       "Nuts, pecans             0.0     3.52  \n",
       "\n",
       "[2 rows x 75 columns]"
      ]
     },
     "execution_count": 5,
     "metadata": {},
     "output_type": "execute_result"
    }
   ],
   "source": [
    "import pandas as pd\n",
    "import numpy as np\n",
    "data_url = 'https://gist.githubusercontent.com/sh7ata/56976975b3c67caabb2efd80bb3a8467/raw/f1b7d2abf6770548edafee58ea15be71e2d28aac/Nutrition.csv'\n",
    "nutrition = pd.read_csv(data_url, index_col=[1])\n",
    "nutrition = nutrition.drop(['Unnamed: 0'],axis=1)\n",
    "units = nutrition.astype(str).replace(to_replace='[^a-zA-Z]', value='', regex=True)\n",
    "units = units.mode()\n",
    "units = units.replace('', np.NaN).dropna(axis=1)\n",
    "mapper = {k: k + '_' + units[k].at[0] for k in units}\n",
    "nutrition.rename(columns=mapper, inplace=True)\n",
    "nutrition.replace('[a-zA-Z]', '', regex=True, inplace=True)\n",
    "nutrition = nutrition.astype(float)\n",
    "nutrition.head(n=2)"
   ]
  },
  {
   "cell_type": "markdown",
   "metadata": {},
   "source": [
    "Remove all the food items that contain at least one Nan. Dothis in a way that modifies the dateframe, i.e. the changes stick.\n",
    "\n",
    "How many food items remain after the exclusions?"
   ]
  },
  {
   "cell_type": "code",
   "execution_count": 6,
   "metadata": {},
   "outputs": [
    {
     "data": {
      "text/plain": [
       "(8789, 75)"
      ]
     },
     "execution_count": 6,
     "metadata": {},
     "output_type": "execute_result"
    }
   ],
   "source": [
    "nutrition.shape"
   ]
  },
  {
   "cell_type": "code",
   "execution_count": 4,
   "metadata": {},
   "outputs": [
    {
     "data": {
      "text/plain": [
       "(7199, 75)"
      ]
     },
     "execution_count": 4,
     "metadata": {},
     "output_type": "execute_result"
    }
   ],
   "source": [
    "nutrition_no_NaN = nutrition.dropna()\n",
    "nutrition_no_NaN.shape"
   ]
  },
  {
   "cell_type": "markdown",
   "metadata": {},
   "source": [
    "2. From the remaining records, isolate those that have between 20 & 40 mg of Vitamin C per 100g serving. Of these foods, withch one is the least caloric, i.e. gas tge nubunyn cakireus?"
   ]
  },
  {
   "cell_type": "code",
   "execution_count": 11,
   "metadata": {},
   "outputs": [
    {
     "data": {
      "text/plain": [
       "name\n",
       "Asparagus, with salt, drained, boiled, cooked, frozen                                   18.0\n",
       "Asparagus, without salt, drained, boiled, cooked, frozen                                18.0\n",
       "Turnip greens, without salt, drained, boiled, cooked                                    20.0\n",
       "Turnip greens, with salt, drained, boiled, cooked                                       20.0\n",
       "Borage, raw                                                                             21.0\n",
       "                                                                                       ...  \n",
       "Snacks, salted, made with partially hydrogenated soybean oil, plain, potato chips      536.0\n",
       "Snacks, unsalted, plain, potato chips                                                  536.0\n",
       "Snacks, unsalted, made with partially hydrogenated soybean oil, plain, potato chips    536.0\n",
       "Snacks, lightly salted, potato chips                                                   560.0\n",
       "Candies, COCOAVIA Chocolate Covered Almonds, MARS SNACKFOOD US                         573.0\n",
       "Name: calories, Length: 242, dtype: float64"
      ]
     },
     "execution_count": 11,
     "metadata": {},
     "output_type": "execute_result"
    }
   ],
   "source": [
    "mask = nutrition_no_NaN.vitamin_c_mg.between(20,40)\n",
    "nutrition_no_NaN[mask].calories.sort_values(ascending=True)"
   ]
  },
  {
   "cell_type": "markdown",
   "metadata": {},
   "source": [
    "3. How many foods items in the dataframe have Vitamin C levels of between 2 and 3 standard deviation (inclusive) above the mean?"
   ]
  },
  {
   "cell_type": "code",
   "execution_count": 15,
   "metadata": {},
   "outputs": [],
   "source": [
    "nutr_mean = nutrition_no_NaN.vitamin_c_mg.mean()"
   ]
  },
  {
   "cell_type": "code",
   "execution_count": 16,
   "metadata": {},
   "outputs": [],
   "source": [
    "nutr_std = nutrition_no_NaN.vitamin_c_mg.std()"
   ]
  },
  {
   "cell_type": "code",
   "execution_count": 19,
   "metadata": {},
   "outputs": [
    {
     "data": {
      "text/plain": [
       "name\n",
       "Tomatoes, drained, packed in oil, sun-dried                                            101.8\n",
       "Beverages,, 3-2-1 Plan, whey powder, high protein, SLIMFAST Shake Mix, UNILEVER        103.8\n",
       "Snacks, made with olestra, fat-free, made from dried potatoes, potato chips            108.8\n",
       "Tomato powder                                                                          116.7\n",
       "Leeks, freeze-dried, (bulb and lower-leaf portion)                                     118.0\n",
       "Peppers, raw, jalapeno                                                                 118.6\n",
       "Grapefruit juice, undiluted, unsweetened, frozen concentrate, white                    119.8\n",
       "Kale, raw                                                                              120.0\n",
       "Cereals ready-to-eat, HEALTH VALLEY, OAT BRAN FLAKES                                   120.0\n",
       "Formulated bar, mixed flavors, ZONE PERFECT CLASSIC CRUNCH BAR                         120.0\n",
       "Snacks, with vitamin C, berry flavored, BETTY CROCKER Fruit Roll Ups, GENERAL MILLS    120.0\n",
       "Snacks, rolls, fruit leather                                                           120.0\n",
       "Snacks, with vitamin C, pieces, fruit leather                                          120.0\n",
       "Spices, dried, parsley                                                                 125.0\n",
       "Kale, raw, scotch                                                                      130.0\n",
       "Parsley, fresh                                                                         133.0\n",
       "Beverage, not reconstituted, sugar-free, chocolate, instant breakfast powder           138.0\n",
       "Name: vitamin_c_mg, dtype: float64"
      ]
     },
     "execution_count": 19,
     "metadata": {},
     "output_type": "execute_result"
    }
   ],
   "source": [
    "mask = nutrition.vitamin_c_mg.between(nutr_mean + nutr_std * 2, nutr_mean + nutr_std * 3)\n",
    "nutrition_no_NaN.vitamin_c_mg[mask].sort_values()"
   ]
  },
  {
   "cell_type": "code",
   "execution_count": null,
   "metadata": {},
   "outputs": [],
   "source": []
  }
 ],
 "metadata": {
  "kernelspec": {
   "display_name": "Python 3.10.5 64-bit",
   "language": "python",
   "name": "python3"
  },
  "language_info": {
   "codemirror_mode": {
    "name": "ipython",
    "version": 3
   },
   "file_extension": ".py",
   "mimetype": "text/x-python",
   "name": "python",
   "nbconvert_exporter": "python",
   "pygments_lexer": "ipython3",
   "version": "3.10.5"
  },
  "orig_nbformat": 4,
  "vscode": {
   "interpreter": {
    "hash": "722b6f501d3291d098eeb116c55030d7476387c4156a20534e17b28f07582bab"
   }
  }
 },
 "nbformat": 4,
 "nbformat_minor": 2
}
