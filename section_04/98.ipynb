{
 "cells": [
  {
   "cell_type": "code",
   "execution_count": 1,
   "metadata": {},
   "outputs": [
    {
     "data": {
      "text/html": [
       "<div>\n",
       "<style scoped>\n",
       "    .dataframe tbody tr th:only-of-type {\n",
       "        vertical-align: middle;\n",
       "    }\n",
       "\n",
       "    .dataframe tbody tr th {\n",
       "        vertical-align: top;\n",
       "    }\n",
       "\n",
       "    .dataframe thead th {\n",
       "        text-align: right;\n",
       "    }\n",
       "</style>\n",
       "<table border=\"1\" class=\"dataframe\">\n",
       "  <thead>\n",
       "    <tr style=\"text-align: right;\">\n",
       "      <th></th>\n",
       "      <th>serving_size_g</th>\n",
       "      <th>calories</th>\n",
       "      <th>total_fat_g</th>\n",
       "      <th>saturated_fat_g</th>\n",
       "      <th>cholesterol_mg</th>\n",
       "      <th>sodium_mg</th>\n",
       "      <th>choline_mg</th>\n",
       "      <th>folate_mcg</th>\n",
       "      <th>folic_acid_mcg</th>\n",
       "      <th>niacin_mg</th>\n",
       "      <th>...</th>\n",
       "      <th>fat_g</th>\n",
       "      <th>saturated_fatty_acids_g</th>\n",
       "      <th>monounsaturated_fatty_acids_g</th>\n",
       "      <th>polyunsaturated_fatty_acids_g</th>\n",
       "      <th>fatty_acids_total_trans_mg</th>\n",
       "      <th>alcohol_g</th>\n",
       "      <th>ash_g</th>\n",
       "      <th>caffeine_mg</th>\n",
       "      <th>theobromine_mg</th>\n",
       "      <th>water_g</th>\n",
       "    </tr>\n",
       "    <tr>\n",
       "      <th>name</th>\n",
       "      <th></th>\n",
       "      <th></th>\n",
       "      <th></th>\n",
       "      <th></th>\n",
       "      <th></th>\n",
       "      <th></th>\n",
       "      <th></th>\n",
       "      <th></th>\n",
       "      <th></th>\n",
       "      <th></th>\n",
       "      <th></th>\n",
       "      <th></th>\n",
       "      <th></th>\n",
       "      <th></th>\n",
       "      <th></th>\n",
       "      <th></th>\n",
       "      <th></th>\n",
       "      <th></th>\n",
       "      <th></th>\n",
       "      <th></th>\n",
       "      <th></th>\n",
       "    </tr>\n",
       "  </thead>\n",
       "  <tbody>\n",
       "    <tr>\n",
       "      <th>Cornstarch</th>\n",
       "      <td>100.0</td>\n",
       "      <td>381.0</td>\n",
       "      <td>0.1</td>\n",
       "      <td>NaN</td>\n",
       "      <td>0.0</td>\n",
       "      <td>9.0</td>\n",
       "      <td>0.4</td>\n",
       "      <td>0.0</td>\n",
       "      <td>0.0</td>\n",
       "      <td>0.000</td>\n",
       "      <td>...</td>\n",
       "      <td>0.05</td>\n",
       "      <td>0.009</td>\n",
       "      <td>0.016</td>\n",
       "      <td>0.025</td>\n",
       "      <td>0.0</td>\n",
       "      <td>0.0</td>\n",
       "      <td>0.09</td>\n",
       "      <td>0.0</td>\n",
       "      <td>0.0</td>\n",
       "      <td>8.32</td>\n",
       "    </tr>\n",
       "    <tr>\n",
       "      <th>Nuts, pecans</th>\n",
       "      <td>100.0</td>\n",
       "      <td>691.0</td>\n",
       "      <td>72.0</td>\n",
       "      <td>6.2</td>\n",
       "      <td>0.0</td>\n",
       "      <td>0.0</td>\n",
       "      <td>40.5</td>\n",
       "      <td>22.0</td>\n",
       "      <td>0.0</td>\n",
       "      <td>1.167</td>\n",
       "      <td>...</td>\n",
       "      <td>71.97</td>\n",
       "      <td>6.180</td>\n",
       "      <td>40.801</td>\n",
       "      <td>21.614</td>\n",
       "      <td>0.0</td>\n",
       "      <td>0.0</td>\n",
       "      <td>1.49</td>\n",
       "      <td>0.0</td>\n",
       "      <td>0.0</td>\n",
       "      <td>3.52</td>\n",
       "    </tr>\n",
       "  </tbody>\n",
       "</table>\n",
       "<p>2 rows × 75 columns</p>\n",
       "</div>"
      ],
      "text/plain": [
       "              serving_size_g  calories  total_fat_g  saturated_fat_g  \\\n",
       "name                                                                   \n",
       "Cornstarch             100.0     381.0          0.1              NaN   \n",
       "Nuts, pecans           100.0     691.0         72.0              6.2   \n",
       "\n",
       "              cholesterol_mg  sodium_mg  choline_mg  folate_mcg  \\\n",
       "name                                                              \n",
       "Cornstarch               0.0        9.0         0.4         0.0   \n",
       "Nuts, pecans             0.0        0.0        40.5        22.0   \n",
       "\n",
       "              folic_acid_mcg  niacin_mg  ...  fat_g  saturated_fatty_acids_g  \\\n",
       "name                                     ...                                   \n",
       "Cornstarch               0.0      0.000  ...   0.05                    0.009   \n",
       "Nuts, pecans             0.0      1.167  ...  71.97                    6.180   \n",
       "\n",
       "              monounsaturated_fatty_acids_g  polyunsaturated_fatty_acids_g  \\\n",
       "name                                                                         \n",
       "Cornstarch                            0.016                          0.025   \n",
       "Nuts, pecans                         40.801                         21.614   \n",
       "\n",
       "              fatty_acids_total_trans_mg  alcohol_g  ash_g  caffeine_mg  \\\n",
       "name                                                                      \n",
       "Cornstarch                           0.0        0.0   0.09          0.0   \n",
       "Nuts, pecans                         0.0        0.0   1.49          0.0   \n",
       "\n",
       "              theobromine_mg  water_g  \n",
       "name                                   \n",
       "Cornstarch               0.0     8.32  \n",
       "Nuts, pecans             0.0     3.52  \n",
       "\n",
       "[2 rows x 75 columns]"
      ]
     },
     "execution_count": 1,
     "metadata": {},
     "output_type": "execute_result"
    }
   ],
   "source": [
    "import pandas as pd\n",
    "import numpy as np\n",
    "data_url = 'https://gist.githubusercontent.com/sh7ata/56976975b3c67caabb2efd80bb3a8467/raw/f1b7d2abf6770548edafee58ea15be71e2d28aac/Nutrition.csv'\n",
    "nutrition = pd.read_csv(data_url, index_col=[1])\n",
    "nutrition = nutrition.drop(['Unnamed: 0'],axis=1)\n",
    "units = nutrition.astype(str).replace(to_replace='[^a-zA-Z]', value='', regex=True)\n",
    "units = units.mode()\n",
    "units = units.replace('', np.NaN).dropna(axis=1)\n",
    "mapper = {k: k + '_' + units[k].at[0] for k in units}\n",
    "nutrition.rename(columns=mapper, inplace=True)\n",
    "nutrition.replace('[a-zA-Z]', '', regex=True, inplace=True)\n",
    "nutrition = nutrition.astype(float)\n",
    "nutrition.head(n=2)"
   ]
  },
  {
   "cell_type": "markdown",
   "metadata": {},
   "source": [
    "# 1"
   ]
  },
  {
   "cell_type": "code",
   "execution_count": 8,
   "metadata": {},
   "outputs": [
    {
     "data": {
      "text/plain": [
       "name\n",
       "Mollusks, moist heat, cooked, mixed species, clam                                   98.89\n",
       "Beef, boiled, cooked, variety meats and by-products liver, imported, New Zealand    96.00\n",
       "Lamb, raw, liver, variety meats and by-products                                     90.05\n",
       "Lamb, pan-fried, cooked, liver, variety meats and by-products                       85.70\n",
       "Veal, braised, cooked, liver, variety meats and by-products                         84.60\n",
       "Beef, raw, liver, variety meats and by-products, imported, New Zealand              84.50\n",
       "Beef, pan-fried, cooked, liver, variety meats and by-products                       83.13\n",
       "Lamb, braised, cooked, kidneys, variety meats and by-products                       78.90\n",
       "Lamb, braised, cooked, liver, variety meats and by-products                         76.50\n",
       "Veal, pan-fried, cooked, liver, variety meats and by-products                       72.50\n",
       "Name: vitamin_b12_mcg, dtype: float64"
      ]
     },
     "execution_count": 8,
     "metadata": {},
     "output_type": "execute_result"
    }
   ],
   "source": [
    "nutrition.loc[:,'vitamin_b12_mcg'].nlargest(n=10)"
   ]
  },
  {
   "cell_type": "code",
   "execution_count": 9,
   "metadata": {},
   "outputs": [
    {
     "data": {
      "text/plain": [
       "name\n",
       "Mollusks, moist heat, cooked, mixed species, clam                                   98.89\n",
       "Beef, boiled, cooked, variety meats and by-products liver, imported, New Zealand    96.00\n",
       "Lamb, raw, liver, variety meats and by-products                                     90.05\n",
       "Lamb, pan-fried, cooked, liver, variety meats and by-products                       85.70\n",
       "Veal, braised, cooked, liver, variety meats and by-products                         84.60\n",
       "Beef, raw, liver, variety meats and by-products, imported, New Zealand              84.50\n",
       "Beef, pan-fried, cooked, liver, variety meats and by-products                       83.13\n",
       "Lamb, braised, cooked, kidneys, variety meats and by-products                       78.90\n",
       "Lamb, braised, cooked, liver, variety meats and by-products                         76.50\n",
       "Veal, pan-fried, cooked, liver, variety meats and by-products                       72.50\n",
       "Name: vitamin_b12_mcg, dtype: float64"
      ]
     },
     "execution_count": 9,
     "metadata": {},
     "output_type": "execute_result"
    }
   ],
   "source": [
    "nutrition.nlargest(n=10, columns='vitamin_b12_mcg').vitamin_b12_mcg"
   ]
  },
  {
   "cell_type": "code",
   "execution_count": 13,
   "metadata": {},
   "outputs": [
    {
     "data": {
      "text/plain": [
       "name\n",
       "Mollusks, moist heat, cooked, mixed species, clam                                   98.89\n",
       "Beef, boiled, cooked, variety meats and by-products liver, imported, New Zealand    96.00\n",
       "Lamb, raw, liver, variety meats and by-products                                     90.05\n",
       "Lamb, pan-fried, cooked, liver, variety meats and by-products                       85.70\n",
       "Veal, braised, cooked, liver, variety meats and by-products                         84.60\n",
       "Beef, raw, liver, variety meats and by-products, imported, New Zealand              84.50\n",
       "Beef, pan-fried, cooked, liver, variety meats and by-products                       83.13\n",
       "Lamb, braised, cooked, kidneys, variety meats and by-products                       78.90\n",
       "Lamb, braised, cooked, liver, variety meats and by-products                         76.50\n",
       "Veal, pan-fried, cooked, liver, variety meats and by-products                       72.50\n",
       "Name: vitamin_b12_mcg, dtype: float64"
      ]
     },
     "execution_count": 13,
     "metadata": {},
     "output_type": "execute_result"
    }
   ],
   "source": [
    "nutrition.sort_values(by='vitamin_b12_mcg', ascending=False).head(n=10).vitamin_b12_mcg"
   ]
  },
  {
   "cell_type": "markdown",
   "metadata": {},
   "source": [
    "# 2"
   ]
  },
  {
   "cell_type": "code",
   "execution_count": 20,
   "metadata": {},
   "outputs": [
    {
     "data": {
      "text/plain": [
       "name\n",
       "Eggplant, pickled                                  1674.0\n",
       "Eggplant, with salt, drained, boiled, cooked        239.0\n",
       "Eggplant, raw                                         2.0\n",
       "Eggplant, without salt, drained, boiled, cooked       1.0\n",
       "Name: sodium_mg, dtype: float64"
      ]
     },
     "execution_count": 20,
     "metadata": {},
     "output_type": "execute_result"
    }
   ],
   "source": [
    "nutrition.filter(regex='(?i)eggplant', axis=0).sodium_mg.nlargest(n=5)"
   ]
  },
  {
   "cell_type": "markdown",
   "metadata": {},
   "source": [
    "# 3"
   ]
  },
  {
   "cell_type": "code",
   "execution_count": 21,
   "metadata": {},
   "outputs": [
    {
     "data": {
      "text/html": [
       "<div>\n",
       "<style scoped>\n",
       "    .dataframe tbody tr th:only-of-type {\n",
       "        vertical-align: middle;\n",
       "    }\n",
       "\n",
       "    .dataframe tbody tr th {\n",
       "        vertical-align: top;\n",
       "    }\n",
       "\n",
       "    .dataframe thead th {\n",
       "        text-align: right;\n",
       "    }\n",
       "</style>\n",
       "<table border=\"1\" class=\"dataframe\">\n",
       "  <thead>\n",
       "    <tr style=\"text-align: right;\">\n",
       "      <th></th>\n",
       "      <th>sugars_g</th>\n",
       "      <th>fatty_acids_total_trans_mg</th>\n",
       "    </tr>\n",
       "    <tr>\n",
       "      <th>name</th>\n",
       "      <th></th>\n",
       "      <th></th>\n",
       "    </tr>\n",
       "  </thead>\n",
       "  <tbody>\n",
       "    <tr>\n",
       "      <th>Rolls, wheat/cracked wheat, hamburger or hot dog</th>\n",
       "      <td>6.90</td>\n",
       "      <td>0.0</td>\n",
       "    </tr>\n",
       "    <tr>\n",
       "      <th>Cherries, solids and liquids, juice pack, canned, sweet</th>\n",
       "      <td>12.31</td>\n",
       "      <td>0.0</td>\n",
       "    </tr>\n",
       "    <tr>\n",
       "      <th>Bread, canned, boston brown</th>\n",
       "      <td>2.42</td>\n",
       "      <td>1.0</td>\n",
       "    </tr>\n",
       "    <tr>\n",
       "      <th>Ostrich, raw, tip trimmed</th>\n",
       "      <td>0.00</td>\n",
       "      <td>72.0</td>\n",
       "    </tr>\n",
       "  </tbody>\n",
       "</table>\n",
       "</div>"
      ],
      "text/plain": [
       "                                                    sugars_g  \\\n",
       "name                                                           \n",
       "Rolls, wheat/cracked wheat, hamburger or hot dog        6.90   \n",
       "Cherries, solids and liquids, juice pack, canne...     12.31   \n",
       "Bread, canned, boston brown                             2.42   \n",
       "Ostrich, raw, tip trimmed                               0.00   \n",
       "\n",
       "                                                    fatty_acids_total_trans_mg  \n",
       "name                                                                            \n",
       "Rolls, wheat/cracked wheat, hamburger or hot dog                           0.0  \n",
       "Cherries, solids and liquids, juice pack, canne...                         0.0  \n",
       "Bread, canned, boston brown                                                1.0  \n",
       "Ostrich, raw, tip trimmed                                                 72.0  "
      ]
     },
     "execution_count": 21,
     "metadata": {},
     "output_type": "execute_result"
    }
   ],
   "source": [
    "nutrition.sample(n=4, axis=0).sample(n=2, axis=1)"
   ]
  },
  {
   "cell_type": "code",
   "execution_count": null,
   "metadata": {},
   "outputs": [],
   "source": []
  }
 ],
 "metadata": {
  "kernelspec": {
   "display_name": "Python 3.10.5 64-bit",
   "language": "python",
   "name": "python3"
  },
  "language_info": {
   "codemirror_mode": {
    "name": "ipython",
    "version": 3
   },
   "file_extension": ".py",
   "mimetype": "text/x-python",
   "name": "python",
   "nbconvert_exporter": "python",
   "pygments_lexer": "ipython3",
   "version": "3.10.5"
  },
  "orig_nbformat": 4,
  "vscode": {
   "interpreter": {
    "hash": "722b6f501d3291d098eeb116c55030d7476387c4156a20534e17b28f07582bab"
   }
  }
 },
 "nbformat": 4,
 "nbformat_minor": 2
}
