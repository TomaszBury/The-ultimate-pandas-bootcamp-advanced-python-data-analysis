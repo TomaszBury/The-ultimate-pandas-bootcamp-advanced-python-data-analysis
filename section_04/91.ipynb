{
 "cells": [
  {
   "cell_type": "code",
   "execution_count": 1,
   "metadata": {},
   "outputs": [],
   "source": [
    "import pandas as pd\n",
    "import numpy as np"
   ]
  },
  {
   "cell_type": "code",
   "execution_count": 2,
   "metadata": {},
   "outputs": [],
   "source": [
    "data_url = 'https://gist.githubusercontent.com/sh7ata/56976975b3c67caabb2efd80bb3a8467/raw/f1b7d2abf6770548edafee58ea15be71e2d28aac/Nutrition.csv'"
   ]
  },
  {
   "cell_type": "code",
   "execution_count": 4,
   "metadata": {},
   "outputs": [
    {
     "data": {
      "text/html": [
       "<div>\n",
       "<style scoped>\n",
       "    .dataframe tbody tr th:only-of-type {\n",
       "        vertical-align: middle;\n",
       "    }\n",
       "\n",
       "    .dataframe tbody tr th {\n",
       "        vertical-align: top;\n",
       "    }\n",
       "\n",
       "    .dataframe thead th {\n",
       "        text-align: right;\n",
       "    }\n",
       "</style>\n",
       "<table border=\"1\" class=\"dataframe\">\n",
       "  <thead>\n",
       "    <tr style=\"text-align: right;\">\n",
       "      <th></th>\n",
       "      <th>serving_size_g</th>\n",
       "      <th>calories_</th>\n",
       "      <th>total_fat_g</th>\n",
       "      <th>saturated_fat_g</th>\n",
       "      <th>cholesterol_mg</th>\n",
       "      <th>sodium_mg</th>\n",
       "      <th>choline_mg</th>\n",
       "      <th>folate_mcg</th>\n",
       "      <th>folic_acid_mcg</th>\n",
       "      <th>niacin_mg</th>\n",
       "      <th>...</th>\n",
       "      <th>fat_g</th>\n",
       "      <th>saturated_fatty_acids_g</th>\n",
       "      <th>monounsaturated_fatty_acids_g</th>\n",
       "      <th>polyunsaturated_fatty_acids_g</th>\n",
       "      <th>fatty_acids_total_trans_mg</th>\n",
       "      <th>alcohol_g</th>\n",
       "      <th>ash_g</th>\n",
       "      <th>caffeine_mg</th>\n",
       "      <th>theobromine_mg</th>\n",
       "      <th>water_g</th>\n",
       "    </tr>\n",
       "    <tr>\n",
       "      <th>name</th>\n",
       "      <th></th>\n",
       "      <th></th>\n",
       "      <th></th>\n",
       "      <th></th>\n",
       "      <th></th>\n",
       "      <th></th>\n",
       "      <th></th>\n",
       "      <th></th>\n",
       "      <th></th>\n",
       "      <th></th>\n",
       "      <th></th>\n",
       "      <th></th>\n",
       "      <th></th>\n",
       "      <th></th>\n",
       "      <th></th>\n",
       "      <th></th>\n",
       "      <th></th>\n",
       "      <th></th>\n",
       "      <th></th>\n",
       "      <th></th>\n",
       "      <th></th>\n",
       "    </tr>\n",
       "  </thead>\n",
       "  <tbody>\n",
       "    <tr>\n",
       "      <th>Cornstarch</th>\n",
       "      <td>100 g</td>\n",
       "      <td>381</td>\n",
       "      <td>0.1g</td>\n",
       "      <td>NaN</td>\n",
       "      <td>0</td>\n",
       "      <td>9.00 mg</td>\n",
       "      <td>0.4 mg</td>\n",
       "      <td>0.00 mcg</td>\n",
       "      <td>0.00 mcg</td>\n",
       "      <td>0.000 mg</td>\n",
       "      <td>...</td>\n",
       "      <td>0.05 g</td>\n",
       "      <td>0.009 g</td>\n",
       "      <td>0.016 g</td>\n",
       "      <td>0.025 g</td>\n",
       "      <td>0.00 mg</td>\n",
       "      <td>0.0 g</td>\n",
       "      <td>0.09 g</td>\n",
       "      <td>0.00 mg</td>\n",
       "      <td>0.00 mg</td>\n",
       "      <td>8.32 g</td>\n",
       "    </tr>\n",
       "  </tbody>\n",
       "</table>\n",
       "<p>1 rows × 75 columns</p>\n",
       "</div>"
      ],
      "text/plain": [
       "           serving_size_g  calories_ total_fat_g saturated_fat_g  \\\n",
       "name                                                               \n",
       "Cornstarch          100 g        381        0.1g             NaN   \n",
       "\n",
       "           cholesterol_mg sodium_mg choline_mg folate_mcg folic_acid_mcg  \\\n",
       "name                                                                       \n",
       "Cornstarch              0   9.00 mg     0.4 mg   0.00 mcg       0.00 mcg   \n",
       "\n",
       "           niacin_mg  ...   fat_g saturated_fatty_acids_g  \\\n",
       "name                  ...                                   \n",
       "Cornstarch  0.000 mg  ...  0.05 g                 0.009 g   \n",
       "\n",
       "           monounsaturated_fatty_acids_g polyunsaturated_fatty_acids_g  \\\n",
       "name                                                                     \n",
       "Cornstarch                       0.016 g                       0.025 g   \n",
       "\n",
       "           fatty_acids_total_trans_mg alcohol_g   ash_g caffeine_mg  \\\n",
       "name                                                                  \n",
       "Cornstarch                    0.00 mg     0.0 g  0.09 g     0.00 mg   \n",
       "\n",
       "           theobromine_mg  water_g  \n",
       "name                                \n",
       "Cornstarch        0.00 mg   8.32 g  \n",
       "\n",
       "[1 rows x 75 columns]"
      ]
     },
     "execution_count": 4,
     "metadata": {},
     "output_type": "execute_result"
    }
   ],
   "source": [
    "nutrition = pd.read_csv(data_url, index_col=[1])\n",
    "nutrition = nutrition.drop(['Unnamed: 0'],axis=1)\n",
    "units = nutrition.astype(str).replace(to_replace='[^a-zA-Z]', value='', regex=True)\n",
    "units = units.mode()\n",
    "mapper = {k: k + '_' + units[k].at[0] for k in units}\n",
    "nutrition.rename(columns=mapper, inplace=True)\n",
    "nutrition.head(n=1)"
   ]
  },
  {
   "cell_type": "code",
   "execution_count": null,
   "metadata": {},
   "outputs": [],
   "source": []
  }
 ],
 "metadata": {
  "kernelspec": {
   "display_name": "Python 3.10.5 64-bit",
   "language": "python",
   "name": "python3"
  },
  "language_info": {
   "codemirror_mode": {
    "name": "ipython",
    "version": 3
   },
   "file_extension": ".py",
   "mimetype": "text/x-python",
   "name": "python",
   "nbconvert_exporter": "python",
   "pygments_lexer": "ipython3",
   "version": "3.10.5"
  },
  "orig_nbformat": 4,
  "vscode": {
   "interpreter": {
    "hash": "722b6f501d3291d098eeb116c55030d7476387c4156a20534e17b28f07582bab"
   }
  }
 },
 "nbformat": 4,
 "nbformat_minor": 2
}
