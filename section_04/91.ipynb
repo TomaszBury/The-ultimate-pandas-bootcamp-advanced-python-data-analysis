{
 "cells": [
  {
   "cell_type": "code",
   "execution_count": 13,
   "metadata": {},
   "outputs": [],
   "source": [
    "import pandas as pd\n",
    "import numpy as np"
   ]
  },
  {
   "cell_type": "code",
   "execution_count": 14,
   "metadata": {},
   "outputs": [],
   "source": [
    "data_url = 'https://gist.githubusercontent.com/sh7ata/56976975b3c67caabb2efd80bb3a8467/raw/f1b7d2abf6770548edafee58ea15be71e2d28aac/Nutrition.csv'"
   ]
  },
  {
   "cell_type": "code",
   "execution_count": 15,
   "metadata": {},
   "outputs": [
    {
     "data": {
      "text/html": [
       "<div>\n",
       "<style scoped>\n",
       "    .dataframe tbody tr th:only-of-type {\n",
       "        vertical-align: middle;\n",
       "    }\n",
       "\n",
       "    .dataframe tbody tr th {\n",
       "        vertical-align: top;\n",
       "    }\n",
       "\n",
       "    .dataframe thead th {\n",
       "        text-align: right;\n",
       "    }\n",
       "</style>\n",
       "<table border=\"1\" class=\"dataframe\">\n",
       "  <thead>\n",
       "    <tr style=\"text-align: right;\">\n",
       "      <th></th>\n",
       "      <th>serving_size_g</th>\n",
       "      <th>calories_</th>\n",
       "      <th>total_fat_g</th>\n",
       "      <th>saturated_fat_g</th>\n",
       "      <th>cholesterol_mg</th>\n",
       "      <th>sodium_mg</th>\n",
       "      <th>choline_mg</th>\n",
       "      <th>folate_mcg</th>\n",
       "      <th>folic_acid_mcg</th>\n",
       "      <th>niacin_mg</th>\n",
       "      <th>...</th>\n",
       "      <th>fat_g</th>\n",
       "      <th>saturated_fatty_acids_g</th>\n",
       "      <th>monounsaturated_fatty_acids_g</th>\n",
       "      <th>polyunsaturated_fatty_acids_g</th>\n",
       "      <th>fatty_acids_total_trans_mg</th>\n",
       "      <th>alcohol_g</th>\n",
       "      <th>ash_g</th>\n",
       "      <th>caffeine_mg</th>\n",
       "      <th>theobromine_mg</th>\n",
       "      <th>water_g</th>\n",
       "    </tr>\n",
       "    <tr>\n",
       "      <th>name</th>\n",
       "      <th></th>\n",
       "      <th></th>\n",
       "      <th></th>\n",
       "      <th></th>\n",
       "      <th></th>\n",
       "      <th></th>\n",
       "      <th></th>\n",
       "      <th></th>\n",
       "      <th></th>\n",
       "      <th></th>\n",
       "      <th></th>\n",
       "      <th></th>\n",
       "      <th></th>\n",
       "      <th></th>\n",
       "      <th></th>\n",
       "      <th></th>\n",
       "      <th></th>\n",
       "      <th></th>\n",
       "      <th></th>\n",
       "      <th></th>\n",
       "      <th></th>\n",
       "    </tr>\n",
       "  </thead>\n",
       "  <tbody>\n",
       "    <tr>\n",
       "      <th>Cornstarch</th>\n",
       "      <td>100 g</td>\n",
       "      <td>381</td>\n",
       "      <td>0.1g</td>\n",
       "      <td>NaN</td>\n",
       "      <td>0</td>\n",
       "      <td>9.00 mg</td>\n",
       "      <td>0.4 mg</td>\n",
       "      <td>0.00 mcg</td>\n",
       "      <td>0.00 mcg</td>\n",
       "      <td>0.000 mg</td>\n",
       "      <td>...</td>\n",
       "      <td>0.05 g</td>\n",
       "      <td>0.009 g</td>\n",
       "      <td>0.016 g</td>\n",
       "      <td>0.025 g</td>\n",
       "      <td>0.00 mg</td>\n",
       "      <td>0.0 g</td>\n",
       "      <td>0.09 g</td>\n",
       "      <td>0.00 mg</td>\n",
       "      <td>0.00 mg</td>\n",
       "      <td>8.32 g</td>\n",
       "    </tr>\n",
       "  </tbody>\n",
       "</table>\n",
       "<p>1 rows × 75 columns</p>\n",
       "</div>"
      ],
      "text/plain": [
       "           serving_size_g  calories_ total_fat_g saturated_fat_g  \\\n",
       "name                                                               \n",
       "Cornstarch          100 g        381        0.1g             NaN   \n",
       "\n",
       "           cholesterol_mg sodium_mg choline_mg folate_mcg folic_acid_mcg  \\\n",
       "name                                                                       \n",
       "Cornstarch              0   9.00 mg     0.4 mg   0.00 mcg       0.00 mcg   \n",
       "\n",
       "           niacin_mg  ...   fat_g saturated_fatty_acids_g  \\\n",
       "name                  ...                                   \n",
       "Cornstarch  0.000 mg  ...  0.05 g                 0.009 g   \n",
       "\n",
       "           monounsaturated_fatty_acids_g polyunsaturated_fatty_acids_g  \\\n",
       "name                                                                     \n",
       "Cornstarch                       0.016 g                       0.025 g   \n",
       "\n",
       "           fatty_acids_total_trans_mg alcohol_g   ash_g caffeine_mg  \\\n",
       "name                                                                  \n",
       "Cornstarch                    0.00 mg     0.0 g  0.09 g     0.00 mg   \n",
       "\n",
       "           theobromine_mg  water_g  \n",
       "name                                \n",
       "Cornstarch        0.00 mg   8.32 g  \n",
       "\n",
       "[1 rows x 75 columns]"
      ]
     },
     "execution_count": 15,
     "metadata": {},
     "output_type": "execute_result"
    }
   ],
   "source": [
    "nutrition = pd.read_csv(data_url, index_col=[1])\n",
    "nutrition = nutrition.drop(['Unnamed: 0'],axis=1)\n",
    "units = nutrition.astype(str).replace(to_replace='[^a-zA-Z]', value='', regex=True)\n",
    "units = units.mode()\n",
    "mapper = {k: k + '_' + units[k].at[0] for k in units}\n",
    "nutrition.rename(columns=mapper, inplace=True)\n",
    "nutrition.head(n=1)"
   ]
  },
  {
   "cell_type": "code",
   "execution_count": 16,
   "metadata": {},
   "outputs": [
    {
     "data": {
      "text/plain": [
       "object    73\n",
       "int64      2\n",
       "dtype: int64"
      ]
     },
     "execution_count": 16,
     "metadata": {},
     "output_type": "execute_result"
    }
   ],
   "source": [
    "nutrition.replace('[a-zA-Z]', '', regex=True, inplace=True)\n",
    "nutrition.dtypes.value_counts()"
   ]
  },
  {
   "cell_type": "code",
   "execution_count": 17,
   "metadata": {},
   "outputs": [
    {
     "name": "stdout",
     "output_type": "stream",
     "text": [
      "<class 'pandas.core.frame.DataFrame'>\n",
      "Index: 8789 entries, Cornstarch to Beef, raw, all grades, trimmed to 0\" fat, separable lean only, boneless, eye of round steak, round\n",
      "Data columns (total 75 columns):\n",
      " #   Column                         Non-Null Count  Dtype  \n",
      "---  ------                         --------------  -----  \n",
      " 0   serving_size_g                 8789 non-null   float64\n",
      " 1   calories_                      8789 non-null   float64\n",
      " 2   total_fat_g                    8789 non-null   float64\n",
      " 3   saturated_fat_g                7199 non-null   float64\n",
      " 4   cholesterol_mg                 8789 non-null   float64\n",
      " 5   sodium_mg                      8789 non-null   float64\n",
      " 6   choline_mg                     8789 non-null   float64\n",
      " 7   folate_mcg                     8789 non-null   float64\n",
      " 8   folic_acid_mcg                 8789 non-null   float64\n",
      " 9   niacin_mg                      8789 non-null   float64\n",
      " 10  pantothenic_acid_mg            8789 non-null   float64\n",
      " 11  riboflavin_mg                  8789 non-null   float64\n",
      " 12  thiamin_mg                     8789 non-null   float64\n",
      " 13  vitamin_a_IU                   8789 non-null   float64\n",
      " 14  vitamin_a_rae_mcg              8789 non-null   float64\n",
      " 15  carotene_alpha_mcg             8789 non-null   float64\n",
      " 16  carotene_beta_mcg              8789 non-null   float64\n",
      " 17  cryptoxanthin_beta_mcg         8789 non-null   float64\n",
      " 18  lutein_zeaxanthin_mcg          8789 non-null   float64\n",
      " 19  lucopene_                      8789 non-null   float64\n",
      " 20  vitamin_b12_mcg                8789 non-null   float64\n",
      " 21  vitamin_b6_mg                  8789 non-null   float64\n",
      " 22  vitamin_c_mg                   8789 non-null   float64\n",
      " 23  vitamin_d_IU                   8789 non-null   float64\n",
      " 24  vitamin_e_mg                   8789 non-null   float64\n",
      " 25  tocopherol_alpha_mg            8789 non-null   float64\n",
      " 26  vitamin_k_mcg                  8789 non-null   float64\n",
      " 27  calcium_mg                     8789 non-null   float64\n",
      " 28  copper_mg                      8789 non-null   float64\n",
      " 29  irom_mg                        8789 non-null   float64\n",
      " 30  magnesium_mg                   8789 non-null   float64\n",
      " 31  manganese_mg                   8789 non-null   float64\n",
      " 32  phosphorous_mg                 8789 non-null   float64\n",
      " 33  potassium_mg                   8789 non-null   float64\n",
      " 34  selenium_mcg                   8789 non-null   float64\n",
      " 35  zink_mg                        8789 non-null   float64\n",
      " 36  protein_g                      8789 non-null   float64\n",
      " 37  alanine_g                      8789 non-null   float64\n",
      " 38  arginine_g                     8789 non-null   float64\n",
      " 39  aspartic_acid_g                8789 non-null   float64\n",
      " 40  cystine_g                      8789 non-null   float64\n",
      " 41  glutamic_acid_g                8789 non-null   float64\n",
      " 42  glycine_g                      8789 non-null   float64\n",
      " 43  histidine_g                    8789 non-null   float64\n",
      " 44  hydroxyproline_                8789 non-null   float64\n",
      " 45  isoleucine_g                   8789 non-null   float64\n",
      " 46  leucine_g                      8789 non-null   float64\n",
      " 47  lysine_g                       8789 non-null   float64\n",
      " 48  methionine_g                   8789 non-null   float64\n",
      " 49  phenylalanine_g                8789 non-null   float64\n",
      " 50  proline_g                      8789 non-null   float64\n",
      " 51  serine_g                       8789 non-null   float64\n",
      " 52  threonine_g                    8789 non-null   float64\n",
      " 53  tryptophan_g                   8789 non-null   float64\n",
      " 54  tyrosine_g                     8789 non-null   float64\n",
      " 55  valine_g                       8789 non-null   float64\n",
      " 56  carbohydrate_g                 8789 non-null   float64\n",
      " 57  fiber_g                        8789 non-null   float64\n",
      " 58  sugars_g                       8789 non-null   float64\n",
      " 59  fructose_                      8789 non-null   float64\n",
      " 60  galactose_                     8789 non-null   float64\n",
      " 61  glucose_                       8789 non-null   float64\n",
      " 62  lactose_                       8789 non-null   float64\n",
      " 63  maltose_                       8789 non-null   float64\n",
      " 64  sucrose_                       8789 non-null   float64\n",
      " 65  fat_g                          8789 non-null   float64\n",
      " 66  saturated_fatty_acids_g        8789 non-null   float64\n",
      " 67  monounsaturated_fatty_acids_g  8789 non-null   float64\n",
      " 68  polyunsaturated_fatty_acids_g  8789 non-null   float64\n",
      " 69  fatty_acids_total_trans_mg     8789 non-null   float64\n",
      " 70  alcohol_g                      8789 non-null   float64\n",
      " 71  ash_g                          8789 non-null   float64\n",
      " 72  caffeine_mg                    8789 non-null   float64\n",
      " 73  theobromine_mg                 8789 non-null   float64\n",
      " 74  water_g                        8789 non-null   float64\n",
      "dtypes: float64(75)\n",
      "memory usage: 5.1+ MB\n"
     ]
    }
   ],
   "source": [
    "nutrition = nutrition.astype(float)\n",
    "nutrition.info()"
   ]
  },
  {
   "cell_type": "code",
   "execution_count": 18,
   "metadata": {},
   "outputs": [
    {
     "data": {
      "text/html": [
       "<div>\n",
       "<style scoped>\n",
       "    .dataframe tbody tr th:only-of-type {\n",
       "        vertical-align: middle;\n",
       "    }\n",
       "\n",
       "    .dataframe tbody tr th {\n",
       "        vertical-align: top;\n",
       "    }\n",
       "\n",
       "    .dataframe thead th {\n",
       "        text-align: right;\n",
       "    }\n",
       "</style>\n",
       "<table border=\"1\" class=\"dataframe\">\n",
       "  <thead>\n",
       "    <tr style=\"text-align: right;\">\n",
       "      <th></th>\n",
       "      <th>serving_size_g</th>\n",
       "      <th>calories_</th>\n",
       "      <th>total_fat_g</th>\n",
       "      <th>saturated_fat_g</th>\n",
       "      <th>cholesterol_mg</th>\n",
       "      <th>sodium_mg</th>\n",
       "      <th>choline_mg</th>\n",
       "      <th>folate_mcg</th>\n",
       "      <th>folic_acid_mcg</th>\n",
       "      <th>niacin_mg</th>\n",
       "      <th>...</th>\n",
       "      <th>fat_g</th>\n",
       "      <th>saturated_fatty_acids_g</th>\n",
       "      <th>monounsaturated_fatty_acids_g</th>\n",
       "      <th>polyunsaturated_fatty_acids_g</th>\n",
       "      <th>fatty_acids_total_trans_mg</th>\n",
       "      <th>alcohol_g</th>\n",
       "      <th>ash_g</th>\n",
       "      <th>caffeine_mg</th>\n",
       "      <th>theobromine_mg</th>\n",
       "      <th>water_g</th>\n",
       "    </tr>\n",
       "    <tr>\n",
       "      <th>name</th>\n",
       "      <th></th>\n",
       "      <th></th>\n",
       "      <th></th>\n",
       "      <th></th>\n",
       "      <th></th>\n",
       "      <th></th>\n",
       "      <th></th>\n",
       "      <th></th>\n",
       "      <th></th>\n",
       "      <th></th>\n",
       "      <th></th>\n",
       "      <th></th>\n",
       "      <th></th>\n",
       "      <th></th>\n",
       "      <th></th>\n",
       "      <th></th>\n",
       "      <th></th>\n",
       "      <th></th>\n",
       "      <th></th>\n",
       "      <th></th>\n",
       "      <th></th>\n",
       "    </tr>\n",
       "  </thead>\n",
       "  <tbody>\n",
       "    <tr>\n",
       "      <th>Cornstarch</th>\n",
       "      <td>100.0</td>\n",
       "      <td>381.0</td>\n",
       "      <td>0.1</td>\n",
       "      <td>NaN</td>\n",
       "      <td>0.0</td>\n",
       "      <td>9.0</td>\n",
       "      <td>0.4</td>\n",
       "      <td>0.0</td>\n",
       "      <td>0.0</td>\n",
       "      <td>0.000</td>\n",
       "      <td>...</td>\n",
       "      <td>0.05</td>\n",
       "      <td>0.009</td>\n",
       "      <td>0.016</td>\n",
       "      <td>0.025</td>\n",
       "      <td>0.0</td>\n",
       "      <td>0.0</td>\n",
       "      <td>0.09</td>\n",
       "      <td>0.0</td>\n",
       "      <td>0.0</td>\n",
       "      <td>8.32</td>\n",
       "    </tr>\n",
       "    <tr>\n",
       "      <th>Nuts, pecans</th>\n",
       "      <td>100.0</td>\n",
       "      <td>691.0</td>\n",
       "      <td>72.0</td>\n",
       "      <td>6.2</td>\n",
       "      <td>0.0</td>\n",
       "      <td>0.0</td>\n",
       "      <td>40.5</td>\n",
       "      <td>22.0</td>\n",
       "      <td>0.0</td>\n",
       "      <td>1.167</td>\n",
       "      <td>...</td>\n",
       "      <td>71.97</td>\n",
       "      <td>6.180</td>\n",
       "      <td>40.801</td>\n",
       "      <td>21.614</td>\n",
       "      <td>0.0</td>\n",
       "      <td>0.0</td>\n",
       "      <td>1.49</td>\n",
       "      <td>0.0</td>\n",
       "      <td>0.0</td>\n",
       "      <td>3.52</td>\n",
       "    </tr>\n",
       "  </tbody>\n",
       "</table>\n",
       "<p>2 rows × 75 columns</p>\n",
       "</div>"
      ],
      "text/plain": [
       "              serving_size_g  calories_  total_fat_g  saturated_fat_g  \\\n",
       "name                                                                    \n",
       "Cornstarch             100.0      381.0          0.1              NaN   \n",
       "Nuts, pecans           100.0      691.0         72.0              6.2   \n",
       "\n",
       "              cholesterol_mg  sodium_mg  choline_mg  folate_mcg  \\\n",
       "name                                                              \n",
       "Cornstarch               0.0        9.0         0.4         0.0   \n",
       "Nuts, pecans             0.0        0.0        40.5        22.0   \n",
       "\n",
       "              folic_acid_mcg  niacin_mg  ...  fat_g  saturated_fatty_acids_g  \\\n",
       "name                                     ...                                   \n",
       "Cornstarch               0.0      0.000  ...   0.05                    0.009   \n",
       "Nuts, pecans             0.0      1.167  ...  71.97                    6.180   \n",
       "\n",
       "              monounsaturated_fatty_acids_g  polyunsaturated_fatty_acids_g  \\\n",
       "name                                                                         \n",
       "Cornstarch                            0.016                          0.025   \n",
       "Nuts, pecans                         40.801                         21.614   \n",
       "\n",
       "              fatty_acids_total_trans_mg  alcohol_g  ash_g  caffeine_mg  \\\n",
       "name                                                                      \n",
       "Cornstarch                           0.0        0.0   0.09          0.0   \n",
       "Nuts, pecans                         0.0        0.0   1.49          0.0   \n",
       "\n",
       "              theobromine_mg  water_g  \n",
       "name                                   \n",
       "Cornstarch               0.0     8.32  \n",
       "Nuts, pecans             0.0     3.52  \n",
       "\n",
       "[2 rows x 75 columns]"
      ]
     },
     "execution_count": 18,
     "metadata": {},
     "output_type": "execute_result"
    }
   ],
   "source": [
    "nutrition.head(n=2)"
   ]
  },
  {
   "cell_type": "code",
   "execution_count": 19,
   "metadata": {},
   "outputs": [
    {
     "data": {
      "text/plain": [
       "float64    75\n",
       "dtype: int64"
      ]
     },
     "execution_count": 19,
     "metadata": {},
     "output_type": "execute_result"
    }
   ],
   "source": [
    "nutrition.dtypes.value_counts()"
   ]
  },
  {
   "cell_type": "code",
   "execution_count": 20,
   "metadata": {},
   "outputs": [
    {
     "data": {
      "text/plain": [
       "92784.20000000001"
      ]
     },
     "execution_count": 20,
     "metadata": {},
     "output_type": "execute_result"
    }
   ],
   "source": [
    "nutrition.total_fat_g.sum()"
   ]
  },
  {
   "cell_type": "code",
   "execution_count": 21,
   "metadata": {},
   "outputs": [
    {
     "name": "stdout",
     "output_type": "stream",
     "text": [
      "<class 'pandas.core.frame.DataFrame'>\n",
      "Index: 8789 entries, Cornstarch to Beef, raw, all grades, trimmed to 0\" fat, separable lean only, boneless, eye of round steak, round\n",
      "Columns: 75 entries, serving_size_g to water_g\n",
      "dtypes: float64(75)\n",
      "memory usage: 5.3+ MB\n"
     ]
    }
   ],
   "source": [
    "nutrition.info(verbose=False)"
   ]
  },
  {
   "cell_type": "code",
   "execution_count": null,
   "metadata": {},
   "outputs": [],
   "source": []
  }
 ],
 "metadata": {
  "kernelspec": {
   "display_name": "Python 3.10.5 64-bit",
   "language": "python",
   "name": "python3"
  },
  "language_info": {
   "codemirror_mode": {
    "name": "ipython",
    "version": 3
   },
   "file_extension": ".py",
   "mimetype": "text/x-python",
   "name": "python",
   "nbconvert_exporter": "python",
   "pygments_lexer": "ipython3",
   "version": "3.10.5"
  },
  "orig_nbformat": 4,
  "vscode": {
   "interpreter": {
    "hash": "722b6f501d3291d098eeb116c55030d7476387c4156a20534e17b28f07582bab"
   }
  }
 },
 "nbformat": 4,
 "nbformat_minor": 2
}
