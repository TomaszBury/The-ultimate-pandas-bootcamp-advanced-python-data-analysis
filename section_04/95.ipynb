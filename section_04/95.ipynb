{
 "cells": [
  {
   "cell_type": "code",
   "execution_count": 1,
   "metadata": {},
   "outputs": [
    {
     "data": {
      "text/html": [
       "<div>\n",
       "<style scoped>\n",
       "    .dataframe tbody tr th:only-of-type {\n",
       "        vertical-align: middle;\n",
       "    }\n",
       "\n",
       "    .dataframe tbody tr th {\n",
       "        vertical-align: top;\n",
       "    }\n",
       "\n",
       "    .dataframe thead th {\n",
       "        text-align: right;\n",
       "    }\n",
       "</style>\n",
       "<table border=\"1\" class=\"dataframe\">\n",
       "  <thead>\n",
       "    <tr style=\"text-align: right;\">\n",
       "      <th></th>\n",
       "      <th>serving_size_g</th>\n",
       "      <th>calories</th>\n",
       "      <th>total_fat_g</th>\n",
       "      <th>saturated_fat_g</th>\n",
       "      <th>cholesterol_mg</th>\n",
       "      <th>sodium_mg</th>\n",
       "      <th>choline_mg</th>\n",
       "      <th>folate_mcg</th>\n",
       "      <th>folic_acid_mcg</th>\n",
       "      <th>niacin_mg</th>\n",
       "      <th>...</th>\n",
       "      <th>fat_g</th>\n",
       "      <th>saturated_fatty_acids_g</th>\n",
       "      <th>monounsaturated_fatty_acids_g</th>\n",
       "      <th>polyunsaturated_fatty_acids_g</th>\n",
       "      <th>fatty_acids_total_trans_mg</th>\n",
       "      <th>alcohol_g</th>\n",
       "      <th>ash_g</th>\n",
       "      <th>caffeine_mg</th>\n",
       "      <th>theobromine_mg</th>\n",
       "      <th>water_g</th>\n",
       "    </tr>\n",
       "    <tr>\n",
       "      <th>name</th>\n",
       "      <th></th>\n",
       "      <th></th>\n",
       "      <th></th>\n",
       "      <th></th>\n",
       "      <th></th>\n",
       "      <th></th>\n",
       "      <th></th>\n",
       "      <th></th>\n",
       "      <th></th>\n",
       "      <th></th>\n",
       "      <th></th>\n",
       "      <th></th>\n",
       "      <th></th>\n",
       "      <th></th>\n",
       "      <th></th>\n",
       "      <th></th>\n",
       "      <th></th>\n",
       "      <th></th>\n",
       "      <th></th>\n",
       "      <th></th>\n",
       "      <th></th>\n",
       "    </tr>\n",
       "  </thead>\n",
       "  <tbody>\n",
       "    <tr>\n",
       "      <th>Cornstarch</th>\n",
       "      <td>100.0</td>\n",
       "      <td>381.0</td>\n",
       "      <td>0.1</td>\n",
       "      <td>NaN</td>\n",
       "      <td>0.0</td>\n",
       "      <td>9.0</td>\n",
       "      <td>0.4</td>\n",
       "      <td>0.0</td>\n",
       "      <td>0.0</td>\n",
       "      <td>0.000</td>\n",
       "      <td>...</td>\n",
       "      <td>0.05</td>\n",
       "      <td>0.009</td>\n",
       "      <td>0.016</td>\n",
       "      <td>0.025</td>\n",
       "      <td>0.0</td>\n",
       "      <td>0.0</td>\n",
       "      <td>0.09</td>\n",
       "      <td>0.0</td>\n",
       "      <td>0.0</td>\n",
       "      <td>8.32</td>\n",
       "    </tr>\n",
       "    <tr>\n",
       "      <th>Nuts, pecans</th>\n",
       "      <td>100.0</td>\n",
       "      <td>691.0</td>\n",
       "      <td>72.0</td>\n",
       "      <td>6.2</td>\n",
       "      <td>0.0</td>\n",
       "      <td>0.0</td>\n",
       "      <td>40.5</td>\n",
       "      <td>22.0</td>\n",
       "      <td>0.0</td>\n",
       "      <td>1.167</td>\n",
       "      <td>...</td>\n",
       "      <td>71.97</td>\n",
       "      <td>6.180</td>\n",
       "      <td>40.801</td>\n",
       "      <td>21.614</td>\n",
       "      <td>0.0</td>\n",
       "      <td>0.0</td>\n",
       "      <td>1.49</td>\n",
       "      <td>0.0</td>\n",
       "      <td>0.0</td>\n",
       "      <td>3.52</td>\n",
       "    </tr>\n",
       "  </tbody>\n",
       "</table>\n",
       "<p>2 rows × 75 columns</p>\n",
       "</div>"
      ],
      "text/plain": [
       "              serving_size_g  calories  total_fat_g  saturated_fat_g  \\\n",
       "name                                                                   \n",
       "Cornstarch             100.0     381.0          0.1              NaN   \n",
       "Nuts, pecans           100.0     691.0         72.0              6.2   \n",
       "\n",
       "              cholesterol_mg  sodium_mg  choline_mg  folate_mcg  \\\n",
       "name                                                              \n",
       "Cornstarch               0.0        9.0         0.4         0.0   \n",
       "Nuts, pecans             0.0        0.0        40.5        22.0   \n",
       "\n",
       "              folic_acid_mcg  niacin_mg  ...  fat_g  saturated_fatty_acids_g  \\\n",
       "name                                     ...                                   \n",
       "Cornstarch               0.0      0.000  ...   0.05                    0.009   \n",
       "Nuts, pecans             0.0      1.167  ...  71.97                    6.180   \n",
       "\n",
       "              monounsaturated_fatty_acids_g  polyunsaturated_fatty_acids_g  \\\n",
       "name                                                                         \n",
       "Cornstarch                            0.016                          0.025   \n",
       "Nuts, pecans                         40.801                         21.614   \n",
       "\n",
       "              fatty_acids_total_trans_mg  alcohol_g  ash_g  caffeine_mg  \\\n",
       "name                                                                      \n",
       "Cornstarch                           0.0        0.0   0.09          0.0   \n",
       "Nuts, pecans                         0.0        0.0   1.49          0.0   \n",
       "\n",
       "              theobromine_mg  water_g  \n",
       "name                                   \n",
       "Cornstarch               0.0     8.32  \n",
       "Nuts, pecans             0.0     3.52  \n",
       "\n",
       "[2 rows x 75 columns]"
      ]
     },
     "execution_count": 1,
     "metadata": {},
     "output_type": "execute_result"
    }
   ],
   "source": [
    "import pandas as pd\n",
    "import numpy as np\n",
    "data_url = 'https://gist.githubusercontent.com/sh7ata/56976975b3c67caabb2efd80bb3a8467/raw/f1b7d2abf6770548edafee58ea15be71e2d28aac/Nutrition.csv'\n",
    "nutrition = pd.read_csv(data_url, index_col=[1])\n",
    "nutrition = nutrition.drop(['Unnamed: 0'],axis=1)\n",
    "units = nutrition.astype(str).replace(to_replace='[^a-zA-Z]', value='', regex=True)\n",
    "units = units.mode()\n",
    "units = units.replace('', np.NaN).dropna(axis=1)\n",
    "mapper = {k: k + '_' + units[k].at[0] for k in units}\n",
    "nutrition.rename(columns=mapper, inplace=True)\n",
    "nutrition.replace('[a-zA-Z]', '', regex=True, inplace=True)\n",
    "nutrition = nutrition.astype(float)\n",
    "nutrition.head(n=2)"
   ]
  },
  {
   "cell_type": "code",
   "execution_count": 4,
   "metadata": {},
   "outputs": [
    {
     "data": {
      "text/plain": [
       "serving_size_g         100.0\n",
       "saturated_fat_g          0.1\n",
       "lysine_g                 0.0\n",
       "tyrosine_g               0.0\n",
       "tryptophan_g             0.0\n",
       "                       ...  \n",
       "tocopherol_alpha_mg      0.0\n",
       "vitamin_e_mg             0.0\n",
       "vitamin_d_IU             0.0\n",
       "vitamin_c_mg             0.0\n",
       "water_g                  0.0\n",
       "Length: 75, dtype: float64"
      ]
     },
     "execution_count": 4,
     "metadata": {},
     "output_type": "execute_result"
    }
   ],
   "source": [
    "nutrition.min().sort_values(ascending=False)"
   ]
  },
  {
   "cell_type": "code",
   "execution_count": 7,
   "metadata": {},
   "outputs": [
    {
     "data": {
      "text/plain": [
       "name\n",
       "Cornstarch                                                                                            0.0\n",
       "Wheat flour, calcium-fortified, enriched, all-purpose, white                                          0.0\n",
       "Rice, dry, enriched, precooked or instant, long-grain, white                                          0.0\n",
       "Grapefruit, solids and liquids, water pack, canned, sections                                          0.0\n",
       "Nuts, raw (liquid expressed from grated meat), coconut cream                                          0.0\n",
       "                                                                                                     ... \n",
       "Olives, canned (jumbo-super colossal), ripe                                                           0.0\n",
       "Pumpkin, with salt, drained, boiled, cooked                                                           0.0\n",
       "Babyfood, junior, creamed, corn, vegetables                                                           0.0\n",
       "GIRL SCOUTS, Caramel Dulce De Leche Cookies                                                           0.0\n",
       "Beef, raw, all grades, trimmed to 0\" fat, separable lean only, boneless, eye of round steak, round    0.0\n",
       "Length: 8789, dtype: float64"
      ]
     },
     "execution_count": 7,
     "metadata": {},
     "output_type": "execute_result"
    }
   ],
   "source": [
    "nutrition.min(axis=1).sort_values(ascending=False)"
   ]
  },
  {
   "cell_type": "code",
   "execution_count": 10,
   "metadata": {},
   "outputs": [
    {
     "data": {
      "text/plain": [
       "16500.0"
      ]
     },
     "execution_count": 10,
     "metadata": {},
     "output_type": "execute_result"
    }
   ],
   "source": [
    "nutrition.potassium_mg.max()"
   ]
  },
  {
   "cell_type": "code",
   "execution_count": 11,
   "metadata": {},
   "outputs": [
    {
     "data": {
      "text/plain": [
       "'Leavening agents, cream of tartar'"
      ]
     },
     "execution_count": 11,
     "metadata": {},
     "output_type": "execute_result"
    }
   ],
   "source": [
    "nutrition.potassium_mg.idxmax()"
   ]
  },
  {
   "cell_type": "code",
   "execution_count": 12,
   "metadata": {},
   "outputs": [
    {
     "data": {
      "text/plain": [
       "'Leavening agents, cream of tartar'"
      ]
     },
     "execution_count": 12,
     "metadata": {},
     "output_type": "execute_result"
    }
   ],
   "source": [
    "nutrition.potassium_mg.idxmax()"
   ]
  },
  {
   "cell_type": "code",
   "execution_count": 13,
   "metadata": {},
   "outputs": [
    {
     "data": {
      "text/plain": [
       "name\n",
       "Leavening agents, cream of tartar                              16500.0\n",
       "Leavening agents, low-sodium, baking powder                    10100.0\n",
       "Parsley, freeze-dried                                           6300.0\n",
       "Beverages, unsweetened, decaffeinated, instant, tea             6040.0\n",
       "Beverages, powder, unsweetened, instant, tea                    6040.0\n",
       "                                                                ...   \n",
       "CAMPBELL'S CHUNKY Soups, Beef with White and Wild Rice Soup        0.0\n",
       "Alcoholic beverage, Pinot Gris (Grigio), white, table, wine        0.0\n",
       "Cloudberries, raw (Alaska Native)                                  0.0\n",
       "Oil, all purpose, soy ( partially hydrogenated), industrial        0.0\n",
       "Oil, sunflower, mid-oleic, industrial                              0.0\n",
       "Name: potassium_mg, Length: 8789, dtype: float64"
      ]
     },
     "execution_count": 13,
     "metadata": {},
     "output_type": "execute_result"
    }
   ],
   "source": [
    "nutrition.potassium_mg.sort_values(ascending=False)"
   ]
  },
  {
   "cell_type": "code",
   "execution_count": 14,
   "metadata": {},
   "outputs": [
    {
     "data": {
      "text/plain": [
       "name\n",
       "Leavening agents, cream of tartar                                      16500.0\n",
       "Leavening agents, low-sodium, baking powder                            10100.0\n",
       "Parsley, freeze-dried                                                   6300.0\n",
       "Beverages, unsweetened, decaffeinated, instant, tea                     6040.0\n",
       "Beverages, powder, unsweetened, instant, tea                            6040.0\n",
       "Spices, dried, chervil                                                  4740.0\n",
       "Spices, dried, coriander leaf                                           4466.0\n",
       "Celery flakes, dried                                                    4388.0\n",
       "Beverages, powder, regular, instant, coffee                             3535.0\n",
       "Beverages, half the caffeine, regular, instant, coffee                  3535.0\n",
       "Beverages, powder, decaffeinated, instant, coffee                       3501.0\n",
       "Radishes, dried, oriental                                               3494.0\n",
       "Beverages, unsweetened, lemon, instant, tea                             3453.0\n",
       "Tomatoes, sun-dried                                                     3427.0\n",
       "Beverages, with chicory, instant, coffee                                3395.0\n",
       "Spices, dried, dill weed                                                3308.0\n",
       "Peppers, freeze-dried, red, sweet                                       3170.0\n",
       "Peppers, freeze-dried, green, sweet                                     3170.0\n",
       "Beverages, powder, low calorie, breakfast type, Orange-flavor drink     3132.0\n",
       "Soy sauce, made from hydrolyzed vegetable protein, reduced sodium       3098.0\n",
       "Name: potassium_mg, dtype: float64"
      ]
     },
     "execution_count": 14,
     "metadata": {},
     "output_type": "execute_result"
    }
   ],
   "source": [
    "nutrition.potassium_mg.sort_values(ascending=False).head(n=20)"
   ]
  },
  {
   "cell_type": "code",
   "execution_count": 15,
   "metadata": {},
   "outputs": [],
   "source": [
    "K_to_NA = (nutrition.potassium_mg / nutrition.sodium_mg)"
   ]
  },
  {
   "cell_type": "code",
   "execution_count": 16,
   "metadata": {},
   "outputs": [
    {
     "data": {
      "text/plain": [
       "name\n",
       "Cornstarch                                                                                              0.333333\n",
       "Nuts, pecans                                                                                                 inf\n",
       "Eggplant, raw                                                                                         114.500000\n",
       "Teff, uncooked                                                                                         35.583333\n",
       "Sherbet, orange                                                                                         2.086957\n",
       "                                                                                                         ...    \n",
       "Beef, raw, all grades, trimmed to 0\" fat, separable lean and fat, boneless, top round roast, round      5.759259\n",
       "Lamb, cooked, separable lean only, composite of trimmed retail cuts, frozen, imported, New Zealand      3.760000\n",
       "Lamb, raw, separable lean and fat, composite of trimmed retail cuts, frozen, imported, New Zealand      3.487179\n",
       "Beef, raw, all grades, trimmed to 0\" fat, separable lean only, boneless, eye of round roast, round      6.018868\n",
       "Beef, raw, all grades, trimmed to 0\" fat, separable lean only, boneless, eye of round steak, round      6.018868\n",
       "Length: 8789, dtype: float64"
      ]
     },
     "execution_count": 16,
     "metadata": {},
     "output_type": "execute_result"
    }
   ],
   "source": [
    "K_to_NA"
   ]
  },
  {
   "cell_type": "code",
   "execution_count": 22,
   "metadata": {},
   "outputs": [],
   "source": [
    "K_to_NA =(nutrition.potassium_mg.replace(0, 1)) / (nutrition.sodium_mg.replace(0, 1))"
   ]
  },
  {
   "cell_type": "code",
   "execution_count": 23,
   "metadata": {},
   "outputs": [
    {
     "data": {
      "text/plain": [
       "name\n",
       "Cornstarch                                                                                              0.333333\n",
       "Nuts, pecans                                                                                          410.000000\n",
       "Eggplant, raw                                                                                         114.500000\n",
       "Teff, uncooked                                                                                         35.583333\n",
       "Sherbet, orange                                                                                         2.086957\n",
       "                                                                                                         ...    \n",
       "Beef, raw, all grades, trimmed to 0\" fat, separable lean and fat, boneless, top round roast, round      5.759259\n",
       "Lamb, cooked, separable lean only, composite of trimmed retail cuts, frozen, imported, New Zealand      3.760000\n",
       "Lamb, raw, separable lean and fat, composite of trimmed retail cuts, frozen, imported, New Zealand      3.487179\n",
       "Beef, raw, all grades, trimmed to 0\" fat, separable lean only, boneless, eye of round roast, round      6.018868\n",
       "Beef, raw, all grades, trimmed to 0\" fat, separable lean only, boneless, eye of round steak, round      6.018868\n",
       "Length: 8789, dtype: float64"
      ]
     },
     "execution_count": 23,
     "metadata": {},
     "output_type": "execute_result"
    }
   ],
   "source": [
    "K_to_NA"
   ]
  },
  {
   "cell_type": "code",
   "execution_count": 24,
   "metadata": {},
   "outputs": [
    {
     "data": {
      "text/plain": [
       "name\n",
       "Peanut flour, low fat                                         1358.000000\n",
       "Nuts, raw, pistachio nuts                                     1025.000000\n",
       "Beverages, reduced calorie, with whitener, instant, coffee     909.000000\n",
       "Soybeans, raw, mature seeds                                    898.500000\n",
       "Soy meal, raw, defatted                                        830.000000\n",
       "                                                                 ...     \n",
       "Seasoning mix, original, chili, dry                              0.000217\n",
       "Salt, table                                                      0.000206\n",
       "PACE, Dry Taco Seasoning Mix                                     0.000124\n",
       "Seasoning mix, coriander & annatto, sazon, dry                   0.000059\n",
       "Leavening agents, baking soda                                    0.000037\n",
       "Length: 8789, dtype: float64"
      ]
     },
     "execution_count": 24,
     "metadata": {},
     "output_type": "execute_result"
    }
   ],
   "source": [
    "K_to_NA.sort_values(ascending=False)"
   ]
  },
  {
   "cell_type": "code",
   "execution_count": 30,
   "metadata": {},
   "outputs": [
    {
     "data": {
      "text/plain": [
       "(67,)"
      ]
     },
     "execution_count": 30,
     "metadata": {},
     "output_type": "execute_result"
    }
   ],
   "source": [
    "mask_ratio_people_that_we_replaced = K_to_NA.between(14,16)\n",
    "K_to_NA[mask_ratio_people_that_we_replaced].sort_values(ascending=False).shape"
   ]
  },
  {
   "cell_type": "code",
   "execution_count": 31,
   "metadata": {},
   "outputs": [
    {
     "data": {
      "text/plain": [
       "name\n",
       "Babyfood, junior, with applesauce and bananas, oatmeal, cereal                                                       16.000000\n",
       "Fruit salad, solids and liquids, extra heavy syrup, canned, (peach and pear and apricot and pineapple and cherry)    16.000000\n",
       "Asparagus, drained, boiled, cooked                                                                                   16.000000\n",
       "Spices, dried, dill weed                                                                                             15.903846\n",
       "Babyfood, strained, papaya and applesauce with tapioca, fruit                                                        15.800000\n",
       "                                                                                                                       ...    \n",
       "Cherries, solids and liquids (includes USDA commodity red tart cherries, canned), water pack, canned, red, sour      14.000000\n",
       "Apricots, solids and liquids, without skin, water pack, canned                                                       14.000000\n",
       "Cereals, without salt, prepared with water, plain, original, MALT-O-MEAL                                             14.000000\n",
       "Beans, without salt, drained, boiled, cooked, frozen, yellow, snap                                                   14.000000\n",
       "Tortillas, without added salt, corn, ready-to-bake or -fry                                                           14.000000\n",
       "Length: 67, dtype: float64"
      ]
     },
     "execution_count": 31,
     "metadata": {},
     "output_type": "execute_result"
    }
   ],
   "source": [
    "K_to_NA = K_to_NA[mask_ratio_people_that_we_replaced].sort_values(ascending=False)\n",
    "K_to_NA"
   ]
  },
  {
   "cell_type": "code",
   "execution_count": 32,
   "metadata": {},
   "outputs": [
    {
     "data": {
      "text/plain": [
       "name\n",
       "Epazote, raw                                                                                                    14.720930\n",
       "Potatoes, dry form, flakes without milk, dehydrated, mashed                                                     14.259740\n",
       "Asparagus, drained, boiled, cooked                                                                              16.000000\n",
       "Turnip greens, without salt, drained, boiled, cooked, frozen                                                    14.933333\n",
       "Margarine-like, with added vitamin D, without salt, stick/tub/bottle, 60% fat, vegetable oil spread             15.000000\n",
       "Alcoholic beverages, higher alcohol, beer                                                                       15.500000\n",
       "Nuts, creamed, dried (desiccated), coconut meat                                                                 14.891892\n",
       "Nuts, not sweetened, dried (desiccated), coconut meat                                                           14.675676\n",
       "Nuts, toasted, dried (desiccated), coconut meat                                                                 14.972973\n",
       "Alcoholic beverage, white, table, wine                                                                          14.200000\n",
       "Radish seeds, raw, sprouted                                                                                     14.333333\n",
       "Fruit cocktail, solids and liquids, light syrup, canned, (peach and pineapple and pear and grape and cherry)    14.833333\n",
       "Onions, unprepared, whole, frozen                                                                               14.200000\n",
       "Tomato powder                                                                                                   14.380597\n",
       "Turnip greens, unprepared, frozen                                                                               15.333333\n",
       "dtype: float64"
      ]
     },
     "execution_count": 32,
     "metadata": {},
     "output_type": "execute_result"
    }
   ],
   "source": [
    "K_to_NA.sample(15)"
   ]
  },
  {
   "cell_type": "code",
   "execution_count": null,
   "metadata": {},
   "outputs": [],
   "source": []
  }
 ],
 "metadata": {
  "kernelspec": {
   "display_name": "Python 3.10.5 64-bit",
   "language": "python",
   "name": "python3"
  },
  "language_info": {
   "codemirror_mode": {
    "name": "ipython",
    "version": 3
   },
   "file_extension": ".py",
   "mimetype": "text/x-python",
   "name": "python",
   "nbconvert_exporter": "python",
   "pygments_lexer": "ipython3",
   "version": "3.10.5"
  },
  "orig_nbformat": 4,
  "vscode": {
   "interpreter": {
    "hash": "722b6f501d3291d098eeb116c55030d7476387c4156a20534e17b28f07582bab"
   }
  }
 },
 "nbformat": 4,
 "nbformat_minor": 2
}
