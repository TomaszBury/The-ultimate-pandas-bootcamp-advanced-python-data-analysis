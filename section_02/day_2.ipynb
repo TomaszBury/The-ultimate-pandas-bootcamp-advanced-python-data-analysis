{
 "cells": [
  {
   "cell_type": "markdown",
   "metadata": {},
   "source": [
    "The head() And tail() Methods"
   ]
  },
  {
   "cell_type": "code",
   "execution_count": 1,
   "metadata": {},
   "outputs": [
    {
     "data": {
      "text/plain": [
       "0      0\n",
       "1      1\n",
       "2      2\n",
       "3      3\n",
       "4      4\n",
       "5      5\n",
       "6      6\n",
       "7      7\n",
       "8      8\n",
       "9      9\n",
       "10    10\n",
       "11    11\n",
       "12    12\n",
       "13    13\n",
       "14    14\n",
       "15    15\n",
       "16    16\n",
       "17    17\n",
       "18    18\n",
       "19    19\n",
       "20    20\n",
       "21    21\n",
       "22    22\n",
       "23    23\n",
       "24    24\n",
       "25    25\n",
       "26    26\n",
       "27    27\n",
       "28    28\n",
       "29    29\n",
       "30    30\n",
       "31    31\n",
       "32    32\n",
       "33    33\n",
       "34    34\n",
       "35    35\n",
       "36    36\n",
       "37    37\n",
       "38    38\n",
       "39    39\n",
       "40    40\n",
       "41    41\n",
       "42    42\n",
       "43    43\n",
       "44    44\n",
       "45    45\n",
       "46    46\n",
       "47    47\n",
       "48    48\n",
       "49    49\n",
       "50    50\n",
       "51    51\n",
       "52    52\n",
       "53    53\n",
       "54    54\n",
       "55    55\n",
       "56    56\n",
       "57    57\n",
       "58    58\n",
       "59    59\n",
       "dtype: int64"
      ]
     },
     "execution_count": 1,
     "metadata": {},
     "output_type": "execute_result"
    }
   ],
   "source": [
    "import pandas as pd\n",
    "int_series = pd.Series([i for i in range(60)])\n",
    "int_series"
   ]
  },
  {
   "cell_type": "code",
   "execution_count": 2,
   "metadata": {},
   "outputs": [
    {
     "data": {
      "text/plain": [
       "0      0\n",
       "1      1\n",
       "2      2\n",
       "3      3\n",
       "4      4\n",
       "5      5\n",
       "6      6\n",
       "7      7\n",
       "8      8\n",
       "9      9\n",
       "10    10\n",
       "11    11\n",
       "12    12\n",
       "13    13\n",
       "14    14\n",
       "15    15\n",
       "16    16\n",
       "17    17\n",
       "18    18\n",
       "19    19\n",
       "20    20\n",
       "21    21\n",
       "22    22\n",
       "23    23\n",
       "24    24\n",
       "25    25\n",
       "26    26\n",
       "27    27\n",
       "28    28\n",
       "29    29\n",
       "30    30\n",
       "31    31\n",
       "32    32\n",
       "33    33\n",
       "34    34\n",
       "35    35\n",
       "36    36\n",
       "37    37\n",
       "38    38\n",
       "39    39\n",
       "40    40\n",
       "41    41\n",
       "42    42\n",
       "43    43\n",
       "44    44\n",
       "45    45\n",
       "46    46\n",
       "47    47\n",
       "48    48\n",
       "49    49\n",
       "50    50\n",
       "51    51\n",
       "52    52\n",
       "53    53\n",
       "54    54\n",
       "55    55\n",
       "56    56\n",
       "57    57\n",
       "58    58\n",
       "59    59\n",
       "dtype: int64"
      ]
     },
     "execution_count": 2,
     "metadata": {},
     "output_type": "execute_result"
    }
   ],
   "source": [
    "pd.Series(range(60))"
   ]
  },
  {
   "cell_type": "code",
   "execution_count": 3,
   "metadata": {},
   "outputs": [
    {
     "data": {
      "text/plain": [
       "60"
      ]
     },
     "execution_count": 3,
     "metadata": {},
     "output_type": "execute_result"
    }
   ],
   "source": [
    "int_series.size"
   ]
  },
  {
   "cell_type": "code",
   "execution_count": 4,
   "metadata": {},
   "outputs": [
    {
     "data": {
      "text/plain": [
       "60"
      ]
     },
     "execution_count": 4,
     "metadata": {},
     "output_type": "execute_result"
    }
   ],
   "source": [
    "len(int_series)"
   ]
  },
  {
   "cell_type": "code",
   "execution_count": 5,
   "metadata": {},
   "outputs": [
    {
     "data": {
      "text/plain": [
       "0    0\n",
       "1    1\n",
       "2    2\n",
       "3    3\n",
       "4    4\n",
       "dtype: int64"
      ]
     },
     "execution_count": 5,
     "metadata": {},
     "output_type": "execute_result"
    }
   ],
   "source": [
    "int_series.head()"
   ]
  },
  {
   "cell_type": "code",
   "execution_count": 6,
   "metadata": {},
   "outputs": [
    {
     "data": {
      "text/plain": [
       "55    55\n",
       "56    56\n",
       "57    57\n",
       "58    58\n",
       "59    59\n",
       "dtype: int64"
      ]
     },
     "execution_count": 6,
     "metadata": {},
     "output_type": "execute_result"
    }
   ],
   "source": [
    "int_series.tail()"
   ]
  },
  {
   "cell_type": "code",
   "execution_count": 7,
   "metadata": {},
   "outputs": [
    {
     "data": {
      "text/plain": [
       "45    45\n",
       "46    46\n",
       "47    47\n",
       "48    48\n",
       "49    49\n",
       "50    50\n",
       "51    51\n",
       "52    52\n",
       "53    53\n",
       "54    54\n",
       "55    55\n",
       "56    56\n",
       "57    57\n",
       "58    58\n",
       "59    59\n",
       "dtype: int64"
      ]
     },
     "execution_count": 7,
     "metadata": {},
     "output_type": "execute_result"
    }
   ],
   "source": [
    "int_series.tail(15)"
   ]
  },
  {
   "cell_type": "code",
   "execution_count": 8,
   "metadata": {},
   "outputs": [
    {
     "data": {
      "text/plain": [
       "0    0\n",
       "1    1\n",
       "dtype: int64"
      ]
     },
     "execution_count": 8,
     "metadata": {},
     "output_type": "execute_result"
    }
   ],
   "source": [
    "int_series.head(2)"
   ]
  },
  {
   "cell_type": "code",
   "execution_count": 9,
   "metadata": {},
   "outputs": [
    {
     "data": {
      "text/plain": [
       "0    0\n",
       "1    1\n",
       "2    2\n",
       "3    3\n",
       "4    4\n",
       "5    5\n",
       "6    6\n",
       "dtype: int64"
      ]
     },
     "execution_count": 9,
     "metadata": {},
     "output_type": "execute_result"
    }
   ],
   "source": [
    "int_series.head(n=7)"
   ]
  },
  {
   "cell_type": "code",
   "execution_count": 10,
   "metadata": {},
   "outputs": [
    {
     "data": {
      "text/plain": [
       "54    54\n",
       "55    55\n",
       "56    56\n",
       "57    57\n",
       "58    58\n",
       "59    59\n",
       "dtype: int64"
      ]
     },
     "execution_count": 10,
     "metadata": {},
     "output_type": "execute_result"
    }
   ],
   "source": [
    "int_series.tail(n=6)"
   ]
  },
  {
   "cell_type": "code",
   "execution_count": 11,
   "metadata": {},
   "outputs": [
    {
     "data": {
      "text/plain": [
       "0          0\n",
       "1          1\n",
       "2          2\n",
       "3          3\n",
       "4          4\n",
       "        ... \n",
       "9995    9995\n",
       "9996    9996\n",
       "9997    9997\n",
       "9998    9998\n",
       "9999    9999\n",
       "Length: 10000, dtype: int64"
      ]
     },
     "execution_count": 11,
     "metadata": {},
     "output_type": "execute_result"
    }
   ],
   "source": [
    "pd.Series(range(10000))"
   ]
  },
  {
   "cell_type": "code",
   "execution_count": 12,
   "metadata": {},
   "outputs": [
    {
     "data": {
      "text/plain": [
       "0      0\n",
       "1      1\n",
       "2      2\n",
       "3      3\n",
       "4      4\n",
       "      ..\n",
       "95    95\n",
       "96    96\n",
       "97    97\n",
       "98    98\n",
       "99    99\n",
       "Length: 100, dtype: int64"
      ]
     },
     "execution_count": 12,
     "metadata": {},
     "output_type": "execute_result"
    }
   ],
   "source": [
    "pd.Series(range(100))"
   ]
  },
  {
   "cell_type": "code",
   "execution_count": 13,
   "metadata": {},
   "outputs": [],
   "source": [
    "pd.options.display.min_rows=8"
   ]
  },
  {
   "cell_type": "code",
   "execution_count": 14,
   "metadata": {},
   "outputs": [
    {
     "data": {
      "text/plain": [
       "0      0\n",
       "1      1\n",
       "2      2\n",
       "3      3\n",
       "      ..\n",
       "96    96\n",
       "97    97\n",
       "98    98\n",
       "99    99\n",
       "Length: 100, dtype: int64"
      ]
     },
     "execution_count": 14,
     "metadata": {},
     "output_type": "execute_result"
    }
   ],
   "source": [
    "pd.Series(range(100))"
   ]
  },
  {
   "cell_type": "markdown",
   "metadata": {},
   "source": [
    "Extracting By Index Position"
   ]
  },
  {
   "cell_type": "code",
   "execution_count": 15,
   "metadata": {},
   "outputs": [
    {
     "data": {
      "text/plain": [
       "'abcdefghijklmnopqrstuvwxyz'"
      ]
     },
     "execution_count": 15,
     "metadata": {},
     "output_type": "execute_result"
    }
   ],
   "source": [
    "from string import ascii_lowercase\n",
    "ascii_lowercase"
   ]
  },
  {
   "cell_type": "code",
   "execution_count": 16,
   "metadata": {},
   "outputs": [
    {
     "data": {
      "text/plain": [
       "0    abcdefghijklmnopqrstuvwxyz\n",
       "dtype: object"
      ]
     },
     "execution_count": 16,
     "metadata": {},
     "output_type": "execute_result"
    }
   ],
   "source": [
    "pd.Series(ascii_lowercase)"
   ]
  },
  {
   "cell_type": "code",
   "execution_count": 17,
   "metadata": {},
   "outputs": [
    {
     "data": {
      "text/plain": [
       "['a',\n",
       " 'b',\n",
       " 'c',\n",
       " 'd',\n",
       " 'e',\n",
       " 'f',\n",
       " 'g',\n",
       " 'h',\n",
       " 'i',\n",
       " 'j',\n",
       " 'k',\n",
       " 'l',\n",
       " 'm',\n",
       " 'n',\n",
       " 'o',\n",
       " 'p',\n",
       " 'q',\n",
       " 'r',\n",
       " 's',\n",
       " 't',\n",
       " 'u',\n",
       " 'v',\n",
       " 'w',\n",
       " 'x',\n",
       " 'y',\n",
       " 'z']"
      ]
     },
     "execution_count": 17,
     "metadata": {},
     "output_type": "execute_result"
    }
   ],
   "source": [
    "list(ascii_lowercase)"
   ]
  },
  {
   "cell_type": "code",
   "execution_count": 18,
   "metadata": {},
   "outputs": [
    {
     "data": {
      "text/plain": [
       "26"
      ]
     },
     "execution_count": 18,
     "metadata": {},
     "output_type": "execute_result"
    }
   ],
   "source": [
    "len(list(ascii_lowercase))"
   ]
  },
  {
   "cell_type": "code",
   "execution_count": 19,
   "metadata": {},
   "outputs": [
    {
     "data": {
      "text/plain": [
       "0    a\n",
       "1    b\n",
       "2    c\n",
       "3    d\n",
       "4    e\n",
       "5    f\n",
       "dtype: object"
      ]
     },
     "execution_count": 19,
     "metadata": {},
     "output_type": "execute_result"
    }
   ],
   "source": [
    "alphabet = pd.Series(list(ascii_lowercase))\n",
    "alphabet.head(6)"
   ]
  },
  {
   "cell_type": "code",
   "execution_count": 20,
   "metadata": {},
   "outputs": [
    {
     "data": {
      "text/plain": [
       "'c'"
      ]
     },
     "execution_count": 20,
     "metadata": {},
     "output_type": "execute_result"
    }
   ],
   "source": [
    "alphabet[2]"
   ]
  },
  {
   "cell_type": "code",
   "execution_count": 21,
   "metadata": {},
   "outputs": [
    {
     "data": {
      "text/plain": [
       "'a'"
      ]
     },
     "execution_count": 21,
     "metadata": {},
     "output_type": "execute_result"
    }
   ],
   "source": [
    "alphabet[0]"
   ]
  },
  {
   "cell_type": "markdown",
   "metadata": {},
   "source": [
    "1. What is the first letter?\n",
    "2. What is the 11th letter?\n",
    "3. What are the first three letters?\n",
    "4. What are the sixth through tenth letters?\n",
    "5. What are the last siz letters?"
   ]
  },
  {
   "cell_type": "code",
   "execution_count": 22,
   "metadata": {},
   "outputs": [
    {
     "name": "stdout",
     "output_type": "stream",
     "text": [
      "a\n",
      "k\n",
      "0    a\n",
      "1    b\n",
      "2    c\n",
      "dtype: object\n",
      "5    f\n",
      "6    g\n",
      "7    h\n",
      "8    i\n",
      "9    j\n",
      "dtype: object\n",
      "20    u\n",
      "21    v\n",
      "22    w\n",
      "23    x\n",
      "24    y\n",
      "25    z\n",
      "dtype: object\n"
     ]
    }
   ],
   "source": [
    "print(alphabet[0])\n",
    "print(alphabet[10])\n",
    "print(alphabet.head(3))\n",
    "print(alphabet[5:10])\n",
    "print(alphabet.tail(6))"
   ]
  },
  {
   "cell_type": "code",
   "execution_count": 23,
   "metadata": {},
   "outputs": [
    {
     "data": {
      "text/plain": [
       "0    a\n",
       "1    b\n",
       "2    c\n",
       "dtype: object"
      ]
     },
     "execution_count": 23,
     "metadata": {},
     "output_type": "execute_result"
    }
   ],
   "source": [
    "# 3\n",
    "alphabet[:3]"
   ]
  },
  {
   "cell_type": "code",
   "execution_count": 24,
   "metadata": {},
   "outputs": [
    {
     "data": {
      "text/plain": [
       "5    f\n",
       "6    g\n",
       "7    h\n",
       "8    i\n",
       "9    j\n",
       "dtype: object"
      ]
     },
     "execution_count": 24,
     "metadata": {},
     "output_type": "execute_result"
    }
   ],
   "source": [
    "# 4\n",
    "alphabet[5:10]"
   ]
  },
  {
   "cell_type": "code",
   "execution_count": 25,
   "metadata": {},
   "outputs": [
    {
     "data": {
      "text/plain": [
       "20    u\n",
       "21    v\n",
       "22    w\n",
       "23    x\n",
       "24    y\n",
       "25    z\n",
       "dtype: object"
      ]
     },
     "execution_count": 25,
     "metadata": {},
     "output_type": "execute_result"
    }
   ],
   "source": [
    "# 5\n",
    "alphabet[-6:]"
   ]
  },
  {
   "cell_type": "markdown",
   "metadata": {},
   "source": [
    "Accessing Elements By Labels"
   ]
  },
  {
   "cell_type": "code",
   "execution_count": 26,
   "metadata": {},
   "outputs": [],
   "source": [
    "from string import ascii_uppercase"
   ]
  },
  {
   "cell_type": "code",
   "execution_count": 27,
   "metadata": {},
   "outputs": [
    {
     "data": {
      "text/plain": [
       "'abcdefghijklmnopqrstuvwxyz'"
      ]
     },
     "execution_count": 27,
     "metadata": {},
     "output_type": "execute_result"
    }
   ],
   "source": [
    "ascii_lowercase"
   ]
  },
  {
   "cell_type": "code",
   "execution_count": 28,
   "metadata": {},
   "outputs": [
    {
     "data": {
      "text/plain": [
       "'ABCDEFGHIJKLMNOPQRSTUVWXYZ'"
      ]
     },
     "execution_count": 28,
     "metadata": {},
     "output_type": "execute_result"
    }
   ],
   "source": [
    "ascii_uppercase"
   ]
  },
  {
   "cell_type": "code",
   "execution_count": 29,
   "metadata": {},
   "outputs": [],
   "source": [
    "labeled_alphabet = pd.Series(data=list(ascii_lowercase), index=map(lambda x: 'label_' + x, list(ascii_uppercase)))"
   ]
  },
  {
   "cell_type": "code",
   "execution_count": 30,
   "metadata": {},
   "outputs": [
    {
     "data": {
      "text/plain": [
       "label_A    a\n",
       "label_B    b\n",
       "label_C    c\n",
       "dtype: object"
      ]
     },
     "execution_count": 30,
     "metadata": {},
     "output_type": "execute_result"
    }
   ],
   "source": [
    "labeled_alphabet.head(3)"
   ]
  },
  {
   "cell_type": "code",
   "execution_count": 31,
   "metadata": {},
   "outputs": [
    {
     "data": {
      "text/plain": [
       "'a'"
      ]
     },
     "execution_count": 31,
     "metadata": {},
     "output_type": "execute_result"
    }
   ],
   "source": [
    "labeled_alphabet[0]"
   ]
  },
  {
   "cell_type": "markdown",
   "metadata": {},
   "source": [
    "1. What is the first letter?\n",
    "2. What is the 11th letter?\n",
    "3. What are the first three letters?\n",
    "4. What are the sixth through tenth letters?\n",
    "5. What are the last sixt letters?"
   ]
  },
  {
   "cell_type": "code",
   "execution_count": 32,
   "metadata": {},
   "outputs": [
    {
     "data": {
      "text/plain": [
       "'a'"
      ]
     },
     "execution_count": 32,
     "metadata": {},
     "output_type": "execute_result"
    }
   ],
   "source": [
    "labeled_alphabet['label_A']"
   ]
  },
  {
   "cell_type": "code",
   "execution_count": 33,
   "metadata": {},
   "outputs": [
    {
     "data": {
      "text/plain": [
       "'k'"
      ]
     },
     "execution_count": 33,
     "metadata": {},
     "output_type": "execute_result"
    }
   ],
   "source": [
    "labeled_alphabet['label_K']"
   ]
  },
  {
   "cell_type": "code",
   "execution_count": 34,
   "metadata": {},
   "outputs": [
    {
     "data": {
      "text/plain": [
       "label_A    a\n",
       "label_B    b\n",
       "label_C    c\n",
       "dtype: object"
      ]
     },
     "execution_count": 34,
     "metadata": {},
     "output_type": "execute_result"
    }
   ],
   "source": [
    "labeled_alphabet['label_A':'label_C']"
   ]
  },
  {
   "cell_type": "code",
   "execution_count": 35,
   "metadata": {},
   "outputs": [
    {
     "data": {
      "text/plain": [
       "label_G    g\n",
       "label_H    h\n",
       "label_I    i\n",
       "label_J    j\n",
       "dtype: object"
      ]
     },
     "execution_count": 35,
     "metadata": {},
     "output_type": "execute_result"
    }
   ],
   "source": [
    "labeled_alphabet[6:10]"
   ]
  },
  {
   "cell_type": "code",
   "execution_count": 36,
   "metadata": {},
   "outputs": [
    {
     "data": {
      "text/plain": [
       "label_G    g\n",
       "label_H    h\n",
       "label_I    i\n",
       "label_J    j\n",
       "dtype: object"
      ]
     },
     "execution_count": 36,
     "metadata": {},
     "output_type": "execute_result"
    }
   ],
   "source": [
    "labeled_alphabet['label_G':'label_J']"
   ]
  },
  {
   "cell_type": "code",
   "execution_count": 37,
   "metadata": {},
   "outputs": [
    {
     "data": {
      "text/plain": [
       "label_U    u\n",
       "label_V    v\n",
       "label_W    w\n",
       "label_X    x\n",
       "label_Y    y\n",
       "label_Z    z\n",
       "dtype: object"
      ]
     },
     "execution_count": 37,
     "metadata": {},
     "output_type": "execute_result"
    }
   ],
   "source": [
    "labeled_alphabet[-6:]"
   ]
  },
  {
   "cell_type": "code",
   "execution_count": 38,
   "metadata": {},
   "outputs": [
    {
     "data": {
      "text/plain": [
       "label_U    u\n",
       "label_V    v\n",
       "label_W    w\n",
       "label_X    x\n",
       "label_Y    y\n",
       "label_Z    z\n",
       "dtype: object"
      ]
     },
     "execution_count": 38,
     "metadata": {},
     "output_type": "execute_result"
    }
   ],
   "source": [
    "labeled_alphabet['label_U':]"
   ]
  },
  {
   "cell_type": "markdown",
   "metadata": {},
   "source": [
    "BONUS - The add_prefix() and add_suffix() methods"
   ]
  },
  {
   "cell_type": "code",
   "execution_count": 39,
   "metadata": {},
   "outputs": [
    {
     "data": {
      "text/plain": [
       "<map at 0x1c8e500f2e0>"
      ]
     },
     "execution_count": 39,
     "metadata": {},
     "output_type": "execute_result"
    }
   ],
   "source": [
    "map(lambda x: 'label_' + x , list(ascii_uppercase))"
   ]
  },
  {
   "cell_type": "code",
   "execution_count": 40,
   "metadata": {},
   "outputs": [
    {
     "data": {
      "text/plain": [
       "0    a\n",
       "1    b\n",
       "2    c\n",
       "3    d\n",
       "4    e\n",
       "dtype: object"
      ]
     },
     "execution_count": 40,
     "metadata": {},
     "output_type": "execute_result"
    }
   ],
   "source": [
    "alphabet.head()"
   ]
  },
  {
   "cell_type": "code",
   "execution_count": 41,
   "metadata": {},
   "outputs": [
    {
     "data": {
      "text/plain": [
       "label_0     a\n",
       "label_1     b\n",
       "label_2     c\n",
       "label_3     d\n",
       "label_4     e\n",
       "label_5     f\n",
       "label_6     g\n",
       "label_7     h\n",
       "label_8     i\n",
       "label_9     j\n",
       "label_10    k\n",
       "label_11    l\n",
       "label_12    m\n",
       "label_13    n\n",
       "label_14    o\n",
       "label_15    p\n",
       "label_16    q\n",
       "label_17    r\n",
       "label_18    s\n",
       "label_19    t\n",
       "label_20    u\n",
       "label_21    v\n",
       "label_22    w\n",
       "label_23    x\n",
       "label_24    y\n",
       "label_25    z\n",
       "dtype: object"
      ]
     },
     "execution_count": 41,
     "metadata": {},
     "output_type": "execute_result"
    }
   ],
   "source": [
    "alphabet.add_prefix('label_')"
   ]
  },
  {
   "cell_type": "code",
   "execution_count": 42,
   "metadata": {},
   "outputs": [
    {
     "data": {
      "text/plain": [
       "0_some_qll_ending     a\n",
       "1_some_qll_ending     b\n",
       "2_some_qll_ending     c\n",
       "3_some_qll_ending     d\n",
       "4_some_qll_ending     e\n",
       "5_some_qll_ending     f\n",
       "6_some_qll_ending     g\n",
       "7_some_qll_ending     h\n",
       "8_some_qll_ending     i\n",
       "9_some_qll_ending     j\n",
       "10_some_qll_ending    k\n",
       "11_some_qll_ending    l\n",
       "12_some_qll_ending    m\n",
       "13_some_qll_ending    n\n",
       "14_some_qll_ending    o\n",
       "15_some_qll_ending    p\n",
       "16_some_qll_ending    q\n",
       "17_some_qll_ending    r\n",
       "18_some_qll_ending    s\n",
       "19_some_qll_ending    t\n",
       "20_some_qll_ending    u\n",
       "21_some_qll_ending    v\n",
       "22_some_qll_ending    w\n",
       "23_some_qll_ending    x\n",
       "24_some_qll_ending    y\n",
       "25_some_qll_ending    z\n",
       "dtype: object"
      ]
     },
     "execution_count": 42,
     "metadata": {},
     "output_type": "execute_result"
    }
   ],
   "source": [
    "alphabet.add_suffix(\"_some_qll_ending\")"
   ]
  },
  {
   "cell_type": "code",
   "execution_count": 43,
   "metadata": {},
   "outputs": [
    {
     "data": {
      "text/plain": [
       "0     a\n",
       "1     b\n",
       "2     c\n",
       "3     d\n",
       "4     e\n",
       "5     f\n",
       "6     g\n",
       "7     h\n",
       "8     i\n",
       "9     j\n",
       "10    k\n",
       "11    l\n",
       "12    m\n",
       "13    n\n",
       "14    o\n",
       "15    p\n",
       "16    q\n",
       "17    r\n",
       "18    s\n",
       "19    t\n",
       "20    u\n",
       "21    v\n",
       "22    w\n",
       "23    x\n",
       "24    y\n",
       "25    z\n",
       "dtype: object"
      ]
     },
     "execution_count": 43,
     "metadata": {},
     "output_type": "execute_result"
    }
   ],
   "source": [
    "alphabet"
   ]
  },
  {
   "cell_type": "code",
   "execution_count": 44,
   "metadata": {},
   "outputs": [],
   "source": [
    "alphabet = alphabet.add_suffix('_ql')"
   ]
  },
  {
   "cell_type": "code",
   "execution_count": 45,
   "metadata": {},
   "outputs": [],
   "source": [
    "alphabet = alphabet.add_prefix('label_')"
   ]
  },
  {
   "cell_type": "code",
   "execution_count": 46,
   "metadata": {},
   "outputs": [
    {
     "data": {
      "text/plain": [
       "label_0_ql     a\n",
       "label_1_ql     b\n",
       "label_2_ql     c\n",
       "label_3_ql     d\n",
       "label_4_ql     e\n",
       "label_5_ql     f\n",
       "label_6_ql     g\n",
       "label_7_ql     h\n",
       "label_8_ql     i\n",
       "label_9_ql     j\n",
       "label_10_ql    k\n",
       "label_11_ql    l\n",
       "label_12_ql    m\n",
       "label_13_ql    n\n",
       "label_14_ql    o\n",
       "label_15_ql    p\n",
       "label_16_ql    q\n",
       "label_17_ql    r\n",
       "label_18_ql    s\n",
       "label_19_ql    t\n",
       "label_20_ql    u\n",
       "label_21_ql    v\n",
       "label_22_ql    w\n",
       "label_23_ql    x\n",
       "label_24_ql    y\n",
       "label_25_ql    z\n",
       "dtype: object"
      ]
     },
     "execution_count": 46,
     "metadata": {},
     "output_type": "execute_result"
    }
   ],
   "source": [
    "alphabet"
   ]
  },
  {
   "cell_type": "markdown",
   "metadata": {},
   "source": [
    "Using Don Notation"
   ]
  },
  {
   "cell_type": "code",
   "execution_count": 47,
   "metadata": {},
   "outputs": [
    {
     "data": {
      "text/plain": [
       "'v'"
      ]
     },
     "execution_count": 47,
     "metadata": {},
     "output_type": "execute_result"
    }
   ],
   "source": [
    "labeled_alphabet['label_V']"
   ]
  },
  {
   "cell_type": "code",
   "execution_count": 48,
   "metadata": {},
   "outputs": [
    {
     "data": {
      "text/plain": [
       "dtype('O')"
      ]
     },
     "execution_count": 48,
     "metadata": {},
     "output_type": "execute_result"
    }
   ],
   "source": [
    "labeled_alphabet.dtype"
   ]
  },
  {
   "cell_type": "code",
   "execution_count": 1,
   "metadata": {},
   "outputs": [
    {
     "ename": "NameError",
     "evalue": "name 'labeled_alphabet' is not defined",
     "output_type": "error",
     "traceback": [
      "\u001b[1;31m---------------------------------------------------------------------------\u001b[0m",
      "\u001b[1;31mNameError\u001b[0m                                 Traceback (most recent call last)",
      "\u001b[1;32mc:\\Users\\Tom\\iCloudDrive\\Nauka\\Python\\Pyton_files\\The-ultimate-pandas-bootcamp-advanced-python-data-analysis\\section_2\\day_2.ipynb Cell 56\u001b[0m in \u001b[0;36m<module>\u001b[1;34m\u001b[0m\n\u001b[1;32m----> <a href='vscode-notebook-cell:/c%3A/Users/Tom/iCloudDrive/Nauka/Python/Pyton_files/The-ultimate-pandas-bootcamp-advanced-python-data-analysis/section_2/day_2.ipynb#ch0000055?line=0'>1</a>\u001b[0m labeled_alphabet\u001b[39m.\u001b[39mname\n",
      "\u001b[1;31mNameError\u001b[0m: name 'labeled_alphabet' is not defined"
     ]
    }
   ],
   "source": [
    "labeled_alphabet.name"
   ]
  },
  {
   "cell_type": "code",
   "execution_count": 50,
   "metadata": {},
   "outputs": [
    {
     "data": {
      "text/plain": [
       "'v'"
      ]
     },
     "execution_count": 50,
     "metadata": {},
     "output_type": "execute_result"
    }
   ],
   "source": [
    "labeled_alphabet.label_V"
   ]
  },
  {
   "cell_type": "code",
   "execution_count": 51,
   "metadata": {},
   "outputs": [
    {
     "data": {
      "text/plain": [
       "label_V    v\n",
       "label_W    w\n",
       "label_X    x\n",
       "dtype: object"
      ]
     },
     "execution_count": 51,
     "metadata": {},
     "output_type": "execute_result"
    }
   ],
   "source": [
    "labeled_alphabet['label_V':'label_X']"
   ]
  },
  {
   "cell_type": "code",
   "execution_count": 52,
   "metadata": {},
   "outputs": [
    {
     "data": {
      "text/plain": [
       "'v'"
      ]
     },
     "execution_count": 52,
     "metadata": {},
     "output_type": "execute_result"
    }
   ],
   "source": [
    "labeled_alphabet.label_V"
   ]
  },
  {
   "cell_type": "code",
   "execution_count": 53,
   "metadata": {},
   "outputs": [
    {
     "ename": "NameError",
     "evalue": "name 'label_X' is not defined",
     "output_type": "error",
     "traceback": [
      "\u001b[1;31m---------------------------------------------------------------------------\u001b[0m",
      "\u001b[1;31mNameError\u001b[0m                                 Traceback (most recent call last)",
      "\u001b[1;32mc:\\Users\\Tom\\iCloudDrive\\Nauka\\Python\\Pyton_files\\The-ultimate-pandas-bootcamp-advanced-python-data-analysis\\section_2\\day_2.ipynb Cell 60\u001b[0m in \u001b[0;36m<module>\u001b[1;34m\u001b[0m\n\u001b[1;32m----> <a href='vscode-notebook-cell:/c%3A/Users/Tom/iCloudDrive/Nauka/Python/Pyton_files/The-ultimate-pandas-bootcamp-advanced-python-data-analysis/section_2/day_2.ipynb#ch0000059?line=0'>1</a>\u001b[0m labeled_alphabet\u001b[39m.\u001b[39mlabel_V:label_X\n",
      "\u001b[1;31mNameError\u001b[0m: name 'label_X' is not defined"
     ]
    }
   ],
   "source": [
    "labeled_alphabet.label_V:label_X"
   ]
  },
  {
   "cell_type": "code",
   "execution_count": null,
   "metadata": {},
   "outputs": [
    {
     "ename": "SyntaxError",
     "evalue": "invalid syntax (<ipython-input-58-38f829728221>, line 1)",
     "output_type": "error",
     "traceback": [
      "\u001b[1;36m  File \u001b[1;32m\"<ipython-input-58-38f829728221>\"\u001b[1;36m, line \u001b[1;32m1\u001b[0m\n\u001b[1;33m    labeled_alphabet.label V more label\u001b[0m\n\u001b[1;37m                           ^\u001b[0m\n\u001b[1;31mSyntaxError\u001b[0m\u001b[1;31m:\u001b[0m invalid syntax\n"
     ]
    }
   ],
   "source": [
    "labeled_alphabet.label V more label"
   ]
  },
  {
   "cell_type": "code",
   "execution_count": null,
   "metadata": {},
   "outputs": [
    {
     "data": {
      "text/plain": [
       "'g'"
      ]
     },
     "execution_count": 59,
     "metadata": {},
     "output_type": "execute_result"
    }
   ],
   "source": [
    "labeled_alphabet['label_G']"
   ]
  },
  {
   "cell_type": "code",
   "execution_count": null,
   "metadata": {},
   "outputs": [
    {
     "data": {
      "text/plain": [
       "label_X    x\n",
       "label_Y    y\n",
       "label_Z    z\n",
       "dtype: object"
      ]
     },
     "execution_count": 61,
     "metadata": {},
     "output_type": "execute_result"
    }
   ],
   "source": [
    "labeled_alphabet.tail(3)"
   ]
  },
  {
   "cell_type": "code",
   "execution_count": null,
   "metadata": {},
   "outputs": [
    {
     "data": {
      "text/plain": [
       "label_A    a\n",
       "label_B    b\n",
       "dtype: object"
      ]
     },
     "execution_count": 62,
     "metadata": {},
     "output_type": "execute_result"
    }
   ],
   "source": [
    "labeled_alphabet.head(2)"
   ]
  },
  {
   "cell_type": "code",
   "execution_count": null,
   "metadata": {},
   "outputs": [],
   "source": []
  }
 ],
 "metadata": {
  "kernelspec": {
   "display_name": "Python 3.10.5 64-bit",
   "language": "python",
   "name": "python3"
  },
  "language_info": {
   "codemirror_mode": {
    "name": "ipython",
    "version": 3
   },
   "file_extension": ".py",
   "mimetype": "text/x-python",
   "name": "python",
   "nbconvert_exporter": "python",
   "pygments_lexer": "ipython3",
   "version": "3.10.5"
  },
  "orig_nbformat": 4,
  "vscode": {
   "interpreter": {
    "hash": "722b6f501d3291d098eeb116c55030d7476387c4156a20534e17b28f07582bab"
   }
  }
 },
 "nbformat": 4,
 "nbformat_minor": 2
}
