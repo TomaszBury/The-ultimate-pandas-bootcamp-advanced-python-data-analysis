{
 "cells": [
  {
   "cell_type": "markdown",
   "metadata": {},
   "source": [
    "# Extracting By Position with .iloc"
   ]
  },
  {
   "cell_type": "code",
   "execution_count": 3,
   "metadata": {},
   "outputs": [],
   "source": [
    "import pandas as pd\n",
    "from string import ascii_lowercase\n",
    "from string import  ascii_uppercase"
   ]
  },
  {
   "cell_type": "code",
   "execution_count": 11,
   "metadata": {},
   "outputs": [
    {
     "data": {
      "text/plain": [
       "Label_A    a\n",
       "Label_B    b\n",
       "Label_C    c\n",
       "Label_D    d\n",
       "Label_E    e\n",
       "Label_F    f\n",
       "Label_G    g\n",
       "Label_H    h\n",
       "Label_I    i\n",
       "Label_J    j\n",
       "Label_K    k\n",
       "Label_L    l\n",
       "Label_M    m\n",
       "Label_N    n\n",
       "Label_O    o\n",
       "Label_P    p\n",
       "Label_Q    q\n",
       "Label_R    r\n",
       "Label_S    s\n",
       "Label_T    t\n",
       "Label_U    u\n",
       "Label_V    v\n",
       "Label_W    w\n",
       "Label_X    x\n",
       "Label_Y    y\n",
       "Label_Z    z\n",
       "dtype: object"
      ]
     },
     "execution_count": 11,
     "metadata": {},
     "output_type": "execute_result"
    }
   ],
   "source": [
    "labeled_alphabet = pd.Series(data=list(ascii_lowercase),index=map(lambda x: 'Label_' + x , list(ascii_uppercase)))\n",
    "alphabet.head(n=26)"
   ]
  },
  {
   "cell_type": "code",
   "execution_count": 12,
   "metadata": {},
   "outputs": [
    {
     "data": {
      "text/plain": [
       "Label\n",
       "Label_A    a\n",
       "Label_B    b\n",
       "Label_C    c\n",
       "Name: Labeled Alphabet, dtype: object"
      ]
     },
     "execution_count": 12,
     "metadata": {},
     "output_type": "execute_result"
    }
   ],
   "source": [
    "labeled_alphabet.name = 'Labeled Alphabet'\n",
    "labeled_alphabet.index.name = 'Label'\n",
    "labeled_alphabet.head(n=3)"
   ]
  },
  {
   "cell_type": "code",
   "execution_count": 13,
   "metadata": {},
   "outputs": [
    {
     "data": {
      "text/plain": [
       "'a'"
      ]
     },
     "execution_count": 13,
     "metadata": {},
     "output_type": "execute_result"
    }
   ],
   "source": [
    "labeled_alphabet.iloc[0]"
   ]
  },
  {
   "cell_type": "code",
   "execution_count": 14,
   "metadata": {},
   "outputs": [
    {
     "data": {
      "text/plain": [
       "'b'"
      ]
     },
     "execution_count": 14,
     "metadata": {},
     "output_type": "execute_result"
    }
   ],
   "source": [
    "labeled_alphabet.iloc[1]"
   ]
  },
  {
   "cell_type": "code",
   "execution_count": 16,
   "metadata": {},
   "outputs": [
    {
     "data": {
      "text/plain": [
       "Label\n",
       "Label_C    c\n",
       "Label_D    d\n",
       "Label_E    e\n",
       "Name: Labeled Alphabet, dtype: object"
      ]
     },
     "execution_count": 16,
     "metadata": {},
     "output_type": "execute_result"
    }
   ],
   "source": [
    "labeled_alphabet.iloc[2:5]"
   ]
  },
  {
   "cell_type": "code",
   "execution_count": 18,
   "metadata": {},
   "outputs": [
    {
     "data": {
      "text/plain": [
       "Label\n",
       "Label_B    b\n",
       "Label_F    f\n",
       "Label_J    j\n",
       "Name: Labeled Alphabet, dtype: object"
      ]
     },
     "execution_count": 18,
     "metadata": {},
     "output_type": "execute_result"
    }
   ],
   "source": [
    "labeled_alphabet.iloc[[1,5,9]]"
   ]
  },
  {
   "cell_type": "code",
   "execution_count": 19,
   "metadata": {},
   "outputs": [
    {
     "data": {
      "text/plain": [
       "Label\n",
       "Label_Z    z\n",
       "Label_Y    y\n",
       "Label_V    v\n",
       "Name: Labeled Alphabet, dtype: object"
      ]
     },
     "execution_count": 19,
     "metadata": {},
     "output_type": "execute_result"
    }
   ],
   "source": [
    "labeled_alphabet.iloc[[25,24,21]]"
   ]
  },
  {
   "cell_type": "code",
   "execution_count": 20,
   "metadata": {},
   "outputs": [
    {
     "data": {
      "text/plain": [
       "Label\n",
       "Label_C    c\n",
       "Label_D    d\n",
       "Label_E    e\n",
       "Label_F    f\n",
       "Name: Labeled Alphabet, dtype: object"
      ]
     },
     "execution_count": 20,
     "metadata": {},
     "output_type": "execute_result"
    }
   ],
   "source": [
    "labeled_alphabet[2:6]"
   ]
  },
  {
   "cell_type": "code",
   "execution_count": 21,
   "metadata": {},
   "outputs": [
    {
     "data": {
      "text/plain": [
       "Label\n",
       "Label_I    i\n",
       "Label_H    h\n",
       "Label_G    g\n",
       "Label_F    f\n",
       "Label_E    e\n",
       "Label_D    d\n",
       "Name: Labeled Alphabet, dtype: object"
      ]
     },
     "execution_count": 21,
     "metadata": {},
     "output_type": "execute_result"
    }
   ],
   "source": [
    "labeled_alphabet[8:2:-1]"
   ]
  },
  {
   "cell_type": "code",
   "execution_count": 22,
   "metadata": {},
   "outputs": [
    {
     "data": {
      "text/plain": [
       "Label\n",
       "Label_S    s\n",
       "Label_P    p\n",
       "Label_M    m\n",
       "Label_J    j\n",
       "Label_G    g\n",
       "Name: Labeled Alphabet, dtype: object"
      ]
     },
     "execution_count": 22,
     "metadata": {},
     "output_type": "execute_result"
    }
   ],
   "source": [
    "labeled_alphabet[18:3:-3]"
   ]
  },
  {
   "cell_type": "code",
   "execution_count": 23,
   "metadata": {},
   "outputs": [
    {
     "data": {
      "text/plain": [
       "'z'"
      ]
     },
     "execution_count": 23,
     "metadata": {},
     "output_type": "execute_result"
    }
   ],
   "source": [
    "labeled_alphabet[-1]"
   ]
  },
  {
   "cell_type": "code",
   "execution_count": 25,
   "metadata": {},
   "outputs": [
    {
     "data": {
      "text/plain": [
       "Label\n",
       "Label_Z    z\n",
       "Label_Y    y\n",
       "Label_X    x\n",
       "Name: Labeled Alphabet, dtype: object"
      ]
     },
     "execution_count": 25,
     "metadata": {},
     "output_type": "execute_result"
    }
   ],
   "source": [
    "labeled_alphabet[[-1,-2,-3]]"
   ]
  },
  {
   "cell_type": "code",
   "execution_count": 26,
   "metadata": {},
   "outputs": [
    {
     "data": {
      "text/plain": [
       "Label\n",
       "Label_Z    z\n",
       "Label_Y    y\n",
       "Label_X    x\n",
       "Label_W    w\n",
       "Label_V    v\n",
       "Label_U    u\n",
       "Label_T    t\n",
       "Label_S    s\n",
       "Label_R    r\n",
       "Label_Q    q\n",
       "Label_P    p\n",
       "Label_O    o\n",
       "Label_N    n\n",
       "Label_M    m\n",
       "Label_L    l\n",
       "Label_K    k\n",
       "Label_J    j\n",
       "Label_I    i\n",
       "Label_H    h\n",
       "Label_G    g\n",
       "Label_F    f\n",
       "Label_E    e\n",
       "Label_D    d\n",
       "Label_C    c\n",
       "Label_B    b\n",
       "Label_A    a\n",
       "Name: Labeled Alphabet, dtype: object"
      ]
     },
     "execution_count": 26,
     "metadata": {},
     "output_type": "execute_result"
    }
   ],
   "source": [
    "labeled_alphabet[::-1]"
   ]
  },
  {
   "cell_type": "code",
   "execution_count": null,
   "metadata": {},
   "outputs": [],
   "source": []
  }
 ],
 "metadata": {
  "kernelspec": {
   "display_name": "Python 3.10.5 64-bit",
   "language": "python",
   "name": "python3"
  },
  "language_info": {
   "codemirror_mode": {
    "name": "ipython",
    "version": 3
   },
   "file_extension": ".py",
   "mimetype": "text/x-python",
   "name": "python",
   "nbconvert_exporter": "python",
   "pygments_lexer": "ipython3",
   "version": "3.10.5"
  },
  "orig_nbformat": 4,
  "vscode": {
   "interpreter": {
    "hash": "722b6f501d3291d098eeb116c55030d7476387c4156a20534e17b28f07582bab"
   }
  }
 },
 "nbformat": 4,
 "nbformat_minor": 2
}
